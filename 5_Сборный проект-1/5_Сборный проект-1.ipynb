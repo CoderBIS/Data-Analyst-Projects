{
 "cells": [
  {
   "cell_type": "markdown",
   "metadata": {},
   "source": [
    "# Антон, привет! 👋\n",
    "\n",
    "Меня зовут Артем Пиляй. Я буду проверять твой проект. В рамках корпоративной этики мы общаемся на «ты». Но если лучше на «Вы», то нужно обозначить это сразу.\n",
    " \n",
    "В тетрадке есть комментарии к проекту, они будут в отдельных ячейках Markdown.\n",
    " \n",
    "<div class=\"alert alert-danger\">\n",
    "\n",
    "**Артём:** ✋ Такой комментарий **нужно исправить** обязательно, он критически влияет на удачное выполнение проекта.\n",
    "\n",
    "</div>\n",
    "\n",
    "<div class=\"alert alert-warning\">\n",
    "\n",
    "**Артём:** 👉 Если таких комментариев в проекте **не больше трех**, то проект будет принят. Но есть два исключения, при которых я приму проект с любым количеством таких комментариев:\n",
    "    \n",
    "* если у тебя дедлайн, тогда оставь в начале 👆 проекта комментарий «Дедлайн, специальность (DA/DS/DA+/DS+), и номер когорты»;\n",
    "* если ты считаешь, что для успешного трудоустройства и для успешной работы в команде тебе это не нужно, тогда оставь в начале проекта комментарий «Не нужно».\n",
    "</div>\n",
    "\n",
    "<div class=\"alert alert-success\">\n",
    "\n",
    "**Артём:** 👍 А это **самый главный комментарий**, значит все сделано хорошо. 😉\n",
    "\n",
    "</div>\n",
    "\n",
    "<div class=\"alert alert-info\">\n",
    "\n",
    "**Артём:** ✍️ В таких комментариях я оставляю подсказки как сделать **твой проект ещё лучше**.\n",
    "\n",
    "</div>\n",
    "\n",
    "---\n",
    "\n",
    "# Распространенные ошибки\n",
    "\n",
    "<div class=\"alert alert-danger\">\n",
    "\n",
    "**Артём:** ✋ Не перемещай и не удаляй мои комментарии. Лучше, чтобы твои ответы на мои комментарии шли по очереди, как сообщения в мессенджере. Это ускорит проверку.\n",
    "    \n",
    "</div>\n",
    "\n",
    "<div class=\"alert alert-danger\">\n",
    "\n",
    "**Артём:** ✋ Проверь проект на работоспособность перед отправкой на проверку. Это важный навык, который тебе пригодится как на собеседовании, при выполнении тестового задания, так и перед совещанием у руководства компании. Помни, ревьеры не вносят изменения в код, даже если это путь к датасету или ячейка в неверном формате (code/mardown).  \n",
    "    \n",
    "</div>\n",
    "\n",
    "<div class=\"alert alert-info\">\n",
    "\n",
    "**Артём:** ✍️ Кстати, смотри как можно сделать, чтобы датасет грузился и локально, и в JupyterHub:\n",
    "\n",
    "```py\n",
    "try:\n",
    "    df = pd.read_csv('C:/Users/Student/Desktop/dataset.csv')\n",
    "except:\n",
    "    df = pd.read_csv('/datasets/dataset.csv')\n",
    "```\n",
    "    \n",
    "Используя эту конструкцию в будущих проектах, ты будешь спокойно отправлять проект на проверку зная, что он будет работать.\n",
    "    \n",
    "</div>\n",
    "\n",
    "<div class=\"alert alert-danger\">\n",
    "\n",
    "**Артём:** ✋ Проект должен быть структурирован. Где названия разделов и подразделов будут записаны в ячейках Markdown.\n",
    "    \n",
    "</div>\n",
    "\n",
    "<div class=\"alert alert-danger\">\n",
    "\n",
    "**Артём:** ✋ Если с твоим проектом будет знакомиться другой человек, например рекрутер или старший дата специалист, в нем должны быть описаны поставленные задачи, содержание датасета, промежуточные и финальные выводы. Как правило, заказчик читает только финальный вывод, поэтому важно добавить информацию о проведенном исследовании, применить форматирование текста, в общем, сделать красиво, чтобы было понятно, что проведено настоящее исследование и выводу можно верить. \n",
    "\n",
    "</div>  \n",
    "\n",
    "<div class=\"alert alert-warning\">\n",
    "    \n",
    "**Артём:** 👉 Длинный код и комментарии нужно переносить на новую строку. Согласись, коллеги не оценят, если им придется тратить время на пролистывание ячеек. Согласно международному стандарту [PEP8](https://www.python.org/dev/peps/pep-0008/) длина строки не должна превышать 79 символов.\n",
    "Вот как можно перенести код на новую строку:\n",
    "\n",
    "```py\n",
    "# Переносить можно код внутри скобки\n",
    "example = (2 *\n",
    "           2)\n",
    "```\n",
    "Конечно, я не считаю сколько символов в строке, главное, чтобы код или комментарий не ушел за пределы ячейки (зависит от разрешения экрана). Если ушел, то это желтый комментарий для каждой нечитаемой ячейки.\n",
    "    \n",
    "</div>\n",
    "\n",
    "<div class=\"alert alert-warning\">\n",
    "    \n",
    "**Артём:** 👉 Тимлид, старший дата специалист или ревьюер ценят твое и своё время, подсвечивай свои комментарии в ячейках Markdown. Шаблон я тебе оставил ниже. Подробнее про синтаксис Markdown, с примерами, можно почитать [здесь](https://paulradzkov.com/2014/markdown_cheatsheet/?).\n",
    "    \n",
    "</div>\n",
    "\n",
    "<div class=\"alert alert-success\">\n",
    "\n",
    "**Артём:** 👍 Буду рад, если воспользуешься моими советами. Они тебе помогут при трудоустройстве и при работе в команде. Если в ходе проведения исследования возникнут вопросы, не стесняйся задавай. 🙂\n",
    "</div>\n",
    "\n",
    "# Поехали! 🚀 👨‍🚀"
   ]
  },
  {
   "cell_type": "markdown",
   "metadata": {},
   "source": [
    "<div style=\"border:solid green 2px; padding: 20px\">\n",
    "\n",
    "🧑‍🎓 **Антон:** Это шаблон для тебя. Такой комментарий можно быстро найти."
   ]
  },
  {
   "cell_type": "markdown",
   "metadata": {},
   "source": [
    "---"
   ]
  },
  {
   "cell_type": "markdown",
   "metadata": {},
   "source": [
    "<div class=\"alert alert-danger\">\n",
    "\n",
    "**Артём:** ✋ Антон, у тебя хорошая работа. Осталось исправить несколько комментариев, но думаю у тебя с этим проблем не возникнет, поскольку ты показываешь хороший уровень владения материалом. Молодец! Напомню, что 👉 желтых комментариев, должно остаться не больше трех. Критических замечаний много, но большинство из них связано с актуальным периодом.\n",
    "    \n",
    "Жду новую версию проекта. 🙂\n",
    "\n",
    "</div>"
   ]
  },
  {
   "cell_type": "markdown",
   "metadata": {},
   "source": [
    "<div style=\"border:solid green 2px; padding: 20px\">\n",
    "\n",
    "🧑‍🎓 **Антон:** Артем, привет! Большое спасибо за аргументированные и понятные замечания, а в особенности за полезные советы и подсказки. Проект вроде поправил. Надеюсь, что все правильно и понятно."
   ]
  },
  {
   "cell_type": "markdown",
   "metadata": {},
   "source": [
    "<div class=\"alert alert-danger\">\n",
    "\n",
    "**Артём:** ✋ Антон, тебе спасибо за корректировки в проекте и применение советов. Рад, что пригодились. Осталось чуть-чуть.\n",
    "    \n",
    "Жду финальную версию проекта. 🙂\n",
    "\n",
    "</div>"
   ]
  },
  {
   "cell_type": "markdown",
   "metadata": {},
   "source": [
    "<div style=\"border:solid green 2px; padding: 20px\">\n",
    "\n",
    "🧑‍🎓 **Антон:** Постарался поправить оставшиеся ошибки."
   ]
  },
  {
   "cell_type": "markdown",
   "metadata": {},
   "source": [
    "<div class=\"alert alert-success\">\n",
    "\n",
    "**Артём:** ✌️ Антон, на самом деле, ты не совсем корректно ответил на вопрос. Shooter – да, но Platform не на втором месте. Чтобы в будущем, а особенно это важно на работе, не совершать таких ошибок, лучше формируй вывод не только на основании графиков, а еще и опирайся на числа. В остальном все хорошо.\n",
    "\n",
    "Поздравляю, **проект принят!** 🥳 🎉 Ты молодец!\n",
    "\n",
    "Желаю тебе успехов в дальнейшем обучении. 😉\n",
    "\n",
    "</div>"
   ]
  },
  {
   "cell_type": "markdown",
   "metadata": {},
   "source": [
    "# Исследование и анализ данных о продаже игр.\n",
    "\n",
    "В нашем распоряжении данные открытых источников о продажах игр, оценки пользователей и экспертов, жанры и платформы (например, Xbox или PlayStation). Нам нужно выявить определяющие успешность игры закономерности. Это позволит сделать ставку на потенциально популярный продукт и спланировать рекламные кампании. \n",
    "\n",
    "Данные получаем из файла '/datasets/games.csv'. Качество данных неизвестно, поэтому перед началом выполнения основной задачи понадобится обзор данных. \n",
    "\n",
    "Необходимо проверить данные на ошибки и оценить их влияние на исследование. Затем, на этапе предобработки необходимо найти возможность исправить самые критичные ошибки данных.\n",
    " \n",
    "Таким образом, исследование и анализ пройдёт в шесть этапов:\n",
    " 1. Обзор данных.\n",
    " 2. Предобработка данных.\n",
    " 3. Проведение исследовательского анализа данных.\n",
    " 4. Составить портрет пользователя каждого региона (NA, EU, JP).\n",
    " 5. Проверить гипотезы:\n",
    "* Средние пользовательские рейтинги платформ Xbox One и PC одинаковые;\n",
    "* Средние пользовательские рейтинги жанров Action (англ. «действие», экшен-игры) и Sports (англ. «спортивные соревнования») разные.\n",
    " 6. Формирование общих выводов по результатам исследования."
   ]
  },
  {
   "cell_type": "markdown",
   "metadata": {},
   "source": [
    "<div class=\"alert alert-success\">\n",
    "\n",
    "**Артём:** 👍 Хорошо, что есть описание проекта 👆 и столбцов датасета 👇 .\n",
    "</div>"
   ]
  },
  {
   "cell_type": "markdown",
   "metadata": {},
   "source": [
    "## Откроем файлы с данными и изучим общую информацию:"
   ]
  },
  {
   "cell_type": "code",
   "execution_count": 1,
   "metadata": {},
   "outputs": [],
   "source": [
    "import pandas as pd\n",
    "\n",
    "import seaborn\n",
    "\n",
    "import matplotlib.pyplot as plt\n",
    "\n",
    "from scipy import stats as st"
   ]
  },
  {
   "cell_type": "markdown",
   "metadata": {},
   "source": [
    "<div class=\"alert alert-success\">\n",
    "\n",
    "**Артём:** 👍 Правильно, что импортируешь библиотеки в начале проекта. И делаешь импорт библиотек и загрузку датасета в разных ячейках.\n",
    "\n",
    "</div>"
   ]
  },
  {
   "cell_type": "code",
   "execution_count": 2,
   "metadata": {},
   "outputs": [],
   "source": [
    "df = pd.read_csv('/datasets/games.csv')"
   ]
  },
  {
   "cell_type": "code",
   "execution_count": 3,
   "metadata": {},
   "outputs": [
    {
     "data": {
      "text/html": [
       "<div>\n",
       "<style scoped>\n",
       "    .dataframe tbody tr th:only-of-type {\n",
       "        vertical-align: middle;\n",
       "    }\n",
       "\n",
       "    .dataframe tbody tr th {\n",
       "        vertical-align: top;\n",
       "    }\n",
       "\n",
       "    .dataframe thead th {\n",
       "        text-align: right;\n",
       "    }\n",
       "</style>\n",
       "<table border=\"1\" class=\"dataframe\">\n",
       "  <thead>\n",
       "    <tr style=\"text-align: right;\">\n",
       "      <th></th>\n",
       "      <th>Name</th>\n",
       "      <th>Platform</th>\n",
       "      <th>Year_of_Release</th>\n",
       "      <th>Genre</th>\n",
       "      <th>NA_sales</th>\n",
       "      <th>EU_sales</th>\n",
       "      <th>JP_sales</th>\n",
       "      <th>Other_sales</th>\n",
       "      <th>Critic_Score</th>\n",
       "      <th>User_Score</th>\n",
       "      <th>Rating</th>\n",
       "    </tr>\n",
       "  </thead>\n",
       "  <tbody>\n",
       "    <tr>\n",
       "      <th>0</th>\n",
       "      <td>Wii Sports</td>\n",
       "      <td>Wii</td>\n",
       "      <td>2006.0</td>\n",
       "      <td>Sports</td>\n",
       "      <td>41.36</td>\n",
       "      <td>28.96</td>\n",
       "      <td>3.77</td>\n",
       "      <td>8.45</td>\n",
       "      <td>76.0</td>\n",
       "      <td>8</td>\n",
       "      <td>E</td>\n",
       "    </tr>\n",
       "    <tr>\n",
       "      <th>1</th>\n",
       "      <td>Super Mario Bros.</td>\n",
       "      <td>NES</td>\n",
       "      <td>1985.0</td>\n",
       "      <td>Platform</td>\n",
       "      <td>29.08</td>\n",
       "      <td>3.58</td>\n",
       "      <td>6.81</td>\n",
       "      <td>0.77</td>\n",
       "      <td>NaN</td>\n",
       "      <td>NaN</td>\n",
       "      <td>NaN</td>\n",
       "    </tr>\n",
       "    <tr>\n",
       "      <th>2</th>\n",
       "      <td>Mario Kart Wii</td>\n",
       "      <td>Wii</td>\n",
       "      <td>2008.0</td>\n",
       "      <td>Racing</td>\n",
       "      <td>15.68</td>\n",
       "      <td>12.76</td>\n",
       "      <td>3.79</td>\n",
       "      <td>3.29</td>\n",
       "      <td>82.0</td>\n",
       "      <td>8.3</td>\n",
       "      <td>E</td>\n",
       "    </tr>\n",
       "    <tr>\n",
       "      <th>3</th>\n",
       "      <td>Wii Sports Resort</td>\n",
       "      <td>Wii</td>\n",
       "      <td>2009.0</td>\n",
       "      <td>Sports</td>\n",
       "      <td>15.61</td>\n",
       "      <td>10.93</td>\n",
       "      <td>3.28</td>\n",
       "      <td>2.95</td>\n",
       "      <td>80.0</td>\n",
       "      <td>8</td>\n",
       "      <td>E</td>\n",
       "    </tr>\n",
       "    <tr>\n",
       "      <th>4</th>\n",
       "      <td>Pokemon Red/Pokemon Blue</td>\n",
       "      <td>GB</td>\n",
       "      <td>1996.0</td>\n",
       "      <td>Role-Playing</td>\n",
       "      <td>11.27</td>\n",
       "      <td>8.89</td>\n",
       "      <td>10.22</td>\n",
       "      <td>1.00</td>\n",
       "      <td>NaN</td>\n",
       "      <td>NaN</td>\n",
       "      <td>NaN</td>\n",
       "    </tr>\n",
       "  </tbody>\n",
       "</table>\n",
       "</div>"
      ],
      "text/plain": [
       "                       Name Platform  Year_of_Release         Genre  NA_sales  \\\n",
       "0                Wii Sports      Wii           2006.0        Sports     41.36   \n",
       "1         Super Mario Bros.      NES           1985.0      Platform     29.08   \n",
       "2            Mario Kart Wii      Wii           2008.0        Racing     15.68   \n",
       "3         Wii Sports Resort      Wii           2009.0        Sports     15.61   \n",
       "4  Pokemon Red/Pokemon Blue       GB           1996.0  Role-Playing     11.27   \n",
       "\n",
       "   EU_sales  JP_sales  Other_sales  Critic_Score User_Score Rating  \n",
       "0     28.96      3.77         8.45          76.0          8      E  \n",
       "1      3.58      6.81         0.77           NaN        NaN    NaN  \n",
       "2     12.76      3.79         3.29          82.0        8.3      E  \n",
       "3     10.93      3.28         2.95          80.0          8      E  \n",
       "4      8.89     10.22         1.00           NaN        NaN    NaN  "
      ]
     },
     "execution_count": 3,
     "metadata": {},
     "output_type": "execute_result"
    }
   ],
   "source": [
    "df.head()"
   ]
  },
  {
   "cell_type": "code",
   "execution_count": 4,
   "metadata": {},
   "outputs": [
    {
     "name": "stdout",
     "output_type": "stream",
     "text": [
      "<class 'pandas.core.frame.DataFrame'>\n",
      "RangeIndex: 16715 entries, 0 to 16714\n",
      "Data columns (total 11 columns):\n",
      " #   Column           Non-Null Count  Dtype  \n",
      "---  ------           --------------  -----  \n",
      " 0   Name             16713 non-null  object \n",
      " 1   Platform         16715 non-null  object \n",
      " 2   Year_of_Release  16446 non-null  float64\n",
      " 3   Genre            16713 non-null  object \n",
      " 4   NA_sales         16715 non-null  float64\n",
      " 5   EU_sales         16715 non-null  float64\n",
      " 6   JP_sales         16715 non-null  float64\n",
      " 7   Other_sales      16715 non-null  float64\n",
      " 8   Critic_Score     8137 non-null   float64\n",
      " 9   User_Score       10014 non-null  object \n",
      " 10  Rating           9949 non-null   object \n",
      "dtypes: float64(6), object(5)\n",
      "memory usage: 1.4+ MB\n"
     ]
    },
    {
     "data": {
      "text/html": [
       "<div>\n",
       "<style scoped>\n",
       "    .dataframe tbody tr th:only-of-type {\n",
       "        vertical-align: middle;\n",
       "    }\n",
       "\n",
       "    .dataframe tbody tr th {\n",
       "        vertical-align: top;\n",
       "    }\n",
       "\n",
       "    .dataframe thead th {\n",
       "        text-align: right;\n",
       "    }\n",
       "</style>\n",
       "<table border=\"1\" class=\"dataframe\">\n",
       "  <thead>\n",
       "    <tr style=\"text-align: right;\">\n",
       "      <th></th>\n",
       "      <th>Year_of_Release</th>\n",
       "      <th>NA_sales</th>\n",
       "      <th>EU_sales</th>\n",
       "      <th>JP_sales</th>\n",
       "      <th>Other_sales</th>\n",
       "      <th>Critic_Score</th>\n",
       "    </tr>\n",
       "  </thead>\n",
       "  <tbody>\n",
       "    <tr>\n",
       "      <th>count</th>\n",
       "      <td>16446.000000</td>\n",
       "      <td>16715.000000</td>\n",
       "      <td>16715.000000</td>\n",
       "      <td>16715.000000</td>\n",
       "      <td>16715.000000</td>\n",
       "      <td>8137.000000</td>\n",
       "    </tr>\n",
       "    <tr>\n",
       "      <th>mean</th>\n",
       "      <td>2006.484616</td>\n",
       "      <td>0.263377</td>\n",
       "      <td>0.145060</td>\n",
       "      <td>0.077617</td>\n",
       "      <td>0.047342</td>\n",
       "      <td>68.967679</td>\n",
       "    </tr>\n",
       "    <tr>\n",
       "      <th>std</th>\n",
       "      <td>5.877050</td>\n",
       "      <td>0.813604</td>\n",
       "      <td>0.503339</td>\n",
       "      <td>0.308853</td>\n",
       "      <td>0.186731</td>\n",
       "      <td>13.938165</td>\n",
       "    </tr>\n",
       "    <tr>\n",
       "      <th>min</th>\n",
       "      <td>1980.000000</td>\n",
       "      <td>0.000000</td>\n",
       "      <td>0.000000</td>\n",
       "      <td>0.000000</td>\n",
       "      <td>0.000000</td>\n",
       "      <td>13.000000</td>\n",
       "    </tr>\n",
       "    <tr>\n",
       "      <th>25%</th>\n",
       "      <td>2003.000000</td>\n",
       "      <td>0.000000</td>\n",
       "      <td>0.000000</td>\n",
       "      <td>0.000000</td>\n",
       "      <td>0.000000</td>\n",
       "      <td>60.000000</td>\n",
       "    </tr>\n",
       "    <tr>\n",
       "      <th>50%</th>\n",
       "      <td>2007.000000</td>\n",
       "      <td>0.080000</td>\n",
       "      <td>0.020000</td>\n",
       "      <td>0.000000</td>\n",
       "      <td>0.010000</td>\n",
       "      <td>71.000000</td>\n",
       "    </tr>\n",
       "    <tr>\n",
       "      <th>75%</th>\n",
       "      <td>2010.000000</td>\n",
       "      <td>0.240000</td>\n",
       "      <td>0.110000</td>\n",
       "      <td>0.040000</td>\n",
       "      <td>0.030000</td>\n",
       "      <td>79.000000</td>\n",
       "    </tr>\n",
       "    <tr>\n",
       "      <th>max</th>\n",
       "      <td>2016.000000</td>\n",
       "      <td>41.360000</td>\n",
       "      <td>28.960000</td>\n",
       "      <td>10.220000</td>\n",
       "      <td>10.570000</td>\n",
       "      <td>98.000000</td>\n",
       "    </tr>\n",
       "  </tbody>\n",
       "</table>\n",
       "</div>"
      ],
      "text/plain": [
       "       Year_of_Release      NA_sales      EU_sales      JP_sales  \\\n",
       "count     16446.000000  16715.000000  16715.000000  16715.000000   \n",
       "mean       2006.484616      0.263377      0.145060      0.077617   \n",
       "std           5.877050      0.813604      0.503339      0.308853   \n",
       "min        1980.000000      0.000000      0.000000      0.000000   \n",
       "25%        2003.000000      0.000000      0.000000      0.000000   \n",
       "50%        2007.000000      0.080000      0.020000      0.000000   \n",
       "75%        2010.000000      0.240000      0.110000      0.040000   \n",
       "max        2016.000000     41.360000     28.960000     10.220000   \n",
       "\n",
       "        Other_sales  Critic_Score  \n",
       "count  16715.000000   8137.000000  \n",
       "mean       0.047342     68.967679  \n",
       "std        0.186731     13.938165  \n",
       "min        0.000000     13.000000  \n",
       "25%        0.000000     60.000000  \n",
       "50%        0.010000     71.000000  \n",
       "75%        0.030000     79.000000  \n",
       "max       10.570000     98.000000  "
      ]
     },
     "execution_count": 4,
     "metadata": {},
     "output_type": "execute_result"
    }
   ],
   "source": [
    "df.info()\n",
    "df.describe()"
   ]
  },
  {
   "cell_type": "markdown",
   "metadata": {},
   "source": [
    "Итак, в таблице 11 столбцов двух типов данных (float64 и object).\n",
    "\n",
    "Согласно документации к данным:\n",
    "- Name — название игры\n",
    "- Platform — платформа\n",
    "- Year_of_Release — год выпуска\n",
    "- Genre — жанр игры\n",
    "- NA_sales — продажи в Северной Америке (миллионы проданных копий)\n",
    "- EU_sales — продажи в Европе (миллионы проданных копий)\n",
    "- JP_sales — продажи в Японии (миллионы проданных копий)\n",
    "- Other_sales — продажи в других странах (миллионы проданных копий)\n",
    "- Critic_Score — оценка критиков (максимум 100)\n",
    "- User_Score — оценка пользователей (максимум 10)\n",
    "- Rating — рейтинг от организации ESRB (англ. Entertainment Software Rating Board). Эта ассоциация определяет рейтинг компьютерных игр и присваивает им подходящую возрастную категорию"
   ]
  },
  {
   "cell_type": "markdown",
   "metadata": {},
   "source": [
    "Проверим столбцы Platform, Genre и Rating на уникальность значений для поиска ошибок:"
   ]
  },
  {
   "cell_type": "code",
   "execution_count": 5,
   "metadata": {
    "scrolled": true
   },
   "outputs": [
    {
     "name": "stdout",
     "output_type": "stream",
     "text": [
      "PS2     2161\n",
      "DS      2151\n",
      "PS3     1331\n",
      "Wii     1320\n",
      "X360    1262\n",
      "PSP     1209\n",
      "PS      1197\n",
      "PC       974\n",
      "XB       824\n",
      "GBA      822\n",
      "GC       556\n",
      "3DS      520\n",
      "PSV      430\n",
      "PS4      392\n",
      "N64      319\n",
      "XOne     247\n",
      "SNES     239\n",
      "SAT      173\n",
      "WiiU     147\n",
      "2600     133\n",
      "GB        98\n",
      "NES       98\n",
      "DC        52\n",
      "GEN       29\n",
      "NG        12\n",
      "WS         6\n",
      "SCD        6\n",
      "3DO        3\n",
      "TG16       2\n",
      "PCFX       1\n",
      "GG         1\n",
      "Name: Platform, dtype: int64\n",
      "\n",
      "Action          3369\n",
      "Sports          2348\n",
      "Misc            1750\n",
      "Role-Playing    1498\n",
      "Shooter         1323\n",
      "Adventure       1303\n",
      "Racing          1249\n",
      "Platform         888\n",
      "Simulation       873\n",
      "Fighting         849\n",
      "Strategy         683\n",
      "Puzzle           580\n",
      "Name: Genre, dtype: int64\n",
      "\n",
      "E       3990\n",
      "T       2961\n",
      "M       1563\n",
      "E10+    1420\n",
      "EC         8\n",
      "RP         3\n",
      "K-A        3\n",
      "AO         1\n",
      "Name: Rating, dtype: int64\n",
      "\n"
     ]
    }
   ],
   "source": [
    "examination_columns = ['Platform', 'Genre', 'Rating']\n",
    "for column in examination_columns:\n",
    "    print(df[column].value_counts())\n",
    "    print()"
   ]
  },
  {
   "cell_type": "markdown",
   "metadata": {},
   "source": [
    "**Вывод:**\n",
    "\n",
    "В каждой строке таблицы — данные о игре. Часть колонок описывает игру: название, жанр, год релиза, платформа. Остальные данные рассказывают о рейтинге и продажах игры в разных регионах.\n",
    "\n",
    "Предварительно можно утверждать, что данных достаточно для работы. Но встречаются пропуски в данных (количество значений в колонках различается), а названия колонок недостаточно информативны / недостаточно корректны.\n",
    "\n",
    "Чтобы двигаться дальше, нужно устранить проблемы в данных."
   ]
  },
  {
   "cell_type": "markdown",
   "metadata": {},
   "source": [
    "<div class=\"alert alert-success\">\n",
    "\n",
    "**Артём:** 👍 Хорошо.\n",
    "\n",
    "</div>"
   ]
  },
  {
   "cell_type": "markdown",
   "metadata": {},
   "source": [
    "## Предобработка данных:"
   ]
  },
  {
   "cell_type": "markdown",
   "metadata": {},
   "source": [
    "**Предобработку разделяем на следующие основные действия:**\n",
    "- необходимо переименовать столбцы для удобства в работе;\n",
    "- проверить пропуски методом .isna();\n",
    "- посчитать обнаруженные пропуски;\n",
    "- понять, как пропуски могут быть заполнены;\n",
    "- заполнить пропуски и проверить заполнение;\n",
    "- проверить данные на дубликаты."
   ]
  },
  {
   "cell_type": "markdown",
   "metadata": {},
   "source": [
    "<div class=\"alert alert-success\">\n",
    "\n",
    "**Артём:** 👍 Здорово, что есть план действий.\n",
    "\n",
    "</div>"
   ]
  },
  {
   "cell_type": "markdown",
   "metadata": {},
   "source": [
    "### Переименование заголовков (измененеие регистра):"
   ]
  },
  {
   "cell_type": "code",
   "execution_count": 6,
   "metadata": {
    "scrolled": true
   },
   "outputs": [
    {
     "data": {
      "text/plain": [
       "Index(['name', 'platform', 'year_of_release', 'genre', 'na_sales', 'eu_sales',\n",
       "       'jp_sales', 'other_sales', 'critic_score', 'user_score', 'rating'],\n",
       "      dtype='object')"
      ]
     },
     "execution_count": 6,
     "metadata": {},
     "output_type": "execute_result"
    }
   ],
   "source": [
    "df.columns = df.columns.str.lower()\n",
    "\n",
    "df.columns"
   ]
  },
  {
   "cell_type": "markdown",
   "metadata": {},
   "source": [
    "<div class=\"alert alert-info\">\n",
    "\n",
    "**Артём:** ✍️ Есть способ проще:\n",
    "        \n",
    "```py\n",
    "df.columns = df.columns.str.lower()\n",
    "```\n",
    "\n",
    "</div>"
   ]
  },
  {
   "cell_type": "markdown",
   "metadata": {},
   "source": [
    "<div class=\"alert alert-warning\">\n",
    "    \n",
    "**Артём:** 👉 Код ушел за пределы ячейки.\n",
    "    \n",
    "</div>"
   ]
  },
  {
   "cell_type": "markdown",
   "metadata": {},
   "source": [
    "<div style=\"border:solid green 2px; padding: 20px\">\n",
    "\n",
    "🧑‍🎓 **Антон:** Точно, я забыл про этот метод, спасибо за подсказку! Исправил."
   ]
  },
  {
   "cell_type": "markdown",
   "metadata": {},
   "source": [
    "<div class=\"alert alert-success\">\n",
    "\n",
    "**Артём:** 👍👍 Здорово, что воспользовался.\n",
    "\n",
    "</div>"
   ]
  },
  {
   "cell_type": "markdown",
   "metadata": {},
   "source": [
    "### Обработка пропусков:"
   ]
  },
  {
   "cell_type": "markdown",
   "metadata": {},
   "source": [
    "Подсчитаем пропуски в каждом столбце, где они имеются:"
   ]
  },
  {
   "cell_type": "code",
   "execution_count": 7,
   "metadata": {
    "scrolled": true
   },
   "outputs": [
    {
     "name": "stdout",
     "output_type": "stream",
     "text": [
      "1 В столбце name - 2 пропусков.\n",
      "2 В столбце year_of_release - 269 пропусков.\n",
      "3 В столбце genre - 2 пропусков.\n",
      "4 В столбце critic_score - 8578 пропусков.\n",
      "5 В столбце user_score - 6701 пропусков.\n",
      "6 В столбце rating - 6766 пропусков.\n"
     ]
    }
   ],
   "source": [
    "number_empty_column = 0\n",
    "for column in df.columns:\n",
    "    if (len(df[df[column].isna()])) != 0:\n",
    "        number_empty_column = number_empty_column + 1\n",
    "        print(f'{number_empty_column} В столбце {column} - {len(df[df[column].isna()])} пропусков.')"
   ]
  },
  {
   "cell_type": "markdown",
   "metadata": {},
   "source": [
    "<div class=\"alert alert-success\">\n",
    "\n",
    "**Артём:** 👍 Автоматизация - это хорошо.\n",
    "\n",
    "</div>"
   ]
  },
  {
   "cell_type": "markdown",
   "metadata": {},
   "source": [
    "**Примечание:** В таблице имеется 6 столбцов с пропусками.\n",
    "* Столбецы name, genre и rating можно заполнить соответствующим значением unknown.\n",
    "* Столбец year_of_release можно заполнить средним годом релиза в соответствии с платформой игры (категориально).\n",
    "* Столбцы critic_score и user_score имеют большое количество пропусков, для начала просмотрим строки и решим."
   ]
  },
  {
   "cell_type": "markdown",
   "metadata": {},
   "source": [
    "<div class=\"alert alert-success\">\n",
    "\n",
    "**Артём:** 👍 Два пропущенных значения, проще удалить. Год релиза, менне 1.7%, тоже можно удалить.\n",
    "\n",
    "</div>"
   ]
  },
  {
   "cell_type": "markdown",
   "metadata": {},
   "source": [
    "**Комментарий от студента:**\n",
    "\n",
    "Хорошо, в следующий раз учту. На курсе столкнулся с тем, что наставники/ревьюеры и все остальные расходятся во мнении по поводу удаления строк. Распространено мнение, что строки лучше оставлять, если есть возможность (даже если их всего 2)."
   ]
  },
  {
   "cell_type": "code",
   "execution_count": 8,
   "metadata": {},
   "outputs": [],
   "source": [
    "df.loc[df['name'].isna(), 'name'] = 'unknown'\n",
    "df.loc[df['genre'].isna(), 'genre'] = 'unknown'\n",
    "df.loc[df['rating'].isna(), 'rating'] = 'unknown'"
   ]
  },
  {
   "cell_type": "markdown",
   "metadata": {},
   "source": [
    "Напишем функцию для заполнения средним значением пропусков в столбце с годом релиза в соответствии с платформой игры и преобразуем значения в целочисленные:"
   ]
  },
  {
   "cell_type": "code",
   "execution_count": 9,
   "metadata": {},
   "outputs": [],
   "source": [
    "empty_df = df[df['year_of_release'].isna()]\n",
    "def fill_empty_years(df):\n",
    "    for platform in df['platform'].unique():\n",
    "        platform_df = df[df['platform'] == platform]\n",
    "        median = platform_df['year_of_release'].median()\n",
    "        empty_df.loc[empty_df['platform'] == platform, 'year_of_release'] = median\n",
    "    return empty_df"
   ]
  },
  {
   "cell_type": "code",
   "execution_count": 10,
   "metadata": {
    "scrolled": false
   },
   "outputs": [
    {
     "data": {
      "text/html": [
       "<div>\n",
       "<style scoped>\n",
       "    .dataframe tbody tr th:only-of-type {\n",
       "        vertical-align: middle;\n",
       "    }\n",
       "\n",
       "    .dataframe tbody tr th {\n",
       "        vertical-align: top;\n",
       "    }\n",
       "\n",
       "    .dataframe thead th {\n",
       "        text-align: right;\n",
       "    }\n",
       "</style>\n",
       "<table border=\"1\" class=\"dataframe\">\n",
       "  <thead>\n",
       "    <tr style=\"text-align: right;\">\n",
       "      <th></th>\n",
       "      <th>name</th>\n",
       "      <th>platform</th>\n",
       "      <th>year_of_release</th>\n",
       "      <th>genre</th>\n",
       "      <th>na_sales</th>\n",
       "      <th>eu_sales</th>\n",
       "      <th>jp_sales</th>\n",
       "      <th>other_sales</th>\n",
       "      <th>critic_score</th>\n",
       "      <th>user_score</th>\n",
       "      <th>rating</th>\n",
       "    </tr>\n",
       "  </thead>\n",
       "  <tbody>\n",
       "    <tr>\n",
       "      <th>183</th>\n",
       "      <td>Madden NFL 2004</td>\n",
       "      <td>PS2</td>\n",
       "      <td>2005.0</td>\n",
       "      <td>Sports</td>\n",
       "      <td>4.26</td>\n",
       "      <td>0.26</td>\n",
       "      <td>0.01</td>\n",
       "      <td>0.71</td>\n",
       "      <td>94.0</td>\n",
       "      <td>8.5</td>\n",
       "      <td>E</td>\n",
       "    </tr>\n",
       "    <tr>\n",
       "      <th>377</th>\n",
       "      <td>FIFA Soccer 2004</td>\n",
       "      <td>PS2</td>\n",
       "      <td>2005.0</td>\n",
       "      <td>Sports</td>\n",
       "      <td>0.59</td>\n",
       "      <td>2.36</td>\n",
       "      <td>0.04</td>\n",
       "      <td>0.51</td>\n",
       "      <td>84.0</td>\n",
       "      <td>6.4</td>\n",
       "      <td>E</td>\n",
       "    </tr>\n",
       "    <tr>\n",
       "      <th>456</th>\n",
       "      <td>LEGO Batman: The Videogame</td>\n",
       "      <td>Wii</td>\n",
       "      <td>2009.0</td>\n",
       "      <td>Action</td>\n",
       "      <td>1.80</td>\n",
       "      <td>0.97</td>\n",
       "      <td>0.00</td>\n",
       "      <td>0.29</td>\n",
       "      <td>74.0</td>\n",
       "      <td>7.9</td>\n",
       "      <td>E10+</td>\n",
       "    </tr>\n",
       "    <tr>\n",
       "      <th>475</th>\n",
       "      <td>wwe Smackdown vs. Raw 2006</td>\n",
       "      <td>PS2</td>\n",
       "      <td>2005.0</td>\n",
       "      <td>Fighting</td>\n",
       "      <td>1.57</td>\n",
       "      <td>1.02</td>\n",
       "      <td>0.00</td>\n",
       "      <td>0.41</td>\n",
       "      <td>NaN</td>\n",
       "      <td>NaN</td>\n",
       "      <td>unknown</td>\n",
       "    </tr>\n",
       "    <tr>\n",
       "      <th>609</th>\n",
       "      <td>Space Invaders</td>\n",
       "      <td>2600</td>\n",
       "      <td>1982.0</td>\n",
       "      <td>Shooter</td>\n",
       "      <td>2.36</td>\n",
       "      <td>0.14</td>\n",
       "      <td>0.00</td>\n",
       "      <td>0.03</td>\n",
       "      <td>NaN</td>\n",
       "      <td>NaN</td>\n",
       "      <td>unknown</td>\n",
       "    </tr>\n",
       "    <tr>\n",
       "      <th>...</th>\n",
       "      <td>...</td>\n",
       "      <td>...</td>\n",
       "      <td>...</td>\n",
       "      <td>...</td>\n",
       "      <td>...</td>\n",
       "      <td>...</td>\n",
       "      <td>...</td>\n",
       "      <td>...</td>\n",
       "      <td>...</td>\n",
       "      <td>...</td>\n",
       "      <td>...</td>\n",
       "    </tr>\n",
       "    <tr>\n",
       "      <th>16373</th>\n",
       "      <td>PDC World Championship Darts 2008</td>\n",
       "      <td>PSP</td>\n",
       "      <td>2009.0</td>\n",
       "      <td>Sports</td>\n",
       "      <td>0.01</td>\n",
       "      <td>0.00</td>\n",
       "      <td>0.00</td>\n",
       "      <td>0.00</td>\n",
       "      <td>43.0</td>\n",
       "      <td>tbd</td>\n",
       "      <td>E10+</td>\n",
       "    </tr>\n",
       "    <tr>\n",
       "      <th>16405</th>\n",
       "      <td>Freaky Flyers</td>\n",
       "      <td>GC</td>\n",
       "      <td>2003.0</td>\n",
       "      <td>Racing</td>\n",
       "      <td>0.01</td>\n",
       "      <td>0.00</td>\n",
       "      <td>0.00</td>\n",
       "      <td>0.00</td>\n",
       "      <td>69.0</td>\n",
       "      <td>6.5</td>\n",
       "      <td>T</td>\n",
       "    </tr>\n",
       "    <tr>\n",
       "      <th>16448</th>\n",
       "      <td>Inversion</td>\n",
       "      <td>PC</td>\n",
       "      <td>2010.0</td>\n",
       "      <td>Shooter</td>\n",
       "      <td>0.01</td>\n",
       "      <td>0.00</td>\n",
       "      <td>0.00</td>\n",
       "      <td>0.00</td>\n",
       "      <td>59.0</td>\n",
       "      <td>6.7</td>\n",
       "      <td>M</td>\n",
       "    </tr>\n",
       "    <tr>\n",
       "      <th>16458</th>\n",
       "      <td>Hakuouki: Shinsengumi Kitan</td>\n",
       "      <td>PS3</td>\n",
       "      <td>2011.0</td>\n",
       "      <td>Adventure</td>\n",
       "      <td>0.01</td>\n",
       "      <td>0.00</td>\n",
       "      <td>0.00</td>\n",
       "      <td>0.00</td>\n",
       "      <td>NaN</td>\n",
       "      <td>NaN</td>\n",
       "      <td>unknown</td>\n",
       "    </tr>\n",
       "    <tr>\n",
       "      <th>16522</th>\n",
       "      <td>Virtua Quest</td>\n",
       "      <td>GC</td>\n",
       "      <td>2003.0</td>\n",
       "      <td>Role-Playing</td>\n",
       "      <td>0.01</td>\n",
       "      <td>0.00</td>\n",
       "      <td>0.00</td>\n",
       "      <td>0.00</td>\n",
       "      <td>55.0</td>\n",
       "      <td>5.5</td>\n",
       "      <td>T</td>\n",
       "    </tr>\n",
       "  </tbody>\n",
       "</table>\n",
       "<p>269 rows × 11 columns</p>\n",
       "</div>"
      ],
      "text/plain": [
       "                                    name platform  year_of_release  \\\n",
       "183                      Madden NFL 2004      PS2           2005.0   \n",
       "377                     FIFA Soccer 2004      PS2           2005.0   \n",
       "456           LEGO Batman: The Videogame      Wii           2009.0   \n",
       "475           wwe Smackdown vs. Raw 2006      PS2           2005.0   \n",
       "609                       Space Invaders     2600           1982.0   \n",
       "...                                  ...      ...              ...   \n",
       "16373  PDC World Championship Darts 2008      PSP           2009.0   \n",
       "16405                      Freaky Flyers       GC           2003.0   \n",
       "16448                          Inversion       PC           2010.0   \n",
       "16458        Hakuouki: Shinsengumi Kitan      PS3           2011.0   \n",
       "16522                       Virtua Quest       GC           2003.0   \n",
       "\n",
       "              genre  na_sales  eu_sales  jp_sales  other_sales  critic_score  \\\n",
       "183          Sports      4.26      0.26      0.01         0.71          94.0   \n",
       "377          Sports      0.59      2.36      0.04         0.51          84.0   \n",
       "456          Action      1.80      0.97      0.00         0.29          74.0   \n",
       "475        Fighting      1.57      1.02      0.00         0.41           NaN   \n",
       "609         Shooter      2.36      0.14      0.00         0.03           NaN   \n",
       "...             ...       ...       ...       ...          ...           ...   \n",
       "16373        Sports      0.01      0.00      0.00         0.00          43.0   \n",
       "16405        Racing      0.01      0.00      0.00         0.00          69.0   \n",
       "16448       Shooter      0.01      0.00      0.00         0.00          59.0   \n",
       "16458     Adventure      0.01      0.00      0.00         0.00           NaN   \n",
       "16522  Role-Playing      0.01      0.00      0.00         0.00          55.0   \n",
       "\n",
       "      user_score   rating  \n",
       "183          8.5        E  \n",
       "377          6.4        E  \n",
       "456          7.9     E10+  \n",
       "475          NaN  unknown  \n",
       "609          NaN  unknown  \n",
       "...          ...      ...  \n",
       "16373        tbd     E10+  \n",
       "16405        6.5        T  \n",
       "16448        6.7        M  \n",
       "16458        NaN  unknown  \n",
       "16522        5.5        T  \n",
       "\n",
       "[269 rows x 11 columns]"
      ]
     },
     "execution_count": 10,
     "metadata": {},
     "output_type": "execute_result"
    }
   ],
   "source": [
    "pd.options.mode.chained_assignment = None\n",
    "\n",
    "fill_empty_years(df)"
   ]
  },
  {
   "cell_type": "code",
   "execution_count": 11,
   "metadata": {},
   "outputs": [],
   "source": [
    "df[df['year_of_release'].isna()] = empty_df\n",
    "df['year_of_release'] = df['year_of_release'].astype('int')"
   ]
  },
  {
   "cell_type": "code",
   "execution_count": 12,
   "metadata": {
    "scrolled": false
   },
   "outputs": [
    {
     "name": "stdout",
     "output_type": "stream",
     "text": [
      "<class 'pandas.core.frame.DataFrame'>\n",
      "RangeIndex: 16715 entries, 0 to 16714\n",
      "Data columns (total 11 columns):\n",
      " #   Column           Non-Null Count  Dtype  \n",
      "---  ------           --------------  -----  \n",
      " 0   name             16715 non-null  object \n",
      " 1   platform         16715 non-null  object \n",
      " 2   year_of_release  16715 non-null  int64  \n",
      " 3   genre            16715 non-null  object \n",
      " 4   na_sales         16715 non-null  float64\n",
      " 5   eu_sales         16715 non-null  float64\n",
      " 6   jp_sales         16715 non-null  float64\n",
      " 7   other_sales      16715 non-null  float64\n",
      " 8   critic_score     8137 non-null   float64\n",
      " 9   user_score       10014 non-null  object \n",
      " 10  rating           16715 non-null  object \n",
      "dtypes: float64(5), int64(1), object(5)\n",
      "memory usage: 1.4+ MB\n"
     ]
    }
   ],
   "source": [
    "df.info()"
   ]
  },
  {
   "cell_type": "markdown",
   "metadata": {},
   "source": [
    "Данные в столбце user_score указаны как object, хотя должны быть числовые значения, проверим:"
   ]
  },
  {
   "cell_type": "code",
   "execution_count": 13,
   "metadata": {},
   "outputs": [
    {
     "data": {
      "text/plain": [
       "array(['8', nan, '8.3', '8.5', '6.6', '8.4', '8.6', '7.7', '6.3', '7.4',\n",
       "       '8.2', '9', '7.9', '8.1', '8.7', '7.1', '3.4', '5.3', '4.8', '3.2',\n",
       "       '8.9', '6.4', '7.8', '7.5', '2.6', '7.2', '9.2', '7', '7.3', '4.3',\n",
       "       '7.6', '5.7', '5', '9.1', '6.5', 'tbd', '8.8', '6.9', '9.4', '6.8',\n",
       "       '6.1', '6.7', '5.4', '4', '4.9', '4.5', '9.3', '6.2', '4.2', '6',\n",
       "       '3.7', '4.1', '5.8', '5.6', '5.5', '4.4', '4.6', '5.9', '3.9',\n",
       "       '3.1', '2.9', '5.2', '3.3', '4.7', '5.1', '3.5', '2.5', '1.9', '3',\n",
       "       '2.7', '2.2', '2', '9.5', '2.1', '3.6', '2.8', '1.8', '3.8', '0',\n",
       "       '1.6', '9.6', '2.4', '1.7', '1.1', '0.3', '1.5', '0.7', '1.2',\n",
       "       '2.3', '0.5', '1.3', '0.2', '0.6', '1.4', '0.9', '1', '9.7'],\n",
       "      dtype=object)"
      ]
     },
     "execution_count": 13,
     "metadata": {},
     "output_type": "execute_result"
    }
   ],
   "source": [
    "df['user_score'].unique()"
   ]
  },
  {
   "cell_type": "code",
   "execution_count": 14,
   "metadata": {
    "scrolled": false
   },
   "outputs": [
    {
     "data": {
      "text/html": [
       "<div>\n",
       "<style scoped>\n",
       "    .dataframe tbody tr th:only-of-type {\n",
       "        vertical-align: middle;\n",
       "    }\n",
       "\n",
       "    .dataframe tbody tr th {\n",
       "        vertical-align: top;\n",
       "    }\n",
       "\n",
       "    .dataframe thead th {\n",
       "        text-align: right;\n",
       "    }\n",
       "</style>\n",
       "<table border=\"1\" class=\"dataframe\">\n",
       "  <thead>\n",
       "    <tr style=\"text-align: right;\">\n",
       "      <th></th>\n",
       "      <th>name</th>\n",
       "      <th>platform</th>\n",
       "      <th>year_of_release</th>\n",
       "      <th>genre</th>\n",
       "      <th>na_sales</th>\n",
       "      <th>eu_sales</th>\n",
       "      <th>jp_sales</th>\n",
       "      <th>other_sales</th>\n",
       "      <th>critic_score</th>\n",
       "      <th>user_score</th>\n",
       "      <th>rating</th>\n",
       "    </tr>\n",
       "  </thead>\n",
       "  <tbody>\n",
       "    <tr>\n",
       "      <th>119</th>\n",
       "      <td>Zumba Fitness</td>\n",
       "      <td>Wii</td>\n",
       "      <td>2010</td>\n",
       "      <td>Sports</td>\n",
       "      <td>3.45</td>\n",
       "      <td>2.59</td>\n",
       "      <td>0.0</td>\n",
       "      <td>0.66</td>\n",
       "      <td>NaN</td>\n",
       "      <td>tbd</td>\n",
       "      <td>E</td>\n",
       "    </tr>\n",
       "    <tr>\n",
       "      <th>301</th>\n",
       "      <td>Namco Museum: 50th Anniversary</td>\n",
       "      <td>PS2</td>\n",
       "      <td>2005</td>\n",
       "      <td>Misc</td>\n",
       "      <td>2.08</td>\n",
       "      <td>1.35</td>\n",
       "      <td>0.0</td>\n",
       "      <td>0.54</td>\n",
       "      <td>61.0</td>\n",
       "      <td>tbd</td>\n",
       "      <td>E10+</td>\n",
       "    </tr>\n",
       "    <tr>\n",
       "      <th>520</th>\n",
       "      <td>Zumba Fitness 2</td>\n",
       "      <td>Wii</td>\n",
       "      <td>2011</td>\n",
       "      <td>Sports</td>\n",
       "      <td>1.51</td>\n",
       "      <td>1.03</td>\n",
       "      <td>0.0</td>\n",
       "      <td>0.27</td>\n",
       "      <td>NaN</td>\n",
       "      <td>tbd</td>\n",
       "      <td>T</td>\n",
       "    </tr>\n",
       "    <tr>\n",
       "      <th>645</th>\n",
       "      <td>uDraw Studio</td>\n",
       "      <td>Wii</td>\n",
       "      <td>2010</td>\n",
       "      <td>Misc</td>\n",
       "      <td>1.65</td>\n",
       "      <td>0.57</td>\n",
       "      <td>0.0</td>\n",
       "      <td>0.20</td>\n",
       "      <td>71.0</td>\n",
       "      <td>tbd</td>\n",
       "      <td>E</td>\n",
       "    </tr>\n",
       "    <tr>\n",
       "      <th>657</th>\n",
       "      <td>Frogger's Adventures: Temple of the Frog</td>\n",
       "      <td>GBA</td>\n",
       "      <td>2003</td>\n",
       "      <td>Adventure</td>\n",
       "      <td>2.15</td>\n",
       "      <td>0.18</td>\n",
       "      <td>0.0</td>\n",
       "      <td>0.07</td>\n",
       "      <td>73.0</td>\n",
       "      <td>tbd</td>\n",
       "      <td>E</td>\n",
       "    </tr>\n",
       "    <tr>\n",
       "      <th>...</th>\n",
       "      <td>...</td>\n",
       "      <td>...</td>\n",
       "      <td>...</td>\n",
       "      <td>...</td>\n",
       "      <td>...</td>\n",
       "      <td>...</td>\n",
       "      <td>...</td>\n",
       "      <td>...</td>\n",
       "      <td>...</td>\n",
       "      <td>...</td>\n",
       "      <td>...</td>\n",
       "    </tr>\n",
       "    <tr>\n",
       "      <th>16695</th>\n",
       "      <td>Planet Monsters</td>\n",
       "      <td>GBA</td>\n",
       "      <td>2001</td>\n",
       "      <td>Action</td>\n",
       "      <td>0.01</td>\n",
       "      <td>0.00</td>\n",
       "      <td>0.0</td>\n",
       "      <td>0.00</td>\n",
       "      <td>67.0</td>\n",
       "      <td>tbd</td>\n",
       "      <td>E</td>\n",
       "    </tr>\n",
       "    <tr>\n",
       "      <th>16697</th>\n",
       "      <td>Bust-A-Move 3000</td>\n",
       "      <td>GC</td>\n",
       "      <td>2003</td>\n",
       "      <td>Puzzle</td>\n",
       "      <td>0.01</td>\n",
       "      <td>0.00</td>\n",
       "      <td>0.0</td>\n",
       "      <td>0.00</td>\n",
       "      <td>53.0</td>\n",
       "      <td>tbd</td>\n",
       "      <td>E</td>\n",
       "    </tr>\n",
       "    <tr>\n",
       "      <th>16698</th>\n",
       "      <td>Mega Brain Boost</td>\n",
       "      <td>DS</td>\n",
       "      <td>2008</td>\n",
       "      <td>Puzzle</td>\n",
       "      <td>0.01</td>\n",
       "      <td>0.00</td>\n",
       "      <td>0.0</td>\n",
       "      <td>0.00</td>\n",
       "      <td>48.0</td>\n",
       "      <td>tbd</td>\n",
       "      <td>E</td>\n",
       "    </tr>\n",
       "    <tr>\n",
       "      <th>16704</th>\n",
       "      <td>Plushees</td>\n",
       "      <td>DS</td>\n",
       "      <td>2008</td>\n",
       "      <td>Simulation</td>\n",
       "      <td>0.01</td>\n",
       "      <td>0.00</td>\n",
       "      <td>0.0</td>\n",
       "      <td>0.00</td>\n",
       "      <td>NaN</td>\n",
       "      <td>tbd</td>\n",
       "      <td>E</td>\n",
       "    </tr>\n",
       "    <tr>\n",
       "      <th>16706</th>\n",
       "      <td>Men in Black II: Alien Escape</td>\n",
       "      <td>GC</td>\n",
       "      <td>2003</td>\n",
       "      <td>Shooter</td>\n",
       "      <td>0.01</td>\n",
       "      <td>0.00</td>\n",
       "      <td>0.0</td>\n",
       "      <td>0.00</td>\n",
       "      <td>NaN</td>\n",
       "      <td>tbd</td>\n",
       "      <td>T</td>\n",
       "    </tr>\n",
       "  </tbody>\n",
       "</table>\n",
       "<p>2424 rows × 11 columns</p>\n",
       "</div>"
      ],
      "text/plain": [
       "                                           name platform  year_of_release  \\\n",
       "119                               Zumba Fitness      Wii             2010   \n",
       "301              Namco Museum: 50th Anniversary      PS2             2005   \n",
       "520                             Zumba Fitness 2      Wii             2011   \n",
       "645                                uDraw Studio      Wii             2010   \n",
       "657    Frogger's Adventures: Temple of the Frog      GBA             2003   \n",
       "...                                         ...      ...              ...   \n",
       "16695                           Planet Monsters      GBA             2001   \n",
       "16697                          Bust-A-Move 3000       GC             2003   \n",
       "16698                          Mega Brain Boost       DS             2008   \n",
       "16704                                  Plushees       DS             2008   \n",
       "16706             Men in Black II: Alien Escape       GC             2003   \n",
       "\n",
       "            genre  na_sales  eu_sales  jp_sales  other_sales  critic_score  \\\n",
       "119        Sports      3.45      2.59       0.0         0.66           NaN   \n",
       "301          Misc      2.08      1.35       0.0         0.54          61.0   \n",
       "520        Sports      1.51      1.03       0.0         0.27           NaN   \n",
       "645          Misc      1.65      0.57       0.0         0.20          71.0   \n",
       "657     Adventure      2.15      0.18       0.0         0.07          73.0   \n",
       "...           ...       ...       ...       ...          ...           ...   \n",
       "16695      Action      0.01      0.00       0.0         0.00          67.0   \n",
       "16697      Puzzle      0.01      0.00       0.0         0.00          53.0   \n",
       "16698      Puzzle      0.01      0.00       0.0         0.00          48.0   \n",
       "16704  Simulation      0.01      0.00       0.0         0.00           NaN   \n",
       "16706     Shooter      0.01      0.00       0.0         0.00           NaN   \n",
       "\n",
       "      user_score rating  \n",
       "119          tbd      E  \n",
       "301          tbd   E10+  \n",
       "520          tbd      T  \n",
       "645          tbd      E  \n",
       "657          tbd      E  \n",
       "...          ...    ...  \n",
       "16695        tbd      E  \n",
       "16697        tbd      E  \n",
       "16698        tbd      E  \n",
       "16704        tbd      E  \n",
       "16706        tbd      T  \n",
       "\n",
       "[2424 rows x 11 columns]"
      ]
     },
     "execution_count": 14,
     "metadata": {},
     "output_type": "execute_result"
    }
   ],
   "source": [
    "df[df['user_score'] == 'tbd']"
   ]
  },
  {
   "cell_type": "markdown",
   "metadata": {},
   "source": [
    "В столбце имеется 2424 строки со значением tbd в столбце user_score, что скорее всего является аббревиатурой To Be Determined (т.е. пропущенные значения). Превратим эти значения в NaN, чтобы они не мешали при расчетах:"
   ]
  },
  {
   "cell_type": "markdown",
   "metadata": {},
   "source": [
    "<div class=\"alert alert-success\">\n",
    "\n",
    "**Артём:** 👍 Согласен.\n",
    "\n",
    "</div>"
   ]
  },
  {
   "cell_type": "code",
   "execution_count": 15,
   "metadata": {},
   "outputs": [
    {
     "data": {
      "text/plain": [
       "array([8. , nan, 8.3, 8.5, 6.6, 8.4, 8.6, 7.7, 6.3, 7.4, 8.2, 9. , 7.9,\n",
       "       8.1, 8.7, 7.1, 3.4, 5.3, 4.8, 3.2, 8.9, 6.4, 7.8, 7.5, 2.6, 7.2,\n",
       "       9.2, 7. , 7.3, 4.3, 7.6, 5.7, 5. , 9.1, 6.5, 8.8, 6.9, 9.4, 6.8,\n",
       "       6.1, 6.7, 5.4, 4. , 4.9, 4.5, 9.3, 6.2, 4.2, 6. , 3.7, 4.1, 5.8,\n",
       "       5.6, 5.5, 4.4, 4.6, 5.9, 3.9, 3.1, 2.9, 5.2, 3.3, 4.7, 5.1, 3.5,\n",
       "       2.5, 1.9, 3. , 2.7, 2.2, 2. , 9.5, 2.1, 3.6, 2.8, 1.8, 3.8, 0. ,\n",
       "       1.6, 9.6, 2.4, 1.7, 1.1, 0.3, 1.5, 0.7, 1.2, 2.3, 0.5, 1.3, 0.2,\n",
       "       0.6, 1.4, 0.9, 1. , 9.7])"
      ]
     },
     "execution_count": 15,
     "metadata": {},
     "output_type": "execute_result"
    }
   ],
   "source": [
    "df['user_score'] = pd.to_numeric(df['user_score'], errors='coerce')\n",
    "df['user_score'].unique()"
   ]
  },
  {
   "cell_type": "code",
   "execution_count": 16,
   "metadata": {
    "scrolled": true
   },
   "outputs": [
    {
     "name": "stdout",
     "output_type": "stream",
     "text": [
      "<class 'pandas.core.frame.DataFrame'>\n",
      "RangeIndex: 16715 entries, 0 to 16714\n",
      "Data columns (total 11 columns):\n",
      " #   Column           Non-Null Count  Dtype  \n",
      "---  ------           --------------  -----  \n",
      " 0   name             16715 non-null  object \n",
      " 1   platform         16715 non-null  object \n",
      " 2   year_of_release  16715 non-null  int64  \n",
      " 3   genre            16715 non-null  object \n",
      " 4   na_sales         16715 non-null  float64\n",
      " 5   eu_sales         16715 non-null  float64\n",
      " 6   jp_sales         16715 non-null  float64\n",
      " 7   other_sales      16715 non-null  float64\n",
      " 8   critic_score     8137 non-null   float64\n",
      " 9   user_score       7590 non-null   float64\n",
      " 10  rating           16715 non-null  object \n",
      "dtypes: float64(6), int64(1), object(4)\n",
      "memory usage: 1.4+ MB\n"
     ]
    }
   ],
   "source": [
    "df.info()"
   ]
  },
  {
   "cell_type": "markdown",
   "metadata": {},
   "source": [
    "Посмотрим на пропуски в столбцах critic_score и user_score:"
   ]
  },
  {
   "cell_type": "code",
   "execution_count": 17,
   "metadata": {
    "scrolled": true
   },
   "outputs": [
    {
     "data": {
      "text/html": [
       "<div>\n",
       "<style scoped>\n",
       "    .dataframe tbody tr th:only-of-type {\n",
       "        vertical-align: middle;\n",
       "    }\n",
       "\n",
       "    .dataframe tbody tr th {\n",
       "        vertical-align: top;\n",
       "    }\n",
       "\n",
       "    .dataframe thead th {\n",
       "        text-align: right;\n",
       "    }\n",
       "</style>\n",
       "<table border=\"1\" class=\"dataframe\">\n",
       "  <thead>\n",
       "    <tr style=\"text-align: right;\">\n",
       "      <th></th>\n",
       "      <th>name</th>\n",
       "      <th>platform</th>\n",
       "      <th>year_of_release</th>\n",
       "      <th>genre</th>\n",
       "      <th>na_sales</th>\n",
       "      <th>eu_sales</th>\n",
       "      <th>jp_sales</th>\n",
       "      <th>other_sales</th>\n",
       "      <th>critic_score</th>\n",
       "      <th>user_score</th>\n",
       "      <th>rating</th>\n",
       "    </tr>\n",
       "  </thead>\n",
       "  <tbody>\n",
       "    <tr>\n",
       "      <th>1</th>\n",
       "      <td>Super Mario Bros.</td>\n",
       "      <td>NES</td>\n",
       "      <td>1985</td>\n",
       "      <td>Platform</td>\n",
       "      <td>29.08</td>\n",
       "      <td>3.58</td>\n",
       "      <td>6.81</td>\n",
       "      <td>0.77</td>\n",
       "      <td>NaN</td>\n",
       "      <td>NaN</td>\n",
       "      <td>unknown</td>\n",
       "    </tr>\n",
       "    <tr>\n",
       "      <th>4</th>\n",
       "      <td>Pokemon Red/Pokemon Blue</td>\n",
       "      <td>GB</td>\n",
       "      <td>1996</td>\n",
       "      <td>Role-Playing</td>\n",
       "      <td>11.27</td>\n",
       "      <td>8.89</td>\n",
       "      <td>10.22</td>\n",
       "      <td>1.00</td>\n",
       "      <td>NaN</td>\n",
       "      <td>NaN</td>\n",
       "      <td>unknown</td>\n",
       "    </tr>\n",
       "    <tr>\n",
       "      <th>5</th>\n",
       "      <td>Tetris</td>\n",
       "      <td>GB</td>\n",
       "      <td>1989</td>\n",
       "      <td>Puzzle</td>\n",
       "      <td>23.20</td>\n",
       "      <td>2.26</td>\n",
       "      <td>4.22</td>\n",
       "      <td>0.58</td>\n",
       "      <td>NaN</td>\n",
       "      <td>NaN</td>\n",
       "      <td>unknown</td>\n",
       "    </tr>\n",
       "    <tr>\n",
       "      <th>9</th>\n",
       "      <td>Duck Hunt</td>\n",
       "      <td>NES</td>\n",
       "      <td>1984</td>\n",
       "      <td>Shooter</td>\n",
       "      <td>26.93</td>\n",
       "      <td>0.63</td>\n",
       "      <td>0.28</td>\n",
       "      <td>0.47</td>\n",
       "      <td>NaN</td>\n",
       "      <td>NaN</td>\n",
       "      <td>unknown</td>\n",
       "    </tr>\n",
       "    <tr>\n",
       "      <th>10</th>\n",
       "      <td>Nintendogs</td>\n",
       "      <td>DS</td>\n",
       "      <td>2005</td>\n",
       "      <td>Simulation</td>\n",
       "      <td>9.05</td>\n",
       "      <td>10.95</td>\n",
       "      <td>1.93</td>\n",
       "      <td>2.74</td>\n",
       "      <td>NaN</td>\n",
       "      <td>NaN</td>\n",
       "      <td>unknown</td>\n",
       "    </tr>\n",
       "  </tbody>\n",
       "</table>\n",
       "</div>"
      ],
      "text/plain": [
       "                        name platform  year_of_release         genre  \\\n",
       "1          Super Mario Bros.      NES             1985      Platform   \n",
       "4   Pokemon Red/Pokemon Blue       GB             1996  Role-Playing   \n",
       "5                     Tetris       GB             1989        Puzzle   \n",
       "9                  Duck Hunt      NES             1984       Shooter   \n",
       "10                Nintendogs       DS             2005    Simulation   \n",
       "\n",
       "    na_sales  eu_sales  jp_sales  other_sales  critic_score  user_score  \\\n",
       "1      29.08      3.58      6.81         0.77           NaN         NaN   \n",
       "4      11.27      8.89     10.22         1.00           NaN         NaN   \n",
       "5      23.20      2.26      4.22         0.58           NaN         NaN   \n",
       "9      26.93      0.63      0.28         0.47           NaN         NaN   \n",
       "10      9.05     10.95      1.93         2.74           NaN         NaN   \n",
       "\n",
       "     rating  \n",
       "1   unknown  \n",
       "4   unknown  \n",
       "5   unknown  \n",
       "9   unknown  \n",
       "10  unknown  "
      ]
     },
     "execution_count": 17,
     "metadata": {},
     "output_type": "execute_result"
    }
   ],
   "source": [
    "df[df['critic_score'].isna()].head()"
   ]
  },
  {
   "cell_type": "code",
   "execution_count": 18,
   "metadata": {},
   "outputs": [
    {
     "data": {
      "text/plain": [
       "8005"
      ]
     },
     "execution_count": 18,
     "metadata": {},
     "output_type": "execute_result"
    }
   ],
   "source": [
    "len(df[df['critic_score'].isna() & df['user_score'].isna()])"
   ]
  },
  {
   "cell_type": "code",
   "execution_count": 19,
   "metadata": {},
   "outputs": [
    {
     "data": {
      "text/plain": [
       "7017"
      ]
     },
     "execution_count": 19,
     "metadata": {},
     "output_type": "execute_result"
    }
   ],
   "source": [
    "len(df.query('(critic_score > 0) & (user_score > 0)'))"
   ]
  },
  {
   "cell_type": "markdown",
   "metadata": {},
   "source": [
    "В таблице 7017 строк в которых имеются данные в обоих столбцах critic_score и user_score, а также 8005 строк, в которых значения в обоих столбцах отсутствуют. Данные пропуски заполнять не будем, т.к. каждая строка имеет несколько категорий (год выпуска, платформу, жанр) и заполнение средним здесь не подходит. Проверим на полные дубликаты:"
   ]
  },
  {
   "cell_type": "markdown",
   "metadata": {},
   "source": [
    "<div class=\"alert alert-success\">\n",
    "\n",
    "**Артём:** 👍 Молодец.\n",
    "\n",
    "</div>"
   ]
  },
  {
   "cell_type": "code",
   "execution_count": 20,
   "metadata": {},
   "outputs": [
    {
     "data": {
      "text/plain": [
       "0"
      ]
     },
     "execution_count": 20,
     "metadata": {},
     "output_type": "execute_result"
    }
   ],
   "source": [
    "df.duplicated().sum()"
   ]
  },
  {
   "cell_type": "markdown",
   "metadata": {},
   "source": [
    "### Добавление информации:"
   ]
  },
  {
   "cell_type": "markdown",
   "metadata": {},
   "source": [
    "Добавим столбец с суммарными продажами во всех регионах:"
   ]
  },
  {
   "cell_type": "code",
   "execution_count": 21,
   "metadata": {},
   "outputs": [
    {
     "data": {
      "text/html": [
       "<div>\n",
       "<style scoped>\n",
       "    .dataframe tbody tr th:only-of-type {\n",
       "        vertical-align: middle;\n",
       "    }\n",
       "\n",
       "    .dataframe tbody tr th {\n",
       "        vertical-align: top;\n",
       "    }\n",
       "\n",
       "    .dataframe thead th {\n",
       "        text-align: right;\n",
       "    }\n",
       "</style>\n",
       "<table border=\"1\" class=\"dataframe\">\n",
       "  <thead>\n",
       "    <tr style=\"text-align: right;\">\n",
       "      <th></th>\n",
       "      <th>name</th>\n",
       "      <th>platform</th>\n",
       "      <th>year_of_release</th>\n",
       "      <th>genre</th>\n",
       "      <th>na_sales</th>\n",
       "      <th>eu_sales</th>\n",
       "      <th>jp_sales</th>\n",
       "      <th>other_sales</th>\n",
       "      <th>critic_score</th>\n",
       "      <th>user_score</th>\n",
       "      <th>rating</th>\n",
       "      <th>all_sales</th>\n",
       "    </tr>\n",
       "  </thead>\n",
       "  <tbody>\n",
       "    <tr>\n",
       "      <th>0</th>\n",
       "      <td>Wii Sports</td>\n",
       "      <td>Wii</td>\n",
       "      <td>2006</td>\n",
       "      <td>Sports</td>\n",
       "      <td>41.36</td>\n",
       "      <td>28.96</td>\n",
       "      <td>3.77</td>\n",
       "      <td>8.45</td>\n",
       "      <td>76.0</td>\n",
       "      <td>8.0</td>\n",
       "      <td>E</td>\n",
       "      <td>82.54</td>\n",
       "    </tr>\n",
       "    <tr>\n",
       "      <th>1</th>\n",
       "      <td>Super Mario Bros.</td>\n",
       "      <td>NES</td>\n",
       "      <td>1985</td>\n",
       "      <td>Platform</td>\n",
       "      <td>29.08</td>\n",
       "      <td>3.58</td>\n",
       "      <td>6.81</td>\n",
       "      <td>0.77</td>\n",
       "      <td>NaN</td>\n",
       "      <td>NaN</td>\n",
       "      <td>unknown</td>\n",
       "      <td>40.24</td>\n",
       "    </tr>\n",
       "    <tr>\n",
       "      <th>2</th>\n",
       "      <td>Mario Kart Wii</td>\n",
       "      <td>Wii</td>\n",
       "      <td>2008</td>\n",
       "      <td>Racing</td>\n",
       "      <td>15.68</td>\n",
       "      <td>12.76</td>\n",
       "      <td>3.79</td>\n",
       "      <td>3.29</td>\n",
       "      <td>82.0</td>\n",
       "      <td>8.3</td>\n",
       "      <td>E</td>\n",
       "      <td>35.52</td>\n",
       "    </tr>\n",
       "    <tr>\n",
       "      <th>3</th>\n",
       "      <td>Wii Sports Resort</td>\n",
       "      <td>Wii</td>\n",
       "      <td>2009</td>\n",
       "      <td>Sports</td>\n",
       "      <td>15.61</td>\n",
       "      <td>10.93</td>\n",
       "      <td>3.28</td>\n",
       "      <td>2.95</td>\n",
       "      <td>80.0</td>\n",
       "      <td>8.0</td>\n",
       "      <td>E</td>\n",
       "      <td>32.77</td>\n",
       "    </tr>\n",
       "    <tr>\n",
       "      <th>4</th>\n",
       "      <td>Pokemon Red/Pokemon Blue</td>\n",
       "      <td>GB</td>\n",
       "      <td>1996</td>\n",
       "      <td>Role-Playing</td>\n",
       "      <td>11.27</td>\n",
       "      <td>8.89</td>\n",
       "      <td>10.22</td>\n",
       "      <td>1.00</td>\n",
       "      <td>NaN</td>\n",
       "      <td>NaN</td>\n",
       "      <td>unknown</td>\n",
       "      <td>31.38</td>\n",
       "    </tr>\n",
       "  </tbody>\n",
       "</table>\n",
       "</div>"
      ],
      "text/plain": [
       "                       name platform  year_of_release         genre  na_sales  \\\n",
       "0                Wii Sports      Wii             2006        Sports     41.36   \n",
       "1         Super Mario Bros.      NES             1985      Platform     29.08   \n",
       "2            Mario Kart Wii      Wii             2008        Racing     15.68   \n",
       "3         Wii Sports Resort      Wii             2009        Sports     15.61   \n",
       "4  Pokemon Red/Pokemon Blue       GB             1996  Role-Playing     11.27   \n",
       "\n",
       "   eu_sales  jp_sales  other_sales  critic_score  user_score   rating  \\\n",
       "0     28.96      3.77         8.45          76.0         8.0        E   \n",
       "1      3.58      6.81         0.77           NaN         NaN  unknown   \n",
       "2     12.76      3.79         3.29          82.0         8.3        E   \n",
       "3     10.93      3.28         2.95          80.0         8.0        E   \n",
       "4      8.89     10.22         1.00           NaN         NaN  unknown   \n",
       "\n",
       "   all_sales  \n",
       "0      82.54  \n",
       "1      40.24  \n",
       "2      35.52  \n",
       "3      32.77  \n",
       "4      31.38  "
      ]
     },
     "execution_count": 21,
     "metadata": {},
     "output_type": "execute_result"
    }
   ],
   "source": [
    "df['all_sales'] = df['na_sales'] + df['eu_sales'] + df['jp_sales'] + df['other_sales']\n",
    "df.head()"
   ]
  },
  {
   "cell_type": "markdown",
   "metadata": {},
   "source": [
    "<div class=\"alert alert-info\">\n",
    "\n",
    "**Артём:** ✍️ Можно так:\n",
    "        \n",
    "```py\n",
    "df['total_sales'] = df[['na_sales', 'eu_sales', 'jp_sales', 'other_sales']].sum(axis=1)\n",
    "```\n",
    "\n",
    "</div>"
   ]
  },
  {
   "cell_type": "markdown",
   "metadata": {},
   "source": [
    "<div style=\"border:solid green 2px; padding: 20px\">\n",
    "\n",
    "🧑‍🎓 **Антон:** Спасибо! Не знал про такой трюк, возьму на вооружение."
   ]
  },
  {
   "cell_type": "markdown",
   "metadata": {},
   "source": [
    "<div class=\"alert alert-success\">\n",
    "\n",
    "**Артём:** 👍👍 Супер.\n",
    "\n",
    "</div>"
   ]
  },
  {
   "cell_type": "markdown",
   "metadata": {},
   "source": [
    "**Вывод:**\n",
    "\n",
    "Проведена предобработка данных - переименованы названия столбцов (приведены к нижнему регистру), заполнены пропуски, где это возможно, изменен тип данных, добавлена информация с суммарными значениями продаж. Теперь можно приступить к решению задачи."
   ]
  },
  {
   "cell_type": "markdown",
   "metadata": {},
   "source": [
    "<div class=\"alert alert-success\">\n",
    "\n",
    "**Артём:** 👍 Ok.\n",
    "\n",
    "</div>"
   ]
  },
  {
   "cell_type": "markdown",
   "metadata": {},
   "source": [
    "## Исследовательский анализ данных:"
   ]
  },
  {
   "cell_type": "markdown",
   "metadata": {},
   "source": [
    "### Посмотрим, сколько игр выпускалось в разные годы. Определим, важны ли данные за все периоды (посчитаем количество игр за каждый год, а также за каждое десятилетие):"
   ]
  },
  {
   "cell_type": "code",
   "execution_count": 22,
   "metadata": {
    "scrolled": true
   },
   "outputs": [
    {
     "data": {
      "text/plain": [
       "2009    1476\n",
       "2008    1457\n",
       "2010    1302\n",
       "2007    1197\n",
       "2011    1161\n",
       "2006    1006\n",
       "2005     973\n",
       "2002     829\n",
       "2003     800\n",
       "2004     783\n",
       "2012     653\n",
       "2015     606\n",
       "2014     582\n",
       "2013     552\n",
       "2016     502\n",
       "2001     482\n",
       "1998     386\n",
       "2000     350\n",
       "1999     341\n",
       "1997     290\n",
       "1996     263\n",
       "1995     219\n",
       "1994     121\n",
       "1993      62\n",
       "1982      53\n",
       "1981      46\n",
       "1992      43\n",
       "1991      41\n",
       "1986      21\n",
       "1983      17\n",
       "1989      17\n",
       "1990      16\n",
       "1987      16\n",
       "1988      15\n",
       "1985      14\n",
       "1984      14\n",
       "1980       9\n",
       "Name: year_of_release, dtype: int64"
      ]
     },
     "execution_count": 22,
     "metadata": {},
     "output_type": "execute_result"
    }
   ],
   "source": [
    "df_years_count = df['year_of_release'].value_counts()\n",
    "df_years_count"
   ]
  },
  {
   "cell_type": "markdown",
   "metadata": {},
   "source": [
    "Посчитаем количество игр по десятилетиям:"
   ]
  },
  {
   "cell_type": "code",
   "execution_count": 23,
   "metadata": {},
   "outputs": [
    {
     "name": "stdout",
     "output_type": "stream",
     "text": [
      "Количество игр, вышедших с 1980 по 1989 год - 222\n",
      "\n",
      "Количество игр, вышедших с 1990 по 1999 год - 1782\n",
      "\n",
      "Количество игр, вышедших с 2000 по 2009 год - 9353\n",
      "\n",
      "Количество игр, вышедших с 2010 по 2016 год - 5358\n"
     ]
    }
   ],
   "source": [
    "years_1980 = 0\n",
    "years_1990 = 0\n",
    "years_2000 = 0\n",
    "years_2010 = 0\n",
    "\n",
    "for year in df['year_of_release']:\n",
    "    if (year >= 1980) & (year < 1990):\n",
    "        years_1980 +=1\n",
    "    elif (year >= 1990) & (year < 2000):\n",
    "        years_1990 +=1\n",
    "    elif (year >= 2000) & (year < 2010):\n",
    "        years_2000 +=1\n",
    "    else:\n",
    "        years_2010 +=1\n",
    "    \n",
    "print(f'Количество игр, вышедших с 1980 по 1989 год - {years_1980}')\n",
    "print()\n",
    "print(f'Количество игр, вышедших с 1990 по 1999 год - {years_1990}')\n",
    "print()\n",
    "print(f'Количество игр, вышедших с 2000 по 2009 год - {years_2000}')\n",
    "print()\n",
    "print(f'Количество игр, вышедших с 2010 по 2016 год - {years_2010}')"
   ]
  },
  {
   "cell_type": "markdown",
   "metadata": {},
   "source": [
    "**Примечание:** как видим, в период с 1980 по 1989 год было выпущено всего 222 игры от имеющейся информации о 16715 играх, что составляет незначительную часть и данные за указанный период скорее всего не представляют особой ценности."
   ]
  },
  {
   "cell_type": "markdown",
   "metadata": {},
   "source": [
    "<div class=\"alert alert-success\">\n",
    "\n",
    "**Артём:** 👍 Хорошо.\n",
    "\n",
    "</div>"
   ]
  },
  {
   "cell_type": "markdown",
   "metadata": {},
   "source": [
    "### Посмотрим, как менялись продажи по платформам. Выберим платформы с наибольшими суммарными продажами и построим распределение по годам. Попробуем определить, за какой характерный срок появляются новые и исчезают старые платформы:"
   ]
  },
  {
   "cell_type": "code",
   "execution_count": 24,
   "metadata": {},
   "outputs": [
    {
     "data": {
      "text/html": [
       "<div>\n",
       "<style scoped>\n",
       "    .dataframe tbody tr th:only-of-type {\n",
       "        vertical-align: middle;\n",
       "    }\n",
       "\n",
       "    .dataframe tbody tr th {\n",
       "        vertical-align: top;\n",
       "    }\n",
       "\n",
       "    .dataframe thead th {\n",
       "        text-align: right;\n",
       "    }\n",
       "</style>\n",
       "<table border=\"1\" class=\"dataframe\">\n",
       "  <thead>\n",
       "    <tr style=\"text-align: right;\">\n",
       "      <th></th>\n",
       "      <th>all_sales</th>\n",
       "    </tr>\n",
       "    <tr>\n",
       "      <th>platform</th>\n",
       "      <th></th>\n",
       "    </tr>\n",
       "  </thead>\n",
       "  <tbody>\n",
       "    <tr>\n",
       "      <th>PS2</th>\n",
       "      <td>1255.77</td>\n",
       "    </tr>\n",
       "    <tr>\n",
       "      <th>X360</th>\n",
       "      <td>971.42</td>\n",
       "    </tr>\n",
       "    <tr>\n",
       "      <th>PS3</th>\n",
       "      <td>939.65</td>\n",
       "    </tr>\n",
       "    <tr>\n",
       "      <th>Wii</th>\n",
       "      <td>907.51</td>\n",
       "    </tr>\n",
       "    <tr>\n",
       "      <th>DS</th>\n",
       "      <td>806.12</td>\n",
       "    </tr>\n",
       "    <tr>\n",
       "      <th>PS</th>\n",
       "      <td>730.86</td>\n",
       "    </tr>\n",
       "    <tr>\n",
       "      <th>GBA</th>\n",
       "      <td>317.85</td>\n",
       "    </tr>\n",
       "    <tr>\n",
       "      <th>PS4</th>\n",
       "      <td>314.14</td>\n",
       "    </tr>\n",
       "    <tr>\n",
       "      <th>PSP</th>\n",
       "      <td>294.05</td>\n",
       "    </tr>\n",
       "    <tr>\n",
       "      <th>PC</th>\n",
       "      <td>259.52</td>\n",
       "    </tr>\n",
       "  </tbody>\n",
       "</table>\n",
       "</div>"
      ],
      "text/plain": [
       "          all_sales\n",
       "platform           \n",
       "PS2         1255.77\n",
       "X360         971.42\n",
       "PS3          939.65\n",
       "Wii          907.51\n",
       "DS           806.12\n",
       "PS           730.86\n",
       "GBA          317.85\n",
       "PS4          314.14\n",
       "PSP          294.05\n",
       "PC           259.52"
      ]
     },
     "execution_count": 24,
     "metadata": {},
     "output_type": "execute_result"
    }
   ],
   "source": [
    "df_platform_sales_pivot = df.pivot_table(\n",
    "    index='platform', values='all_sales', aggfunc='sum').sort_values(by='all_sales', ascending=False)\n",
    "df_platform_sales_pivot.head(10)"
   ]
  },
  {
   "cell_type": "markdown",
   "metadata": {},
   "source": [
    "**Примечание:** как видно из сводной таблицы - самые наибольшие суммарные продажи были на платформах PS, PS2, PS3, X360, Wii и DS, построим по ним графики с распределением продаж по годам (при построении графиков отбросим 1980-е годы, т.к. ранее было определено, что этот период не будет оказывать влияние на исследование):"
   ]
  },
  {
   "cell_type": "markdown",
   "metadata": {},
   "source": [
    "<div class=\"alert alert-success\">\n",
    "\n",
    "**Артём:** 👍 Верно.\n",
    "\n",
    "</div>"
   ]
  },
  {
   "cell_type": "code",
   "execution_count": 25,
   "metadata": {
    "scrolled": false
   },
   "outputs": [
    {
     "data": {
      "text/html": [
       "<div>\n",
       "<style scoped>\n",
       "    .dataframe tbody tr th:only-of-type {\n",
       "        vertical-align: middle;\n",
       "    }\n",
       "\n",
       "    .dataframe tbody tr th {\n",
       "        vertical-align: top;\n",
       "    }\n",
       "\n",
       "    .dataframe thead th {\n",
       "        text-align: right;\n",
       "    }\n",
       "</style>\n",
       "<table border=\"1\" class=\"dataframe\">\n",
       "  <thead>\n",
       "    <tr style=\"text-align: right;\">\n",
       "      <th>platform</th>\n",
       "      <th>2600</th>\n",
       "      <th>3DO</th>\n",
       "      <th>3DS</th>\n",
       "      <th>DC</th>\n",
       "      <th>DS</th>\n",
       "      <th>GB</th>\n",
       "      <th>GBA</th>\n",
       "      <th>GC</th>\n",
       "      <th>GEN</th>\n",
       "      <th>GG</th>\n",
       "      <th>N64</th>\n",
       "      <th>NES</th>\n",
       "      <th>NG</th>\n",
       "      <th>PC</th>\n",
       "      <th>PCFX</th>\n",
       "      <th>PS</th>\n",
       "      <th>PS2</th>\n",
       "      <th>PS3</th>\n",
       "      <th>PS4</th>\n",
       "      <th>PSP</th>\n",
       "      <th>PSV</th>\n",
       "      <th>SAT</th>\n",
       "      <th>SCD</th>\n",
       "      <th>SNES</th>\n",
       "      <th>TG16</th>\n",
       "      <th>WS</th>\n",
       "      <th>Wii</th>\n",
       "      <th>WiiU</th>\n",
       "      <th>X360</th>\n",
       "      <th>XB</th>\n",
       "      <th>XOne</th>\n",
       "    </tr>\n",
       "    <tr>\n",
       "      <th>year_of_release</th>\n",
       "      <th></th>\n",
       "      <th></th>\n",
       "      <th></th>\n",
       "      <th></th>\n",
       "      <th></th>\n",
       "      <th></th>\n",
       "      <th></th>\n",
       "      <th></th>\n",
       "      <th></th>\n",
       "      <th></th>\n",
       "      <th></th>\n",
       "      <th></th>\n",
       "      <th></th>\n",
       "      <th></th>\n",
       "      <th></th>\n",
       "      <th></th>\n",
       "      <th></th>\n",
       "      <th></th>\n",
       "      <th></th>\n",
       "      <th></th>\n",
       "      <th></th>\n",
       "      <th></th>\n",
       "      <th></th>\n",
       "      <th></th>\n",
       "      <th></th>\n",
       "      <th></th>\n",
       "      <th></th>\n",
       "      <th></th>\n",
       "      <th></th>\n",
       "      <th></th>\n",
       "      <th></th>\n",
       "    </tr>\n",
       "  </thead>\n",
       "  <tbody>\n",
       "    <tr>\n",
       "      <th>1980</th>\n",
       "      <td>11.38</td>\n",
       "      <td>NaN</td>\n",
       "      <td>NaN</td>\n",
       "      <td>NaN</td>\n",
       "      <td>NaN</td>\n",
       "      <td>NaN</td>\n",
       "      <td>NaN</td>\n",
       "      <td>NaN</td>\n",
       "      <td>NaN</td>\n",
       "      <td>NaN</td>\n",
       "      <td>NaN</td>\n",
       "      <td>NaN</td>\n",
       "      <td>NaN</td>\n",
       "      <td>NaN</td>\n",
       "      <td>NaN</td>\n",
       "      <td>NaN</td>\n",
       "      <td>NaN</td>\n",
       "      <td>NaN</td>\n",
       "      <td>NaN</td>\n",
       "      <td>NaN</td>\n",
       "      <td>NaN</td>\n",
       "      <td>NaN</td>\n",
       "      <td>NaN</td>\n",
       "      <td>NaN</td>\n",
       "      <td>NaN</td>\n",
       "      <td>NaN</td>\n",
       "      <td>NaN</td>\n",
       "      <td>NaN</td>\n",
       "      <td>NaN</td>\n",
       "      <td>NaN</td>\n",
       "      <td>NaN</td>\n",
       "    </tr>\n",
       "    <tr>\n",
       "      <th>1981</th>\n",
       "      <td>35.68</td>\n",
       "      <td>NaN</td>\n",
       "      <td>NaN</td>\n",
       "      <td>NaN</td>\n",
       "      <td>NaN</td>\n",
       "      <td>NaN</td>\n",
       "      <td>NaN</td>\n",
       "      <td>NaN</td>\n",
       "      <td>NaN</td>\n",
       "      <td>NaN</td>\n",
       "      <td>NaN</td>\n",
       "      <td>NaN</td>\n",
       "      <td>NaN</td>\n",
       "      <td>NaN</td>\n",
       "      <td>NaN</td>\n",
       "      <td>NaN</td>\n",
       "      <td>NaN</td>\n",
       "      <td>NaN</td>\n",
       "      <td>NaN</td>\n",
       "      <td>NaN</td>\n",
       "      <td>NaN</td>\n",
       "      <td>NaN</td>\n",
       "      <td>NaN</td>\n",
       "      <td>NaN</td>\n",
       "      <td>NaN</td>\n",
       "      <td>NaN</td>\n",
       "      <td>NaN</td>\n",
       "      <td>NaN</td>\n",
       "      <td>NaN</td>\n",
       "      <td>NaN</td>\n",
       "      <td>NaN</td>\n",
       "    </tr>\n",
       "    <tr>\n",
       "      <th>1982</th>\n",
       "      <td>39.38</td>\n",
       "      <td>NaN</td>\n",
       "      <td>NaN</td>\n",
       "      <td>NaN</td>\n",
       "      <td>NaN</td>\n",
       "      <td>NaN</td>\n",
       "      <td>NaN</td>\n",
       "      <td>NaN</td>\n",
       "      <td>NaN</td>\n",
       "      <td>NaN</td>\n",
       "      <td>NaN</td>\n",
       "      <td>NaN</td>\n",
       "      <td>NaN</td>\n",
       "      <td>NaN</td>\n",
       "      <td>NaN</td>\n",
       "      <td>NaN</td>\n",
       "      <td>NaN</td>\n",
       "      <td>NaN</td>\n",
       "      <td>NaN</td>\n",
       "      <td>NaN</td>\n",
       "      <td>NaN</td>\n",
       "      <td>NaN</td>\n",
       "      <td>NaN</td>\n",
       "      <td>NaN</td>\n",
       "      <td>NaN</td>\n",
       "      <td>NaN</td>\n",
       "      <td>NaN</td>\n",
       "      <td>NaN</td>\n",
       "      <td>NaN</td>\n",
       "      <td>NaN</td>\n",
       "      <td>NaN</td>\n",
       "    </tr>\n",
       "    <tr>\n",
       "      <th>1983</th>\n",
       "      <td>5.84</td>\n",
       "      <td>NaN</td>\n",
       "      <td>NaN</td>\n",
       "      <td>NaN</td>\n",
       "      <td>NaN</td>\n",
       "      <td>NaN</td>\n",
       "      <td>NaN</td>\n",
       "      <td>NaN</td>\n",
       "      <td>NaN</td>\n",
       "      <td>NaN</td>\n",
       "      <td>NaN</td>\n",
       "      <td>10.96</td>\n",
       "      <td>NaN</td>\n",
       "      <td>NaN</td>\n",
       "      <td>NaN</td>\n",
       "      <td>NaN</td>\n",
       "      <td>NaN</td>\n",
       "      <td>NaN</td>\n",
       "      <td>NaN</td>\n",
       "      <td>NaN</td>\n",
       "      <td>NaN</td>\n",
       "      <td>NaN</td>\n",
       "      <td>NaN</td>\n",
       "      <td>NaN</td>\n",
       "      <td>NaN</td>\n",
       "      <td>NaN</td>\n",
       "      <td>NaN</td>\n",
       "      <td>NaN</td>\n",
       "      <td>NaN</td>\n",
       "      <td>NaN</td>\n",
       "      <td>NaN</td>\n",
       "    </tr>\n",
       "    <tr>\n",
       "      <th>1984</th>\n",
       "      <td>0.27</td>\n",
       "      <td>NaN</td>\n",
       "      <td>NaN</td>\n",
       "      <td>NaN</td>\n",
       "      <td>NaN</td>\n",
       "      <td>NaN</td>\n",
       "      <td>NaN</td>\n",
       "      <td>NaN</td>\n",
       "      <td>NaN</td>\n",
       "      <td>NaN</td>\n",
       "      <td>NaN</td>\n",
       "      <td>50.08</td>\n",
       "      <td>NaN</td>\n",
       "      <td>NaN</td>\n",
       "      <td>NaN</td>\n",
       "      <td>NaN</td>\n",
       "      <td>NaN</td>\n",
       "      <td>NaN</td>\n",
       "      <td>NaN</td>\n",
       "      <td>NaN</td>\n",
       "      <td>NaN</td>\n",
       "      <td>NaN</td>\n",
       "      <td>NaN</td>\n",
       "      <td>NaN</td>\n",
       "      <td>NaN</td>\n",
       "      <td>NaN</td>\n",
       "      <td>NaN</td>\n",
       "      <td>NaN</td>\n",
       "      <td>NaN</td>\n",
       "      <td>NaN</td>\n",
       "      <td>NaN</td>\n",
       "    </tr>\n",
       "  </tbody>\n",
       "</table>\n",
       "</div>"
      ],
      "text/plain": [
       "platform          2600  3DO  3DS  DC  DS  GB  GBA  GC  GEN  GG  N64    NES  \\\n",
       "year_of_release                                                              \n",
       "1980             11.38  NaN  NaN NaN NaN NaN  NaN NaN  NaN NaN  NaN    NaN   \n",
       "1981             35.68  NaN  NaN NaN NaN NaN  NaN NaN  NaN NaN  NaN    NaN   \n",
       "1982             39.38  NaN  NaN NaN NaN NaN  NaN NaN  NaN NaN  NaN    NaN   \n",
       "1983              5.84  NaN  NaN NaN NaN NaN  NaN NaN  NaN NaN  NaN  10.96   \n",
       "1984              0.27  NaN  NaN NaN NaN NaN  NaN NaN  NaN NaN  NaN  50.08   \n",
       "\n",
       "platform         NG  PC  PCFX  PS  PS2  PS3  PS4  PSP  PSV  SAT  SCD  SNES  \\\n",
       "year_of_release                                                              \n",
       "1980            NaN NaN   NaN NaN  NaN  NaN  NaN  NaN  NaN  NaN  NaN   NaN   \n",
       "1981            NaN NaN   NaN NaN  NaN  NaN  NaN  NaN  NaN  NaN  NaN   NaN   \n",
       "1982            NaN NaN   NaN NaN  NaN  NaN  NaN  NaN  NaN  NaN  NaN   NaN   \n",
       "1983            NaN NaN   NaN NaN  NaN  NaN  NaN  NaN  NaN  NaN  NaN   NaN   \n",
       "1984            NaN NaN   NaN NaN  NaN  NaN  NaN  NaN  NaN  NaN  NaN   NaN   \n",
       "\n",
       "platform         TG16  WS  Wii  WiiU  X360  XB  XOne  \n",
       "year_of_release                                       \n",
       "1980              NaN NaN  NaN   NaN   NaN NaN   NaN  \n",
       "1981              NaN NaN  NaN   NaN   NaN NaN   NaN  \n",
       "1982              NaN NaN  NaN   NaN   NaN NaN   NaN  \n",
       "1983              NaN NaN  NaN   NaN   NaN NaN   NaN  \n",
       "1984              NaN NaN  NaN   NaN   NaN NaN   NaN  "
      ]
     },
     "execution_count": 25,
     "metadata": {},
     "output_type": "execute_result"
    }
   ],
   "source": [
    "pd.set_option('display.max_columns', None)\n",
    "\n",
    "df_platform_sales_years = df.pivot_table(\n",
    "    index='year_of_release', columns='platform', values='all_sales', aggfunc='sum')\n",
    "df_platform_sales_years.head()"
   ]
  },
  {
   "cell_type": "markdown",
   "metadata": {},
   "source": [
    "<div class=\"alert alert-info\">\n",
    "\n",
    "**Артём:** ✍️ Чтобы содержимое датафрейма можно было изучить целиком:\n",
    "    \n",
    "```py\n",
    "pd.set_option('display.max_columns', None)\n",
    "```   \n",
    "\n",
    "</div>"
   ]
  },
  {
   "cell_type": "markdown",
   "metadata": {},
   "source": [
    "<div style=\"border:solid green 2px; padding: 20px\">\n",
    "\n",
    "🧑‍🎓 **Антон:** Спасибо! Буду пользоваться."
   ]
  },
  {
   "cell_type": "markdown",
   "metadata": {},
   "source": [
    "<div class=\"alert alert-success\">\n",
    "\n",
    "**Артём:** 👍👍 Здорово.\n",
    "\n",
    "</div>"
   ]
  },
  {
   "cell_type": "code",
   "execution_count": 26,
   "metadata": {
    "scrolled": false
   },
   "outputs": [
    {
     "data": {
      "image/png": "[encoded data removed]",
      "text/plain": [
       "<Figure size 1152x432 with 1 Axes>"
      ]
     },
     "metadata": {
      "needs_background": "light"
     },
     "output_type": "display_data"
    }
   ],
   "source": [
    "top_platforms = ['PS2', 'PS3', 'X360', 'Wii', 'DS']\n",
    "\n",
    "ax = df_platform_sales_years.plot(\n",
    "    y='PS',\n",
    "    style='o-',\n",
    "    grid=True,\n",
    "    figsize=(16, 6)\n",
    ")\n",
    "\n",
    "for platform in top_platforms:\n",
    "    ax = df_platform_sales_years.plot(\n",
    "    xlim=(1990, 2020),\n",
    "    y=platform,\n",
    "    ax=ax,\n",
    "    style='o-',\n",
    "    grid=True,\n",
    "    figsize=(16, 6)\n",
    "    )\n",
    "\n",
    "plt.legend()\n",
    "plt.title('Динамика продаж по платформам')\n",
    "plt.ylabel('Объем продаж, млн');"
   ]
  },
  {
   "cell_type": "markdown",
   "metadata": {},
   "source": [
    "Как видно из сводного графика, характерным сроком появления новых платформ можно считать период в 5 лет, исчезают же платформы примерно через 10 лет после своего появления. Представленные на графике платформы уже к 2015 году можно назвать устаревшими. Соответственно, для дальнейшего исследования и построения прогноза на 2017 год актуальным периодом будем считать данные с 2013 года, т.к. платформы, появившиеся до 2013 года с большой вероятностью уже неактуальны."
   ]
  },
  {
   "cell_type": "markdown",
   "metadata": {},
   "source": [
    "<a id=\"cell_26\"></a>\n",
    "<div class=\"alert alert-danger\">\n",
    "\n",
    "**Артём:** ✋ Слишком большой интервал для актуального периода. Так в исследование попадут неактуальные тренды и Стримчик может понести убытки. Обычно для прогнозирования в бизнесе берут интервал в 2–3 года. Попробуй взять период с 2013 года и посмотри, как изменятся результаты.\n",
    "\n",
    "</div>"
   ]
  },
  {
   "cell_type": "markdown",
   "metadata": {},
   "source": [
    "<div style=\"border:solid green 2px; padding: 20px\">\n",
    "\n",
    "🧑‍🎓 **Антон:** Все поправляю на другой период - беру данные с 2013 года."
   ]
  },
  {
   "cell_type": "markdown",
   "metadata": {},
   "source": [
    "<div class=\"alert alert-success\">\n",
    "\n",
    "**Артём:** 👍👍 Хорошо.\n",
    "\n",
    "</div>"
   ]
  },
  {
   "cell_type": "code",
   "execution_count": 27,
   "metadata": {},
   "outputs": [
    {
     "name": "stdout",
     "output_type": "stream",
     "text": [
      "<class 'pandas.core.frame.DataFrame'>\n",
      "Int64Index: 2242 entries, 16 to 16714\n",
      "Data columns (total 12 columns):\n",
      " #   Column           Non-Null Count  Dtype  \n",
      "---  ------           --------------  -----  \n",
      " 0   name             2242 non-null   object \n",
      " 1   platform         2242 non-null   object \n",
      " 2   year_of_release  2242 non-null   int64  \n",
      " 3   genre            2242 non-null   object \n",
      " 4   na_sales         2242 non-null   float64\n",
      " 5   eu_sales         2242 non-null   float64\n",
      " 6   jp_sales         2242 non-null   float64\n",
      " 7   other_sales      2242 non-null   float64\n",
      " 8   critic_score     994 non-null    float64\n",
      " 9   user_score       1196 non-null   float64\n",
      " 10  rating           2242 non-null   object \n",
      " 11  all_sales        2242 non-null   float64\n",
      "dtypes: float64(7), int64(1), object(4)\n",
      "memory usage: 227.7+ KB\n"
     ]
    }
   ],
   "source": [
    "df_release_after2013 = df.loc[df['year_of_release'] >= 2013].copy()\n",
    "df_release_after2013.info()"
   ]
  },
  {
   "cell_type": "markdown",
   "metadata": {},
   "source": [
    "<div class=\"alert alert-info\">\n",
    "\n",
    "**Артём:** ✍️  Копию датафрейма лучше сделать так, чтобы не изменить первоначальный датафрейм. Для этого в конце пишем `.copy()`:\n",
    "\n",
    "```py\n",
    "df_2 = df.loc[df['column'] >= value].copy()\n",
    "```\n",
    "\n",
    "</div>"
   ]
  },
  {
   "cell_type": "markdown",
   "metadata": {},
   "source": [
    "<div style=\"border:solid green 2px; padding: 20px\">\n",
    "\n",
    "🧑‍🎓 **Антон:** Поправил, изучу этот метод подробнее - не знал про него. Спасибо!"
   ]
  },
  {
   "cell_type": "markdown",
   "metadata": {},
   "source": [
    "<div class=\"alert alert-success\">\n",
    "\n",
    "**Артём:** 👍👍 Полезный метод, не дает изменить изначальный датафрейм.\n",
    "\n",
    "</div>"
   ]
  },
  {
   "cell_type": "code",
   "execution_count": 28,
   "metadata": {},
   "outputs": [],
   "source": [
    "df_sales_after2013 = df_release_after2013.pivot_table(\n",
    "    index='year_of_release', columns='platform', values='all_sales', aggfunc='sum')"
   ]
  },
  {
   "cell_type": "code",
   "execution_count": 29,
   "metadata": {},
   "outputs": [
    {
     "data": {
      "text/plain": [
       "array(['PS3', 'X360', 'PS4', '3DS', 'XOne', 'WiiU', 'Wii', 'PC', 'PSV',\n",
       "       'DS', 'PSP'], dtype=object)"
      ]
     },
     "execution_count": 29,
     "metadata": {},
     "output_type": "execute_result"
    }
   ],
   "source": [
    "df_release_after2013['platform'].unique()"
   ]
  },
  {
   "cell_type": "code",
   "execution_count": 30,
   "metadata": {
    "scrolled": false
   },
   "outputs": [
    {
     "data": {
      "image/png": "[encoded data removed]",
      "text/plain": [
       "<Figure size 1152x720 with 1 Axes>"
      ]
     },
     "metadata": {
      "needs_background": "light"
     },
     "output_type": "display_data"
    }
   ],
   "source": [
    "platform_after2013 = ['X360', 'PS3', 'DS', 'PS4', '3DS', 'XOne', 'WiiU', 'PC',\n",
    "       'PSP', 'PSV']\n",
    "\n",
    "ax = df_sales_after2013.plot(\n",
    "    y='Wii',\n",
    "    style='o-',\n",
    "    grid=True,\n",
    "    xlim=(2013, 2016),\n",
    "    figsize=(16, 10),\n",
    "    title='Динамика продаж по платформам',\n",
    ")\n",
    "\n",
    "for platform in platform_after2013:\n",
    "    ax = df_sales_after2013.plot(\n",
    "    y=platform,\n",
    "    ax=ax,\n",
    "    style='o-',\n",
    "    grid=True,\n",
    "    figsize=(16, 10)\n",
    "    )\n",
    "\n",
    "plt.legend()\n",
    "plt.title('Динамика продаж по платформам')\n",
    "plt.ylabel('Объем продаж, млн');"
   ]
  },
  {
   "cell_type": "markdown",
   "metadata": {},
   "source": [
    "<a id=\"cell_30\"></a>\n",
    "<div class=\"alert alert-danger\">\n",
    "\n",
    "**Артём:** ✋ Странная ошибка. Зачем до 2020, если 2016 последний? Исправь.\n",
    "\n",
    "</div>"
   ]
  },
  {
   "cell_type": "markdown",
   "metadata": {},
   "source": [
    "<div style=\"border:solid green 2px; padding: 20px\">\n",
    "\n",
    "🧑‍🎓 **Антон:** Исправил. Видимо, была опечатка."
   ]
  },
  {
   "cell_type": "markdown",
   "metadata": {},
   "source": [
    "<div class=\"alert alert-success\">\n",
    "\n",
    "**Артём:** 👍👍 Возможно, главное в портфолио выложить проект без багов.\n",
    "\n",
    "</div>"
   ]
  },
  {
   "cell_type": "markdown",
   "metadata": {},
   "source": [
    "**Вывод**\n",
    "\n",
    "Как видно по графику, из представленных в данный период на рынке 11 платформ, продажи по 9 платформам зничительно снижаются, либо прекращены совсем, что говорит об устаревании данных платформ - некоторые из данных платформ неперспективны (это относится к PSP, PSV, DS и X360). Однако, имеется несколько платформ, которые несмотря на снижение, все же сохраняют достаточно высокий уровень продаж (примерно от 3 до 18 млн копий в год), такие как Wii, PS3, 3DS, WiiU и PC. Также выделяются 2 платформы PS4 и XOne, продажи по которым не показывают однозначного снижения (снижение в 2016 году может быть связано с неполнотой данных за этот год, т.к. это последний год в имеющихся данных). Из этого следует, что потенциально прибыльными платформами в первую очередь являются PS4 и XOne, но также можно рассмотреть платформы Wii, PS3, 3DS, WiiU и PC для дальнейшей работы."
   ]
  },
  {
   "cell_type": "markdown",
   "metadata": {},
   "source": [
    "<a id=\"cell_31\"></a>\n",
    "<div class=\"alert alert-danger\">\n",
    "\n",
    "**Артём:** ✋ Две топовые платформы действительно хорошо видно. Но важно оставить и те, которые находятся на неплохом уровне продаж, например в данном случае можно оставить от пяти миллионов копий и выше иначе это будет упущенной выгодой для магазина. У этих платформ по-прежнему есть поклонники, и на 2017 год их лучше включить в список.\n",
    "\n",
    "</div>"
   ]
  },
  {
   "cell_type": "markdown",
   "metadata": {},
   "source": [
    "<div style=\"border:solid green 2px; padding: 20px\">\n",
    "\n",
    "🧑‍🎓 **Антон:** Выводы поправил. Надеюсь, что правильно."
   ]
  },
  {
   "cell_type": "markdown",
   "metadata": {},
   "source": [
    "<div class=\"alert alert-success\">\n",
    "\n",
    "**Артём:** 👍👍 Молодец.\n",
    "\n",
    "</div>"
   ]
  },
  {
   "cell_type": "markdown",
   "metadata": {},
   "source": [
    "Построим график «ящик с усами» по глобальным продажам игр в разбивке по платформам:"
   ]
  },
  {
   "cell_type": "code",
   "execution_count": 31,
   "metadata": {},
   "outputs": [
    {
     "data": {
      "image/png": "[encoded data removed]",
      "text/plain": [
       "<Figure size 1152x432 with 1 Axes>"
      ]
     },
     "metadata": {
      "needs_background": "light"
     },
     "output_type": "display_data"
    }
   ],
   "source": [
    "df_platform_median_sales = df_release_after2013.pivot_table(\n",
    "    index='year_of_release', columns='platform', values='all_sales', aggfunc='median')\n",
    "df_platform_median_sales.boxplot(figsize=(16, 6));"
   ]
  },
  {
   "cell_type": "markdown",
   "metadata": {},
   "source": [
    "<div class=\"alert alert-warning\">\n",
    "    \n",
    "**Артём:** 👉 Я бы построил по медиане, а не по суммарным продажам.\n",
    "    \n",
    "</div>"
   ]
  },
  {
   "cell_type": "markdown",
   "metadata": {},
   "source": [
    "<div style=\"border:solid green 2px; padding: 20px\">\n",
    "\n",
    "🧑‍🎓 **Антон:** Построил, теперь более понятно."
   ]
  },
  {
   "cell_type": "code",
   "execution_count": 32,
   "metadata": {
    "scrolled": true
   },
   "outputs": [
    {
     "data": {
      "text/plain": [
       "1980"
      ]
     },
     "execution_count": 32,
     "metadata": {},
     "output_type": "execute_result"
    }
   ],
   "source": [
    "df['year_of_release'].min()"
   ]
  },
  {
   "cell_type": "markdown",
   "metadata": {},
   "source": [
    "👆\n",
    "<a id=\"cell_31_2\"></a>\n",
    "<div class=\"alert alert-danger\">\n",
    "\n",
    "**Артём:** ✋✋ Исследуй данные в актуальном периоде и сможешь сделать выводы.\n",
    "\n",
    "</div>"
   ]
  },
  {
   "cell_type": "markdown",
   "metadata": {},
   "source": [
    "<div style=\"border:solid green 2px; padding: 20px\">\n",
    "\n",
    "🧑‍🎓 **Антон:** Написал новый вывод."
   ]
  },
  {
   "cell_type": "markdown",
   "metadata": {},
   "source": [
    "<div class=\"alert alert-success\">\n",
    "\n",
    "**Артём:** 👍👍👍 Отлично.\n",
    "\n",
    "</div>"
   ]
  },
  {
   "cell_type": "markdown",
   "metadata": {},
   "source": [
    "**Вывод:** \n",
    "\n",
    "Из графика видно, что самые большие продажи имеют платформы PS4 и XOne, что подтверждает предыдущие выводы. При этом медиана у PS4 выше, а также у PS4 очень большие максимальные значения отклонения, что говорит о большом успехе в отдельные годы продаж (может быть связано с выпуском эксклюзивных игр)."
   ]
  },
  {
   "cell_type": "markdown",
   "metadata": {},
   "source": [
    "### Посмотрим, как влияют на продажи внутри одной популярной платформы отзывы пользователей и критиков. Построим диаграмму рассеяния и посчитаем корреляцию между отзывами и продажами. Сформулируем выводы:"
   ]
  },
  {
   "cell_type": "markdown",
   "metadata": {},
   "source": [
    "В качестве популярной платформы выберим PS4, для этого сделаем соответствующий срез:"
   ]
  },
  {
   "cell_type": "code",
   "execution_count": 33,
   "metadata": {},
   "outputs": [
    {
     "data": {
      "text/html": [
       "<div>\n",
       "<style scoped>\n",
       "    .dataframe tbody tr th:only-of-type {\n",
       "        vertical-align: middle;\n",
       "    }\n",
       "\n",
       "    .dataframe tbody tr th {\n",
       "        vertical-align: top;\n",
       "    }\n",
       "\n",
       "    .dataframe thead th {\n",
       "        text-align: right;\n",
       "    }\n",
       "</style>\n",
       "<table border=\"1\" class=\"dataframe\">\n",
       "  <thead>\n",
       "    <tr style=\"text-align: right;\">\n",
       "      <th></th>\n",
       "      <th>platform</th>\n",
       "      <th>critic_score</th>\n",
       "      <th>user_score</th>\n",
       "      <th>all_sales</th>\n",
       "    </tr>\n",
       "  </thead>\n",
       "  <tbody>\n",
       "    <tr>\n",
       "      <th>31</th>\n",
       "      <td>PS4</td>\n",
       "      <td>NaN</td>\n",
       "      <td>NaN</td>\n",
       "      <td>14.63</td>\n",
       "    </tr>\n",
       "    <tr>\n",
       "      <th>42</th>\n",
       "      <td>PS4</td>\n",
       "      <td>97.0</td>\n",
       "      <td>8.3</td>\n",
       "      <td>12.62</td>\n",
       "    </tr>\n",
       "    <tr>\n",
       "      <th>77</th>\n",
       "      <td>PS4</td>\n",
       "      <td>82.0</td>\n",
       "      <td>4.3</td>\n",
       "      <td>8.58</td>\n",
       "    </tr>\n",
       "    <tr>\n",
       "      <th>87</th>\n",
       "      <td>PS4</td>\n",
       "      <td>NaN</td>\n",
       "      <td>NaN</td>\n",
       "      <td>7.98</td>\n",
       "    </tr>\n",
       "    <tr>\n",
       "      <th>92</th>\n",
       "      <td>PS4</td>\n",
       "      <td>83.0</td>\n",
       "      <td>5.7</td>\n",
       "      <td>7.66</td>\n",
       "    </tr>\n",
       "  </tbody>\n",
       "</table>\n",
       "</div>"
      ],
      "text/plain": [
       "   platform  critic_score  user_score  all_sales\n",
       "31      PS4           NaN         NaN      14.63\n",
       "42      PS4          97.0         8.3      12.62\n",
       "77      PS4          82.0         4.3       8.58\n",
       "87      PS4           NaN         NaN       7.98\n",
       "92      PS4          83.0         5.7       7.66"
      ]
     },
     "execution_count": 33,
     "metadata": {},
     "output_type": "execute_result"
    }
   ],
   "source": [
    "df_ps4 = df_release_after2013[['platform', 'critic_score', 'user_score', 'all_sales']].query('platform == \"PS4\"')\n",
    "df_ps4.head()"
   ]
  },
  {
   "cell_type": "markdown",
   "metadata": {},
   "source": [
    "<a id=\"cell_32\"></a>\n",
    "<div class=\"alert alert-danger\">\n",
    "\n",
    "**Артём:** ✋ 👆 По условиям брифа «Не учитывайте в работе данные за предыдущие годы». Измени период.\n",
    "\n",
    "</div>"
   ]
  },
  {
   "cell_type": "markdown",
   "metadata": {},
   "source": [
    "<div style=\"border:solid green 2px; padding: 20px\">\n",
    "\n",
    "🧑‍🎓 **Антон:** Поправил."
   ]
  },
  {
   "cell_type": "markdown",
   "metadata": {},
   "source": [
    "<div class=\"alert alert-success\">\n",
    "\n",
    "**Артём:** 👍👍 Хорошо.\n",
    "\n",
    "</div>"
   ]
  },
  {
   "cell_type": "code",
   "execution_count": 34,
   "metadata": {},
   "outputs": [
    {
     "data": {
      "text/html": [
       "<div>\n",
       "<style scoped>\n",
       "    .dataframe tbody tr th:only-of-type {\n",
       "        vertical-align: middle;\n",
       "    }\n",
       "\n",
       "    .dataframe tbody tr th {\n",
       "        vertical-align: top;\n",
       "    }\n",
       "\n",
       "    .dataframe thead th {\n",
       "        text-align: right;\n",
       "    }\n",
       "</style>\n",
       "<table border=\"1\" class=\"dataframe\">\n",
       "  <thead>\n",
       "    <tr style=\"text-align: right;\">\n",
       "      <th></th>\n",
       "      <th>critic_score</th>\n",
       "      <th>user_score</th>\n",
       "      <th>all_sales</th>\n",
       "    </tr>\n",
       "  </thead>\n",
       "  <tbody>\n",
       "    <tr>\n",
       "      <th>critic_score</th>\n",
       "      <td>1.000000</td>\n",
       "      <td>0.557654</td>\n",
       "      <td>0.406568</td>\n",
       "    </tr>\n",
       "    <tr>\n",
       "      <th>user_score</th>\n",
       "      <td>0.557654</td>\n",
       "      <td>1.000000</td>\n",
       "      <td>-0.031957</td>\n",
       "    </tr>\n",
       "    <tr>\n",
       "      <th>all_sales</th>\n",
       "      <td>0.406568</td>\n",
       "      <td>-0.031957</td>\n",
       "      <td>1.000000</td>\n",
       "    </tr>\n",
       "  </tbody>\n",
       "</table>\n",
       "</div>"
      ],
      "text/plain": [
       "              critic_score  user_score  all_sales\n",
       "critic_score      1.000000    0.557654   0.406568\n",
       "user_score        0.557654    1.000000  -0.031957\n",
       "all_sales         0.406568   -0.031957   1.000000"
      ]
     },
     "execution_count": 34,
     "metadata": {},
     "output_type": "execute_result"
    }
   ],
   "source": [
    "df_ps4.corr()"
   ]
  },
  {
   "cell_type": "code",
   "execution_count": 35,
   "metadata": {},
   "outputs": [
    {
     "data": {
      "image/png": "[encoded data removed]",
      "text/plain": [
       "<Figure size 720x432 with 1 Axes>"
      ]
     },
     "metadata": {
      "needs_background": "light"
     },
     "output_type": "display_data"
    }
   ],
   "source": [
    "df_ps4.plot(x='critic_score', y='all_sales', figsize=(10, 6),\n",
    "            kind='scatter', title='Зависимость продаж от оценок критиков');"
   ]
  },
  {
   "cell_type": "code",
   "execution_count": 36,
   "metadata": {},
   "outputs": [
    {
     "data": {
      "image/png": "[encoded data removed]",
      "text/plain": [
       "<Figure size 720x432 with 1 Axes>"
      ]
     },
     "metadata": {
      "needs_background": "light"
     },
     "output_type": "display_data"
    }
   ],
   "source": [
    "df_ps4.plot(x='user_score', y='all_sales', figsize=(10, 6),\n",
    "            kind='scatter', title='Зависимость продаж от оценок пользователей');"
   ]
  },
  {
   "cell_type": "markdown",
   "metadata": {},
   "source": [
    "**Вывод**\n",
    "\n",
    "Как видно по корреляции и по диаграммам рассеяния, есть прямая положительная зависимость между отзывами критиков и объемами продаж (чем выше оценка, тем выше продажи). Но при этом зависимость между отзывами пользователей и объемами продаж отсутствует. Также заметно, что значительный рост продаж появляется при оценке критиков выше 80."
   ]
  },
  {
   "cell_type": "markdown",
   "metadata": {},
   "source": [
    "<a id=\"cell_34\"></a>\n",
    "<div class=\"alert alert-danger\">\n",
    "\n",
    "**Артём:** ✋ Если корреляция меньше 0.25 то можно смело утверждать, что ее нет. Поэтому в нашем случае зависимости между оценкой пользователей и продажами нет. Если меньше 0.5 - слабо выраженная. Измени вывод.\n",
    "\n",
    "</div>"
   ]
  },
  {
   "cell_type": "markdown",
   "metadata": {},
   "source": [
    "<div style=\"border:solid green 2px; padding: 20px\">\n",
    "\n",
    "🧑‍🎓 **Антон:** Поправил."
   ]
  },
  {
   "cell_type": "markdown",
   "metadata": {},
   "source": [
    "<div class=\"alert alert-warning\">\n",
    "    \n",
    "**Артём:** 👉👉 Зависимость между продажами и отзывами пользователей **отсутствует**.\n",
    "\n",
    "</div>"
   ]
  },
  {
   "cell_type": "markdown",
   "metadata": {},
   "source": [
    "<div style=\"border:solid green 2px; padding: 20px\">\n",
    "\n",
    "🧑‍🎓 **Антон:** Поправил."
   ]
  },
  {
   "cell_type": "markdown",
   "metadata": {},
   "source": [
    "### Соотнесем выводы с продажами игр на других платформах:"
   ]
  },
  {
   "cell_type": "markdown",
   "metadata": {},
   "source": [
    "Исследуем корреляцию на других топовых платформах (возьмем 6 платформ - 'X360', 'PS3', '3DS', 'XOne', 'WiiU', 'PC'):"
   ]
  },
  {
   "cell_type": "code",
   "execution_count": 37,
   "metadata": {},
   "outputs": [
    {
     "data": {
      "text/plain": [
       "'X360'"
      ]
     },
     "metadata": {},
     "output_type": "display_data"
    },
    {
     "data": {
      "text/html": [
       "<div>\n",
       "<style scoped>\n",
       "    .dataframe tbody tr th:only-of-type {\n",
       "        vertical-align: middle;\n",
       "    }\n",
       "\n",
       "    .dataframe tbody tr th {\n",
       "        vertical-align: top;\n",
       "    }\n",
       "\n",
       "    .dataframe thead th {\n",
       "        text-align: right;\n",
       "    }\n",
       "</style>\n",
       "<table border=\"1\" class=\"dataframe\">\n",
       "  <thead>\n",
       "    <tr style=\"text-align: right;\">\n",
       "      <th></th>\n",
       "      <th>critic_score</th>\n",
       "      <th>user_score</th>\n",
       "      <th>all_sales</th>\n",
       "    </tr>\n",
       "  </thead>\n",
       "  <tbody>\n",
       "    <tr>\n",
       "      <th>critic_score</th>\n",
       "      <td>1.000000</td>\n",
       "      <td>0.520946</td>\n",
       "      <td>0.350345</td>\n",
       "    </tr>\n",
       "    <tr>\n",
       "      <th>user_score</th>\n",
       "      <td>0.520946</td>\n",
       "      <td>1.000000</td>\n",
       "      <td>-0.011742</td>\n",
       "    </tr>\n",
       "    <tr>\n",
       "      <th>all_sales</th>\n",
       "      <td>0.350345</td>\n",
       "      <td>-0.011742</td>\n",
       "      <td>1.000000</td>\n",
       "    </tr>\n",
       "  </tbody>\n",
       "</table>\n",
       "</div>"
      ],
      "text/plain": [
       "              critic_score  user_score  all_sales\n",
       "critic_score      1.000000    0.520946   0.350345\n",
       "user_score        0.520946    1.000000  -0.011742\n",
       "all_sales         0.350345   -0.011742   1.000000"
      ]
     },
     "metadata": {},
     "output_type": "display_data"
    },
    {
     "data": {
      "text/plain": [
       "'PS3'"
      ]
     },
     "metadata": {},
     "output_type": "display_data"
    },
    {
     "data": {
      "text/html": [
       "<div>\n",
       "<style scoped>\n",
       "    .dataframe tbody tr th:only-of-type {\n",
       "        vertical-align: middle;\n",
       "    }\n",
       "\n",
       "    .dataframe tbody tr th {\n",
       "        vertical-align: top;\n",
       "    }\n",
       "\n",
       "    .dataframe thead th {\n",
       "        text-align: right;\n",
       "    }\n",
       "</style>\n",
       "<table border=\"1\" class=\"dataframe\">\n",
       "  <thead>\n",
       "    <tr style=\"text-align: right;\">\n",
       "      <th></th>\n",
       "      <th>critic_score</th>\n",
       "      <th>user_score</th>\n",
       "      <th>all_sales</th>\n",
       "    </tr>\n",
       "  </thead>\n",
       "  <tbody>\n",
       "    <tr>\n",
       "      <th>critic_score</th>\n",
       "      <td>1.000000</td>\n",
       "      <td>0.599920</td>\n",
       "      <td>0.334285</td>\n",
       "    </tr>\n",
       "    <tr>\n",
       "      <th>user_score</th>\n",
       "      <td>0.599920</td>\n",
       "      <td>1.000000</td>\n",
       "      <td>0.002394</td>\n",
       "    </tr>\n",
       "    <tr>\n",
       "      <th>all_sales</th>\n",
       "      <td>0.334285</td>\n",
       "      <td>0.002394</td>\n",
       "      <td>1.000000</td>\n",
       "    </tr>\n",
       "  </tbody>\n",
       "</table>\n",
       "</div>"
      ],
      "text/plain": [
       "              critic_score  user_score  all_sales\n",
       "critic_score      1.000000    0.599920   0.334285\n",
       "user_score        0.599920    1.000000   0.002394\n",
       "all_sales         0.334285    0.002394   1.000000"
      ]
     },
     "metadata": {},
     "output_type": "display_data"
    },
    {
     "data": {
      "text/plain": [
       "'3DS'"
      ]
     },
     "metadata": {},
     "output_type": "display_data"
    },
    {
     "data": {
      "text/html": [
       "<div>\n",
       "<style scoped>\n",
       "    .dataframe tbody tr th:only-of-type {\n",
       "        vertical-align: middle;\n",
       "    }\n",
       "\n",
       "    .dataframe tbody tr th {\n",
       "        vertical-align: top;\n",
       "    }\n",
       "\n",
       "    .dataframe thead th {\n",
       "        text-align: right;\n",
       "    }\n",
       "</style>\n",
       "<table border=\"1\" class=\"dataframe\">\n",
       "  <thead>\n",
       "    <tr style=\"text-align: right;\">\n",
       "      <th></th>\n",
       "      <th>critic_score</th>\n",
       "      <th>user_score</th>\n",
       "      <th>all_sales</th>\n",
       "    </tr>\n",
       "  </thead>\n",
       "  <tbody>\n",
       "    <tr>\n",
       "      <th>critic_score</th>\n",
       "      <td>1.000000</td>\n",
       "      <td>0.767946</td>\n",
       "      <td>0.361008</td>\n",
       "    </tr>\n",
       "    <tr>\n",
       "      <th>user_score</th>\n",
       "      <td>0.767946</td>\n",
       "      <td>1.000000</td>\n",
       "      <td>0.250366</td>\n",
       "    </tr>\n",
       "    <tr>\n",
       "      <th>all_sales</th>\n",
       "      <td>0.361008</td>\n",
       "      <td>0.250366</td>\n",
       "      <td>1.000000</td>\n",
       "    </tr>\n",
       "  </tbody>\n",
       "</table>\n",
       "</div>"
      ],
      "text/plain": [
       "              critic_score  user_score  all_sales\n",
       "critic_score      1.000000    0.767946   0.361008\n",
       "user_score        0.767946    1.000000   0.250366\n",
       "all_sales         0.361008    0.250366   1.000000"
      ]
     },
     "metadata": {},
     "output_type": "display_data"
    },
    {
     "data": {
      "text/plain": [
       "'XOne'"
      ]
     },
     "metadata": {},
     "output_type": "display_data"
    },
    {
     "data": {
      "text/html": [
       "<div>\n",
       "<style scoped>\n",
       "    .dataframe tbody tr th:only-of-type {\n",
       "        vertical-align: middle;\n",
       "    }\n",
       "\n",
       "    .dataframe tbody tr th {\n",
       "        vertical-align: top;\n",
       "    }\n",
       "\n",
       "    .dataframe thead th {\n",
       "        text-align: right;\n",
       "    }\n",
       "</style>\n",
       "<table border=\"1\" class=\"dataframe\">\n",
       "  <thead>\n",
       "    <tr style=\"text-align: right;\">\n",
       "      <th></th>\n",
       "      <th>critic_score</th>\n",
       "      <th>user_score</th>\n",
       "      <th>all_sales</th>\n",
       "    </tr>\n",
       "  </thead>\n",
       "  <tbody>\n",
       "    <tr>\n",
       "      <th>critic_score</th>\n",
       "      <td>1.000000</td>\n",
       "      <td>0.472462</td>\n",
       "      <td>0.416998</td>\n",
       "    </tr>\n",
       "    <tr>\n",
       "      <th>user_score</th>\n",
       "      <td>0.472462</td>\n",
       "      <td>1.000000</td>\n",
       "      <td>-0.068925</td>\n",
       "    </tr>\n",
       "    <tr>\n",
       "      <th>all_sales</th>\n",
       "      <td>0.416998</td>\n",
       "      <td>-0.068925</td>\n",
       "      <td>1.000000</td>\n",
       "    </tr>\n",
       "  </tbody>\n",
       "</table>\n",
       "</div>"
      ],
      "text/plain": [
       "              critic_score  user_score  all_sales\n",
       "critic_score      1.000000    0.472462   0.416998\n",
       "user_score        0.472462    1.000000  -0.068925\n",
       "all_sales         0.416998   -0.068925   1.000000"
      ]
     },
     "metadata": {},
     "output_type": "display_data"
    },
    {
     "data": {
      "text/plain": [
       "'WiiU'"
      ]
     },
     "metadata": {},
     "output_type": "display_data"
    },
    {
     "data": {
      "text/html": [
       "<div>\n",
       "<style scoped>\n",
       "    .dataframe tbody tr th:only-of-type {\n",
       "        vertical-align: middle;\n",
       "    }\n",
       "\n",
       "    .dataframe tbody tr th {\n",
       "        vertical-align: top;\n",
       "    }\n",
       "\n",
       "    .dataframe thead th {\n",
       "        text-align: right;\n",
       "    }\n",
       "</style>\n",
       "<table border=\"1\" class=\"dataframe\">\n",
       "  <thead>\n",
       "    <tr style=\"text-align: right;\">\n",
       "      <th></th>\n",
       "      <th>critic_score</th>\n",
       "      <th>user_score</th>\n",
       "      <th>all_sales</th>\n",
       "    </tr>\n",
       "  </thead>\n",
       "  <tbody>\n",
       "    <tr>\n",
       "      <th>critic_score</th>\n",
       "      <td>1.000000</td>\n",
       "      <td>0.721313</td>\n",
       "      <td>0.376415</td>\n",
       "    </tr>\n",
       "    <tr>\n",
       "      <th>user_score</th>\n",
       "      <td>0.721313</td>\n",
       "      <td>1.000000</td>\n",
       "      <td>0.419330</td>\n",
       "    </tr>\n",
       "    <tr>\n",
       "      <th>all_sales</th>\n",
       "      <td>0.376415</td>\n",
       "      <td>0.419330</td>\n",
       "      <td>1.000000</td>\n",
       "    </tr>\n",
       "  </tbody>\n",
       "</table>\n",
       "</div>"
      ],
      "text/plain": [
       "              critic_score  user_score  all_sales\n",
       "critic_score      1.000000    0.721313   0.376415\n",
       "user_score        0.721313    1.000000   0.419330\n",
       "all_sales         0.376415    0.419330   1.000000"
      ]
     },
     "metadata": {},
     "output_type": "display_data"
    },
    {
     "data": {
      "text/plain": [
       "'PC'"
      ]
     },
     "metadata": {},
     "output_type": "display_data"
    },
    {
     "data": {
      "text/html": [
       "<div>\n",
       "<style scoped>\n",
       "    .dataframe tbody tr th:only-of-type {\n",
       "        vertical-align: middle;\n",
       "    }\n",
       "\n",
       "    .dataframe tbody tr th {\n",
       "        vertical-align: top;\n",
       "    }\n",
       "\n",
       "    .dataframe thead th {\n",
       "        text-align: right;\n",
       "    }\n",
       "</style>\n",
       "<table border=\"1\" class=\"dataframe\">\n",
       "  <thead>\n",
       "    <tr style=\"text-align: right;\">\n",
       "      <th></th>\n",
       "      <th>critic_score</th>\n",
       "      <th>user_score</th>\n",
       "      <th>all_sales</th>\n",
       "    </tr>\n",
       "  </thead>\n",
       "  <tbody>\n",
       "    <tr>\n",
       "      <th>critic_score</th>\n",
       "      <td>1.000000</td>\n",
       "      <td>0.429562</td>\n",
       "      <td>0.196030</td>\n",
       "    </tr>\n",
       "    <tr>\n",
       "      <th>user_score</th>\n",
       "      <td>0.429562</td>\n",
       "      <td>1.000000</td>\n",
       "      <td>-0.093842</td>\n",
       "    </tr>\n",
       "    <tr>\n",
       "      <th>all_sales</th>\n",
       "      <td>0.196030</td>\n",
       "      <td>-0.093842</td>\n",
       "      <td>1.000000</td>\n",
       "    </tr>\n",
       "  </tbody>\n",
       "</table>\n",
       "</div>"
      ],
      "text/plain": [
       "              critic_score  user_score  all_sales\n",
       "critic_score      1.000000    0.429562   0.196030\n",
       "user_score        0.429562    1.000000  -0.093842\n",
       "all_sales         0.196030   -0.093842   1.000000"
      ]
     },
     "metadata": {},
     "output_type": "display_data"
    }
   ],
   "source": [
    "platforms_for_corr = ['X360', 'PS3', '3DS', 'XOne', 'WiiU', 'PC']\n",
    "\n",
    "df_platforms_for_corr = df_release_after2013[[\n",
    "    'platform', 'critic_score', 'user_score', 'all_sales'\n",
    "]].query(\n",
    "    'platform in @platforms_for_corr'\n",
    ")\n",
    "\n",
    "for platform in platforms_for_corr:\n",
    "    display(platform)\n",
    "    display(df_platforms_for_corr[df_platforms_for_corr['platform'] == platform].corr())"
   ]
  },
  {
   "cell_type": "markdown",
   "metadata": {},
   "source": [
    "**Выводы:**\n",
    "\n",
    "1. По корреляции относительно платформ X360, PS3, XOne и PC имеется слабая положительная зависимость между оценками критиков и продажами.\n",
    "2. По платформам 3DS и WiiU помимо зависимости между оценкой критиков и продажами также имеется слабая зависимость между оценками пользователей и продажами."
   ]
  },
  {
   "cell_type": "markdown",
   "metadata": {},
   "source": [
    "<a id=\"cell_35\"></a>\n",
    "<div class=\"alert alert-danger\">\n",
    "\n",
    "**Артём:** ✋ По условиям брифа «Соотнесите выводы с продажами игр на других платформах.». Измени период и исследуй корреляцию на других платформах.\n",
    "\n",
    "</div>"
   ]
  },
  {
   "cell_type": "markdown",
   "metadata": {},
   "source": [
    "<div style=\"border:solid green 2px; padding: 20px\">\n",
    "\n",
    "🧑‍🎓 **Антон:** Поправил."
   ]
  },
  {
   "cell_type": "markdown",
   "metadata": {},
   "source": [
    "<div class=\"alert alert-success\">\n",
    "\n",
    "**Артём:** 👍👍 Принято. \n",
    "\n",
    "</div>"
   ]
  },
  {
   "cell_type": "markdown",
   "metadata": {},
   "source": [
    "### Посмотрим на общее распределение игр по жанрам:"
   ]
  },
  {
   "cell_type": "code",
   "execution_count": 38,
   "metadata": {
    "scrolled": true
   },
   "outputs": [
    {
     "data": {
      "text/html": [
       "<div>\n",
       "<style scoped>\n",
       "    .dataframe tbody tr th:only-of-type {\n",
       "        vertical-align: middle;\n",
       "    }\n",
       "\n",
       "    .dataframe tbody tr th {\n",
       "        vertical-align: top;\n",
       "    }\n",
       "\n",
       "    .dataframe thead th {\n",
       "        text-align: right;\n",
       "    }\n",
       "</style>\n",
       "<table border=\"1\" class=\"dataframe\">\n",
       "  <thead>\n",
       "    <tr style=\"text-align: right;\">\n",
       "      <th>genre</th>\n",
       "      <th>Action</th>\n",
       "      <th>Adventure</th>\n",
       "      <th>Fighting</th>\n",
       "      <th>Misc</th>\n",
       "      <th>Platform</th>\n",
       "      <th>Puzzle</th>\n",
       "      <th>Racing</th>\n",
       "      <th>Role-Playing</th>\n",
       "      <th>Shooter</th>\n",
       "      <th>Simulation</th>\n",
       "      <th>Sports</th>\n",
       "      <th>Strategy</th>\n",
       "    </tr>\n",
       "    <tr>\n",
       "      <th>year_of_release</th>\n",
       "      <th></th>\n",
       "      <th></th>\n",
       "      <th></th>\n",
       "      <th></th>\n",
       "      <th></th>\n",
       "      <th></th>\n",
       "      <th></th>\n",
       "      <th></th>\n",
       "      <th></th>\n",
       "      <th></th>\n",
       "      <th></th>\n",
       "      <th></th>\n",
       "    </tr>\n",
       "  </thead>\n",
       "  <tbody>\n",
       "    <tr>\n",
       "      <th>2013</th>\n",
       "      <td>0.210</td>\n",
       "      <td>0.03</td>\n",
       "      <td>0.155</td>\n",
       "      <td>0.175</td>\n",
       "      <td>0.385</td>\n",
       "      <td>0.100</td>\n",
       "      <td>0.30</td>\n",
       "      <td>0.175</td>\n",
       "      <td>0.335</td>\n",
       "      <td>0.125</td>\n",
       "      <td>0.365</td>\n",
       "      <td>0.190</td>\n",
       "    </tr>\n",
       "    <tr>\n",
       "      <th>2014</th>\n",
       "      <td>0.205</td>\n",
       "      <td>0.04</td>\n",
       "      <td>0.130</td>\n",
       "      <td>0.160</td>\n",
       "      <td>0.830</td>\n",
       "      <td>0.050</td>\n",
       "      <td>0.17</td>\n",
       "      <td>0.110</td>\n",
       "      <td>0.660</td>\n",
       "      <td>0.120</td>\n",
       "      <td>0.460</td>\n",
       "      <td>0.060</td>\n",
       "    </tr>\n",
       "    <tr>\n",
       "      <th>2015</th>\n",
       "      <td>0.070</td>\n",
       "      <td>0.03</td>\n",
       "      <td>0.100</td>\n",
       "      <td>0.190</td>\n",
       "      <td>0.100</td>\n",
       "      <td>0.045</td>\n",
       "      <td>0.15</td>\n",
       "      <td>0.105</td>\n",
       "      <td>0.925</td>\n",
       "      <td>0.200</td>\n",
       "      <td>0.120</td>\n",
       "      <td>0.045</td>\n",
       "    </tr>\n",
       "    <tr>\n",
       "      <th>2016</th>\n",
       "      <td>0.050</td>\n",
       "      <td>0.02</td>\n",
       "      <td>0.085</td>\n",
       "      <td>0.040</td>\n",
       "      <td>0.100</td>\n",
       "      <td>0.010</td>\n",
       "      <td>0.05</td>\n",
       "      <td>0.120</td>\n",
       "      <td>0.240</td>\n",
       "      <td>0.025</td>\n",
       "      <td>0.120</td>\n",
       "      <td>0.060</td>\n",
       "    </tr>\n",
       "  </tbody>\n",
       "</table>\n",
       "</div>"
      ],
      "text/plain": [
       "genre            Action  Adventure  Fighting   Misc  Platform  Puzzle  Racing  \\\n",
       "year_of_release                                                                 \n",
       "2013              0.210       0.03     0.155  0.175     0.385   0.100    0.30   \n",
       "2014              0.205       0.04     0.130  0.160     0.830   0.050    0.17   \n",
       "2015              0.070       0.03     0.100  0.190     0.100   0.045    0.15   \n",
       "2016              0.050       0.02     0.085  0.040     0.100   0.010    0.05   \n",
       "\n",
       "genre            Role-Playing  Shooter  Simulation  Sports  Strategy  \n",
       "year_of_release                                                       \n",
       "2013                    0.175    0.335       0.125   0.365     0.190  \n",
       "2014                    0.110    0.660       0.120   0.460     0.060  \n",
       "2015                    0.105    0.925       0.200   0.120     0.045  \n",
       "2016                    0.120    0.240       0.025   0.120     0.060  "
      ]
     },
     "execution_count": 38,
     "metadata": {},
     "output_type": "execute_result"
    }
   ],
   "source": [
    "df_genre_sales_median = df_release_after2013.pivot_table(\n",
    "    index='year_of_release', columns='genre', values='all_sales', aggfunc='median')\n",
    "df_genre_sales_median.head()"
   ]
  },
  {
   "cell_type": "markdown",
   "metadata": {},
   "source": [
    "<a id=\"cell_36\"></a>\n",
    "<div class=\"alert alert-danger\">\n",
    "\n",
    "**Артём:** ✋ По условиям брифа «Не учитывайте в работе данные за предыдущие годы». Измени период.\n",
    "\n",
    "</div>"
   ]
  },
  {
   "cell_type": "markdown",
   "metadata": {},
   "source": [
    "<div style=\"border:solid green 2px; padding: 20px\">\n",
    "\n",
    "🧑‍🎓 **Антон:** Поправил."
   ]
  },
  {
   "cell_type": "code",
   "execution_count": 39,
   "metadata": {},
   "outputs": [
    {
     "data": {
      "image/png": "[encoded data removed]",
      "text/plain": [
       "<Figure size 1152x432 with 1 Axes>"
      ]
     },
     "metadata": {
      "needs_background": "light"
     },
     "output_type": "display_data"
    }
   ],
   "source": [
    "genres = ['Adventure', 'Fighting', 'Misc', 'Platform', 'Puzzle', 'Racing', 'Role-Playing',\n",
    "          'Shooter', 'Simulation', 'Sports', 'Strategy']\n",
    "\n",
    "ax = df_genre_sales_median.plot(\n",
    "    y='Action',\n",
    "    style='o-',\n",
    "    grid=True,\n",
    "    xlim=(2013, 2016),\n",
    "    figsize=(16, 6)\n",
    ")\n",
    "\n",
    "for genre in genres:\n",
    "    ax = df_genre_sales_median.plot(\n",
    "    y=genre,\n",
    "    ax=ax,\n",
    "    style='o-',\n",
    "    grid=True,\n",
    "    xlim=(2013, 2016),\n",
    "    figsize=(16, 6)\n",
    "    )\n",
    "\n",
    "plt.legend()\n",
    "plt.title('Динамика продаж по жанрам')\n",
    "plt.ylabel('Объем продаж, млн');"
   ]
  },
  {
   "cell_type": "markdown",
   "metadata": {},
   "source": [
    "<a id=\"cell_37\"></a>\n",
    "<div class=\"alert alert-danger\">\n",
    "\n",
    "**Артём:** ✋ Опять странная ошибка. Зачем до 2020, если 2016 последний? Исправь.\n",
    "\n",
    "</div>"
   ]
  },
  {
   "cell_type": "markdown",
   "metadata": {},
   "source": [
    "<div style=\"border:solid green 2px; padding: 20px\">\n",
    "\n",
    "🧑‍🎓 **Антон:** Видимо, опечатка перетекла из-за копирования кода предыдущего задания. Поправил."
   ]
  },
  {
   "cell_type": "markdown",
   "metadata": {},
   "source": [
    "<div class=\"alert alert-success\">\n",
    "\n",
    "**Артём:** 👍👍 Ok. \n",
    "\n",
    "</div>"
   ]
  },
  {
   "cell_type": "markdown",
   "metadata": {},
   "source": [
    "**Вывод:**\n",
    "\n",
    "Наиболее прибыльными жанрами являются: Platform и Shooter."
   ]
  },
  {
   "cell_type": "markdown",
   "metadata": {},
   "source": [
    "<a id=\"cell_38\"></a>\n",
    "<div class=\"alert alert-danger\">\n",
    "\n",
    "**Артём:** ✋ Общие продажи - плохая метрика для поиска наиболее прибыльного жанра. За высокими показателями общих продаж может скрываться множество мелких игр с низкими продажами. Или 2-3 звезды и куча провалов. Лучше найти жанр, где игры стабильно приносят высокий доход - для этого стоит рассмотреть средние или медианные продажи.\n",
    "\n",
    "</div>"
   ]
  },
  {
   "cell_type": "markdown",
   "metadata": {},
   "source": [
    "<div style=\"border:solid green 2px; padding: 20px\">\n",
    "\n",
    "🧑‍🎓 **Антон:** Поправил."
   ]
  },
  {
   "cell_type": "markdown",
   "metadata": {},
   "source": [
    "<a id=\"cell_38_2\"></a>\n",
    "<div class=\"alert alert-danger\">\n",
    "\n",
    "**Артём:** ✋✋ На графике вижу, а в выводе остался Action.\n",
    "\n",
    "</div>"
   ]
  },
  {
   "cell_type": "markdown",
   "metadata": {},
   "source": [
    "<div style=\"border:solid green 2px; padding: 20px\">\n",
    "\n",
    "🧑‍🎓 **Антон:** Поправил."
   ]
  },
  {
   "cell_type": "markdown",
   "metadata": {},
   "source": [
    "## Составим портрет пользователя каждого региона (NA, EU, JP)."
   ]
  },
  {
   "cell_type": "markdown",
   "metadata": {},
   "source": [
    "### Определим самые популярные платформы (топ-5), посмотрим на различия в долях продаж:"
   ]
  },
  {
   "cell_type": "code",
   "execution_count": 40,
   "metadata": {},
   "outputs": [
    {
     "name": "stdout",
     "output_type": "stream",
     "text": [
      "Самые популярные 5 платформ в сегменте региональных продаж na_sales:\n",
      "          na_sales\n",
      "platform          \n",
      "PS4         108.74\n",
      "XOne         93.12\n",
      "X360         81.66\n",
      "PS3          63.50\n",
      "3DS          39.04\n",
      "\n",
      "Самые популярные 5 платформ в сегменте региональных продаж eu_sales:\n",
      "          eu_sales\n",
      "platform          \n",
      "PS4         141.09\n",
      "PS3          67.81\n",
      "XOne         51.59\n",
      "X360         42.52\n",
      "3DS          31.17\n",
      "\n",
      "Самые популярные 5 платформ в сегменте региональных продаж jp_sales:\n",
      "          jp_sales\n",
      "platform          \n",
      "3DS          67.86\n",
      "PS3          23.35\n",
      "PSV          18.66\n",
      "PS4          15.96\n",
      "WiiU         10.88\n",
      "\n"
     ]
    }
   ],
   "source": [
    "local_sales = ['na_sales', 'eu_sales', 'jp_sales']\n",
    "\n",
    "for sales in local_sales:\n",
    "    df_region_sales_pivot = df_release_after2013.pivot_table(\n",
    "        index='platform', values=sales, aggfunc='sum').sort_values(by=sales, ascending=False)\n",
    "    print(f'Самые популярные 5 платформ в сегменте региональных продаж {sales}:')\n",
    "    print(df_region_sales_pivot.head())\n",
    "    print()"
   ]
  },
  {
   "cell_type": "markdown",
   "metadata": {},
   "source": [
    "<a id=\"cell_39\"></a>\n",
    "<div class=\"alert alert-danger\">\n",
    "\n",
    "**Артём:** ✋ По условиям брифа «Не учитывайте в работе данные за предыдущие годы». Измени период.\n",
    "\n",
    "</div>"
   ]
  },
  {
   "cell_type": "markdown",
   "metadata": {},
   "source": [
    "<div style=\"border:solid green 2px; padding: 20px\">\n",
    "\n",
    "🧑‍🎓 **Антон:** Поправил."
   ]
  },
  {
   "cell_type": "markdown",
   "metadata": {},
   "source": [
    "<div class=\"alert alert-success\">\n",
    "\n",
    "**Артём:** 👍👍 Молодец. \n",
    "\n",
    "</div>"
   ]
  },
  {
   "cell_type": "markdown",
   "metadata": {},
   "source": [
    "**Примечание**\n",
    "\n",
    "Как видно, в каждом регионе список топ 5 платформ различается, но если в Европе и Северной Америке самой популярной платформой является PS4, а разница в популярности других 4-х платформ незначительна, то в Японии самой популярной платформой является 3DS, а сам список топовых платформ сильно отличается от Европы и Северной Америки."
   ]
  },
  {
   "cell_type": "code",
   "execution_count": 41,
   "metadata": {},
   "outputs": [
    {
     "name": "stdout",
     "output_type": "stream",
     "text": [
      "Общие продажи в регионе na_sales на платформе X360 равны 81.66, это {part_sales:.1%} от общих продаж.\n",
      "\n",
      "Общие продажи в регионе eu_sales на платформе X360 равны 42.52, это {part_sales:.1%} от общих продаж.\n",
      "\n",
      "Общие продажи в регионе jp_sales на платформе X360 равны 0.51, это {part_sales:.1%} от общих продаж.\n",
      "\n",
      "Общие продажи в регионе na_sales на платформе PS4 равны 108.74, это {part_sales:.1%} от общих продаж.\n",
      "\n",
      "Общие продажи в регионе eu_sales на платформе PS4 равны 141.09, это {part_sales:.1%} от общих продаж.\n",
      "\n",
      "Общие продажи в регионе jp_sales на платформе PS4 равны 15.96, это {part_sales:.1%} от общих продаж.\n",
      "\n",
      "Общие продажи в регионе na_sales на платформе WiiU равны 29.21, это {part_sales:.1%} от общих продаж.\n",
      "\n",
      "Общие продажи в регионе eu_sales на платформе WiiU равны 19.85, это {part_sales:.1%} от общих продаж.\n",
      "\n",
      "Общие продажи в регионе jp_sales на платформе WiiU равны 10.88, это {part_sales:.1%} от общих продаж.\n",
      "\n",
      "Общие продажи в регионе na_sales на платформе PS3 равны 63.50, это {part_sales:.1%} от общих продаж.\n",
      "\n",
      "Общие продажи в регионе eu_sales на платформе PS3 равны 67.81, это {part_sales:.1%} от общих продаж.\n",
      "\n",
      "Общие продажи в регионе jp_sales на платформе PS3 равны 23.35, это {part_sales:.1%} от общих продаж.\n",
      "\n",
      "Общие продажи в регионе na_sales на платформе 3DS равны 39.04, это {part_sales:.1%} от общих продаж.\n",
      "\n",
      "Общие продажи в регионе eu_sales на платформе 3DS равны 31.17, это {part_sales:.1%} от общих продаж.\n",
      "\n",
      "Общие продажи в регионе jp_sales на платформе 3DS равны 67.86, это {part_sales:.1%} от общих продаж.\n",
      "\n",
      "Общие продажи в регионе na_sales на платформе XOne равны 93.12, это {part_sales:.1%} от общих продаж.\n",
      "\n",
      "Общие продажи в регионе eu_sales на платформе XOne равны 51.59, это {part_sales:.1%} от общих продаж.\n",
      "\n",
      "Общие продажи в регионе jp_sales на платформе XOne равны 0.34, это {part_sales:.1%} от общих продаж.\n",
      "\n",
      "Общие продажи в регионе na_sales на платформе PSV равны 5.15, это {part_sales:.1%} от общих продаж.\n",
      "\n",
      "Общие продажи в регионе eu_sales на платформе PSV равны 6.15, это {part_sales:.1%} от общих продаж.\n",
      "\n",
      "Общие продажи в регионе jp_sales на платформе PSV равны 18.66, это {part_sales:.1%} от общих продаж.\n",
      "\n"
     ]
    }
   ],
   "source": [
    "top_local_platforms = ['X360', 'PS4', 'WiiU', 'PS3', '3DS', 'XOne', 'PSV']\n",
    "\n",
    "for platform in top_local_platforms:\n",
    "    df_platform = df_release_after2013[df_release_after2013['platform'] == platform]\n",
    "    for sales in local_sales:\n",
    "        world_sales = df_platform['all_sales'].sum()\n",
    "        sum_sales = df_platform[sales].sum()\n",
    "        part_sales = sum_sales / world_sales\n",
    "        print(\n",
    "f'Общие продажи в регионе {sales} на платформе {platform} равны {sum_sales:.2f}, ' # Вот так =)\n",
    "            'это {part_sales:.1%} от общих продаж.'\n",
    "        )\n",
    "        print()"
   ]
  },
  {
   "cell_type": "markdown",
   "metadata": {},
   "source": [
    "<div class=\"alert alert-warning\">\n",
    "    \n",
    "**Артём:** 👉 Код ушел за пределы ячейки.\n",
    "    \n",
    "</div>"
   ]
  },
  {
   "cell_type": "markdown",
   "metadata": {},
   "source": [
    "<div style=\"border:solid green 2px; padding: 20px\">\n",
    "\n",
    "🧑‍🎓 **Антон:** Вроде поправил. Не знаю, как можно переносить текстовую часть кода. Буду благодарен за подсказку."
   ]
  },
  {
   "cell_type": "markdown",
   "metadata": {},
   "source": [
    "<div class=\"alert alert-success\">\n",
    "\n",
    "**Артём:** 👍👍 Перенес, смотри в коде.\n",
    "\n",
    "</div>"
   ]
  },
  {
   "cell_type": "markdown",
   "metadata": {},
   "source": [
    "**Выводы:**\n",
    "\n",
    "1. По платформам PSV и 3DS наибольшие продажи приходятся на Японию.\n",
    "2. Платформы X360 и XOne имею большею популярность в Европе и Серверной Америке, но совсем не популярны в Японии - продажи в Японии по этим платформам минимальные."
   ]
  },
  {
   "cell_type": "markdown",
   "metadata": {},
   "source": [
    "<div class=\"alert alert-success\">\n",
    "\n",
    "**Артём:** 👍 Молодец, что отметил Японию.\n",
    "\n",
    "</div>"
   ]
  },
  {
   "cell_type": "markdown",
   "metadata": {},
   "source": [
    "### Определим самые популярные жанры (топ-5), посмотрим на различия:"
   ]
  },
  {
   "cell_type": "code",
   "execution_count": 42,
   "metadata": {},
   "outputs": [
    {
     "name": "stdout",
     "output_type": "stream",
     "text": [
      "Самые популярные 5 жанров в сегменте региональных продаж na_sales:\n",
      "              na_sales\n",
      "genre                 \n",
      "Action          126.23\n",
      "Shooter         109.78\n",
      "Sports           65.27\n",
      "Role-Playing     46.51\n",
      "Misc             27.49\n",
      "\n",
      "Самые популярные 5 жанров в сегменте региональных продаж eu_sales:\n",
      "              eu_sales\n",
      "genre                 \n",
      "Action          118.32\n",
      "Shooter          87.88\n",
      "Sports           60.52\n",
      "Role-Playing     37.02\n",
      "Racing           20.19\n",
      "\n",
      "Самые популярные 5 жанров в сегменте региональных продаж jp_sales:\n",
      "              jp_sales\n",
      "genre                 \n",
      "Role-Playing     51.14\n",
      "Action           40.49\n",
      "Misc              9.20\n",
      "Fighting          7.65\n",
      "Shooter           6.61\n",
      "\n"
     ]
    }
   ],
   "source": [
    "for sales in local_sales:\n",
    "    df_region_genres_pivot = df_release_after2013.pivot_table(\n",
    "        index='genre', values=sales, aggfunc='sum').sort_values(by=sales, ascending=False)\n",
    "    print(f'Самые популярные 5 жанров в сегменте региональных продаж {sales}:')\n",
    "    print(df_region_genres_pivot.head())\n",
    "    print()"
   ]
  },
  {
   "cell_type": "markdown",
   "metadata": {},
   "source": [
    "<div class=\"alert alert-success\">\n",
    "\n",
    "**Артём:** 👍 Предпочтения по жанрам не меняются даже с годами. 😄\n",
    "\n",
    "</div>"
   ]
  },
  {
   "cell_type": "markdown",
   "metadata": {},
   "source": [
    "**Выводы:**\n",
    "\n",
    "1. Самыми популярными жанрами, которые попали в топ во всех регионах являются Action, Sports и Role-Playing.\n",
    "2. Самым популярным жанром в Японии (JP) является Role-Playing. Такая популярность может быть связана со сложившейся традицией игровой культуры и индустрии игр в Японии.\n",
    "3. Жанр Racing попал в топ-5 только в Европе (EU), данный факт может быть связан с популярностью в Европе данного вида спорта в реальной жизни."
   ]
  },
  {
   "cell_type": "markdown",
   "metadata": {},
   "source": [
    "### Проверим, влияет ли рейтинг ESRB на продажи в отдельном регионе:"
   ]
  },
  {
   "cell_type": "code",
   "execution_count": 43,
   "metadata": {},
   "outputs": [
    {
     "name": "stdout",
     "output_type": "stream",
     "text": [
      "Самые популярные 5 жанров в сегменте региональных продаж na_sales:\n",
      "         na_sales\n",
      "rating           \n",
      "M          165.21\n",
      "unknown     89.70\n",
      "E           79.17\n",
      "E10+        54.50\n",
      "T           50.08\n",
      "\n",
      "Самые популярные 5 жанров в сегменте региональных продаж eu_sales:\n",
      "         eu_sales\n",
      "rating           \n",
      "M          145.32\n",
      "E           83.38\n",
      "unknown     78.91\n",
      "E10+        42.88\n",
      "T           42.00\n",
      "\n",
      "Самые популярные 5 жанров в сегменте региональных продаж jp_sales:\n",
      "         jp_sales\n",
      "rating           \n",
      "unknown     85.10\n",
      "T           20.66\n",
      "E           15.14\n",
      "M           14.11\n",
      "E10+         5.89\n",
      "\n"
     ]
    }
   ],
   "source": [
    "for sales in local_sales:\n",
    "    df_region_rating_pivot = df_release_after2013.pivot_table(\n",
    "        index='rating', values=sales, aggfunc='sum').sort_values(by=sales, ascending=False)\n",
    "    print(f'Самые популярные 5 жанров в сегменте региональных продаж {sales}:')\n",
    "    print(df_region_rating_pivot)\n",
    "    print()"
   ]
  },
  {
   "cell_type": "markdown",
   "metadata": {},
   "source": [
    "<a id=\"cell_40\"></a>\n",
    "<div class=\"alert alert-danger\">\n",
    "\n",
    "**Артём:** ✋ И снова... По условиям брифа «Не учитывайте в работе данные за предыдущие годы». Измени период. Но... 👇\n",
    "\n",
    "</div>"
   ]
  },
  {
   "cell_type": "markdown",
   "metadata": {},
   "source": [
    "<div class=\"alert alert-success\">\n",
    "\n",
    "**Артём:** 👍 Ты молодец, что оставил `unknown`. Все дело в том, что ESRB – это рейтинг США и игры выпущенные в Японии для локального рынка его не проходят.\n",
    "\n",
    "</div>"
   ]
  },
  {
   "cell_type": "markdown",
   "metadata": {},
   "source": [
    "<div style=\"border:solid green 2px; padding: 20px\">\n",
    "\n",
    "🧑‍🎓 **Антон:** Поправил."
   ]
  },
  {
   "cell_type": "markdown",
   "metadata": {},
   "source": [
    "<div class=\"alert alert-success\">\n",
    "\n",
    "**Артём:** 👍👍 Хорошо.\n",
    "\n",
    "</div>"
   ]
  },
  {
   "cell_type": "markdown",
   "metadata": {},
   "source": [
    "**Выводы:**\n",
    "\n",
    "1. Продажи в зависимости от рейтинга ESRB в Северной Америке (NA) и в Европе (EU) почти не отличаются, при этом в данных регионах продажи игр для взрослых (M) и для подростков (T) примерно равны.\n",
    "2. В Японии (JP) продажи игр для подростков (T) значительно превышают продажи игр для взрослых (M).\n",
    "3. Также в имеющихся данных заметно, что в Японии значительно преобладают продажи игр, по которым рейтинг ESRB не определен."
   ]
  },
  {
   "cell_type": "markdown",
   "metadata": {},
   "source": [
    "<div class=\"alert alert-success\">\n",
    "    \n",
    "**Артём:** 👍👍 Все дело в том, что ESRB – это рейтинг США и игры выпущенные в Японии для локального рынка его не проходят.\n",
    "    \n",
    "</div>"
   ]
  },
  {
   "cell_type": "markdown",
   "metadata": {},
   "source": [
    "## Проверим гипотезы:"
   ]
  },
  {
   "cell_type": "markdown",
   "metadata": {},
   "source": [
    "### Средние пользовательские рейтинги платформ Xbox One и PC одинаковые."
   ]
  },
  {
   "cell_type": "code",
   "execution_count": 44,
   "metadata": {},
   "outputs": [],
   "source": [
    "df_xone = df_release_after2013[df_release_after2013['platform'] == 'XOne']\n",
    "df_xone = df_xone[df_xone['user_score'] > 0]\n",
    "df_xone_list = list(df_xone['user_score'])"
   ]
  },
  {
   "cell_type": "code",
   "execution_count": 45,
   "metadata": {},
   "outputs": [],
   "source": [
    "df_pc = df_release_after2013[df_release_after2013['platform'] == 'PC']\n",
    "df_pc = df_pc[df_pc['user_score'] > 0]\n",
    "df_pc_list = list(df_pc['user_score'])"
   ]
  },
  {
   "cell_type": "markdown",
   "metadata": {},
   "source": [
    "Наша гипотеза будет двусторонней, а ее нулевая и альтернативная гипотезы:\n",
    "- нулевая гипотеза - cредние пользовательские рейтинги платформ Xbox One и PC равны;\n",
    "- альтернативная гипотеза - cредние пользовательские рейтинги платформ Xbox One и PC различаются."
   ]
  },
  {
   "cell_type": "markdown",
   "metadata": {},
   "source": [
    "<div class=\"alert alert-success\">\n",
    "\n",
    "**Артём:** 👍 Гипотезы сформулированы верно.\n",
    "\n",
    "</div>"
   ]
  },
  {
   "cell_type": "code",
   "execution_count": 46,
   "metadata": {},
   "outputs": [
    {
     "name": "stdout",
     "output_type": "stream",
     "text": [
      "Средний пользовательский рейтинг игр на платформе XOne: 6.52\n",
      "Средний пользовательский рейтинг игр на платформе PC: 6.27\n",
      "\n",
      "p-значение: 0.14012658403611647\n",
      "\n",
      "Не получилось отвергнуть нулевую гипотезу\n"
     ]
    }
   ],
   "source": [
    "alpha = .03\n",
    "\n",
    "results = st.ttest_ind(\n",
    "    df_xone_list, \n",
    "    df_pc_list)\n",
    "\n",
    "print(f'Средний пользовательский рейтинг игр на платформе XOne: {df_xone[\"user_score\"].mean():.2f}')\n",
    "print(f'Средний пользовательский рейтинг игр на платформе PC: {df_pc[\"user_score\"].mean():.2f}')\n",
    "print()\n",
    "print('p-значение:', results.pvalue)\n",
    "print()\n",
    "\n",
    "if results.pvalue < alpha:\n",
    "    print(\"Отвергаем нулевую гипотезу\")\n",
    "else:\n",
    "    print(\"Не получилось отвергнуть нулевую гипотезу\")"
   ]
  },
  {
   "cell_type": "markdown",
   "metadata": {},
   "source": [
    "Нулевая гипотеза не отвергнута. Есть основания полагать, что рейтинги платформ Xbox One и PC не различаются."
   ]
  },
  {
   "cell_type": "markdown",
   "metadata": {},
   "source": [
    "<a id=\"cell_55\"></a>\n",
    "<div class=\"alert alert-danger\">\n",
    "\n",
    "**Артём:** ✋ В статистике гипотезы подтвердить или опровергнуть невозможно, лучше написать «У нас нет оснований утверждать, что...»\n",
    "\n",
    "</div>"
   ]
  },
  {
   "cell_type": "markdown",
   "metadata": {},
   "source": [
    "<div style=\"border:solid green 2px; padding: 20px\">\n",
    "\n",
    "🧑‍🎓 **Антон:** Поправил."
   ]
  },
  {
   "cell_type": "markdown",
   "metadata": {},
   "source": [
    "<div class=\"alert alert-success\">\n",
    "\n",
    "**Артём:** 👍👍 Ok.\n",
    "\n",
    "</div>"
   ]
  },
  {
   "cell_type": "markdown",
   "metadata": {},
   "source": [
    "### Средние пользовательские рейтинги жанров Action (англ. «действие», экшен-игры) и Sports (англ. «спортивные соревнования») разные."
   ]
  },
  {
   "cell_type": "code",
   "execution_count": 47,
   "metadata": {},
   "outputs": [],
   "source": [
    "df_action = df_release_after2013[df_release_after2013['genre'] == 'Action']\n",
    "df_action = df_action[df_action['user_score'] > 0]\n",
    "df_action_list = list(df_action['user_score'])"
   ]
  },
  {
   "cell_type": "code",
   "execution_count": 48,
   "metadata": {},
   "outputs": [],
   "source": [
    "df_sports = df_release_after2013[df_release_after2013['genre'] == 'Sports']\n",
    "df_sports = df_sports[df_sports['user_score'] > 0]\n",
    "df_sports_list = list(df_sports['user_score'])"
   ]
  },
  {
   "cell_type": "markdown",
   "metadata": {},
   "source": [
    "Наша гипотеза будет двусторонней, а ее нулевая и альтернативная гипотезы:\n",
    "- нулевая гипотеза - cредние пользовательские рейтинги жанров Action и Sports равны;\n",
    "- альтернативная гипотеза - cредние пользовательские рейтинги жанров Action и Sports различаются."
   ]
  },
  {
   "cell_type": "code",
   "execution_count": 49,
   "metadata": {},
   "outputs": [
    {
     "name": "stdout",
     "output_type": "stream",
     "text": [
      "Средний пользовательский рейтинг игр жанра Action: 6.84\n",
      "Средний пользовательский рейтинг игр жанра Sports: 5.24\n",
      "\n",
      "p-значение: 9.645978111716946e-28\n",
      "\n",
      "Отвергаем нулевую гипотезу\n"
     ]
    }
   ],
   "source": [
    "alpha = .03\n",
    "\n",
    "results = st.ttest_ind(\n",
    "    df_action_list, \n",
    "    df_sports_list)\n",
    "\n",
    "print(f'Средний пользовательский рейтинг игр жанра Action: {df_action[\"user_score\"].mean():.2f}')\n",
    "print(f'Средний пользовательский рейтинг игр жанра Sports: {df_sports[\"user_score\"].mean():.2f}')\n",
    "print()\n",
    "print('p-значение:', results.pvalue)\n",
    "print()\n",
    "\n",
    "if results.pvalue < alpha:\n",
    "    print(\"Отвергаем нулевую гипотезу\")\n",
    "else:\n",
    "    print(\"Не получилось отвергнуть нулевую гипотезу\")"
   ]
  },
  {
   "cell_type": "markdown",
   "metadata": {},
   "source": [
    "У нас нет оснований утверждать, что cредние пользовательские рейтинги жанров Action и Sports равны. Есть основания полагать, что cредние пользовательские рейтинги жанров Action и Sports различаются."
   ]
  },
  {
   "cell_type": "markdown",
   "metadata": {},
   "source": [
    "<a id=\"cell_59\"></a>\n",
    "<div class=\"alert alert-danger\">\n",
    "\n",
    "**Артём:** ✋ Из-за того, что выбран неактуальный период и гипотезы исследованы на некорректных данных выводы получились неверными и следуя им Стримчик может понести убытки. 😉\n",
    "\n",
    "</div>"
   ]
  },
  {
   "cell_type": "markdown",
   "metadata": {},
   "source": [
    "<div style=\"border:solid green 2px; padding: 20px\">\n",
    "\n",
    "🧑‍🎓 **Антон:** Поправил."
   ]
  },
  {
   "cell_type": "markdown",
   "metadata": {},
   "source": [
    "<div class=\"alert alert-success\">\n",
    "\n",
    "**Артём:** 👍👍 Все правильно.\n",
    "\n",
    "</div>"
   ]
  },
  {
   "cell_type": "markdown",
   "metadata": {},
   "source": [
    "## Общий вывод:"
   ]
  },
  {
   "cell_type": "markdown",
   "metadata": {},
   "source": [
    "1. Представленные данные за период с 1980 по 1989 год не представляют особой ценности, т.к. представлены всего 222 строками.\n",
    "2. Самые наибольшие суммарные продажи были на платформах PS, PS2, PS3, X360, Wii и DS.\n",
    "3. Период появления новых платформ можно считать период в 5 лет, исчезают же платформы примерно через 10 лет после своего появления.\n",
    "4. Потенциально прибыльными платформами являются PS4 и XOne.\n",
    "5. Имеется прямая положительная зависимость между отзывами критиков и пользователей с объемами продаж (чем выше оценка, тем выше продажи).\n",
    "6. Наиболее прибыльными жанрами являются: Platform и Shooter.\n",
    "7. Предпочтения в платформах и жанре игр в Японии отличаются от Северной Америки и Европы.\n",
    "8. Самыми популярными жанрами, которые попали в топ во всех регионах являются Action, Sports и Role-Playing.\n",
    "9. Продажи в зависимости от рейтинга ESRB в Северной Америке (NA) и в Европе (EU) почти не отличаются, при этом в данных регионах продажи игр для взрослых (M) и для подростков (T) примерно равны, а в Японии (JP) продажи игр для подростков (T) значительно превышают продажи игр для взрослых (M).\n",
    "10. Средние пользовательские рейтинги платформ Xbox One и PC не различаются.\n",
    "11. Средние пользовательские рейтинги жанров Action и Sports различаются.\n",
    "\n",
    "Как итог можно сказать, что для продвижения продажи игр в зависимости от региона нужно учитывать следующие моменты:\n",
    "* во всех регионах у пользователей имеются собственные предпочтения в платформе для игр - в каждом регионе эти предпочтения разные;\n",
    "* в Японии имеются собственные, отличные от Северной  Америки и Европы предпочтения пользователей в жанре игр;\n",
    "* в Северной  Америке и Европе предпочтения в жанрах игр одинаковые."
   ]
  },
  {
   "cell_type": "markdown",
   "metadata": {},
   "source": [
    "<div class=\"alert alert-success\">\n",
    "\n",
    "**Артём:** 👍 Хороший вывод.\n",
    "\n",
    "</div>\n",
    "<div class=\"alert alert-warning\">\n",
    "\n",
    "**Артём:** 👉 Не забудь его скорректировать с учетом новых данных.\n",
    "</div>"
   ]
  },
  {
   "cell_type": "markdown",
   "metadata": {},
   "source": [
    "<div style=\"border:solid green 2px; padding: 20px\">\n",
    "\n",
    "🧑‍🎓 **Антон:** Поправил."
   ]
  },
  {
   "cell_type": "markdown",
   "metadata": {},
   "source": [
    "<div class=\"alert alert-success\">\n",
    "\n",
    "**Артём:** 👍👍 Молодец.\n",
    "\n",
    "</div>"
   ]
  },
  {
   "cell_type": "markdown",
   "metadata": {},
   "source": [
    "<div class=\"alert alert-danger\">\n",
    "\n",
    "**Артём:** ✋ Антон, у тебя хорошая работа. Осталось исправить несколько комментариев, но думаю у тебя с этим проблем не возникнет, поскольку ты показываешь хороший уровень владения материалом. Молодец! Напомню, что 👉 желтых комментариев, должно остаться не больше трех. Критических замечаний много, но большинство из них связано с актуальным периодом.\n",
    "    \n",
    "Для удобства поиска я добавил тебе ссылки:\n",
    "    \n",
    "* [Измени актуальный период](#cell_26)\n",
    "* [Измени дату](#cell_30)\n",
    "* [Добавь платформы](#cell_31)\n",
    "* [Исследуй актуальный период](#cell_32)\n",
    "* [Измени вывод](#cell_34)\n",
    "* [Добавь платформы](#cell_35)\n",
    "* [Исследуй актуальный период](#cell_36)\n",
    "* [Измени дату](#cell_37)\n",
    "* [Измени метрику](#cell_38)    \n",
    "* [Исследуй актуальный период](#cell_39)\n",
    "* [Исследуй актуальный период](#cell_40)\n",
    "* [Измени вывод](#cell_55)\n",
    "* [Исследуй актуальный период](#cell_59)\n",
    "    \n",
    "Жду новую версию проекта. 🙂\n",
    "\n",
    "</div>"
   ]
  },
  {
   "cell_type": "markdown",
   "metadata": {},
   "source": [
    "<div class=\"alert alert-danger\">\n",
    "\n",
    "**Артём:** ✋✋ Осталось чуть-чуть.\n",
    "    \n",
    "Для удобства поиска я добавил тебе ссылки:\n",
    "    \n",
    "* [Исследуй актуальный период](#cell_31_2)\n",
    "* [Измени вывод](#cell_38_2)    \n",
    "    \n",
    "Жду финальную версию проекта. 🙂\n",
    "\n",
    "</div>"
   ]
  },
  {
   "cell_type": "markdown",
   "metadata": {},
   "source": [
    "<div class=\"alert alert-success\">\n",
    "\n",
    "**Артём:** ✌️ Антон, на самом деле, ты не совсем корректно ответил на вопрос. Shooter – да, но Platform не на втором месте. Чтобы в будущем, а особенно это важно на работе, не совершать таких ошибок, лучше формируй вывод не только на основании графиков, а еще и опирайся на числа. В остальном все хорошо.\n",
    "\n",
    "Поздравляю, **проект принят!** 🥳 🎉 Ты молодец!\n",
    "\n",
    "Желаю тебе успехов в дальнейшем обучении. 😉\n",
    "\n",
    "</div>"
   ]
  },
  {
   "cell_type": "code",
   "execution_count": 50,
   "metadata": {},
   "outputs": [
    {
     "data": {
      "text/plain": [
       "'Контрольная точка: 23.03.2022 22:39'"
      ]
     },
     "execution_count": 50,
     "metadata": {},
     "output_type": "execute_result"
    }
   ],
   "source": [
    "import datetime as dt\n",
    "f'Контрольная точка: {dt.datetime.now().strftime(\"%d.%m.%Y %H:%M\")}'"
   ]
  }
 ],
 "metadata": {
  "ExecuteTimeLog": [
   {
    "duration": 712,
    "start_time": "2022-02-25T21:20:17.823Z"
   },
   {
    "duration": 44,
    "start_time": "2022-02-25T21:20:18.538Z"
   },
   {
    "duration": 3,
    "start_time": "2022-02-25T21:20:47.133Z"
   },
   {
    "duration": 46,
    "start_time": "2022-02-25T21:20:47.139Z"
   },
   {
    "duration": 45,
    "start_time": "2022-02-25T21:20:48.690Z"
   },
   {
    "duration": 29,
    "start_time": "2022-02-25T21:20:49.075Z"
   },
   {
    "duration": 13,
    "start_time": "2022-02-25T21:25:43.971Z"
   },
   {
    "duration": 56,
    "start_time": "2022-02-25T21:26:39.191Z"
   },
   {
    "duration": 788,
    "start_time": "2022-02-25T21:39:52.460Z"
   },
   {
    "duration": 47,
    "start_time": "2022-02-25T21:39:53.251Z"
   },
   {
    "duration": 28,
    "start_time": "2022-02-25T21:39:53.300Z"
   },
   {
    "duration": 74,
    "start_time": "2022-02-25T21:39:53.331Z"
   },
   {
    "duration": 308,
    "start_time": "2022-02-26T14:39:42.051Z"
   },
   {
    "duration": 688,
    "start_time": "2022-02-26T14:39:45.032Z"
   },
   {
    "duration": 44,
    "start_time": "2022-02-26T14:39:45.723Z"
   },
   {
    "duration": 33,
    "start_time": "2022-02-26T14:39:45.770Z"
   },
   {
    "duration": 51,
    "start_time": "2022-02-26T14:39:45.805Z"
   },
   {
    "duration": 71,
    "start_time": "2022-02-26T14:39:45.858Z"
   },
   {
    "duration": 731,
    "start_time": "2022-02-26T14:45:39.966Z"
   },
   {
    "duration": 42,
    "start_time": "2022-02-26T14:45:40.700Z"
   },
   {
    "duration": 44,
    "start_time": "2022-02-26T14:45:40.745Z"
   },
   {
    "duration": 54,
    "start_time": "2022-02-26T14:45:40.791Z"
   },
   {
    "duration": 52,
    "start_time": "2022-02-26T14:45:42.416Z"
   },
   {
    "duration": 16,
    "start_time": "2022-02-26T14:45:46.622Z"
   },
   {
    "duration": 5,
    "start_time": "2022-02-26T15:09:41.741Z"
   },
   {
    "duration": 12,
    "start_time": "2022-02-26T15:13:10.476Z"
   },
   {
    "duration": 5466,
    "start_time": "2022-02-26T15:14:46.741Z"
   },
   {
    "duration": 694,
    "start_time": "2022-02-26T15:15:02.006Z"
   },
   {
    "duration": 47,
    "start_time": "2022-02-26T15:15:02.702Z"
   },
   {
    "duration": 36,
    "start_time": "2022-02-26T15:15:02.752Z"
   },
   {
    "duration": 62,
    "start_time": "2022-02-26T15:15:02.790Z"
   },
   {
    "duration": 32,
    "start_time": "2022-02-26T15:15:02.855Z"
   },
   {
    "duration": 12,
    "start_time": "2022-02-26T15:15:02.891Z"
   },
   {
    "duration": 6823,
    "start_time": "2022-02-26T15:15:02.905Z"
   },
   {
    "duration": 21,
    "start_time": "2022-02-26T15:15:35.988Z"
   },
   {
    "duration": 23,
    "start_time": "2022-02-26T15:16:18.825Z"
   },
   {
    "duration": 16,
    "start_time": "2022-02-26T15:16:58.079Z"
   },
   {
    "duration": 5738,
    "start_time": "2022-02-26T15:17:05.648Z"
   },
   {
    "duration": 4,
    "start_time": "2022-02-26T15:17:37.486Z"
   },
   {
    "duration": 47,
    "start_time": "2022-02-26T15:17:37.492Z"
   },
   {
    "duration": 18,
    "start_time": "2022-02-26T15:17:37.542Z"
   },
   {
    "duration": 70,
    "start_time": "2022-02-26T15:17:37.562Z"
   },
   {
    "duration": 15,
    "start_time": "2022-02-26T15:17:37.634Z"
   },
   {
    "duration": 37,
    "start_time": "2022-02-26T15:17:37.651Z"
   },
   {
    "duration": 13,
    "start_time": "2022-02-26T15:17:37.690Z"
   },
   {
    "duration": 19,
    "start_time": "2022-02-26T15:17:41.863Z"
   },
   {
    "duration": 23,
    "start_time": "2022-02-26T15:21:16.381Z"
   },
   {
    "duration": 55,
    "start_time": "2022-02-26T15:22:34.317Z"
   },
   {
    "duration": 57,
    "start_time": "2022-02-26T15:22:47.232Z"
   },
   {
    "duration": 56,
    "start_time": "2022-02-26T15:22:54.722Z"
   },
   {
    "duration": 708,
    "start_time": "2022-02-26T15:23:24.447Z"
   },
   {
    "duration": 47,
    "start_time": "2022-02-26T15:23:25.158Z"
   },
   {
    "duration": 28,
    "start_time": "2022-02-26T15:23:25.208Z"
   },
   {
    "duration": 70,
    "start_time": "2022-02-26T15:23:25.239Z"
   },
   {
    "duration": 18,
    "start_time": "2022-02-26T15:23:25.313Z"
   },
   {
    "duration": 12,
    "start_time": "2022-02-26T15:23:25.333Z"
   },
   {
    "duration": 46,
    "start_time": "2022-02-26T15:23:25.348Z"
   },
   {
    "duration": 22,
    "start_time": "2022-02-26T15:23:25.397Z"
   },
   {
    "duration": 85,
    "start_time": "2022-02-26T15:23:25.422Z"
   },
   {
    "duration": 24,
    "start_time": "2022-02-26T15:27:20.279Z"
   },
   {
    "duration": 35,
    "start_time": "2022-02-26T15:27:25.678Z"
   },
   {
    "duration": 4,
    "start_time": "2022-02-26T15:29:20.647Z"
   },
   {
    "duration": 54,
    "start_time": "2022-02-26T15:29:20.654Z"
   },
   {
    "duration": 19,
    "start_time": "2022-02-26T15:29:20.711Z"
   },
   {
    "duration": 69,
    "start_time": "2022-02-26T15:29:20.733Z"
   },
   {
    "duration": 17,
    "start_time": "2022-02-26T15:29:20.804Z"
   },
   {
    "duration": 24,
    "start_time": "2022-02-26T15:29:20.824Z"
   },
   {
    "duration": 18,
    "start_time": "2022-02-26T15:29:20.851Z"
   },
   {
    "duration": 33,
    "start_time": "2022-02-26T15:29:20.889Z"
   },
   {
    "duration": 567,
    "start_time": "2022-02-27T20:39:45.863Z"
   },
   {
    "duration": 36,
    "start_time": "2022-02-27T20:39:46.432Z"
   },
   {
    "duration": 18,
    "start_time": "2022-02-27T20:39:46.470Z"
   },
   {
    "duration": 36,
    "start_time": "2022-02-27T20:39:46.489Z"
   },
   {
    "duration": 10,
    "start_time": "2022-02-27T20:39:46.527Z"
   },
   {
    "duration": 27,
    "start_time": "2022-02-27T20:39:46.539Z"
   },
   {
    "duration": 23,
    "start_time": "2022-02-27T20:39:46.567Z"
   },
   {
    "duration": 12,
    "start_time": "2022-02-27T20:41:31.096Z"
   },
   {
    "duration": 5,
    "start_time": "2022-02-27T20:42:24.208Z"
   },
   {
    "duration": 256,
    "start_time": "2022-02-27T20:53:16.972Z"
   },
   {
    "duration": 225,
    "start_time": "2022-02-27T20:53:38.563Z"
   },
   {
    "duration": 22,
    "start_time": "2022-02-27T20:53:49.670Z"
   },
   {
    "duration": 3,
    "start_time": "2022-02-27T21:03:00.325Z"
   },
   {
    "duration": 393,
    "start_time": "2022-02-27T21:03:21.980Z"
   },
   {
    "duration": 3,
    "start_time": "2022-02-27T21:04:06.866Z"
   },
   {
    "duration": 36,
    "start_time": "2022-02-27T21:04:06.871Z"
   },
   {
    "duration": 12,
    "start_time": "2022-02-27T21:04:06.909Z"
   },
   {
    "duration": 40,
    "start_time": "2022-02-27T21:04:06.923Z"
   },
   {
    "duration": 11,
    "start_time": "2022-02-27T21:04:06.965Z"
   },
   {
    "duration": 9,
    "start_time": "2022-02-27T21:04:06.977Z"
   },
   {
    "duration": 22,
    "start_time": "2022-02-27T21:04:06.988Z"
   },
   {
    "duration": 11,
    "start_time": "2022-02-27T21:04:07.012Z"
   },
   {
    "duration": 47,
    "start_time": "2022-02-27T21:04:07.024Z"
   },
   {
    "duration": 3,
    "start_time": "2022-02-27T21:04:09.119Z"
   },
   {
    "duration": 315,
    "start_time": "2022-02-27T21:04:11.489Z"
   },
   {
    "duration": 3,
    "start_time": "2022-02-27T21:07:13.607Z"
   },
   {
    "duration": 33,
    "start_time": "2022-02-27T21:07:13.611Z"
   },
   {
    "duration": 12,
    "start_time": "2022-02-27T21:07:13.646Z"
   },
   {
    "duration": 36,
    "start_time": "2022-02-27T21:07:13.660Z"
   },
   {
    "duration": 10,
    "start_time": "2022-02-27T21:07:13.698Z"
   },
   {
    "duration": 8,
    "start_time": "2022-02-27T21:07:13.710Z"
   },
   {
    "duration": 48,
    "start_time": "2022-02-27T21:07:13.719Z"
   },
   {
    "duration": 11,
    "start_time": "2022-02-27T21:07:13.769Z"
   },
   {
    "duration": 20,
    "start_time": "2022-02-27T21:07:13.782Z"
   },
   {
    "duration": 4,
    "start_time": "2022-02-27T21:07:17.395Z"
   },
   {
    "duration": 21,
    "start_time": "2022-02-27T21:07:18.969Z"
   },
   {
    "duration": 2,
    "start_time": "2022-02-27T21:31:47.496Z"
   },
   {
    "duration": 35,
    "start_time": "2022-02-27T21:31:47.502Z"
   },
   {
    "duration": 11,
    "start_time": "2022-02-27T21:31:47.539Z"
   },
   {
    "duration": 32,
    "start_time": "2022-02-27T21:31:47.552Z"
   },
   {
    "duration": 11,
    "start_time": "2022-02-27T21:31:47.586Z"
   },
   {
    "duration": 8,
    "start_time": "2022-02-27T21:31:47.598Z"
   },
   {
    "duration": 23,
    "start_time": "2022-02-27T21:31:47.607Z"
   },
   {
    "duration": 30,
    "start_time": "2022-02-27T21:31:47.631Z"
   },
   {
    "duration": 20,
    "start_time": "2022-02-27T21:31:47.663Z"
   },
   {
    "duration": 4,
    "start_time": "2022-02-27T21:31:50.189Z"
   },
   {
    "duration": 272,
    "start_time": "2022-02-27T21:31:50.997Z"
   },
   {
    "duration": 2,
    "start_time": "2022-02-27T21:32:14.418Z"
   },
   {
    "duration": 32,
    "start_time": "2022-02-27T21:32:14.422Z"
   },
   {
    "duration": 11,
    "start_time": "2022-02-27T21:32:14.456Z"
   },
   {
    "duration": 34,
    "start_time": "2022-02-27T21:32:14.469Z"
   },
   {
    "duration": 10,
    "start_time": "2022-02-27T21:32:14.505Z"
   },
   {
    "duration": 7,
    "start_time": "2022-02-27T21:32:14.517Z"
   },
   {
    "duration": 48,
    "start_time": "2022-02-27T21:32:14.526Z"
   },
   {
    "duration": 12,
    "start_time": "2022-02-27T21:32:14.575Z"
   },
   {
    "duration": 20,
    "start_time": "2022-02-27T21:32:14.589Z"
   },
   {
    "duration": 5,
    "start_time": "2022-02-27T21:32:16.335Z"
   },
   {
    "duration": 99,
    "start_time": "2022-02-27T21:32:17.071Z"
   },
   {
    "duration": 3,
    "start_time": "2022-02-27T21:33:02.094Z"
   },
   {
    "duration": 34,
    "start_time": "2022-02-27T21:33:02.098Z"
   },
   {
    "duration": 12,
    "start_time": "2022-02-27T21:33:02.134Z"
   },
   {
    "duration": 35,
    "start_time": "2022-02-27T21:33:02.148Z"
   },
   {
    "duration": 10,
    "start_time": "2022-02-27T21:33:02.185Z"
   },
   {
    "duration": 7,
    "start_time": "2022-02-27T21:33:02.197Z"
   },
   {
    "duration": 22,
    "start_time": "2022-02-27T21:33:02.206Z"
   },
   {
    "duration": 36,
    "start_time": "2022-02-27T21:33:02.230Z"
   },
   {
    "duration": 18,
    "start_time": "2022-02-27T21:33:02.268Z"
   },
   {
    "duration": 5,
    "start_time": "2022-02-27T21:33:02.288Z"
   },
   {
    "duration": 10,
    "start_time": "2022-02-27T21:33:02.294Z"
   },
   {
    "duration": 5,
    "start_time": "2022-02-27T21:33:08.808Z"
   },
   {
    "duration": 104,
    "start_time": "2022-02-27T21:33:09.222Z"
   },
   {
    "duration": 14,
    "start_time": "2022-02-27T21:33:35.203Z"
   },
   {
    "duration": 4,
    "start_time": "2022-02-27T21:34:04.407Z"
   },
   {
    "duration": 3,
    "start_time": "2022-02-27T21:35:18.232Z"
   },
   {
    "duration": 33,
    "start_time": "2022-02-27T21:35:18.237Z"
   },
   {
    "duration": 11,
    "start_time": "2022-02-27T21:35:18.272Z"
   },
   {
    "duration": 37,
    "start_time": "2022-02-27T21:35:18.285Z"
   },
   {
    "duration": 12,
    "start_time": "2022-02-27T21:35:18.323Z"
   },
   {
    "duration": 24,
    "start_time": "2022-02-27T21:35:18.336Z"
   },
   {
    "duration": 24,
    "start_time": "2022-02-27T21:35:18.362Z"
   },
   {
    "duration": 12,
    "start_time": "2022-02-27T21:35:18.388Z"
   },
   {
    "duration": 21,
    "start_time": "2022-02-27T21:35:18.402Z"
   },
   {
    "duration": 37,
    "start_time": "2022-02-27T21:35:18.425Z"
   },
   {
    "duration": 111,
    "start_time": "2022-02-27T21:35:18.463Z"
   },
   {
    "duration": 14,
    "start_time": "2022-02-27T21:35:18.576Z"
   },
   {
    "duration": 11,
    "start_time": "2022-02-27T21:35:18.592Z"
   },
   {
    "duration": 11,
    "start_time": "2022-02-27T21:35:18.604Z"
   },
   {
    "duration": 3,
    "start_time": "2022-02-27T21:50:01.541Z"
   },
   {
    "duration": 42,
    "start_time": "2022-02-27T21:50:01.546Z"
   },
   {
    "duration": 13,
    "start_time": "2022-02-27T21:50:01.591Z"
   },
   {
    "duration": 37,
    "start_time": "2022-02-27T21:50:01.606Z"
   },
   {
    "duration": 22,
    "start_time": "2022-02-27T21:50:01.644Z"
   },
   {
    "duration": 8,
    "start_time": "2022-02-27T21:50:01.668Z"
   },
   {
    "duration": 35,
    "start_time": "2022-02-27T21:50:01.677Z"
   },
   {
    "duration": 11,
    "start_time": "2022-02-27T21:50:01.714Z"
   },
   {
    "duration": 5,
    "start_time": "2022-02-27T21:50:01.727Z"
   },
   {
    "duration": 125,
    "start_time": "2022-02-27T21:50:01.734Z"
   },
   {
    "duration": 12,
    "start_time": "2022-02-27T21:50:01.861Z"
   },
   {
    "duration": 96,
    "start_time": "2022-02-27T21:50:01.875Z"
   },
   {
    "duration": 14,
    "start_time": "2022-02-27T21:50:10.757Z"
   },
   {
    "duration": 10,
    "start_time": "2022-02-27T21:50:16.456Z"
   },
   {
    "duration": 532,
    "start_time": "2022-02-27T21:50:37.704Z"
   },
   {
    "duration": 42,
    "start_time": "2022-02-27T21:50:38.238Z"
   },
   {
    "duration": 18,
    "start_time": "2022-02-27T21:50:38.282Z"
   },
   {
    "duration": 38,
    "start_time": "2022-02-27T21:50:38.302Z"
   },
   {
    "duration": 20,
    "start_time": "2022-02-27T21:50:38.341Z"
   },
   {
    "duration": 9,
    "start_time": "2022-02-27T21:50:38.363Z"
   },
   {
    "duration": 23,
    "start_time": "2022-02-27T21:50:38.373Z"
   },
   {
    "duration": 11,
    "start_time": "2022-02-27T21:50:38.398Z"
   },
   {
    "duration": 5,
    "start_time": "2022-02-27T21:50:38.411Z"
   },
   {
    "duration": 127,
    "start_time": "2022-02-27T21:50:38.417Z"
   },
   {
    "duration": 17,
    "start_time": "2022-02-27T21:50:38.545Z"
   },
   {
    "duration": 15,
    "start_time": "2022-02-27T21:50:38.563Z"
   },
   {
    "duration": 9,
    "start_time": "2022-02-27T21:50:38.579Z"
   },
   {
    "duration": 12,
    "start_time": "2022-02-27T21:50:57.134Z"
   },
   {
    "duration": 2,
    "start_time": "2022-02-27T21:51:18.425Z"
   },
   {
    "duration": 38,
    "start_time": "2022-02-27T21:51:18.429Z"
   },
   {
    "duration": 12,
    "start_time": "2022-02-27T21:51:18.469Z"
   },
   {
    "duration": 34,
    "start_time": "2022-02-27T21:51:18.483Z"
   },
   {
    "duration": 16,
    "start_time": "2022-02-27T21:51:18.518Z"
   },
   {
    "duration": 25,
    "start_time": "2022-02-27T21:51:18.535Z"
   },
   {
    "duration": 23,
    "start_time": "2022-02-27T21:51:18.562Z"
   },
   {
    "duration": 10,
    "start_time": "2022-02-27T21:51:18.587Z"
   },
   {
    "duration": 4,
    "start_time": "2022-02-27T21:51:18.599Z"
   },
   {
    "duration": 131,
    "start_time": "2022-02-27T21:51:18.605Z"
   },
   {
    "duration": 11,
    "start_time": "2022-02-27T21:51:18.738Z"
   },
   {
    "duration": 10,
    "start_time": "2022-02-27T21:51:18.759Z"
   },
   {
    "duration": 9,
    "start_time": "2022-02-27T21:51:18.771Z"
   },
   {
    "duration": 13,
    "start_time": "2022-02-27T21:51:48.276Z"
   },
   {
    "duration": 2,
    "start_time": "2022-02-27T22:02:14.424Z"
   },
   {
    "duration": 40,
    "start_time": "2022-02-27T22:02:14.428Z"
   },
   {
    "duration": 12,
    "start_time": "2022-02-27T22:02:14.470Z"
   },
   {
    "duration": 37,
    "start_time": "2022-02-27T22:02:14.484Z"
   },
   {
    "duration": 10,
    "start_time": "2022-02-27T22:02:14.523Z"
   },
   {
    "duration": 27,
    "start_time": "2022-02-27T22:02:14.535Z"
   },
   {
    "duration": 23,
    "start_time": "2022-02-27T22:02:14.564Z"
   },
   {
    "duration": 11,
    "start_time": "2022-02-27T22:02:14.589Z"
   },
   {
    "duration": 5,
    "start_time": "2022-02-27T22:02:14.602Z"
   },
   {
    "duration": 142,
    "start_time": "2022-02-27T22:02:14.608Z"
   },
   {
    "duration": 16,
    "start_time": "2022-02-27T22:02:14.752Z"
   },
   {
    "duration": 10,
    "start_time": "2022-02-27T22:02:17.375Z"
   },
   {
    "duration": 70,
    "start_time": "2022-02-27T22:03:43.016Z"
   },
   {
    "duration": 5,
    "start_time": "2022-02-27T22:03:53.250Z"
   },
   {
    "duration": 19,
    "start_time": "2022-02-27T22:04:46.710Z"
   },
   {
    "duration": 552,
    "start_time": "2022-02-27T22:06:32.128Z"
   },
   {
    "duration": 34,
    "start_time": "2022-02-27T22:06:32.682Z"
   },
   {
    "duration": 19,
    "start_time": "2022-02-27T22:06:32.718Z"
   },
   {
    "duration": 48,
    "start_time": "2022-02-27T22:06:32.738Z"
   },
   {
    "duration": 10,
    "start_time": "2022-02-27T22:06:32.787Z"
   },
   {
    "duration": 9,
    "start_time": "2022-02-27T22:06:32.798Z"
   },
   {
    "duration": 23,
    "start_time": "2022-02-27T22:06:32.808Z"
   },
   {
    "duration": 36,
    "start_time": "2022-02-27T22:06:32.833Z"
   },
   {
    "duration": 4,
    "start_time": "2022-02-27T22:06:32.871Z"
   },
   {
    "duration": 127,
    "start_time": "2022-02-27T22:06:32.877Z"
   },
   {
    "duration": 11,
    "start_time": "2022-02-27T22:06:33.005Z"
   },
   {
    "duration": 8,
    "start_time": "2022-02-27T22:06:33.018Z"
   },
   {
    "duration": 5,
    "start_time": "2022-02-27T22:06:33.028Z"
   },
   {
    "duration": 40,
    "start_time": "2022-02-27T22:06:33.034Z"
   },
   {
    "duration": 14,
    "start_time": "2022-02-27T22:06:35.363Z"
   },
   {
    "duration": 3,
    "start_time": "2022-02-27T22:07:36.386Z"
   },
   {
    "duration": 46,
    "start_time": "2022-02-27T22:07:36.390Z"
   },
   {
    "duration": 13,
    "start_time": "2022-02-27T22:07:36.438Z"
   },
   {
    "duration": 42,
    "start_time": "2022-02-27T22:07:36.453Z"
   },
   {
    "duration": 11,
    "start_time": "2022-02-27T22:07:36.496Z"
   },
   {
    "duration": 20,
    "start_time": "2022-02-27T22:07:36.509Z"
   },
   {
    "duration": 31,
    "start_time": "2022-02-27T22:07:36.531Z"
   },
   {
    "duration": 11,
    "start_time": "2022-02-27T22:07:36.564Z"
   },
   {
    "duration": 5,
    "start_time": "2022-02-27T22:07:36.577Z"
   },
   {
    "duration": 126,
    "start_time": "2022-02-27T22:07:36.589Z"
   },
   {
    "duration": 11,
    "start_time": "2022-02-27T22:07:36.717Z"
   },
   {
    "duration": 9,
    "start_time": "2022-02-27T22:07:36.729Z"
   },
   {
    "duration": 21,
    "start_time": "2022-02-27T22:07:36.739Z"
   },
   {
    "duration": 19,
    "start_time": "2022-02-27T22:07:36.761Z"
   },
   {
    "duration": 12,
    "start_time": "2022-02-27T22:07:36.782Z"
   },
   {
    "duration": 740,
    "start_time": "2022-02-28T18:11:11.067Z"
   },
   {
    "duration": 47,
    "start_time": "2022-02-28T18:11:11.810Z"
   },
   {
    "duration": 27,
    "start_time": "2022-02-28T18:11:11.861Z"
   },
   {
    "duration": 50,
    "start_time": "2022-02-28T18:11:11.890Z"
   },
   {
    "duration": 39,
    "start_time": "2022-02-28T18:11:11.943Z"
   },
   {
    "duration": 12,
    "start_time": "2022-02-28T18:11:11.985Z"
   },
   {
    "duration": 34,
    "start_time": "2022-02-28T18:11:12.000Z"
   },
   {
    "duration": 48,
    "start_time": "2022-02-28T18:11:12.038Z"
   },
   {
    "duration": 6,
    "start_time": "2022-02-28T18:11:12.088Z"
   },
   {
    "duration": 167,
    "start_time": "2022-02-28T18:11:12.096Z"
   },
   {
    "duration": 169,
    "start_time": "2022-02-28T18:11:25.524Z"
   },
   {
    "duration": 17,
    "start_time": "2022-02-28T18:11:38.215Z"
   },
   {
    "duration": 13,
    "start_time": "2022-02-28T18:11:39.255Z"
   },
   {
    "duration": 6,
    "start_time": "2022-02-28T18:13:24.016Z"
   },
   {
    "duration": 7,
    "start_time": "2022-02-28T18:13:48.647Z"
   },
   {
    "duration": 30,
    "start_time": "2022-02-28T18:13:49.474Z"
   },
   {
    "duration": 12,
    "start_time": "2022-02-28T18:24:51.236Z"
   },
   {
    "duration": 7,
    "start_time": "2022-02-28T18:25:01.748Z"
   },
   {
    "duration": 13,
    "start_time": "2022-02-28T18:25:18.595Z"
   },
   {
    "duration": 4,
    "start_time": "2022-02-28T18:25:40.655Z"
   },
   {
    "duration": 61,
    "start_time": "2022-02-28T18:25:40.662Z"
   },
   {
    "duration": 18,
    "start_time": "2022-02-28T18:25:40.726Z"
   },
   {
    "duration": 72,
    "start_time": "2022-02-28T18:25:40.746Z"
   },
   {
    "duration": 15,
    "start_time": "2022-02-28T18:25:40.820Z"
   },
   {
    "duration": 20,
    "start_time": "2022-02-28T18:25:40.838Z"
   },
   {
    "duration": 50,
    "start_time": "2022-02-28T18:25:40.861Z"
   },
   {
    "duration": 16,
    "start_time": "2022-02-28T18:25:40.916Z"
   },
   {
    "duration": 8,
    "start_time": "2022-02-28T18:25:40.935Z"
   },
   {
    "duration": 206,
    "start_time": "2022-02-28T18:25:40.946Z"
   },
   {
    "duration": 29,
    "start_time": "2022-02-28T18:25:41.155Z"
   },
   {
    "duration": 12,
    "start_time": "2022-02-28T18:25:41.187Z"
   },
   {
    "duration": 22,
    "start_time": "2022-02-28T18:25:41.201Z"
   },
   {
    "duration": 45,
    "start_time": "2022-02-28T18:25:41.226Z"
   },
   {
    "duration": 20,
    "start_time": "2022-02-28T18:25:41.274Z"
   },
   {
    "duration": 14,
    "start_time": "2022-02-28T18:25:44.207Z"
   },
   {
    "duration": 270,
    "start_time": "2022-02-28T19:26:56.068Z"
   },
   {
    "duration": 690,
    "start_time": "2022-02-28T19:27:03.829Z"
   },
   {
    "duration": 41,
    "start_time": "2022-02-28T19:27:04.521Z"
   },
   {
    "duration": 28,
    "start_time": "2022-02-28T19:27:04.566Z"
   },
   {
    "duration": 53,
    "start_time": "2022-02-28T19:27:04.597Z"
   },
   {
    "duration": 36,
    "start_time": "2022-02-28T19:27:04.652Z"
   },
   {
    "duration": 12,
    "start_time": "2022-02-28T19:27:04.690Z"
   },
   {
    "duration": 32,
    "start_time": "2022-02-28T19:27:04.704Z"
   },
   {
    "duration": 50,
    "start_time": "2022-02-28T19:27:04.740Z"
   },
   {
    "duration": 6,
    "start_time": "2022-02-28T19:27:04.793Z"
   },
   {
    "duration": 188,
    "start_time": "2022-02-28T19:27:04.802Z"
   },
   {
    "duration": 19,
    "start_time": "2022-02-28T19:27:04.992Z"
   },
   {
    "duration": 12,
    "start_time": "2022-02-28T19:27:05.014Z"
   },
   {
    "duration": 8,
    "start_time": "2022-02-28T19:27:05.029Z"
   },
   {
    "duration": 66,
    "start_time": "2022-02-28T19:27:05.039Z"
   },
   {
    "duration": 15,
    "start_time": "2022-02-28T19:27:05.107Z"
   },
   {
    "duration": 13,
    "start_time": "2022-02-28T19:27:05.124Z"
   },
   {
    "duration": 52,
    "start_time": "2022-02-28T19:27:05.139Z"
   },
   {
    "duration": 260,
    "start_time": "2022-02-28T19:27:05.193Z"
   },
   {
    "duration": 9,
    "start_time": "2022-02-28T19:27:18.296Z"
   },
   {
    "duration": 9,
    "start_time": "2022-02-28T19:28:35.036Z"
   },
   {
    "duration": 10,
    "start_time": "2022-02-28T19:29:57.997Z"
   },
   {
    "duration": 887,
    "start_time": "2022-02-28T19:30:29.228Z"
   },
   {
    "duration": 12,
    "start_time": "2022-02-28T19:31:01.708Z"
   },
   {
    "duration": 90,
    "start_time": "2022-02-28T19:33:09.117Z"
   },
   {
    "duration": 80,
    "start_time": "2022-02-28T19:33:29.968Z"
   },
   {
    "duration": 74,
    "start_time": "2022-02-28T19:34:31.128Z"
   },
   {
    "duration": 3,
    "start_time": "2022-02-28T19:34:36.088Z"
   },
   {
    "duration": 40,
    "start_time": "2022-02-28T19:34:36.098Z"
   },
   {
    "duration": 18,
    "start_time": "2022-02-28T19:34:36.140Z"
   },
   {
    "duration": 66,
    "start_time": "2022-02-28T19:34:36.161Z"
   },
   {
    "duration": 16,
    "start_time": "2022-02-28T19:34:36.229Z"
   },
   {
    "duration": 41,
    "start_time": "2022-02-28T19:34:36.247Z"
   },
   {
    "duration": 32,
    "start_time": "2022-02-28T19:34:36.291Z"
   },
   {
    "duration": 15,
    "start_time": "2022-02-28T19:34:36.326Z"
   },
   {
    "duration": 16,
    "start_time": "2022-02-28T19:34:36.345Z"
   },
   {
    "duration": 185,
    "start_time": "2022-02-28T19:34:36.382Z"
   },
   {
    "duration": 21,
    "start_time": "2022-02-28T19:34:36.569Z"
   },
   {
    "duration": 13,
    "start_time": "2022-02-28T19:34:36.593Z"
   },
   {
    "duration": 6,
    "start_time": "2022-02-28T19:34:36.609Z"
   },
   {
    "duration": 28,
    "start_time": "2022-02-28T19:34:36.617Z"
   },
   {
    "duration": 15,
    "start_time": "2022-02-28T19:34:36.648Z"
   },
   {
    "duration": 20,
    "start_time": "2022-02-28T19:34:36.666Z"
   },
   {
    "duration": 19,
    "start_time": "2022-02-28T19:34:36.689Z"
   },
   {
    "duration": 8,
    "start_time": "2022-02-28T19:34:36.710Z"
   },
   {
    "duration": 100,
    "start_time": "2022-02-28T19:34:36.720Z"
   },
   {
    "duration": 97,
    "start_time": "2022-02-28T19:34:46.129Z"
   },
   {
    "duration": 312,
    "start_time": "2022-02-28T19:34:47.088Z"
   },
   {
    "duration": 12,
    "start_time": "2022-02-28T19:35:15.376Z"
   },
   {
    "duration": 12,
    "start_time": "2022-02-28T19:36:08.895Z"
   },
   {
    "duration": 10,
    "start_time": "2022-02-28T19:41:23.816Z"
   },
   {
    "duration": 6,
    "start_time": "2022-02-28T19:42:09.148Z"
   },
   {
    "duration": 6,
    "start_time": "2022-02-28T19:42:14.448Z"
   },
   {
    "duration": 21,
    "start_time": "2022-02-28T21:14:57.458Z"
   },
   {
    "duration": 719,
    "start_time": "2022-02-28T21:25:55.654Z"
   },
   {
    "duration": 43,
    "start_time": "2022-02-28T21:25:56.375Z"
   },
   {
    "duration": 29,
    "start_time": "2022-02-28T21:25:56.421Z"
   },
   {
    "duration": 66,
    "start_time": "2022-02-28T21:25:56.453Z"
   },
   {
    "duration": 17,
    "start_time": "2022-02-28T21:25:56.522Z"
   },
   {
    "duration": 10,
    "start_time": "2022-02-28T21:25:56.541Z"
   },
   {
    "duration": 3,
    "start_time": "2022-02-28T21:26:08.707Z"
   },
   {
    "duration": 44,
    "start_time": "2022-02-28T21:26:08.718Z"
   },
   {
    "duration": 17,
    "start_time": "2022-02-28T21:26:08.765Z"
   },
   {
    "duration": 49,
    "start_time": "2022-02-28T21:26:08.785Z"
   },
   {
    "duration": 15,
    "start_time": "2022-02-28T21:26:08.837Z"
   },
   {
    "duration": 42,
    "start_time": "2022-02-28T21:26:08.854Z"
   },
   {
    "duration": 35,
    "start_time": "2022-02-28T21:26:08.898Z"
   },
   {
    "duration": 46,
    "start_time": "2022-02-28T21:26:08.936Z"
   },
   {
    "duration": 6,
    "start_time": "2022-02-28T21:26:08.985Z"
   },
   {
    "duration": 189,
    "start_time": "2022-02-28T21:26:08.995Z"
   },
   {
    "duration": 18,
    "start_time": "2022-02-28T21:26:09.186Z"
   },
   {
    "duration": 14,
    "start_time": "2022-02-28T21:26:09.207Z"
   },
   {
    "duration": 7,
    "start_time": "2022-02-28T21:26:09.223Z"
   },
   {
    "duration": 67,
    "start_time": "2022-02-28T21:26:09.233Z"
   },
   {
    "duration": 15,
    "start_time": "2022-02-28T21:26:09.303Z"
   },
   {
    "duration": 13,
    "start_time": "2022-02-28T21:26:09.320Z"
   },
   {
    "duration": 53,
    "start_time": "2022-02-28T21:26:09.335Z"
   },
   {
    "duration": 9,
    "start_time": "2022-02-28T21:26:09.390Z"
   },
   {
    "duration": 13,
    "start_time": "2022-02-28T21:26:09.402Z"
   },
   {
    "duration": 8,
    "start_time": "2022-02-28T21:28:07.246Z"
   },
   {
    "duration": 23,
    "start_time": "2022-02-28T21:28:14.766Z"
   },
   {
    "duration": 756,
    "start_time": "2022-03-01T20:58:26.147Z"
   },
   {
    "duration": 49,
    "start_time": "2022-03-01T20:58:26.906Z"
   },
   {
    "duration": 27,
    "start_time": "2022-03-01T20:58:26.958Z"
   },
   {
    "duration": 66,
    "start_time": "2022-03-01T20:58:26.988Z"
   },
   {
    "duration": 17,
    "start_time": "2022-03-01T20:58:27.056Z"
   },
   {
    "duration": 14,
    "start_time": "2022-03-01T20:58:27.075Z"
   },
   {
    "duration": 66,
    "start_time": "2022-03-01T20:58:27.091Z"
   },
   {
    "duration": 16,
    "start_time": "2022-03-01T20:58:27.160Z"
   },
   {
    "duration": 6,
    "start_time": "2022-03-01T20:58:27.180Z"
   },
   {
    "duration": 199,
    "start_time": "2022-03-01T20:58:27.189Z"
   },
   {
    "duration": 18,
    "start_time": "2022-03-01T20:58:27.390Z"
   },
   {
    "duration": 34,
    "start_time": "2022-03-01T20:58:27.410Z"
   },
   {
    "duration": 7,
    "start_time": "2022-03-01T20:58:27.446Z"
   },
   {
    "duration": 31,
    "start_time": "2022-03-01T20:58:27.455Z"
   },
   {
    "duration": 16,
    "start_time": "2022-03-01T20:58:27.489Z"
   },
   {
    "duration": 13,
    "start_time": "2022-03-01T20:58:27.534Z"
   },
   {
    "duration": 26,
    "start_time": "2022-03-01T20:58:27.549Z"
   },
   {
    "duration": 9,
    "start_time": "2022-03-01T20:58:27.578Z"
   },
   {
    "duration": 45,
    "start_time": "2022-03-01T20:58:27.589Z"
   },
   {
    "duration": 22,
    "start_time": "2022-03-01T20:58:27.636Z"
   },
   {
    "duration": 23,
    "start_time": "2022-03-01T20:58:27.660Z"
   },
   {
    "duration": 617,
    "start_time": "2022-03-02T19:58:42.687Z"
   },
   {
    "duration": 51,
    "start_time": "2022-03-02T19:58:43.306Z"
   },
   {
    "duration": 23,
    "start_time": "2022-03-02T19:58:43.360Z"
   },
   {
    "duration": 38,
    "start_time": "2022-03-02T19:58:43.385Z"
   },
   {
    "duration": 11,
    "start_time": "2022-03-02T19:58:43.425Z"
   },
   {
    "duration": 11,
    "start_time": "2022-03-02T19:58:43.438Z"
   },
   {
    "duration": 48,
    "start_time": "2022-03-02T19:58:43.450Z"
   },
   {
    "duration": 12,
    "start_time": "2022-03-02T19:58:43.500Z"
   },
   {
    "duration": 5,
    "start_time": "2022-03-02T19:58:43.514Z"
   },
   {
    "duration": 142,
    "start_time": "2022-03-02T19:58:43.522Z"
   },
   {
    "duration": 17,
    "start_time": "2022-03-02T19:58:43.666Z"
   },
   {
    "duration": 10,
    "start_time": "2022-03-02T19:58:43.685Z"
   },
   {
    "duration": 5,
    "start_time": "2022-03-02T19:58:43.697Z"
   },
   {
    "duration": 21,
    "start_time": "2022-03-02T19:58:43.704Z"
   },
   {
    "duration": 11,
    "start_time": "2022-03-02T19:58:43.726Z"
   },
   {
    "duration": 43,
    "start_time": "2022-03-02T19:58:43.739Z"
   },
   {
    "duration": 15,
    "start_time": "2022-03-02T19:58:43.784Z"
   },
   {
    "duration": 7,
    "start_time": "2022-03-02T19:58:43.801Z"
   },
   {
    "duration": 9,
    "start_time": "2022-03-02T19:58:43.810Z"
   },
   {
    "duration": 15,
    "start_time": "2022-03-02T19:58:43.821Z"
   },
   {
    "duration": 54,
    "start_time": "2022-03-02T19:58:43.838Z"
   },
   {
    "duration": 4,
    "start_time": "2022-03-02T20:35:33.765Z"
   },
   {
    "duration": 7,
    "start_time": "2022-03-02T20:35:40.643Z"
   },
   {
    "duration": 89,
    "start_time": "2022-03-02T20:44:23.336Z"
   },
   {
    "duration": 9,
    "start_time": "2022-03-02T20:44:32.584Z"
   },
   {
    "duration": 8,
    "start_time": "2022-03-02T20:45:10.524Z"
   },
   {
    "duration": 8,
    "start_time": "2022-03-02T20:45:25.436Z"
   },
   {
    "duration": 85,
    "start_time": "2022-03-02T20:46:02.316Z"
   },
   {
    "duration": 8,
    "start_time": "2022-03-02T20:46:32.536Z"
   },
   {
    "duration": 5,
    "start_time": "2022-03-02T20:50:29.505Z"
   },
   {
    "duration": 8,
    "start_time": "2022-03-02T20:56:42.285Z"
   },
   {
    "duration": 8,
    "start_time": "2022-03-02T20:57:24.276Z"
   },
   {
    "duration": 12,
    "start_time": "2022-03-02T21:00:10.905Z"
   },
   {
    "duration": 11,
    "start_time": "2022-03-02T21:01:17.205Z"
   },
   {
    "duration": 12,
    "start_time": "2022-03-02T21:02:36.141Z"
   },
   {
    "duration": 13,
    "start_time": "2022-03-02T21:02:51.084Z"
   },
   {
    "duration": 3,
    "start_time": "2022-03-02T21:07:12.725Z"
   },
   {
    "duration": 568,
    "start_time": "2022-03-02T21:07:29.719Z"
   },
   {
    "duration": 41,
    "start_time": "2022-03-02T21:07:30.289Z"
   },
   {
    "duration": 21,
    "start_time": "2022-03-02T21:07:30.332Z"
   },
   {
    "duration": 46,
    "start_time": "2022-03-02T21:07:30.355Z"
   },
   {
    "duration": 11,
    "start_time": "2022-03-02T21:07:30.403Z"
   },
   {
    "duration": 14,
    "start_time": "2022-03-02T21:07:30.416Z"
   },
   {
    "duration": 45,
    "start_time": "2022-03-02T21:07:30.432Z"
   },
   {
    "duration": 13,
    "start_time": "2022-03-02T21:07:30.479Z"
   },
   {
    "duration": 10,
    "start_time": "2022-03-02T21:07:30.494Z"
   },
   {
    "duration": 133,
    "start_time": "2022-03-02T21:07:30.506Z"
   },
   {
    "duration": 12,
    "start_time": "2022-03-02T21:07:30.641Z"
   },
   {
    "duration": 22,
    "start_time": "2022-03-02T21:07:30.655Z"
   },
   {
    "duration": 5,
    "start_time": "2022-03-02T21:07:30.678Z"
   },
   {
    "duration": 36,
    "start_time": "2022-03-02T21:07:30.685Z"
   },
   {
    "duration": 11,
    "start_time": "2022-03-02T21:07:30.722Z"
   },
   {
    "duration": 12,
    "start_time": "2022-03-02T21:07:30.734Z"
   },
   {
    "duration": 32,
    "start_time": "2022-03-02T21:07:30.748Z"
   },
   {
    "duration": 8,
    "start_time": "2022-03-02T21:07:30.782Z"
   },
   {
    "duration": 16,
    "start_time": "2022-03-02T21:07:30.792Z"
   },
   {
    "duration": 25,
    "start_time": "2022-03-02T21:07:30.811Z"
   },
   {
    "duration": 44,
    "start_time": "2022-03-02T21:07:30.838Z"
   },
   {
    "duration": 6,
    "start_time": "2022-03-02T21:07:30.884Z"
   },
   {
    "duration": 19,
    "start_time": "2022-03-02T21:07:30.892Z"
   },
   {
    "duration": 1010,
    "start_time": "2022-03-03T20:36:35.432Z"
   },
   {
    "duration": 68,
    "start_time": "2022-03-03T20:36:36.445Z"
   },
   {
    "duration": 44,
    "start_time": "2022-03-03T20:36:36.517Z"
   },
   {
    "duration": 77,
    "start_time": "2022-03-03T20:36:36.579Z"
   },
   {
    "duration": 28,
    "start_time": "2022-03-03T20:36:36.659Z"
   },
   {
    "duration": 19,
    "start_time": "2022-03-03T20:36:36.689Z"
   },
   {
    "duration": 34,
    "start_time": "2022-03-03T20:36:36.711Z"
   },
   {
    "duration": 16,
    "start_time": "2022-03-03T20:36:36.776Z"
   },
   {
    "duration": 9,
    "start_time": "2022-03-03T20:36:36.796Z"
   },
   {
    "duration": 199,
    "start_time": "2022-03-03T20:36:36.808Z"
   },
   {
    "duration": 18,
    "start_time": "2022-03-03T20:36:37.010Z"
   },
   {
    "duration": 14,
    "start_time": "2022-03-03T20:36:37.030Z"
   },
   {
    "duration": 7,
    "start_time": "2022-03-03T20:36:37.072Z"
   },
   {
    "duration": 32,
    "start_time": "2022-03-03T20:36:37.081Z"
   },
   {
    "duration": 15,
    "start_time": "2022-03-03T20:36:37.116Z"
   },
   {
    "duration": 49,
    "start_time": "2022-03-03T20:36:37.133Z"
   },
   {
    "duration": 20,
    "start_time": "2022-03-03T20:36:37.184Z"
   },
   {
    "duration": 9,
    "start_time": "2022-03-03T20:36:37.206Z"
   },
   {
    "duration": 22,
    "start_time": "2022-03-03T20:36:37.218Z"
   },
   {
    "duration": 51,
    "start_time": "2022-03-03T20:36:37.243Z"
   },
   {
    "duration": 22,
    "start_time": "2022-03-03T20:36:37.296Z"
   },
   {
    "duration": 8,
    "start_time": "2022-03-03T20:36:37.321Z"
   },
   {
    "duration": 54,
    "start_time": "2022-03-03T20:36:37.333Z"
   },
   {
    "duration": 394,
    "start_time": "2022-03-03T20:36:37.390Z"
   },
   {
    "duration": 20,
    "start_time": "2022-03-03T20:37:24.153Z"
   },
   {
    "duration": 244,
    "start_time": "2022-03-03T20:39:20.764Z"
   },
   {
    "duration": 18,
    "start_time": "2022-03-03T20:43:23.660Z"
   },
   {
    "duration": 48,
    "start_time": "2022-03-03T20:43:31.190Z"
   },
   {
    "duration": 249,
    "start_time": "2022-03-03T20:45:33.941Z"
   },
   {
    "duration": 248,
    "start_time": "2022-03-03T20:46:00.413Z"
   },
   {
    "duration": 10,
    "start_time": "2022-03-03T20:46:07.061Z"
   },
   {
    "duration": 10,
    "start_time": "2022-03-03T20:46:15.081Z"
   },
   {
    "duration": 363,
    "start_time": "2022-03-03T20:50:51.343Z"
   },
   {
    "duration": 1997,
    "start_time": "2022-03-03T20:51:28.102Z"
   },
   {
    "duration": 66,
    "start_time": "2022-03-03T20:51:30.102Z"
   },
   {
    "duration": 34,
    "start_time": "2022-03-03T20:51:30.173Z"
   },
   {
    "duration": 97,
    "start_time": "2022-03-03T20:51:30.211Z"
   },
   {
    "duration": 16,
    "start_time": "2022-03-03T20:51:30.310Z"
   },
   {
    "duration": 34,
    "start_time": "2022-03-03T20:51:30.329Z"
   },
   {
    "duration": 35,
    "start_time": "2022-03-03T20:51:30.374Z"
   },
   {
    "duration": 16,
    "start_time": "2022-03-03T20:51:30.412Z"
   },
   {
    "duration": 6,
    "start_time": "2022-03-03T20:51:30.433Z"
   },
   {
    "duration": 214,
    "start_time": "2022-03-03T20:51:30.442Z"
   },
   {
    "duration": 30,
    "start_time": "2022-03-03T20:51:30.659Z"
   },
   {
    "duration": 17,
    "start_time": "2022-03-03T20:51:30.691Z"
   },
   {
    "duration": 9,
    "start_time": "2022-03-03T20:51:30.710Z"
   },
   {
    "duration": 68,
    "start_time": "2022-03-03T20:51:30.722Z"
   },
   {
    "duration": 21,
    "start_time": "2022-03-03T20:51:30.793Z"
   },
   {
    "duration": 16,
    "start_time": "2022-03-03T20:51:30.817Z"
   },
   {
    "duration": 54,
    "start_time": "2022-03-03T20:51:30.836Z"
   },
   {
    "duration": 9,
    "start_time": "2022-03-03T20:51:30.892Z"
   },
   {
    "duration": 25,
    "start_time": "2022-03-03T20:51:30.904Z"
   },
   {
    "duration": 52,
    "start_time": "2022-03-03T20:51:30.931Z"
   },
   {
    "duration": 23,
    "start_time": "2022-03-03T20:51:30.985Z"
   },
   {
    "duration": 10,
    "start_time": "2022-03-03T20:51:31.011Z"
   },
   {
    "duration": 58,
    "start_time": "2022-03-03T20:51:31.024Z"
   },
   {
    "duration": 11,
    "start_time": "2022-03-03T20:51:31.085Z"
   },
   {
    "duration": 398,
    "start_time": "2022-03-03T20:51:33.612Z"
   },
   {
    "duration": 256,
    "start_time": "2022-03-03T20:52:03.353Z"
   },
   {
    "duration": 1139,
    "start_time": "2022-03-04T19:49:18.626Z"
   },
   {
    "duration": 34,
    "start_time": "2022-03-04T19:49:19.767Z"
   },
   {
    "duration": 16,
    "start_time": "2022-03-04T19:49:19.803Z"
   },
   {
    "duration": 53,
    "start_time": "2022-03-04T19:49:19.821Z"
   },
   {
    "duration": 11,
    "start_time": "2022-03-04T19:49:19.876Z"
   },
   {
    "duration": 11,
    "start_time": "2022-03-04T19:49:19.889Z"
   },
   {
    "duration": 49,
    "start_time": "2022-03-04T19:49:19.902Z"
   },
   {
    "duration": 12,
    "start_time": "2022-03-04T19:49:19.954Z"
   },
   {
    "duration": 5,
    "start_time": "2022-03-04T19:49:19.968Z"
   },
   {
    "duration": 138,
    "start_time": "2022-03-04T19:49:19.975Z"
   },
   {
    "duration": 22,
    "start_time": "2022-03-04T19:49:20.115Z"
   },
   {
    "duration": 10,
    "start_time": "2022-03-04T19:49:20.139Z"
   },
   {
    "duration": 5,
    "start_time": "2022-03-04T19:49:20.151Z"
   },
   {
    "duration": 29,
    "start_time": "2022-03-04T19:49:20.158Z"
   },
   {
    "duration": 13,
    "start_time": "2022-03-04T19:49:20.189Z"
   },
   {
    "duration": 40,
    "start_time": "2022-03-04T19:49:20.204Z"
   },
   {
    "duration": 15,
    "start_time": "2022-03-04T19:49:20.246Z"
   },
   {
    "duration": 7,
    "start_time": "2022-03-04T19:49:20.262Z"
   },
   {
    "duration": 9,
    "start_time": "2022-03-04T19:49:20.270Z"
   },
   {
    "duration": 15,
    "start_time": "2022-03-04T19:49:20.281Z"
   },
   {
    "duration": 49,
    "start_time": "2022-03-04T19:49:20.297Z"
   },
   {
    "duration": 6,
    "start_time": "2022-03-04T19:49:20.348Z"
   },
   {
    "duration": 19,
    "start_time": "2022-03-04T19:49:20.357Z"
   },
   {
    "duration": 13,
    "start_time": "2022-03-04T19:49:20.377Z"
   },
   {
    "duration": 267,
    "start_time": "2022-03-04T19:49:20.392Z"
   },
   {
    "duration": 168,
    "start_time": "2022-03-04T19:59:21.951Z"
   },
   {
    "duration": 233,
    "start_time": "2022-03-04T19:59:41.891Z"
   },
   {
    "duration": 189,
    "start_time": "2022-03-04T20:00:06.483Z"
   },
   {
    "duration": 189,
    "start_time": "2022-03-04T20:00:18.490Z"
   },
   {
    "duration": 3,
    "start_time": "2022-03-04T20:00:36.871Z"
   },
   {
    "duration": 33,
    "start_time": "2022-03-04T20:00:36.879Z"
   },
   {
    "duration": 14,
    "start_time": "2022-03-04T20:00:36.914Z"
   },
   {
    "duration": 39,
    "start_time": "2022-03-04T20:00:36.930Z"
   },
   {
    "duration": 11,
    "start_time": "2022-03-04T20:00:36.972Z"
   },
   {
    "duration": 9,
    "start_time": "2022-03-04T20:00:36.985Z"
   },
   {
    "duration": 25,
    "start_time": "2022-03-04T20:00:36.996Z"
   },
   {
    "duration": 13,
    "start_time": "2022-03-04T20:00:37.038Z"
   },
   {
    "duration": 8,
    "start_time": "2022-03-04T20:00:37.053Z"
   },
   {
    "duration": 131,
    "start_time": "2022-03-04T20:00:37.063Z"
   },
   {
    "duration": 12,
    "start_time": "2022-03-04T20:00:37.196Z"
   },
   {
    "duration": 10,
    "start_time": "2022-03-04T20:00:37.209Z"
   },
   {
    "duration": 20,
    "start_time": "2022-03-04T20:00:37.221Z"
   },
   {
    "duration": 25,
    "start_time": "2022-03-04T20:00:37.243Z"
   },
   {
    "duration": 10,
    "start_time": "2022-03-04T20:00:37.270Z"
   },
   {
    "duration": 12,
    "start_time": "2022-03-04T20:00:37.282Z"
   },
   {
    "duration": 15,
    "start_time": "2022-03-04T20:00:37.295Z"
   },
   {
    "duration": 7,
    "start_time": "2022-03-04T20:00:37.338Z"
   },
   {
    "duration": 8,
    "start_time": "2022-03-04T20:00:37.347Z"
   },
   {
    "duration": 15,
    "start_time": "2022-03-04T20:00:37.357Z"
   },
   {
    "duration": 16,
    "start_time": "2022-03-04T20:00:37.373Z"
   },
   {
    "duration": 5,
    "start_time": "2022-03-04T20:00:37.391Z"
   },
   {
    "duration": 50,
    "start_time": "2022-03-04T20:00:37.398Z"
   },
   {
    "duration": 10,
    "start_time": "2022-03-04T20:00:37.450Z"
   },
   {
    "duration": 195,
    "start_time": "2022-03-04T20:00:37.462Z"
   },
   {
    "duration": 192,
    "start_time": "2022-03-04T20:00:39.871Z"
   },
   {
    "duration": 3,
    "start_time": "2022-03-04T20:00:42.023Z"
   },
   {
    "duration": 44,
    "start_time": "2022-03-04T20:00:42.028Z"
   },
   {
    "duration": 13,
    "start_time": "2022-03-04T20:00:42.075Z"
   },
   {
    "duration": 56,
    "start_time": "2022-03-04T20:00:42.089Z"
   },
   {
    "duration": 12,
    "start_time": "2022-03-04T20:00:42.146Z"
   },
   {
    "duration": 10,
    "start_time": "2022-03-04T20:00:42.159Z"
   },
   {
    "duration": 24,
    "start_time": "2022-03-04T20:00:42.171Z"
   },
   {
    "duration": 44,
    "start_time": "2022-03-04T20:00:42.197Z"
   },
   {
    "duration": 8,
    "start_time": "2022-03-04T20:00:42.244Z"
   },
   {
    "duration": 125,
    "start_time": "2022-03-04T20:00:42.254Z"
   },
   {
    "duration": 12,
    "start_time": "2022-03-04T20:00:42.380Z"
   },
   {
    "duration": 14,
    "start_time": "2022-03-04T20:00:42.393Z"
   },
   {
    "duration": 6,
    "start_time": "2022-03-04T20:00:42.408Z"
   },
   {
    "duration": 38,
    "start_time": "2022-03-04T20:00:42.416Z"
   },
   {
    "duration": 15,
    "start_time": "2022-03-04T20:00:42.455Z"
   },
   {
    "duration": 13,
    "start_time": "2022-03-04T20:00:42.471Z"
   },
   {
    "duration": 12,
    "start_time": "2022-03-04T20:00:42.486Z"
   },
   {
    "duration": 6,
    "start_time": "2022-03-04T20:00:42.500Z"
   },
   {
    "duration": 10,
    "start_time": "2022-03-04T20:00:42.538Z"
   },
   {
    "duration": 18,
    "start_time": "2022-03-04T20:00:42.550Z"
   },
   {
    "duration": 14,
    "start_time": "2022-03-04T20:00:42.570Z"
   },
   {
    "duration": 7,
    "start_time": "2022-03-04T20:00:42.585Z"
   },
   {
    "duration": 14,
    "start_time": "2022-03-04T20:00:42.594Z"
   },
   {
    "duration": 7,
    "start_time": "2022-03-04T20:00:42.639Z"
   },
   {
    "duration": 640,
    "start_time": "2022-03-04T20:00:42.648Z"
   },
   {
    "duration": 182,
    "start_time": "2022-03-04T20:00:47.083Z"
   },
   {
    "duration": 15,
    "start_time": "2022-03-04T20:01:27.412Z"
   },
   {
    "duration": 34,
    "start_time": "2022-03-04T20:01:40.510Z"
   },
   {
    "duration": 342,
    "start_time": "2022-03-05T20:58:52.601Z"
   },
   {
    "duration": 1054,
    "start_time": "2022-03-05T20:59:02.954Z"
   },
   {
    "duration": 48,
    "start_time": "2022-03-05T20:59:04.010Z"
   },
   {
    "duration": 14,
    "start_time": "2022-03-05T20:59:04.061Z"
   },
   {
    "duration": 31,
    "start_time": "2022-03-05T20:59:04.076Z"
   },
   {
    "duration": 10,
    "start_time": "2022-03-05T20:59:04.108Z"
   },
   {
    "duration": 10,
    "start_time": "2022-03-05T20:59:04.120Z"
   },
   {
    "duration": 20,
    "start_time": "2022-03-05T20:59:04.131Z"
   },
   {
    "duration": 10,
    "start_time": "2022-03-05T20:59:04.152Z"
   },
   {
    "duration": 4,
    "start_time": "2022-03-05T20:59:04.164Z"
   },
   {
    "duration": 132,
    "start_time": "2022-03-05T20:59:04.170Z"
   },
   {
    "duration": 11,
    "start_time": "2022-03-05T20:59:04.303Z"
   },
   {
    "duration": 8,
    "start_time": "2022-03-05T20:59:04.315Z"
   },
   {
    "duration": 4,
    "start_time": "2022-03-05T20:59:04.325Z"
   },
   {
    "duration": 18,
    "start_time": "2022-03-05T20:59:04.330Z"
   },
   {
    "duration": 8,
    "start_time": "2022-03-05T20:59:04.349Z"
   },
   {
    "duration": 8,
    "start_time": "2022-03-05T20:59:04.358Z"
   },
   {
    "duration": 13,
    "start_time": "2022-03-05T20:59:04.402Z"
   },
   {
    "duration": 6,
    "start_time": "2022-03-05T20:59:04.417Z"
   },
   {
    "duration": 7,
    "start_time": "2022-03-05T20:59:04.425Z"
   },
   {
    "duration": 15,
    "start_time": "2022-03-05T20:59:04.434Z"
   },
   {
    "duration": 14,
    "start_time": "2022-03-05T20:59:04.451Z"
   },
   {
    "duration": 40,
    "start_time": "2022-03-05T20:59:04.466Z"
   },
   {
    "duration": 18,
    "start_time": "2022-03-05T20:59:04.508Z"
   },
   {
    "duration": 370,
    "start_time": "2022-03-05T20:59:04.527Z"
   },
   {
    "duration": 13,
    "start_time": "2022-03-05T20:59:25.273Z"
   },
   {
    "duration": 326,
    "start_time": "2022-03-05T21:00:03.754Z"
   },
   {
    "duration": 12,
    "start_time": "2022-03-05T21:00:14.533Z"
   },
   {
    "duration": 13,
    "start_time": "2022-03-05T21:00:28.815Z"
   },
   {
    "duration": 13,
    "start_time": "2022-03-05T21:01:07.614Z"
   },
   {
    "duration": 13,
    "start_time": "2022-03-05T21:01:14.534Z"
   },
   {
    "duration": 132,
    "start_time": "2022-03-05T21:04:14.533Z"
   },
   {
    "duration": 326,
    "start_time": "2022-03-05T21:04:21.714Z"
   },
   {
    "duration": 1109,
    "start_time": "2022-03-05T21:05:06.282Z"
   },
   {
    "duration": 39,
    "start_time": "2022-03-05T21:05:07.393Z"
   },
   {
    "duration": 15,
    "start_time": "2022-03-05T21:05:07.434Z"
   },
   {
    "duration": 31,
    "start_time": "2022-03-05T21:05:07.451Z"
   },
   {
    "duration": 22,
    "start_time": "2022-03-05T21:05:07.483Z"
   },
   {
    "duration": 9,
    "start_time": "2022-03-05T21:05:07.507Z"
   },
   {
    "duration": 23,
    "start_time": "2022-03-05T21:05:07.518Z"
   },
   {
    "duration": 11,
    "start_time": "2022-03-05T21:05:07.543Z"
   },
   {
    "duration": 4,
    "start_time": "2022-03-05T21:05:07.557Z"
   },
   {
    "duration": 135,
    "start_time": "2022-03-05T21:05:07.563Z"
   },
   {
    "duration": 12,
    "start_time": "2022-03-05T21:05:07.701Z"
   },
   {
    "duration": 8,
    "start_time": "2022-03-05T21:05:07.715Z"
   },
   {
    "duration": 5,
    "start_time": "2022-03-05T21:05:07.725Z"
   },
   {
    "duration": 17,
    "start_time": "2022-03-05T21:05:07.731Z"
   },
   {
    "duration": 9,
    "start_time": "2022-03-05T21:05:07.749Z"
   },
   {
    "duration": 42,
    "start_time": "2022-03-05T21:05:07.760Z"
   },
   {
    "duration": 13,
    "start_time": "2022-03-05T21:05:07.803Z"
   },
   {
    "duration": 6,
    "start_time": "2022-03-05T21:05:07.817Z"
   },
   {
    "duration": 7,
    "start_time": "2022-03-05T21:05:07.824Z"
   },
   {
    "duration": 13,
    "start_time": "2022-03-05T21:05:07.833Z"
   },
   {
    "duration": 14,
    "start_time": "2022-03-05T21:05:07.847Z"
   },
   {
    "duration": 40,
    "start_time": "2022-03-05T21:05:07.862Z"
   },
   {
    "duration": 12,
    "start_time": "2022-03-05T21:05:07.904Z"
   },
   {
    "duration": 385,
    "start_time": "2022-03-05T21:05:10.354Z"
   },
   {
    "duration": 352,
    "start_time": "2022-03-05T21:05:41.341Z"
   },
   {
    "duration": 29,
    "start_time": "2022-03-05T21:06:18.922Z"
   },
   {
    "duration": 26,
    "start_time": "2022-03-05T21:07:52.754Z"
   },
   {
    "duration": 37,
    "start_time": "2022-03-05T21:08:11.193Z"
   },
   {
    "duration": 27,
    "start_time": "2022-03-05T21:08:22.208Z"
   },
   {
    "duration": 11,
    "start_time": "2022-03-05T21:11:30.817Z"
   },
   {
    "duration": 14,
    "start_time": "2022-03-05T21:11:38.529Z"
   },
   {
    "duration": 15,
    "start_time": "2022-03-05T21:11:52.116Z"
   },
   {
    "duration": 14,
    "start_time": "2022-03-05T21:12:33.476Z"
   },
   {
    "duration": 320,
    "start_time": "2022-03-05T21:12:57.516Z"
   },
   {
    "duration": 5,
    "start_time": "2022-03-05T21:13:02.837Z"
   },
   {
    "duration": 25,
    "start_time": "2022-03-05T21:14:11.408Z"
   },
   {
    "duration": 4,
    "start_time": "2022-03-05T21:16:18.237Z"
   },
   {
    "duration": 287,
    "start_time": "2022-03-05T21:17:17.768Z"
   },
   {
    "duration": 205,
    "start_time": "2022-03-05T21:17:23.676Z"
   },
   {
    "duration": 209,
    "start_time": "2022-03-05T21:17:44.937Z"
   },
   {
    "duration": 212,
    "start_time": "2022-03-05T21:18:08.196Z"
   },
   {
    "duration": 464,
    "start_time": "2022-03-05T21:19:55.116Z"
   },
   {
    "duration": 436,
    "start_time": "2022-03-05T21:20:23.476Z"
   },
   {
    "duration": 26,
    "start_time": "2022-03-05T21:21:41.916Z"
   },
   {
    "duration": 104,
    "start_time": "2022-03-05T21:21:46.956Z"
   },
   {
    "duration": 224,
    "start_time": "2022-03-05T21:24:15.456Z"
   },
   {
    "duration": 276,
    "start_time": "2022-03-05T21:24:24.956Z"
   },
   {
    "duration": 277,
    "start_time": "2022-03-05T21:25:54.336Z"
   },
   {
    "duration": 289,
    "start_time": "2022-03-05T21:26:35.738Z"
   },
   {
    "duration": 278,
    "start_time": "2022-03-05T21:26:41.598Z"
   },
   {
    "duration": 271,
    "start_time": "2022-03-05T21:27:07.908Z"
   },
   {
    "duration": 275,
    "start_time": "2022-03-05T21:27:19.117Z"
   },
   {
    "duration": 264,
    "start_time": "2022-03-05T21:28:09.916Z"
   },
   {
    "duration": 277,
    "start_time": "2022-03-05T21:28:20.186Z"
   },
   {
    "duration": 762,
    "start_time": "2022-03-05T21:30:14.837Z"
   },
   {
    "duration": 278,
    "start_time": "2022-03-05T21:30:26.977Z"
   },
   {
    "duration": 273,
    "start_time": "2022-03-05T21:30:34.416Z"
   },
   {
    "duration": 397,
    "start_time": "2022-03-05T21:31:05.918Z"
   },
   {
    "duration": 305,
    "start_time": "2022-03-05T21:31:15.896Z"
   },
   {
    "duration": 13,
    "start_time": "2022-03-05T21:34:46.516Z"
   },
   {
    "duration": 35,
    "start_time": "2022-03-05T21:35:57.277Z"
   },
   {
    "duration": 26,
    "start_time": "2022-03-05T21:36:06.017Z"
   },
   {
    "duration": 303,
    "start_time": "2022-03-05T21:36:23.757Z"
   },
   {
    "duration": 434,
    "start_time": "2022-03-05T21:38:02.566Z"
   },
   {
    "duration": 1057,
    "start_time": "2022-03-05T21:43:38.737Z"
   },
   {
    "duration": 35,
    "start_time": "2022-03-05T21:43:39.796Z"
   },
   {
    "duration": 13,
    "start_time": "2022-03-05T21:43:39.833Z"
   },
   {
    "duration": 33,
    "start_time": "2022-03-05T21:43:39.848Z"
   },
   {
    "duration": 10,
    "start_time": "2022-03-05T21:43:39.882Z"
   },
   {
    "duration": 7,
    "start_time": "2022-03-05T21:43:39.901Z"
   },
   {
    "duration": 21,
    "start_time": "2022-03-05T21:43:39.909Z"
   },
   {
    "duration": 10,
    "start_time": "2022-03-05T21:43:39.932Z"
   },
   {
    "duration": 4,
    "start_time": "2022-03-05T21:43:39.945Z"
   },
   {
    "duration": 136,
    "start_time": "2022-03-05T21:43:39.952Z"
   },
   {
    "duration": 17,
    "start_time": "2022-03-05T21:43:40.090Z"
   },
   {
    "duration": 9,
    "start_time": "2022-03-05T21:43:40.108Z"
   },
   {
    "duration": 5,
    "start_time": "2022-03-05T21:43:40.118Z"
   },
   {
    "duration": 17,
    "start_time": "2022-03-05T21:43:40.124Z"
   },
   {
    "duration": 9,
    "start_time": "2022-03-05T21:43:40.142Z"
   },
   {
    "duration": 10,
    "start_time": "2022-03-05T21:43:40.153Z"
   },
   {
    "duration": 41,
    "start_time": "2022-03-05T21:43:40.164Z"
   },
   {
    "duration": 7,
    "start_time": "2022-03-05T21:43:40.207Z"
   },
   {
    "duration": 8,
    "start_time": "2022-03-05T21:43:40.216Z"
   },
   {
    "duration": 19,
    "start_time": "2022-03-05T21:43:40.226Z"
   },
   {
    "duration": 19,
    "start_time": "2022-03-05T21:43:40.247Z"
   },
   {
    "duration": 36,
    "start_time": "2022-03-05T21:43:40.267Z"
   },
   {
    "duration": 17,
    "start_time": "2022-03-05T21:43:40.305Z"
   },
   {
    "duration": 22,
    "start_time": "2022-03-05T21:43:40.324Z"
   },
   {
    "duration": 68,
    "start_time": "2022-03-05T21:43:40.348Z"
   },
   {
    "duration": 305,
    "start_time": "2022-03-05T21:43:40.418Z"
   },
   {
    "duration": 1097,
    "start_time": "2022-03-07T10:44:26.791Z"
   },
   {
    "duration": 35,
    "start_time": "2022-03-07T10:44:27.889Z"
   },
   {
    "duration": 12,
    "start_time": "2022-03-07T10:44:27.926Z"
   },
   {
    "duration": 35,
    "start_time": "2022-03-07T10:44:27.940Z"
   },
   {
    "duration": 10,
    "start_time": "2022-03-07T10:44:27.977Z"
   },
   {
    "duration": 17,
    "start_time": "2022-03-07T10:44:27.989Z"
   },
   {
    "duration": 38,
    "start_time": "2022-03-07T10:44:28.007Z"
   },
   {
    "duration": 9,
    "start_time": "2022-03-07T10:44:28.047Z"
   },
   {
    "duration": 7,
    "start_time": "2022-03-07T10:44:28.058Z"
   },
   {
    "duration": 106,
    "start_time": "2022-03-07T10:44:28.067Z"
   },
   {
    "duration": 10,
    "start_time": "2022-03-07T10:44:28.174Z"
   },
   {
    "duration": 14,
    "start_time": "2022-03-07T10:44:28.186Z"
   },
   {
    "duration": 16,
    "start_time": "2022-03-07T10:44:28.202Z"
   },
   {
    "duration": 30,
    "start_time": "2022-03-07T10:44:28.219Z"
   },
   {
    "duration": 9,
    "start_time": "2022-03-07T10:44:28.251Z"
   },
   {
    "duration": 18,
    "start_time": "2022-03-07T10:44:28.261Z"
   },
   {
    "duration": 10,
    "start_time": "2022-03-07T10:44:28.280Z"
   },
   {
    "duration": 5,
    "start_time": "2022-03-07T10:44:28.291Z"
   },
   {
    "duration": 20,
    "start_time": "2022-03-07T10:44:28.297Z"
   },
   {
    "duration": 26,
    "start_time": "2022-03-07T10:44:28.318Z"
   },
   {
    "duration": 23,
    "start_time": "2022-03-07T10:44:28.345Z"
   },
   {
    "duration": 4,
    "start_time": "2022-03-07T10:44:28.369Z"
   },
   {
    "duration": 18,
    "start_time": "2022-03-07T10:44:28.374Z"
   },
   {
    "duration": 22,
    "start_time": "2022-03-07T10:44:28.394Z"
   },
   {
    "duration": 27,
    "start_time": "2022-03-07T10:44:28.418Z"
   },
   {
    "duration": 104,
    "start_time": "2022-03-07T10:47:54.730Z"
   },
   {
    "duration": 267,
    "start_time": "2022-03-07T10:48:10.728Z"
   },
   {
    "duration": 275,
    "start_time": "2022-03-07T10:48:30.540Z"
   },
   {
    "duration": 72,
    "start_time": "2022-03-07T10:50:06.130Z"
   },
   {
    "duration": 93,
    "start_time": "2022-03-07T10:50:12.921Z"
   },
   {
    "duration": 290,
    "start_time": "2022-03-07T10:50:19.586Z"
   },
   {
    "duration": 320,
    "start_time": "2022-03-07T10:50:35.898Z"
   },
   {
    "duration": 319,
    "start_time": "2022-03-07T10:51:05.689Z"
   },
   {
    "duration": 3,
    "start_time": "2022-03-07T10:52:25.446Z"
   },
   {
    "duration": 11,
    "start_time": "2022-03-07T10:56:08.742Z"
   },
   {
    "duration": 15,
    "start_time": "2022-03-07T10:57:43.402Z"
   },
   {
    "duration": 11,
    "start_time": "2022-03-07T10:57:55.666Z"
   },
   {
    "duration": 6,
    "start_time": "2022-03-07T10:59:35.592Z"
   },
   {
    "duration": 4,
    "start_time": "2022-03-07T12:05:21.185Z"
   },
   {
    "duration": 7212,
    "start_time": "2022-03-07T12:05:22.101Z"
   },
   {
    "duration": 7210,
    "start_time": "2022-03-07T12:05:45.686Z"
   },
   {
    "duration": 455,
    "start_time": "2022-03-07T12:07:02.550Z"
   },
   {
    "duration": 301,
    "start_time": "2022-03-07T12:09:16.947Z"
   },
   {
    "duration": 12,
    "start_time": "2022-03-07T12:09:26.142Z"
   },
   {
    "duration": 4,
    "start_time": "2022-03-07T12:09:27.499Z"
   },
   {
    "duration": 458,
    "start_time": "2022-03-07T12:09:27.964Z"
   },
   {
    "duration": 232,
    "start_time": "2022-03-07T12:13:13.606Z"
   },
   {
    "duration": 95,
    "start_time": "2022-03-07T12:13:25.868Z"
   },
   {
    "duration": 2,
    "start_time": "2022-03-07T12:13:29.262Z"
   },
   {
    "duration": 38,
    "start_time": "2022-03-07T12:13:29.267Z"
   },
   {
    "duration": 10,
    "start_time": "2022-03-07T12:13:29.306Z"
   },
   {
    "duration": 47,
    "start_time": "2022-03-07T12:13:29.319Z"
   },
   {
    "duration": 14,
    "start_time": "2022-03-07T12:13:29.368Z"
   },
   {
    "duration": 8,
    "start_time": "2022-03-07T12:13:29.406Z"
   },
   {
    "duration": 27,
    "start_time": "2022-03-07T12:13:29.416Z"
   },
   {
    "duration": 14,
    "start_time": "2022-03-07T12:13:29.444Z"
   },
   {
    "duration": 4,
    "start_time": "2022-03-07T12:13:29.460Z"
   },
   {
    "duration": 132,
    "start_time": "2022-03-07T12:13:29.467Z"
   },
   {
    "duration": 13,
    "start_time": "2022-03-07T12:13:29.600Z"
   },
   {
    "duration": 16,
    "start_time": "2022-03-07T12:13:29.614Z"
   },
   {
    "duration": 26,
    "start_time": "2022-03-07T12:13:29.632Z"
   },
   {
    "duration": 38,
    "start_time": "2022-03-07T12:13:29.660Z"
   },
   {
    "duration": 25,
    "start_time": "2022-03-07T12:13:29.700Z"
   },
   {
    "duration": 31,
    "start_time": "2022-03-07T12:13:29.727Z"
   },
   {
    "duration": 21,
    "start_time": "2022-03-07T12:13:29.759Z"
   },
   {
    "duration": 16,
    "start_time": "2022-03-07T12:13:29.782Z"
   },
   {
    "duration": 20,
    "start_time": "2022-03-07T12:13:29.799Z"
   },
   {
    "duration": 52,
    "start_time": "2022-03-07T12:13:29.820Z"
   },
   {
    "duration": 34,
    "start_time": "2022-03-07T12:13:29.874Z"
   },
   {
    "duration": 96,
    "start_time": "2022-03-07T12:13:31.561Z"
   },
   {
    "duration": 338,
    "start_time": "2022-03-07T12:13:44.953Z"
   },
   {
    "duration": 12,
    "start_time": "2022-03-07T12:13:51.602Z"
   },
   {
    "duration": 19,
    "start_time": "2022-03-07T12:13:55.444Z"
   },
   {
    "duration": 1129,
    "start_time": "2022-03-07T12:15:02.804Z"
   },
   {
    "duration": 45,
    "start_time": "2022-03-07T12:15:03.935Z"
   },
   {
    "duration": 14,
    "start_time": "2022-03-07T12:15:03.982Z"
   },
   {
    "duration": 36,
    "start_time": "2022-03-07T12:15:03.998Z"
   },
   {
    "duration": 10,
    "start_time": "2022-03-07T12:15:04.035Z"
   },
   {
    "duration": 13,
    "start_time": "2022-03-07T12:15:04.047Z"
   },
   {
    "duration": 24,
    "start_time": "2022-03-07T12:15:04.061Z"
   },
   {
    "duration": 22,
    "start_time": "2022-03-07T12:15:04.087Z"
   },
   {
    "duration": 11,
    "start_time": "2022-03-07T12:15:04.111Z"
   },
   {
    "duration": 175,
    "start_time": "2022-03-07T12:15:04.124Z"
   },
   {
    "duration": 16,
    "start_time": "2022-03-07T12:15:04.301Z"
   },
   {
    "duration": 12,
    "start_time": "2022-03-07T12:15:04.319Z"
   },
   {
    "duration": 6,
    "start_time": "2022-03-07T12:15:04.333Z"
   },
   {
    "duration": 26,
    "start_time": "2022-03-07T12:15:04.341Z"
   },
   {
    "duration": 39,
    "start_time": "2022-03-07T12:15:04.369Z"
   },
   {
    "duration": 13,
    "start_time": "2022-03-07T12:15:04.410Z"
   },
   {
    "duration": 13,
    "start_time": "2022-03-07T12:15:04.425Z"
   },
   {
    "duration": 5,
    "start_time": "2022-03-07T12:15:04.440Z"
   },
   {
    "duration": 7,
    "start_time": "2022-03-07T12:15:04.447Z"
   },
   {
    "duration": 12,
    "start_time": "2022-03-07T12:15:04.456Z"
   },
   {
    "duration": 45,
    "start_time": "2022-03-07T12:15:04.470Z"
   },
   {
    "duration": 5,
    "start_time": "2022-03-07T12:15:04.517Z"
   },
   {
    "duration": 9,
    "start_time": "2022-03-07T12:15:04.525Z"
   },
   {
    "duration": 14,
    "start_time": "2022-03-07T12:15:04.536Z"
   },
   {
    "duration": 23,
    "start_time": "2022-03-07T12:15:04.552Z"
   },
   {
    "duration": 323,
    "start_time": "2022-03-07T12:15:04.577Z"
   },
   {
    "duration": 10,
    "start_time": "2022-03-07T12:15:04.905Z"
   },
   {
    "duration": 12,
    "start_time": "2022-03-07T12:15:04.916Z"
   },
   {
    "duration": 4,
    "start_time": "2022-03-07T12:15:04.929Z"
   },
   {
    "duration": 457,
    "start_time": "2022-03-07T12:15:08.455Z"
   },
   {
    "duration": 7318,
    "start_time": "2022-03-07T12:15:27.156Z"
   },
   {
    "duration": 1376,
    "start_time": "2022-03-07T13:12:47.179Z"
   },
   {
    "duration": 49,
    "start_time": "2022-03-07T13:12:48.557Z"
   },
   {
    "duration": 20,
    "start_time": "2022-03-07T13:12:48.608Z"
   },
   {
    "duration": 46,
    "start_time": "2022-03-07T13:12:48.630Z"
   },
   {
    "duration": 32,
    "start_time": "2022-03-07T13:12:48.678Z"
   },
   {
    "duration": 10,
    "start_time": "2022-03-07T13:12:48.712Z"
   },
   {
    "duration": 32,
    "start_time": "2022-03-07T13:12:48.724Z"
   },
   {
    "duration": 15,
    "start_time": "2022-03-07T13:12:48.758Z"
   },
   {
    "duration": 30,
    "start_time": "2022-03-07T13:12:48.776Z"
   },
   {
    "duration": 169,
    "start_time": "2022-03-07T13:12:48.808Z"
   },
   {
    "duration": 13,
    "start_time": "2022-03-07T13:12:48.979Z"
   },
   {
    "duration": 22,
    "start_time": "2022-03-07T13:12:48.994Z"
   },
   {
    "duration": 6,
    "start_time": "2022-03-07T13:12:49.018Z"
   },
   {
    "duration": 26,
    "start_time": "2022-03-07T13:12:49.026Z"
   },
   {
    "duration": 9,
    "start_time": "2022-03-07T13:12:49.054Z"
   },
   {
    "duration": 13,
    "start_time": "2022-03-07T13:12:49.064Z"
   },
   {
    "duration": 40,
    "start_time": "2022-03-07T13:12:49.078Z"
   },
   {
    "duration": 6,
    "start_time": "2022-03-07T13:12:49.120Z"
   },
   {
    "duration": 8,
    "start_time": "2022-03-07T13:12:49.128Z"
   },
   {
    "duration": 13,
    "start_time": "2022-03-07T13:12:49.138Z"
   },
   {
    "duration": 14,
    "start_time": "2022-03-07T13:12:49.153Z"
   },
   {
    "duration": 39,
    "start_time": "2022-03-07T13:12:49.168Z"
   },
   {
    "duration": 22,
    "start_time": "2022-03-07T13:12:49.209Z"
   },
   {
    "duration": 25,
    "start_time": "2022-03-07T13:12:49.232Z"
   },
   {
    "duration": 49,
    "start_time": "2022-03-07T13:12:49.259Z"
   },
   {
    "duration": 466,
    "start_time": "2022-03-07T13:12:49.310Z"
   },
   {
    "duration": 10,
    "start_time": "2022-03-07T13:12:49.780Z"
   },
   {
    "duration": 27,
    "start_time": "2022-03-07T13:12:49.792Z"
   },
   {
    "duration": 5,
    "start_time": "2022-03-07T13:12:49.821Z"
   },
   {
    "duration": 7337,
    "start_time": "2022-03-07T13:12:49.827Z"
   },
   {
    "duration": 512,
    "start_time": "2022-03-07T13:14:25.101Z"
   },
   {
    "duration": 3,
    "start_time": "2022-03-07T13:31:23.142Z"
   },
   {
    "duration": 43,
    "start_time": "2022-03-07T13:31:23.148Z"
   },
   {
    "duration": 11,
    "start_time": "2022-03-07T13:31:23.193Z"
   },
   {
    "duration": 35,
    "start_time": "2022-03-07T13:31:23.206Z"
   },
   {
    "duration": 10,
    "start_time": "2022-03-07T13:31:23.243Z"
   },
   {
    "duration": 8,
    "start_time": "2022-03-07T13:31:23.255Z"
   },
   {
    "duration": 45,
    "start_time": "2022-03-07T13:31:23.264Z"
   },
   {
    "duration": 12,
    "start_time": "2022-03-07T13:31:23.311Z"
   },
   {
    "duration": 6,
    "start_time": "2022-03-07T13:31:23.325Z"
   },
   {
    "duration": 121,
    "start_time": "2022-03-07T13:31:23.334Z"
   },
   {
    "duration": 11,
    "start_time": "2022-03-07T13:31:23.457Z"
   },
   {
    "duration": 9,
    "start_time": "2022-03-07T13:31:23.469Z"
   },
   {
    "duration": 4,
    "start_time": "2022-03-07T13:31:23.480Z"
   },
   {
    "duration": 36,
    "start_time": "2022-03-07T13:31:23.485Z"
   },
   {
    "duration": 10,
    "start_time": "2022-03-07T13:31:23.522Z"
   },
   {
    "duration": 18,
    "start_time": "2022-03-07T13:31:23.533Z"
   },
   {
    "duration": 13,
    "start_time": "2022-03-07T13:31:23.552Z"
   },
   {
    "duration": 7,
    "start_time": "2022-03-07T13:31:23.567Z"
   },
   {
    "duration": 36,
    "start_time": "2022-03-07T13:31:23.575Z"
   },
   {
    "duration": 14,
    "start_time": "2022-03-07T13:31:23.612Z"
   },
   {
    "duration": 14,
    "start_time": "2022-03-07T13:31:23.627Z"
   },
   {
    "duration": 8,
    "start_time": "2022-03-07T13:31:23.642Z"
   },
   {
    "duration": 11,
    "start_time": "2022-03-07T13:31:23.651Z"
   },
   {
    "duration": 17,
    "start_time": "2022-03-07T13:31:23.663Z"
   },
   {
    "duration": 26,
    "start_time": "2022-03-07T13:31:23.705Z"
   },
   {
    "duration": 311,
    "start_time": "2022-03-07T13:31:23.733Z"
   },
   {
    "duration": 10,
    "start_time": "2022-03-07T13:31:25.641Z"
   },
   {
    "duration": 14,
    "start_time": "2022-03-07T13:31:27.273Z"
   },
   {
    "duration": 5,
    "start_time": "2022-03-07T13:31:27.742Z"
   },
   {
    "duration": 7934,
    "start_time": "2022-03-07T13:31:30.175Z"
   },
   {
    "duration": 10,
    "start_time": "2022-03-07T13:37:36.510Z"
   },
   {
    "duration": 342,
    "start_time": "2022-03-07T13:38:30.893Z"
   },
   {
    "duration": 1106,
    "start_time": "2022-03-07T13:38:35.699Z"
   },
   {
    "duration": 37,
    "start_time": "2022-03-07T13:38:36.807Z"
   },
   {
    "duration": 15,
    "start_time": "2022-03-07T13:38:36.846Z"
   },
   {
    "duration": 42,
    "start_time": "2022-03-07T13:38:36.863Z"
   },
   {
    "duration": 11,
    "start_time": "2022-03-07T13:38:36.907Z"
   },
   {
    "duration": 12,
    "start_time": "2022-03-07T13:38:36.920Z"
   },
   {
    "duration": 23,
    "start_time": "2022-03-07T13:38:36.933Z"
   },
   {
    "duration": 13,
    "start_time": "2022-03-07T13:38:36.958Z"
   },
   {
    "duration": 31,
    "start_time": "2022-03-07T13:38:36.974Z"
   },
   {
    "duration": 116,
    "start_time": "2022-03-07T13:38:37.008Z"
   },
   {
    "duration": 12,
    "start_time": "2022-03-07T13:38:37.126Z"
   },
   {
    "duration": 10,
    "start_time": "2022-03-07T13:38:37.139Z"
   },
   {
    "duration": 5,
    "start_time": "2022-03-07T13:38:37.151Z"
   },
   {
    "duration": 49,
    "start_time": "2022-03-07T13:38:37.158Z"
   },
   {
    "duration": 11,
    "start_time": "2022-03-07T13:38:37.209Z"
   },
   {
    "duration": 11,
    "start_time": "2022-03-07T13:38:37.221Z"
   },
   {
    "duration": 13,
    "start_time": "2022-03-07T13:38:37.233Z"
   },
   {
    "duration": 7,
    "start_time": "2022-03-07T13:38:37.247Z"
   },
   {
    "duration": 8,
    "start_time": "2022-03-07T13:38:37.256Z"
   },
   {
    "duration": 52,
    "start_time": "2022-03-07T13:38:37.266Z"
   },
   {
    "duration": 15,
    "start_time": "2022-03-07T13:38:37.320Z"
   },
   {
    "duration": 7,
    "start_time": "2022-03-07T13:38:37.336Z"
   },
   {
    "duration": 13,
    "start_time": "2022-03-07T13:38:37.344Z"
   },
   {
    "duration": 49,
    "start_time": "2022-03-07T13:38:37.358Z"
   },
   {
    "duration": 26,
    "start_time": "2022-03-07T13:38:37.409Z"
   },
   {
    "duration": 317,
    "start_time": "2022-03-07T13:38:37.436Z"
   },
   {
    "duration": 10,
    "start_time": "2022-03-07T13:38:37.756Z"
   },
   {
    "duration": 13,
    "start_time": "2022-03-07T13:38:37.768Z"
   },
   {
    "duration": 345,
    "start_time": "2022-03-07T13:38:37.783Z"
   },
   {
    "duration": 12,
    "start_time": "2022-03-07T13:38:38.118Z"
   },
   {
    "duration": 5,
    "start_time": "2022-03-07T13:38:47.647Z"
   },
   {
    "duration": 399,
    "start_time": "2022-03-07T13:38:51.410Z"
   },
   {
    "duration": 3,
    "start_time": "2022-03-07T16:38:10.262Z"
   },
   {
    "duration": 1081,
    "start_time": "2022-03-07T16:38:35.138Z"
   },
   {
    "duration": 42,
    "start_time": "2022-03-07T16:38:36.222Z"
   },
   {
    "duration": 14,
    "start_time": "2022-03-07T16:38:36.265Z"
   },
   {
    "duration": 34,
    "start_time": "2022-03-07T16:38:36.280Z"
   },
   {
    "duration": 10,
    "start_time": "2022-03-07T16:38:36.315Z"
   },
   {
    "duration": 8,
    "start_time": "2022-03-07T16:38:36.327Z"
   },
   {
    "duration": 21,
    "start_time": "2022-03-07T16:38:36.337Z"
   },
   {
    "duration": 11,
    "start_time": "2022-03-07T16:38:36.360Z"
   },
   {
    "duration": 33,
    "start_time": "2022-03-07T16:38:36.373Z"
   },
   {
    "duration": 111,
    "start_time": "2022-03-07T16:38:36.407Z"
   },
   {
    "duration": 11,
    "start_time": "2022-03-07T16:38:36.520Z"
   },
   {
    "duration": 9,
    "start_time": "2022-03-07T16:38:36.532Z"
   },
   {
    "duration": 7,
    "start_time": "2022-03-07T16:38:36.542Z"
   },
   {
    "duration": 18,
    "start_time": "2022-03-07T16:38:36.551Z"
   },
   {
    "duration": 35,
    "start_time": "2022-03-07T16:38:36.571Z"
   },
   {
    "duration": 10,
    "start_time": "2022-03-07T16:38:36.608Z"
   },
   {
    "duration": 12,
    "start_time": "2022-03-07T16:38:36.619Z"
   },
   {
    "duration": 6,
    "start_time": "2022-03-07T16:38:36.633Z"
   },
   {
    "duration": 10,
    "start_time": "2022-03-07T16:38:36.640Z"
   },
   {
    "duration": 15,
    "start_time": "2022-03-07T16:38:36.652Z"
   },
   {
    "duration": 50,
    "start_time": "2022-03-07T16:38:36.668Z"
   },
   {
    "duration": 7,
    "start_time": "2022-03-07T16:38:36.720Z"
   },
   {
    "duration": 11,
    "start_time": "2022-03-07T16:38:36.730Z"
   },
   {
    "duration": 17,
    "start_time": "2022-03-07T16:38:36.743Z"
   },
   {
    "duration": 26,
    "start_time": "2022-03-07T16:38:38.527Z"
   },
   {
    "duration": 420,
    "start_time": "2022-03-07T16:41:11.014Z"
   },
   {
    "duration": 403,
    "start_time": "2022-03-07T16:43:45.795Z"
   },
   {
    "duration": 297,
    "start_time": "2022-03-07T16:43:47.138Z"
   },
   {
    "duration": 540,
    "start_time": "2022-03-07T16:44:16.815Z"
   },
   {
    "duration": 3,
    "start_time": "2022-03-07T16:44:43.467Z"
   },
   {
    "duration": 54,
    "start_time": "2022-03-07T16:44:43.471Z"
   },
   {
    "duration": 11,
    "start_time": "2022-03-07T16:44:43.527Z"
   },
   {
    "duration": 33,
    "start_time": "2022-03-07T16:44:43.540Z"
   },
   {
    "duration": 31,
    "start_time": "2022-03-07T16:44:43.574Z"
   },
   {
    "duration": 7,
    "start_time": "2022-03-07T16:44:43.607Z"
   },
   {
    "duration": 23,
    "start_time": "2022-03-07T16:44:43.615Z"
   },
   {
    "duration": 11,
    "start_time": "2022-03-07T16:44:43.639Z"
   },
   {
    "duration": 4,
    "start_time": "2022-03-07T16:44:43.653Z"
   },
   {
    "duration": 136,
    "start_time": "2022-03-07T16:44:43.659Z"
   },
   {
    "duration": 17,
    "start_time": "2022-03-07T16:44:43.797Z"
   },
   {
    "duration": 10,
    "start_time": "2022-03-07T16:44:43.815Z"
   },
   {
    "duration": 5,
    "start_time": "2022-03-07T16:44:43.826Z"
   },
   {
    "duration": 19,
    "start_time": "2022-03-07T16:44:43.833Z"
   },
   {
    "duration": 11,
    "start_time": "2022-03-07T16:44:43.854Z"
   },
   {
    "duration": 43,
    "start_time": "2022-03-07T16:44:43.866Z"
   },
   {
    "duration": 13,
    "start_time": "2022-03-07T16:44:43.911Z"
   },
   {
    "duration": 7,
    "start_time": "2022-03-07T16:44:43.926Z"
   },
   {
    "duration": 9,
    "start_time": "2022-03-07T16:44:43.935Z"
   },
   {
    "duration": 14,
    "start_time": "2022-03-07T16:44:43.945Z"
   },
   {
    "duration": 46,
    "start_time": "2022-03-07T16:44:43.960Z"
   },
   {
    "duration": 9,
    "start_time": "2022-03-07T16:44:44.008Z"
   },
   {
    "duration": 11,
    "start_time": "2022-03-07T16:44:44.019Z"
   },
   {
    "duration": 15,
    "start_time": "2022-03-07T16:44:44.032Z"
   },
   {
    "duration": 27,
    "start_time": "2022-03-07T16:44:44.049Z"
   },
   {
    "duration": 342,
    "start_time": "2022-03-07T16:45:00.725Z"
   },
   {
    "duration": 305,
    "start_time": "2022-03-07T16:48:02.666Z"
   },
   {
    "duration": 10,
    "start_time": "2022-03-07T16:48:10.641Z"
   },
   {
    "duration": 13,
    "start_time": "2022-03-07T16:48:12.625Z"
   },
   {
    "duration": 4,
    "start_time": "2022-03-07T16:48:13.240Z"
   },
   {
    "duration": 474,
    "start_time": "2022-03-07T16:48:22.163Z"
   },
   {
    "duration": 1078,
    "start_time": "2022-03-07T18:00:43.712Z"
   },
   {
    "duration": 37,
    "start_time": "2022-03-07T18:00:44.792Z"
   },
   {
    "duration": 13,
    "start_time": "2022-03-07T18:00:44.831Z"
   },
   {
    "duration": 31,
    "start_time": "2022-03-07T18:00:44.846Z"
   },
   {
    "duration": 10,
    "start_time": "2022-03-07T18:00:44.878Z"
   },
   {
    "duration": 7,
    "start_time": "2022-03-07T18:00:44.905Z"
   },
   {
    "duration": 20,
    "start_time": "2022-03-07T18:00:44.913Z"
   },
   {
    "duration": 10,
    "start_time": "2022-03-07T18:00:44.935Z"
   },
   {
    "duration": 4,
    "start_time": "2022-03-07T18:00:44.947Z"
   },
   {
    "duration": 131,
    "start_time": "2022-03-07T18:00:44.952Z"
   },
   {
    "duration": 10,
    "start_time": "2022-03-07T18:00:45.085Z"
   },
   {
    "duration": 13,
    "start_time": "2022-03-07T18:00:45.096Z"
   },
   {
    "duration": 5,
    "start_time": "2022-03-07T18:00:45.110Z"
   },
   {
    "duration": 18,
    "start_time": "2022-03-07T18:00:45.116Z"
   },
   {
    "duration": 9,
    "start_time": "2022-03-07T18:00:45.135Z"
   },
   {
    "duration": 10,
    "start_time": "2022-03-07T18:00:45.145Z"
   },
   {
    "duration": 12,
    "start_time": "2022-03-07T18:00:45.156Z"
   },
   {
    "duration": 39,
    "start_time": "2022-03-07T18:00:45.169Z"
   },
   {
    "duration": 7,
    "start_time": "2022-03-07T18:00:45.209Z"
   },
   {
    "duration": 13,
    "start_time": "2022-03-07T18:00:45.218Z"
   },
   {
    "duration": 12,
    "start_time": "2022-03-07T18:00:45.232Z"
   },
   {
    "duration": 5,
    "start_time": "2022-03-07T18:00:45.245Z"
   },
   {
    "duration": 11,
    "start_time": "2022-03-07T18:00:45.251Z"
   },
   {
    "duration": 46,
    "start_time": "2022-03-07T18:00:45.263Z"
   },
   {
    "duration": 24,
    "start_time": "2022-03-07T18:00:45.310Z"
   },
   {
    "duration": 308,
    "start_time": "2022-03-07T18:00:45.335Z"
   },
   {
    "duration": 11,
    "start_time": "2022-03-07T18:00:45.646Z"
   },
   {
    "duration": 13,
    "start_time": "2022-03-07T18:00:45.658Z"
   },
   {
    "duration": 4,
    "start_time": "2022-03-07T18:00:45.672Z"
   },
   {
    "duration": 387,
    "start_time": "2022-03-07T18:00:45.705Z"
   },
   {
    "duration": 468,
    "start_time": "2022-03-07T18:01:33.758Z"
   },
   {
    "duration": 586,
    "start_time": "2022-03-07T18:02:30.314Z"
   },
   {
    "duration": 569,
    "start_time": "2022-03-07T18:03:34.785Z"
   },
   {
    "duration": 493,
    "start_time": "2022-03-07T18:03:51.832Z"
   },
   {
    "duration": 387,
    "start_time": "2022-03-07T18:04:34.524Z"
   },
   {
    "duration": 697,
    "start_time": "2022-03-07T18:05:31.618Z"
   },
   {
    "duration": 387,
    "start_time": "2022-03-07T18:06:14.871Z"
   },
   {
    "duration": 289,
    "start_time": "2022-03-07T18:26:21.438Z"
   },
   {
    "duration": 1325,
    "start_time": "2022-03-07T18:36:19.702Z"
   },
   {
    "duration": 675,
    "start_time": "2022-03-07T18:37:22.218Z"
   },
   {
    "duration": 568,
    "start_time": "2022-03-07T18:37:38.698Z"
   },
   {
    "duration": 571,
    "start_time": "2022-03-07T18:37:48.386Z"
   },
   {
    "duration": 392,
    "start_time": "2022-03-07T18:38:02.686Z"
   },
   {
    "duration": 598,
    "start_time": "2022-03-07T18:38:51.371Z"
   },
   {
    "duration": 298,
    "start_time": "2022-03-07T18:39:32.636Z"
   },
   {
    "duration": 370,
    "start_time": "2022-03-07T18:40:14.592Z"
   },
   {
    "duration": 802,
    "start_time": "2022-03-07T18:40:44.370Z"
   },
   {
    "duration": 308,
    "start_time": "2022-03-07T18:41:32.820Z"
   },
   {
    "duration": 375,
    "start_time": "2022-03-07T18:43:04.199Z"
   },
   {
    "duration": 302,
    "start_time": "2022-03-07T18:43:10.357Z"
   },
   {
    "duration": 495,
    "start_time": "2022-03-07T18:43:58.410Z"
   },
   {
    "duration": 757,
    "start_time": "2022-03-07T18:44:27.333Z"
   },
   {
    "duration": 296,
    "start_time": "2022-03-07T18:44:45.951Z"
   },
   {
    "duration": 598,
    "start_time": "2022-03-07T18:44:57.772Z"
   },
   {
    "duration": 603,
    "start_time": "2022-03-07T18:45:21.299Z"
   },
   {
    "duration": 109,
    "start_time": "2022-03-07T18:45:36.835Z"
   },
   {
    "duration": 713,
    "start_time": "2022-03-07T18:45:57.254Z"
   },
   {
    "duration": 591,
    "start_time": "2022-03-07T18:46:46.977Z"
   },
   {
    "duration": 4,
    "start_time": "2022-03-07T18:47:31.375Z"
   },
   {
    "duration": 593,
    "start_time": "2022-03-07T18:49:28.136Z"
   },
   {
    "duration": 348,
    "start_time": "2022-03-07T18:49:43.438Z"
   },
   {
    "duration": 10,
    "start_time": "2022-03-07T18:49:50.397Z"
   },
   {
    "duration": 12,
    "start_time": "2022-03-07T18:49:52.164Z"
   },
   {
    "duration": 4,
    "start_time": "2022-03-07T18:49:52.571Z"
   },
   {
    "duration": 400,
    "start_time": "2022-03-07T18:49:53.796Z"
   },
   {
    "duration": 403,
    "start_time": "2022-03-07T18:50:19.323Z"
   },
   {
    "duration": 763,
    "start_time": "2022-03-07T18:53:17.680Z"
   },
   {
    "duration": 605,
    "start_time": "2022-03-07T18:53:29.738Z"
   },
   {
    "duration": 701,
    "start_time": "2022-03-07T18:53:56.004Z"
   },
   {
    "duration": 400,
    "start_time": "2022-03-07T18:54:06.068Z"
   },
   {
    "duration": 688,
    "start_time": "2022-03-07T19:14:15.743Z"
   },
   {
    "duration": 369,
    "start_time": "2022-03-07T19:46:03.477Z"
   },
   {
    "duration": 267,
    "start_time": "2022-03-07T19:46:43.012Z"
   },
   {
    "duration": 327,
    "start_time": "2022-03-07T19:46:55.117Z"
   },
   {
    "duration": 326,
    "start_time": "2022-03-07T19:46:59.834Z"
   },
   {
    "duration": 403,
    "start_time": "2022-03-07T19:47:10.231Z"
   },
   {
    "duration": 342,
    "start_time": "2022-03-07T19:47:21.352Z"
   },
   {
    "duration": 335,
    "start_time": "2022-03-07T19:47:24.856Z"
   },
   {
    "duration": 326,
    "start_time": "2022-03-07T19:47:30.203Z"
   },
   {
    "duration": 336,
    "start_time": "2022-03-07T19:47:33.164Z"
   },
   {
    "duration": 686,
    "start_time": "2022-03-07T19:48:51.521Z"
   },
   {
    "duration": 594,
    "start_time": "2022-03-07T20:13:01.031Z"
   },
   {
    "duration": 633,
    "start_time": "2022-03-07T20:16:11.446Z"
   },
   {
    "duration": 1046,
    "start_time": "2022-03-07T21:07:51.939Z"
   },
   {
    "duration": 35,
    "start_time": "2022-03-07T21:07:52.987Z"
   },
   {
    "duration": 13,
    "start_time": "2022-03-07T21:07:53.024Z"
   },
   {
    "duration": 35,
    "start_time": "2022-03-07T21:07:53.038Z"
   },
   {
    "duration": 13,
    "start_time": "2022-03-07T21:07:53.074Z"
   },
   {
    "duration": 6,
    "start_time": "2022-03-07T21:07:53.106Z"
   },
   {
    "duration": 24,
    "start_time": "2022-03-07T21:07:53.114Z"
   },
   {
    "duration": 10,
    "start_time": "2022-03-07T21:07:53.140Z"
   },
   {
    "duration": 4,
    "start_time": "2022-03-07T21:07:53.151Z"
   },
   {
    "duration": 122,
    "start_time": "2022-03-07T21:07:53.157Z"
   },
   {
    "duration": 10,
    "start_time": "2022-03-07T21:07:53.280Z"
   },
   {
    "duration": 17,
    "start_time": "2022-03-07T21:07:53.292Z"
   },
   {
    "duration": 4,
    "start_time": "2022-03-07T21:07:53.310Z"
   },
   {
    "duration": 17,
    "start_time": "2022-03-07T21:07:53.316Z"
   },
   {
    "duration": 14,
    "start_time": "2022-03-07T21:07:53.335Z"
   },
   {
    "duration": 12,
    "start_time": "2022-03-07T21:07:53.351Z"
   },
   {
    "duration": 42,
    "start_time": "2022-03-07T21:07:53.364Z"
   },
   {
    "duration": 7,
    "start_time": "2022-03-07T21:07:53.408Z"
   },
   {
    "duration": 8,
    "start_time": "2022-03-07T21:07:53.416Z"
   },
   {
    "duration": 13,
    "start_time": "2022-03-07T21:07:53.426Z"
   },
   {
    "duration": 13,
    "start_time": "2022-03-07T21:07:53.441Z"
   },
   {
    "duration": 6,
    "start_time": "2022-03-07T21:07:53.455Z"
   },
   {
    "duration": 10,
    "start_time": "2022-03-07T21:07:53.505Z"
   },
   {
    "duration": 17,
    "start_time": "2022-03-07T21:07:53.517Z"
   },
   {
    "duration": 27,
    "start_time": "2022-03-07T21:07:53.536Z"
   },
   {
    "duration": 324,
    "start_time": "2022-03-07T21:07:53.565Z"
   },
   {
    "duration": 20,
    "start_time": "2022-03-07T21:07:53.891Z"
   },
   {
    "duration": 11,
    "start_time": "2022-03-07T21:07:53.912Z"
   },
   {
    "duration": 3,
    "start_time": "2022-03-07T21:07:53.925Z"
   },
   {
    "duration": 409,
    "start_time": "2022-03-07T21:07:53.930Z"
   },
   {
    "duration": 747,
    "start_time": "2022-03-07T21:07:54.341Z"
   },
   {
    "duration": 1374,
    "start_time": "2022-03-08T11:57:38.465Z"
   },
   {
    "duration": 41,
    "start_time": "2022-03-08T11:57:39.841Z"
   },
   {
    "duration": 21,
    "start_time": "2022-03-08T11:57:39.885Z"
   },
   {
    "duration": 72,
    "start_time": "2022-03-08T11:57:39.909Z"
   },
   {
    "duration": 15,
    "start_time": "2022-03-08T11:57:39.983Z"
   },
   {
    "duration": 13,
    "start_time": "2022-03-08T11:57:40.000Z"
   },
   {
    "duration": 63,
    "start_time": "2022-03-08T11:57:40.016Z"
   },
   {
    "duration": 15,
    "start_time": "2022-03-08T11:57:40.083Z"
   },
   {
    "duration": 5,
    "start_time": "2022-03-08T11:57:40.102Z"
   },
   {
    "duration": 203,
    "start_time": "2022-03-08T11:57:40.109Z"
   },
   {
    "duration": 26,
    "start_time": "2022-03-08T11:57:40.314Z"
   },
   {
    "duration": 21,
    "start_time": "2022-03-08T11:57:40.342Z"
   },
   {
    "duration": 6,
    "start_time": "2022-03-08T11:57:40.365Z"
   },
   {
    "duration": 28,
    "start_time": "2022-03-08T11:57:40.374Z"
   },
   {
    "duration": 48,
    "start_time": "2022-03-08T11:57:40.404Z"
   },
   {
    "duration": 16,
    "start_time": "2022-03-08T11:57:40.455Z"
   },
   {
    "duration": 22,
    "start_time": "2022-03-08T11:57:40.473Z"
   },
   {
    "duration": 10,
    "start_time": "2022-03-08T11:57:40.498Z"
   },
   {
    "duration": 14,
    "start_time": "2022-03-08T11:57:40.552Z"
   },
   {
    "duration": 22,
    "start_time": "2022-03-08T11:57:40.568Z"
   },
   {
    "duration": 22,
    "start_time": "2022-03-08T11:57:40.592Z"
   },
   {
    "duration": 40,
    "start_time": "2022-03-08T11:57:40.616Z"
   },
   {
    "duration": 19,
    "start_time": "2022-03-08T11:57:40.660Z"
   },
   {
    "duration": 31,
    "start_time": "2022-03-08T11:57:40.682Z"
   },
   {
    "duration": 67,
    "start_time": "2022-03-08T11:57:40.715Z"
   },
   {
    "duration": 560,
    "start_time": "2022-03-08T11:57:40.784Z"
   },
   {
    "duration": 16,
    "start_time": "2022-03-08T11:57:41.347Z"
   },
   {
    "duration": 18,
    "start_time": "2022-03-08T11:57:41.366Z"
   },
   {
    "duration": 5,
    "start_time": "2022-03-08T11:57:41.386Z"
   },
   {
    "duration": 780,
    "start_time": "2022-03-08T11:57:41.393Z"
   },
   {
    "duration": 1119,
    "start_time": "2022-03-08T11:57:42.175Z"
   },
   {
    "duration": 19,
    "start_time": "2022-03-08T13:16:36.079Z"
   },
   {
    "duration": 18,
    "start_time": "2022-03-08T13:18:36.220Z"
   },
   {
    "duration": 14,
    "start_time": "2022-03-08T13:18:52.624Z"
   },
   {
    "duration": 18,
    "start_time": "2022-03-08T13:19:07.862Z"
   },
   {
    "duration": 12,
    "start_time": "2022-03-08T13:20:02.668Z"
   },
   {
    "duration": 2331,
    "start_time": "2022-03-08T13:23:30.027Z"
   },
   {
    "duration": 119,
    "start_time": "2022-03-08T13:49:09.276Z"
   },
   {
    "duration": 391,
    "start_time": "2022-03-08T13:49:25.221Z"
   },
   {
    "duration": 367,
    "start_time": "2022-03-08T13:49:28.942Z"
   },
   {
    "duration": 374,
    "start_time": "2022-03-08T13:49:57.825Z"
   },
   {
    "duration": 373,
    "start_time": "2022-03-08T13:53:01.258Z"
   },
   {
    "duration": 655,
    "start_time": "2022-03-08T13:53:23.239Z"
   },
   {
    "duration": 482,
    "start_time": "2022-03-08T13:53:45.397Z"
   },
   {
    "duration": 551,
    "start_time": "2022-03-08T13:54:04.608Z"
   },
   {
    "duration": 410,
    "start_time": "2022-03-08T13:54:14.633Z"
   },
   {
    "duration": 406,
    "start_time": "2022-03-08T13:54:33.808Z"
   },
   {
    "duration": 1641,
    "start_time": "2022-03-09T19:15:37.840Z"
   },
   {
    "duration": 53,
    "start_time": "2022-03-09T19:15:39.487Z"
   },
   {
    "duration": 24,
    "start_time": "2022-03-09T19:15:39.543Z"
   },
   {
    "duration": 77,
    "start_time": "2022-03-09T19:15:39.570Z"
   },
   {
    "duration": 15,
    "start_time": "2022-03-09T19:15:39.650Z"
   },
   {
    "duration": 37,
    "start_time": "2022-03-09T19:15:39.667Z"
   },
   {
    "duration": 50,
    "start_time": "2022-03-09T19:15:39.707Z"
   },
   {
    "duration": 38,
    "start_time": "2022-03-09T19:15:39.761Z"
   },
   {
    "duration": 12,
    "start_time": "2022-03-09T19:15:39.807Z"
   },
   {
    "duration": 203,
    "start_time": "2022-03-09T19:15:39.822Z"
   },
   {
    "duration": 19,
    "start_time": "2022-03-09T19:15:40.027Z"
   },
   {
    "duration": 37,
    "start_time": "2022-03-09T19:15:40.049Z"
   },
   {
    "duration": 8,
    "start_time": "2022-03-09T19:15:40.096Z"
   },
   {
    "duration": 34,
    "start_time": "2022-03-09T19:15:40.106Z"
   },
   {
    "duration": 15,
    "start_time": "2022-03-09T19:15:40.143Z"
   },
   {
    "duration": 41,
    "start_time": "2022-03-09T19:15:40.160Z"
   },
   {
    "duration": 23,
    "start_time": "2022-03-09T19:15:40.204Z"
   },
   {
    "duration": 11,
    "start_time": "2022-03-09T19:15:40.231Z"
   },
   {
    "duration": 57,
    "start_time": "2022-03-09T19:15:40.244Z"
   },
   {
    "duration": 30,
    "start_time": "2022-03-09T19:15:40.304Z"
   },
   {
    "duration": 50,
    "start_time": "2022-03-09T19:15:40.337Z"
   },
   {
    "duration": 11,
    "start_time": "2022-03-09T19:15:40.390Z"
   },
   {
    "duration": 30,
    "start_time": "2022-03-09T19:15:40.408Z"
   },
   {
    "duration": 59,
    "start_time": "2022-03-09T19:15:40.441Z"
   },
   {
    "duration": 47,
    "start_time": "2022-03-09T19:15:40.502Z"
   },
   {
    "duration": 804,
    "start_time": "2022-03-09T19:15:40.552Z"
   },
   {
    "duration": 35,
    "start_time": "2022-03-09T19:15:41.358Z"
   },
   {
    "duration": 27,
    "start_time": "2022-03-09T19:15:41.402Z"
   },
   {
    "duration": 5,
    "start_time": "2022-03-09T19:15:41.432Z"
   },
   {
    "duration": 829,
    "start_time": "2022-03-09T19:15:41.440Z"
   },
   {
    "duration": 1285,
    "start_time": "2022-03-09T19:15:42.271Z"
   },
   {
    "duration": 34,
    "start_time": "2022-03-09T19:15:43.559Z"
   },
   {
    "duration": 18,
    "start_time": "2022-03-09T19:15:43.596Z"
   },
   {
    "duration": 642,
    "start_time": "2022-03-09T19:15:46.794Z"
   },
   {
    "duration": 455,
    "start_time": "2022-03-09T19:15:53.433Z"
   },
   {
    "duration": 518,
    "start_time": "2022-03-09T19:16:13.759Z"
   },
   {
    "duration": 502,
    "start_time": "2022-03-09T19:16:32.752Z"
   },
   {
    "duration": 461,
    "start_time": "2022-03-09T19:16:39.001Z"
   },
   {
    "duration": 1443,
    "start_time": "2022-03-10T20:16:11.829Z"
   },
   {
    "duration": 43,
    "start_time": "2022-03-10T20:16:13.275Z"
   },
   {
    "duration": 24,
    "start_time": "2022-03-10T20:16:13.321Z"
   },
   {
    "duration": 78,
    "start_time": "2022-03-10T20:16:13.348Z"
   },
   {
    "duration": 18,
    "start_time": "2022-03-10T20:16:13.429Z"
   },
   {
    "duration": 40,
    "start_time": "2022-03-10T20:16:13.449Z"
   },
   {
    "duration": 34,
    "start_time": "2022-03-10T20:16:13.491Z"
   },
   {
    "duration": 17,
    "start_time": "2022-03-10T20:16:13.529Z"
   },
   {
    "duration": 8,
    "start_time": "2022-03-10T20:16:13.549Z"
   },
   {
    "duration": 246,
    "start_time": "2022-03-10T20:16:13.559Z"
   },
   {
    "duration": 17,
    "start_time": "2022-03-10T20:16:13.808Z"
   },
   {
    "duration": 15,
    "start_time": "2022-03-10T20:16:13.827Z"
   },
   {
    "duration": 7,
    "start_time": "2022-03-10T20:16:13.845Z"
   },
   {
    "duration": 38,
    "start_time": "2022-03-10T20:16:13.854Z"
   },
   {
    "duration": 22,
    "start_time": "2022-03-10T20:16:13.894Z"
   },
   {
    "duration": 14,
    "start_time": "2022-03-10T20:16:13.918Z"
   },
   {
    "duration": 21,
    "start_time": "2022-03-10T20:16:13.934Z"
   },
   {
    "duration": 10,
    "start_time": "2022-03-10T20:16:13.957Z"
   },
   {
    "duration": 27,
    "start_time": "2022-03-10T20:16:13.969Z"
   },
   {
    "duration": 21,
    "start_time": "2022-03-10T20:16:13.999Z"
   },
   {
    "duration": 24,
    "start_time": "2022-03-10T20:16:14.023Z"
   },
   {
    "duration": 8,
    "start_time": "2022-03-10T20:16:14.049Z"
   },
   {
    "duration": 28,
    "start_time": "2022-03-10T20:16:14.063Z"
   },
   {
    "duration": 23,
    "start_time": "2022-03-10T20:16:14.093Z"
   },
   {
    "duration": 45,
    "start_time": "2022-03-10T20:16:14.118Z"
   },
   {
    "duration": 687,
    "start_time": "2022-03-10T20:16:14.165Z"
   },
   {
    "duration": 19,
    "start_time": "2022-03-10T20:16:14.855Z"
   },
   {
    "duration": 32,
    "start_time": "2022-03-10T20:16:14.876Z"
   },
   {
    "duration": 7,
    "start_time": "2022-03-10T20:16:14.910Z"
   },
   {
    "duration": 995,
    "start_time": "2022-03-10T20:16:14.919Z"
   },
   {
    "duration": 1235,
    "start_time": "2022-03-10T20:16:15.917Z"
   },
   {
    "duration": 18,
    "start_time": "2022-03-10T20:16:17.154Z"
   },
   {
    "duration": 11,
    "start_time": "2022-03-10T20:16:17.187Z"
   },
   {
    "duration": 476,
    "start_time": "2022-03-10T20:16:17.201Z"
   },
   {
    "duration": 488,
    "start_time": "2022-03-10T20:16:17.688Z"
   },
   {
    "duration": 21,
    "start_time": "2022-03-10T20:16:18.186Z"
   },
   {
    "duration": 46,
    "start_time": "2022-03-10T20:22:12.778Z"
   },
   {
    "duration": 848,
    "start_time": "2022-03-10T20:26:37.131Z"
   },
   {
    "duration": 878,
    "start_time": "2022-03-10T20:27:14.388Z"
   },
   {
    "duration": 1000,
    "start_time": "2022-03-10T20:27:25.183Z"
   },
   {
    "duration": 359,
    "start_time": "2022-03-12T09:42:29.767Z"
   },
   {
    "duration": 1472,
    "start_time": "2022-03-12T09:42:34.993Z"
   },
   {
    "duration": 43,
    "start_time": "2022-03-12T09:42:36.468Z"
   },
   {
    "duration": 24,
    "start_time": "2022-03-12T09:42:36.514Z"
   },
   {
    "duration": 70,
    "start_time": "2022-03-12T09:42:36.541Z"
   },
   {
    "duration": 16,
    "start_time": "2022-03-12T09:42:36.613Z"
   },
   {
    "duration": 10,
    "start_time": "2022-03-12T09:42:36.632Z"
   },
   {
    "duration": 34,
    "start_time": "2022-03-12T09:42:36.674Z"
   },
   {
    "duration": 17,
    "start_time": "2022-03-12T09:42:36.711Z"
   },
   {
    "duration": 42,
    "start_time": "2022-03-12T09:42:36.731Z"
   },
   {
    "duration": 219,
    "start_time": "2022-03-12T09:42:36.777Z"
   },
   {
    "duration": 18,
    "start_time": "2022-03-12T09:42:36.998Z"
   },
   {
    "duration": 14,
    "start_time": "2022-03-12T09:42:37.019Z"
   },
   {
    "duration": 7,
    "start_time": "2022-03-12T09:42:37.036Z"
   },
   {
    "duration": 44,
    "start_time": "2022-03-12T09:42:37.045Z"
   },
   {
    "duration": 16,
    "start_time": "2022-03-12T09:42:37.091Z"
   },
   {
    "duration": 13,
    "start_time": "2022-03-12T09:42:37.110Z"
   },
   {
    "duration": 21,
    "start_time": "2022-03-12T09:42:37.125Z"
   },
   {
    "duration": 10,
    "start_time": "2022-03-12T09:42:37.148Z"
   },
   {
    "duration": 26,
    "start_time": "2022-03-12T09:42:37.174Z"
   },
   {
    "duration": 28,
    "start_time": "2022-03-12T09:42:37.203Z"
   },
   {
    "duration": 22,
    "start_time": "2022-03-12T09:42:37.234Z"
   },
   {
    "duration": 9,
    "start_time": "2022-03-12T09:42:37.258Z"
   },
   {
    "duration": 17,
    "start_time": "2022-03-12T09:42:37.272Z"
   },
   {
    "duration": 24,
    "start_time": "2022-03-12T09:42:37.292Z"
   },
   {
    "duration": 55,
    "start_time": "2022-03-12T09:42:37.318Z"
   },
   {
    "duration": 608,
    "start_time": "2022-03-12T09:42:37.375Z"
   },
   {
    "duration": 17,
    "start_time": "2022-03-12T09:42:37.986Z"
   },
   {
    "duration": 73,
    "start_time": "2022-03-12T09:42:38.005Z"
   },
   {
    "duration": 7,
    "start_time": "2022-03-12T09:42:38.081Z"
   },
   {
    "duration": 1106,
    "start_time": "2022-03-12T09:42:38.090Z"
   },
   {
    "duration": 1191,
    "start_time": "2022-03-12T09:42:39.199Z"
   },
   {
    "duration": 19,
    "start_time": "2022-03-12T09:42:40.392Z"
   },
   {
    "duration": 11,
    "start_time": "2022-03-12T09:42:40.414Z"
   },
   {
    "duration": 510,
    "start_time": "2022-03-12T09:42:40.427Z"
   },
   {
    "duration": 501,
    "start_time": "2022-03-12T09:42:40.939Z"
   },
   {
    "duration": 48,
    "start_time": "2022-03-12T09:42:41.443Z"
   },
   {
    "duration": 825,
    "start_time": "2022-03-12T09:42:41.493Z"
   },
   {
    "duration": 20,
    "start_time": "2022-03-12T09:42:42.320Z"
   },
   {
    "duration": 47,
    "start_time": "2022-03-12T09:52:16.414Z"
   },
   {
    "duration": 44,
    "start_time": "2022-03-12T09:52:36.937Z"
   },
   {
    "duration": 46,
    "start_time": "2022-03-12T09:52:44.414Z"
   },
   {
    "duration": 46,
    "start_time": "2022-03-12T09:54:35.974Z"
   },
   {
    "duration": 32,
    "start_time": "2022-03-12T10:30:47.590Z"
   },
   {
    "duration": 35,
    "start_time": "2022-03-12T10:31:00.387Z"
   },
   {
    "duration": 375,
    "start_time": "2022-03-12T10:32:05.414Z"
   },
   {
    "duration": 34,
    "start_time": "2022-03-12T10:33:32.130Z"
   },
   {
    "duration": 39,
    "start_time": "2022-03-12T10:39:03.970Z"
   },
   {
    "duration": 40,
    "start_time": "2022-03-12T10:39:28.190Z"
   },
   {
    "duration": 41,
    "start_time": "2022-03-12T10:39:33.574Z"
   },
   {
    "duration": 20,
    "start_time": "2022-03-12T11:20:53.543Z"
   },
   {
    "duration": 21,
    "start_time": "2022-03-12T11:22:41.609Z"
   },
   {
    "duration": 46,
    "start_time": "2022-03-12T11:23:42.574Z"
   },
   {
    "duration": 47,
    "start_time": "2022-03-12T11:54:01.148Z"
   },
   {
    "duration": 20,
    "start_time": "2022-03-12T15:50:53.988Z"
   },
   {
    "duration": 35,
    "start_time": "2022-03-12T15:52:06.995Z"
   },
   {
    "duration": 34,
    "start_time": "2022-03-12T15:52:17.496Z"
   },
   {
    "duration": 9,
    "start_time": "2022-03-12T15:52:25.895Z"
   },
   {
    "duration": 7,
    "start_time": "2022-03-12T15:53:08.467Z"
   },
   {
    "duration": 40,
    "start_time": "2022-03-12T15:53:15.048Z"
   },
   {
    "duration": 11,
    "start_time": "2022-03-12T15:53:29.375Z"
   },
   {
    "duration": 11,
    "start_time": "2022-03-12T15:53:39.675Z"
   },
   {
    "duration": 294,
    "start_time": "2022-03-12T15:54:59.848Z"
   },
   {
    "duration": 117,
    "start_time": "2022-03-12T15:57:02.057Z"
   },
   {
    "duration": 25,
    "start_time": "2022-03-12T15:57:06.969Z"
   },
   {
    "duration": 36,
    "start_time": "2022-03-12T15:57:15.968Z"
   },
   {
    "duration": 290,
    "start_time": "2022-03-12T15:57:50.548Z"
   },
   {
    "duration": 35,
    "start_time": "2022-03-12T15:59:45.416Z"
   },
   {
    "duration": 34,
    "start_time": "2022-03-12T15:59:58.557Z"
   },
   {
    "duration": 37,
    "start_time": "2022-03-12T16:00:08.245Z"
   },
   {
    "duration": 10,
    "start_time": "2022-03-12T16:01:12.248Z"
   },
   {
    "duration": 10,
    "start_time": "2022-03-12T16:02:05.608Z"
   },
   {
    "duration": 7,
    "start_time": "2022-03-12T16:04:59.716Z"
   },
   {
    "duration": 9,
    "start_time": "2022-03-12T16:05:41.456Z"
   },
   {
    "duration": 331,
    "start_time": "2022-03-12T16:07:27.556Z"
   },
   {
    "duration": 2071,
    "start_time": "2022-03-12T16:08:20.901Z"
   },
   {
    "duration": 66,
    "start_time": "2022-03-12T16:08:22.976Z"
   },
   {
    "duration": 36,
    "start_time": "2022-03-12T16:08:23.045Z"
   },
   {
    "duration": 57,
    "start_time": "2022-03-12T16:08:23.084Z"
   },
   {
    "duration": 50,
    "start_time": "2022-03-12T16:08:23.144Z"
   },
   {
    "duration": 16,
    "start_time": "2022-03-12T16:08:23.197Z"
   },
   {
    "duration": 85,
    "start_time": "2022-03-12T16:08:23.216Z"
   },
   {
    "duration": 20,
    "start_time": "2022-03-12T16:08:23.304Z"
   },
   {
    "duration": 9,
    "start_time": "2022-03-12T16:08:23.328Z"
   },
   {
    "duration": 205,
    "start_time": "2022-03-12T16:08:23.340Z"
   },
   {
    "duration": 25,
    "start_time": "2022-03-12T16:08:23.548Z"
   },
   {
    "duration": 14,
    "start_time": "2022-03-12T16:08:23.576Z"
   },
   {
    "duration": 9,
    "start_time": "2022-03-12T16:08:23.592Z"
   },
   {
    "duration": 73,
    "start_time": "2022-03-12T16:08:23.603Z"
   },
   {
    "duration": 16,
    "start_time": "2022-03-12T16:08:23.679Z"
   },
   {
    "duration": 16,
    "start_time": "2022-03-12T16:08:23.697Z"
   },
   {
    "duration": 21,
    "start_time": "2022-03-12T16:08:23.715Z"
   },
   {
    "duration": 9,
    "start_time": "2022-03-12T16:08:23.773Z"
   },
   {
    "duration": 18,
    "start_time": "2022-03-12T16:08:23.784Z"
   },
   {
    "duration": 22,
    "start_time": "2022-03-12T16:08:23.804Z"
   },
   {
    "duration": 55,
    "start_time": "2022-03-12T16:08:23.828Z"
   },
   {
    "duration": 8,
    "start_time": "2022-03-12T16:08:23.886Z"
   },
   {
    "duration": 30,
    "start_time": "2022-03-12T16:08:23.897Z"
   },
   {
    "duration": 70,
    "start_time": "2022-03-12T16:08:23.930Z"
   },
   {
    "duration": 74,
    "start_time": "2022-03-12T16:08:24.003Z"
   },
   {
    "duration": 663,
    "start_time": "2022-03-12T16:08:24.080Z"
   },
   {
    "duration": 25,
    "start_time": "2022-03-12T16:08:24.748Z"
   },
   {
    "duration": 21,
    "start_time": "2022-03-12T16:08:24.777Z"
   },
   {
    "duration": 6,
    "start_time": "2022-03-12T16:08:24.800Z"
   },
   {
    "duration": 922,
    "start_time": "2022-03-12T16:08:24.809Z"
   },
   {
    "duration": 1251,
    "start_time": "2022-03-12T16:08:25.733Z"
   },
   {
    "duration": 19,
    "start_time": "2022-03-12T16:08:26.986Z"
   },
   {
    "duration": 18,
    "start_time": "2022-03-12T16:08:27.007Z"
   },
   {
    "duration": 541,
    "start_time": "2022-03-12T16:08:27.028Z"
   },
   {
    "duration": 491,
    "start_time": "2022-03-12T16:08:27.574Z"
   },
   {
    "duration": 39,
    "start_time": "2022-03-12T16:08:28.068Z"
   },
   {
    "duration": 893,
    "start_time": "2022-03-12T16:08:28.110Z"
   },
   {
    "duration": 68,
    "start_time": "2022-03-12T16:08:29.005Z"
   },
   {
    "duration": 43,
    "start_time": "2022-03-12T16:08:29.076Z"
   },
   {
    "duration": 21,
    "start_time": "2022-03-12T16:08:29.122Z"
   },
   {
    "duration": 65,
    "start_time": "2022-03-12T16:08:29.175Z"
   },
   {
    "duration": 70,
    "start_time": "2022-03-12T16:08:29.243Z"
   },
   {
    "duration": 21,
    "start_time": "2022-03-12T16:08:29.315Z"
   },
   {
    "duration": 34,
    "start_time": "2022-03-12T16:08:29.339Z"
   },
   {
    "duration": 9,
    "start_time": "2022-03-12T16:08:29.376Z"
   },
   {
    "duration": 11,
    "start_time": "2022-03-12T16:08:29.388Z"
   },
   {
    "duration": 510,
    "start_time": "2022-03-12T16:08:29.402Z"
   },
   {
    "duration": 10,
    "start_time": "2022-03-12T16:08:41.599Z"
   },
   {
    "duration": 9,
    "start_time": "2022-03-12T16:09:37.760Z"
   },
   {
    "duration": 11,
    "start_time": "2022-03-12T16:10:27.636Z"
   },
   {
    "duration": 11,
    "start_time": "2022-03-12T16:10:29.080Z"
   },
   {
    "duration": 9,
    "start_time": "2022-03-12T16:10:42.831Z"
   },
   {
    "duration": 9,
    "start_time": "2022-03-12T16:10:43.319Z"
   },
   {
    "duration": 10,
    "start_time": "2022-03-12T16:10:45.781Z"
   },
   {
    "duration": 20,
    "start_time": "2022-03-12T16:13:04.099Z"
   },
   {
    "duration": 12,
    "start_time": "2022-03-12T16:14:25.500Z"
   },
   {
    "duration": 12,
    "start_time": "2022-03-12T16:15:06.240Z"
   },
   {
    "duration": 11,
    "start_time": "2022-03-12T16:15:22.719Z"
   },
   {
    "duration": 13,
    "start_time": "2022-03-12T16:15:24.020Z"
   },
   {
    "duration": 1816,
    "start_time": "2022-03-12T16:16:59.447Z"
   },
   {
    "duration": 62,
    "start_time": "2022-03-12T16:17:01.266Z"
   },
   {
    "duration": 47,
    "start_time": "2022-03-12T16:17:01.332Z"
   },
   {
    "duration": 57,
    "start_time": "2022-03-12T16:17:01.382Z"
   },
   {
    "duration": 40,
    "start_time": "2022-03-12T16:17:01.442Z"
   },
   {
    "duration": 24,
    "start_time": "2022-03-12T16:17:01.485Z"
   },
   {
    "duration": 78,
    "start_time": "2022-03-12T16:17:01.512Z"
   },
   {
    "duration": 27,
    "start_time": "2022-03-12T16:17:01.596Z"
   },
   {
    "duration": 15,
    "start_time": "2022-03-12T16:17:01.628Z"
   },
   {
    "duration": 231,
    "start_time": "2022-03-12T16:17:01.646Z"
   },
   {
    "duration": 18,
    "start_time": "2022-03-12T16:17:01.880Z"
   },
   {
    "duration": 17,
    "start_time": "2022-03-12T16:17:01.901Z"
   },
   {
    "duration": 22,
    "start_time": "2022-03-12T16:17:01.920Z"
   },
   {
    "duration": 64,
    "start_time": "2022-03-12T16:17:01.945Z"
   },
   {
    "duration": 18,
    "start_time": "2022-03-12T16:17:02.012Z"
   },
   {
    "duration": 47,
    "start_time": "2022-03-12T16:17:02.032Z"
   },
   {
    "duration": 22,
    "start_time": "2022-03-12T16:17:02.082Z"
   },
   {
    "duration": 10,
    "start_time": "2022-03-12T16:17:02.106Z"
   },
   {
    "duration": 57,
    "start_time": "2022-03-12T16:17:02.118Z"
   },
   {
    "duration": 22,
    "start_time": "2022-03-12T16:17:02.178Z"
   },
   {
    "duration": 30,
    "start_time": "2022-03-12T16:17:02.203Z"
   },
   {
    "duration": 45,
    "start_time": "2022-03-12T16:17:02.236Z"
   },
   {
    "duration": 22,
    "start_time": "2022-03-12T16:17:02.289Z"
   },
   {
    "duration": 30,
    "start_time": "2022-03-12T16:17:02.314Z"
   },
   {
    "duration": 51,
    "start_time": "2022-03-12T16:17:02.374Z"
   },
   {
    "duration": 633,
    "start_time": "2022-03-12T16:17:02.428Z"
   },
   {
    "duration": 15,
    "start_time": "2022-03-12T16:17:03.072Z"
   },
   {
    "duration": 20,
    "start_time": "2022-03-12T16:17:03.089Z"
   },
   {
    "duration": 7,
    "start_time": "2022-03-12T16:17:03.111Z"
   },
   {
    "duration": 920,
    "start_time": "2022-03-12T16:17:03.120Z"
   },
   {
    "duration": 1296,
    "start_time": "2022-03-12T16:17:04.043Z"
   },
   {
    "duration": 33,
    "start_time": "2022-03-12T16:17:05.342Z"
   },
   {
    "duration": 13,
    "start_time": "2022-03-12T16:17:05.377Z"
   },
   {
    "duration": 468,
    "start_time": "2022-03-12T16:17:05.392Z"
   },
   {
    "duration": 486,
    "start_time": "2022-03-12T16:17:05.863Z"
   },
   {
    "duration": 58,
    "start_time": "2022-03-12T16:17:06.351Z"
   },
   {
    "duration": 930,
    "start_time": "2022-03-12T16:17:06.411Z"
   },
   {
    "duration": 71,
    "start_time": "2022-03-12T16:17:07.344Z"
   },
   {
    "duration": 74,
    "start_time": "2022-03-12T16:17:07.418Z"
   },
   {
    "duration": 20,
    "start_time": "2022-03-12T16:17:07.495Z"
   },
   {
    "duration": 82,
    "start_time": "2022-03-12T16:17:07.518Z"
   },
   {
    "duration": 44,
    "start_time": "2022-03-12T16:17:07.603Z"
   },
   {
    "duration": 9,
    "start_time": "2022-03-12T16:17:07.675Z"
   },
   {
    "duration": 23,
    "start_time": "2022-03-12T16:17:07.687Z"
   },
   {
    "duration": 11,
    "start_time": "2022-03-12T16:17:10.057Z"
   },
   {
    "duration": 429,
    "start_time": "2022-03-12T16:19:35.539Z"
   },
   {
    "duration": 5,
    "start_time": "2022-03-12T16:19:52.716Z"
   },
   {
    "duration": 55,
    "start_time": "2022-03-12T16:19:52.726Z"
   },
   {
    "duration": 19,
    "start_time": "2022-03-12T16:19:52.785Z"
   },
   {
    "duration": 87,
    "start_time": "2022-03-12T16:19:52.807Z"
   },
   {
    "duration": 16,
    "start_time": "2022-03-12T16:19:52.897Z"
   },
   {
    "duration": 28,
    "start_time": "2022-03-12T16:19:52.915Z"
   },
   {
    "duration": 60,
    "start_time": "2022-03-12T16:19:52.946Z"
   },
   {
    "duration": 20,
    "start_time": "2022-03-12T16:19:53.009Z"
   },
   {
    "duration": 8,
    "start_time": "2022-03-12T16:19:53.035Z"
   },
   {
    "duration": 191,
    "start_time": "2022-03-12T16:19:53.075Z"
   },
   {
    "duration": 19,
    "start_time": "2022-03-12T16:19:53.273Z"
   },
   {
    "duration": 16,
    "start_time": "2022-03-12T16:19:53.294Z"
   },
   {
    "duration": 12,
    "start_time": "2022-03-12T16:19:53.312Z"
   },
   {
    "duration": 60,
    "start_time": "2022-03-12T16:19:53.327Z"
   },
   {
    "duration": 17,
    "start_time": "2022-03-12T16:19:53.389Z"
   },
   {
    "duration": 14,
    "start_time": "2022-03-12T16:19:53.408Z"
   },
   {
    "duration": 58,
    "start_time": "2022-03-12T16:19:53.425Z"
   },
   {
    "duration": 9,
    "start_time": "2022-03-12T16:19:53.486Z"
   },
   {
    "duration": 15,
    "start_time": "2022-03-12T16:19:53.498Z"
   },
   {
    "duration": 22,
    "start_time": "2022-03-12T16:19:53.516Z"
   },
   {
    "duration": 53,
    "start_time": "2022-03-12T16:19:53.541Z"
   },
   {
    "duration": 11,
    "start_time": "2022-03-12T16:19:53.597Z"
   },
   {
    "duration": 18,
    "start_time": "2022-03-12T16:19:53.611Z"
   },
   {
    "duration": 62,
    "start_time": "2022-03-12T16:19:53.632Z"
   },
   {
    "duration": 47,
    "start_time": "2022-03-12T16:19:53.696Z"
   },
   {
    "duration": 612,
    "start_time": "2022-03-12T16:19:53.745Z"
   },
   {
    "duration": 23,
    "start_time": "2022-03-12T16:19:54.363Z"
   },
   {
    "duration": 21,
    "start_time": "2022-03-12T16:19:54.390Z"
   },
   {
    "duration": 6,
    "start_time": "2022-03-12T16:19:54.414Z"
   },
   {
    "duration": 829,
    "start_time": "2022-03-12T16:19:54.423Z"
   },
   {
    "duration": 1225,
    "start_time": "2022-03-12T16:19:55.255Z"
   },
   {
    "duration": 18,
    "start_time": "2022-03-12T16:19:56.482Z"
   },
   {
    "duration": 34,
    "start_time": "2022-03-12T16:19:56.502Z"
   },
   {
    "duration": 475,
    "start_time": "2022-03-12T16:19:56.539Z"
   },
   {
    "duration": 464,
    "start_time": "2022-03-12T16:19:57.016Z"
   },
   {
    "duration": 41,
    "start_time": "2022-03-12T16:19:57.482Z"
   },
   {
    "duration": 858,
    "start_time": "2022-03-12T16:19:57.525Z"
   },
   {
    "duration": 45,
    "start_time": "2022-03-12T16:19:58.386Z"
   },
   {
    "duration": 68,
    "start_time": "2022-03-12T16:19:58.434Z"
   },
   {
    "duration": 21,
    "start_time": "2022-03-12T16:19:58.504Z"
   },
   {
    "duration": 75,
    "start_time": "2022-03-12T16:19:58.528Z"
   },
   {
    "duration": 73,
    "start_time": "2022-03-12T16:19:58.607Z"
   },
   {
    "duration": 9,
    "start_time": "2022-03-12T16:19:58.683Z"
   },
   {
    "duration": 30,
    "start_time": "2022-03-12T16:19:58.695Z"
   },
   {
    "duration": 16,
    "start_time": "2022-03-12T16:19:58.728Z"
   },
   {
    "duration": 41,
    "start_time": "2022-03-12T16:19:58.747Z"
   },
   {
    "duration": 30,
    "start_time": "2022-03-12T16:19:58.791Z"
   },
   {
    "duration": 17,
    "start_time": "2022-03-12T16:19:58.823Z"
   },
   {
    "duration": 11,
    "start_time": "2022-03-12T16:20:00.764Z"
   },
   {
    "duration": 1507,
    "start_time": "2022-03-12T16:44:35.286Z"
   },
   {
    "duration": 47,
    "start_time": "2022-03-12T16:44:36.796Z"
   },
   {
    "duration": 33,
    "start_time": "2022-03-12T16:44:36.846Z"
   },
   {
    "duration": 59,
    "start_time": "2022-03-12T16:44:36.882Z"
   },
   {
    "duration": 40,
    "start_time": "2022-03-12T16:44:36.943Z"
   },
   {
    "duration": 17,
    "start_time": "2022-03-12T16:44:36.986Z"
   },
   {
    "duration": 38,
    "start_time": "2022-03-12T16:44:37.005Z"
   },
   {
    "duration": 18,
    "start_time": "2022-03-12T16:44:37.074Z"
   },
   {
    "duration": 8,
    "start_time": "2022-03-12T16:44:37.096Z"
   },
   {
    "duration": 250,
    "start_time": "2022-03-12T16:44:37.107Z"
   },
   {
    "duration": 18,
    "start_time": "2022-03-12T16:44:37.359Z"
   },
   {
    "duration": 14,
    "start_time": "2022-03-12T16:44:37.379Z"
   },
   {
    "duration": 7,
    "start_time": "2022-03-12T16:44:37.396Z"
   },
   {
    "duration": 41,
    "start_time": "2022-03-12T16:44:37.405Z"
   },
   {
    "duration": 16,
    "start_time": "2022-03-12T16:44:37.448Z"
   },
   {
    "duration": 18,
    "start_time": "2022-03-12T16:44:37.466Z"
   },
   {
    "duration": 21,
    "start_time": "2022-03-12T16:44:37.486Z"
   },
   {
    "duration": 8,
    "start_time": "2022-03-12T16:44:37.509Z"
   },
   {
    "duration": 27,
    "start_time": "2022-03-12T16:44:37.520Z"
   },
   {
    "duration": 23,
    "start_time": "2022-03-12T16:44:37.549Z"
   },
   {
    "duration": 24,
    "start_time": "2022-03-12T16:44:37.574Z"
   },
   {
    "duration": 9,
    "start_time": "2022-03-12T16:44:37.600Z"
   },
   {
    "duration": 19,
    "start_time": "2022-03-12T16:44:37.611Z"
   },
   {
    "duration": 26,
    "start_time": "2022-03-12T16:44:37.633Z"
   },
   {
    "duration": 51,
    "start_time": "2022-03-12T16:44:37.661Z"
   },
   {
    "duration": 660,
    "start_time": "2022-03-12T16:44:37.714Z"
   },
   {
    "duration": 16,
    "start_time": "2022-03-12T16:44:38.381Z"
   },
   {
    "duration": 25,
    "start_time": "2022-03-12T16:44:38.400Z"
   },
   {
    "duration": 7,
    "start_time": "2022-03-12T16:44:38.427Z"
   },
   {
    "duration": 1069,
    "start_time": "2022-03-12T16:44:38.436Z"
   },
   {
    "duration": 1359,
    "start_time": "2022-03-12T16:44:39.507Z"
   },
   {
    "duration": 18,
    "start_time": "2022-03-12T16:44:40.868Z"
   },
   {
    "duration": 17,
    "start_time": "2022-03-12T16:44:40.889Z"
   },
   {
    "duration": 453,
    "start_time": "2022-03-12T16:44:40.909Z"
   },
   {
    "duration": 474,
    "start_time": "2022-03-12T16:44:41.365Z"
   },
   {
    "duration": 52,
    "start_time": "2022-03-12T16:44:41.842Z"
   },
   {
    "duration": 850,
    "start_time": "2022-03-12T16:44:41.896Z"
   },
   {
    "duration": 64,
    "start_time": "2022-03-12T16:44:42.748Z"
   },
   {
    "duration": 66,
    "start_time": "2022-03-12T16:44:42.815Z"
   },
   {
    "duration": 45,
    "start_time": "2022-03-12T16:44:42.884Z"
   },
   {
    "duration": 67,
    "start_time": "2022-03-12T16:44:42.932Z"
   },
   {
    "duration": 9,
    "start_time": "2022-03-12T16:44:43.002Z"
   },
   {
    "duration": 9,
    "start_time": "2022-03-12T16:44:43.014Z"
   },
   {
    "duration": 10,
    "start_time": "2022-03-12T16:44:43.026Z"
   },
   {
    "duration": 20,
    "start_time": "2022-03-12T16:44:43.074Z"
   },
   {
    "duration": 11,
    "start_time": "2022-03-12T16:44:43.097Z"
   },
   {
    "duration": 9,
    "start_time": "2022-03-12T16:44:43.110Z"
   },
   {
    "duration": 11,
    "start_time": "2022-03-12T16:44:43.121Z"
   },
   {
    "duration": 1801,
    "start_time": "2022-03-21T17:34:14.817Z"
   },
   {
    "duration": 55,
    "start_time": "2022-03-21T17:34:16.621Z"
   },
   {
    "duration": 25,
    "start_time": "2022-03-21T17:34:16.678Z"
   },
   {
    "duration": 75,
    "start_time": "2022-03-21T17:34:16.705Z"
   },
   {
    "duration": 14,
    "start_time": "2022-03-21T17:34:16.783Z"
   },
   {
    "duration": 9,
    "start_time": "2022-03-21T17:34:16.799Z"
   },
   {
    "duration": 59,
    "start_time": "2022-03-21T17:34:16.810Z"
   },
   {
    "duration": 11,
    "start_time": "2022-03-21T17:34:16.872Z"
   },
   {
    "duration": 9,
    "start_time": "2022-03-21T17:34:16.886Z"
   },
   {
    "duration": 171,
    "start_time": "2022-03-21T17:34:16.898Z"
   },
   {
    "duration": 14,
    "start_time": "2022-03-21T17:34:17.071Z"
   },
   {
    "duration": 19,
    "start_time": "2022-03-21T17:34:17.087Z"
   },
   {
    "duration": 40,
    "start_time": "2022-03-21T17:34:17.109Z"
   },
   {
    "duration": 30,
    "start_time": "2022-03-21T17:34:17.154Z"
   },
   {
    "duration": 15,
    "start_time": "2022-03-21T17:34:17.187Z"
   },
   {
    "duration": 52,
    "start_time": "2022-03-21T17:34:17.205Z"
   },
   {
    "duration": 22,
    "start_time": "2022-03-21T17:34:17.259Z"
   },
   {
    "duration": 12,
    "start_time": "2022-03-21T17:34:17.284Z"
   },
   {
    "duration": 58,
    "start_time": "2022-03-21T17:34:17.298Z"
   },
   {
    "duration": 22,
    "start_time": "2022-03-21T17:34:17.358Z"
   },
   {
    "duration": 23,
    "start_time": "2022-03-21T17:34:17.383Z"
   },
   {
    "duration": 39,
    "start_time": "2022-03-21T17:34:17.409Z"
   },
   {
    "duration": 20,
    "start_time": "2022-03-21T17:34:17.451Z"
   },
   {
    "duration": 23,
    "start_time": "2022-03-21T17:34:17.473Z"
   },
   {
    "duration": 88,
    "start_time": "2022-03-21T17:34:17.499Z"
   },
   {
    "duration": 499,
    "start_time": "2022-03-21T17:34:17.589Z"
   },
   {
    "duration": 22,
    "start_time": "2022-03-21T17:34:18.090Z"
   },
   {
    "duration": 37,
    "start_time": "2022-03-21T17:34:18.114Z"
   },
   {
    "duration": 8,
    "start_time": "2022-03-21T17:34:18.153Z"
   },
   {
    "duration": 657,
    "start_time": "2022-03-21T17:34:18.163Z"
   },
   {
    "duration": 795,
    "start_time": "2022-03-21T17:34:18.823Z"
   },
   {
    "duration": 27,
    "start_time": "2022-03-21T17:34:19.620Z"
   },
   {
    "duration": 12,
    "start_time": "2022-03-21T17:34:19.649Z"
   },
   {
    "duration": 440,
    "start_time": "2022-03-21T17:34:19.663Z"
   },
   {
    "duration": 240,
    "start_time": "2022-03-21T17:34:20.106Z"
   },
   {
    "duration": 39,
    "start_time": "2022-03-21T17:34:20.348Z"
   },
   {
    "duration": 828,
    "start_time": "2022-03-21T17:34:20.390Z"
   },
   {
    "duration": 57,
    "start_time": "2022-03-21T17:34:21.221Z"
   },
   {
    "duration": 35,
    "start_time": "2022-03-21T17:34:21.280Z"
   },
   {
    "duration": 41,
    "start_time": "2022-03-21T17:34:21.343Z"
   },
   {
    "duration": 63,
    "start_time": "2022-03-21T17:34:21.389Z"
   },
   {
    "duration": 8,
    "start_time": "2022-03-21T17:34:21.454Z"
   },
   {
    "duration": 9,
    "start_time": "2022-03-21T17:34:21.465Z"
   },
   {
    "duration": 9,
    "start_time": "2022-03-21T17:34:21.476Z"
   },
   {
    "duration": 65,
    "start_time": "2022-03-21T17:34:21.488Z"
   },
   {
    "duration": 11,
    "start_time": "2022-03-21T17:34:21.555Z"
   },
   {
    "duration": 10,
    "start_time": "2022-03-21T17:34:21.568Z"
   },
   {
    "duration": 10,
    "start_time": "2022-03-21T17:34:21.580Z"
   },
   {
    "duration": 8,
    "start_time": "2022-03-21T17:34:21.592Z"
   },
   {
    "duration": 34,
    "start_time": "2022-03-21T18:08:57.017Z"
   },
   {
    "duration": 6,
    "start_time": "2022-03-21T18:09:08.275Z"
   },
   {
    "duration": 222,
    "start_time": "2022-03-21T18:15:17.698Z"
   },
   {
    "duration": 213,
    "start_time": "2022-03-21T18:17:15.710Z"
   },
   {
    "duration": 27,
    "start_time": "2022-03-21T18:24:06.919Z"
   },
   {
    "duration": 8,
    "start_time": "2022-03-21T18:24:13.812Z"
   },
   {
    "duration": 1661,
    "start_time": "2022-03-21T18:25:21.028Z"
   },
   {
    "duration": 59,
    "start_time": "2022-03-21T18:25:22.692Z"
   },
   {
    "duration": 28,
    "start_time": "2022-03-21T18:25:22.753Z"
   },
   {
    "duration": 81,
    "start_time": "2022-03-21T18:25:22.784Z"
   },
   {
    "duration": 16,
    "start_time": "2022-03-21T18:25:22.868Z"
   },
   {
    "duration": 14,
    "start_time": "2022-03-21T18:25:22.886Z"
   },
   {
    "duration": 63,
    "start_time": "2022-03-21T18:25:22.902Z"
   },
   {
    "duration": 12,
    "start_time": "2022-03-21T18:25:22.967Z"
   },
   {
    "duration": 10,
    "start_time": "2022-03-21T18:25:22.981Z"
   },
   {
    "duration": 161,
    "start_time": "2022-03-21T18:25:22.993Z"
   },
   {
    "duration": 15,
    "start_time": "2022-03-21T18:25:23.157Z"
   },
   {
    "duration": 22,
    "start_time": "2022-03-21T18:25:23.174Z"
   },
   {
    "duration": 7,
    "start_time": "2022-03-21T18:25:23.198Z"
   },
   {
    "duration": 65,
    "start_time": "2022-03-21T18:25:23.209Z"
   },
   {
    "duration": 18,
    "start_time": "2022-03-21T18:25:23.277Z"
   },
   {
    "duration": 54,
    "start_time": "2022-03-21T18:25:23.298Z"
   },
   {
    "duration": 24,
    "start_time": "2022-03-21T18:25:23.354Z"
   },
   {
    "duration": 10,
    "start_time": "2022-03-21T18:25:23.380Z"
   },
   {
    "duration": 50,
    "start_time": "2022-03-21T18:25:23.393Z"
   },
   {
    "duration": 26,
    "start_time": "2022-03-21T18:25:23.445Z"
   },
   {
    "duration": 27,
    "start_time": "2022-03-21T18:25:23.473Z"
   },
   {
    "duration": 10,
    "start_time": "2022-03-21T18:25:23.503Z"
   },
   {
    "duration": 18,
    "start_time": "2022-03-21T18:25:23.542Z"
   },
   {
    "duration": 31,
    "start_time": "2022-03-21T18:25:23.562Z"
   },
   {
    "duration": 78,
    "start_time": "2022-03-21T18:25:23.597Z"
   },
   {
    "duration": 517,
    "start_time": "2022-03-21T18:25:23.678Z"
   },
   {
    "duration": 29,
    "start_time": "2022-03-21T18:25:24.198Z"
   },
   {
    "duration": 28,
    "start_time": "2022-03-21T18:25:24.230Z"
   },
   {
    "duration": 7,
    "start_time": "2022-03-21T18:25:24.261Z"
   },
   {
    "duration": 699,
    "start_time": "2022-03-21T18:25:24.271Z"
   },
   {
    "duration": 798,
    "start_time": "2022-03-21T18:25:24.972Z"
   },
   {
    "duration": 20,
    "start_time": "2022-03-21T18:25:25.772Z"
   },
   {
    "duration": 9,
    "start_time": "2022-03-21T18:25:25.794Z"
   },
   {
    "duration": 39,
    "start_time": "2022-03-21T18:25:25.805Z"
   },
   {
    "duration": 314,
    "start_time": "2022-03-21T18:25:25.846Z"
   },
   {
    "duration": 268,
    "start_time": "2022-03-21T18:25:26.162Z"
   },
   {
    "duration": 50,
    "start_time": "2022-03-21T18:25:26.432Z"
   },
   {
    "duration": 732,
    "start_time": "2022-03-21T18:25:26.484Z"
   },
   {
    "duration": 59,
    "start_time": "2022-03-21T18:25:27.218Z"
   },
   {
    "duration": 35,
    "start_time": "2022-03-21T18:25:27.280Z"
   },
   {
    "duration": 45,
    "start_time": "2022-03-21T18:25:27.342Z"
   },
   {
    "duration": 67,
    "start_time": "2022-03-21T18:25:27.389Z"
   },
   {
    "duration": 8,
    "start_time": "2022-03-21T18:25:27.459Z"
   },
   {
    "duration": 12,
    "start_time": "2022-03-21T18:25:27.469Z"
   },
   {
    "duration": 9,
    "start_time": "2022-03-21T18:25:27.483Z"
   },
   {
    "duration": 56,
    "start_time": "2022-03-21T18:25:27.494Z"
   },
   {
    "duration": 14,
    "start_time": "2022-03-21T18:25:27.553Z"
   },
   {
    "duration": 11,
    "start_time": "2022-03-21T18:25:27.569Z"
   },
   {
    "duration": 11,
    "start_time": "2022-03-21T18:25:27.582Z"
   },
   {
    "duration": 14,
    "start_time": "2022-03-21T18:25:27.595Z"
   },
   {
    "duration": 32,
    "start_time": "2022-03-21T18:26:23.365Z"
   },
   {
    "duration": 6,
    "start_time": "2022-03-21T18:26:42.829Z"
   },
   {
    "duration": 7,
    "start_time": "2022-03-21T18:26:44.870Z"
   },
   {
    "duration": 8,
    "start_time": "2022-03-21T18:26:45.268Z"
   },
   {
    "duration": 9,
    "start_time": "2022-03-21T18:26:48.200Z"
   },
   {
    "duration": 22,
    "start_time": "2022-03-21T18:26:54.040Z"
   },
   {
    "duration": 8,
    "start_time": "2022-03-21T18:26:55.084Z"
   },
   {
    "duration": 8,
    "start_time": "2022-03-21T18:26:55.442Z"
   },
   {
    "duration": 7,
    "start_time": "2022-03-21T18:26:58.654Z"
   },
   {
    "duration": 1488,
    "start_time": "2022-03-21T19:08:05.494Z"
   },
   {
    "duration": 64,
    "start_time": "2022-03-21T19:08:06.984Z"
   },
   {
    "duration": 27,
    "start_time": "2022-03-21T19:08:07.050Z"
   },
   {
    "duration": 77,
    "start_time": "2022-03-21T19:08:07.079Z"
   },
   {
    "duration": 14,
    "start_time": "2022-03-21T19:08:07.159Z"
   },
   {
    "duration": 17,
    "start_time": "2022-03-21T19:08:07.175Z"
   },
   {
    "duration": 64,
    "start_time": "2022-03-21T19:08:07.195Z"
   },
   {
    "duration": 12,
    "start_time": "2022-03-21T19:08:07.261Z"
   },
   {
    "duration": 7,
    "start_time": "2022-03-21T19:08:07.275Z"
   },
   {
    "duration": 163,
    "start_time": "2022-03-21T19:08:07.284Z"
   },
   {
    "duration": 17,
    "start_time": "2022-03-21T19:08:07.449Z"
   },
   {
    "duration": 22,
    "start_time": "2022-03-21T19:08:07.468Z"
   },
   {
    "duration": 6,
    "start_time": "2022-03-21T19:08:07.492Z"
   },
   {
    "duration": 87,
    "start_time": "2022-03-21T19:08:07.503Z"
   },
   {
    "duration": 17,
    "start_time": "2022-03-21T19:08:07.593Z"
   },
   {
    "duration": 42,
    "start_time": "2022-03-21T19:08:07.613Z"
   },
   {
    "duration": 25,
    "start_time": "2022-03-21T19:08:07.658Z"
   },
   {
    "duration": 9,
    "start_time": "2022-03-21T19:08:07.686Z"
   },
   {
    "duration": 49,
    "start_time": "2022-03-21T19:08:07.697Z"
   },
   {
    "duration": 23,
    "start_time": "2022-03-21T19:08:07.749Z"
   },
   {
    "duration": 24,
    "start_time": "2022-03-21T19:08:07.774Z"
   },
   {
    "duration": 8,
    "start_time": "2022-03-21T19:08:07.800Z"
   },
   {
    "duration": 28,
    "start_time": "2022-03-21T19:08:07.845Z"
   },
   {
    "duration": 25,
    "start_time": "2022-03-21T19:08:07.876Z"
   },
   {
    "duration": 80,
    "start_time": "2022-03-21T19:08:07.903Z"
   },
   {
    "duration": 507,
    "start_time": "2022-03-21T19:08:07.985Z"
   },
   {
    "duration": 23,
    "start_time": "2022-03-21T19:08:08.495Z"
   },
   {
    "duration": 23,
    "start_time": "2022-03-21T19:08:08.520Z"
   },
   {
    "duration": 7,
    "start_time": "2022-03-21T19:08:08.545Z"
   },
   {
    "duration": 654,
    "start_time": "2022-03-21T19:08:08.554Z"
   },
   {
    "duration": 791,
    "start_time": "2022-03-21T19:08:09.211Z"
   },
   {
    "duration": 20,
    "start_time": "2022-03-21T19:08:10.005Z"
   },
   {
    "duration": 7,
    "start_time": "2022-03-21T19:08:10.042Z"
   },
   {
    "duration": 14,
    "start_time": "2022-03-21T19:08:10.052Z"
   },
   {
    "duration": 354,
    "start_time": "2022-03-21T19:08:10.068Z"
   },
   {
    "duration": 248,
    "start_time": "2022-03-21T19:08:10.425Z"
   },
   {
    "duration": 41,
    "start_time": "2022-03-21T19:08:10.675Z"
   },
   {
    "duration": 695,
    "start_time": "2022-03-21T19:08:10.718Z"
   },
   {
    "duration": 61,
    "start_time": "2022-03-21T19:08:11.415Z"
   },
   {
    "duration": 36,
    "start_time": "2022-03-21T19:08:11.479Z"
   },
   {
    "duration": 65,
    "start_time": "2022-03-21T19:08:11.520Z"
   },
   {
    "duration": 68,
    "start_time": "2022-03-21T19:08:11.587Z"
   },
   {
    "duration": 9,
    "start_time": "2022-03-21T19:08:11.658Z"
   },
   {
    "duration": 10,
    "start_time": "2022-03-21T19:08:11.669Z"
   },
   {
    "duration": 9,
    "start_time": "2022-03-21T19:08:11.681Z"
   },
   {
    "duration": 61,
    "start_time": "2022-03-21T19:08:11.693Z"
   },
   {
    "duration": 9,
    "start_time": "2022-03-21T19:08:11.756Z"
   },
   {
    "duration": 9,
    "start_time": "2022-03-21T19:08:11.768Z"
   },
   {
    "duration": 9,
    "start_time": "2022-03-21T19:08:11.779Z"
   },
   {
    "duration": 11,
    "start_time": "2022-03-21T19:08:11.790Z"
   },
   {
    "duration": 1873,
    "start_time": "2022-03-22T19:18:17.894Z"
   },
   {
    "duration": 53,
    "start_time": "2022-03-22T19:18:19.769Z"
   },
   {
    "duration": 25,
    "start_time": "2022-03-22T19:18:19.824Z"
   },
   {
    "duration": 38,
    "start_time": "2022-03-22T19:18:19.862Z"
   },
   {
    "duration": 10,
    "start_time": "2022-03-22T19:18:19.902Z"
   },
   {
    "duration": 6,
    "start_time": "2022-03-22T19:18:22.600Z"
   },
   {
    "duration": 23,
    "start_time": "2022-03-22T19:20:16.392Z"
   },
   {
    "duration": 8,
    "start_time": "2022-03-22T19:23:39.113Z"
   },
   {
    "duration": 6,
    "start_time": "2022-03-22T19:23:39.961Z"
   },
   {
    "duration": 87,
    "start_time": "2022-03-22T19:23:40.841Z"
   },
   {
    "duration": 11,
    "start_time": "2022-03-22T19:23:43.802Z"
   },
   {
    "duration": 16,
    "start_time": "2022-03-22T19:23:44.421Z"
   },
   {
    "duration": 7,
    "start_time": "2022-03-22T19:23:47.501Z"
   },
   {
    "duration": 20,
    "start_time": "2022-03-22T19:23:48.281Z"
   },
   {
    "duration": 12,
    "start_time": "2022-03-22T19:23:51.801Z"
   },
   {
    "duration": 14,
    "start_time": "2022-03-22T19:23:54.801Z"
   },
   {
    "duration": 15,
    "start_time": "2022-03-22T19:23:55.741Z"
   },
   {
    "duration": 6,
    "start_time": "2022-03-22T19:23:58.793Z"
   },
   {
    "duration": 11,
    "start_time": "2022-03-22T19:23:59.320Z"
   },
   {
    "duration": 20,
    "start_time": "2022-03-22T19:24:46.353Z"
   },
   {
    "duration": 19,
    "start_time": "2022-03-22T19:25:27.733Z"
   },
   {
    "duration": 6,
    "start_time": "2022-03-22T19:26:33.243Z"
   },
   {
    "duration": 12,
    "start_time": "2022-03-22T19:26:35.009Z"
   },
   {
    "duration": 16,
    "start_time": "2022-03-22T19:26:42.221Z"
   },
   {
    "duration": 43,
    "start_time": "2022-03-22T19:27:23.601Z"
   },
   {
    "duration": 51,
    "start_time": "2022-03-22T19:27:58.501Z"
   },
   {
    "duration": 51,
    "start_time": "2022-03-22T19:28:04.561Z"
   },
   {
    "duration": 14,
    "start_time": "2022-03-22T19:33:47.501Z"
   },
   {
    "duration": 3,
    "start_time": "2022-03-22T19:33:51.462Z"
   },
   {
    "duration": 37,
    "start_time": "2022-03-22T19:33:51.468Z"
   },
   {
    "duration": 13,
    "start_time": "2022-03-22T19:33:51.507Z"
   },
   {
    "duration": 55,
    "start_time": "2022-03-22T19:33:51.521Z"
   },
   {
    "duration": 11,
    "start_time": "2022-03-22T19:33:51.578Z"
   },
   {
    "duration": 9,
    "start_time": "2022-03-22T19:33:51.591Z"
   },
   {
    "duration": 26,
    "start_time": "2022-03-22T19:33:51.602Z"
   },
   {
    "duration": 9,
    "start_time": "2022-03-22T19:33:51.629Z"
   },
   {
    "duration": 6,
    "start_time": "2022-03-22T19:33:51.662Z"
   },
   {
    "duration": 134,
    "start_time": "2022-03-22T19:33:51.670Z"
   },
   {
    "duration": 11,
    "start_time": "2022-03-22T19:33:51.807Z"
   },
   {
    "duration": 17,
    "start_time": "2022-03-22T19:33:51.819Z"
   },
   {
    "duration": 6,
    "start_time": "2022-03-22T19:33:51.837Z"
   },
   {
    "duration": 22,
    "start_time": "2022-03-22T19:33:51.864Z"
   },
   {
    "duration": 17,
    "start_time": "2022-03-22T19:33:51.888Z"
   },
   {
    "duration": 17,
    "start_time": "2022-03-22T19:33:51.907Z"
   },
   {
    "duration": 48,
    "start_time": "2022-03-22T19:33:51.926Z"
   },
   {
    "duration": 7,
    "start_time": "2022-03-22T19:33:51.976Z"
   },
   {
    "duration": 11,
    "start_time": "2022-03-22T19:33:51.984Z"
   },
   {
    "duration": 16,
    "start_time": "2022-03-22T19:33:51.997Z"
   },
   {
    "duration": 15,
    "start_time": "2022-03-22T19:33:52.015Z"
   },
   {
    "duration": 33,
    "start_time": "2022-03-22T19:33:52.032Z"
   },
   {
    "duration": 18,
    "start_time": "2022-03-22T19:33:52.067Z"
   },
   {
    "duration": 22,
    "start_time": "2022-03-22T19:33:52.087Z"
   },
   {
    "duration": 65,
    "start_time": "2022-03-22T19:33:52.111Z"
   },
   {
    "duration": 393,
    "start_time": "2022-03-22T19:33:52.178Z"
   },
   {
    "duration": 17,
    "start_time": "2022-03-22T19:33:55.214Z"
   },
   {
    "duration": 13,
    "start_time": "2022-03-22T19:35:19.762Z"
   },
   {
    "duration": 13,
    "start_time": "2022-03-22T19:38:10.452Z"
   },
   {
    "duration": 12,
    "start_time": "2022-03-22T19:38:14.562Z"
   },
   {
    "duration": 5,
    "start_time": "2022-03-22T19:38:15.333Z"
   },
   {
    "duration": 4827,
    "start_time": "2022-03-22T19:38:25.341Z"
   },
   {
    "duration": 3,
    "start_time": "2022-03-22T19:38:39.601Z"
   },
   {
    "duration": 45,
    "start_time": "2022-03-22T19:38:39.609Z"
   },
   {
    "duration": 14,
    "start_time": "2022-03-22T19:38:39.656Z"
   },
   {
    "duration": 39,
    "start_time": "2022-03-22T19:38:39.671Z"
   },
   {
    "duration": 11,
    "start_time": "2022-03-22T19:38:39.712Z"
   },
   {
    "duration": 7,
    "start_time": "2022-03-22T19:38:39.725Z"
   },
   {
    "duration": 54,
    "start_time": "2022-03-22T19:38:39.734Z"
   },
   {
    "duration": 13,
    "start_time": "2022-03-22T19:38:39.790Z"
   },
   {
    "duration": 7,
    "start_time": "2022-03-22T19:38:39.805Z"
   },
   {
    "duration": 110,
    "start_time": "2022-03-22T19:38:39.814Z"
   },
   {
    "duration": 10,
    "start_time": "2022-03-22T19:38:39.928Z"
   },
   {
    "duration": 24,
    "start_time": "2022-03-22T19:38:39.940Z"
   },
   {
    "duration": 5,
    "start_time": "2022-03-22T19:38:39.966Z"
   },
   {
    "duration": 25,
    "start_time": "2022-03-22T19:38:39.973Z"
   },
   {
    "duration": 15,
    "start_time": "2022-03-22T19:38:40.000Z"
   },
   {
    "duration": 36,
    "start_time": "2022-03-22T19:38:40.017Z"
   },
   {
    "duration": 15,
    "start_time": "2022-03-22T19:38:40.064Z"
   },
   {
    "duration": 6,
    "start_time": "2022-03-22T19:38:40.081Z"
   },
   {
    "duration": 10,
    "start_time": "2022-03-22T19:38:40.088Z"
   },
   {
    "duration": 13,
    "start_time": "2022-03-22T19:38:40.100Z"
   },
   {
    "duration": 49,
    "start_time": "2022-03-22T19:38:40.115Z"
   },
   {
    "duration": 6,
    "start_time": "2022-03-22T19:38:40.165Z"
   },
   {
    "duration": 15,
    "start_time": "2022-03-22T19:38:40.173Z"
   },
   {
    "duration": 18,
    "start_time": "2022-03-22T19:38:40.190Z"
   },
   {
    "duration": 54,
    "start_time": "2022-03-22T19:38:40.210Z"
   },
   {
    "duration": 250,
    "start_time": "2022-03-22T19:38:40.265Z"
   },
   {
    "duration": 14,
    "start_time": "2022-03-22T19:38:40.517Z"
   },
   {
    "duration": 30,
    "start_time": "2022-03-22T19:38:40.533Z"
   },
   {
    "duration": 18,
    "start_time": "2022-03-22T19:38:42.421Z"
   },
   {
    "duration": 5,
    "start_time": "2022-03-22T19:38:42.873Z"
   },
   {
    "duration": 4427,
    "start_time": "2022-03-22T19:38:45.359Z"
   },
   {
    "duration": 3,
    "start_time": "2022-03-22T19:39:48.161Z"
   },
   {
    "duration": 47,
    "start_time": "2022-03-22T19:39:48.166Z"
   },
   {
    "duration": 12,
    "start_time": "2022-03-22T19:39:48.215Z"
   },
   {
    "duration": 43,
    "start_time": "2022-03-22T19:39:48.229Z"
   },
   {
    "duration": 9,
    "start_time": "2022-03-22T19:39:48.274Z"
   },
   {
    "duration": 8,
    "start_time": "2022-03-22T19:39:48.284Z"
   },
   {
    "duration": 25,
    "start_time": "2022-03-22T19:39:48.293Z"
   },
   {
    "duration": 9,
    "start_time": "2022-03-22T19:39:48.320Z"
   },
   {
    "duration": 34,
    "start_time": "2022-03-22T19:39:48.330Z"
   },
   {
    "duration": 90,
    "start_time": "2022-03-22T19:39:48.366Z"
   },
   {
    "duration": 9,
    "start_time": "2022-03-22T19:39:48.463Z"
   },
   {
    "duration": 17,
    "start_time": "2022-03-22T19:39:48.473Z"
   },
   {
    "duration": 4,
    "start_time": "2022-03-22T19:39:48.492Z"
   },
   {
    "duration": 23,
    "start_time": "2022-03-22T19:39:48.498Z"
   },
   {
    "duration": 10,
    "start_time": "2022-03-22T19:39:48.522Z"
   },
   {
    "duration": 36,
    "start_time": "2022-03-22T19:39:48.534Z"
   },
   {
    "duration": 14,
    "start_time": "2022-03-22T19:39:48.572Z"
   },
   {
    "duration": 6,
    "start_time": "2022-03-22T19:39:48.587Z"
   },
   {
    "duration": 8,
    "start_time": "2022-03-22T19:39:48.595Z"
   },
   {
    "duration": 13,
    "start_time": "2022-03-22T19:39:48.604Z"
   },
   {
    "duration": 45,
    "start_time": "2022-03-22T19:39:48.619Z"
   },
   {
    "duration": 6,
    "start_time": "2022-03-22T19:39:48.665Z"
   },
   {
    "duration": 14,
    "start_time": "2022-03-22T19:39:48.672Z"
   },
   {
    "duration": 28,
    "start_time": "2022-03-22T19:39:48.687Z"
   },
   {
    "duration": 32,
    "start_time": "2022-03-22T19:39:48.716Z"
   },
   {
    "duration": 327,
    "start_time": "2022-03-22T19:39:48.762Z"
   },
   {
    "duration": 14,
    "start_time": "2022-03-22T19:39:49.091Z"
   },
   {
    "duration": 11,
    "start_time": "2022-03-22T19:39:49.106Z"
   },
   {
    "duration": 4,
    "start_time": "2022-03-22T19:39:52.421Z"
   },
   {
    "duration": 4133,
    "start_time": "2022-03-22T19:39:53.962Z"
   },
   {
    "duration": 0,
    "start_time": "2022-03-22T19:40:38.518Z"
   },
   {
    "duration": 8032,
    "start_time": "2022-03-22T19:40:41.741Z"
   },
   {
    "duration": 4378,
    "start_time": "2022-03-22T19:41:56.062Z"
   },
   {
    "duration": 339,
    "start_time": "2022-03-22T19:42:54.401Z"
   },
   {
    "duration": 443,
    "start_time": "2022-03-22T19:48:08.961Z"
   },
   {
    "duration": 358,
    "start_time": "2022-03-22T19:48:16.081Z"
   },
   {
    "duration": 1183,
    "start_time": "2022-03-22T20:04:00.218Z"
   },
   {
    "duration": 38,
    "start_time": "2022-03-22T20:04:01.403Z"
   },
   {
    "duration": 26,
    "start_time": "2022-03-22T20:04:01.443Z"
   },
   {
    "duration": 44,
    "start_time": "2022-03-22T20:04:01.471Z"
   },
   {
    "duration": 11,
    "start_time": "2022-03-22T20:04:01.518Z"
   },
   {
    "duration": 14,
    "start_time": "2022-03-22T20:04:01.531Z"
   },
   {
    "duration": 37,
    "start_time": "2022-03-22T20:04:01.547Z"
   },
   {
    "duration": 9,
    "start_time": "2022-03-22T20:04:01.586Z"
   },
   {
    "duration": 20,
    "start_time": "2022-03-22T20:04:01.596Z"
   },
   {
    "duration": 97,
    "start_time": "2022-03-22T20:04:01.618Z"
   },
   {
    "duration": 9,
    "start_time": "2022-03-22T20:04:01.717Z"
   },
   {
    "duration": 14,
    "start_time": "2022-03-22T20:04:01.728Z"
   },
   {
    "duration": 24,
    "start_time": "2022-03-22T20:04:01.743Z"
   },
   {
    "duration": 29,
    "start_time": "2022-03-22T20:04:01.770Z"
   },
   {
    "duration": 10,
    "start_time": "2022-03-22T20:04:01.801Z"
   },
   {
    "duration": 20,
    "start_time": "2022-03-22T20:04:01.813Z"
   },
   {
    "duration": 29,
    "start_time": "2022-03-22T20:04:01.835Z"
   },
   {
    "duration": 7,
    "start_time": "2022-03-22T20:04:01.865Z"
   },
   {
    "duration": 17,
    "start_time": "2022-03-22T20:04:01.874Z"
   },
   {
    "duration": 16,
    "start_time": "2022-03-22T20:04:01.892Z"
   },
   {
    "duration": 15,
    "start_time": "2022-03-22T20:04:01.910Z"
   },
   {
    "duration": 10,
    "start_time": "2022-03-22T20:04:01.927Z"
   },
   {
    "duration": 32,
    "start_time": "2022-03-22T20:04:01.939Z"
   },
   {
    "duration": 25,
    "start_time": "2022-03-22T20:04:01.972Z"
   },
   {
    "duration": 39,
    "start_time": "2022-03-22T20:04:01.999Z"
   },
   {
    "duration": 316,
    "start_time": "2022-03-22T20:04:02.040Z"
   },
   {
    "duration": 14,
    "start_time": "2022-03-22T20:04:02.358Z"
   },
   {
    "duration": 12,
    "start_time": "2022-03-22T20:04:02.374Z"
   },
   {
    "duration": 5,
    "start_time": "2022-03-22T20:04:02.388Z"
   },
   {
    "duration": 377,
    "start_time": "2022-03-22T20:04:02.395Z"
   },
   {
    "duration": 106,
    "start_time": "2022-03-22T20:04:06.049Z"
   },
   {
    "duration": 35,
    "start_time": "2022-03-22T20:04:17.698Z"
   },
   {
    "duration": 411,
    "start_time": "2022-03-22T20:04:39.537Z"
   },
   {
    "duration": 687,
    "start_time": "2022-03-22T20:13:44.117Z"
   },
   {
    "duration": 13,
    "start_time": "2022-03-22T20:28:37.852Z"
   },
   {
    "duration": 13,
    "start_time": "2022-03-22T20:30:09.191Z"
   },
   {
    "duration": 14,
    "start_time": "2022-03-22T20:30:24.773Z"
   },
   {
    "duration": 12,
    "start_time": "2022-03-22T20:30:37.304Z"
   },
   {
    "duration": 18,
    "start_time": "2022-03-22T20:31:04.432Z"
   },
   {
    "duration": 13,
    "start_time": "2022-03-22T20:31:21.952Z"
   },
   {
    "duration": 5,
    "start_time": "2022-03-22T20:31:22.852Z"
   },
   {
    "duration": 9,
    "start_time": "2022-03-22T20:31:53.691Z"
   },
   {
    "duration": 122,
    "start_time": "2022-03-22T20:31:57.091Z"
   },
   {
    "duration": 124,
    "start_time": "2022-03-22T20:32:00.894Z"
   },
   {
    "duration": 13,
    "start_time": "2022-03-22T20:32:35.552Z"
   },
   {
    "duration": 12,
    "start_time": "2022-03-22T20:32:38.093Z"
   },
   {
    "duration": 9,
    "start_time": "2022-03-22T20:32:39.092Z"
   },
   {
    "duration": 141,
    "start_time": "2022-03-22T20:32:40.084Z"
   },
   {
    "duration": 177,
    "start_time": "2022-03-22T20:32:42.292Z"
   },
   {
    "duration": 1144,
    "start_time": "2022-03-22T20:33:16.537Z"
   },
   {
    "duration": 40,
    "start_time": "2022-03-22T20:33:17.683Z"
   },
   {
    "duration": 16,
    "start_time": "2022-03-22T20:33:17.725Z"
   },
   {
    "duration": 42,
    "start_time": "2022-03-22T20:33:17.743Z"
   },
   {
    "duration": 11,
    "start_time": "2022-03-22T20:33:17.786Z"
   },
   {
    "duration": 13,
    "start_time": "2022-03-22T20:33:17.799Z"
   },
   {
    "duration": 24,
    "start_time": "2022-03-22T20:33:17.814Z"
   },
   {
    "duration": 28,
    "start_time": "2022-03-22T20:33:17.839Z"
   },
   {
    "duration": 6,
    "start_time": "2022-03-22T20:33:17.868Z"
   },
   {
    "duration": 100,
    "start_time": "2022-03-22T20:33:17.877Z"
   },
   {
    "duration": 8,
    "start_time": "2022-03-22T20:33:17.979Z"
   },
   {
    "duration": 14,
    "start_time": "2022-03-22T20:33:17.989Z"
   },
   {
    "duration": 7,
    "start_time": "2022-03-22T20:33:18.005Z"
   },
   {
    "duration": 23,
    "start_time": "2022-03-22T20:33:18.014Z"
   },
   {
    "duration": 11,
    "start_time": "2022-03-22T20:33:18.064Z"
   },
   {
    "duration": 18,
    "start_time": "2022-03-22T20:33:18.077Z"
   },
   {
    "duration": 15,
    "start_time": "2022-03-22T20:33:18.098Z"
   },
   {
    "duration": 7,
    "start_time": "2022-03-22T20:33:18.115Z"
   },
   {
    "duration": 40,
    "start_time": "2022-03-22T20:33:18.124Z"
   },
   {
    "duration": 16,
    "start_time": "2022-03-22T20:33:18.166Z"
   },
   {
    "duration": 15,
    "start_time": "2022-03-22T20:33:18.184Z"
   },
   {
    "duration": 9,
    "start_time": "2022-03-22T20:33:18.201Z"
   },
   {
    "duration": 15,
    "start_time": "2022-03-22T20:33:18.212Z"
   },
   {
    "duration": 53,
    "start_time": "2022-03-22T20:33:18.229Z"
   },
   {
    "duration": 35,
    "start_time": "2022-03-22T20:33:18.283Z"
   },
   {
    "duration": 292,
    "start_time": "2022-03-22T20:33:18.320Z"
   },
   {
    "duration": 13,
    "start_time": "2022-03-22T20:33:18.613Z"
   },
   {
    "duration": 11,
    "start_time": "2022-03-22T20:33:18.630Z"
   },
   {
    "duration": 9,
    "start_time": "2022-03-22T20:33:18.643Z"
   },
   {
    "duration": 365,
    "start_time": "2022-03-22T20:33:18.655Z"
   },
   {
    "duration": 426,
    "start_time": "2022-03-22T20:33:19.022Z"
   },
   {
    "duration": 18,
    "start_time": "2022-03-22T20:33:19.450Z"
   },
   {
    "duration": 12,
    "start_time": "2022-03-22T20:33:19.470Z"
   },
   {
    "duration": 166,
    "start_time": "2022-03-22T20:33:19.484Z"
   },
   {
    "duration": 241,
    "start_time": "2022-03-22T20:33:19.652Z"
   },
   {
    "duration": 13,
    "start_time": "2022-03-22T20:39:50.805Z"
   },
   {
    "duration": 25,
    "start_time": "2022-03-22T20:40:03.765Z"
   },
   {
    "duration": 2946,
    "start_time": "2022-03-22T20:40:13.205Z"
   },
   {
    "duration": 330,
    "start_time": "2022-03-22T20:40:26.402Z"
   },
   {
    "duration": 344,
    "start_time": "2022-03-22T20:40:40.444Z"
   },
   {
    "duration": 426,
    "start_time": "2022-03-22T20:40:54.105Z"
   },
   {
    "duration": 2603,
    "start_time": "2022-03-22T20:47:06.926Z"
   },
   {
    "duration": 22,
    "start_time": "2022-03-22T20:47:40.944Z"
   },
   {
    "duration": 22,
    "start_time": "2022-03-22T20:47:56.485Z"
   },
   {
    "duration": 353,
    "start_time": "2022-03-22T20:48:11.405Z"
   },
   {
    "duration": 25,
    "start_time": "2022-03-22T20:53:33.418Z"
   },
   {
    "duration": 25,
    "start_time": "2022-03-22T21:03:42.957Z"
   },
   {
    "duration": 140,
    "start_time": "2022-03-22T21:04:07.446Z"
   },
   {
    "duration": 26,
    "start_time": "2022-03-22T21:04:43.534Z"
   },
   {
    "duration": 27,
    "start_time": "2022-03-22T21:05:08.393Z"
   },
   {
    "duration": 25,
    "start_time": "2022-03-22T21:09:25.265Z"
   },
   {
    "duration": 22,
    "start_time": "2022-03-22T21:10:18.606Z"
   },
   {
    "duration": 26,
    "start_time": "2022-03-22T21:15:34.806Z"
   },
   {
    "duration": 26,
    "start_time": "2022-03-22T21:18:04.086Z"
   },
   {
    "duration": 28,
    "start_time": "2022-03-22T21:23:16.925Z"
   },
   {
    "duration": 6,
    "start_time": "2022-03-22T21:23:29.784Z"
   },
   {
    "duration": 6,
    "start_time": "2022-03-22T21:23:38.865Z"
   },
   {
    "duration": 1291,
    "start_time": "2022-03-22T21:23:49.016Z"
   },
   {
    "duration": 57,
    "start_time": "2022-03-22T21:23:50.310Z"
   },
   {
    "duration": 18,
    "start_time": "2022-03-22T21:23:50.369Z"
   },
   {
    "duration": 37,
    "start_time": "2022-03-22T21:23:50.390Z"
   },
   {
    "duration": 33,
    "start_time": "2022-03-22T21:23:50.429Z"
   },
   {
    "duration": 7,
    "start_time": "2022-03-22T21:23:50.464Z"
   },
   {
    "duration": 23,
    "start_time": "2022-03-22T21:23:50.473Z"
   },
   {
    "duration": 8,
    "start_time": "2022-03-22T21:23:50.497Z"
   },
   {
    "duration": 7,
    "start_time": "2022-03-22T21:23:50.507Z"
   },
   {
    "duration": 117,
    "start_time": "2022-03-22T21:23:50.517Z"
   },
   {
    "duration": 9,
    "start_time": "2022-03-22T21:23:50.636Z"
   },
   {
    "duration": 23,
    "start_time": "2022-03-22T21:23:50.647Z"
   },
   {
    "duration": 5,
    "start_time": "2022-03-22T21:23:50.672Z"
   },
   {
    "duration": 23,
    "start_time": "2022-03-22T21:23:50.679Z"
   },
   {
    "duration": 10,
    "start_time": "2022-03-22T21:23:50.704Z"
   },
   {
    "duration": 14,
    "start_time": "2022-03-22T21:23:50.716Z"
   },
   {
    "duration": 39,
    "start_time": "2022-03-22T21:23:50.732Z"
   },
   {
    "duration": 6,
    "start_time": "2022-03-22T21:23:50.772Z"
   },
   {
    "duration": 10,
    "start_time": "2022-03-22T21:23:50.779Z"
   },
   {
    "duration": 14,
    "start_time": "2022-03-22T21:23:50.790Z"
   },
   {
    "duration": 15,
    "start_time": "2022-03-22T21:23:50.805Z"
   },
   {
    "duration": 8,
    "start_time": "2022-03-22T21:23:50.821Z"
   },
   {
    "duration": 40,
    "start_time": "2022-03-22T21:23:50.831Z"
   },
   {
    "duration": 17,
    "start_time": "2022-03-22T21:23:50.873Z"
   },
   {
    "duration": 32,
    "start_time": "2022-03-22T21:23:50.892Z"
   },
   {
    "duration": 317,
    "start_time": "2022-03-22T21:23:50.926Z"
   },
   {
    "duration": 13,
    "start_time": "2022-03-22T21:23:51.245Z"
   },
   {
    "duration": 12,
    "start_time": "2022-03-22T21:23:51.263Z"
   },
   {
    "duration": 5,
    "start_time": "2022-03-22T21:23:51.277Z"
   },
   {
    "duration": 386,
    "start_time": "2022-03-22T21:23:51.284Z"
   },
   {
    "duration": 439,
    "start_time": "2022-03-22T21:23:51.672Z"
   },
   {
    "duration": 13,
    "start_time": "2022-03-22T21:23:52.113Z"
   },
   {
    "duration": 10,
    "start_time": "2022-03-22T21:23:52.128Z"
   },
   {
    "duration": 173,
    "start_time": "2022-03-22T21:23:52.140Z"
   },
   {
    "duration": 241,
    "start_time": "2022-03-22T21:23:52.314Z"
   },
   {
    "duration": 24,
    "start_time": "2022-03-22T21:23:52.557Z"
   },
   {
    "duration": 383,
    "start_time": "2022-03-22T21:23:52.582Z"
   },
   {
    "duration": 26,
    "start_time": "2022-03-22T21:23:52.967Z"
   },
   {
    "duration": 20,
    "start_time": "2022-03-22T21:23:52.995Z"
   },
   {
    "duration": 57,
    "start_time": "2022-03-22T21:23:53.016Z"
   },
   {
    "duration": 25,
    "start_time": "2022-03-22T21:23:53.075Z"
   },
   {
    "duration": 5,
    "start_time": "2022-03-22T21:23:53.102Z"
   },
   {
    "duration": 10,
    "start_time": "2022-03-22T21:23:53.108Z"
   },
   {
    "duration": 6,
    "start_time": "2022-03-22T21:23:56.364Z"
   },
   {
    "duration": 15,
    "start_time": "2022-03-22T21:25:14.524Z"
   },
   {
    "duration": 5,
    "start_time": "2022-03-22T21:25:41.344Z"
   },
   {
    "duration": 6,
    "start_time": "2022-03-22T21:25:42.784Z"
   },
   {
    "duration": 5,
    "start_time": "2022-03-22T21:25:51.385Z"
   },
   {
    "duration": 1878,
    "start_time": "2022-03-23T18:58:59.651Z"
   },
   {
    "duration": 53,
    "start_time": "2022-03-23T18:59:01.532Z"
   },
   {
    "duration": 31,
    "start_time": "2022-03-23T18:59:01.589Z"
   },
   {
    "duration": 92,
    "start_time": "2022-03-23T18:59:01.623Z"
   },
   {
    "duration": 16,
    "start_time": "2022-03-23T18:59:01.718Z"
   },
   {
    "duration": 28,
    "start_time": "2022-03-23T18:59:01.737Z"
   },
   {
    "duration": 54,
    "start_time": "2022-03-23T18:59:01.769Z"
   },
   {
    "duration": 12,
    "start_time": "2022-03-23T18:59:01.826Z"
   },
   {
    "duration": 28,
    "start_time": "2022-03-23T18:59:01.840Z"
   },
   {
    "duration": 152,
    "start_time": "2022-03-23T18:59:01.870Z"
   },
   {
    "duration": 14,
    "start_time": "2022-03-23T18:59:02.025Z"
   },
   {
    "duration": 24,
    "start_time": "2022-03-23T18:59:02.041Z"
   },
   {
    "duration": 9,
    "start_time": "2022-03-23T18:59:02.083Z"
   },
   {
    "duration": 42,
    "start_time": "2022-03-23T18:59:02.096Z"
   },
   {
    "duration": 17,
    "start_time": "2022-03-23T18:59:02.140Z"
   },
   {
    "duration": 39,
    "start_time": "2022-03-23T18:59:02.160Z"
   },
   {
    "duration": 22,
    "start_time": "2022-03-23T18:59:02.202Z"
   },
   {
    "duration": 9,
    "start_time": "2022-03-23T18:59:02.226Z"
   },
   {
    "duration": 62,
    "start_time": "2022-03-23T18:59:02.237Z"
   },
   {
    "duration": 21,
    "start_time": "2022-03-23T18:59:02.301Z"
   },
   {
    "duration": 24,
    "start_time": "2022-03-23T18:59:02.324Z"
   },
   {
    "duration": 9,
    "start_time": "2022-03-23T18:59:02.382Z"
   },
   {
    "duration": 21,
    "start_time": "2022-03-23T18:59:02.394Z"
   },
   {
    "duration": 26,
    "start_time": "2022-03-23T18:59:02.417Z"
   },
   {
    "duration": 100,
    "start_time": "2022-03-23T18:59:02.445Z"
   },
   {
    "duration": 555,
    "start_time": "2022-03-23T18:59:02.548Z"
   },
   {
    "duration": 21,
    "start_time": "2022-03-23T18:59:03.106Z"
   },
   {
    "duration": 19,
    "start_time": "2022-03-23T18:59:03.130Z"
   },
   {
    "duration": 6,
    "start_time": "2022-03-23T18:59:03.152Z"
   },
   {
    "duration": 675,
    "start_time": "2022-03-23T18:59:03.161Z"
   },
   {
    "duration": 1228,
    "start_time": "2022-03-23T18:59:03.839Z"
   },
   {
    "duration": 22,
    "start_time": "2022-03-23T18:59:12.572Z"
   },
   {
    "duration": 16,
    "start_time": "2022-03-23T18:59:23.411Z"
   },
   {
    "duration": 278,
    "start_time": "2022-03-23T18:59:32.304Z"
   },
   {
    "duration": 307,
    "start_time": "2022-03-23T18:59:33.632Z"
   },
   {
    "duration": 17,
    "start_time": "2022-03-23T18:59:54.592Z"
   },
   {
    "duration": 19,
    "start_time": "2022-03-23T18:59:57.991Z"
   },
   {
    "duration": 15,
    "start_time": "2022-03-23T18:59:59.491Z"
   },
   {
    "duration": 265,
    "start_time": "2022-03-23T19:00:02.207Z"
   },
   {
    "duration": 254,
    "start_time": "2022-03-23T19:00:03.651Z"
   },
   {
    "duration": 13,
    "start_time": "2022-03-23T19:04:00.292Z"
   },
   {
    "duration": 20,
    "start_time": "2022-03-23T19:04:14.212Z"
   },
   {
    "duration": 11,
    "start_time": "2022-03-23T19:04:39.511Z"
   },
   {
    "duration": 26,
    "start_time": "2022-03-23T19:04:49.232Z"
   },
   {
    "duration": 193,
    "start_time": "2022-03-23T19:04:52.872Z"
   },
   {
    "duration": 139,
    "start_time": "2022-03-23T19:04:59.091Z"
   },
   {
    "duration": 19,
    "start_time": "2022-03-23T19:05:14.992Z"
   },
   {
    "duration": 17,
    "start_time": "2022-03-23T19:05:33.313Z"
   },
   {
    "duration": 12,
    "start_time": "2022-03-23T19:06:01.905Z"
   },
   {
    "duration": 154,
    "start_time": "2022-03-23T19:08:04.632Z"
   },
   {
    "duration": 9,
    "start_time": "2022-03-23T19:08:54.672Z"
   },
   {
    "duration": 11,
    "start_time": "2022-03-23T19:09:13.864Z"
   },
   {
    "duration": 18,
    "start_time": "2022-03-23T19:11:51.095Z"
   },
   {
    "duration": 12,
    "start_time": "2022-03-23T19:12:14.995Z"
   },
   {
    "duration": 58,
    "start_time": "2022-03-23T19:12:39.835Z"
   },
   {
    "duration": 59,
    "start_time": "2022-03-23T19:12:59.235Z"
   },
   {
    "duration": 64,
    "start_time": "2022-03-23T19:16:53.195Z"
   },
   {
    "duration": 1631,
    "start_time": "2022-03-23T19:32:34.093Z"
   },
   {
    "duration": 68,
    "start_time": "2022-03-23T19:32:35.727Z"
   },
   {
    "duration": 37,
    "start_time": "2022-03-23T19:32:35.798Z"
   },
   {
    "duration": 82,
    "start_time": "2022-03-23T19:32:35.838Z"
   },
   {
    "duration": 16,
    "start_time": "2022-03-23T19:32:35.922Z"
   },
   {
    "duration": 18,
    "start_time": "2022-03-23T19:32:35.941Z"
   },
   {
    "duration": 69,
    "start_time": "2022-03-23T19:32:35.961Z"
   },
   {
    "duration": 14,
    "start_time": "2022-03-23T19:32:36.033Z"
   },
   {
    "duration": 25,
    "start_time": "2022-03-23T19:32:36.049Z"
   },
   {
    "duration": 149,
    "start_time": "2022-03-23T19:32:36.078Z"
   },
   {
    "duration": 15,
    "start_time": "2022-03-23T19:32:36.230Z"
   },
   {
    "duration": 38,
    "start_time": "2022-03-23T19:32:36.248Z"
   },
   {
    "duration": 8,
    "start_time": "2022-03-23T19:32:36.288Z"
   },
   {
    "duration": 38,
    "start_time": "2022-03-23T19:32:36.298Z"
   },
   {
    "duration": 25,
    "start_time": "2022-03-23T19:32:36.338Z"
   },
   {
    "duration": 29,
    "start_time": "2022-03-23T19:32:36.383Z"
   },
   {
    "duration": 24,
    "start_time": "2022-03-23T19:32:36.414Z"
   },
   {
    "duration": 43,
    "start_time": "2022-03-23T19:32:36.440Z"
   },
   {
    "duration": 17,
    "start_time": "2022-03-23T19:32:36.486Z"
   },
   {
    "duration": 23,
    "start_time": "2022-03-23T19:32:36.504Z"
   },
   {
    "duration": 28,
    "start_time": "2022-03-23T19:32:36.529Z"
   },
   {
    "duration": 8,
    "start_time": "2022-03-23T19:32:36.583Z"
   },
   {
    "duration": 26,
    "start_time": "2022-03-23T19:32:36.593Z"
   },
   {
    "duration": 39,
    "start_time": "2022-03-23T19:32:36.620Z"
   },
   {
    "duration": 65,
    "start_time": "2022-03-23T19:32:36.661Z"
   },
   {
    "duration": 463,
    "start_time": "2022-03-23T19:32:36.728Z"
   },
   {
    "duration": 20,
    "start_time": "2022-03-23T19:32:37.193Z"
   },
   {
    "duration": 19,
    "start_time": "2022-03-23T19:32:37.218Z"
   },
   {
    "duration": 6,
    "start_time": "2022-03-23T19:32:37.240Z"
   },
   {
    "duration": 680,
    "start_time": "2022-03-23T19:32:37.249Z"
   },
   {
    "duration": 771,
    "start_time": "2022-03-23T19:32:37.932Z"
   },
   {
    "duration": 19,
    "start_time": "2022-03-23T19:32:38.706Z"
   },
   {
    "duration": 15,
    "start_time": "2022-03-23T19:32:38.727Z"
   },
   {
    "duration": 279,
    "start_time": "2022-03-23T19:32:38.744Z"
   },
   {
    "duration": 342,
    "start_time": "2022-03-23T19:32:39.026Z"
   },
   {
    "duration": 114,
    "start_time": "2022-03-23T19:32:39.370Z"
   },
   {
    "duration": 39,
    "start_time": "2022-03-23T19:32:39.487Z"
   },
   {
    "duration": 778,
    "start_time": "2022-03-23T19:32:39.528Z"
   },
   {
    "duration": 41,
    "start_time": "2022-03-23T19:32:40.308Z"
   },
   {
    "duration": 51,
    "start_time": "2022-03-23T19:32:40.352Z"
   },
   {
    "duration": 42,
    "start_time": "2022-03-23T19:32:40.405Z"
   },
   {
    "duration": 39,
    "start_time": "2022-03-23T19:32:40.482Z"
   },
   {
    "duration": 10,
    "start_time": "2022-03-23T19:32:40.523Z"
   },
   {
    "duration": 11,
    "start_time": "2022-03-23T19:32:40.535Z"
   },
   {
    "duration": 41,
    "start_time": "2022-03-23T19:32:40.548Z"
   },
   {
    "duration": 10,
    "start_time": "2022-03-23T19:32:40.591Z"
   },
   {
    "duration": 10,
    "start_time": "2022-03-23T19:32:40.603Z"
   },
   {
    "duration": 14,
    "start_time": "2022-03-23T19:32:40.615Z"
   },
   {
    "duration": 1254,
    "start_time": "2022-03-23T20:14:33.760Z"
   },
   {
    "duration": 46,
    "start_time": "2022-03-23T20:14:35.017Z"
   },
   {
    "duration": 22,
    "start_time": "2022-03-23T20:14:35.065Z"
   },
   {
    "duration": 65,
    "start_time": "2022-03-23T20:14:35.091Z"
   },
   {
    "duration": 13,
    "start_time": "2022-03-23T20:14:35.158Z"
   },
   {
    "duration": 18,
    "start_time": "2022-03-23T20:14:35.173Z"
   },
   {
    "duration": 52,
    "start_time": "2022-03-23T20:14:35.193Z"
   },
   {
    "duration": 14,
    "start_time": "2022-03-23T20:14:35.247Z"
   },
   {
    "duration": 20,
    "start_time": "2022-03-23T20:14:35.263Z"
   },
   {
    "duration": 130,
    "start_time": "2022-03-23T20:14:35.287Z"
   },
   {
    "duration": 12,
    "start_time": "2022-03-23T20:14:35.419Z"
   },
   {
    "duration": 19,
    "start_time": "2022-03-23T20:14:35.433Z"
   },
   {
    "duration": 19,
    "start_time": "2022-03-23T20:14:35.453Z"
   },
   {
    "duration": 31,
    "start_time": "2022-03-23T20:14:35.474Z"
   },
   {
    "duration": 29,
    "start_time": "2022-03-23T20:14:35.507Z"
   },
   {
    "duration": 15,
    "start_time": "2022-03-23T20:14:35.537Z"
   },
   {
    "duration": 26,
    "start_time": "2022-03-23T20:14:35.555Z"
   },
   {
    "duration": 15,
    "start_time": "2022-03-23T20:14:35.584Z"
   },
   {
    "duration": 38,
    "start_time": "2022-03-23T20:14:35.601Z"
   },
   {
    "duration": 17,
    "start_time": "2022-03-23T20:14:35.640Z"
   },
   {
    "duration": 19,
    "start_time": "2022-03-23T20:14:35.658Z"
   },
   {
    "duration": 7,
    "start_time": "2022-03-23T20:14:35.680Z"
   },
   {
    "duration": 45,
    "start_time": "2022-03-23T20:14:35.688Z"
   },
   {
    "duration": 40,
    "start_time": "2022-03-23T20:14:35.735Z"
   },
   {
    "duration": 47,
    "start_time": "2022-03-23T20:14:35.777Z"
   },
   {
    "duration": 350,
    "start_time": "2022-03-23T20:14:35.826Z"
   },
   {
    "duration": 21,
    "start_time": "2022-03-23T20:14:36.179Z"
   },
   {
    "duration": 19,
    "start_time": "2022-03-23T20:14:36.206Z"
   },
   {
    "duration": 14,
    "start_time": "2022-03-23T20:14:36.227Z"
   },
   {
    "duration": 460,
    "start_time": "2022-03-23T20:14:36.244Z"
   },
   {
    "duration": 521,
    "start_time": "2022-03-23T20:14:36.706Z"
   },
   {
    "duration": 16,
    "start_time": "2022-03-23T20:14:37.228Z"
   },
   {
    "duration": 22,
    "start_time": "2022-03-23T20:14:37.246Z"
   },
   {
    "duration": 184,
    "start_time": "2022-03-23T20:14:37.270Z"
   },
   {
    "duration": 255,
    "start_time": "2022-03-23T20:14:37.456Z"
   },
   {
    "duration": 64,
    "start_time": "2022-03-23T20:14:37.713Z"
   },
   {
    "duration": 54,
    "start_time": "2022-03-23T20:14:37.779Z"
   },
   {
    "duration": 455,
    "start_time": "2022-03-23T20:14:37.834Z"
   },
   {
    "duration": 41,
    "start_time": "2022-03-23T20:14:38.291Z"
   },
   {
    "duration": 22,
    "start_time": "2022-03-23T20:14:38.334Z"
   },
   {
    "duration": 28,
    "start_time": "2022-03-23T20:14:38.358Z"
   },
   {
    "duration": 59,
    "start_time": "2022-03-23T20:14:38.387Z"
   },
   {
    "duration": 5,
    "start_time": "2022-03-23T20:14:38.449Z"
   },
   {
    "duration": 9,
    "start_time": "2022-03-23T20:14:38.456Z"
   },
   {
    "duration": 13,
    "start_time": "2022-03-23T20:14:38.467Z"
   },
   {
    "duration": 10,
    "start_time": "2022-03-23T20:14:38.482Z"
   },
   {
    "duration": 8,
    "start_time": "2022-03-23T20:14:38.494Z"
   },
   {
    "duration": 34,
    "start_time": "2022-03-23T20:14:38.504Z"
   },
   {
    "duration": 8,
    "start_time": "2022-03-23T20:14:38.540Z"
   },
   {
    "duration": 492,
    "start_time": "2022-03-23T20:19:48.480Z"
   },
   {
    "duration": 618,
    "start_time": "2022-03-23T20:20:11.142Z"
   },
   {
    "duration": 24,
    "start_time": "2022-03-23T20:30:49.902Z"
   },
   {
    "duration": 3,
    "start_time": "2022-03-23T20:31:10.136Z"
   },
   {
    "duration": 274,
    "start_time": "2022-03-23T20:31:13.273Z"
   },
   {
    "duration": 16,
    "start_time": "2022-03-23T20:33:16.547Z"
   },
   {
    "duration": 1233,
    "start_time": "2022-03-23T20:33:42.169Z"
   },
   {
    "duration": 46,
    "start_time": "2022-03-23T20:33:43.404Z"
   },
   {
    "duration": 19,
    "start_time": "2022-03-23T20:33:43.451Z"
   },
   {
    "duration": 42,
    "start_time": "2022-03-23T20:33:43.472Z"
   },
   {
    "duration": 12,
    "start_time": "2022-03-23T20:33:43.532Z"
   },
   {
    "duration": 11,
    "start_time": "2022-03-23T20:33:43.546Z"
   },
   {
    "duration": 27,
    "start_time": "2022-03-23T20:33:43.559Z"
   },
   {
    "duration": 9,
    "start_time": "2022-03-23T20:33:43.587Z"
   },
   {
    "duration": 6,
    "start_time": "2022-03-23T20:33:43.598Z"
   },
   {
    "duration": 100,
    "start_time": "2022-03-23T20:33:43.631Z"
   },
   {
    "duration": 10,
    "start_time": "2022-03-23T20:33:43.733Z"
   },
   {
    "duration": 15,
    "start_time": "2022-03-23T20:33:43.745Z"
   },
   {
    "duration": 7,
    "start_time": "2022-03-23T20:33:43.762Z"
   },
   {
    "duration": 27,
    "start_time": "2022-03-23T20:33:43.771Z"
   },
   {
    "duration": 36,
    "start_time": "2022-03-23T20:33:43.800Z"
   },
   {
    "duration": 15,
    "start_time": "2022-03-23T20:33:43.838Z"
   },
   {
    "duration": 16,
    "start_time": "2022-03-23T20:33:43.855Z"
   },
   {
    "duration": 6,
    "start_time": "2022-03-23T20:33:43.873Z"
   },
   {
    "duration": 9,
    "start_time": "2022-03-23T20:33:43.881Z"
   },
   {
    "duration": 50,
    "start_time": "2022-03-23T20:33:43.892Z"
   },
   {
    "duration": 18,
    "start_time": "2022-03-23T20:33:43.944Z"
   },
   {
    "duration": 6,
    "start_time": "2022-03-23T20:33:43.964Z"
   },
   {
    "duration": 14,
    "start_time": "2022-03-23T20:33:43.971Z"
   },
   {
    "duration": 54,
    "start_time": "2022-03-23T20:33:43.986Z"
   },
   {
    "duration": 39,
    "start_time": "2022-03-23T20:33:44.042Z"
   },
   {
    "duration": 325,
    "start_time": "2022-03-23T20:33:44.083Z"
   },
   {
    "duration": 13,
    "start_time": "2022-03-23T20:33:44.410Z"
   },
   {
    "duration": 12,
    "start_time": "2022-03-23T20:33:44.427Z"
   },
   {
    "duration": 5,
    "start_time": "2022-03-23T20:33:44.440Z"
   },
   {
    "duration": 423,
    "start_time": "2022-03-23T20:33:44.446Z"
   },
   {
    "duration": 503,
    "start_time": "2022-03-23T20:33:44.872Z"
   },
   {
    "duration": 74,
    "start_time": "2022-03-23T20:33:45.377Z"
   },
   {
    "duration": 15,
    "start_time": "2022-03-23T20:33:45.453Z"
   },
   {
    "duration": 10,
    "start_time": "2022-03-23T20:33:45.471Z"
   },
   {
    "duration": 189,
    "start_time": "2022-03-23T20:33:45.483Z"
   },
   {
    "duration": 273,
    "start_time": "2022-03-23T20:33:45.674Z"
   },
   {
    "duration": 53,
    "start_time": "2022-03-23T20:33:45.949Z"
   },
   {
    "duration": 26,
    "start_time": "2022-03-23T20:33:46.032Z"
   },
   {
    "duration": 456,
    "start_time": "2022-03-23T20:33:46.060Z"
   },
   {
    "duration": 35,
    "start_time": "2022-03-23T20:33:46.518Z"
   },
   {
    "duration": 19,
    "start_time": "2022-03-23T20:33:46.555Z"
   },
   {
    "duration": 28,
    "start_time": "2022-03-23T20:33:46.576Z"
   },
   {
    "duration": 27,
    "start_time": "2022-03-23T20:33:46.632Z"
   },
   {
    "duration": 5,
    "start_time": "2022-03-23T20:33:46.661Z"
   },
   {
    "duration": 11,
    "start_time": "2022-03-23T20:33:46.668Z"
   },
   {
    "duration": 9,
    "start_time": "2022-03-23T20:33:46.681Z"
   },
   {
    "duration": 16,
    "start_time": "2022-03-23T20:33:46.691Z"
   },
   {
    "duration": 25,
    "start_time": "2022-03-23T20:33:46.709Z"
   },
   {
    "duration": 6,
    "start_time": "2022-03-23T20:33:46.736Z"
   },
   {
    "duration": 10,
    "start_time": "2022-03-23T20:33:46.744Z"
   },
   {
    "duration": 7,
    "start_time": "2022-03-23T20:34:01.402Z"
   },
   {
    "duration": 70,
    "start_time": "2022-03-23T20:34:06.788Z"
   },
   {
    "duration": 4,
    "start_time": "2022-03-23T20:34:30.647Z"
   },
   {
    "duration": 630,
    "start_time": "2022-03-23T20:36:18.796Z"
   },
   {
    "duration": 162,
    "start_time": "2022-03-23T20:38:33.816Z"
   },
   {
    "duration": 20,
    "start_time": "2022-03-23T20:43:23.105Z"
   },
   {
    "duration": 21,
    "start_time": "2022-03-23T20:43:34.398Z"
   },
   {
    "duration": 21,
    "start_time": "2022-03-23T20:43:47.278Z"
   },
   {
    "duration": 1333,
    "start_time": "2022-03-23T20:52:21.111Z"
   },
   {
    "duration": 46,
    "start_time": "2022-03-23T20:52:22.447Z"
   },
   {
    "duration": 20,
    "start_time": "2022-03-23T20:52:22.495Z"
   },
   {
    "duration": 56,
    "start_time": "2022-03-23T20:52:22.518Z"
   },
   {
    "duration": 12,
    "start_time": "2022-03-23T20:52:22.576Z"
   },
   {
    "duration": 9,
    "start_time": "2022-03-23T20:52:22.589Z"
   },
   {
    "duration": 56,
    "start_time": "2022-03-23T20:52:22.600Z"
   },
   {
    "duration": 9,
    "start_time": "2022-03-23T20:52:22.658Z"
   },
   {
    "duration": 7,
    "start_time": "2022-03-23T20:52:22.670Z"
   },
   {
    "duration": 114,
    "start_time": "2022-03-23T20:52:22.682Z"
   },
   {
    "duration": 10,
    "start_time": "2022-03-23T20:52:22.798Z"
   },
   {
    "duration": 31,
    "start_time": "2022-03-23T20:52:22.810Z"
   },
   {
    "duration": 6,
    "start_time": "2022-03-23T20:52:22.843Z"
   },
   {
    "duration": 48,
    "start_time": "2022-03-23T20:52:22.851Z"
   },
   {
    "duration": 31,
    "start_time": "2022-03-23T20:52:22.902Z"
   },
   {
    "duration": 18,
    "start_time": "2022-03-23T20:52:22.935Z"
   },
   {
    "duration": 17,
    "start_time": "2022-03-23T20:52:22.955Z"
   },
   {
    "duration": 7,
    "start_time": "2022-03-23T20:52:22.974Z"
   },
   {
    "duration": 13,
    "start_time": "2022-03-23T20:52:22.983Z"
   },
   {
    "duration": 16,
    "start_time": "2022-03-23T20:52:23.031Z"
   },
   {
    "duration": 17,
    "start_time": "2022-03-23T20:52:23.049Z"
   },
   {
    "duration": 10,
    "start_time": "2022-03-23T20:52:23.068Z"
   },
   {
    "duration": 17,
    "start_time": "2022-03-23T20:52:23.080Z"
   },
   {
    "duration": 53,
    "start_time": "2022-03-23T20:52:23.099Z"
   },
   {
    "duration": 40,
    "start_time": "2022-03-23T20:52:23.154Z"
   },
   {
    "duration": 364,
    "start_time": "2022-03-23T20:52:23.196Z"
   },
   {
    "duration": 17,
    "start_time": "2022-03-23T20:52:23.562Z"
   },
   {
    "duration": 16,
    "start_time": "2022-03-23T20:52:23.583Z"
   },
   {
    "duration": 6,
    "start_time": "2022-03-23T20:52:23.601Z"
   },
   {
    "duration": 478,
    "start_time": "2022-03-23T20:52:23.610Z"
   },
   {
    "duration": 541,
    "start_time": "2022-03-23T20:52:24.091Z"
   },
   {
    "duration": 6,
    "start_time": "2022-03-23T20:52:24.635Z"
   },
   {
    "duration": 24,
    "start_time": "2022-03-23T20:52:24.644Z"
   },
   {
    "duration": 14,
    "start_time": "2022-03-23T20:52:24.670Z"
   },
   {
    "duration": 206,
    "start_time": "2022-03-23T20:52:24.686Z"
   },
   {
    "duration": 276,
    "start_time": "2022-03-23T20:52:24.893Z"
   },
   {
    "duration": 92,
    "start_time": "2022-03-23T20:52:25.171Z"
   },
   {
    "duration": 39,
    "start_time": "2022-03-23T20:52:25.265Z"
   },
   {
    "duration": 484,
    "start_time": "2022-03-23T20:52:25.306Z"
   },
   {
    "duration": 43,
    "start_time": "2022-03-23T20:52:25.792Z"
   },
   {
    "duration": 22,
    "start_time": "2022-03-23T20:52:25.837Z"
   },
   {
    "duration": 29,
    "start_time": "2022-03-23T20:52:25.861Z"
   },
   {
    "duration": 69,
    "start_time": "2022-03-23T20:52:25.892Z"
   },
   {
    "duration": 6,
    "start_time": "2022-03-23T20:52:25.963Z"
   },
   {
    "duration": 10,
    "start_time": "2022-03-23T20:52:25.971Z"
   },
   {
    "duration": 11,
    "start_time": "2022-03-23T20:52:25.983Z"
   },
   {
    "duration": 12,
    "start_time": "2022-03-23T20:52:25.996Z"
   },
   {
    "duration": 6,
    "start_time": "2022-03-23T20:52:26.032Z"
   },
   {
    "duration": 11,
    "start_time": "2022-03-23T20:52:26.040Z"
   },
   {
    "duration": 7,
    "start_time": "2022-03-23T20:52:26.053Z"
   },
   {
    "duration": 1864,
    "start_time": "2022-03-23T21:11:47.194Z"
   },
   {
    "duration": 55,
    "start_time": "2022-03-23T21:11:49.061Z"
   },
   {
    "duration": 32,
    "start_time": "2022-03-23T21:11:49.119Z"
   },
   {
    "duration": 76,
    "start_time": "2022-03-23T21:11:49.154Z"
   },
   {
    "duration": 15,
    "start_time": "2022-03-23T21:11:49.233Z"
   },
   {
    "duration": 34,
    "start_time": "2022-03-23T21:11:49.250Z"
   },
   {
    "duration": 35,
    "start_time": "2022-03-23T21:11:49.286Z"
   },
   {
    "duration": 11,
    "start_time": "2022-03-23T21:11:49.323Z"
   },
   {
    "duration": 11,
    "start_time": "2022-03-23T21:11:49.336Z"
   },
   {
    "duration": 234,
    "start_time": "2022-03-23T21:11:49.350Z"
   },
   {
    "duration": 20,
    "start_time": "2022-03-23T21:11:49.587Z"
   },
   {
    "duration": 29,
    "start_time": "2022-03-23T21:11:49.611Z"
   },
   {
    "duration": 40,
    "start_time": "2022-03-23T21:11:49.644Z"
   },
   {
    "duration": 50,
    "start_time": "2022-03-23T21:11:49.689Z"
   },
   {
    "duration": 15,
    "start_time": "2022-03-23T21:11:49.742Z"
   },
   {
    "duration": 36,
    "start_time": "2022-03-23T21:11:49.760Z"
   },
   {
    "duration": 31,
    "start_time": "2022-03-23T21:11:49.798Z"
   },
   {
    "duration": 9,
    "start_time": "2022-03-23T21:11:49.832Z"
   },
   {
    "duration": 52,
    "start_time": "2022-03-23T21:11:49.844Z"
   },
   {
    "duration": 32,
    "start_time": "2022-03-23T21:11:49.899Z"
   },
   {
    "duration": 48,
    "start_time": "2022-03-23T21:11:49.934Z"
   },
   {
    "duration": 10,
    "start_time": "2022-03-23T21:11:49.984Z"
   },
   {
    "duration": 21,
    "start_time": "2022-03-23T21:11:49.996Z"
   },
   {
    "duration": 32,
    "start_time": "2022-03-23T21:11:50.020Z"
   },
   {
    "duration": 80,
    "start_time": "2022-03-23T21:11:50.055Z"
   },
   {
    "duration": 512,
    "start_time": "2022-03-23T21:11:50.139Z"
   },
   {
    "duration": 20,
    "start_time": "2022-03-23T21:11:50.654Z"
   },
   {
    "duration": 17,
    "start_time": "2022-03-23T21:11:50.676Z"
   },
   {
    "duration": 8,
    "start_time": "2022-03-23T21:11:50.696Z"
   },
   {
    "duration": 666,
    "start_time": "2022-03-23T21:11:50.706Z"
   },
   {
    "duration": 640,
    "start_time": "2022-03-23T21:11:59.344Z"
   },
   {
    "duration": 1234,
    "start_time": "2022-03-23T22:39:12.577Z"
   },
   {
    "duration": 47,
    "start_time": "2022-03-23T22:39:13.814Z"
   },
   {
    "duration": 28,
    "start_time": "2022-03-23T22:39:13.863Z"
   },
   {
    "duration": 61,
    "start_time": "2022-03-23T22:39:13.894Z"
   },
   {
    "duration": 17,
    "start_time": "2022-03-23T22:39:13.957Z"
   },
   {
    "duration": 9,
    "start_time": "2022-03-23T22:39:13.976Z"
   },
   {
    "duration": 60,
    "start_time": "2022-03-23T22:39:13.987Z"
   },
   {
    "duration": 12,
    "start_time": "2022-03-23T22:39:14.049Z"
   },
   {
    "duration": 7,
    "start_time": "2022-03-23T22:39:14.063Z"
   },
   {
    "duration": 122,
    "start_time": "2022-03-23T22:39:14.072Z"
   },
   {
    "duration": 11,
    "start_time": "2022-03-23T22:39:14.196Z"
   },
   {
    "duration": 32,
    "start_time": "2022-03-23T22:39:14.209Z"
   },
   {
    "duration": 6,
    "start_time": "2022-03-23T22:39:14.244Z"
   },
   {
    "duration": 30,
    "start_time": "2022-03-23T22:39:14.252Z"
   },
   {
    "duration": 20,
    "start_time": "2022-03-23T22:39:14.284Z"
   },
   {
    "duration": 39,
    "start_time": "2022-03-23T22:39:14.306Z"
   },
   {
    "duration": 16,
    "start_time": "2022-03-23T22:39:14.347Z"
   },
   {
    "duration": 8,
    "start_time": "2022-03-23T22:39:14.365Z"
   },
   {
    "duration": 11,
    "start_time": "2022-03-23T22:39:14.374Z"
   },
   {
    "duration": 49,
    "start_time": "2022-03-23T22:39:14.387Z"
   },
   {
    "duration": 18,
    "start_time": "2022-03-23T22:39:14.438Z"
   },
   {
    "duration": 10,
    "start_time": "2022-03-23T22:39:14.458Z"
   },
   {
    "duration": 20,
    "start_time": "2022-03-23T22:39:14.470Z"
   },
   {
    "duration": 45,
    "start_time": "2022-03-23T22:39:14.492Z"
   },
   {
    "duration": 41,
    "start_time": "2022-03-23T22:39:14.540Z"
   },
   {
    "duration": 371,
    "start_time": "2022-03-23T22:39:14.583Z"
   },
   {
    "duration": 15,
    "start_time": "2022-03-23T22:39:14.956Z"
   },
   {
    "duration": 17,
    "start_time": "2022-03-23T22:39:14.975Z"
   },
   {
    "duration": 5,
    "start_time": "2022-03-23T22:39:14.995Z"
   },
   {
    "duration": 523,
    "start_time": "2022-03-23T22:39:15.002Z"
   },
   {
    "duration": 286,
    "start_time": "2022-03-23T22:39:15.526Z"
   },
   {
    "duration": 6,
    "start_time": "2022-03-23T22:39:15.814Z"
   },
   {
    "duration": 30,
    "start_time": "2022-03-23T22:39:15.822Z"
   },
   {
    "duration": 24,
    "start_time": "2022-03-23T22:39:15.854Z"
   },
   {
    "duration": 265,
    "start_time": "2022-03-23T22:39:15.880Z"
   },
   {
    "duration": 191,
    "start_time": "2022-03-23T22:39:16.146Z"
   },
   {
    "duration": 55,
    "start_time": "2022-03-23T22:39:16.340Z"
   },
   {
    "duration": 44,
    "start_time": "2022-03-23T22:39:16.397Z"
   },
   {
    "duration": 601,
    "start_time": "2022-03-23T22:39:16.443Z"
   },
   {
    "duration": 32,
    "start_time": "2022-03-23T22:39:17.045Z"
   },
   {
    "duration": 22,
    "start_time": "2022-03-23T22:39:17.079Z"
   },
   {
    "duration": 43,
    "start_time": "2022-03-23T22:39:17.103Z"
   },
   {
    "duration": 31,
    "start_time": "2022-03-23T22:39:17.148Z"
   },
   {
    "duration": 6,
    "start_time": "2022-03-23T22:39:17.180Z"
   },
   {
    "duration": 9,
    "start_time": "2022-03-23T22:39:17.188Z"
   },
   {
    "duration": 9,
    "start_time": "2022-03-23T22:39:17.198Z"
   },
   {
    "duration": 12,
    "start_time": "2022-03-23T22:39:17.209Z"
   },
   {
    "duration": 11,
    "start_time": "2022-03-23T22:39:17.223Z"
   },
   {
    "duration": 9,
    "start_time": "2022-03-23T22:39:17.236Z"
   },
   {
    "duration": 11,
    "start_time": "2022-03-23T22:39:17.247Z"
   }
  ],
  "kernelspec": {
   "display_name": "Python 3 (ipykernel)",
   "language": "python",
   "name": "python3"
  },
  "language_info": {
   "codemirror_mode": {
    "name": "ipython",
    "version": 3
   },
   "file_extension": ".py",
   "mimetype": "text/x-python",
   "name": "python",
   "nbconvert_exporter": "python",
   "pygments_lexer": "ipython3",
   "version": "3.9.5"
  },
  "toc": {
   "base_numbering": 1,
   "nav_menu": {},
   "number_sections": true,
   "sideBar": true,
   "skip_h1_title": true,
   "title_cell": "Table of Contents",
   "title_sidebar": "Contents",
   "toc_cell": false,
   "toc_position": {
    "height": "calc(100% - 180px)",
    "left": "10px",
    "top": "150px",
    "width": "302.391px"
   },
   "toc_section_display": true,
   "toc_window_display": true
  }
 },
 "nbformat": 4,
 "nbformat_minor": 2
}
