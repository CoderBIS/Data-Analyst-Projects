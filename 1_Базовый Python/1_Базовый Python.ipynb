{
 "cells": [
  {
   "cell_type": "markdown",
   "metadata": {
    "id": "E0vqbgi9ay0H"
   },
   "source": [
    "# Яндекс.Музыка"
   ]
  },
  {
   "cell_type": "markdown",
   "metadata": {
    "id": "VUC88oWjTJw2"
   },
   "source": [
    "Сравнение Москвы и Петербурга окружено мифами. Например:\n",
    " * Москва — мегаполис, подчинённый жёсткому ритму рабочей недели;\n",
    " * Петербург — культурная столица, со своими вкусами.\n",
    "\n",
    "На данных Яндекс.Музыки вы сравните поведение пользователей двух столиц.\n",
    "\n",
    "**Цель исследования** — проверьте три гипотезы:\n",
    "1. Активность пользователей зависит от дня недели. Причём в Москве и Петербурге это проявляется по-разному.\n",
    "2. В понедельник утром в Москве преобладают одни жанры, а в Петербурге — другие. Так же и вечером пятницы преобладают разные жанры — в зависимости от города. \n",
    "3. Москва и Петербург предпочитают разные жанры музыки. В Москве чаще слушают поп-музыку, в Петербурге — русский рэп.\n",
    "\n",
    "**Ход исследования**\n",
    "\n",
    "Данные о поведении пользователей вы получите из файла `yandex_music_project.csv`. О качестве данных ничего не известно. Поэтому перед проверкой гипотез понадобится обзор данных. \n",
    "\n",
    "Вы проверите данные на ошибки и оцените их влияние на исследование. Затем, на этапе предобработки вы поищете возможность исправить самые критичные ошибки данных.\n",
    " \n",
    "Таким образом, исследование пройдёт в три этапа:\n",
    " 1. Обзор данных.\n",
    " 2. Предобработка данных.\n",
    " 3. Проверка гипотез.\n",
    "\n"
   ]
  },
  {
   "cell_type": "markdown",
   "metadata": {
    "id": "Ml1hmfXC_Zcs"
   },
   "source": [
    "## Обзор данных\n",
    "\n",
    "Составьте первое представление о данных Яндекс.Музыки.\n",
    "\n",
    "\n"
   ]
  },
  {
   "cell_type": "markdown",
   "metadata": {
    "id": "57eAOGIz_Zcs"
   },
   "source": [
    "Основной инструмент аналитика — `pandas`. Импортируйте эту библиотеку."
   ]
  },
  {
   "cell_type": "code",
   "execution_count": 155,
   "metadata": {
    "id": "AXN7PHPN_Zcs"
   },
   "outputs": [],
   "source": [
    "import pandas as pd"
   ]
  },
  {
   "cell_type": "markdown",
   "metadata": {
    "id": "SG23P8tt_Zcs"
   },
   "source": [
    "Прочитайте файл `yandex_music_project.csv` из папки `/datasets` и сохраните его в переменной `df`:"
   ]
  },
  {
   "cell_type": "code",
   "execution_count": 156,
   "metadata": {
    "id": "fFVu7vqh_Zct"
   },
   "outputs": [],
   "source": [
    "df = pd.read_csv('/datasets/yandex_music_project.csv')"
   ]
  },
  {
   "cell_type": "markdown",
   "metadata": {
    "id": "rDoOMd3uTqnZ"
   },
   "source": [
    "Выведите на экран первые десять строк таблицы:"
   ]
  },
  {
   "cell_type": "code",
   "execution_count": 157,
   "metadata": {
    "id": "oWTVX3gW_Zct"
   },
   "outputs": [
    {
     "data": {
      "text/html": [
       "<div>\n",
       "<style scoped>\n",
       "    .dataframe tbody tr th:only-of-type {\n",
       "        vertical-align: middle;\n",
       "    }\n",
       "\n",
       "    .dataframe tbody tr th {\n",
       "        vertical-align: top;\n",
       "    }\n",
       "\n",
       "    .dataframe thead th {\n",
       "        text-align: right;\n",
       "    }\n",
       "</style>\n",
       "<table border=\"1\" class=\"dataframe\">\n",
       "  <thead>\n",
       "    <tr style=\"text-align: right;\">\n",
       "      <th></th>\n",
       "      <th>userID</th>\n",
       "      <th>Track</th>\n",
       "      <th>artist</th>\n",
       "      <th>genre</th>\n",
       "      <th>City</th>\n",
       "      <th>time</th>\n",
       "      <th>Day</th>\n",
       "    </tr>\n",
       "  </thead>\n",
       "  <tbody>\n",
       "    <tr>\n",
       "      <td>0</td>\n",
       "      <td>FFB692EC</td>\n",
       "      <td>Kamigata To Boots</td>\n",
       "      <td>The Mass Missile</td>\n",
       "      <td>rock</td>\n",
       "      <td>Saint-Petersburg</td>\n",
       "      <td>20:28:33</td>\n",
       "      <td>Wednesday</td>\n",
       "    </tr>\n",
       "    <tr>\n",
       "      <td>1</td>\n",
       "      <td>55204538</td>\n",
       "      <td>Delayed Because of Accident</td>\n",
       "      <td>Andreas Rönnberg</td>\n",
       "      <td>rock</td>\n",
       "      <td>Moscow</td>\n",
       "      <td>14:07:09</td>\n",
       "      <td>Friday</td>\n",
       "    </tr>\n",
       "    <tr>\n",
       "      <td>2</td>\n",
       "      <td>20EC38</td>\n",
       "      <td>Funiculì funiculà</td>\n",
       "      <td>Mario Lanza</td>\n",
       "      <td>pop</td>\n",
       "      <td>Saint-Petersburg</td>\n",
       "      <td>20:58:07</td>\n",
       "      <td>Wednesday</td>\n",
       "    </tr>\n",
       "    <tr>\n",
       "      <td>3</td>\n",
       "      <td>A3DD03C9</td>\n",
       "      <td>Dragons in the Sunset</td>\n",
       "      <td>Fire + Ice</td>\n",
       "      <td>folk</td>\n",
       "      <td>Saint-Petersburg</td>\n",
       "      <td>08:37:09</td>\n",
       "      <td>Monday</td>\n",
       "    </tr>\n",
       "    <tr>\n",
       "      <td>4</td>\n",
       "      <td>E2DC1FAE</td>\n",
       "      <td>Soul People</td>\n",
       "      <td>Space Echo</td>\n",
       "      <td>dance</td>\n",
       "      <td>Moscow</td>\n",
       "      <td>08:34:34</td>\n",
       "      <td>Monday</td>\n",
       "    </tr>\n",
       "    <tr>\n",
       "      <td>5</td>\n",
       "      <td>842029A1</td>\n",
       "      <td>Преданная</td>\n",
       "      <td>IMPERVTOR</td>\n",
       "      <td>rusrap</td>\n",
       "      <td>Saint-Petersburg</td>\n",
       "      <td>13:09:41</td>\n",
       "      <td>Friday</td>\n",
       "    </tr>\n",
       "    <tr>\n",
       "      <td>6</td>\n",
       "      <td>4CB90AA5</td>\n",
       "      <td>True</td>\n",
       "      <td>Roman Messer</td>\n",
       "      <td>dance</td>\n",
       "      <td>Moscow</td>\n",
       "      <td>13:00:07</td>\n",
       "      <td>Wednesday</td>\n",
       "    </tr>\n",
       "    <tr>\n",
       "      <td>7</td>\n",
       "      <td>F03E1C1F</td>\n",
       "      <td>Feeling This Way</td>\n",
       "      <td>Polina Griffith</td>\n",
       "      <td>dance</td>\n",
       "      <td>Moscow</td>\n",
       "      <td>20:47:49</td>\n",
       "      <td>Wednesday</td>\n",
       "    </tr>\n",
       "    <tr>\n",
       "      <td>8</td>\n",
       "      <td>8FA1D3BE</td>\n",
       "      <td>И вновь продолжается бой</td>\n",
       "      <td>NaN</td>\n",
       "      <td>ruspop</td>\n",
       "      <td>Moscow</td>\n",
       "      <td>09:17:40</td>\n",
       "      <td>Friday</td>\n",
       "    </tr>\n",
       "    <tr>\n",
       "      <td>9</td>\n",
       "      <td>E772D5C0</td>\n",
       "      <td>Pessimist</td>\n",
       "      <td>NaN</td>\n",
       "      <td>dance</td>\n",
       "      <td>Saint-Petersburg</td>\n",
       "      <td>21:20:49</td>\n",
       "      <td>Wednesday</td>\n",
       "    </tr>\n",
       "  </tbody>\n",
       "</table>\n",
       "</div>"
      ],
      "text/plain": [
       "     userID                        Track            artist   genre  \\\n",
       "0  FFB692EC            Kamigata To Boots  The Mass Missile    rock   \n",
       "1  55204538  Delayed Because of Accident  Andreas Rönnberg    rock   \n",
       "2    20EC38            Funiculì funiculà       Mario Lanza     pop   \n",
       "3  A3DD03C9        Dragons in the Sunset        Fire + Ice    folk   \n",
       "4  E2DC1FAE                  Soul People        Space Echo   dance   \n",
       "5  842029A1                    Преданная         IMPERVTOR  rusrap   \n",
       "6  4CB90AA5                         True      Roman Messer   dance   \n",
       "7  F03E1C1F             Feeling This Way   Polina Griffith   dance   \n",
       "8  8FA1D3BE     И вновь продолжается бой               NaN  ruspop   \n",
       "9  E772D5C0                    Pessimist               NaN   dance   \n",
       "\n",
       "             City        time        Day  \n",
       "0  Saint-Petersburg  20:28:33  Wednesday  \n",
       "1            Moscow  14:07:09     Friday  \n",
       "2  Saint-Petersburg  20:58:07  Wednesday  \n",
       "3  Saint-Petersburg  08:37:09     Monday  \n",
       "4            Moscow  08:34:34     Monday  \n",
       "5  Saint-Petersburg  13:09:41     Friday  \n",
       "6            Moscow  13:00:07  Wednesday  \n",
       "7            Moscow  20:47:49  Wednesday  \n",
       "8            Moscow  09:17:40     Friday  \n",
       "9  Saint-Petersburg  21:20:49  Wednesday  "
      ]
     },
     "execution_count": 157,
     "metadata": {},
     "output_type": "execute_result"
    }
   ],
   "source": [
    "df.head(10) # получение первых 10 строк таблицы df"
   ]
  },
  {
   "cell_type": "markdown",
   "metadata": {
    "id": "EO73Kwic_Zct"
   },
   "source": [
    "Одной командой получить общую информацию о таблице:"
   ]
  },
  {
   "cell_type": "code",
   "execution_count": 158,
   "metadata": {
    "id": "DSf2kIb-_Zct"
   },
   "outputs": [
    {
     "name": "stdout",
     "output_type": "stream",
     "text": [
      "<class 'pandas.core.frame.DataFrame'>\n",
      "RangeIndex: 65079 entries, 0 to 65078\n",
      "Data columns (total 7 columns):\n",
      "  userID    65079 non-null object\n",
      "Track       63848 non-null object\n",
      "artist      57876 non-null object\n",
      "genre       63881 non-null object\n",
      "  City      65079 non-null object\n",
      "time        65079 non-null object\n",
      "Day         65079 non-null object\n",
      "dtypes: object(7)\n",
      "memory usage: 3.5+ MB\n"
     ]
    }
   ],
   "source": [
    "df.info() # получение общей информации о данных в таблице df"
   ]
  },
  {
   "cell_type": "markdown",
   "metadata": {
    "id": "TaQ2Iwbr_Zct"
   },
   "source": [
    "Итак, в таблице семь столбцов. Тип данных во всех столбцах — `object`.\n",
    "\n",
    "Согласно документации к данным:\n",
    "* `userID` — идентификатор пользователя;\n",
    "* `Track` — название трека;  \n",
    "* `artist` — имя исполнителя;\n",
    "* `genre` — название жанра;\n",
    "* `City` — город пользователя;\n",
    "* `time` — время начала прослушивания;\n",
    "* `Day` — день недели.\n",
    "\n",
    "В названиях колонок видны три нарушения стиля:\n",
    "1. Строчные буквы сочетаются с прописными.\n",
    "2. Встречаются пробелы.\n",
    "3. Недостаточная информативность названий колонок.\n",
    "\n",
    "\n",
    "\n",
    "Количество значений в столбцах различается. Значит, в данных есть пропущенные значения.\n"
   ]
  },
  {
   "cell_type": "markdown",
   "metadata": {
    "id": "MCB6-dXG_Zct"
   },
   "source": [
    "**Выводы**\n",
    "\n",
    "В каждой строке таблицы — данные о прослушанном треке. Часть колонок описывает саму композицию: название, исполнителя и жанр. Остальные данные рассказывают о пользователе: из какого он города, когда он слушал музыку. \n",
    "\n",
    "Предварительно можно утверждать, что, данных достаточно для проверки гипотез. Но встречаются пропуски в данных, а в названиях колонок — расхождения с хорошим стилем.\n",
    "\n",
    "Чтобы двигаться дальше, нужно устранить проблемы в данных."
   ]
  },
  {
   "cell_type": "markdown",
   "metadata": {
    "id": "SjYF6Ub9_Zct"
   },
   "source": [
    "## Предобработка данных\n",
    "Исправьте стиль в заголовках столбцов, исключите пропуски. Затем проверьте данные на дубликаты."
   ]
  },
  {
   "cell_type": "markdown",
   "metadata": {
    "id": "dIaKXr29_Zct"
   },
   "source": [
    "### Стиль заголовков\n",
    "Выведите на экран названия столбцов:"
   ]
  },
  {
   "cell_type": "code",
   "execution_count": 159,
   "metadata": {
    "id": "oKOTdF_Q_Zct"
   },
   "outputs": [
    {
     "data": {
      "text/plain": [
       "Index(['  userID', 'Track', 'artist', 'genre', '  City  ', 'time', 'Day'], dtype='object')"
      ]
     },
     "execution_count": 159,
     "metadata": {},
     "output_type": "execute_result"
    }
   ],
   "source": [
    "df.columns # перечень названий столбцов таблицы df"
   ]
  },
  {
   "cell_type": "markdown",
   "metadata": {
    "id": "zj5534cv_Zct"
   },
   "source": [
    "Приведите названия в соответствие с хорошим стилем:\n",
    "* несколько слов в названии запишите в «змеином_регистре»,\n",
    "* все символы сделайте строчными,\n",
    "* устраните пробелы.\n",
    "\n",
    "Для этого переименуйте колонки так:\n",
    "* `'  userID'` → `'user_id'`;\n",
    "* `'Track'` → `'track'`;\n",
    "* `'  City  '` → `'city'`;\n",
    "* `'Day'` → `'day'`."
   ]
  },
  {
   "cell_type": "code",
   "execution_count": 160,
   "metadata": {
    "id": "ISlFqs5y_Zct"
   },
   "outputs": [],
   "source": [
    "df = df.rename(columns={'  userID': 'user_id', 'Track': 'track', 'genre': 'genre_name', '  City  ': 'city', 'Day': 'day'}) # переименование столбцов"
   ]
  },
  {
   "cell_type": "markdown",
   "metadata": {
    "id": "1dqbh00J_Zct"
   },
   "source": [
    "Проверьте результат. Для этого ещё раз выведите на экран названия столбцов:"
   ]
  },
  {
   "cell_type": "code",
   "execution_count": 161,
   "metadata": {
    "id": "d4NOAmTW_Zct"
   },
   "outputs": [
    {
     "data": {
      "text/plain": [
       "Index(['user_id', 'track', 'artist', 'genre_name', 'city', 'time', 'day'], dtype='object')"
      ]
     },
     "execution_count": 161,
     "metadata": {},
     "output_type": "execute_result"
    }
   ],
   "source": [
    "df.columns # проверка результатов - перечень названий столбцов"
   ]
  },
  {
   "cell_type": "markdown",
   "metadata": {
    "id": "5ISfbcfY_Zct"
   },
   "source": [
    "### Пропуски значений\n",
    "Сначала посчитайте, сколько в таблице пропущенных значений. Для этого достаточно двух методов `pandas`:"
   ]
  },
  {
   "cell_type": "code",
   "execution_count": 162,
   "metadata": {
    "id": "RskX29qr_Zct"
   },
   "outputs": [
    {
     "data": {
      "text/plain": [
       "user_id          0\n",
       "track         1231\n",
       "artist        7203\n",
       "genre_name    1198\n",
       "city             0\n",
       "time             0\n",
       "day              0\n",
       "dtype: int64"
      ]
     },
     "execution_count": 162,
     "metadata": {},
     "output_type": "execute_result"
    }
   ],
   "source": [
    "df.isna().sum() # подсчёт пропусков"
   ]
  },
  {
   "cell_type": "markdown",
   "metadata": {
    "id": "qubhgnlO_Zct"
   },
   "source": [
    "Не все пропущенные значения влияют на исследование. Так в `track` и `artist` пропуски не важны для вашей работы. Достаточно заменить их явными обозначениями.\n",
    "\n",
    "Но пропуски в `genre` могут помешать сравнению музыкальных вкусов в Москве и Санкт-Петербурге. На практике было бы правильно установить причину пропусков и восстановить данные. Такой возможности нет в учебном проекте. Придётся:\n",
    "* заполнить и эти пропуски явными обозначениями,\n",
    "* оценить, насколько они повредят расчётам. "
   ]
  },
  {
   "cell_type": "markdown",
   "metadata": {
    "id": "fSv2laPA_Zct"
   },
   "source": [
    "Замените пропущенные значения в столбцах `track`, `artist` и `genre` на строку `'unknown'`. Для этого создайте список `columns_to_replace`, переберите его элементы циклом `for` и для каждого столбца выполните замену пропущенных значений:"
   ]
  },
  {
   "cell_type": "code",
   "execution_count": 163,
   "metadata": {
    "id": "KplB5qWs_Zct"
   },
   "outputs": [],
   "source": [
    "columns_to_replace = ['track', 'artist', 'genre_name'] # перебор названий столбцов в цикле и замена пропущенных значений на 'unknown'\n",
    "for column in columns_to_replace:\n",
    "    df[column] = df[column].fillna('unknown')"
   ]
  },
  {
   "cell_type": "markdown",
   "metadata": {
    "id": "Ilsm-MZo_Zct"
   },
   "source": [
    "Убедитесь, что в таблице не осталось пропусков. Для этого ещё раз посчитайте пропущенные значения."
   ]
  },
  {
   "cell_type": "code",
   "execution_count": 164,
   "metadata": {
    "id": "Tq4nYRX4_Zct"
   },
   "outputs": [
    {
     "data": {
      "text/plain": [
       "user_id       0\n",
       "track         0\n",
       "artist        0\n",
       "genre_name    0\n",
       "city          0\n",
       "time          0\n",
       "day           0\n",
       "dtype: int64"
      ]
     },
     "execution_count": 164,
     "metadata": {},
     "output_type": "execute_result"
    }
   ],
   "source": [
    "df.isna().sum() # подсчёт пропусков"
   ]
  },
  {
   "cell_type": "markdown",
   "metadata": {
    "id": "BWKRtBJ3_Zct"
   },
   "source": [
    "### Дубликаты\n",
    "Посчитайте явные дубликаты в таблице одной командой:"
   ]
  },
  {
   "cell_type": "code",
   "execution_count": 165,
   "metadata": {
    "id": "36eES_S0_Zct"
   },
   "outputs": [
    {
     "data": {
      "text/plain": [
       "3826"
      ]
     },
     "execution_count": 165,
     "metadata": {},
     "output_type": "execute_result"
    }
   ],
   "source": [
    "df.duplicated().sum() # подсчёт явных дубликатов"
   ]
  },
  {
   "cell_type": "markdown",
   "metadata": {
    "id": "Ot25h6XR_Zct"
   },
   "source": [
    "Вызовите специальный метод `pandas`, чтобы удалить явные дубликаты:"
   ]
  },
  {
   "cell_type": "code",
   "execution_count": 166,
   "metadata": {
    "id": "exFHq6tt_Zct"
   },
   "outputs": [],
   "source": [
    "df = df.drop_duplicates().reset_index(drop=True) # удаление явных дубликатов (с удалением старых индексов и формированием новых)"
   ]
  },
  {
   "cell_type": "markdown",
   "metadata": {
    "id": "Im2YwBEG_Zct"
   },
   "source": [
    "Ещё раз посчитайте явные дубликаты в таблице — убедитесь, что полностью от них избавились:"
   ]
  },
  {
   "cell_type": "code",
   "execution_count": 167,
   "metadata": {
    "id": "-8PuNWQ0_Zct"
   },
   "outputs": [
    {
     "data": {
      "text/plain": [
       "0"
      ]
     },
     "execution_count": 167,
     "metadata": {},
     "output_type": "execute_result"
    }
   ],
   "source": [
    "df.duplicated().sum() # проверка на отсутствие дубликатов"
   ]
  },
  {
   "cell_type": "markdown",
   "metadata": {
    "id": "QlFBsxAr_Zct"
   },
   "source": [
    "Теперь избавьтесь от неявных дубликатов в колонке `genre`. Например, название одного и того же жанра может быть записано немного по-разному. Такие ошибки тоже повлияют на результат исследования."
   ]
  },
  {
   "cell_type": "markdown",
   "metadata": {
    "id": "eSjWwsOh_Zct"
   },
   "source": [
    "Выведите на экран список уникальных названий жанров, отсортированный в алфавитном порядке. Для этого:\n",
    "* извлеките нужный столбец датафрейма, \n",
    "* примените к нему метод сортировки,\n",
    "* для отсортированного столбца вызовите метод, который вернёт уникальные значения из столбца."
   ]
  },
  {
   "cell_type": "code",
   "execution_count": 168,
   "metadata": {
    "id": "JIUcqzZN_Zct"
   },
   "outputs": [
    {
     "data": {
      "text/plain": [
       "['acid',\n",
       " 'acoustic',\n",
       " 'action',\n",
       " 'adult',\n",
       " 'africa',\n",
       " 'afrikaans',\n",
       " 'alternative',\n",
       " 'alternativepunk',\n",
       " 'ambient',\n",
       " 'americana',\n",
       " 'animated',\n",
       " 'anime',\n",
       " 'arabesk',\n",
       " 'arabic',\n",
       " 'arena',\n",
       " 'argentinetango',\n",
       " 'art',\n",
       " 'audiobook',\n",
       " 'author',\n",
       " 'avantgarde',\n",
       " 'axé',\n",
       " 'baile',\n",
       " 'balkan',\n",
       " 'beats',\n",
       " 'bigroom',\n",
       " 'black',\n",
       " 'bluegrass',\n",
       " 'blues',\n",
       " 'bollywood',\n",
       " 'bossa',\n",
       " 'brazilian',\n",
       " 'breakbeat',\n",
       " 'breaks',\n",
       " 'broadway',\n",
       " 'cantautori',\n",
       " 'cantopop',\n",
       " 'canzone',\n",
       " 'caribbean',\n",
       " 'caucasian',\n",
       " 'celtic',\n",
       " 'chamber',\n",
       " 'chanson',\n",
       " 'children',\n",
       " 'chill',\n",
       " 'chinese',\n",
       " 'choral',\n",
       " 'christian',\n",
       " 'christmas',\n",
       " 'classical',\n",
       " 'classicmetal',\n",
       " 'club',\n",
       " 'colombian',\n",
       " 'comedy',\n",
       " 'conjazz',\n",
       " 'contemporary',\n",
       " 'country',\n",
       " 'cuban',\n",
       " 'dance',\n",
       " 'dancehall',\n",
       " 'dancepop',\n",
       " 'dark',\n",
       " 'death',\n",
       " 'deep',\n",
       " 'deutschrock',\n",
       " 'deutschspr',\n",
       " 'dirty',\n",
       " 'disco',\n",
       " 'dnb',\n",
       " 'documentary',\n",
       " 'downbeat',\n",
       " 'downtempo',\n",
       " 'drum',\n",
       " 'dub',\n",
       " 'dubstep',\n",
       " 'eastern',\n",
       " 'easy',\n",
       " 'electronic',\n",
       " 'electropop',\n",
       " 'emo',\n",
       " 'entehno',\n",
       " 'epicmetal',\n",
       " 'estrada',\n",
       " 'ethnic',\n",
       " 'eurofolk',\n",
       " 'european',\n",
       " 'experimental',\n",
       " 'extrememetal',\n",
       " 'fado',\n",
       " 'fairytail',\n",
       " 'film',\n",
       " 'fitness',\n",
       " 'flamenco',\n",
       " 'folk',\n",
       " 'folklore',\n",
       " 'folkmetal',\n",
       " 'folkrock',\n",
       " 'folktronica',\n",
       " 'forró',\n",
       " 'frankreich',\n",
       " 'französisch',\n",
       " 'french',\n",
       " 'funk',\n",
       " 'future',\n",
       " 'gangsta',\n",
       " 'garage',\n",
       " 'german',\n",
       " 'ghazal',\n",
       " 'gitarre',\n",
       " 'glitch',\n",
       " 'gospel',\n",
       " 'gothic',\n",
       " 'grime',\n",
       " 'grunge',\n",
       " 'gypsy',\n",
       " 'handsup',\n",
       " \"hard'n'heavy\",\n",
       " 'hardcore',\n",
       " 'hardstyle',\n",
       " 'hardtechno',\n",
       " 'hip',\n",
       " 'hip-hop',\n",
       " 'hiphop',\n",
       " 'historisch',\n",
       " 'holiday',\n",
       " 'hop',\n",
       " 'horror',\n",
       " 'house',\n",
       " 'hymn',\n",
       " 'idm',\n",
       " 'independent',\n",
       " 'indian',\n",
       " 'indie',\n",
       " 'indipop',\n",
       " 'industrial',\n",
       " 'inspirational',\n",
       " 'instrumental',\n",
       " 'international',\n",
       " 'irish',\n",
       " 'jam',\n",
       " 'japanese',\n",
       " 'jazz',\n",
       " 'jewish',\n",
       " 'jpop',\n",
       " 'jungle',\n",
       " 'k-pop',\n",
       " 'karadeniz',\n",
       " 'karaoke',\n",
       " 'kayokyoku',\n",
       " 'korean',\n",
       " 'laiko',\n",
       " 'latin',\n",
       " 'latino',\n",
       " 'leftfield',\n",
       " 'local',\n",
       " 'lounge',\n",
       " 'loungeelectronic',\n",
       " 'lovers',\n",
       " 'malaysian',\n",
       " 'mandopop',\n",
       " 'marschmusik',\n",
       " 'meditative',\n",
       " 'mediterranean',\n",
       " 'melodic',\n",
       " 'metal',\n",
       " 'metalcore',\n",
       " 'mexican',\n",
       " 'middle',\n",
       " 'minimal',\n",
       " 'miscellaneous',\n",
       " 'modern',\n",
       " 'mood',\n",
       " 'mpb',\n",
       " 'muslim',\n",
       " 'native',\n",
       " 'neoklassik',\n",
       " 'neue',\n",
       " 'new',\n",
       " 'newage',\n",
       " 'newwave',\n",
       " 'nu',\n",
       " 'nujazz',\n",
       " 'numetal',\n",
       " 'oceania',\n",
       " 'old',\n",
       " 'opera',\n",
       " 'orchestral',\n",
       " 'other',\n",
       " 'piano',\n",
       " 'podcasts',\n",
       " 'pop',\n",
       " 'popdance',\n",
       " 'popelectronic',\n",
       " 'popeurodance',\n",
       " 'poprussian',\n",
       " 'post',\n",
       " 'posthardcore',\n",
       " 'postrock',\n",
       " 'power',\n",
       " 'progmetal',\n",
       " 'progressive',\n",
       " 'psychedelic',\n",
       " 'punjabi',\n",
       " 'punk',\n",
       " 'quebecois',\n",
       " 'ragga',\n",
       " 'ram',\n",
       " 'rancheras',\n",
       " 'rap',\n",
       " 'rave',\n",
       " 'reggae',\n",
       " 'reggaeton',\n",
       " 'regional',\n",
       " 'relax',\n",
       " 'religious',\n",
       " 'retro',\n",
       " 'rhythm',\n",
       " 'rnb',\n",
       " 'rnr',\n",
       " 'rock',\n",
       " 'rockabilly',\n",
       " 'rockalternative',\n",
       " 'rockindie',\n",
       " 'rockother',\n",
       " 'romance',\n",
       " 'roots',\n",
       " 'ruspop',\n",
       " 'rusrap',\n",
       " 'rusrock',\n",
       " 'russian',\n",
       " 'salsa',\n",
       " 'samba',\n",
       " 'scenic',\n",
       " 'schlager',\n",
       " 'self',\n",
       " 'sertanejo',\n",
       " 'shanson',\n",
       " 'shoegazing',\n",
       " 'showtunes',\n",
       " 'singer',\n",
       " 'ska',\n",
       " 'skarock',\n",
       " 'slow',\n",
       " 'smooth',\n",
       " 'soft',\n",
       " 'soul',\n",
       " 'soulful',\n",
       " 'sound',\n",
       " 'soundtrack',\n",
       " 'southern',\n",
       " 'specialty',\n",
       " 'speech',\n",
       " 'spiritual',\n",
       " 'sport',\n",
       " 'stonerrock',\n",
       " 'surf',\n",
       " 'swing',\n",
       " 'synthpop',\n",
       " 'synthrock',\n",
       " 'sängerportrait',\n",
       " 'tango',\n",
       " 'tanzorchester',\n",
       " 'taraftar',\n",
       " 'tatar',\n",
       " 'tech',\n",
       " 'techno',\n",
       " 'teen',\n",
       " 'thrash',\n",
       " 'top',\n",
       " 'traditional',\n",
       " 'tradjazz',\n",
       " 'trance',\n",
       " 'tribal',\n",
       " 'trip',\n",
       " 'triphop',\n",
       " 'tropical',\n",
       " 'türk',\n",
       " 'türkçe',\n",
       " 'ukrrock',\n",
       " 'unknown',\n",
       " 'urban',\n",
       " 'uzbek',\n",
       " 'variété',\n",
       " 'vi',\n",
       " 'videogame',\n",
       " 'vocal',\n",
       " 'western',\n",
       " 'world',\n",
       " 'worldbeat',\n",
       " 'ïîï',\n",
       " 'электроника']"
      ]
     },
     "execution_count": 168,
     "metadata": {},
     "output_type": "execute_result"
    }
   ],
   "source": [
    "df_genre = sorted(df['genre_name'].unique()) # Просмотр уникальных названий жанров\n",
    "df_genre"
   ]
  },
  {
   "cell_type": "markdown",
   "metadata": {
    "id": "qej-Qmuo_Zct"
   },
   "source": [
    "Просмотрите список и найдите неявные дубликаты названия `hiphop`. Это могут быть названия с ошибками или альтернативные названия того же жанра.\n",
    "\n",
    "Вы увидите следующие неявные дубликаты:\n",
    "* *hip*,\n",
    "* *hop*,\n",
    "* *hip-hop*.\n",
    "\n",
    "Чтобы очистить от них таблицу, напишите функцию `replace_wrong_genres()` с двумя параметрами: \n",
    "* `wrong_genres` — список дубликатов,\n",
    "* `correct_genre` — строка с правильным значением.\n",
    "\n",
    "Функция должна исправить колонку `genre` в таблице `df`: заменить каждое значение из списка `wrong_genres` на значение из `correct_genre`."
   ]
  },
  {
   "cell_type": "code",
   "execution_count": 169,
   "metadata": {
    "id": "ErNDkmns_Zct"
   },
   "outputs": [],
   "source": [
    "# Функция для замены неявных дубликатов\n",
    "def replace_wrong_genres(wrong_genres, correct_genre):\n",
    "    for genre in wrong_genres:\n",
    "        df['genre_name'] = df['genre_name'].replace(genre, correct_genre)\n",
    "    return df"
   ]
  },
  {
   "cell_type": "markdown",
   "metadata": {
    "id": "aDoBJxbA_Zct"
   },
   "source": [
    "Вызовите `replace_wrong_genres()` и передайте ей такие аргументы, чтобы она устранила неявные дубликаты: вместо `hip`, `hop` и `hip-hop` в таблице должно быть значение `hiphop`:"
   ]
  },
  {
   "cell_type": "code",
   "execution_count": 170,
   "metadata": {
    "id": "YN5i2hpmSo09"
   },
   "outputs": [
    {
     "data": {
      "text/html": [
       "<div>\n",
       "<style scoped>\n",
       "    .dataframe tbody tr th:only-of-type {\n",
       "        vertical-align: middle;\n",
       "    }\n",
       "\n",
       "    .dataframe tbody tr th {\n",
       "        vertical-align: top;\n",
       "    }\n",
       "\n",
       "    .dataframe thead th {\n",
       "        text-align: right;\n",
       "    }\n",
       "</style>\n",
       "<table border=\"1\" class=\"dataframe\">\n",
       "  <thead>\n",
       "    <tr style=\"text-align: right;\">\n",
       "      <th></th>\n",
       "      <th>user_id</th>\n",
       "      <th>track</th>\n",
       "      <th>artist</th>\n",
       "      <th>genre_name</th>\n",
       "      <th>city</th>\n",
       "      <th>time</th>\n",
       "      <th>day</th>\n",
       "    </tr>\n",
       "  </thead>\n",
       "  <tbody>\n",
       "    <tr>\n",
       "      <td>0</td>\n",
       "      <td>FFB692EC</td>\n",
       "      <td>Kamigata To Boots</td>\n",
       "      <td>The Mass Missile</td>\n",
       "      <td>rock</td>\n",
       "      <td>Saint-Petersburg</td>\n",
       "      <td>20:28:33</td>\n",
       "      <td>Wednesday</td>\n",
       "    </tr>\n",
       "    <tr>\n",
       "      <td>1</td>\n",
       "      <td>55204538</td>\n",
       "      <td>Delayed Because of Accident</td>\n",
       "      <td>Andreas Rönnberg</td>\n",
       "      <td>rock</td>\n",
       "      <td>Moscow</td>\n",
       "      <td>14:07:09</td>\n",
       "      <td>Friday</td>\n",
       "    </tr>\n",
       "    <tr>\n",
       "      <td>2</td>\n",
       "      <td>20EC38</td>\n",
       "      <td>Funiculì funiculà</td>\n",
       "      <td>Mario Lanza</td>\n",
       "      <td>pop</td>\n",
       "      <td>Saint-Petersburg</td>\n",
       "      <td>20:58:07</td>\n",
       "      <td>Wednesday</td>\n",
       "    </tr>\n",
       "    <tr>\n",
       "      <td>3</td>\n",
       "      <td>A3DD03C9</td>\n",
       "      <td>Dragons in the Sunset</td>\n",
       "      <td>Fire + Ice</td>\n",
       "      <td>folk</td>\n",
       "      <td>Saint-Petersburg</td>\n",
       "      <td>08:37:09</td>\n",
       "      <td>Monday</td>\n",
       "    </tr>\n",
       "    <tr>\n",
       "      <td>4</td>\n",
       "      <td>E2DC1FAE</td>\n",
       "      <td>Soul People</td>\n",
       "      <td>Space Echo</td>\n",
       "      <td>dance</td>\n",
       "      <td>Moscow</td>\n",
       "      <td>08:34:34</td>\n",
       "      <td>Monday</td>\n",
       "    </tr>\n",
       "    <tr>\n",
       "      <td>...</td>\n",
       "      <td>...</td>\n",
       "      <td>...</td>\n",
       "      <td>...</td>\n",
       "      <td>...</td>\n",
       "      <td>...</td>\n",
       "      <td>...</td>\n",
       "      <td>...</td>\n",
       "    </tr>\n",
       "    <tr>\n",
       "      <td>61248</td>\n",
       "      <td>729CBB09</td>\n",
       "      <td>My Name</td>\n",
       "      <td>McLean</td>\n",
       "      <td>rnb</td>\n",
       "      <td>Moscow</td>\n",
       "      <td>13:32:28</td>\n",
       "      <td>Wednesday</td>\n",
       "    </tr>\n",
       "    <tr>\n",
       "      <td>61249</td>\n",
       "      <td>D08D4A55</td>\n",
       "      <td>Maybe One Day (feat. Black Spade)</td>\n",
       "      <td>Blu &amp; Exile</td>\n",
       "      <td>hiphop</td>\n",
       "      <td>Saint-Petersburg</td>\n",
       "      <td>10:00:00</td>\n",
       "      <td>Monday</td>\n",
       "    </tr>\n",
       "    <tr>\n",
       "      <td>61250</td>\n",
       "      <td>C5E3A0D5</td>\n",
       "      <td>Jalopiina</td>\n",
       "      <td>unknown</td>\n",
       "      <td>industrial</td>\n",
       "      <td>Moscow</td>\n",
       "      <td>20:09:26</td>\n",
       "      <td>Friday</td>\n",
       "    </tr>\n",
       "    <tr>\n",
       "      <td>61251</td>\n",
       "      <td>321D0506</td>\n",
       "      <td>Freight Train</td>\n",
       "      <td>Chas McDevitt</td>\n",
       "      <td>rock</td>\n",
       "      <td>Moscow</td>\n",
       "      <td>21:43:59</td>\n",
       "      <td>Friday</td>\n",
       "    </tr>\n",
       "    <tr>\n",
       "      <td>61252</td>\n",
       "      <td>3A64EF84</td>\n",
       "      <td>Tell Me Sweet Little Lies</td>\n",
       "      <td>Monica Lopez</td>\n",
       "      <td>country</td>\n",
       "      <td>Moscow</td>\n",
       "      <td>21:59:46</td>\n",
       "      <td>Friday</td>\n",
       "    </tr>\n",
       "  </tbody>\n",
       "</table>\n",
       "<p>61253 rows × 7 columns</p>\n",
       "</div>"
      ],
      "text/plain": [
       "        user_id                              track            artist  \\\n",
       "0      FFB692EC                  Kamigata To Boots  The Mass Missile   \n",
       "1      55204538        Delayed Because of Accident  Andreas Rönnberg   \n",
       "2        20EC38                  Funiculì funiculà       Mario Lanza   \n",
       "3      A3DD03C9              Dragons in the Sunset        Fire + Ice   \n",
       "4      E2DC1FAE                        Soul People        Space Echo   \n",
       "...         ...                                ...               ...   \n",
       "61248  729CBB09                            My Name            McLean   \n",
       "61249  D08D4A55  Maybe One Day (feat. Black Spade)       Blu & Exile   \n",
       "61250  C5E3A0D5                          Jalopiina           unknown   \n",
       "61251  321D0506                      Freight Train     Chas McDevitt   \n",
       "61252  3A64EF84          Tell Me Sweet Little Lies      Monica Lopez   \n",
       "\n",
       "       genre_name              city      time        day  \n",
       "0            rock  Saint-Petersburg  20:28:33  Wednesday  \n",
       "1            rock            Moscow  14:07:09     Friday  \n",
       "2             pop  Saint-Petersburg  20:58:07  Wednesday  \n",
       "3            folk  Saint-Petersburg  08:37:09     Monday  \n",
       "4           dance            Moscow  08:34:34     Monday  \n",
       "...           ...               ...       ...        ...  \n",
       "61248         rnb            Moscow  13:32:28  Wednesday  \n",
       "61249      hiphop  Saint-Petersburg  10:00:00     Monday  \n",
       "61250  industrial            Moscow  20:09:26     Friday  \n",
       "61251        rock            Moscow  21:43:59     Friday  \n",
       "61252     country            Moscow  21:59:46     Friday  \n",
       "\n",
       "[61253 rows x 7 columns]"
      ]
     },
     "execution_count": 170,
     "metadata": {},
     "output_type": "execute_result"
    }
   ],
   "source": [
    "# Устранение неявных дубликатов\n",
    "df['genre_name'] = df['genre_name'].replace('электроника', 'electronic')\n",
    "wrong_genres = ['hip', 'hop', 'hip-hop']\n",
    "correct_genre = 'hiphop'\n",
    "replace_wrong_genres(wrong_genres, correct_genre)"
   ]
  },
  {
   "cell_type": "markdown",
   "metadata": {
    "id": "zQKF16_RG15m"
   },
   "source": [
    "Проверьте, что заменили неправильные названия:\n",
    "\n",
    "*   hip\n",
    "*   hop\n",
    "*   hip-hop\n",
    "\n",
    "Выведите отсортированный список уникальных значений столбца `genre`:"
   ]
  },
  {
   "cell_type": "code",
   "execution_count": 171,
   "metadata": {
    "id": "wvixALnFG15m"
   },
   "outputs": [
    {
     "data": {
      "text/plain": [
       "['acid',\n",
       " 'acoustic',\n",
       " 'action',\n",
       " 'adult',\n",
       " 'africa',\n",
       " 'afrikaans',\n",
       " 'alternative',\n",
       " 'alternativepunk',\n",
       " 'ambient',\n",
       " 'americana',\n",
       " 'animated',\n",
       " 'anime',\n",
       " 'arabesk',\n",
       " 'arabic',\n",
       " 'arena',\n",
       " 'argentinetango',\n",
       " 'art',\n",
       " 'audiobook',\n",
       " 'author',\n",
       " 'avantgarde',\n",
       " 'axé',\n",
       " 'baile',\n",
       " 'balkan',\n",
       " 'beats',\n",
       " 'bigroom',\n",
       " 'black',\n",
       " 'bluegrass',\n",
       " 'blues',\n",
       " 'bollywood',\n",
       " 'bossa',\n",
       " 'brazilian',\n",
       " 'breakbeat',\n",
       " 'breaks',\n",
       " 'broadway',\n",
       " 'cantautori',\n",
       " 'cantopop',\n",
       " 'canzone',\n",
       " 'caribbean',\n",
       " 'caucasian',\n",
       " 'celtic',\n",
       " 'chamber',\n",
       " 'chanson',\n",
       " 'children',\n",
       " 'chill',\n",
       " 'chinese',\n",
       " 'choral',\n",
       " 'christian',\n",
       " 'christmas',\n",
       " 'classical',\n",
       " 'classicmetal',\n",
       " 'club',\n",
       " 'colombian',\n",
       " 'comedy',\n",
       " 'conjazz',\n",
       " 'contemporary',\n",
       " 'country',\n",
       " 'cuban',\n",
       " 'dance',\n",
       " 'dancehall',\n",
       " 'dancepop',\n",
       " 'dark',\n",
       " 'death',\n",
       " 'deep',\n",
       " 'deutschrock',\n",
       " 'deutschspr',\n",
       " 'dirty',\n",
       " 'disco',\n",
       " 'dnb',\n",
       " 'documentary',\n",
       " 'downbeat',\n",
       " 'downtempo',\n",
       " 'drum',\n",
       " 'dub',\n",
       " 'dubstep',\n",
       " 'eastern',\n",
       " 'easy',\n",
       " 'electronic',\n",
       " 'electropop',\n",
       " 'emo',\n",
       " 'entehno',\n",
       " 'epicmetal',\n",
       " 'estrada',\n",
       " 'ethnic',\n",
       " 'eurofolk',\n",
       " 'european',\n",
       " 'experimental',\n",
       " 'extrememetal',\n",
       " 'fado',\n",
       " 'fairytail',\n",
       " 'film',\n",
       " 'fitness',\n",
       " 'flamenco',\n",
       " 'folk',\n",
       " 'folklore',\n",
       " 'folkmetal',\n",
       " 'folkrock',\n",
       " 'folktronica',\n",
       " 'forró',\n",
       " 'frankreich',\n",
       " 'französisch',\n",
       " 'french',\n",
       " 'funk',\n",
       " 'future',\n",
       " 'gangsta',\n",
       " 'garage',\n",
       " 'german',\n",
       " 'ghazal',\n",
       " 'gitarre',\n",
       " 'glitch',\n",
       " 'gospel',\n",
       " 'gothic',\n",
       " 'grime',\n",
       " 'grunge',\n",
       " 'gypsy',\n",
       " 'handsup',\n",
       " \"hard'n'heavy\",\n",
       " 'hardcore',\n",
       " 'hardstyle',\n",
       " 'hardtechno',\n",
       " 'hiphop',\n",
       " 'historisch',\n",
       " 'holiday',\n",
       " 'horror',\n",
       " 'house',\n",
       " 'hymn',\n",
       " 'idm',\n",
       " 'independent',\n",
       " 'indian',\n",
       " 'indie',\n",
       " 'indipop',\n",
       " 'industrial',\n",
       " 'inspirational',\n",
       " 'instrumental',\n",
       " 'international',\n",
       " 'irish',\n",
       " 'jam',\n",
       " 'japanese',\n",
       " 'jazz',\n",
       " 'jewish',\n",
       " 'jpop',\n",
       " 'jungle',\n",
       " 'k-pop',\n",
       " 'karadeniz',\n",
       " 'karaoke',\n",
       " 'kayokyoku',\n",
       " 'korean',\n",
       " 'laiko',\n",
       " 'latin',\n",
       " 'latino',\n",
       " 'leftfield',\n",
       " 'local',\n",
       " 'lounge',\n",
       " 'loungeelectronic',\n",
       " 'lovers',\n",
       " 'malaysian',\n",
       " 'mandopop',\n",
       " 'marschmusik',\n",
       " 'meditative',\n",
       " 'mediterranean',\n",
       " 'melodic',\n",
       " 'metal',\n",
       " 'metalcore',\n",
       " 'mexican',\n",
       " 'middle',\n",
       " 'minimal',\n",
       " 'miscellaneous',\n",
       " 'modern',\n",
       " 'mood',\n",
       " 'mpb',\n",
       " 'muslim',\n",
       " 'native',\n",
       " 'neoklassik',\n",
       " 'neue',\n",
       " 'new',\n",
       " 'newage',\n",
       " 'newwave',\n",
       " 'nu',\n",
       " 'nujazz',\n",
       " 'numetal',\n",
       " 'oceania',\n",
       " 'old',\n",
       " 'opera',\n",
       " 'orchestral',\n",
       " 'other',\n",
       " 'piano',\n",
       " 'podcasts',\n",
       " 'pop',\n",
       " 'popdance',\n",
       " 'popelectronic',\n",
       " 'popeurodance',\n",
       " 'poprussian',\n",
       " 'post',\n",
       " 'posthardcore',\n",
       " 'postrock',\n",
       " 'power',\n",
       " 'progmetal',\n",
       " 'progressive',\n",
       " 'psychedelic',\n",
       " 'punjabi',\n",
       " 'punk',\n",
       " 'quebecois',\n",
       " 'ragga',\n",
       " 'ram',\n",
       " 'rancheras',\n",
       " 'rap',\n",
       " 'rave',\n",
       " 'reggae',\n",
       " 'reggaeton',\n",
       " 'regional',\n",
       " 'relax',\n",
       " 'religious',\n",
       " 'retro',\n",
       " 'rhythm',\n",
       " 'rnb',\n",
       " 'rnr',\n",
       " 'rock',\n",
       " 'rockabilly',\n",
       " 'rockalternative',\n",
       " 'rockindie',\n",
       " 'rockother',\n",
       " 'romance',\n",
       " 'roots',\n",
       " 'ruspop',\n",
       " 'rusrap',\n",
       " 'rusrock',\n",
       " 'russian',\n",
       " 'salsa',\n",
       " 'samba',\n",
       " 'scenic',\n",
       " 'schlager',\n",
       " 'self',\n",
       " 'sertanejo',\n",
       " 'shanson',\n",
       " 'shoegazing',\n",
       " 'showtunes',\n",
       " 'singer',\n",
       " 'ska',\n",
       " 'skarock',\n",
       " 'slow',\n",
       " 'smooth',\n",
       " 'soft',\n",
       " 'soul',\n",
       " 'soulful',\n",
       " 'sound',\n",
       " 'soundtrack',\n",
       " 'southern',\n",
       " 'specialty',\n",
       " 'speech',\n",
       " 'spiritual',\n",
       " 'sport',\n",
       " 'stonerrock',\n",
       " 'surf',\n",
       " 'swing',\n",
       " 'synthpop',\n",
       " 'synthrock',\n",
       " 'sängerportrait',\n",
       " 'tango',\n",
       " 'tanzorchester',\n",
       " 'taraftar',\n",
       " 'tatar',\n",
       " 'tech',\n",
       " 'techno',\n",
       " 'teen',\n",
       " 'thrash',\n",
       " 'top',\n",
       " 'traditional',\n",
       " 'tradjazz',\n",
       " 'trance',\n",
       " 'tribal',\n",
       " 'trip',\n",
       " 'triphop',\n",
       " 'tropical',\n",
       " 'türk',\n",
       " 'türkçe',\n",
       " 'ukrrock',\n",
       " 'unknown',\n",
       " 'urban',\n",
       " 'uzbek',\n",
       " 'variété',\n",
       " 'vi',\n",
       " 'videogame',\n",
       " 'vocal',\n",
       " 'western',\n",
       " 'world',\n",
       " 'worldbeat',\n",
       " 'ïîï']"
      ]
     },
     "execution_count": 171,
     "metadata": {},
     "output_type": "execute_result"
    }
   ],
   "source": [
    "df_genre = sorted(df['genre_name'].unique()) # Просмотр уникальных названий жанров\n",
    "df_genre # Проверка на неявные дубликаты"
   ]
  },
  {
   "cell_type": "markdown",
   "metadata": {
    "id": "jz6a9-7HQUDd"
   },
   "source": [
    "**Выводы**\n",
    "\n",
    "Предобработка обнаружила три проблемы в данных:\n",
    "\n",
    "- нарушения в стиле заголовков,\n",
    "- пропущенные значения,\n",
    "- дубликаты — явные и неявные.\n",
    "\n",
    "Вы исправили заголовки, чтобы упростить работу с таблицей. Без дубликатов исследование станет более точным.\n",
    "\n",
    "Пропущенные значения вы заменили на `'unknown'`. Ещё предстоит увидеть, не повредят ли исследованию пропуски в колонке `genre`.\n",
    "\n",
    "Теперь можно перейти к проверке гипотез. "
   ]
  },
  {
   "cell_type": "markdown",
   "metadata": {
    "id": "WttZHXH0SqKk"
   },
   "source": [
    "## Проверка гипотез"
   ]
  },
  {
   "cell_type": "markdown",
   "metadata": {
    "id": "Im936VVi_Zcu"
   },
   "source": [
    "### Сравнение поведения пользователей двух столиц"
   ]
  },
  {
   "cell_type": "markdown",
   "metadata": {
    "id": "nwt_MuaL_Zcu"
   },
   "source": [
    "Первая гипотеза утверждает, что пользователи по-разному слушают музыку в Москве и Санкт-Петербурге. Проверьте это предположение по данным о трёх днях недели — понедельнике, среде и пятнице. Для этого:\n",
    "\n",
    "* Разделите пользователей Москвы и Санкт-Петербурга\n",
    "* Сравните, сколько треков послушала каждая группа пользователей в понедельник, среду и пятницу.\n"
   ]
  },
  {
   "cell_type": "markdown",
   "metadata": {
    "id": "8Dw_YMmT_Zcu"
   },
   "source": [
    "Для тренировки сначала выполните каждый из расчётов по отдельности. \n",
    "\n",
    "Оцените активность пользователей в каждом городе. Сгруппируйте данные по городу и посчитайте прослушивания в каждой группе.\n",
    "\n"
   ]
  },
  {
   "cell_type": "code",
   "execution_count": 172,
   "metadata": {
    "id": "0_Qs96oh_Zcu"
   },
   "outputs": [
    {
     "data": {
      "text/plain": [
       "city\n",
       "Moscow              42741\n",
       "Saint-Petersburg    18512\n",
       "Name: genre_name, dtype: int64"
      ]
     },
     "execution_count": 172,
     "metadata": {},
     "output_type": "execute_result"
    }
   ],
   "source": [
    "# Подсчёт прослушиваний в каждом городе\n",
    "df_city_count = df.groupby('city')['genre_name'].count()\n",
    "df_city_count"
   ]
  },
  {
   "cell_type": "markdown",
   "metadata": {
    "id": "dzli3w8o_Zcu"
   },
   "source": [
    "В Москве прослушиваний больше, чем в Петербурге. Из этого не следует, что московские пользователи чаще слушают музыку. Просто самих пользователей в Москве больше.\n",
    "\n",
    "Теперь сгруппируйте данные по дню недели и подсчитайте прослушивания в понедельник, среду и пятницу. Учтите, что в данных есть информация только о прослушиваниях только за эти дни.\n"
   ]
  },
  {
   "cell_type": "code",
   "execution_count": 173,
   "metadata": {
    "id": "uZMKjiJz_Zcu"
   },
   "outputs": [
    {
     "data": {
      "text/plain": [
       "day\n",
       "Friday       21840\n",
       "Monday       21354\n",
       "Wednesday    18059\n",
       "Name: genre_name, dtype: int64"
      ]
     },
     "execution_count": 173,
     "metadata": {},
     "output_type": "execute_result"
    }
   ],
   "source": [
    "# Подсчёт прослушиваний в каждый из трёх дней\n",
    "df_day_count = df.groupby('day')['genre_name'].count()\n",
    "df_day_count"
   ]
  },
  {
   "cell_type": "markdown",
   "metadata": {
    "id": "cC2tNrlL_Zcu"
   },
   "source": [
    "В среднем пользователи из двух городов менее активны по средам. Но картина может измениться, если рассмотреть каждый город в отдельности."
   ]
  },
  {
   "cell_type": "markdown",
   "metadata": {
    "id": "POzs8bGa_Zcu"
   },
   "source": [
    "Вы видели, как работает группировка по городу и по дням недели. Теперь напишите функцию, которая объединит два эти расчёта.\n",
    "\n",
    "Создайте функцию `number_tracks()`, которая посчитает прослушивания для заданного дня и города. Ей понадобятся два параметра:\n",
    "* день недели,\n",
    "* название города.\n",
    "\n",
    "В функции сохраните в переменную строки исходной таблицы, у которых значение:\n",
    "  * в колонке `day` равно параметру `day`,\n",
    "  * в колонке `city` равно параметру `city`.\n",
    "\n",
    "Для этого примените последовательную фильтрацию с логической индексацией.\n",
    "\n",
    "Затем посчитайте значения в столбце `user_id` получившейся таблицы. Результат сохраните в новую переменную. Верните эту переменную из функции."
   ]
  },
  {
   "cell_type": "code",
   "execution_count": 174,
   "metadata": {
    "id": "Nz3GdQB1_Zcu"
   },
   "outputs": [],
   "source": [
    "# <создание функции number_tracks()>\n",
    "# Объявляется функция с двумя параметрами: day, city.\n",
    "# В переменной track_list сохраняются те строки таблицы df, для которых \n",
    "# значение в столбце 'day' равно параметру day и одновременно значение\n",
    "# в столбце 'city' равно параметру city (используйте последовательную фильтрацию\n",
    "# с помощью логической индексации).\n",
    "# В переменной track_list_count сохраняется число значений столбца 'user_id',\n",
    "# рассчитанное методом count() для таблицы track_list.\n",
    "# Функция возвращает число - значение track_list_count.\n",
    "\n",
    "# Функция для подсчёта прослушиваний для конкретного города и дня.\n",
    "# С помощью последовательной фильтрации с логической индексацией она \n",
    "# сначала получит из исходной таблицы строки с нужным днём,\n",
    "# затем из результата отфильтрует строки с нужным городом,\n",
    "# методом count() посчитает количество значений в колонке user_id. \n",
    "# Это количество функция вернёт в качестве результата\n",
    "def number_tracks(day, city):\n",
    "    track_list = df[df['day'] == day]\n",
    "    track_list = track_list[track_list['city'] == city]\n",
    "    track_list_count = track_list['genre_name'].count()\n",
    "    return track_list_count"
   ]
  },
  {
   "cell_type": "markdown",
   "metadata": {
    "id": "ytf7xFrFJQ2r"
   },
   "source": [
    "Вызовите `number_tracks()` шесть раз, меняя значение параметров — так, чтобы получить данные для каждого города в каждый из трёх дней."
   ]
  },
  {
   "cell_type": "code",
   "execution_count": 175,
   "metadata": {
    "id": "rJcRATNQ_Zcu"
   },
   "outputs": [
    {
     "data": {
      "text/plain": [
       "15740"
      ]
     },
     "execution_count": 175,
     "metadata": {},
     "output_type": "execute_result"
    }
   ],
   "source": [
    "number_tracks('Monday', 'Moscow') # количество прослушиваний в Москве по понедельникам"
   ]
  },
  {
   "cell_type": "code",
   "execution_count": 176,
   "metadata": {
    "id": "hq_ncZ5T_Zcu"
   },
   "outputs": [
    {
     "data": {
      "text/plain": [
       "5614"
      ]
     },
     "execution_count": 176,
     "metadata": {},
     "output_type": "execute_result"
    }
   ],
   "source": [
    "number_tracks('Monday', 'Saint-Petersburg') # количество прослушиваний в Санкт-Петербурге по понедельникам"
   ]
  },
  {
   "cell_type": "code",
   "execution_count": 177,
   "metadata": {
    "id": "_NTy2VPU_Zcu"
   },
   "outputs": [
    {
     "data": {
      "text/plain": [
       "11056"
      ]
     },
     "execution_count": 177,
     "metadata": {},
     "output_type": "execute_result"
    }
   ],
   "source": [
    "number_tracks('Wednesday', 'Moscow') # количество прослушиваний в Москве по средам"
   ]
  },
  {
   "cell_type": "code",
   "execution_count": 178,
   "metadata": {
    "id": "j2y3TAwo_Zcu"
   },
   "outputs": [
    {
     "data": {
      "text/plain": [
       "7003"
      ]
     },
     "execution_count": 178,
     "metadata": {},
     "output_type": "execute_result"
    }
   ],
   "source": [
    "number_tracks('Wednesday', 'Saint-Petersburg') # количество прослушиваний в Санкт-Петербурге по средам"
   ]
  },
  {
   "cell_type": "code",
   "execution_count": 179,
   "metadata": {
    "id": "vYDw5u_K_Zcu"
   },
   "outputs": [
    {
     "data": {
      "text/plain": [
       "15945"
      ]
     },
     "execution_count": 179,
     "metadata": {},
     "output_type": "execute_result"
    }
   ],
   "source": [
    "number_tracks('Friday', 'Moscow') # количество прослушиваний в Москве по пятницам"
   ]
  },
  {
   "cell_type": "code",
   "execution_count": 180,
   "metadata": {
    "id": "8_yzFtW3_Zcu"
   },
   "outputs": [
    {
     "data": {
      "text/plain": [
       "5895"
      ]
     },
     "execution_count": 180,
     "metadata": {},
     "output_type": "execute_result"
    }
   ],
   "source": [
    "number_tracks('Friday', 'Saint-Petersburg') # количество прослушиваний в Санкт-Петербурге по пятницам"
   ]
  },
  {
   "cell_type": "markdown",
   "metadata": {
    "id": "7QXffbO-_Zcu"
   },
   "source": [
    "Создайте c помощью конструктора `pd.DataFrame` таблицу, где\n",
    "* названия колонок — `['city', 'monday', 'wednesday', 'friday']`;\n",
    "* данные — результаты, которые вы получили с помощью `number_tracks`."
   ]
  },
  {
   "cell_type": "code",
   "execution_count": 181,
   "metadata": {
    "id": "APAcLpOr_Zcu"
   },
   "outputs": [
    {
     "data": {
      "text/html": [
       "<div>\n",
       "<style scoped>\n",
       "    .dataframe tbody tr th:only-of-type {\n",
       "        vertical-align: middle;\n",
       "    }\n",
       "\n",
       "    .dataframe tbody tr th {\n",
       "        vertical-align: top;\n",
       "    }\n",
       "\n",
       "    .dataframe thead th {\n",
       "        text-align: right;\n",
       "    }\n",
       "</style>\n",
       "<table border=\"1\" class=\"dataframe\">\n",
       "  <thead>\n",
       "    <tr style=\"text-align: right;\">\n",
       "      <th></th>\n",
       "      <th>city</th>\n",
       "      <th>monday</th>\n",
       "      <th>wednesday</th>\n",
       "      <th>friday</th>\n",
       "    </tr>\n",
       "  </thead>\n",
       "  <tbody>\n",
       "    <tr>\n",
       "      <td>0</td>\n",
       "      <td>Moscow</td>\n",
       "      <td>15740</td>\n",
       "      <td>11056</td>\n",
       "      <td>15945</td>\n",
       "    </tr>\n",
       "    <tr>\n",
       "      <td>1</td>\n",
       "      <td>Saint-Petersburg</td>\n",
       "      <td>5614</td>\n",
       "      <td>7003</td>\n",
       "      <td>5895</td>\n",
       "    </tr>\n",
       "  </tbody>\n",
       "</table>\n",
       "</div>"
      ],
      "text/plain": [
       "               city  monday  wednesday  friday\n",
       "0            Moscow   15740      11056   15945\n",
       "1  Saint-Petersburg    5614       7003    5895"
      ]
     },
     "execution_count": 181,
     "metadata": {},
     "output_type": "execute_result"
    }
   ],
   "source": [
    "# Таблица с результатами\n",
    "day_columns = ['city', 'monday', 'wednesday', 'friday']\n",
    "tracks_count_every_day = [\n",
    "    ['Moscow', 15740, 11056, 15945],\n",
    "    ['Saint-Petersburg', 5614, 7003, 5895],\n",
    "]\n",
    "days_tracks = pd.DataFrame(data=tracks_count_every_day, columns=day_columns)\n",
    "days_tracks"
   ]
  },
  {
   "cell_type": "markdown",
   "metadata": {
    "id": "-EgPIHYu_Zcu"
   },
   "source": [
    "**Выводы**\n",
    "\n",
    "Данные показывают разницу поведения пользователей:\n",
    "\n",
    "- В Москве пик прослушиваний приходится на понедельник и пятницу, а в среду заметен спад.\n",
    "- В Петербурге, наоборот, больше слушают музыку по средам. Активность в понедельник и пятницу здесь почти в равной мере уступает среде.\n",
    "\n",
    "Значит, данные говорят в пользу первой гипотезы."
   ]
  },
  {
   "cell_type": "markdown",
   "metadata": {
    "id": "atZAxtq4_Zcu"
   },
   "source": [
    "### Музыка в начале и в конце недели"
   ]
  },
  {
   "cell_type": "markdown",
   "metadata": {
    "id": "eXrQqXFH_Zcu"
   },
   "source": [
    "Согласно второй гипотезе, утром в понедельник в Москве преобладают одни жанры, а в Петербурге — другие. Так же и вечером пятницы преобладают разные жанры — в зависимости от города."
   ]
  },
  {
   "cell_type": "markdown",
   "metadata": {
    "id": "S8UcW6Hw_Zcu"
   },
   "source": [
    "Сохраните таблицы с данными в две переменные:\n",
    "* по Москве — в `moscow_general`;\n",
    "* по Санкт-Петербургу — в `spb_general`."
   ]
  },
  {
   "cell_type": "code",
   "execution_count": 182,
   "metadata": {
    "id": "qeaFfM_P_Zcu"
   },
   "outputs": [],
   "source": [
    "# получение таблицы moscow_general из тех строк таблицы df, \n",
    "# для которых значение в столбце 'city' равно 'Moscow'\n",
    "moscow_general = df[df['city'] == 'Moscow']"
   ]
  },
  {
   "cell_type": "code",
   "execution_count": 183,
   "metadata": {
    "id": "ORaVRKto_Zcu"
   },
   "outputs": [],
   "source": [
    "# получение таблицы spb_general из тех строк таблицы df,\n",
    "# для которых значение в столбце 'city' равно 'Saint-Petersburg'\n",
    "spb_general = df[df['city'] == 'Saint-Petersburg']"
   ]
  },
  {
   "cell_type": "markdown",
   "metadata": {
    "id": "MEJV-CX2_Zcu"
   },
   "source": [
    "Создайте функцию `genre_weekday()` с четырьмя параметрами:\n",
    "* таблица (датафрейм) с данными,\n",
    "* день недели,\n",
    "* начальная временная метка в формате 'hh:mm', \n",
    "* последняя временная метка в формате 'hh:mm'.\n",
    "\n",
    "Функция должна вернуть информацию о топ-10 жанров тех треков, которые прослушивали в указанный день, в промежутке между двумя отметками времени."
   ]
  },
  {
   "cell_type": "code",
   "execution_count": 184,
   "metadata": {
    "id": "laJT9BYl_Zcu"
   },
   "outputs": [],
   "source": [
    "# Объявление функции genre_weekday() с параметрами table, day, time1, time2,\n",
    "# которая возвращает информацию о самых популярных жанрах в указанный день в\n",
    "# заданное время:\n",
    "# 1) в переменную genre_df сохраняются те строки переданного датафрейма table, для\n",
    "#    которых одновременно:\n",
    "#    - значение в столбце day равно значению аргумента day\n",
    "#    - значение в столбце time больше значения аргумента time1\n",
    "#    - значение в столбце time меньше значения аргумента time2\n",
    "#    Используйте последовательную фильтрацию с помощью логической индексации.\n",
    "# 2) сгруппировать датафрейм genre_df по столбцу genre, взять один из его\n",
    "#    столбцов и посчитать методом count() количество записей для каждого из\n",
    "#    присутствующих жанров, получившийся Series записать в переменную\n",
    "#    genre_df_count\n",
    "# 3) отсортировать genre_df_count по убыванию встречаемости и сохранить\n",
    "#    в переменную genre_df_sorted\n",
    "# 4) вернуть Series из 10 первых значений genre_df_sorted, это будут топ-10\n",
    "#    популярных жанров (в указанный день, в заданное время)\n",
    "def genre_weekday(table, day, time1, time2):\n",
    "    genre_df = table[table['day'] == day]\n",
    "    genre_df = genre_df[genre_df['time'] > time1]\n",
    "    genre_df = genre_df[genre_df['time'] < time2]\n",
    "    genre_df_count = genre_df.groupby('genre_name')['time'].count()\n",
    "    genre_df_sorted = genre_df_count.sort_values(ascending=False)\n",
    "    return genre_df_sorted.head(10)"
   ]
  },
  {
   "cell_type": "markdown",
   "metadata": {
    "id": "la2s2_PF_Zcu"
   },
   "source": [
    "Cравните результаты функции `genre_weekday()` для Москвы и Санкт-Петербурга в понедельник утром (с 7:00 до 11:00) и в пятницу вечером (с 17:00 до 23:00):"
   ]
  },
  {
   "cell_type": "code",
   "execution_count": 186,
   "metadata": {
    "id": "yz7itPUQ_Zcu"
   },
   "outputs": [
    {
     "data": {
      "text/plain": [
       "genre_name\n",
       "pop            781\n",
       "dance          549\n",
       "electronic     480\n",
       "rock           474\n",
       "hiphop         286\n",
       "ruspop         186\n",
       "world          181\n",
       "rusrap         175\n",
       "alternative    164\n",
       "unknown        161\n",
       "Name: time, dtype: int64"
      ]
     },
     "execution_count": 186,
     "metadata": {},
     "output_type": "execute_result"
    }
   ],
   "source": [
    "# вызов функции для утра понедельника в Москве (вместо df — таблица moscow_general)\n",
    "# объекты, хранящие время, являются строками и сравниваются как строки\n",
    "# пример вызова: genre_weekday(moscow_general, 'Monday', '07:00', '11:00')\n",
    "genre_weekday(moscow_general, 'Monday', '07:00', '11:00')"
   ]
  },
  {
   "cell_type": "code",
   "execution_count": 187,
   "metadata": {
    "id": "kwUcHPdy_Zcu"
   },
   "outputs": [
    {
     "data": {
      "text/plain": [
       "genre_name\n",
       "pop            218\n",
       "dance          182\n",
       "rock           162\n",
       "electronic     147\n",
       "hiphop          80\n",
       "ruspop          64\n",
       "alternative     58\n",
       "rusrap          55\n",
       "jazz            44\n",
       "classical       40\n",
       "Name: time, dtype: int64"
      ]
     },
     "execution_count": 187,
     "metadata": {},
     "output_type": "execute_result"
    }
   ],
   "source": [
    "# вызов функции для утра понедельника в Петербурге (вместо df — таблица spb_general)\n",
    "genre_weekday(spb_general, 'Monday', '07:00', '11:00')"
   ]
  },
  {
   "cell_type": "code",
   "execution_count": 188,
   "metadata": {
    "id": "EzXVRE1o_Zcu"
   },
   "outputs": [
    {
     "data": {
      "text/plain": [
       "genre_name\n",
       "pop            713\n",
       "rock           517\n",
       "dance          495\n",
       "electronic     482\n",
       "hiphop         273\n",
       "world          208\n",
       "ruspop         170\n",
       "alternative    163\n",
       "classical      163\n",
       "rusrap         142\n",
       "Name: time, dtype: int64"
      ]
     },
     "execution_count": 188,
     "metadata": {},
     "output_type": "execute_result"
    }
   ],
   "source": [
    "# вызов функции для вечера пятницы в Москве\n",
    "genre_weekday(moscow_general, 'Friday', '17:00', '23:00')"
   ]
  },
  {
   "cell_type": "code",
   "execution_count": 189,
   "metadata": {
    "id": "JZaEKu5v_Zcu"
   },
   "outputs": [
    {
     "data": {
      "text/plain": [
       "genre_name\n",
       "pop            256\n",
       "rock           216\n",
       "electronic     216\n",
       "dance          210\n",
       "hiphop          97\n",
       "alternative     63\n",
       "jazz            61\n",
       "classical       60\n",
       "rusrap          59\n",
       "world           54\n",
       "Name: time, dtype: int64"
      ]
     },
     "execution_count": 189,
     "metadata": {},
     "output_type": "execute_result"
    }
   ],
   "source": [
    "# вызов функции для вечера пятницы в Петербурге\n",
    "genre_weekday(spb_general, 'Friday', '17:00', '23:00')"
   ]
  },
  {
   "cell_type": "markdown",
   "metadata": {
    "id": "wrCe4MNX_Zcu"
   },
   "source": [
    "**Выводы**\n",
    "\n",
    "Если сравнить топ-10 жанров в понедельник утром, можно сделать такие выводы:\n",
    "\n",
    "1. В Москве и Петербурге слушают похожую музыку. Единственное отличие — в московский рейтинг вошёл жанр “world”, а в петербургский — джаз и классика.\n",
    "\n",
    "2. В Москве пропущенных значений оказалось так много, что значение `'unknown'` заняло десятое место среди самых популярных жанров. Значит, пропущенные значения занимают существенную долю в данных и угрожают достоверности исследования.\n",
    "\n",
    "Вечер пятницы не меняет эту картину. Некоторые жанры поднимаются немного выше, другие спускаются, но в целом топ-10 остаётся тем же самым.\n",
    "\n",
    "Таким образом, вторая гипотеза подтвердилась лишь частично:\n",
    "* Пользователи слушают похожую музыку в начале недели и в конце.\n",
    "* Разница между Москвой и Петербургом не слишком выражена. В Москве чаще слушают русскую популярную музыку, в Петербурге — джаз.\n",
    "\n",
    "Однако пропуски в данных ставят под сомнение этот результат. В Москве их так много, что рейтинг топ-10 мог бы выглядеть иначе, если бы не утерянные  данные о жанрах."
   ]
  },
  {
   "cell_type": "markdown",
   "metadata": {
    "id": "JolODAqr_Zcu"
   },
   "source": [
    "### Жанровые предпочтения в Москве и Петербурге\n",
    "\n",
    "Гипотеза: Петербург — столица рэпа, музыку этого жанра там слушают чаще, чем в Москве.  А Москва — город контрастов, в котором, тем не менее, преобладает поп-музыка."
   ]
  },
  {
   "cell_type": "markdown",
   "metadata": {
    "id": "DlegSvaT_Zcu"
   },
   "source": [
    "Сгруппируйте таблицу `moscow_general` по жанру и посчитайте прослушивания треков каждого жанра методом `count()`. Затем отсортируйте результат в порядке убывания и сохраните его в таблице `moscow_genres`."
   ]
  },
  {
   "cell_type": "code",
   "execution_count": 191,
   "metadata": {
    "id": "r19lIPke_Zcu"
   },
   "outputs": [],
   "source": [
    "# одной строкой: группировка таблицы moscow_general по столбцу 'genre', \n",
    "# подсчёт числа значений 'genre' в этой группировке методом count(), \n",
    "# сортировка получившегося Series в порядке убывания и сохранение в moscow_genres\n",
    "moscow_genres = moscow_general.groupby('genre_name')['time'].count().sort_values(ascending=False)"
   ]
  },
  {
   "cell_type": "markdown",
   "metadata": {
    "id": "6kMuomxTiIr8"
   },
   "source": [
    "Выведите на экран первые десять строк `moscow_genres`:"
   ]
  },
  {
   "cell_type": "code",
   "execution_count": 192,
   "metadata": {
    "id": "WhCSooF8_Zcv"
   },
   "outputs": [
    {
     "data": {
      "text/plain": [
       "genre_name\n",
       "pop            5892\n",
       "dance          4435\n",
       "rock           3965\n",
       "electronic     3786\n",
       "hiphop         2096\n",
       "classical      1616\n",
       "world          1432\n",
       "alternative    1379\n",
       "ruspop         1372\n",
       "rusrap         1161\n",
       "Name: time, dtype: int64"
      ]
     },
     "execution_count": 192,
     "metadata": {},
     "output_type": "execute_result"
    }
   ],
   "source": [
    "# просмотр первых 10 строк moscow_genres\n",
    "moscow_genres.head(10)"
   ]
  },
  {
   "cell_type": "markdown",
   "metadata": {
    "id": "cnPG2vnN_Zcv"
   },
   "source": [
    "Теперь повторите то же и для Петербурга.\n",
    "\n",
    "Сгруппируйте таблицу `spb_general` по жанру. Посчитайте прослушивания треков каждого жанра. Результат отсортируйте в порядке убывания и сохраните в таблице `spb_genres`:\n"
   ]
  },
  {
   "cell_type": "code",
   "execution_count": 193,
   "metadata": {
    "id": "gluLIpE7_Zcv"
   },
   "outputs": [],
   "source": [
    "# одной строкой: группировка таблицы spb_general по столбцу 'genre', \n",
    "# подсчёт числа значений 'genre' в этой группировке методом count(), \n",
    "# сортировка получившегося Series в порядке убывания и сохранение в spb_genres\n",
    "spb_genres = spb_general.groupby('genre_name')['time'].count().sort_values(ascending=False)"
   ]
  },
  {
   "cell_type": "markdown",
   "metadata": {
    "id": "5Doha_ODgyQ8"
   },
   "source": [
    "Выведите на экран первые десять строк `spb_genres`:"
   ]
  },
  {
   "cell_type": "code",
   "execution_count": 194,
   "metadata": {
    "id": "uaGJHjVU_Zcv"
   },
   "outputs": [
    {
     "data": {
      "text/plain": [
       "genre_name\n",
       "pop            2431\n",
       "dance          1932\n",
       "rock           1879\n",
       "electronic     1737\n",
       "hiphop          960\n",
       "alternative     649\n",
       "classical       646\n",
       "rusrap          564\n",
       "ruspop          538\n",
       "world           515\n",
       "Name: time, dtype: int64"
      ]
     },
     "execution_count": 194,
     "metadata": {},
     "output_type": "execute_result"
    }
   ],
   "source": [
    "# просмотр первых 10 строк spb_genres\n",
    "spb_genres.head(10)"
   ]
  },
  {
   "cell_type": "markdown",
   "metadata": {
    "id": "RY51YJYu_Zcv"
   },
   "source": [
    "**Выводы**"
   ]
  },
  {
   "cell_type": "markdown",
   "metadata": {
    "id": "nVhnJEm__Zcv"
   },
   "source": [
    "Гипотеза частично подтвердилась:\n",
    "* Поп-музыка — самый популярный жанр в Москве, как и предполагала гипотеза. Более того, в топ-10 жанров встречается близкий жанр — русская популярная музыка.\n",
    "* Вопреки ожиданиям, рэп одинаково популярен в Москве и Петербурге. \n"
   ]
  },
  {
   "cell_type": "markdown",
   "metadata": {
    "id": "ykKQ0N65_Zcv"
   },
   "source": [
    "## Итоги исследования"
   ]
  },
  {
   "cell_type": "markdown",
   "metadata": {
    "id": "tjUwbHb3_Zcv"
   },
   "source": [
    "Вы проверили три гипотезы и установили:\n",
    "\n",
    "1. День недели по-разному влияет на активность пользователей в Москве и Петербурге. \n",
    "\n",
    "Первая гипотеза полностью подтвердилась.\n",
    "\n",
    "2. Музыкальные предпочтения не сильно меняются в течение недели — будь то Москва или Петербург. Небольшие различия заметны в начале недели, по понедельникам:\n",
    "* в Москве слушают музыку жанра “world”,\n",
    "* в Петербурге — джаз и классику.\n",
    "\n",
    "Таким образом, вторая гипотеза подтвердилась лишь отчасти. Этот результат мог оказаться иным, если бы не пропуски в данных.\n",
    "\n",
    "3. Во вкусах пользователей Москвы и Петербурга больше общего чем различий. Вопреки ожиданиям, предпочтения жанров в Петербурге напоминают московские.\n",
    "\n",
    "Третья гипотеза не подтвердилась. Если различия в предпочтениях и существуют, на основной массе пользователей они незаметны.\n",
    "\n",
    "**На практике исследования содержат проверки статистических гипотез.**\n",
    "Из данных одного сервиса не всегда можно сделать вывод о всех жителях города.\n",
    "Проверки статистических гипотез покажут, насколько они достоверны, исходя из имеющихся данных. \n",
    "С методами проверок гипотез вы ещё познакомитесь в следующих темах."
   ]
  },
  {
   "cell_type": "code",
   "execution_count": null,
   "metadata": {},
   "outputs": [],
   "source": []
  }
 ],
 "metadata": {
  "ExecuteTimeLog": [
   {
    "duration": 1081,
    "start_time": "2021-12-20T18:30:04.769Z"
   },
   {
    "duration": 201,
    "start_time": "2021-12-20T18:30:57.452Z"
   },
   {
    "duration": 27,
    "start_time": "2021-12-20T18:31:29.103Z"
   },
   {
    "duration": 52,
    "start_time": "2021-12-20T18:32:34.822Z"
   },
   {
    "duration": 6,
    "start_time": "2021-12-20T18:59:43.072Z"
   },
   {
    "duration": 440,
    "start_time": "2021-12-20T19:04:11.040Z"
   },
   {
    "duration": 136,
    "start_time": "2021-12-20T19:05:08.001Z"
   },
   {
    "duration": 99,
    "start_time": "2021-12-20T19:05:58.398Z"
   },
   {
    "duration": 103,
    "start_time": "2021-12-20T19:06:07.916Z"
   },
   {
    "duration": 33,
    "start_time": "2021-12-20T19:06:30.698Z"
   },
   {
    "duration": 7,
    "start_time": "2021-12-20T19:07:04.118Z"
   },
   {
    "duration": 35,
    "start_time": "2021-12-20T19:22:39.952Z"
   },
   {
    "duration": 5,
    "start_time": "2021-12-20T19:22:41.824Z"
   },
   {
    "duration": 4,
    "start_time": "2021-12-20T19:22:59.383Z"
   },
   {
    "duration": 278,
    "start_time": "2021-12-20T19:23:00.653Z"
   },
   {
    "duration": 24,
    "start_time": "2021-12-20T19:23:01.065Z"
   },
   {
    "duration": 50,
    "start_time": "2021-12-20T19:23:01.433Z"
   },
   {
    "duration": 6,
    "start_time": "2021-12-20T19:23:03.584Z"
   },
   {
    "duration": 23,
    "start_time": "2021-12-20T19:23:04.792Z"
   },
   {
    "duration": 8,
    "start_time": "2021-12-20T19:23:05.764Z"
   },
   {
    "duration": 3,
    "start_time": "2021-12-20T19:23:09.924Z"
   },
   {
    "duration": 33,
    "start_time": "2021-12-20T19:24:47.425Z"
   },
   {
    "duration": 23,
    "start_time": "2021-12-20T19:31:19.492Z"
   },
   {
    "duration": 32,
    "start_time": "2021-12-20T19:31:23.444Z"
   },
   {
    "duration": 98,
    "start_time": "2021-12-20T19:32:58.091Z"
   },
   {
    "duration": 108,
    "start_time": "2021-12-20T19:34:28.752Z"
   },
   {
    "duration": 81,
    "start_time": "2021-12-20T19:34:53.952Z"
   },
   {
    "duration": 100,
    "start_time": "2021-12-20T19:35:19.692Z"
   },
   {
    "duration": 86,
    "start_time": "2021-12-20T19:35:21.591Z"
   },
   {
    "duration": 4,
    "start_time": "2021-12-20T19:35:53.732Z"
   },
   {
    "duration": 207,
    "start_time": "2021-12-20T19:35:53.738Z"
   },
   {
    "duration": 19,
    "start_time": "2021-12-20T19:35:53.948Z"
   },
   {
    "duration": 33,
    "start_time": "2021-12-20T19:35:53.970Z"
   },
   {
    "duration": 5,
    "start_time": "2021-12-20T19:35:54.006Z"
   },
   {
    "duration": 57,
    "start_time": "2021-12-20T19:35:54.013Z"
   },
   {
    "duration": 5,
    "start_time": "2021-12-20T19:35:54.073Z"
   },
   {
    "duration": 33,
    "start_time": "2021-12-20T19:35:54.081Z"
   },
   {
    "duration": 59,
    "start_time": "2021-12-20T19:35:54.118Z"
   },
   {
    "duration": 31,
    "start_time": "2021-12-20T19:35:54.180Z"
   },
   {
    "duration": 112,
    "start_time": "2021-12-20T19:35:54.214Z"
   },
   {
    "duration": 113,
    "start_time": "2021-12-20T19:35:54.329Z"
   },
   {
    "duration": 11,
    "start_time": "2021-12-20T19:39:27.212Z"
   },
   {
    "duration": 22,
    "start_time": "2021-12-20T19:39:45.392Z"
   },
   {
    "duration": 5,
    "start_time": "2021-12-20T19:57:24.591Z"
   },
   {
    "duration": 818,
    "start_time": "2021-12-20T20:00:52.744Z"
   },
   {
    "duration": 885,
    "start_time": "2021-12-20T20:01:23.292Z"
   },
   {
    "duration": 597,
    "start_time": "2021-12-20T20:17:48.779Z"
   },
   {
    "duration": 5,
    "start_time": "2021-12-20T20:18:41.408Z"
   },
   {
    "duration": 29,
    "start_time": "2021-12-20T20:18:48.728Z"
   },
   {
    "duration": 5,
    "start_time": "2021-12-20T20:19:33.867Z"
   },
   {
    "duration": 198,
    "start_time": "2021-12-20T20:19:33.875Z"
   },
   {
    "duration": 17,
    "start_time": "2021-12-20T20:19:34.077Z"
   },
   {
    "duration": 35,
    "start_time": "2021-12-20T20:19:34.097Z"
   },
   {
    "duration": 30,
    "start_time": "2021-12-20T20:19:34.134Z"
   },
   {
    "duration": 21,
    "start_time": "2021-12-20T20:19:34.167Z"
   },
   {
    "duration": 6,
    "start_time": "2021-12-20T20:19:34.190Z"
   },
   {
    "duration": 77,
    "start_time": "2021-12-20T20:19:34.200Z"
   },
   {
    "duration": 34,
    "start_time": "2021-12-20T20:19:34.281Z"
   },
   {
    "duration": 74,
    "start_time": "2021-12-20T20:19:34.318Z"
   },
   {
    "duration": 99,
    "start_time": "2021-12-20T20:19:34.395Z"
   },
   {
    "duration": 136,
    "start_time": "2021-12-20T20:19:34.497Z"
   },
   {
    "duration": 89,
    "start_time": "2021-12-20T20:19:34.636Z"
   },
   {
    "duration": 15,
    "start_time": "2021-12-20T20:19:34.727Z"
   },
   {
    "duration": 5,
    "start_time": "2021-12-20T20:19:34.763Z"
   },
   {
    "duration": 22,
    "start_time": "2021-12-20T20:20:09.208Z"
   },
   {
    "duration": 15,
    "start_time": "2021-12-20T20:20:49.912Z"
   },
   {
    "duration": 4,
    "start_time": "2021-12-20T20:21:21.630Z"
   },
   {
    "duration": 314,
    "start_time": "2021-12-20T20:21:21.639Z"
   },
   {
    "duration": 22,
    "start_time": "2021-12-20T20:21:21.957Z"
   },
   {
    "duration": 77,
    "start_time": "2021-12-20T20:21:21.984Z"
   },
   {
    "duration": 22,
    "start_time": "2021-12-20T20:21:22.064Z"
   },
   {
    "duration": 38,
    "start_time": "2021-12-20T20:21:22.089Z"
   },
   {
    "duration": 22,
    "start_time": "2021-12-20T20:21:22.130Z"
   },
   {
    "duration": 62,
    "start_time": "2021-12-20T20:21:22.155Z"
   },
   {
    "duration": 58,
    "start_time": "2021-12-20T20:21:22.222Z"
   },
   {
    "duration": 51,
    "start_time": "2021-12-20T20:21:22.284Z"
   },
   {
    "duration": 101,
    "start_time": "2021-12-20T20:21:22.339Z"
   },
   {
    "duration": 99,
    "start_time": "2021-12-20T20:21:22.442Z"
   },
   {
    "duration": 93,
    "start_time": "2021-12-20T20:21:22.544Z"
   },
   {
    "duration": 33,
    "start_time": "2021-12-20T20:21:22.640Z"
   },
   {
    "duration": 6,
    "start_time": "2021-12-20T20:21:22.676Z"
   },
   {
    "duration": 19,
    "start_time": "2021-12-20T20:21:22.685Z"
   },
   {
    "duration": 6,
    "start_time": "2021-12-20T20:26:34.795Z"
   },
   {
    "duration": 583,
    "start_time": "2021-12-20T20:26:38.247Z"
   },
   {
    "duration": 4,
    "start_time": "2021-12-20T20:26:55.081Z"
   },
   {
    "duration": 20,
    "start_time": "2021-12-20T20:26:56.853Z"
   },
   {
    "duration": 30,
    "start_time": "2021-12-20T20:27:57.517Z"
   },
   {
    "duration": 5,
    "start_time": "2021-12-20T20:34:23.224Z"
   },
   {
    "duration": 15,
    "start_time": "2021-12-20T20:34:28.263Z"
   },
   {
    "duration": 4,
    "start_time": "2021-12-20T20:34:38.963Z"
   },
   {
    "duration": 223,
    "start_time": "2021-12-20T20:34:38.976Z"
   },
   {
    "duration": 28,
    "start_time": "2021-12-20T20:34:39.203Z"
   },
   {
    "duration": 58,
    "start_time": "2021-12-20T20:34:39.235Z"
   },
   {
    "duration": 7,
    "start_time": "2021-12-20T20:34:39.297Z"
   },
   {
    "duration": 23,
    "start_time": "2021-12-20T20:34:39.306Z"
   },
   {
    "duration": 35,
    "start_time": "2021-12-20T20:34:39.331Z"
   },
   {
    "duration": 32,
    "start_time": "2021-12-20T20:34:39.368Z"
   },
   {
    "duration": 66,
    "start_time": "2021-12-20T20:34:39.404Z"
   },
   {
    "duration": 49,
    "start_time": "2021-12-20T20:34:39.474Z"
   },
   {
    "duration": 149,
    "start_time": "2021-12-20T20:34:39.526Z"
   },
   {
    "duration": 142,
    "start_time": "2021-12-20T20:34:39.678Z"
   },
   {
    "duration": 119,
    "start_time": "2021-12-20T20:34:39.823Z"
   },
   {
    "duration": 29,
    "start_time": "2021-12-20T20:34:39.945Z"
   },
   {
    "duration": 5,
    "start_time": "2021-12-20T20:34:39.977Z"
   },
   {
    "duration": 21,
    "start_time": "2021-12-20T20:34:39.985Z"
   },
   {
    "duration": 4,
    "start_time": "2021-12-20T20:35:07.803Z"
   },
   {
    "duration": 19,
    "start_time": "2021-12-20T20:35:09.643Z"
   },
   {
    "duration": 4,
    "start_time": "2021-12-20T20:36:24.443Z"
   },
   {
    "duration": 202,
    "start_time": "2021-12-20T20:36:24.454Z"
   },
   {
    "duration": 16,
    "start_time": "2021-12-20T20:36:24.659Z"
   },
   {
    "duration": 38,
    "start_time": "2021-12-20T20:36:24.679Z"
   },
   {
    "duration": 14,
    "start_time": "2021-12-20T20:36:24.721Z"
   },
   {
    "duration": 57,
    "start_time": "2021-12-20T20:36:24.738Z"
   },
   {
    "duration": 6,
    "start_time": "2021-12-20T20:36:24.798Z"
   },
   {
    "duration": 66,
    "start_time": "2021-12-20T20:36:24.807Z"
   },
   {
    "duration": 48,
    "start_time": "2021-12-20T20:36:24.880Z"
   },
   {
    "duration": 39,
    "start_time": "2021-12-20T20:36:24.932Z"
   },
   {
    "duration": 136,
    "start_time": "2021-12-20T20:36:24.974Z"
   },
   {
    "duration": 118,
    "start_time": "2021-12-20T20:36:25.113Z"
   },
   {
    "duration": 94,
    "start_time": "2021-12-20T20:36:25.233Z"
   },
   {
    "duration": 36,
    "start_time": "2021-12-20T20:36:25.330Z"
   },
   {
    "duration": 6,
    "start_time": "2021-12-20T20:36:25.369Z"
   },
   {
    "duration": 42,
    "start_time": "2021-12-20T20:36:25.378Z"
   },
   {
    "duration": 439,
    "start_time": "2021-12-20T20:38:18.871Z"
   },
   {
    "duration": 300,
    "start_time": "2021-12-20T20:38:35.340Z"
   },
   {
    "duration": 4,
    "start_time": "2021-12-20T20:38:41.432Z"
   },
   {
    "duration": 233,
    "start_time": "2021-12-20T20:38:41.439Z"
   },
   {
    "duration": 18,
    "start_time": "2021-12-20T20:38:41.675Z"
   },
   {
    "duration": 72,
    "start_time": "2021-12-20T20:38:41.696Z"
   },
   {
    "duration": 6,
    "start_time": "2021-12-20T20:38:41.771Z"
   },
   {
    "duration": 28,
    "start_time": "2021-12-20T20:38:41.779Z"
   },
   {
    "duration": 6,
    "start_time": "2021-12-20T20:38:41.809Z"
   },
   {
    "duration": 75,
    "start_time": "2021-12-20T20:38:41.817Z"
   },
   {
    "duration": 32,
    "start_time": "2021-12-20T20:38:41.898Z"
   },
   {
    "duration": 77,
    "start_time": "2021-12-20T20:38:41.934Z"
   },
   {
    "duration": 131,
    "start_time": "2021-12-20T20:38:42.014Z"
   },
   {
    "duration": 118,
    "start_time": "2021-12-20T20:38:42.148Z"
   },
   {
    "duration": 79,
    "start_time": "2021-12-20T20:38:42.269Z"
   },
   {
    "duration": 24,
    "start_time": "2021-12-20T20:38:42.364Z"
   },
   {
    "duration": 4,
    "start_time": "2021-12-20T20:38:42.390Z"
   },
   {
    "duration": 22,
    "start_time": "2021-12-20T20:38:42.397Z"
   },
   {
    "duration": 1065,
    "start_time": "2021-12-20T20:39:16.603Z"
   },
   {
    "duration": 695,
    "start_time": "2021-12-20T20:39:19.863Z"
   },
   {
    "duration": 613,
    "start_time": "2021-12-20T20:39:35.143Z"
   },
   {
    "duration": 904,
    "start_time": "2021-12-20T20:39:44.343Z"
   },
   {
    "duration": 4,
    "start_time": "2021-12-20T20:40:01.343Z"
   },
   {
    "duration": 210,
    "start_time": "2021-12-20T20:40:01.923Z"
   },
   {
    "duration": 16,
    "start_time": "2021-12-20T20:40:03.023Z"
   },
   {
    "duration": 35,
    "start_time": "2021-12-20T20:40:04.430Z"
   },
   {
    "duration": 6,
    "start_time": "2021-12-20T20:40:06.683Z"
   },
   {
    "duration": 34,
    "start_time": "2021-12-20T20:40:07.346Z"
   },
   {
    "duration": 6,
    "start_time": "2021-12-20T20:40:07.884Z"
   },
   {
    "duration": 56,
    "start_time": "2021-12-20T20:40:08.663Z"
   },
   {
    "duration": 26,
    "start_time": "2021-12-20T20:40:10.319Z"
   },
   {
    "duration": 55,
    "start_time": "2021-12-20T20:40:11.863Z"
   },
   {
    "duration": 88,
    "start_time": "2021-12-20T20:40:13.082Z"
   },
   {
    "duration": 108,
    "start_time": "2021-12-20T20:40:14.155Z"
   },
   {
    "duration": 82,
    "start_time": "2021-12-20T20:40:15.055Z"
   },
   {
    "duration": 18,
    "start_time": "2021-12-20T20:40:18.785Z"
   },
   {
    "duration": 7,
    "start_time": "2021-12-20T20:40:23.412Z"
   },
   {
    "duration": 24,
    "start_time": "2021-12-20T20:40:26.063Z"
   },
   {
    "duration": 310,
    "start_time": "2021-12-20T20:40:30.131Z"
   },
   {
    "duration": 4,
    "start_time": "2021-12-20T20:41:50.417Z"
   },
   {
    "duration": 307,
    "start_time": "2021-12-20T20:42:13.623Z"
   },
   {
    "duration": 4,
    "start_time": "2021-12-20T20:42:56.210Z"
   },
   {
    "duration": 194,
    "start_time": "2021-12-20T20:42:56.217Z"
   },
   {
    "duration": 24,
    "start_time": "2021-12-20T20:42:56.415Z"
   },
   {
    "duration": 46,
    "start_time": "2021-12-20T20:42:56.442Z"
   },
   {
    "duration": 6,
    "start_time": "2021-12-20T20:42:56.490Z"
   },
   {
    "duration": 25,
    "start_time": "2021-12-20T20:42:56.498Z"
   },
   {
    "duration": 39,
    "start_time": "2021-12-20T20:42:56.526Z"
   },
   {
    "duration": 34,
    "start_time": "2021-12-20T20:42:56.568Z"
   },
   {
    "duration": 34,
    "start_time": "2021-12-20T20:42:56.605Z"
   },
   {
    "duration": 66,
    "start_time": "2021-12-20T20:42:56.664Z"
   },
   {
    "duration": 245,
    "start_time": "2021-12-20T20:42:56.733Z"
   },
   {
    "duration": 256,
    "start_time": "2021-12-20T20:42:56.990Z"
   },
   {
    "duration": 229,
    "start_time": "2021-12-20T20:42:57.261Z"
   },
   {
    "duration": 27,
    "start_time": "2021-12-20T20:42:57.493Z"
   },
   {
    "duration": 7,
    "start_time": "2021-12-20T20:42:57.523Z"
   },
   {
    "duration": 47,
    "start_time": "2021-12-20T20:42:57.533Z"
   },
   {
    "duration": 903,
    "start_time": "2021-12-20T20:43:14.485Z"
   },
   {
    "duration": 246,
    "start_time": "2021-12-20T20:43:15.390Z"
   },
   {
    "duration": 36,
    "start_time": "2021-12-20T20:43:15.640Z"
   },
   {
    "duration": 34,
    "start_time": "2021-12-20T20:43:15.679Z"
   },
   {
    "duration": 5,
    "start_time": "2021-12-20T20:43:15.715Z"
   },
   {
    "duration": 62,
    "start_time": "2021-12-20T20:43:15.723Z"
   },
   {
    "duration": 7,
    "start_time": "2021-12-20T20:43:15.788Z"
   },
   {
    "duration": 85,
    "start_time": "2021-12-20T20:43:15.798Z"
   },
   {
    "duration": 23,
    "start_time": "2021-12-20T20:43:15.888Z"
   },
   {
    "duration": 30,
    "start_time": "2021-12-20T20:43:15.913Z"
   },
   {
    "duration": 130,
    "start_time": "2021-12-20T20:43:15.945Z"
   },
   {
    "duration": 108,
    "start_time": "2021-12-20T20:43:16.078Z"
   },
   {
    "duration": 94,
    "start_time": "2021-12-20T20:43:16.189Z"
   },
   {
    "duration": 15,
    "start_time": "2021-12-20T20:43:16.285Z"
   },
   {
    "duration": 5,
    "start_time": "2021-12-20T20:43:16.303Z"
   },
   {
    "duration": 21,
    "start_time": "2021-12-20T20:43:16.311Z"
   },
   {
    "duration": 6,
    "start_time": "2021-12-20T20:44:39.214Z"
   },
   {
    "duration": 451,
    "start_time": "2021-12-20T20:44:42.283Z"
   },
   {
    "duration": 319,
    "start_time": "2021-12-20T20:44:46.742Z"
   },
   {
    "duration": 305,
    "start_time": "2021-12-20T20:44:52.782Z"
   },
   {
    "duration": 4,
    "start_time": "2021-12-20T20:45:00.903Z"
   },
   {
    "duration": 396,
    "start_time": "2021-12-20T20:45:02.702Z"
   },
   {
    "duration": 584,
    "start_time": "2021-12-20T20:45:17.342Z"
   },
   {
    "duration": 346,
    "start_time": "2021-12-20T20:45:26.569Z"
   },
   {
    "duration": 4,
    "start_time": "2021-12-20T20:45:43.674Z"
   },
   {
    "duration": 227,
    "start_time": "2021-12-20T20:45:43.686Z"
   },
   {
    "duration": 16,
    "start_time": "2021-12-20T20:45:43.916Z"
   },
   {
    "duration": 50,
    "start_time": "2021-12-20T20:45:43.935Z"
   },
   {
    "duration": 6,
    "start_time": "2021-12-20T20:45:43.989Z"
   },
   {
    "duration": 27,
    "start_time": "2021-12-20T20:45:43.997Z"
   },
   {
    "duration": 40,
    "start_time": "2021-12-20T20:45:44.026Z"
   },
   {
    "duration": 43,
    "start_time": "2021-12-20T20:45:44.069Z"
   },
   {
    "duration": 59,
    "start_time": "2021-12-20T20:45:44.115Z"
   },
   {
    "duration": 50,
    "start_time": "2021-12-20T20:45:44.177Z"
   },
   {
    "duration": 154,
    "start_time": "2021-12-20T20:45:44.229Z"
   },
   {
    "duration": 144,
    "start_time": "2021-12-20T20:45:44.386Z"
   },
   {
    "duration": 94,
    "start_time": "2021-12-20T20:45:44.533Z"
   },
   {
    "duration": 17,
    "start_time": "2021-12-20T20:45:44.630Z"
   },
   {
    "duration": 5,
    "start_time": "2021-12-20T20:45:44.663Z"
   },
   {
    "duration": 11,
    "start_time": "2021-12-20T20:45:51.793Z"
   },
   {
    "duration": 21,
    "start_time": "2021-12-20T20:45:56.982Z"
   },
   {
    "duration": 316,
    "start_time": "2021-12-20T20:47:42.181Z"
   },
   {
    "duration": 301,
    "start_time": "2021-12-20T20:47:49.153Z"
   },
   {
    "duration": 3,
    "start_time": "2021-12-20T20:47:53.921Z"
   },
   {
    "duration": 220,
    "start_time": "2021-12-20T20:47:53.931Z"
   },
   {
    "duration": 32,
    "start_time": "2021-12-20T20:47:54.155Z"
   },
   {
    "duration": 49,
    "start_time": "2021-12-20T20:47:54.192Z"
   },
   {
    "duration": 6,
    "start_time": "2021-12-20T20:47:54.243Z"
   },
   {
    "duration": 37,
    "start_time": "2021-12-20T20:47:54.251Z"
   },
   {
    "duration": 7,
    "start_time": "2021-12-20T20:47:54.291Z"
   },
   {
    "duration": 71,
    "start_time": "2021-12-20T20:47:54.301Z"
   },
   {
    "duration": 32,
    "start_time": "2021-12-20T20:47:54.375Z"
   },
   {
    "duration": 68,
    "start_time": "2021-12-20T20:47:54.412Z"
   },
   {
    "duration": 112,
    "start_time": "2021-12-20T20:47:54.483Z"
   },
   {
    "duration": 102,
    "start_time": "2021-12-20T20:47:54.598Z"
   },
   {
    "duration": 88,
    "start_time": "2021-12-20T20:47:54.703Z"
   },
   {
    "duration": 14,
    "start_time": "2021-12-20T20:47:54.793Z"
   },
   {
    "duration": 4,
    "start_time": "2021-12-20T20:47:54.810Z"
   },
   {
    "duration": 329,
    "start_time": "2021-12-20T20:47:58.141Z"
   },
   {
    "duration": 34,
    "start_time": "2021-12-20T20:48:09.101Z"
   },
   {
    "duration": 18,
    "start_time": "2021-12-20T20:48:14.663Z"
   },
   {
    "duration": 4,
    "start_time": "2021-12-20T20:52:54.202Z"
   },
   {
    "duration": 261,
    "start_time": "2021-12-20T20:52:54.214Z"
   },
   {
    "duration": 23,
    "start_time": "2021-12-20T20:52:54.478Z"
   },
   {
    "duration": 57,
    "start_time": "2021-12-20T20:52:54.506Z"
   },
   {
    "duration": 6,
    "start_time": "2021-12-20T20:52:54.566Z"
   },
   {
    "duration": 23,
    "start_time": "2021-12-20T20:52:54.575Z"
   },
   {
    "duration": 6,
    "start_time": "2021-12-20T20:52:54.601Z"
   },
   {
    "duration": 84,
    "start_time": "2021-12-20T20:52:54.610Z"
   },
   {
    "duration": 23,
    "start_time": "2021-12-20T20:52:54.696Z"
   },
   {
    "duration": 54,
    "start_time": "2021-12-20T20:52:54.723Z"
   },
   {
    "duration": 104,
    "start_time": "2021-12-20T20:52:54.779Z"
   },
   {
    "duration": 106,
    "start_time": "2021-12-20T20:52:54.886Z"
   },
   {
    "duration": 92,
    "start_time": "2021-12-20T20:52:54.995Z"
   },
   {
    "duration": 14,
    "start_time": "2021-12-20T20:52:55.089Z"
   },
   {
    "duration": 4,
    "start_time": "2021-12-20T20:52:55.105Z"
   },
   {
    "duration": 32,
    "start_time": "2021-12-20T20:52:58.001Z"
   },
   {
    "duration": 16,
    "start_time": "2021-12-20T20:53:00.621Z"
   },
   {
    "duration": 217,
    "start_time": "2021-12-21T18:23:33.078Z"
   },
   {
    "duration": 601,
    "start_time": "2021-12-21T18:24:22.758Z"
   },
   {
    "duration": 162,
    "start_time": "2021-12-21T18:24:23.361Z"
   },
   {
    "duration": 21,
    "start_time": "2021-12-21T18:24:23.525Z"
   },
   {
    "duration": 56,
    "start_time": "2021-12-21T18:24:23.549Z"
   },
   {
    "duration": 5,
    "start_time": "2021-12-21T18:24:23.608Z"
   },
   {
    "duration": 27,
    "start_time": "2021-12-21T18:24:23.615Z"
   },
   {
    "duration": 12,
    "start_time": "2021-12-21T18:24:23.644Z"
   },
   {
    "duration": 29,
    "start_time": "2021-12-21T18:24:23.658Z"
   },
   {
    "duration": 92,
    "start_time": "2021-12-21T18:24:23.689Z"
   },
   {
    "duration": 30,
    "start_time": "2021-12-21T18:24:23.783Z"
   },
   {
    "duration": 58,
    "start_time": "2021-12-21T18:24:23.815Z"
   },
   {
    "duration": 90,
    "start_time": "2021-12-21T18:24:23.874Z"
   },
   {
    "duration": 89,
    "start_time": "2021-12-21T18:24:23.965Z"
   },
   {
    "duration": 11,
    "start_time": "2021-12-21T18:24:24.057Z"
   },
   {
    "duration": 4,
    "start_time": "2021-12-21T18:24:24.070Z"
   },
   {
    "duration": 26,
    "start_time": "2021-12-21T18:24:24.093Z"
   },
   {
    "duration": 41,
    "start_time": "2021-12-21T18:24:24.121Z"
   },
   {
    "duration": 34,
    "start_time": "2021-12-21T18:24:24.164Z"
   },
   {
    "duration": 10,
    "start_time": "2021-12-21T18:24:27.823Z"
   },
   {
    "duration": 23,
    "start_time": "2021-12-21T18:24:38.111Z"
   },
   {
    "duration": 14,
    "start_time": "2021-12-21T18:25:48.494Z"
   },
   {
    "duration": 10,
    "start_time": "2021-12-21T18:28:37.903Z"
   },
   {
    "duration": 5,
    "start_time": "2021-12-21T18:29:01.403Z"
   },
   {
    "duration": 152,
    "start_time": "2021-12-21T18:29:01.907Z"
   },
   {
    "duration": 14,
    "start_time": "2021-12-21T18:29:02.061Z"
   },
   {
    "duration": 45,
    "start_time": "2021-12-21T18:29:02.077Z"
   },
   {
    "duration": 7,
    "start_time": "2021-12-21T18:29:02.125Z"
   },
   {
    "duration": 31,
    "start_time": "2021-12-21T18:29:02.134Z"
   },
   {
    "duration": 6,
    "start_time": "2021-12-21T18:29:02.167Z"
   },
   {
    "duration": 34,
    "start_time": "2021-12-21T18:29:02.191Z"
   },
   {
    "duration": 21,
    "start_time": "2021-12-21T18:29:02.227Z"
   },
   {
    "duration": 42,
    "start_time": "2021-12-21T18:29:02.251Z"
   },
   {
    "duration": 76,
    "start_time": "2021-12-21T18:29:02.297Z"
   },
   {
    "duration": 78,
    "start_time": "2021-12-21T18:29:02.375Z"
   },
   {
    "duration": 68,
    "start_time": "2021-12-21T18:29:02.455Z"
   },
   {
    "duration": 13,
    "start_time": "2021-12-21T18:29:02.525Z"
   },
   {
    "duration": 8,
    "start_time": "2021-12-21T18:29:02.540Z"
   },
   {
    "duration": 33,
    "start_time": "2021-12-21T18:29:02.550Z"
   },
   {
    "duration": 17,
    "start_time": "2021-12-21T18:29:02.595Z"
   },
   {
    "duration": 22,
    "start_time": "2021-12-21T18:29:05.090Z"
   },
   {
    "duration": 11,
    "start_time": "2021-12-21T18:30:42.462Z"
   },
   {
    "duration": 8,
    "start_time": "2021-12-21T18:36:49.532Z"
   },
   {
    "duration": 11,
    "start_time": "2021-12-21T18:37:00.371Z"
   },
   {
    "duration": 11,
    "start_time": "2021-12-21T18:50:14.776Z"
   },
   {
    "duration": 4365,
    "start_time": "2021-12-21T18:51:08.630Z"
   },
   {
    "duration": 833,
    "start_time": "2021-12-21T18:51:38.090Z"
   },
   {
    "duration": 815,
    "start_time": "2021-12-21T18:52:06.937Z"
   },
   {
    "duration": 2,
    "start_time": "2021-12-21T18:52:11.070Z"
   },
   {
    "duration": 177,
    "start_time": "2021-12-21T18:52:11.076Z"
   },
   {
    "duration": 12,
    "start_time": "2021-12-21T18:52:11.255Z"
   },
   {
    "duration": 49,
    "start_time": "2021-12-21T18:52:11.269Z"
   },
   {
    "duration": 4,
    "start_time": "2021-12-21T18:52:11.320Z"
   },
   {
    "duration": 18,
    "start_time": "2021-12-21T18:52:11.325Z"
   },
   {
    "duration": 4,
    "start_time": "2021-12-21T18:52:11.344Z"
   },
   {
    "duration": 47,
    "start_time": "2021-12-21T18:52:11.350Z"
   },
   {
    "duration": 21,
    "start_time": "2021-12-21T18:52:11.401Z"
   },
   {
    "duration": 22,
    "start_time": "2021-12-21T18:52:11.425Z"
   },
   {
    "duration": 90,
    "start_time": "2021-12-21T18:52:11.449Z"
   },
   {
    "duration": 75,
    "start_time": "2021-12-21T18:52:11.541Z"
   },
   {
    "duration": 52,
    "start_time": "2021-12-21T18:52:11.617Z"
   },
   {
    "duration": 23,
    "start_time": "2021-12-21T18:52:11.670Z"
   },
   {
    "duration": 4,
    "start_time": "2021-12-21T18:52:11.695Z"
   },
   {
    "duration": 26,
    "start_time": "2021-12-21T18:52:11.701Z"
   },
   {
    "duration": 11,
    "start_time": "2021-12-21T18:52:11.730Z"
   },
   {
    "duration": 10,
    "start_time": "2021-12-21T18:52:11.742Z"
   },
   {
    "duration": 828,
    "start_time": "2021-12-21T18:52:11.753Z"
   },
   {
    "duration": 175,
    "start_time": "2021-12-21T18:53:41.128Z"
   },
   {
    "duration": 941,
    "start_time": "2021-12-21T18:53:48.663Z"
   },
   {
    "duration": 11,
    "start_time": "2021-12-21T18:54:35.920Z"
   },
   {
    "duration": 4883,
    "start_time": "2021-12-21T18:58:18.860Z"
   },
   {
    "duration": 18,
    "start_time": "2021-12-21T18:58:35.045Z"
   },
   {
    "duration": 4,
    "start_time": "2021-12-21T18:59:52.936Z"
   },
   {
    "duration": 17,
    "start_time": "2021-12-21T18:59:55.559Z"
   },
   {
    "duration": 31,
    "start_time": "2021-12-21T19:01:50.483Z"
   },
   {
    "duration": 16,
    "start_time": "2021-12-21T19:01:51.173Z"
   },
   {
    "duration": 20,
    "start_time": "2021-12-21T19:01:51.780Z"
   },
   {
    "duration": 14,
    "start_time": "2021-12-21T19:01:52.308Z"
   },
   {
    "duration": 18,
    "start_time": "2021-12-21T19:01:52.755Z"
   },
   {
    "duration": 15,
    "start_time": "2021-12-21T19:01:53.170Z"
   },
   {
    "duration": 4,
    "start_time": "2021-12-21T19:10:58.528Z"
   },
   {
    "duration": 10,
    "start_time": "2021-12-21T19:11:07.610Z"
   },
   {
    "duration": 11,
    "start_time": "2021-12-21T19:17:52.466Z"
   },
   {
    "duration": 12,
    "start_time": "2021-12-21T19:17:53.206Z"
   },
   {
    "duration": 7,
    "start_time": "2021-12-21T19:50:18.896Z"
   },
   {
    "duration": 490,
    "start_time": "2021-12-21T19:55:00.034Z"
   },
   {
    "duration": 4,
    "start_time": "2021-12-21T19:55:24.164Z"
   },
   {
    "duration": 358,
    "start_time": "2021-12-21T19:55:25.466Z"
   },
   {
    "duration": 4,
    "start_time": "2021-12-21T19:55:29.997Z"
   },
   {
    "duration": 154,
    "start_time": "2021-12-21T19:55:30.005Z"
   },
   {
    "duration": 10,
    "start_time": "2021-12-21T19:55:30.161Z"
   },
   {
    "duration": 43,
    "start_time": "2021-12-21T19:55:30.173Z"
   },
   {
    "duration": 5,
    "start_time": "2021-12-21T19:55:30.218Z"
   },
   {
    "duration": 14,
    "start_time": "2021-12-21T19:55:30.225Z"
   },
   {
    "duration": 4,
    "start_time": "2021-12-21T19:55:30.241Z"
   },
   {
    "duration": 53,
    "start_time": "2021-12-21T19:55:30.247Z"
   },
   {
    "duration": 21,
    "start_time": "2021-12-21T19:55:30.303Z"
   },
   {
    "duration": 28,
    "start_time": "2021-12-21T19:55:30.326Z"
   },
   {
    "duration": 83,
    "start_time": "2021-12-21T19:55:30.356Z"
   },
   {
    "duration": 76,
    "start_time": "2021-12-21T19:55:30.441Z"
   },
   {
    "duration": 51,
    "start_time": "2021-12-21T19:55:30.518Z"
   },
   {
    "duration": 23,
    "start_time": "2021-12-21T19:55:30.570Z"
   },
   {
    "duration": 5,
    "start_time": "2021-12-21T19:55:30.595Z"
   },
   {
    "duration": 37,
    "start_time": "2021-12-21T19:55:30.601Z"
   },
   {
    "duration": 9,
    "start_time": "2021-12-21T19:55:30.639Z"
   },
   {
    "duration": 10,
    "start_time": "2021-12-21T19:55:30.650Z"
   },
   {
    "duration": 30,
    "start_time": "2021-12-21T19:55:30.661Z"
   },
   {
    "duration": 9,
    "start_time": "2021-12-21T19:55:30.694Z"
   },
   {
    "duration": 20,
    "start_time": "2021-12-21T19:55:30.706Z"
   },
   {
    "duration": 14,
    "start_time": "2021-12-21T19:55:30.728Z"
   },
   {
    "duration": 34,
    "start_time": "2021-12-21T19:55:30.745Z"
   },
   {
    "duration": 27,
    "start_time": "2021-12-21T19:55:30.781Z"
   },
   {
    "duration": 18,
    "start_time": "2021-12-21T19:55:30.810Z"
   },
   {
    "duration": 25,
    "start_time": "2021-12-21T19:55:30.830Z"
   },
   {
    "duration": 33,
    "start_time": "2021-12-21T19:55:30.857Z"
   },
   {
    "duration": 41,
    "start_time": "2021-12-21T19:55:30.893Z"
   },
   {
    "duration": 23,
    "start_time": "2021-12-21T19:55:30.936Z"
   },
   {
    "duration": 22,
    "start_time": "2021-12-21T19:55:30.961Z"
   },
   {
    "duration": 362,
    "start_time": "2021-12-21T19:55:35.097Z"
   },
   {
    "duration": 4,
    "start_time": "2021-12-21T19:58:08.583Z"
   },
   {
    "duration": 488,
    "start_time": "2021-12-21T19:58:10.035Z"
   },
   {
    "duration": 3,
    "start_time": "2021-12-21T19:59:26.472Z"
   },
   {
    "duration": 162,
    "start_time": "2021-12-21T19:59:26.477Z"
   },
   {
    "duration": 11,
    "start_time": "2021-12-21T19:59:26.641Z"
   },
   {
    "duration": 29,
    "start_time": "2021-12-21T19:59:26.654Z"
   },
   {
    "duration": 7,
    "start_time": "2021-12-21T19:59:26.693Z"
   },
   {
    "duration": 23,
    "start_time": "2021-12-21T19:59:26.702Z"
   },
   {
    "duration": 4,
    "start_time": "2021-12-21T19:59:26.727Z"
   },
   {
    "duration": 22,
    "start_time": "2021-12-21T19:59:26.734Z"
   },
   {
    "duration": 52,
    "start_time": "2021-12-21T19:59:26.758Z"
   },
   {
    "duration": 23,
    "start_time": "2021-12-21T19:59:26.812Z"
   },
   {
    "duration": 82,
    "start_time": "2021-12-21T19:59:26.836Z"
   },
   {
    "duration": 59,
    "start_time": "2021-12-21T19:59:26.920Z"
   },
   {
    "duration": 59,
    "start_time": "2021-12-21T19:59:26.980Z"
   },
   {
    "duration": 8,
    "start_time": "2021-12-21T19:59:27.041Z"
   },
   {
    "duration": 3,
    "start_time": "2021-12-21T19:59:27.050Z"
   },
   {
    "duration": 51,
    "start_time": "2021-12-21T19:59:27.054Z"
   },
   {
    "duration": 9,
    "start_time": "2021-12-21T19:59:27.107Z"
   },
   {
    "duration": 10,
    "start_time": "2021-12-21T19:59:27.118Z"
   },
   {
    "duration": 10,
    "start_time": "2021-12-21T19:59:27.129Z"
   },
   {
    "duration": 3,
    "start_time": "2021-12-21T19:59:27.141Z"
   },
   {
    "duration": 52,
    "start_time": "2021-12-21T19:59:27.146Z"
   },
   {
    "duration": 21,
    "start_time": "2021-12-21T19:59:27.201Z"
   },
   {
    "duration": 13,
    "start_time": "2021-12-21T19:59:27.225Z"
   },
   {
    "duration": 14,
    "start_time": "2021-12-21T19:59:27.240Z"
   },
   {
    "duration": 51,
    "start_time": "2021-12-21T19:59:27.256Z"
   },
   {
    "duration": 19,
    "start_time": "2021-12-21T19:59:27.309Z"
   },
   {
    "duration": 9,
    "start_time": "2021-12-21T19:59:27.329Z"
   },
   {
    "duration": 11,
    "start_time": "2021-12-21T19:59:27.340Z"
   },
   {
    "duration": 43,
    "start_time": "2021-12-21T19:59:27.353Z"
   },
   {
    "duration": 8,
    "start_time": "2021-12-21T19:59:27.401Z"
   },
   {
    "duration": 367,
    "start_time": "2021-12-21T19:59:30.075Z"
   },
   {
    "duration": 4,
    "start_time": "2021-12-21T20:00:03.523Z"
   },
   {
    "duration": 14,
    "start_time": "2021-12-21T20:00:04.834Z"
   },
   {
    "duration": 3,
    "start_time": "2021-12-21T20:02:45.027Z"
   },
   {
    "duration": 147,
    "start_time": "2021-12-21T20:02:45.034Z"
   },
   {
    "duration": 16,
    "start_time": "2021-12-21T20:02:45.183Z"
   },
   {
    "duration": 31,
    "start_time": "2021-12-21T20:02:45.202Z"
   },
   {
    "duration": 4,
    "start_time": "2021-12-21T20:02:45.236Z"
   },
   {
    "duration": 15,
    "start_time": "2021-12-21T20:02:45.243Z"
   },
   {
    "duration": 34,
    "start_time": "2021-12-21T20:02:45.260Z"
   },
   {
    "duration": 27,
    "start_time": "2021-12-21T20:02:45.298Z"
   },
   {
    "duration": 23,
    "start_time": "2021-12-21T20:02:45.328Z"
   },
   {
    "duration": 58,
    "start_time": "2021-12-21T20:02:45.355Z"
   },
   {
    "duration": 58,
    "start_time": "2021-12-21T20:02:45.415Z"
   },
   {
    "duration": 81,
    "start_time": "2021-12-21T20:02:45.475Z"
   },
   {
    "duration": 68,
    "start_time": "2021-12-21T20:02:45.558Z"
   },
   {
    "duration": 9,
    "start_time": "2021-12-21T20:02:45.628Z"
   },
   {
    "duration": 2,
    "start_time": "2021-12-21T20:02:45.639Z"
   },
   {
    "duration": 21,
    "start_time": "2021-12-21T20:02:45.643Z"
   },
   {
    "duration": 30,
    "start_time": "2021-12-21T20:02:45.665Z"
   },
   {
    "duration": 15,
    "start_time": "2021-12-21T20:02:45.699Z"
   },
   {
    "duration": 11,
    "start_time": "2021-12-21T20:02:45.716Z"
   },
   {
    "duration": 4,
    "start_time": "2021-12-21T20:02:45.728Z"
   },
   {
    "duration": 23,
    "start_time": "2021-12-21T20:02:45.733Z"
   },
   {
    "duration": 55,
    "start_time": "2021-12-21T20:02:45.757Z"
   },
   {
    "duration": 15,
    "start_time": "2021-12-21T20:02:45.814Z"
   },
   {
    "duration": 14,
    "start_time": "2021-12-21T20:02:45.832Z"
   },
   {
    "duration": 53,
    "start_time": "2021-12-21T20:02:45.849Z"
   },
   {
    "duration": 20,
    "start_time": "2021-12-21T20:02:45.904Z"
   },
   {
    "duration": 12,
    "start_time": "2021-12-21T20:02:45.926Z"
   },
   {
    "duration": 14,
    "start_time": "2021-12-21T20:02:45.940Z"
   },
   {
    "duration": 38,
    "start_time": "2021-12-21T20:02:45.956Z"
   },
   {
    "duration": 7,
    "start_time": "2021-12-21T20:02:45.996Z"
   },
   {
    "duration": 23,
    "start_time": "2021-12-21T20:02:46.006Z"
   },
   {
    "duration": 20,
    "start_time": "2021-12-21T20:02:47.763Z"
   },
   {
    "duration": 18,
    "start_time": "2021-12-21T20:02:49.696Z"
   },
   {
    "duration": 17,
    "start_time": "2021-12-21T20:03:47.011Z"
   },
   {
    "duration": 13,
    "start_time": "2021-12-21T20:04:00.436Z"
   },
   {
    "duration": 217,
    "start_time": "2021-12-21T20:10:34.956Z"
   },
   {
    "duration": 9,
    "start_time": "2021-12-21T20:10:46.683Z"
   },
   {
    "duration": 7,
    "start_time": "2021-12-21T20:10:48.363Z"
   },
   {
    "duration": 6,
    "start_time": "2021-12-21T20:12:34.557Z"
   },
   {
    "duration": 5,
    "start_time": "2021-12-21T20:12:35.635Z"
   }
  ],
  "colab": {
   "collapsed_sections": [
    "E0vqbgi9ay0H",
    "VUC88oWjTJw2"
   ],
   "name": "yandex_music_project_2021.2.ipynb",
   "provenance": []
  },
  "kernelspec": {
   "display_name": "Python 3 (ipykernel)",
   "language": "python",
   "name": "python3"
  },
  "language_info": {
   "codemirror_mode": {
    "name": "ipython",
    "version": 3
   },
   "file_extension": ".py",
   "mimetype": "text/x-python",
   "name": "python",
   "nbconvert_exporter": "python",
   "pygments_lexer": "ipython3",
   "version": "3.9.12"
  },
  "toc": {
   "base_numbering": 1,
   "nav_menu": {},
   "number_sections": true,
   "sideBar": true,
   "skip_h1_title": true,
   "title_cell": "Table of Contents",
   "title_sidebar": "Contents",
   "toc_cell": false,
   "toc_position": {},
   "toc_section_display": true,
   "toc_window_display": true
  }
 },
 "nbformat": 4,
 "nbformat_minor": 1
}
