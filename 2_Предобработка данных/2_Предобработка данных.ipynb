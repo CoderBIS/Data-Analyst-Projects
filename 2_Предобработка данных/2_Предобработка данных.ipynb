{
 "cells": [
  {
   "cell_type": "markdown",
   "metadata": {},
   "source": [
    "#### Антон, привет! \n",
    "\n",
    "Меня зовут Максим Попов, и я буду проверять твой проект. Давай будем общаться на «ты». Но если тебе комфортнее на «вы», обязательно сообщи мне об этом. \n",
    "По ходу тетрадки ты найдешь комментарии к проекту, они будут в отдельных ячейках Markdown с заголовком «Комментарий ревьюера». Постарайся учесть эти комментарии для дальнейших проектов.\n",
    "\n",
    "---\n",
    "\n",
    "Я буду отмечать комментарии цветом и примечанием. В конце заголовка комментария будет указан номер итерации проверки. Пожалуйста, не удаляй и не правь мои комментарии\n",
    "\n",
    "Критично - требует исправления, влияет на удачное выполнение проекта\n",
    "\n",
    "Рекомендация - комментарий является рекомендацией или советом. Mожешь учесть их при выполнении будущих заданий. На твое усмотрение\n",
    "\n",
    "Отлично - Так отмечены удачные решения и подходы, на которые стоит опираться в будущих проектах\n",
    "\n",
    "<div class=\"alert alert-block alert-danger\">\n",
    "    \n",
    "\n",
    "### Комментарий от ревьюера\n",
    "Критично\n",
    "\n",
    "Такой комментарий нужно исправить обязательно, он критически влияет на удачное выполнение проекта.\n",
    "</div>\n",
    "    \n",
    "---\n",
    "\n",
    "<div class=\"alert alert-block alert-warning\">\n",
    "    \n",
    "\n",
    "### Комментарий от ревьюера\n",
    "Рекомендация\n",
    "\n",
    "Такой комментарий является рекомендацией или советом. Mожешь учесть их при выполнении будущих заданий. На твое усмотрение. \n",
    "</div>\n",
    "\n",
    "---\n",
    "\n",
    "<div class=\"alert alert-block alert-success\">\n",
    "    \n",
    "\n",
    "### Комментарий от ревьюера\n",
    "Отлично\n",
    "    \n",
    "Так отмечены удачные решения и подходы, на которые стоит опираться в будущих проектах\n",
    "</div>"
   ]
  },
  {
   "cell_type": "markdown",
   "metadata": {},
   "source": [
    "<div class=\"alert alert-block alert-success\">\n",
    "    \n",
    "    \n",
    "### Комментарий от ревьюера v_1\n",
    "    \n",
    "Антон, у тебя отличная работа, но надо исправить следующие моменты:\n",
    "    \n",
    "1. Категоризация по семейному положению\n",
    "2. Интерпретация различий между категориями\n",
    "\n",
    "Подробные комментарии по ходу работы\n",
    "\n",
    "    \n",
    "Желтые комментарии-рекомендации на твое усмотрение.\n",
    "    \n",
    "Если есть вопросы ко мне, можешь оставить их в отдельном комментарии\n",
    "</div>"
   ]
  },
  {
   "cell_type": "markdown",
   "metadata": {},
   "source": [
    "<div class=\"alert alert-block alert-success\">\n",
    " \n",
    "    \n",
    "### Комментарий от ревьюера v_2\n",
    "    \n",
    "Антон,привет!\n",
    "    \n",
    "Отлично, все критичные комментарии отработаны!\n",
    "    \n",
    "Успеха в дальнейшем обучении!\n",
    "</div>"
   ]
  },
  {
   "cell_type": "markdown",
   "metadata": {},
   "source": [
    "**Привет, Максим! Благодарю за объективное ревью с полезными советами. Доработал проект по твоим замечаниям. Надеюсь, что ничего не упустил.**"
   ]
  },
  {
   "cell_type": "markdown",
   "metadata": {},
   "source": [
    "# Исследование надёжности заёмщиков\n",
    "\n",
    "Заказчик — кредитный отдел банка. Нужно разобраться, влияет ли семейное положение и количество детей клиента на факт погашения кредита в срок. Входные данные от банка — статистика о платёжеспособности клиентов.\n",
    "\n",
    "Результаты исследования будут учтены при построении модели **кредитного скоринга** — специальной системы, которая оценивает способность потенциального заёмщика вернуть кредит банку.\n",
    "\n",
    "**Цель исследования** — ответить на вопросы:\n",
    "1. Есть ли зависимость между наличием детей и возвратом кредита в срок?\n",
    "2. Есть ли зависимость между семейным положением и возвратом кредита в срок?\n",
    "3. Есть ли зависимость между уровнем дохода и возвратом кредита в срок?\n",
    "4. Как разные цели кредита влияют на его возврат в срок?\n",
    "\n",
    "**Ход исследования**\n",
    "\n",
    "Данные получаем из файла '/datasets/data.csv'. Качество данных неизвестно, поэтому перед началом выполнения основной задачи понадобится обзор данных. \n",
    "\n",
    "Необходимо проверить данные на ошибки и оценить их влияние на исследование. Затем, на этапе предобработки необходимо найти возможность исправить самые критичные ошибки данных.\n",
    " \n",
    "Таким образом, исследование пройдёт в три этапа:\n",
    " 1. Обзор данных.\n",
    " 2. Предобработка данных.\n",
    " 3. Ответы на поставленные вопросы."
   ]
  },
  {
   "cell_type": "markdown",
   "metadata": {},
   "source": [
    "<div class=\"alert alert-block alert-success\">\n",
    "    \n",
    "\n",
    "### Комментарий от ревьюера v_1\n",
    "Отлично\n",
    "    \n",
    "Молодец, что в начале проекта знакомишь с ним, так работа приобретает структуру и лучше воспринимается.\n",
    "</div>"
   ]
  },
  {
   "cell_type": "markdown",
   "metadata": {},
   "source": [
    "## Шаг 1. Откройте файл с данными и изучите общую информацию"
   ]
  },
  {
   "cell_type": "code",
   "execution_count": 159,
   "metadata": {},
   "outputs": [],
   "source": [
    "import pandas as pd\n",
    "\n",
    "from pymystem3 import Mystem\n",
    "m = Mystem()\n",
    "\n",
    "import seaborn"
   ]
  },
  {
   "cell_type": "markdown",
   "metadata": {},
   "source": [
    "<div class=\"alert alert-block alert-warning\">\n",
    "    \n",
    "\n",
    "### Комментарий от ревьюера v_1\n",
    "Рекомендация\n",
    "\n",
    "Все используемые в проекте библиотеки следует импортировать в начале тетрадки, в отдельной ячейке\n",
    "</div>"
   ]
  },
  {
   "cell_type": "markdown",
   "metadata": {},
   "source": [
    "### Комментарий на замечание от студента:\n",
    "Учитываю в работе - все используемые библиотеки импортированы в первой ячейке с кодом."
   ]
  },
  {
   "cell_type": "code",
   "execution_count": 160,
   "metadata": {},
   "outputs": [],
   "source": [
    "try:\n",
    "    df = pd.read_csv('/datasets/data.csv')\n",
    "except:\n",
    "    print('Файл не читается!')"
   ]
  },
  {
   "cell_type": "code",
   "execution_count": 161,
   "metadata": {
    "scrolled": false
   },
   "outputs": [
    {
     "data": {
      "text/html": [
       "<div>\n",
       "<style scoped>\n",
       "    .dataframe tbody tr th:only-of-type {\n",
       "        vertical-align: middle;\n",
       "    }\n",
       "\n",
       "    .dataframe tbody tr th {\n",
       "        vertical-align: top;\n",
       "    }\n",
       "\n",
       "    .dataframe thead th {\n",
       "        text-align: right;\n",
       "    }\n",
       "</style>\n",
       "<table border=\"1\" class=\"dataframe\">\n",
       "  <thead>\n",
       "    <tr style=\"text-align: right;\">\n",
       "      <th></th>\n",
       "      <th>children</th>\n",
       "      <th>days_employed</th>\n",
       "      <th>dob_years</th>\n",
       "      <th>education</th>\n",
       "      <th>education_id</th>\n",
       "      <th>family_status</th>\n",
       "      <th>family_status_id</th>\n",
       "      <th>gender</th>\n",
       "      <th>income_type</th>\n",
       "      <th>debt</th>\n",
       "      <th>total_income</th>\n",
       "      <th>purpose</th>\n",
       "    </tr>\n",
       "  </thead>\n",
       "  <tbody>\n",
       "    <tr>\n",
       "      <td>0</td>\n",
       "      <td>1</td>\n",
       "      <td>-8437.673028</td>\n",
       "      <td>42</td>\n",
       "      <td>высшее</td>\n",
       "      <td>0</td>\n",
       "      <td>женат / замужем</td>\n",
       "      <td>0</td>\n",
       "      <td>F</td>\n",
       "      <td>сотрудник</td>\n",
       "      <td>0</td>\n",
       "      <td>253875.639453</td>\n",
       "      <td>покупка жилья</td>\n",
       "    </tr>\n",
       "    <tr>\n",
       "      <td>1</td>\n",
       "      <td>1</td>\n",
       "      <td>-4024.803754</td>\n",
       "      <td>36</td>\n",
       "      <td>среднее</td>\n",
       "      <td>1</td>\n",
       "      <td>женат / замужем</td>\n",
       "      <td>0</td>\n",
       "      <td>F</td>\n",
       "      <td>сотрудник</td>\n",
       "      <td>0</td>\n",
       "      <td>112080.014102</td>\n",
       "      <td>приобретение автомобиля</td>\n",
       "    </tr>\n",
       "    <tr>\n",
       "      <td>2</td>\n",
       "      <td>0</td>\n",
       "      <td>-5623.422610</td>\n",
       "      <td>33</td>\n",
       "      <td>Среднее</td>\n",
       "      <td>1</td>\n",
       "      <td>женат / замужем</td>\n",
       "      <td>0</td>\n",
       "      <td>M</td>\n",
       "      <td>сотрудник</td>\n",
       "      <td>0</td>\n",
       "      <td>145885.952297</td>\n",
       "      <td>покупка жилья</td>\n",
       "    </tr>\n",
       "    <tr>\n",
       "      <td>3</td>\n",
       "      <td>3</td>\n",
       "      <td>-4124.747207</td>\n",
       "      <td>32</td>\n",
       "      <td>среднее</td>\n",
       "      <td>1</td>\n",
       "      <td>женат / замужем</td>\n",
       "      <td>0</td>\n",
       "      <td>M</td>\n",
       "      <td>сотрудник</td>\n",
       "      <td>0</td>\n",
       "      <td>267628.550329</td>\n",
       "      <td>дополнительное образование</td>\n",
       "    </tr>\n",
       "    <tr>\n",
       "      <td>4</td>\n",
       "      <td>0</td>\n",
       "      <td>340266.072047</td>\n",
       "      <td>53</td>\n",
       "      <td>среднее</td>\n",
       "      <td>1</td>\n",
       "      <td>гражданский брак</td>\n",
       "      <td>1</td>\n",
       "      <td>F</td>\n",
       "      <td>пенсионер</td>\n",
       "      <td>0</td>\n",
       "      <td>158616.077870</td>\n",
       "      <td>сыграть свадьбу</td>\n",
       "    </tr>\n",
       "    <tr>\n",
       "      <td>5</td>\n",
       "      <td>0</td>\n",
       "      <td>-926.185831</td>\n",
       "      <td>27</td>\n",
       "      <td>высшее</td>\n",
       "      <td>0</td>\n",
       "      <td>гражданский брак</td>\n",
       "      <td>1</td>\n",
       "      <td>M</td>\n",
       "      <td>компаньон</td>\n",
       "      <td>0</td>\n",
       "      <td>255763.565419</td>\n",
       "      <td>покупка жилья</td>\n",
       "    </tr>\n",
       "    <tr>\n",
       "      <td>6</td>\n",
       "      <td>0</td>\n",
       "      <td>-2879.202052</td>\n",
       "      <td>43</td>\n",
       "      <td>высшее</td>\n",
       "      <td>0</td>\n",
       "      <td>женат / замужем</td>\n",
       "      <td>0</td>\n",
       "      <td>F</td>\n",
       "      <td>компаньон</td>\n",
       "      <td>0</td>\n",
       "      <td>240525.971920</td>\n",
       "      <td>операции с жильем</td>\n",
       "    </tr>\n",
       "    <tr>\n",
       "      <td>7</td>\n",
       "      <td>0</td>\n",
       "      <td>-152.779569</td>\n",
       "      <td>50</td>\n",
       "      <td>СРЕДНЕЕ</td>\n",
       "      <td>1</td>\n",
       "      <td>женат / замужем</td>\n",
       "      <td>0</td>\n",
       "      <td>M</td>\n",
       "      <td>сотрудник</td>\n",
       "      <td>0</td>\n",
       "      <td>135823.934197</td>\n",
       "      <td>образование</td>\n",
       "    </tr>\n",
       "    <tr>\n",
       "      <td>8</td>\n",
       "      <td>2</td>\n",
       "      <td>-6929.865299</td>\n",
       "      <td>35</td>\n",
       "      <td>ВЫСШЕЕ</td>\n",
       "      <td>0</td>\n",
       "      <td>гражданский брак</td>\n",
       "      <td>1</td>\n",
       "      <td>F</td>\n",
       "      <td>сотрудник</td>\n",
       "      <td>0</td>\n",
       "      <td>95856.832424</td>\n",
       "      <td>на проведение свадьбы</td>\n",
       "    </tr>\n",
       "    <tr>\n",
       "      <td>9</td>\n",
       "      <td>0</td>\n",
       "      <td>-2188.756445</td>\n",
       "      <td>41</td>\n",
       "      <td>среднее</td>\n",
       "      <td>1</td>\n",
       "      <td>женат / замужем</td>\n",
       "      <td>0</td>\n",
       "      <td>M</td>\n",
       "      <td>сотрудник</td>\n",
       "      <td>0</td>\n",
       "      <td>144425.938277</td>\n",
       "      <td>покупка жилья для семьи</td>\n",
       "    </tr>\n",
       "  </tbody>\n",
       "</table>\n",
       "</div>"
      ],
      "text/plain": [
       "   children  days_employed  dob_years education  education_id  \\\n",
       "0         1   -8437.673028         42    высшее             0   \n",
       "1         1   -4024.803754         36   среднее             1   \n",
       "2         0   -5623.422610         33   Среднее             1   \n",
       "3         3   -4124.747207         32   среднее             1   \n",
       "4         0  340266.072047         53   среднее             1   \n",
       "5         0    -926.185831         27    высшее             0   \n",
       "6         0   -2879.202052         43    высшее             0   \n",
       "7         0    -152.779569         50   СРЕДНЕЕ             1   \n",
       "8         2   -6929.865299         35    ВЫСШЕЕ             0   \n",
       "9         0   -2188.756445         41   среднее             1   \n",
       "\n",
       "      family_status  family_status_id gender income_type  debt   total_income  \\\n",
       "0   женат / замужем                 0      F   сотрудник     0  253875.639453   \n",
       "1   женат / замужем                 0      F   сотрудник     0  112080.014102   \n",
       "2   женат / замужем                 0      M   сотрудник     0  145885.952297   \n",
       "3   женат / замужем                 0      M   сотрудник     0  267628.550329   \n",
       "4  гражданский брак                 1      F   пенсионер     0  158616.077870   \n",
       "5  гражданский брак                 1      M   компаньон     0  255763.565419   \n",
       "6   женат / замужем                 0      F   компаньон     0  240525.971920   \n",
       "7   женат / замужем                 0      M   сотрудник     0  135823.934197   \n",
       "8  гражданский брак                 1      F   сотрудник     0   95856.832424   \n",
       "9   женат / замужем                 0      M   сотрудник     0  144425.938277   \n",
       "\n",
       "                      purpose  \n",
       "0               покупка жилья  \n",
       "1     приобретение автомобиля  \n",
       "2               покупка жилья  \n",
       "3  дополнительное образование  \n",
       "4             сыграть свадьбу  \n",
       "5               покупка жилья  \n",
       "6           операции с жильем  \n",
       "7                 образование  \n",
       "8       на проведение свадьбы  \n",
       "9     покупка жилья для семьи  "
      ]
     },
     "execution_count": 161,
     "metadata": {},
     "output_type": "execute_result"
    }
   ],
   "source": [
    "df.head(10)"
   ]
  },
  {
   "cell_type": "code",
   "execution_count": 162,
   "metadata": {
    "scrolled": true
   },
   "outputs": [
    {
     "name": "stdout",
     "output_type": "stream",
     "text": [
      "<class 'pandas.core.frame.DataFrame'>\n",
      "RangeIndex: 21525 entries, 0 to 21524\n",
      "Data columns (total 12 columns):\n",
      "children            21525 non-null int64\n",
      "days_employed       19351 non-null float64\n",
      "dob_years           21525 non-null int64\n",
      "education           21525 non-null object\n",
      "education_id        21525 non-null int64\n",
      "family_status       21525 non-null object\n",
      "family_status_id    21525 non-null int64\n",
      "gender              21525 non-null object\n",
      "income_type         21525 non-null object\n",
      "debt                21525 non-null int64\n",
      "total_income        19351 non-null float64\n",
      "purpose             21525 non-null object\n",
      "dtypes: float64(2), int64(5), object(5)\n",
      "memory usage: 2.0+ MB\n"
     ]
    },
    {
     "data": {
      "text/html": [
       "<div>\n",
       "<style scoped>\n",
       "    .dataframe tbody tr th:only-of-type {\n",
       "        vertical-align: middle;\n",
       "    }\n",
       "\n",
       "    .dataframe tbody tr th {\n",
       "        vertical-align: top;\n",
       "    }\n",
       "\n",
       "    .dataframe thead th {\n",
       "        text-align: right;\n",
       "    }\n",
       "</style>\n",
       "<table border=\"1\" class=\"dataframe\">\n",
       "  <thead>\n",
       "    <tr style=\"text-align: right;\">\n",
       "      <th></th>\n",
       "      <th>children</th>\n",
       "      <th>days_employed</th>\n",
       "      <th>dob_years</th>\n",
       "      <th>education_id</th>\n",
       "      <th>family_status_id</th>\n",
       "      <th>debt</th>\n",
       "      <th>total_income</th>\n",
       "    </tr>\n",
       "  </thead>\n",
       "  <tbody>\n",
       "    <tr>\n",
       "      <td>count</td>\n",
       "      <td>21525.000000</td>\n",
       "      <td>19351.000000</td>\n",
       "      <td>21525.000000</td>\n",
       "      <td>21525.000000</td>\n",
       "      <td>21525.000000</td>\n",
       "      <td>21525.000000</td>\n",
       "      <td>1.935100e+04</td>\n",
       "    </tr>\n",
       "    <tr>\n",
       "      <td>mean</td>\n",
       "      <td>0.538908</td>\n",
       "      <td>63046.497661</td>\n",
       "      <td>43.293380</td>\n",
       "      <td>0.817236</td>\n",
       "      <td>0.972544</td>\n",
       "      <td>0.080883</td>\n",
       "      <td>1.674223e+05</td>\n",
       "    </tr>\n",
       "    <tr>\n",
       "      <td>std</td>\n",
       "      <td>1.381587</td>\n",
       "      <td>140827.311974</td>\n",
       "      <td>12.574584</td>\n",
       "      <td>0.548138</td>\n",
       "      <td>1.420324</td>\n",
       "      <td>0.272661</td>\n",
       "      <td>1.029716e+05</td>\n",
       "    </tr>\n",
       "    <tr>\n",
       "      <td>min</td>\n",
       "      <td>-1.000000</td>\n",
       "      <td>-18388.949901</td>\n",
       "      <td>0.000000</td>\n",
       "      <td>0.000000</td>\n",
       "      <td>0.000000</td>\n",
       "      <td>0.000000</td>\n",
       "      <td>2.066726e+04</td>\n",
       "    </tr>\n",
       "    <tr>\n",
       "      <td>25%</td>\n",
       "      <td>0.000000</td>\n",
       "      <td>-2747.423625</td>\n",
       "      <td>33.000000</td>\n",
       "      <td>1.000000</td>\n",
       "      <td>0.000000</td>\n",
       "      <td>0.000000</td>\n",
       "      <td>1.030532e+05</td>\n",
       "    </tr>\n",
       "    <tr>\n",
       "      <td>50%</td>\n",
       "      <td>0.000000</td>\n",
       "      <td>-1203.369529</td>\n",
       "      <td>42.000000</td>\n",
       "      <td>1.000000</td>\n",
       "      <td>0.000000</td>\n",
       "      <td>0.000000</td>\n",
       "      <td>1.450179e+05</td>\n",
       "    </tr>\n",
       "    <tr>\n",
       "      <td>75%</td>\n",
       "      <td>1.000000</td>\n",
       "      <td>-291.095954</td>\n",
       "      <td>53.000000</td>\n",
       "      <td>1.000000</td>\n",
       "      <td>1.000000</td>\n",
       "      <td>0.000000</td>\n",
       "      <td>2.034351e+05</td>\n",
       "    </tr>\n",
       "    <tr>\n",
       "      <td>max</td>\n",
       "      <td>20.000000</td>\n",
       "      <td>401755.400475</td>\n",
       "      <td>75.000000</td>\n",
       "      <td>4.000000</td>\n",
       "      <td>4.000000</td>\n",
       "      <td>1.000000</td>\n",
       "      <td>2.265604e+06</td>\n",
       "    </tr>\n",
       "  </tbody>\n",
       "</table>\n",
       "</div>"
      ],
      "text/plain": [
       "           children  days_employed     dob_years  education_id  \\\n",
       "count  21525.000000   19351.000000  21525.000000  21525.000000   \n",
       "mean       0.538908   63046.497661     43.293380      0.817236   \n",
       "std        1.381587  140827.311974     12.574584      0.548138   \n",
       "min       -1.000000  -18388.949901      0.000000      0.000000   \n",
       "25%        0.000000   -2747.423625     33.000000      1.000000   \n",
       "50%        0.000000   -1203.369529     42.000000      1.000000   \n",
       "75%        1.000000    -291.095954     53.000000      1.000000   \n",
       "max       20.000000  401755.400475     75.000000      4.000000   \n",
       "\n",
       "       family_status_id          debt  total_income  \n",
       "count      21525.000000  21525.000000  1.935100e+04  \n",
       "mean           0.972544      0.080883  1.674223e+05  \n",
       "std            1.420324      0.272661  1.029716e+05  \n",
       "min            0.000000      0.000000  2.066726e+04  \n",
       "25%            0.000000      0.000000  1.030532e+05  \n",
       "50%            0.000000      0.000000  1.450179e+05  \n",
       "75%            1.000000      0.000000  2.034351e+05  \n",
       "max            4.000000      1.000000  2.265604e+06  "
      ]
     },
     "execution_count": 162,
     "metadata": {},
     "output_type": "execute_result"
    }
   ],
   "source": [
    "df.info()\n",
    "df.describe()"
   ]
  },
  {
   "cell_type": "markdown",
   "metadata": {},
   "source": [
    "Итак, в таблице 12 столбцов. Тип данных во всех столбцах различается.\n",
    "\n",
    "Согласно документации к данным:\n",
    "* children — количество детей в семье\n",
    "* days_employed — общий трудовой стаж в днях\n",
    "* dob_years — возраст клиента в годах\n",
    "* education — уровень образования клиента\n",
    "* education_id — идентификатор уровня образования\n",
    "* family_status — семейное положение\n",
    "* family_status_id — идентификатор семейного положения\n",
    "* gender — пол клиента\n",
    "* income_type — тип занятости\n",
    "* debt — имел ли задолженность по возврату кредитов\n",
    "* total_income — ежемесячный доход\n",
    "* purpose — цель получения кредита"
   ]
  },
  {
   "cell_type": "markdown",
   "metadata": {},
   "source": [
    "**Вывод**"
   ]
  },
  {
   "cell_type": "markdown",
   "metadata": {},
   "source": [
    "В каждой строке таблицы — данные о заемщике. Часть колонок описывает самого заемщика: количество детей, возраст, пол, уровень образования и семейное положение. Остальные данные рассказывают о платежеспособности заемщика: трудовой стаж, тип занятости, ежемесячный доход, ниличие случаев задолженности и цель получения кредита.\n",
    "\n",
    "Предварительно можно утверждать, что данных достаточно для ответа на поставленные вопросы. Но встречаются пропуски в данных (количество значений в колонках различается), а названия некоторых колонок недостаточно информативны / недостаточно корректны. Также в колонке 'days_employed' содержатся некорректные данные, но данные из этой колонки не должны повлиять на поиск ответов на поставленные вопросы.\n",
    "\n",
    "Чтобы двигаться дальше, нужно устранить проблемы в данных."
   ]
  },
  {
   "cell_type": "markdown",
   "metadata": {},
   "source": [
    "<div class=\"alert alert-block alert-success\">\n",
    "    \n",
    "\n",
    "### Комментарий от ревьюера v_1\n",
    "Отлично\n",
    "    \n",
    "Молодец, что после применения info обращаешь внимание на возможные несоответсвия и пишешь дальнейший план действий. Так ты ничего не упустишь и глубже посмотришь на данные\n",
    "\n",
    "Также рекомендую использовать describe для первичного взгляда на данные\n",
    "</div>"
   ]
  },
  {
   "cell_type": "markdown",
   "metadata": {},
   "source": [
    "### Комментарий от студента:\n",
    "Спасибо за полезный метод describe, мы его ещё не проходили - буду пользоваться."
   ]
  },
  {
   "cell_type": "markdown",
   "metadata": {},
   "source": [
    "## Шаг 2. Предобработка данных"
   ]
  },
  {
   "cell_type": "markdown",
   "metadata": {},
   "source": [
    "<div class=\"alert alert-block alert-warning\">\n",
    "    \n",
    "\n",
    "### Комментарий от ревьюера v_1\n",
    "Рекомендация\n",
    "    \n",
    "В начале шага следует написать перечень действий, который планируешь выполнить. Так ты ничего не упустишь и добавишь проекту структуры\n",
    "</div>"
   ]
  },
  {
   "cell_type": "markdown",
   "metadata": {},
   "source": [
    "### Комментарий на замечание от студента:\n",
    "Исправляюсь - добавлен перечень основных действий ниже:"
   ]
  },
  {
   "cell_type": "markdown",
   "metadata": {},
   "source": [
    "**Предобработку разделяем на следующие основные действия:**\n",
    "- необходимо переименовать столбцы для удобства в работе;\n",
    "- проверить пропуски методом .isna();\n",
    "- посчитать обнаруженные пропуски;\n",
    "- понять, как пропуски могут быть заполнены;\n",
    "- заполнить пропуски и проверить заполнение."
   ]
  },
  {
   "cell_type": "markdown",
   "metadata": {},
   "source": [
    "### Переименование заголовков"
   ]
  },
  {
   "cell_type": "code",
   "execution_count": 163,
   "metadata": {},
   "outputs": [],
   "source": [
    "df = df.rename(columns={'dob_years': 'client_age', 'total_income': 'month_income'})"
   ]
  },
  {
   "cell_type": "code",
   "execution_count": 164,
   "metadata": {},
   "outputs": [
    {
     "data": {
      "text/plain": [
       "Index(['children', 'days_employed', 'client_age', 'education', 'education_id',\n",
       "       'family_status', 'family_status_id', 'gender', 'income_type', 'debt',\n",
       "       'month_income', 'purpose'],\n",
       "      dtype='object')"
      ]
     },
     "execution_count": 164,
     "metadata": {},
     "output_type": "execute_result"
    }
   ],
   "source": [
    "df.columns"
   ]
  },
  {
   "cell_type": "markdown",
   "metadata": {},
   "source": [
    "### Обработка пропусков"
   ]
  },
  {
   "cell_type": "code",
   "execution_count": 165,
   "metadata": {
    "scrolled": true
   },
   "outputs": [
    {
     "data": {
      "text/html": [
       "<div>\n",
       "<style scoped>\n",
       "    .dataframe tbody tr th:only-of-type {\n",
       "        vertical-align: middle;\n",
       "    }\n",
       "\n",
       "    .dataframe tbody tr th {\n",
       "        vertical-align: top;\n",
       "    }\n",
       "\n",
       "    .dataframe thead th {\n",
       "        text-align: right;\n",
       "    }\n",
       "</style>\n",
       "<table border=\"1\" class=\"dataframe\">\n",
       "  <thead>\n",
       "    <tr style=\"text-align: right;\">\n",
       "      <th></th>\n",
       "      <th>children</th>\n",
       "      <th>days_employed</th>\n",
       "      <th>client_age</th>\n",
       "      <th>education</th>\n",
       "      <th>education_id</th>\n",
       "      <th>family_status</th>\n",
       "      <th>family_status_id</th>\n",
       "      <th>gender</th>\n",
       "      <th>income_type</th>\n",
       "      <th>debt</th>\n",
       "      <th>month_income</th>\n",
       "      <th>purpose</th>\n",
       "    </tr>\n",
       "  </thead>\n",
       "  <tbody>\n",
       "    <tr>\n",
       "      <td>12</td>\n",
       "      <td>0</td>\n",
       "      <td>NaN</td>\n",
       "      <td>65</td>\n",
       "      <td>среднее</td>\n",
       "      <td>1</td>\n",
       "      <td>гражданский брак</td>\n",
       "      <td>1</td>\n",
       "      <td>M</td>\n",
       "      <td>пенсионер</td>\n",
       "      <td>0</td>\n",
       "      <td>NaN</td>\n",
       "      <td>сыграть свадьбу</td>\n",
       "    </tr>\n",
       "    <tr>\n",
       "      <td>26</td>\n",
       "      <td>0</td>\n",
       "      <td>NaN</td>\n",
       "      <td>41</td>\n",
       "      <td>среднее</td>\n",
       "      <td>1</td>\n",
       "      <td>женат / замужем</td>\n",
       "      <td>0</td>\n",
       "      <td>M</td>\n",
       "      <td>госслужащий</td>\n",
       "      <td>0</td>\n",
       "      <td>NaN</td>\n",
       "      <td>образование</td>\n",
       "    </tr>\n",
       "    <tr>\n",
       "      <td>29</td>\n",
       "      <td>0</td>\n",
       "      <td>NaN</td>\n",
       "      <td>63</td>\n",
       "      <td>среднее</td>\n",
       "      <td>1</td>\n",
       "      <td>Не женат / не замужем</td>\n",
       "      <td>4</td>\n",
       "      <td>F</td>\n",
       "      <td>пенсионер</td>\n",
       "      <td>0</td>\n",
       "      <td>NaN</td>\n",
       "      <td>строительство жилой недвижимости</td>\n",
       "    </tr>\n",
       "    <tr>\n",
       "      <td>41</td>\n",
       "      <td>0</td>\n",
       "      <td>NaN</td>\n",
       "      <td>50</td>\n",
       "      <td>среднее</td>\n",
       "      <td>1</td>\n",
       "      <td>женат / замужем</td>\n",
       "      <td>0</td>\n",
       "      <td>F</td>\n",
       "      <td>госслужащий</td>\n",
       "      <td>0</td>\n",
       "      <td>NaN</td>\n",
       "      <td>сделка с подержанным автомобилем</td>\n",
       "    </tr>\n",
       "    <tr>\n",
       "      <td>55</td>\n",
       "      <td>0</td>\n",
       "      <td>NaN</td>\n",
       "      <td>54</td>\n",
       "      <td>среднее</td>\n",
       "      <td>1</td>\n",
       "      <td>гражданский брак</td>\n",
       "      <td>1</td>\n",
       "      <td>F</td>\n",
       "      <td>пенсионер</td>\n",
       "      <td>1</td>\n",
       "      <td>NaN</td>\n",
       "      <td>сыграть свадьбу</td>\n",
       "    </tr>\n",
       "  </tbody>\n",
       "</table>\n",
       "</div>"
      ],
      "text/plain": [
       "    children  days_employed  client_age education  education_id  \\\n",
       "12         0            NaN          65   среднее             1   \n",
       "26         0            NaN          41   среднее             1   \n",
       "29         0            NaN          63   среднее             1   \n",
       "41         0            NaN          50   среднее             1   \n",
       "55         0            NaN          54   среднее             1   \n",
       "\n",
       "            family_status  family_status_id gender  income_type  debt  \\\n",
       "12       гражданский брак                 1      M    пенсионер     0   \n",
       "26        женат / замужем                 0      M  госслужащий     0   \n",
       "29  Не женат / не замужем                 4      F    пенсионер     0   \n",
       "41        женат / замужем                 0      F  госслужащий     0   \n",
       "55       гражданский брак                 1      F    пенсионер     1   \n",
       "\n",
       "    month_income                           purpose  \n",
       "12           NaN                   сыграть свадьбу  \n",
       "26           NaN                       образование  \n",
       "29           NaN  строительство жилой недвижимости  \n",
       "41           NaN  сделка с подержанным автомобилем  \n",
       "55           NaN                   сыграть свадьбу  "
      ]
     },
     "execution_count": 165,
     "metadata": {},
     "output_type": "execute_result"
    }
   ],
   "source": [
    "df[df['days_employed'].isna()].head()"
   ]
  },
  {
   "cell_type": "code",
   "execution_count": 166,
   "metadata": {},
   "outputs": [
    {
     "data": {
      "text/plain": [
       "2174"
      ]
     },
     "execution_count": 166,
     "metadata": {},
     "output_type": "execute_result"
    }
   ],
   "source": [
    "empty_income = df[df['month_income'].isna()]\n",
    "len(empty_income)"
   ]
  },
  {
   "cell_type": "code",
   "execution_count": 167,
   "metadata": {},
   "outputs": [
    {
     "data": {
      "text/plain": [
       "2174"
      ]
     },
     "execution_count": 167,
     "metadata": {},
     "output_type": "execute_result"
    }
   ],
   "source": [
    "len(empty_income[empty_income['days_employed'].isna()])"
   ]
  },
  {
   "cell_type": "markdown",
   "metadata": {},
   "source": [
    "**Примечание:** Пропуски имеются в столбцах 'days_employed' и 'month_income', строки с пропусками в обоих столбцах совпадают и таких строк 2174"
   ]
  },
  {
   "cell_type": "code",
   "execution_count": 168,
   "metadata": {},
   "outputs": [
    {
     "data": {
      "text/plain": [
       "сотрудник          1105\n",
       "компаньон           508\n",
       "пенсионер           413\n",
       "госслужащий         147\n",
       "предприниматель       1\n",
       "Name: income_type, dtype: int64"
      ]
     },
     "execution_count": 168,
     "metadata": {},
     "output_type": "execute_result"
    }
   ],
   "source": [
    "empty_income['income_type'].value_counts()"
   ]
  },
  {
   "cell_type": "markdown",
   "metadata": {},
   "source": [
    "Пропуски присутствуют в разных категориях заемщиков - среди работающих и среди пенсионеров.\n",
    "Для заполнения пропусков ежемесячного дохода посчитаем средний доход в каждой котегории заемщиков.\n",
    "За среднее значение принимаем медиану, чтобы нивелировать отклонения выделяющихся значений. Напишем функцию с определением медианы для каждой категории и подстановкой ее в таблицу с пропущенными значениями empty_income, определенную ранее."
   ]
  },
  {
   "cell_type": "code",
   "execution_count": 169,
   "metadata": {
    "scrolled": true
   },
   "outputs": [
    {
     "data": {
      "text/html": [
       "<div>\n",
       "<style scoped>\n",
       "    .dataframe tbody tr th:only-of-type {\n",
       "        vertical-align: middle;\n",
       "    }\n",
       "\n",
       "    .dataframe tbody tr th {\n",
       "        vertical-align: top;\n",
       "    }\n",
       "\n",
       "    .dataframe thead th {\n",
       "        text-align: right;\n",
       "    }\n",
       "</style>\n",
       "<table border=\"1\" class=\"dataframe\">\n",
       "  <thead>\n",
       "    <tr style=\"text-align: right;\">\n",
       "      <th></th>\n",
       "      <th>children</th>\n",
       "      <th>days_employed</th>\n",
       "      <th>client_age</th>\n",
       "      <th>education</th>\n",
       "      <th>education_id</th>\n",
       "      <th>family_status</th>\n",
       "      <th>family_status_id</th>\n",
       "      <th>gender</th>\n",
       "      <th>income_type</th>\n",
       "      <th>debt</th>\n",
       "      <th>month_income</th>\n",
       "      <th>purpose</th>\n",
       "    </tr>\n",
       "  </thead>\n",
       "  <tbody>\n",
       "    <tr>\n",
       "      <td>12</td>\n",
       "      <td>0</td>\n",
       "      <td>NaN</td>\n",
       "      <td>65</td>\n",
       "      <td>среднее</td>\n",
       "      <td>1</td>\n",
       "      <td>гражданский брак</td>\n",
       "      <td>1</td>\n",
       "      <td>M</td>\n",
       "      <td>пенсионер</td>\n",
       "      <td>0</td>\n",
       "      <td>118514.486412</td>\n",
       "      <td>сыграть свадьбу</td>\n",
       "    </tr>\n",
       "    <tr>\n",
       "      <td>26</td>\n",
       "      <td>0</td>\n",
       "      <td>NaN</td>\n",
       "      <td>41</td>\n",
       "      <td>среднее</td>\n",
       "      <td>1</td>\n",
       "      <td>женат / замужем</td>\n",
       "      <td>0</td>\n",
       "      <td>M</td>\n",
       "      <td>госслужащий</td>\n",
       "      <td>0</td>\n",
       "      <td>150447.935283</td>\n",
       "      <td>образование</td>\n",
       "    </tr>\n",
       "    <tr>\n",
       "      <td>29</td>\n",
       "      <td>0</td>\n",
       "      <td>NaN</td>\n",
       "      <td>63</td>\n",
       "      <td>среднее</td>\n",
       "      <td>1</td>\n",
       "      <td>Не женат / не замужем</td>\n",
       "      <td>4</td>\n",
       "      <td>F</td>\n",
       "      <td>пенсионер</td>\n",
       "      <td>0</td>\n",
       "      <td>118514.486412</td>\n",
       "      <td>строительство жилой недвижимости</td>\n",
       "    </tr>\n",
       "    <tr>\n",
       "      <td>41</td>\n",
       "      <td>0</td>\n",
       "      <td>NaN</td>\n",
       "      <td>50</td>\n",
       "      <td>среднее</td>\n",
       "      <td>1</td>\n",
       "      <td>женат / замужем</td>\n",
       "      <td>0</td>\n",
       "      <td>F</td>\n",
       "      <td>госслужащий</td>\n",
       "      <td>0</td>\n",
       "      <td>150447.935283</td>\n",
       "      <td>сделка с подержанным автомобилем</td>\n",
       "    </tr>\n",
       "    <tr>\n",
       "      <td>55</td>\n",
       "      <td>0</td>\n",
       "      <td>NaN</td>\n",
       "      <td>54</td>\n",
       "      <td>среднее</td>\n",
       "      <td>1</td>\n",
       "      <td>гражданский брак</td>\n",
       "      <td>1</td>\n",
       "      <td>F</td>\n",
       "      <td>пенсионер</td>\n",
       "      <td>1</td>\n",
       "      <td>118514.486412</td>\n",
       "      <td>сыграть свадьбу</td>\n",
       "    </tr>\n",
       "  </tbody>\n",
       "</table>\n",
       "</div>"
      ],
      "text/plain": [
       "    children  days_employed  client_age education  education_id  \\\n",
       "12         0            NaN          65   среднее             1   \n",
       "26         0            NaN          41   среднее             1   \n",
       "29         0            NaN          63   среднее             1   \n",
       "41         0            NaN          50   среднее             1   \n",
       "55         0            NaN          54   среднее             1   \n",
       "\n",
       "            family_status  family_status_id gender  income_type  debt  \\\n",
       "12       гражданский брак                 1      M    пенсионер     0   \n",
       "26        женат / замужем                 0      M  госслужащий     0   \n",
       "29  Не женат / не замужем                 4      F    пенсионер     0   \n",
       "41        женат / замужем                 0      F  госслужащий     0   \n",
       "55       гражданский брак                 1      F    пенсионер     1   \n",
       "\n",
       "     month_income                           purpose  \n",
       "12  118514.486412                   сыграть свадьбу  \n",
       "26  150447.935283                       образование  \n",
       "29  118514.486412  строительство жилой недвижимости  \n",
       "41  150447.935283  сделка с подержанным автомобилем  \n",
       "55  118514.486412                   сыграть свадьбу  "
      ]
     },
     "execution_count": 169,
     "metadata": {},
     "output_type": "execute_result"
    }
   ],
   "source": [
    "income_types = ['пенсионер', 'сотрудник', 'компаньон', 'госслужащий', 'предприниматель']\n",
    "def fill_income(income_types):\n",
    "    for element in income_types:\n",
    "        element_data = df[df['income_type'] == element]\n",
    "        median = element_data['month_income'].median()\n",
    "        empty_income.loc[empty_income['income_type'] == element, 'month_income'] = median\n",
    "    return empty_income\n",
    "\n",
    "fill_income(income_types)\n",
    "empty_income.head()"
   ]
  },
  {
   "cell_type": "markdown",
   "metadata": {},
   "source": [
    "Вставим полученную таблицу в основную:"
   ]
  },
  {
   "cell_type": "code",
   "execution_count": 170,
   "metadata": {
    "scrolled": true
   },
   "outputs": [
    {
     "data": {
      "text/html": [
       "<div>\n",
       "<style scoped>\n",
       "    .dataframe tbody tr th:only-of-type {\n",
       "        vertical-align: middle;\n",
       "    }\n",
       "\n",
       "    .dataframe tbody tr th {\n",
       "        vertical-align: top;\n",
       "    }\n",
       "\n",
       "    .dataframe thead th {\n",
       "        text-align: right;\n",
       "    }\n",
       "</style>\n",
       "<table border=\"1\" class=\"dataframe\">\n",
       "  <thead>\n",
       "    <tr style=\"text-align: right;\">\n",
       "      <th></th>\n",
       "      <th>children</th>\n",
       "      <th>days_employed</th>\n",
       "      <th>client_age</th>\n",
       "      <th>education</th>\n",
       "      <th>education_id</th>\n",
       "      <th>family_status</th>\n",
       "      <th>family_status_id</th>\n",
       "      <th>gender</th>\n",
       "      <th>income_type</th>\n",
       "      <th>debt</th>\n",
       "      <th>month_income</th>\n",
       "      <th>purpose</th>\n",
       "    </tr>\n",
       "  </thead>\n",
       "  <tbody>\n",
       "    <tr>\n",
       "      <td>12</td>\n",
       "      <td>0</td>\n",
       "      <td>NaN</td>\n",
       "      <td>65</td>\n",
       "      <td>среднее</td>\n",
       "      <td>1</td>\n",
       "      <td>гражданский брак</td>\n",
       "      <td>1</td>\n",
       "      <td>M</td>\n",
       "      <td>пенсионер</td>\n",
       "      <td>0</td>\n",
       "      <td>118514.486412</td>\n",
       "      <td>сыграть свадьбу</td>\n",
       "    </tr>\n",
       "    <tr>\n",
       "      <td>26</td>\n",
       "      <td>0</td>\n",
       "      <td>NaN</td>\n",
       "      <td>41</td>\n",
       "      <td>среднее</td>\n",
       "      <td>1</td>\n",
       "      <td>женат / замужем</td>\n",
       "      <td>0</td>\n",
       "      <td>M</td>\n",
       "      <td>госслужащий</td>\n",
       "      <td>0</td>\n",
       "      <td>150447.935283</td>\n",
       "      <td>образование</td>\n",
       "    </tr>\n",
       "    <tr>\n",
       "      <td>29</td>\n",
       "      <td>0</td>\n",
       "      <td>NaN</td>\n",
       "      <td>63</td>\n",
       "      <td>среднее</td>\n",
       "      <td>1</td>\n",
       "      <td>Не женат / не замужем</td>\n",
       "      <td>4</td>\n",
       "      <td>F</td>\n",
       "      <td>пенсионер</td>\n",
       "      <td>0</td>\n",
       "      <td>118514.486412</td>\n",
       "      <td>строительство жилой недвижимости</td>\n",
       "    </tr>\n",
       "    <tr>\n",
       "      <td>41</td>\n",
       "      <td>0</td>\n",
       "      <td>NaN</td>\n",
       "      <td>50</td>\n",
       "      <td>среднее</td>\n",
       "      <td>1</td>\n",
       "      <td>женат / замужем</td>\n",
       "      <td>0</td>\n",
       "      <td>F</td>\n",
       "      <td>госслужащий</td>\n",
       "      <td>0</td>\n",
       "      <td>150447.935283</td>\n",
       "      <td>сделка с подержанным автомобилем</td>\n",
       "    </tr>\n",
       "    <tr>\n",
       "      <td>55</td>\n",
       "      <td>0</td>\n",
       "      <td>NaN</td>\n",
       "      <td>54</td>\n",
       "      <td>среднее</td>\n",
       "      <td>1</td>\n",
       "      <td>гражданский брак</td>\n",
       "      <td>1</td>\n",
       "      <td>F</td>\n",
       "      <td>пенсионер</td>\n",
       "      <td>1</td>\n",
       "      <td>118514.486412</td>\n",
       "      <td>сыграть свадьбу</td>\n",
       "    </tr>\n",
       "  </tbody>\n",
       "</table>\n",
       "</div>"
      ],
      "text/plain": [
       "    children  days_employed  client_age education  education_id  \\\n",
       "12         0            NaN          65   среднее             1   \n",
       "26         0            NaN          41   среднее             1   \n",
       "29         0            NaN          63   среднее             1   \n",
       "41         0            NaN          50   среднее             1   \n",
       "55         0            NaN          54   среднее             1   \n",
       "\n",
       "            family_status  family_status_id gender  income_type  debt  \\\n",
       "12       гражданский брак                 1      M    пенсионер     0   \n",
       "26        женат / замужем                 0      M  госслужащий     0   \n",
       "29  Не женат / не замужем                 4      F    пенсионер     0   \n",
       "41        женат / замужем                 0      F  госслужащий     0   \n",
       "55       гражданский брак                 1      F    пенсионер     1   \n",
       "\n",
       "     month_income                           purpose  \n",
       "12  118514.486412                   сыграть свадьбу  \n",
       "26  150447.935283                       образование  \n",
       "29  118514.486412  строительство жилой недвижимости  \n",
       "41  150447.935283  сделка с подержанным автомобилем  \n",
       "55  118514.486412                   сыграть свадьбу  "
      ]
     },
     "execution_count": 170,
     "metadata": {},
     "output_type": "execute_result"
    }
   ],
   "source": [
    "df[df['days_employed'].isna()] = empty_income\n",
    "df[df['days_employed'].isna()].head()"
   ]
  },
  {
   "cell_type": "markdown",
   "metadata": {},
   "source": [
    "<div class=\"alert alert-block alert-success\">\n",
    "\n",
    "    \n",
    "### Комментарий от ревьюера v_1\n",
    "Отлично\n",
    "\n",
    "Отличная обработка пропусков, молодец, что не заменяешь общей медианой\n",
    "    \n",
    "</div>"
   ]
  },
  {
   "cell_type": "markdown",
   "metadata": {},
   "source": [
    "**Примечание:** Значения в столбце days_employed переданы некорректно (попадаются отрицательные значения и единица измерения выражена явно не в днях недели).  Значения в колонке можно обработать с помощью метода .abs(), а пропущенные значения заполнить средним значением по столбцу. Но нам не нужны эти данные в работе - можно вообще избавиться от этого столбца."
   ]
  },
  {
   "cell_type": "code",
   "execution_count": 171,
   "metadata": {},
   "outputs": [],
   "source": [
    "df.drop('days_employed', axis=1, inplace=True)"
   ]
  },
  {
   "cell_type": "markdown",
   "metadata": {},
   "source": [
    "<div class=\"alert alert-block alert-success\">\n",
    "\n",
    "    \n",
    "### Комментарий от ревьюера v_1\n",
    "Отлично\n",
    "\n",
    "Все верно, без этих данных можно обойтись\n",
    "    \n",
    "</div>"
   ]
  },
  {
   "cell_type": "code",
   "execution_count": 172,
   "metadata": {
    "scrolled": false
   },
   "outputs": [
    {
     "name": "stdout",
     "output_type": "stream",
     "text": [
      "<class 'pandas.core.frame.DataFrame'>\n",
      "RangeIndex: 21525 entries, 0 to 21524\n",
      "Data columns (total 11 columns):\n",
      "children            21525 non-null int64\n",
      "client_age          21525 non-null int64\n",
      "education           21525 non-null object\n",
      "education_id        21525 non-null int64\n",
      "family_status       21525 non-null object\n",
      "family_status_id    21525 non-null int64\n",
      "gender              21525 non-null object\n",
      "income_type         21525 non-null object\n",
      "debt                21525 non-null int64\n",
      "month_income        21525 non-null float64\n",
      "purpose             21525 non-null object\n",
      "dtypes: float64(1), int64(5), object(5)\n",
      "memory usage: 1.8+ MB\n"
     ]
    }
   ],
   "source": [
    "df.info()"
   ]
  },
  {
   "cell_type": "markdown",
   "metadata": {},
   "source": [
    "Проверим корректность содержания всех ячеек с помощью метода .value_counts():"
   ]
  },
  {
   "cell_type": "code",
   "execution_count": 173,
   "metadata": {
    "scrolled": false
   },
   "outputs": [
    {
     "name": "stdout",
     "output_type": "stream",
     "text": [
      " 0     14149\n",
      " 1      4818\n",
      " 2      2055\n",
      " 3       330\n",
      " 20       76\n",
      "-1        47\n",
      " 4        41\n",
      " 5         9\n",
      "Name: children, dtype: int64\n",
      "\n",
      "35    617\n",
      "40    609\n",
      "41    607\n",
      "34    603\n",
      "38    598\n",
      "42    597\n",
      "33    581\n",
      "39    573\n",
      "31    560\n",
      "36    555\n",
      "44    547\n",
      "29    545\n",
      "30    540\n",
      "48    538\n",
      "37    537\n",
      "50    514\n",
      "43    513\n",
      "32    510\n",
      "49    508\n",
      "28    503\n",
      "45    497\n",
      "27    493\n",
      "56    487\n",
      "52    484\n",
      "47    480\n",
      "54    479\n",
      "46    475\n",
      "58    461\n",
      "57    460\n",
      "53    459\n",
      "51    448\n",
      "59    444\n",
      "55    443\n",
      "26    408\n",
      "60    377\n",
      "25    357\n",
      "61    355\n",
      "62    352\n",
      "63    269\n",
      "64    265\n",
      "24    264\n",
      "23    254\n",
      "65    194\n",
      "66    183\n",
      "22    183\n",
      "67    167\n",
      "21    111\n",
      "0     101\n",
      "68     99\n",
      "69     85\n",
      "70     65\n",
      "71     58\n",
      "20     51\n",
      "72     33\n",
      "19     14\n",
      "73      8\n",
      "74      6\n",
      "75      1\n",
      "Name: client_age, dtype: int64\n",
      "\n",
      "среднее                13750\n",
      "высшее                  4718\n",
      "СРЕДНЕЕ                  772\n",
      "Среднее                  711\n",
      "неоконченное высшее      668\n",
      "ВЫСШЕЕ                   274\n",
      "Высшее                   268\n",
      "начальное                250\n",
      "Неоконченное высшее       47\n",
      "НЕОКОНЧЕННОЕ ВЫСШЕЕ       29\n",
      "НАЧАЛЬНОЕ                 17\n",
      "Начальное                 15\n",
      "ученая степень             4\n",
      "Ученая степень             1\n",
      "УЧЕНАЯ СТЕПЕНЬ             1\n",
      "Name: education, dtype: int64\n",
      "\n",
      "1    15233\n",
      "0     5260\n",
      "2      744\n",
      "3      282\n",
      "4        6\n",
      "Name: education_id, dtype: int64\n",
      "\n",
      "женат / замужем          12380\n",
      "гражданский брак          4177\n",
      "Не женат / не замужем     2813\n",
      "в разводе                 1195\n",
      "вдовец / вдова             960\n",
      "Name: family_status, dtype: int64\n",
      "\n",
      "0    12380\n",
      "1     4177\n",
      "4     2813\n",
      "3     1195\n",
      "2      960\n",
      "Name: family_status_id, dtype: int64\n",
      "\n",
      "F      14236\n",
      "M       7288\n",
      "XNA        1\n",
      "Name: gender, dtype: int64\n",
      "\n",
      "сотрудник          11119\n",
      "компаньон           5085\n",
      "пенсионер           3856\n",
      "госслужащий         1459\n",
      "предприниматель        2\n",
      "безработный            2\n",
      "в декрете              1\n",
      "студент                1\n",
      "Name: income_type, dtype: int64\n",
      "\n",
      "0    19784\n",
      "1     1741\n",
      "Name: debt, dtype: int64\n",
      "\n",
      "142594.396847    1105\n",
      "172357.950966     509\n",
      "118514.486412     414\n",
      "150447.935283     147\n",
      "499163.144947       2\n",
      "                 ... \n",
      "133299.194693       1\n",
      "115080.782380       1\n",
      "84896.781597        1\n",
      "153838.839212       1\n",
      "150014.128510       1\n",
      "Name: month_income, Length: 19353, dtype: int64\n",
      "\n",
      "свадьба                                   797\n",
      "на проведение свадьбы                     777\n",
      "сыграть свадьбу                           774\n",
      "операции с недвижимостью                  676\n",
      "покупка коммерческой недвижимости         664\n",
      "покупка жилья для сдачи                   653\n",
      "операции с жильем                         653\n",
      "операции с коммерческой недвижимостью     651\n",
      "покупка жилья                             647\n",
      "жилье                                     647\n",
      "покупка жилья для семьи                   641\n",
      "строительство собственной недвижимости    635\n",
      "недвижимость                              634\n",
      "операции со своей недвижимостью           630\n",
      "строительство жилой недвижимости          626\n",
      "покупка недвижимости                      624\n",
      "строительство недвижимости                620\n",
      "покупка своего жилья                      620\n",
      "ремонт жилью                              612\n",
      "покупка жилой недвижимости                607\n",
      "на покупку своего автомобиля              505\n",
      "заняться высшим образованием              496\n",
      "автомобиль                                495\n",
      "сделка с подержанным автомобилем          489\n",
      "свой автомобиль                           480\n",
      "на покупку подержанного автомобиля        479\n",
      "автомобили                                478\n",
      "на покупку автомобиля                     472\n",
      "приобретение автомобиля                   462\n",
      "дополнительное образование                462\n",
      "сделка с автомобилем                      455\n",
      "высшее образование                        453\n",
      "образование                               447\n",
      "получение дополнительного образования     447\n",
      "получение образования                     443\n",
      "профильное образование                    436\n",
      "получение высшего образования             426\n",
      "заняться образованием                     412\n",
      "Name: purpose, dtype: int64\n",
      "\n"
     ]
    }
   ],
   "source": [
    "for column in df.columns:\n",
    "    print(df[column].value_counts())\n",
    "    print()"
   ]
  },
  {
   "cell_type": "markdown",
   "metadata": {},
   "source": [
    "Для проверки наличия дубликатов в последующих шагах нам необходимо привести содержание колонок со строчными значениями к единому виду (к единому регистру). Различный регистр используется в столбцах education и family_status, также в столбце client_age встречается возраст со значением 0, а в столбце children количество детей -1 и 20, исправим это:\n",
    "* для столбцов education и family_status применим метод .str.lower()\n",
    "* значение 0 в столбце client_age заменим средним арифметическим, приведенным к целому\n",
    "* в столбце children значения -1 заменим на 1 с помощью применения к столбцу метода .abs(), а значение 20 заменим на 2, так как это скорее всего в обоих случаях опечатки при введении значений 1 и 2"
   ]
  },
  {
   "cell_type": "code",
   "execution_count": 174,
   "metadata": {},
   "outputs": [],
   "source": [
    "df['education'] = df['education'].str.lower()\n",
    "df['family_status'] = df['family_status'].str.lower()"
   ]
  },
  {
   "cell_type": "code",
   "execution_count": 175,
   "metadata": {},
   "outputs": [],
   "source": [
    "client_age_mean = df['client_age'].mean().astype('int')\n",
    "df.loc[df['client_age'] == 0, 'client_age'] = client_age_mean"
   ]
  },
  {
   "cell_type": "code",
   "execution_count": 176,
   "metadata": {},
   "outputs": [],
   "source": [
    "df['children'] = df['children'].abs()\n",
    "df.loc[df['children'] == 20, 'children'] = 2"
   ]
  },
  {
   "cell_type": "markdown",
   "metadata": {},
   "source": [
    "Проверим, что получилось:"
   ]
  },
  {
   "cell_type": "markdown",
   "metadata": {},
   "source": [
    "<div class=\"alert alert-block alert-success\">\n",
    "\n",
    "    \n",
    "### Комментарий от ревьюера v_1\n",
    "Отлично\n",
    "\n",
    "Отлично, молодец, что обработал эти столбцы\n",
    "    \n",
    "</div>"
   ]
  },
  {
   "cell_type": "code",
   "execution_count": 177,
   "metadata": {},
   "outputs": [
    {
     "name": "stdout",
     "output_type": "stream",
     "text": [
      "среднее                15233\n",
      "высшее                  5260\n",
      "неоконченное высшее      744\n",
      "начальное                282\n",
      "ученая степень             6\n",
      "Name: education, dtype: int64\n",
      "\n",
      "женат / замужем          12380\n",
      "гражданский брак          4177\n",
      "не женат / не замужем     2813\n",
      "в разводе                 1195\n",
      "вдовец / вдова             960\n",
      "Name: family_status, dtype: int64\n",
      "\n",
      "35    617\n",
      "43    614\n",
      "40    609\n",
      "41    607\n",
      "34    603\n",
      "38    598\n",
      "42    597\n",
      "33    581\n",
      "39    573\n",
      "31    560\n",
      "36    555\n",
      "44    547\n",
      "29    545\n",
      "30    540\n",
      "48    538\n",
      "37    537\n",
      "50    514\n",
      "32    510\n",
      "49    508\n",
      "28    503\n",
      "45    497\n",
      "27    493\n",
      "56    487\n",
      "52    484\n",
      "47    480\n",
      "54    479\n",
      "46    475\n",
      "58    461\n",
      "57    460\n",
      "53    459\n",
      "51    448\n",
      "59    444\n",
      "55    443\n",
      "26    408\n",
      "60    377\n",
      "25    357\n",
      "61    355\n",
      "62    352\n",
      "63    269\n",
      "64    265\n",
      "24    264\n",
      "23    254\n",
      "65    194\n",
      "66    183\n",
      "22    183\n",
      "67    167\n",
      "21    111\n",
      "68     99\n",
      "69     85\n",
      "70     65\n",
      "71     58\n",
      "20     51\n",
      "72     33\n",
      "19     14\n",
      "73      8\n",
      "74      6\n",
      "75      1\n",
      "Name: client_age, dtype: int64\n",
      "\n",
      "0    14149\n",
      "1     4865\n",
      "2     2131\n",
      "3      330\n",
      "4       41\n",
      "5        9\n",
      "Name: children, dtype: int64\n",
      "\n"
     ]
    }
   ],
   "source": [
    "filled_columns = ['education', 'family_status', 'client_age', 'children']\n",
    "for column in filled_columns:\n",
    "    print(df[column].value_counts())\n",
    "    print()"
   ]
  },
  {
   "cell_type": "markdown",
   "metadata": {},
   "source": [
    "**Вывод**"
   ]
  },
  {
   "cell_type": "markdown",
   "metadata": {},
   "source": [
    "* В данных обнаружены пропуски в колонках 'days_employed' и 'month_income'. Пропуски скорее всего связаны с отсутствием информации о трудоустройстве и доходе заемщика при внесении его в базу.\n",
    "* В колонке 'month_income' пропущены значения в нескольких категориях типа занятости, для заполнения пропущенной информации нашли медиану в каждой категории и заполнить пропущенные значения.\n",
    "* В колонке 'days_employed' содержатся некорректные данные и скорее всего являются технической ошибкой, произошедшей при переносе информации. Для выполнения поставленной задачи данная колонка не представляет интереса, поэтому ее можно удалить.\n",
    "* Также были обнаружены и устранены мелкие неточности в колонках education, family_status, client_age, children."
   ]
  },
  {
   "cell_type": "markdown",
   "metadata": {},
   "source": [
    "### Замена типа данных"
   ]
  },
  {
   "cell_type": "markdown",
   "metadata": {},
   "source": [
    "Для лучшего восприятия заменим вещественный тип данных в столбце month_income на целочисленный:"
   ]
  },
  {
   "cell_type": "code",
   "execution_count": 178,
   "metadata": {},
   "outputs": [],
   "source": [
    "df['month_income'] = df['month_income'].astype('int')"
   ]
  },
  {
   "cell_type": "code",
   "execution_count": 179,
   "metadata": {},
   "outputs": [
    {
     "data": {
      "text/html": [
       "<div>\n",
       "<style scoped>\n",
       "    .dataframe tbody tr th:only-of-type {\n",
       "        vertical-align: middle;\n",
       "    }\n",
       "\n",
       "    .dataframe tbody tr th {\n",
       "        vertical-align: top;\n",
       "    }\n",
       "\n",
       "    .dataframe thead th {\n",
       "        text-align: right;\n",
       "    }\n",
       "</style>\n",
       "<table border=\"1\" class=\"dataframe\">\n",
       "  <thead>\n",
       "    <tr style=\"text-align: right;\">\n",
       "      <th></th>\n",
       "      <th>children</th>\n",
       "      <th>client_age</th>\n",
       "      <th>education</th>\n",
       "      <th>education_id</th>\n",
       "      <th>family_status</th>\n",
       "      <th>family_status_id</th>\n",
       "      <th>gender</th>\n",
       "      <th>income_type</th>\n",
       "      <th>debt</th>\n",
       "      <th>month_income</th>\n",
       "      <th>purpose</th>\n",
       "    </tr>\n",
       "  </thead>\n",
       "  <tbody>\n",
       "    <tr>\n",
       "      <td>0</td>\n",
       "      <td>1</td>\n",
       "      <td>42</td>\n",
       "      <td>высшее</td>\n",
       "      <td>0</td>\n",
       "      <td>женат / замужем</td>\n",
       "      <td>0</td>\n",
       "      <td>F</td>\n",
       "      <td>сотрудник</td>\n",
       "      <td>0</td>\n",
       "      <td>253875</td>\n",
       "      <td>покупка жилья</td>\n",
       "    </tr>\n",
       "    <tr>\n",
       "      <td>1</td>\n",
       "      <td>1</td>\n",
       "      <td>36</td>\n",
       "      <td>среднее</td>\n",
       "      <td>1</td>\n",
       "      <td>женат / замужем</td>\n",
       "      <td>0</td>\n",
       "      <td>F</td>\n",
       "      <td>сотрудник</td>\n",
       "      <td>0</td>\n",
       "      <td>112080</td>\n",
       "      <td>приобретение автомобиля</td>\n",
       "    </tr>\n",
       "    <tr>\n",
       "      <td>2</td>\n",
       "      <td>0</td>\n",
       "      <td>33</td>\n",
       "      <td>среднее</td>\n",
       "      <td>1</td>\n",
       "      <td>женат / замужем</td>\n",
       "      <td>0</td>\n",
       "      <td>M</td>\n",
       "      <td>сотрудник</td>\n",
       "      <td>0</td>\n",
       "      <td>145885</td>\n",
       "      <td>покупка жилья</td>\n",
       "    </tr>\n",
       "    <tr>\n",
       "      <td>3</td>\n",
       "      <td>3</td>\n",
       "      <td>32</td>\n",
       "      <td>среднее</td>\n",
       "      <td>1</td>\n",
       "      <td>женат / замужем</td>\n",
       "      <td>0</td>\n",
       "      <td>M</td>\n",
       "      <td>сотрудник</td>\n",
       "      <td>0</td>\n",
       "      <td>267628</td>\n",
       "      <td>дополнительное образование</td>\n",
       "    </tr>\n",
       "    <tr>\n",
       "      <td>4</td>\n",
       "      <td>0</td>\n",
       "      <td>53</td>\n",
       "      <td>среднее</td>\n",
       "      <td>1</td>\n",
       "      <td>гражданский брак</td>\n",
       "      <td>1</td>\n",
       "      <td>F</td>\n",
       "      <td>пенсионер</td>\n",
       "      <td>0</td>\n",
       "      <td>158616</td>\n",
       "      <td>сыграть свадьбу</td>\n",
       "    </tr>\n",
       "  </tbody>\n",
       "</table>\n",
       "</div>"
      ],
      "text/plain": [
       "   children  client_age education  education_id     family_status  \\\n",
       "0         1          42    высшее             0   женат / замужем   \n",
       "1         1          36   среднее             1   женат / замужем   \n",
       "2         0          33   среднее             1   женат / замужем   \n",
       "3         3          32   среднее             1   женат / замужем   \n",
       "4         0          53   среднее             1  гражданский брак   \n",
       "\n",
       "   family_status_id gender income_type  debt  month_income  \\\n",
       "0                 0      F   сотрудник     0        253875   \n",
       "1                 0      F   сотрудник     0        112080   \n",
       "2                 0      M   сотрудник     0        145885   \n",
       "3                 0      M   сотрудник     0        267628   \n",
       "4                 1      F   пенсионер     0        158616   \n",
       "\n",
       "                      purpose  \n",
       "0               покупка жилья  \n",
       "1     приобретение автомобиля  \n",
       "2               покупка жилья  \n",
       "3  дополнительное образование  \n",
       "4             сыграть свадьбу  "
      ]
     },
     "execution_count": 179,
     "metadata": {},
     "output_type": "execute_result"
    }
   ],
   "source": [
    "df.head()"
   ]
  },
  {
   "cell_type": "code",
   "execution_count": 180,
   "metadata": {},
   "outputs": [
    {
     "name": "stdout",
     "output_type": "stream",
     "text": [
      "<class 'pandas.core.frame.DataFrame'>\n",
      "RangeIndex: 21525 entries, 0 to 21524\n",
      "Data columns (total 11 columns):\n",
      "children            21525 non-null int64\n",
      "client_age          21525 non-null int64\n",
      "education           21525 non-null object\n",
      "education_id        21525 non-null int64\n",
      "family_status       21525 non-null object\n",
      "family_status_id    21525 non-null int64\n",
      "gender              21525 non-null object\n",
      "income_type         21525 non-null object\n",
      "debt                21525 non-null int64\n",
      "month_income        21525 non-null int64\n",
      "purpose             21525 non-null object\n",
      "dtypes: int64(6), object(5)\n",
      "memory usage: 1.8+ MB\n"
     ]
    }
   ],
   "source": [
    "df.info()"
   ]
  },
  {
   "cell_type": "markdown",
   "metadata": {},
   "source": [
    "**Вывод**"
   ]
  },
  {
   "cell_type": "markdown",
   "metadata": {},
   "source": [
    "* Для замены типа данных в целом столбце удобно использовать метод .astype()\n",
    "* Теперь в таблице остались только 2 типа данных - со строчными и целочисленными значениями."
   ]
  },
  {
   "cell_type": "markdown",
   "metadata": {},
   "source": [
    "<div class=\"alert alert-block alert-success\">\n",
    "\n",
    "    \n",
    "### Комментарий от ревьюера v_1\n",
    "\n",
    "Отлично, теперь данные хранятся в правильно виде 👍🏻\n",
    "    \n",
    "</div>"
   ]
  },
  {
   "cell_type": "markdown",
   "metadata": {},
   "source": [
    "### Обработка дубликатов"
   ]
  },
  {
   "cell_type": "code",
   "execution_count": 181,
   "metadata": {},
   "outputs": [
    {
     "data": {
      "text/plain": [
       "71"
      ]
     },
     "execution_count": 181,
     "metadata": {},
     "output_type": "execute_result"
    }
   ],
   "source": [
    "df.duplicated().sum()"
   ]
  },
  {
   "cell_type": "code",
   "execution_count": 182,
   "metadata": {},
   "outputs": [],
   "source": [
    "df = df.drop_duplicates().reset_index(drop=True)"
   ]
  },
  {
   "cell_type": "code",
   "execution_count": 183,
   "metadata": {},
   "outputs": [
    {
     "data": {
      "text/plain": [
       "0"
      ]
     },
     "execution_count": 183,
     "metadata": {},
     "output_type": "execute_result"
    }
   ],
   "source": [
    "df.duplicated().sum()"
   ]
  },
  {
   "cell_type": "markdown",
   "metadata": {},
   "source": [
    "**Вывод**"
   ]
  },
  {
   "cell_type": "markdown",
   "metadata": {},
   "source": [
    "В таблице обнаружен 71 полный дубликат (количество одинаковых строк).\n",
    "Для поиска и обработки дубликатов было выполнено 2 этапа:\n",
    "1. В п.2.2 данного проекта строчные значения были проверены с помощью метода .value_counts() и приведены к единому регистру с помощью метода .str.lower()\n",
    "2. Количество полных дубликатов было подсчитано с помощью методов .duplicated().sum() и удалены с момощью метода drop_duplicates()\n",
    "\n",
    "Возможной причиной появления дубликатов могла явиться ошибка при переносе информации из других источников, а также повторное добавление информации в базу при обращении клиента в банк."
   ]
  },
  {
   "cell_type": "markdown",
   "metadata": {},
   "source": [
    "<div class=\"alert alert-block alert-success\">\n",
    "\n",
    "    \n",
    "### Комментарий от ревьюера v_1\n",
    "\n",
    "Отлично, дубликаты обработаны\n",
    "    \n",
    "    \n",
    "</div>"
   ]
  },
  {
   "cell_type": "markdown",
   "metadata": {},
   "source": [
    "### Лемматизация"
   ]
  },
  {
   "cell_type": "markdown",
   "metadata": {},
   "source": [
    "Выделяем леммы в значениях столбца с целями получения кредита:"
   ]
  },
  {
   "cell_type": "code",
   "execution_count": 184,
   "metadata": {},
   "outputs": [
    {
     "name": "stdout",
     "output_type": "stream",
     "text": [
      "покупка   жилье \n",
      "\n",
      "приобретение   автомобиль \n",
      "\n",
      "дополнительный   образование \n",
      "\n",
      "сыграть   свадьба \n",
      "\n",
      "операция   с   жилье \n",
      "\n",
      "образование \n",
      "\n",
      "на   проведение   свадьба \n",
      "\n",
      "покупка   жилье   для   семья \n",
      "\n",
      "покупка   недвижимость \n",
      "\n",
      "покупка   коммерческий   недвижимость \n",
      "\n",
      "покупка   жилой   недвижимость \n",
      "\n",
      "строительство   собственный   недвижимость \n",
      "\n",
      "недвижимость \n",
      "\n",
      "строительство   недвижимость \n",
      "\n",
      "на   покупка   подержать   автомобиль \n",
      "\n",
      "на   покупка   свой   автомобиль \n",
      "\n",
      "операция   с   коммерческий   недвижимость \n",
      "\n",
      "строительство   жилой   недвижимость \n",
      "\n",
      "жилье \n",
      "\n",
      "операция   со   свой   недвижимость \n",
      "\n",
      "автомобиль \n",
      "\n",
      "заниматься   образование \n",
      "\n",
      "сделка   с   подержанный   автомобиль \n",
      "\n",
      "получение   образование \n",
      "\n",
      "автомобиль \n",
      "\n",
      "свадьба \n",
      "\n",
      "получение   дополнительный   образование \n",
      "\n",
      "покупка   свой   жилье \n",
      "\n",
      "операция   с   недвижимость \n",
      "\n",
      "получение   высокий   образование \n",
      "\n",
      "свой   автомобиль \n",
      "\n",
      "сделка   с   автомобиль \n",
      "\n",
      "профильный   образование \n",
      "\n",
      "высокий   образование \n",
      "\n",
      "покупка   жилье   для   сдача \n",
      "\n",
      "на   покупка   автомобиль \n",
      "\n",
      "ремонт   жилье \n",
      "\n",
      "заниматься   высокий   образование \n",
      "\n"
     ]
    }
   ],
   "source": [
    "for element in df['purpose'].unique():\n",
    "    lemmas = ' '.join(m.lemmatize(element))\n",
    "    print(lemmas)"
   ]
  },
  {
   "cell_type": "markdown",
   "metadata": {},
   "source": [
    "**Вывод**"
   ]
  },
  {
   "cell_type": "markdown",
   "metadata": {},
   "source": [
    "1. Для проведения лемматизации в значениях столбца с целями получения кредита была вызвана библиотека pymystem3 и далее применен соответствующий метод ко всем уникальным значениям в столбце с помощью цикла for.\n",
    "2. По результатам можно выделить 4 категории с целями получения кредита:\n",
    "* кредит на приобретение/ремонт недвижимости\n",
    "* кредит на приобретение автомобиля\n",
    "* кредит на получение образования\n",
    "* кредит на проведение свадьбы"
   ]
  },
  {
   "cell_type": "markdown",
   "metadata": {},
   "source": [
    "<div class=\"alert alert-block alert-success\">\n",
    "\n",
    "    \n",
    "### Комментарий от ревьюера v_1\n",
    "\n",
    "С лемматизацией разобрался 👍🏻\n",
    "    \n",
    "</div>"
   ]
  },
  {
   "cell_type": "markdown",
   "metadata": {},
   "source": [
    "### Категоризация данных"
   ]
  },
  {
   "cell_type": "markdown",
   "metadata": {},
   "source": [
    "Теперь, чтобы приступить к основной задаче и ответить на вопросы, нам нужно представить данные в более простом виде - подобрать набор столбцов под каждый вопрос, чтобы не работать со всей таблицей."
   ]
  },
  {
   "cell_type": "markdown",
   "metadata": {},
   "source": [
    "#### Категоризируем данные для ответа на вопрос: есть ли зависимость между наличием детей и возвратом кредита в срок?"
   ]
  },
  {
   "cell_type": "markdown",
   "metadata": {},
   "source": [
    "Напишем функцию для разделения заемщиков с детьми и без детей:"
   ]
  },
  {
   "cell_type": "code",
   "execution_count": 185,
   "metadata": {},
   "outputs": [],
   "source": [
    "def children_group(children):\n",
    "    if children == 0:\n",
    "        return 'детей нет'\n",
    "    return 'дети есть'"
   ]
  },
  {
   "cell_type": "markdown",
   "metadata": {},
   "source": [
    "Добавляем в таблицу столбец о наличие детей у заемщика:"
   ]
  },
  {
   "cell_type": "code",
   "execution_count": 186,
   "metadata": {},
   "outputs": [
    {
     "data": {
      "text/html": [
       "<div>\n",
       "<style scoped>\n",
       "    .dataframe tbody tr th:only-of-type {\n",
       "        vertical-align: middle;\n",
       "    }\n",
       "\n",
       "    .dataframe tbody tr th {\n",
       "        vertical-align: top;\n",
       "    }\n",
       "\n",
       "    .dataframe thead th {\n",
       "        text-align: right;\n",
       "    }\n",
       "</style>\n",
       "<table border=\"1\" class=\"dataframe\">\n",
       "  <thead>\n",
       "    <tr style=\"text-align: right;\">\n",
       "      <th></th>\n",
       "      <th>children</th>\n",
       "      <th>children_group</th>\n",
       "    </tr>\n",
       "  </thead>\n",
       "  <tbody>\n",
       "    <tr>\n",
       "      <td>0</td>\n",
       "      <td>1</td>\n",
       "      <td>дети есть</td>\n",
       "    </tr>\n",
       "    <tr>\n",
       "      <td>1</td>\n",
       "      <td>0</td>\n",
       "      <td>детей нет</td>\n",
       "    </tr>\n",
       "    <tr>\n",
       "      <td>2</td>\n",
       "      <td>3</td>\n",
       "      <td>дети есть</td>\n",
       "    </tr>\n",
       "    <tr>\n",
       "      <td>3</td>\n",
       "      <td>2</td>\n",
       "      <td>дети есть</td>\n",
       "    </tr>\n",
       "    <tr>\n",
       "      <td>4</td>\n",
       "      <td>4</td>\n",
       "      <td>дети есть</td>\n",
       "    </tr>\n",
       "    <tr>\n",
       "      <td>5</td>\n",
       "      <td>5</td>\n",
       "      <td>дети есть</td>\n",
       "    </tr>\n",
       "  </tbody>\n",
       "</table>\n",
       "</div>"
      ],
      "text/plain": [
       "   children children_group\n",
       "0         1      дети есть\n",
       "1         0      детей нет\n",
       "2         3      дети есть\n",
       "3         2      дети есть\n",
       "4         4      дети есть\n",
       "5         5      дети есть"
      ]
     },
     "execution_count": 186,
     "metadata": {},
     "output_type": "execute_result"
    }
   ],
   "source": [
    "df['children_group'] = df['children'].apply(children_group)\n",
    "children_status = df[['children', 'children_group']]\n",
    "children_status = children_status.drop_duplicates().reset_index(drop=True)\n",
    "children_status"
   ]
  },
  {
   "cell_type": "markdown",
   "metadata": {},
   "source": [
    "#### Категоризируем данные для ответа на вопрос: есть ли зависимость между семейным положением и возвратом кредита в срок?"
   ]
  },
  {
   "cell_type": "markdown",
   "metadata": {},
   "source": [
    "Посмотрим какой номер family_status_id соответствует значениям столбца family_status:"
   ]
  },
  {
   "cell_type": "code",
   "execution_count": 187,
   "metadata": {},
   "outputs": [
    {
     "data": {
      "text/html": [
       "<div>\n",
       "<style scoped>\n",
       "    .dataframe tbody tr th:only-of-type {\n",
       "        vertical-align: middle;\n",
       "    }\n",
       "\n",
       "    .dataframe tbody tr th {\n",
       "        vertical-align: top;\n",
       "    }\n",
       "\n",
       "    .dataframe thead th {\n",
       "        text-align: right;\n",
       "    }\n",
       "</style>\n",
       "<table border=\"1\" class=\"dataframe\">\n",
       "  <thead>\n",
       "    <tr style=\"text-align: right;\">\n",
       "      <th></th>\n",
       "      <th>family_status</th>\n",
       "      <th>family_status_id</th>\n",
       "    </tr>\n",
       "  </thead>\n",
       "  <tbody>\n",
       "    <tr>\n",
       "      <td>0</td>\n",
       "      <td>женат / замужем</td>\n",
       "      <td>0</td>\n",
       "    </tr>\n",
       "    <tr>\n",
       "      <td>1</td>\n",
       "      <td>гражданский брак</td>\n",
       "      <td>1</td>\n",
       "    </tr>\n",
       "    <tr>\n",
       "      <td>2</td>\n",
       "      <td>вдовец / вдова</td>\n",
       "      <td>2</td>\n",
       "    </tr>\n",
       "    <tr>\n",
       "      <td>3</td>\n",
       "      <td>в разводе</td>\n",
       "      <td>3</td>\n",
       "    </tr>\n",
       "    <tr>\n",
       "      <td>4</td>\n",
       "      <td>не женат / не замужем</td>\n",
       "      <td>4</td>\n",
       "    </tr>\n",
       "  </tbody>\n",
       "</table>\n",
       "</div>"
      ],
      "text/plain": [
       "           family_status  family_status_id\n",
       "0        женат / замужем                 0\n",
       "1       гражданский брак                 1\n",
       "2         вдовец / вдова                 2\n",
       "3              в разводе                 3\n",
       "4  не женат / не замужем                 4"
      ]
     },
     "execution_count": 187,
     "metadata": {},
     "output_type": "execute_result"
    }
   ],
   "source": [
    "family_id = df[['family_status', 'family_status_id']]\n",
    "family_id = family_id.drop_duplicates().reset_index(drop=True)\n",
    "family_id"
   ]
  },
  {
   "cell_type": "markdown",
   "metadata": {},
   "source": [
    "<div class=\"alert alert-block alert-danger\">\n",
    "    \n",
    "\n",
    "### Комментарий от ревьюера v_1\n",
    "Критично\n",
    "\n",
    "Не надо так поступать с  данными по семейному положению))\n",
    "    \n",
    "Все эти статусы разные и могут вести себя по-разному для банка. Сужая данные, ты рискуешь упустить важные для банка тенденции\n",
    "\n",
    "</div>"
   ]
  },
  {
   "cell_type": "markdown",
   "metadata": {},
   "source": [
    "### Комментарий на замечание от студента:\n",
    "В предыдущей версии проекта категоризировал семейное положение на 2 категории: одинокие и неодинокие. Получил замечание, теперь учитываю это в исправленной версии проекта - удалил функцию категоризации и вставку нового столбца в таблицу. В таком случае датасет уже содержит достаточно подходящую категоризацию по семейному положению, которую можно использовать в работе."
   ]
  },
  {
   "cell_type": "markdown",
   "metadata": {},
   "source": [
    "#### Категоризируем данные для ответа на вопрос: есть ли зависимость между уровнем дохода и возвратом кредита в срок?"
   ]
  },
  {
   "cell_type": "markdown",
   "metadata": {},
   "source": [
    "Определим максимальный и минимальный уровень дохода из имеющихся данных:"
   ]
  },
  {
   "cell_type": "code",
   "execution_count": 188,
   "metadata": {},
   "outputs": [
    {
     "data": {
      "text/plain": [
       "2265604"
      ]
     },
     "execution_count": 188,
     "metadata": {},
     "output_type": "execute_result"
    }
   ],
   "source": [
    "df['month_income'].max()"
   ]
  },
  {
   "cell_type": "code",
   "execution_count": 189,
   "metadata": {},
   "outputs": [
    {
     "data": {
      "text/plain": [
       "20667"
      ]
     },
     "execution_count": 189,
     "metadata": {},
     "output_type": "execute_result"
    }
   ],
   "source": [
    "df['month_income'].min()"
   ]
  },
  {
   "cell_type": "markdown",
   "metadata": {},
   "source": [
    "Напишем функцию для разделения заемщиков по уровню дохода:"
   ]
  },
  {
   "cell_type": "code",
   "execution_count": 190,
   "metadata": {},
   "outputs": [],
   "source": [
    "def income_status(month_income):\n",
    "    if month_income <= 70000:\n",
    "        return 'низкий'\n",
    "    if month_income <= 150000:\n",
    "        return 'средний'\n",
    "    if month_income <= 300000:\n",
    "        return 'высокий'\n",
    "    return 'очень высокий'"
   ]
  },
  {
   "cell_type": "markdown",
   "metadata": {},
   "source": [
    "Добавляем в таблицу столбец о статусе дохода:"
   ]
  },
  {
   "cell_type": "code",
   "execution_count": 191,
   "metadata": {},
   "outputs": [
    {
     "data": {
      "text/plain": [
       "средний          10149\n",
       "высокий           8348\n",
       "очень высокий     1483\n",
       "низкий            1474\n",
       "Name: income_status, dtype: int64"
      ]
     },
     "execution_count": 191,
     "metadata": {},
     "output_type": "execute_result"
    }
   ],
   "source": [
    "df['income_status'] = df['month_income'].apply(income_status)\n",
    "df['income_status'].value_counts()"
   ]
  },
  {
   "cell_type": "markdown",
   "metadata": {},
   "source": [
    "#### Категоризируем данные для ответа на вопрос: как разные цели кредита влияют на его возврат в срок?"
   ]
  },
  {
   "cell_type": "markdown",
   "metadata": {},
   "source": [
    "Напишем функцию для разделения заемщиков по целям кредита (цели определим в соответствии с лемматизацией, выполненной в п. 2.5):"
   ]
  },
  {
   "cell_type": "code",
   "execution_count": 192,
   "metadata": {},
   "outputs": [],
   "source": [
    "def purpose_category(purpose):\n",
    "    lemmas = ' '.join(m.lemmatize(purpose))\n",
    "    if 'образование' in lemmas:\n",
    "        return 'образование'\n",
    "    if 'автомобиль' in lemmas:\n",
    "        return 'автомобиль'\n",
    "    if 'свадьба' in lemmas:\n",
    "        return 'свадьба'\n",
    "    if 'недвижимость' in lemmas:\n",
    "        return 'недвижимость'\n",
    "    if 'жилье' in lemmas:\n",
    "        return 'недвижимость'"
   ]
  },
  {
   "cell_type": "markdown",
   "metadata": {},
   "source": [
    "Добавим столбец в таблицу и проверим:"
   ]
  },
  {
   "cell_type": "code",
   "execution_count": 193,
   "metadata": {
    "scrolled": true
   },
   "outputs": [
    {
     "data": {
      "text/html": [
       "<div>\n",
       "<style scoped>\n",
       "    .dataframe tbody tr th:only-of-type {\n",
       "        vertical-align: middle;\n",
       "    }\n",
       "\n",
       "    .dataframe tbody tr th {\n",
       "        vertical-align: top;\n",
       "    }\n",
       "\n",
       "    .dataframe thead th {\n",
       "        text-align: right;\n",
       "    }\n",
       "</style>\n",
       "<table border=\"1\" class=\"dataframe\">\n",
       "  <thead>\n",
       "    <tr style=\"text-align: right;\">\n",
       "      <th></th>\n",
       "      <th>purpose</th>\n",
       "      <th>purpose_category</th>\n",
       "    </tr>\n",
       "  </thead>\n",
       "  <tbody>\n",
       "    <tr>\n",
       "      <td>0</td>\n",
       "      <td>покупка жилья</td>\n",
       "      <td>недвижимость</td>\n",
       "    </tr>\n",
       "    <tr>\n",
       "      <td>1</td>\n",
       "      <td>приобретение автомобиля</td>\n",
       "      <td>автомобиль</td>\n",
       "    </tr>\n",
       "    <tr>\n",
       "      <td>2</td>\n",
       "      <td>дополнительное образование</td>\n",
       "      <td>образование</td>\n",
       "    </tr>\n",
       "    <tr>\n",
       "      <td>3</td>\n",
       "      <td>сыграть свадьбу</td>\n",
       "      <td>свадьба</td>\n",
       "    </tr>\n",
       "    <tr>\n",
       "      <td>4</td>\n",
       "      <td>операции с жильем</td>\n",
       "      <td>недвижимость</td>\n",
       "    </tr>\n",
       "    <tr>\n",
       "      <td>5</td>\n",
       "      <td>образование</td>\n",
       "      <td>образование</td>\n",
       "    </tr>\n",
       "    <tr>\n",
       "      <td>6</td>\n",
       "      <td>на проведение свадьбы</td>\n",
       "      <td>свадьба</td>\n",
       "    </tr>\n",
       "    <tr>\n",
       "      <td>7</td>\n",
       "      <td>покупка жилья для семьи</td>\n",
       "      <td>недвижимость</td>\n",
       "    </tr>\n",
       "    <tr>\n",
       "      <td>8</td>\n",
       "      <td>покупка недвижимости</td>\n",
       "      <td>недвижимость</td>\n",
       "    </tr>\n",
       "    <tr>\n",
       "      <td>9</td>\n",
       "      <td>покупка коммерческой недвижимости</td>\n",
       "      <td>недвижимость</td>\n",
       "    </tr>\n",
       "    <tr>\n",
       "      <td>10</td>\n",
       "      <td>покупка жилой недвижимости</td>\n",
       "      <td>недвижимость</td>\n",
       "    </tr>\n",
       "    <tr>\n",
       "      <td>11</td>\n",
       "      <td>строительство собственной недвижимости</td>\n",
       "      <td>недвижимость</td>\n",
       "    </tr>\n",
       "    <tr>\n",
       "      <td>12</td>\n",
       "      <td>недвижимость</td>\n",
       "      <td>недвижимость</td>\n",
       "    </tr>\n",
       "    <tr>\n",
       "      <td>13</td>\n",
       "      <td>строительство недвижимости</td>\n",
       "      <td>недвижимость</td>\n",
       "    </tr>\n",
       "    <tr>\n",
       "      <td>14</td>\n",
       "      <td>на покупку подержанного автомобиля</td>\n",
       "      <td>автомобиль</td>\n",
       "    </tr>\n",
       "    <tr>\n",
       "      <td>15</td>\n",
       "      <td>на покупку своего автомобиля</td>\n",
       "      <td>автомобиль</td>\n",
       "    </tr>\n",
       "    <tr>\n",
       "      <td>16</td>\n",
       "      <td>операции с коммерческой недвижимостью</td>\n",
       "      <td>недвижимость</td>\n",
       "    </tr>\n",
       "    <tr>\n",
       "      <td>17</td>\n",
       "      <td>строительство жилой недвижимости</td>\n",
       "      <td>недвижимость</td>\n",
       "    </tr>\n",
       "    <tr>\n",
       "      <td>18</td>\n",
       "      <td>жилье</td>\n",
       "      <td>недвижимость</td>\n",
       "    </tr>\n",
       "    <tr>\n",
       "      <td>19</td>\n",
       "      <td>операции со своей недвижимостью</td>\n",
       "      <td>недвижимость</td>\n",
       "    </tr>\n",
       "    <tr>\n",
       "      <td>20</td>\n",
       "      <td>автомобили</td>\n",
       "      <td>автомобиль</td>\n",
       "    </tr>\n",
       "    <tr>\n",
       "      <td>21</td>\n",
       "      <td>заняться образованием</td>\n",
       "      <td>образование</td>\n",
       "    </tr>\n",
       "    <tr>\n",
       "      <td>22</td>\n",
       "      <td>сделка с подержанным автомобилем</td>\n",
       "      <td>автомобиль</td>\n",
       "    </tr>\n",
       "    <tr>\n",
       "      <td>23</td>\n",
       "      <td>получение образования</td>\n",
       "      <td>образование</td>\n",
       "    </tr>\n",
       "    <tr>\n",
       "      <td>24</td>\n",
       "      <td>автомобиль</td>\n",
       "      <td>автомобиль</td>\n",
       "    </tr>\n",
       "    <tr>\n",
       "      <td>25</td>\n",
       "      <td>свадьба</td>\n",
       "      <td>свадьба</td>\n",
       "    </tr>\n",
       "    <tr>\n",
       "      <td>26</td>\n",
       "      <td>получение дополнительного образования</td>\n",
       "      <td>образование</td>\n",
       "    </tr>\n",
       "    <tr>\n",
       "      <td>27</td>\n",
       "      <td>покупка своего жилья</td>\n",
       "      <td>недвижимость</td>\n",
       "    </tr>\n",
       "    <tr>\n",
       "      <td>28</td>\n",
       "      <td>операции с недвижимостью</td>\n",
       "      <td>недвижимость</td>\n",
       "    </tr>\n",
       "    <tr>\n",
       "      <td>29</td>\n",
       "      <td>получение высшего образования</td>\n",
       "      <td>образование</td>\n",
       "    </tr>\n",
       "    <tr>\n",
       "      <td>30</td>\n",
       "      <td>свой автомобиль</td>\n",
       "      <td>автомобиль</td>\n",
       "    </tr>\n",
       "    <tr>\n",
       "      <td>31</td>\n",
       "      <td>сделка с автомобилем</td>\n",
       "      <td>автомобиль</td>\n",
       "    </tr>\n",
       "    <tr>\n",
       "      <td>32</td>\n",
       "      <td>профильное образование</td>\n",
       "      <td>образование</td>\n",
       "    </tr>\n",
       "    <tr>\n",
       "      <td>33</td>\n",
       "      <td>высшее образование</td>\n",
       "      <td>образование</td>\n",
       "    </tr>\n",
       "    <tr>\n",
       "      <td>34</td>\n",
       "      <td>покупка жилья для сдачи</td>\n",
       "      <td>недвижимость</td>\n",
       "    </tr>\n",
       "    <tr>\n",
       "      <td>35</td>\n",
       "      <td>на покупку автомобиля</td>\n",
       "      <td>автомобиль</td>\n",
       "    </tr>\n",
       "    <tr>\n",
       "      <td>36</td>\n",
       "      <td>ремонт жилью</td>\n",
       "      <td>недвижимость</td>\n",
       "    </tr>\n",
       "    <tr>\n",
       "      <td>37</td>\n",
       "      <td>заняться высшим образованием</td>\n",
       "      <td>образование</td>\n",
       "    </tr>\n",
       "  </tbody>\n",
       "</table>\n",
       "</div>"
      ],
      "text/plain": [
       "                                   purpose purpose_category\n",
       "0                            покупка жилья     недвижимость\n",
       "1                  приобретение автомобиля       автомобиль\n",
       "2               дополнительное образование      образование\n",
       "3                          сыграть свадьбу          свадьба\n",
       "4                        операции с жильем     недвижимость\n",
       "5                              образование      образование\n",
       "6                    на проведение свадьбы          свадьба\n",
       "7                  покупка жилья для семьи     недвижимость\n",
       "8                     покупка недвижимости     недвижимость\n",
       "9        покупка коммерческой недвижимости     недвижимость\n",
       "10              покупка жилой недвижимости     недвижимость\n",
       "11  строительство собственной недвижимости     недвижимость\n",
       "12                            недвижимость     недвижимость\n",
       "13              строительство недвижимости     недвижимость\n",
       "14      на покупку подержанного автомобиля       автомобиль\n",
       "15            на покупку своего автомобиля       автомобиль\n",
       "16   операции с коммерческой недвижимостью     недвижимость\n",
       "17        строительство жилой недвижимости     недвижимость\n",
       "18                                   жилье     недвижимость\n",
       "19         операции со своей недвижимостью     недвижимость\n",
       "20                              автомобили       автомобиль\n",
       "21                   заняться образованием      образование\n",
       "22        сделка с подержанным автомобилем       автомобиль\n",
       "23                   получение образования      образование\n",
       "24                              автомобиль       автомобиль\n",
       "25                                 свадьба          свадьба\n",
       "26   получение дополнительного образования      образование\n",
       "27                    покупка своего жилья     недвижимость\n",
       "28                операции с недвижимостью     недвижимость\n",
       "29           получение высшего образования      образование\n",
       "30                         свой автомобиль       автомобиль\n",
       "31                    сделка с автомобилем       автомобиль\n",
       "32                  профильное образование      образование\n",
       "33                      высшее образование      образование\n",
       "34                 покупка жилья для сдачи     недвижимость\n",
       "35                   на покупку автомобиля       автомобиль\n",
       "36                            ремонт жилью     недвижимость\n",
       "37            заняться высшим образованием      образование"
      ]
     },
     "execution_count": 193,
     "metadata": {},
     "output_type": "execute_result"
    }
   ],
   "source": [
    "df['purpose_category'] = df['purpose'].apply(purpose_category)\n",
    "purpose_category = df[['purpose', 'purpose_category']]\n",
    "purpose_category = purpose_category.drop_duplicates().reset_index(drop=True)\n",
    "purpose_category"
   ]
  },
  {
   "cell_type": "markdown",
   "metadata": {},
   "source": [
    "<div class=\"alert alert-block alert-success\">\n",
    "\n",
    "    \n",
    "### Комментарий от ревьюера v_1\n",
    "\n",
    "Отлично, с категоризацией разобрался 👍🏻\n",
    "    \n",
    "\n",
    "    \n",
    "</div>"
   ]
  },
  {
   "cell_type": "markdown",
   "metadata": {},
   "source": [
    "**Вывод**"
   ]
  },
  {
   "cell_type": "markdown",
   "metadata": {},
   "source": [
    "1. Для ответа на вопрос: \"Есть ли зависимость между наличием детей и возвратом кредита в срок?\", данные логично категоризировать на заемщиков с детьми и без детей.\n",
    "2. Для ответа на вопрос: \"Есть ли зависимость между семейным положением и возвратом кредита в срок?\", данные в датасете уже разбиты на категории по семейному положению. Категориям происвоен номер в столбце family_status_id, которые удобно использовать.\n",
    "3. Для ответа на вопрос: \"Есть ли зависимость между уровнем дохода и возвратом кредита в срок?\", данные необходимо разбить на категории по уровню дохода. В данной работе данные были разбиты на 4 категории дохода: низкий, средний, высокий и очень высокий.\n",
    "4. Для ответа на вопрос: \"Как разные цели кредита влияют на его возврат в срок?\", данные были разбиты на 4 категории в соответствии с основными объектами в наборе информации о целях кредита: недвижимость, автомобиль, образование и свадьба."
   ]
  },
  {
   "cell_type": "markdown",
   "metadata": {},
   "source": [
    "<div class=\"alert alert-block alert-success\">\n",
    "\n",
    "    \n",
    "### Комментарий от ревьюера v_1\n",
    "\n",
    "Молодец, что не забываешь про вывод\n",
    "    \n",
    "</div>"
   ]
  },
  {
   "cell_type": "markdown",
   "metadata": {},
   "source": [
    "## Шаг 3. Ответьте на вопросы"
   ]
  },
  {
   "cell_type": "markdown",
   "metadata": {},
   "source": [
    "<div class=\"alert alert-block alert-warning\">\n",
    "    \n",
    "\n",
    "### Комментарий от ревьюера v_1\n",
    "Рекомендация\n",
    "    \n",
    "В начале шага следует написать перечень действий, который планируешь выполнить. Так ты ничего не упустишь и добавишь проекту структуры\n",
    "</div>"
   ]
  },
  {
   "cell_type": "markdown",
   "metadata": {},
   "source": [
    "### Комментарий на замечание от студента:\n",
    "Исправляюсь - добавлен перечень основных действий ниже:"
   ]
  },
  {
   "cell_type": "markdown",
   "metadata": {},
   "source": [
    "**Для ответа на каждый вопрос выполним следующие основные действия:**\n",
    "- посчитаем и визуализируем количество заемщиков с наличием и отсутствием просроченных кредитов применяя метод pivot_table для постороения сводных таблиц для категорий заемщиков, определенных в предудущем пункте проекта (категоризация данных);\n",
    "- посчитаем конверсию для заемщиков с просроченными кредитами в каждой категории и сравним их;\n",
    "- построим диаграмму в случае, если в ответе на вопрос имеется более 2-х категорий."
   ]
  },
  {
   "cell_type": "markdown",
   "metadata": {},
   "source": [
    "**- Есть ли зависимость между наличием детей и возвратом кредита в срок?**"
   ]
  },
  {
   "cell_type": "markdown",
   "metadata": {},
   "source": [
    "Посмотрим сводную таблицу со значениями количества невозврата кредита в срок в каждой категории среди заемщиков с детьми и без детей:"
   ]
  },
  {
   "cell_type": "code",
   "execution_count": 194,
   "metadata": {},
   "outputs": [
    {
     "data": {
      "text/html": [
       "<div>\n",
       "<style scoped>\n",
       "    .dataframe tbody tr th:only-of-type {\n",
       "        vertical-align: middle;\n",
       "    }\n",
       "\n",
       "    .dataframe tbody tr th {\n",
       "        vertical-align: top;\n",
       "    }\n",
       "\n",
       "    .dataframe thead th {\n",
       "        text-align: right;\n",
       "    }\n",
       "</style>\n",
       "<table border=\"1\" class=\"dataframe\">\n",
       "  <thead>\n",
       "    <tr style=\"text-align: right;\">\n",
       "      <th>children_group</th>\n",
       "      <th>детей нет</th>\n",
       "      <th>дети есть</th>\n",
       "    </tr>\n",
       "    <tr>\n",
       "      <th>debt</th>\n",
       "      <th></th>\n",
       "      <th></th>\n",
       "    </tr>\n",
       "  </thead>\n",
       "  <tbody>\n",
       "    <tr>\n",
       "      <td>0</td>\n",
       "      <td>13028</td>\n",
       "      <td>6685</td>\n",
       "    </tr>\n",
       "    <tr>\n",
       "      <td>1</td>\n",
       "      <td>1063</td>\n",
       "      <td>678</td>\n",
       "    </tr>\n",
       "  </tbody>\n",
       "</table>\n",
       "</div>"
      ],
      "text/plain": [
       "children_group  детей нет  дети есть\n",
       "debt                                \n",
       "0                   13028       6685\n",
       "1                    1063        678"
      ]
     },
     "execution_count": 194,
     "metadata": {},
     "output_type": "execute_result"
    }
   ],
   "source": [
    "df_pivot_children = df.pivot_table(index=['debt'], columns='children_group', values='children', aggfunc='count')\n",
    "df_pivot_children"
   ]
  },
  {
   "cell_type": "code",
   "execution_count": 195,
   "metadata": {},
   "outputs": [
    {
     "name": "stdout",
     "output_type": "stream",
     "text": [
      "\n",
      "Процент заемщиков, не вернувших кредит в срок, среди заемщиков без детей: 7.54%\n",
      "\n",
      "Процент заемщиков, не вернувших кредит в срок, среди заемщиков с детьми: 9.21%\n",
      "\n"
     ]
    }
   ],
   "source": [
    "debt_without_children = df_pivot_children['детей нет'][1] / (df_pivot_children['детей нет'][0] + df_pivot_children['детей нет'][1])\n",
    "debt_with_children = df_pivot_children['дети есть'][1] / (df_pivot_children['дети есть'][0] + df_pivot_children['дети есть'][1])\n",
    "print()\n",
    "print(f'Процент заемщиков, не вернувших кредит в срок, среди заемщиков без детей: {debt_without_children:.2%}')\n",
    "print()\n",
    "print(f'Процент заемщиков, не вернувших кредит в срок, среди заемщиков с детьми: {debt_with_children:.2%}')\n",
    "print()"
   ]
  },
  {
   "cell_type": "markdown",
   "metadata": {},
   "source": [
    "**Вывод**"
   ]
  },
  {
   "cell_type": "markdown",
   "metadata": {},
   "source": [
    "Процент заемщиков, не вернувших кредит в срок, выше среди заемщиков с детьми на 1,67% по сравнению с заемщиками без детей. На основании этого можно сделать вывод, что наличие детей у заемщика влияет на вероятность возврата кредита в срок."
   ]
  },
  {
   "cell_type": "markdown",
   "metadata": {},
   "source": [
    "<div class=\"alert alert-block alert-danger\">\n",
    "    \n",
    "\n",
    "### Комментарий от ревьюера\n",
    "Критично\n",
    "\n",
    "Откуда взята такая метрика? Такой расчет некорректен.\n",
    "    \n",
    "У тебя есть две доли и разница между этими долями это просто разница, вычитание. Разница между ними в 1,67%\n",
    "</div>"
   ]
  },
  {
   "cell_type": "markdown",
   "metadata": {},
   "source": [
    "### Комментарий на замечание от студента:\n",
    "Понял свою ошибку - исправил вывод."
   ]
  },
  {
   "cell_type": "markdown",
   "metadata": {},
   "source": [
    "**- Есть ли зависимость между семейным положением и возвратом кредита в срок?**"
   ]
  },
  {
   "cell_type": "markdown",
   "metadata": {},
   "source": [
    "Посмотрим сводную таблицу со значениями количества невозврата кредита в срок в каждой категории заемщиков по семейному положению:"
   ]
  },
  {
   "cell_type": "code",
   "execution_count": 196,
   "metadata": {
    "scrolled": true
   },
   "outputs": [
    {
     "data": {
      "text/html": [
       "<div>\n",
       "<style scoped>\n",
       "    .dataframe tbody tr th:only-of-type {\n",
       "        vertical-align: middle;\n",
       "    }\n",
       "\n",
       "    .dataframe tbody tr th {\n",
       "        vertical-align: top;\n",
       "    }\n",
       "\n",
       "    .dataframe thead th {\n",
       "        text-align: right;\n",
       "    }\n",
       "</style>\n",
       "<table border=\"1\" class=\"dataframe\">\n",
       "  <thead>\n",
       "    <tr style=\"text-align: right;\">\n",
       "      <th>family_status</th>\n",
       "      <th>в разводе</th>\n",
       "      <th>вдовец / вдова</th>\n",
       "      <th>гражданский брак</th>\n",
       "      <th>женат / замужем</th>\n",
       "      <th>не женат / не замужем</th>\n",
       "    </tr>\n",
       "    <tr>\n",
       "      <th>debt</th>\n",
       "      <th></th>\n",
       "      <th></th>\n",
       "      <th></th>\n",
       "      <th></th>\n",
       "      <th></th>\n",
       "    </tr>\n",
       "  </thead>\n",
       "  <tbody>\n",
       "    <tr>\n",
       "      <td>0</td>\n",
       "      <td>1110</td>\n",
       "      <td>896</td>\n",
       "      <td>3763</td>\n",
       "      <td>11408</td>\n",
       "      <td>2536</td>\n",
       "    </tr>\n",
       "    <tr>\n",
       "      <td>1</td>\n",
       "      <td>85</td>\n",
       "      <td>63</td>\n",
       "      <td>388</td>\n",
       "      <td>931</td>\n",
       "      <td>274</td>\n",
       "    </tr>\n",
       "  </tbody>\n",
       "</table>\n",
       "</div>"
      ],
      "text/plain": [
       "family_status  в разводе  вдовец / вдова  гражданский брак  женат / замужем  \\\n",
       "debt                                                                          \n",
       "0                   1110             896              3763            11408   \n",
       "1                     85              63               388              931   \n",
       "\n",
       "family_status  не женат / не замужем  \n",
       "debt                                  \n",
       "0                               2536  \n",
       "1                                274  "
      ]
     },
     "execution_count": 196,
     "metadata": {},
     "output_type": "execute_result"
    }
   ],
   "source": [
    "df_pivot_family = df.pivot_table(index=['debt'], columns='family_status', values='family_status_id', aggfunc='count')\n",
    "df_pivot_family"
   ]
  },
  {
   "cell_type": "code",
   "execution_count": 197,
   "metadata": {},
   "outputs": [
    {
     "data": {
      "text/html": [
       "<div>\n",
       "<style scoped>\n",
       "    .dataframe tbody tr th:only-of-type {\n",
       "        vertical-align: middle;\n",
       "    }\n",
       "\n",
       "    .dataframe tbody tr th {\n",
       "        vertical-align: top;\n",
       "    }\n",
       "\n",
       "    .dataframe thead th {\n",
       "        text-align: right;\n",
       "    }\n",
       "</style>\n",
       "<table border=\"1\" class=\"dataframe\">\n",
       "  <thead>\n",
       "    <tr style=\"text-align: right;\">\n",
       "      <th>family_status_id</th>\n",
       "      <th>0</th>\n",
       "      <th>1</th>\n",
       "      <th>2</th>\n",
       "      <th>3</th>\n",
       "      <th>4</th>\n",
       "    </tr>\n",
       "    <tr>\n",
       "      <th>debt</th>\n",
       "      <th></th>\n",
       "      <th></th>\n",
       "      <th></th>\n",
       "      <th></th>\n",
       "      <th></th>\n",
       "    </tr>\n",
       "  </thead>\n",
       "  <tbody>\n",
       "    <tr>\n",
       "      <td>0</td>\n",
       "      <td>11408</td>\n",
       "      <td>3763</td>\n",
       "      <td>896</td>\n",
       "      <td>1110</td>\n",
       "      <td>2536</td>\n",
       "    </tr>\n",
       "    <tr>\n",
       "      <td>1</td>\n",
       "      <td>931</td>\n",
       "      <td>388</td>\n",
       "      <td>63</td>\n",
       "      <td>85</td>\n",
       "      <td>274</td>\n",
       "    </tr>\n",
       "  </tbody>\n",
       "</table>\n",
       "</div>"
      ],
      "text/plain": [
       "family_status_id      0     1    2     3     4\n",
       "debt                                          \n",
       "0                 11408  3763  896  1110  2536\n",
       "1                   931   388   63    85   274"
      ]
     },
     "execution_count": 197,
     "metadata": {},
     "output_type": "execute_result"
    }
   ],
   "source": [
    "df_pivot_family_id = df.pivot_table(index=['debt'], columns='family_status_id', values='family_status', aggfunc='count')\n",
    "df_pivot_family_id"
   ]
  },
  {
   "cell_type": "markdown",
   "metadata": {},
   "source": [
    "Для удобства написания расчетов выведем на экран сводную таблицу family_id, определенную ранее в разделе \"Категоризация данных\":"
   ]
  },
  {
   "cell_type": "code",
   "execution_count": 198,
   "metadata": {},
   "outputs": [
    {
     "data": {
      "text/html": [
       "<div>\n",
       "<style scoped>\n",
       "    .dataframe tbody tr th:only-of-type {\n",
       "        vertical-align: middle;\n",
       "    }\n",
       "\n",
       "    .dataframe tbody tr th {\n",
       "        vertical-align: top;\n",
       "    }\n",
       "\n",
       "    .dataframe thead th {\n",
       "        text-align: right;\n",
       "    }\n",
       "</style>\n",
       "<table border=\"1\" class=\"dataframe\">\n",
       "  <thead>\n",
       "    <tr style=\"text-align: right;\">\n",
       "      <th></th>\n",
       "      <th>family_status</th>\n",
       "      <th>family_status_id</th>\n",
       "    </tr>\n",
       "  </thead>\n",
       "  <tbody>\n",
       "    <tr>\n",
       "      <td>0</td>\n",
       "      <td>женат / замужем</td>\n",
       "      <td>0</td>\n",
       "    </tr>\n",
       "    <tr>\n",
       "      <td>1</td>\n",
       "      <td>гражданский брак</td>\n",
       "      <td>1</td>\n",
       "    </tr>\n",
       "    <tr>\n",
       "      <td>2</td>\n",
       "      <td>вдовец / вдова</td>\n",
       "      <td>2</td>\n",
       "    </tr>\n",
       "    <tr>\n",
       "      <td>3</td>\n",
       "      <td>в разводе</td>\n",
       "      <td>3</td>\n",
       "    </tr>\n",
       "    <tr>\n",
       "      <td>4</td>\n",
       "      <td>не женат / не замужем</td>\n",
       "      <td>4</td>\n",
       "    </tr>\n",
       "  </tbody>\n",
       "</table>\n",
       "</div>"
      ],
      "text/plain": [
       "           family_status  family_status_id\n",
       "0        женат / замужем                 0\n",
       "1       гражданский брак                 1\n",
       "2         вдовец / вдова                 2\n",
       "3              в разводе                 3\n",
       "4  не женат / не замужем                 4"
      ]
     },
     "execution_count": 198,
     "metadata": {},
     "output_type": "execute_result"
    }
   ],
   "source": [
    "family_id"
   ]
  },
  {
   "cell_type": "code",
   "execution_count": 199,
   "metadata": {
    "scrolled": true
   },
   "outputs": [
    {
     "name": "stdout",
     "output_type": "stream",
     "text": [
      "\n",
      "Процент заемщиков, не вернувших кредит в срок, среди категории \"женат / замужем\":       7.55%\n",
      "\n",
      "Процент заемщиков, не вернувших кредит в срок, среди категории \"гражданский брак\":      9.35%\n",
      "\n",
      "Процент заемщиков, не вернувших кредит в срок, среди категории \"вдовец / вдова\":        6.57%\n",
      "\n",
      "Процент заемщиков, не вернувших кредит в срок, среди категории \"в разводе\":             7.11%\n",
      "\n",
      "Процент заемщиков, не вернувших кредит в срок, среди категории \"не женат / не замужем\": 9.75%\n",
      "\n"
     ]
    }
   ],
   "source": [
    "debt_family_0 = df_pivot_family_id[0][1] / (df_pivot_family_id[0][0] + df_pivot_family_id[0][1])\n",
    "debt_family_1 = df_pivot_family_id[1][1] / (df_pivot_family_id[1][0] + df_pivot_family_id[1][1])\n",
    "debt_family_2 = df_pivot_family_id[2][1] / (df_pivot_family_id[2][0] + df_pivot_family_id[2][1])\n",
    "debt_family_3 = df_pivot_family_id[3][1] / (df_pivot_family_id[3][0] + df_pivot_family_id[3][1])\n",
    "debt_family_4 = df_pivot_family_id[4][1] / (df_pivot_family_id[4][0] + df_pivot_family_id[4][1])\n",
    "print()\n",
    "print(f'Процент заемщиков, не вернувших кредит в срок, среди категории \"женат / замужем\":       {debt_family_0:.2%}')\n",
    "print()\n",
    "print(f'Процент заемщиков, не вернувших кредит в срок, среди категории \"гражданский брак\":      {debt_family_1:.2%}')\n",
    "print()\n",
    "print(f'Процент заемщиков, не вернувших кредит в срок, среди категории \"вдовец / вдова\":        {debt_family_2:.2%}')\n",
    "print()\n",
    "print(f'Процент заемщиков, не вернувших кредит в срок, среди категории \"в разводе\":             {debt_family_3:.2%}')\n",
    "print()\n",
    "print(f'Процент заемщиков, не вернувших кредит в срок, среди категории \"не женат / не замужем\": {debt_family_4:.2%}')\n",
    "print()"
   ]
  },
  {
   "cell_type": "code",
   "execution_count": 200,
   "metadata": {},
   "outputs": [
    {
     "data": {
      "text/plain": [
       "<matplotlib.axes._subplots.AxesSubplot at 0x7f7a5bb8d810>"
      ]
     },
     "execution_count": 200,
     "metadata": {},
     "output_type": "execute_result"
    },
    {
     "data": {
      "image/png": "[encoded data removed]",
      "text/plain": [
       "<Figure size 432x288 with 1 Axes>"
      ]
     },
     "metadata": {
      "needs_background": "light"
     },
     "output_type": "display_data"
    }
   ],
   "source": [
    "seaborn.barplot(x=['Статус 0', 'Статус 1', 'Статус 2', 'Статус 3', 'Статус 4'],\n",
    "                y=[7.55, 9.35, 6.57, 7.11, 9.75])"
   ]
  },
  {
   "cell_type": "markdown",
   "metadata": {},
   "source": [
    "**Вывод**"
   ]
  },
  {
   "cell_type": "markdown",
   "metadata": {},
   "source": [
    "Процент заемщиков, не вернувших кредит в срок, различается в каждой категории по семейному статусу. На основании этого можно сделать вывод, что семейное положение влияет на возврат кредита в срок:\n",
    "- наибольший процент просроченных кредитов среди категорий \"не женат / не замужем\" и \"гражданский брак\";\n",
    "- наименьший процент просроченных кредитов в категории \"вдовец / вдова\"."
   ]
  },
  {
   "cell_type": "markdown",
   "metadata": {},
   "source": [
    "**- Есть ли зависимость между уровнем дохода и возвратом кредита в срок?**"
   ]
  },
  {
   "cell_type": "markdown",
   "metadata": {},
   "source": [
    "Посмотрим сводную таблицу со значениями количества невозврата кредита в срок в каждой категории среди заемщиков с разным уровнем дохода:"
   ]
  },
  {
   "cell_type": "code",
   "execution_count": 201,
   "metadata": {},
   "outputs": [
    {
     "data": {
      "text/html": [
       "<div>\n",
       "<style scoped>\n",
       "    .dataframe tbody tr th:only-of-type {\n",
       "        vertical-align: middle;\n",
       "    }\n",
       "\n",
       "    .dataframe tbody tr th {\n",
       "        vertical-align: top;\n",
       "    }\n",
       "\n",
       "    .dataframe thead th {\n",
       "        text-align: right;\n",
       "    }\n",
       "</style>\n",
       "<table border=\"1\" class=\"dataframe\">\n",
       "  <thead>\n",
       "    <tr style=\"text-align: right;\">\n",
       "      <th>income_status</th>\n",
       "      <th>высокий</th>\n",
       "      <th>низкий</th>\n",
       "      <th>очень высокий</th>\n",
       "      <th>средний</th>\n",
       "    </tr>\n",
       "    <tr>\n",
       "      <th>debt</th>\n",
       "      <th></th>\n",
       "      <th></th>\n",
       "      <th></th>\n",
       "      <th></th>\n",
       "    </tr>\n",
       "  </thead>\n",
       "  <tbody>\n",
       "    <tr>\n",
       "      <td>0</td>\n",
       "      <td>7691</td>\n",
       "      <td>1373</td>\n",
       "      <td>1377</td>\n",
       "      <td>9272</td>\n",
       "    </tr>\n",
       "    <tr>\n",
       "      <td>1</td>\n",
       "      <td>657</td>\n",
       "      <td>101</td>\n",
       "      <td>106</td>\n",
       "      <td>877</td>\n",
       "    </tr>\n",
       "  </tbody>\n",
       "</table>\n",
       "</div>"
      ],
      "text/plain": [
       "income_status  высокий  низкий  очень высокий  средний\n",
       "debt                                                  \n",
       "0                 7691    1373           1377     9272\n",
       "1                  657     101            106      877"
      ]
     },
     "execution_count": 201,
     "metadata": {},
     "output_type": "execute_result"
    }
   ],
   "source": [
    "df_pivot_income = df.pivot_table(index=['debt'], columns='income_status', values='month_income', aggfunc='count')\n",
    "df_pivot_income"
   ]
  },
  {
   "cell_type": "code",
   "execution_count": 202,
   "metadata": {
    "scrolled": false
   },
   "outputs": [
    {
     "name": "stdout",
     "output_type": "stream",
     "text": [
      "\n",
      "Процент заемщиков, не вернувших кредит в срок, среди заемщиков с низким доходом:        6.85%\n",
      "\n",
      "Процент заемщиков, не вернувших кредит в срок, среди заемщиков со средним доходом:      8.64%\n",
      "\n",
      "Процент заемщиков, не вернувших кредит в срок, среди заемщиков с высоким доходом:       7.87%\n",
      "\n",
      "Процент заемщиков, не вернувших кредит в срок, среди заемщиков с очень высоким доходом: 7.15%\n",
      "\n"
     ]
    }
   ],
   "source": [
    "debt_low_income = df_pivot_income['низкий'][1] / (df_pivot_income['низкий'][0] + df_pivot_income['низкий'][1])\n",
    "debt_average_income = df_pivot_income['средний'][1] / (df_pivot_income['средний'][0] + df_pivot_income['средний'][1])\n",
    "debt_hign_income = df_pivot_income['высокий'][1] / (df_pivot_income['высокий'][0] + df_pivot_income['высокий'][1])\n",
    "debt_very_hign_income = df_pivot_income['очень высокий'][1] / (df_pivot_income['очень высокий'][0] + df_pivot_income['очень высокий'][1])\n",
    "print()\n",
    "print(f'Процент заемщиков, не вернувших кредит в срок, среди заемщиков с низким доходом:        {debt_low_income:.2%}')\n",
    "print()\n",
    "print(f'Процент заемщиков, не вернувших кредит в срок, среди заемщиков со средним доходом:      {debt_average_income:.2%}')\n",
    "print()\n",
    "print(f'Процент заемщиков, не вернувших кредит в срок, среди заемщиков с высоким доходом:       {debt_hign_income:.2%}')\n",
    "print()\n",
    "print(f'Процент заемщиков, не вернувших кредит в срок, среди заемщиков с очень высоким доходом: {debt_very_hign_income:.2%}')\n",
    "print()"
   ]
  },
  {
   "cell_type": "markdown",
   "metadata": {},
   "source": [
    "**Построим график зависимости просроченных кредитов от уровня дохода:**"
   ]
  },
  {
   "cell_type": "code",
   "execution_count": 203,
   "metadata": {},
   "outputs": [
    {
     "data": {
      "text/plain": [
       "<matplotlib.axes._subplots.AxesSubplot at 0x7f7a5bb20410>"
      ]
     },
     "execution_count": 203,
     "metadata": {},
     "output_type": "execute_result"
    },
    {
     "data": {
      "image/png": "[encoded data removed]",
      "text/plain": [
       "<Figure size 432x288 with 1 Axes>"
      ]
     },
     "metadata": {
      "needs_background": "light"
     },
     "output_type": "display_data"
    }
   ],
   "source": [
    "seaborn.barplot(x=['низкий', 'средний', 'высокий', 'очень высокий'], y=[6.85, 8.64, 7.87, 7.15])"
   ]
  },
  {
   "cell_type": "markdown",
   "metadata": {},
   "source": [
    "<div class=\"alert alert-block alert-success\">\n",
    "\n",
    "    \n",
    "### Комментарий от ревьюера v_1\n",
    "\n",
    "Графики уже во втором проекте 👍🏻\n",
    "    \n",
    "</div>"
   ]
  },
  {
   "cell_type": "markdown",
   "metadata": {},
   "source": [
    "**Вывод**"
   ]
  },
  {
   "cell_type": "markdown",
   "metadata": {},
   "source": [
    "Процент заемщиков, не вернувших кредит в срок, среди заемщиков с разным уровнем дохода на первый взгляд примерно равен и сильно не отличается. При этом самый низкий процент просроченных кредитов среди заемщиков с низким доходом, а самый высокий процент просроченных кредитов среди заемщиков со средним доходом. На основании этого можно сделать вывод, что зависимость возврата кредита в срок от уровня дохода имеется:\n",
    "- наибольший риск просрочить кредит имеют заемщики со средним уровнем дохода;\n",
    "- средние риски у заемщиков с высоким и очень высоким уровнем дохода;\n",
    "- наименьшие риски у заемщиков с низким уровнем дохода."
   ]
  },
  {
   "cell_type": "markdown",
   "metadata": {},
   "source": [
    "**- Как разные цели кредита влияют на его возврат в срок?**"
   ]
  },
  {
   "cell_type": "markdown",
   "metadata": {},
   "source": [
    "Посмотрим сводную таблицу со значениями количества невозврата кредита в срок в каждой категории среди разных целей кредита:"
   ]
  },
  {
   "cell_type": "code",
   "execution_count": 204,
   "metadata": {
    "scrolled": true
   },
   "outputs": [
    {
     "data": {
      "text/html": [
       "<div>\n",
       "<style scoped>\n",
       "    .dataframe tbody tr th:only-of-type {\n",
       "        vertical-align: middle;\n",
       "    }\n",
       "\n",
       "    .dataframe tbody tr th {\n",
       "        vertical-align: top;\n",
       "    }\n",
       "\n",
       "    .dataframe thead th {\n",
       "        text-align: right;\n",
       "    }\n",
       "</style>\n",
       "<table border=\"1\" class=\"dataframe\">\n",
       "  <thead>\n",
       "    <tr style=\"text-align: right;\">\n",
       "      <th>purpose_category</th>\n",
       "      <th>автомобиль</th>\n",
       "      <th>недвижимость</th>\n",
       "      <th>образование</th>\n",
       "      <th>свадьба</th>\n",
       "    </tr>\n",
       "    <tr>\n",
       "      <th>debt</th>\n",
       "      <th></th>\n",
       "      <th></th>\n",
       "      <th></th>\n",
       "      <th></th>\n",
       "    </tr>\n",
       "  </thead>\n",
       "  <tbody>\n",
       "    <tr>\n",
       "      <td>0</td>\n",
       "      <td>3903</td>\n",
       "      <td>10029</td>\n",
       "      <td>3643</td>\n",
       "      <td>2138</td>\n",
       "    </tr>\n",
       "    <tr>\n",
       "      <td>1</td>\n",
       "      <td>403</td>\n",
       "      <td>782</td>\n",
       "      <td>370</td>\n",
       "      <td>186</td>\n",
       "    </tr>\n",
       "  </tbody>\n",
       "</table>\n",
       "</div>"
      ],
      "text/plain": [
       "purpose_category  автомобиль  недвижимость  образование  свадьба\n",
       "debt                                                            \n",
       "0                       3903         10029         3643     2138\n",
       "1                        403           782          370      186"
      ]
     },
     "execution_count": 204,
     "metadata": {},
     "output_type": "execute_result"
    }
   ],
   "source": [
    "df_pivot_purpose = df.pivot_table(index=['debt'], columns='purpose_category', values='purpose', aggfunc='count')\n",
    "df_pivot_purpose"
   ]
  },
  {
   "cell_type": "code",
   "execution_count": 205,
   "metadata": {},
   "outputs": [
    {
     "name": "stdout",
     "output_type": "stream",
     "text": [
      "\n",
      "Процент заемщиков, не вернувших кредит в срок, взявших кредит на автомобиль:   9.36%\n",
      "\n",
      "Процент заемщиков, не вернувших кредит в срок, взявших кредит на недвижимость: 7.23%\n",
      "\n",
      "Процент заемщиков, не вернувших кредит в срок, взявших кредит на образование:  9.22%\n",
      "\n",
      "Процент заемщиков, не вернувших кредит в срок, взявших кредит на свадьбу:      8.00%\n",
      "\n"
     ]
    }
   ],
   "source": [
    "debt_avto = df_pivot_purpose['автомобиль'][1] / (df_pivot_purpose['автомобиль'][0] + df_pivot_purpose['автомобиль'][1])\n",
    "debt_property = df_pivot_purpose['недвижимость'][1] / (df_pivot_purpose['недвижимость'][0] + df_pivot_purpose['недвижимость'][1])\n",
    "debt_education = df_pivot_purpose['образование'][1] / (df_pivot_purpose['образование'][0] + df_pivot_purpose['образование'][1])\n",
    "debt_wedding = df_pivot_purpose['свадьба'][1] / (df_pivot_purpose['свадьба'][0] + df_pivot_purpose['свадьба'][1])\n",
    "print()\n",
    "print(f'Процент заемщиков, не вернувших кредит в срок, взявших кредит на автомобиль:   {debt_avto:.2%}')\n",
    "print()\n",
    "print(f'Процент заемщиков, не вернувших кредит в срок, взявших кредит на недвижимость: {debt_property:.2%}')\n",
    "print()\n",
    "print(f'Процент заемщиков, не вернувших кредит в срок, взявших кредит на образование:  {debt_education:.2%}')\n",
    "print()\n",
    "print(f'Процент заемщиков, не вернувших кредит в срок, взявших кредит на свадьбу:      {debt_wedding:.2%}')\n",
    "print()"
   ]
  },
  {
   "cell_type": "markdown",
   "metadata": {},
   "source": [
    "**Построим график зависимости просроченных кредитов от целей уредита:**"
   ]
  },
  {
   "cell_type": "code",
   "execution_count": 206,
   "metadata": {
    "scrolled": true
   },
   "outputs": [
    {
     "data": {
      "text/plain": [
       "<matplotlib.axes._subplots.AxesSubplot at 0x7f7a5bafb890>"
      ]
     },
     "execution_count": 206,
     "metadata": {},
     "output_type": "execute_result"
    },
    {
     "data": {
      "image/png": "[encoded data removed]",
      "text/plain": [
       "<Figure size 432x288 with 1 Axes>"
      ]
     },
     "metadata": {
      "needs_background": "light"
     },
     "output_type": "display_data"
    }
   ],
   "source": [
    "seaborn.barplot(x=['автомобиль', 'недвижимость', 'образование', 'свадьба'], y=[9.36, 7.23, 9.22, 8.00])"
   ]
  },
  {
   "cell_type": "markdown",
   "metadata": {},
   "source": [
    "**Вывод**"
   ]
  },
  {
   "cell_type": "markdown",
   "metadata": {},
   "source": [
    "Наиболее высокий процент просроченных кредитов среди заемщиков, взявших кредит на автомобиль и на образование. Самый маленький процент просроченных кредитов среди заемщиков, взявших кредит на недвижимость. На основании этого можно сделать вывод, что зависимость возврата кредита в срок от цели кредита имеется:\n",
    "- наибольший процент просроченных кредитов имеют заемщики, взявшие кредит на автомобиль и на образование;\n",
    "- средний процент у заемщиков, взявших кредит на свадьбу;\n",
    "- наименьший процент у заемщиков, взявших кредит на недвижимость."
   ]
  },
  {
   "cell_type": "markdown",
   "metadata": {},
   "source": [
    "<div class=\"alert alert-block alert-success\">\n",
    "\n",
    "    \n",
    "### Комментарий от ревьюера v_1\n",
    "\n",
    "Доли расчитаны верно 👍🏻\n",
    "    \n",
    "    \n",
    "</div>"
   ]
  },
  {
   "cell_type": "markdown",
   "metadata": {},
   "source": [
    "<div class=\"alert alert-block alert-danger\">\n",
    "    \n",
    "\n",
    "### Комментарий от ревьюера v_1\n",
    "Критично\n",
    "\n",
    "Но интерпретация неверна, выводы нужно переделать\n",
    "    \n",
    "</div>"
   ]
  },
  {
   "cell_type": "markdown",
   "metadata": {},
   "source": [
    "## Шаг 4. Общий вывод"
   ]
  },
  {
   "cell_type": "markdown",
   "metadata": {},
   "source": [
    "Подводя итоги, отвечая на поставленные вопросы, можно сделать выводы:\n",
    "1. Зависимость между наличием детей и возвратом кредита в срок имеется - процент просроченных кредитов выше у заемщиков с детьми.\n",
    "2. Зависимость между семейным положением и возвратом кредита в срок имеется - процент просроченных кредитов разных в каждой категории заемщиков по семейному положению:\n",
    "- наибольший процент просроченных кредитов среди категорий \"не женат / не замужем\" и \"гражданский брак\";\n",
    "- наименьший процент просроченных кредитов в категории \"вдовец / вдова\".\n",
    "3. Зависимость между уровнем дохода и возвратом кредита в срок имеется - процент просроченных кредитов наиболее высок у заемщиков со средним уровнем дохода и наименее низкий у заемщиков с низким уровнем дохода.\n",
    "4. Заемщики, взявшие кредит на разные цели имееют разный процент просроченных кредитов:\n",
    "- наибольший процент просроченных кредитов имеют заемщики, взявшие кредит на автомобиль и на образование;\n",
    "- средний процент у заемщиков, взявших кредит на свадьбу;\n",
    "- наименьший процент у заемщиков, взявших кредит на недвижимость."
   ]
  },
  {
   "cell_type": "markdown",
   "metadata": {},
   "source": [
    "<div class=\"alert alert-block alert-success\">\n",
    "    \n",
    "\n",
    "### Комментарий от ревьюера v_1\n",
    "Отлично\n",
    "    \n",
    "Отличный вывод 👍🏻\n",
    "</div>"
   ]
  },
  {
   "cell_type": "markdown",
   "metadata": {},
   "source": [
    "## Чек-лист готовности проекта\n",
    "\n",
    "Поставьте 'x' в выполненных пунктах. Далее нажмите Shift+Enter."
   ]
  },
  {
   "cell_type": "markdown",
   "metadata": {},
   "source": [
    "- [x]  открыт файл;\n",
    "- [x]  файл изучен;\n",
    "- [x]  определены пропущенные значения;\n",
    "- [x]  заполнены пропущенные значения;\n",
    "- [x]  есть пояснение, какие пропущенные значения обнаружены;\n",
    "- [x]  описаны возможные причины появления пропусков в данных;\n",
    "- [x]  объяснено, по какому принципу заполнены пропуски;\n",
    "- [x]  заменен вещественный тип данных на целочисленный;\n",
    "- [x]  есть пояснение, какой метод используется для изменения типа данных и почему;\n",
    "- [x]  удалены дубликаты;\n",
    "- [x]  есть пояснение, какой метод используется для поиска и удаления дубликатов;\n",
    "- [x]  описаны возможные причины появления дубликатов в данных;\n",
    "- [x]  выделены леммы в значениях столбца с целями получения кредита;\n",
    "- [x]  описан процесс лемматизации;\n",
    "- [x]  данные категоризированы;\n",
    "- [x]  есть объяснение принципа категоризации данных;\n",
    "- [x]  есть ответ на вопрос: \"Есть ли зависимость между наличием детей и возвратом кредита в срок?\";\n",
    "- [x]  есть ответ на вопрос: \"Есть ли зависимость между семейным положением и возвратом кредита в срок?\";\n",
    "- [x]  есть ответ на вопрос: \"Есть ли зависимость между уровнем дохода и возвратом кредита в срок?\";\n",
    "- [x]  есть ответ на вопрос: \"Как разные цели кредита влияют на его возврат в срок?\";\n",
    "- [x]  в каждом этапе есть выводы;\n",
    "- [x]  есть общий вывод."
   ]
  }
 ],
 "metadata": {
  "ExecuteTimeLog": [
   {
    "duration": 778,
    "start_time": "2022-01-06T16:25:41.947Z"
   },
   {
    "duration": 268,
    "start_time": "2022-01-06T16:28:09.048Z"
   },
   {
    "duration": 28,
    "start_time": "2022-01-06T16:28:48.186Z"
   },
   {
    "duration": 15,
    "start_time": "2022-01-06T16:33:01.777Z"
   },
   {
    "duration": 13,
    "start_time": "2022-01-06T16:48:18.308Z"
   },
   {
    "duration": 9,
    "start_time": "2022-01-06T18:41:41.119Z"
   },
   {
    "duration": 6,
    "start_time": "2022-01-06T18:41:59.294Z"
   },
   {
    "duration": 14,
    "start_time": "2022-01-06T18:43:42.773Z"
   },
   {
    "duration": 488,
    "start_time": "2022-01-06T19:57:01.891Z"
   },
   {
    "duration": 19,
    "start_time": "2022-01-06T19:57:18.418Z"
   },
   {
    "duration": 28,
    "start_time": "2022-01-06T19:58:33.461Z"
   },
   {
    "duration": 20,
    "start_time": "2022-01-06T19:58:57.885Z"
   },
   {
    "duration": 208,
    "start_time": "2022-01-06T20:01:12.978Z"
   },
   {
    "duration": 132,
    "start_time": "2022-01-06T20:01:49.691Z"
   },
   {
    "duration": 10,
    "start_time": "2022-01-06T20:02:09.587Z"
   },
   {
    "duration": 27,
    "start_time": "2022-01-06T20:16:11.079Z"
   },
   {
    "duration": 10,
    "start_time": "2022-01-06T20:16:46.477Z"
   },
   {
    "duration": 25,
    "start_time": "2022-01-06T20:17:07.080Z"
   },
   {
    "duration": 17,
    "start_time": "2022-01-06T20:31:29.735Z"
   },
   {
    "duration": 427,
    "start_time": "2022-01-06T20:31:56.079Z"
   },
   {
    "duration": 13,
    "start_time": "2022-01-06T20:32:04.007Z"
   },
   {
    "duration": 77,
    "start_time": "2022-01-06T20:32:09.222Z"
   },
   {
    "duration": 6,
    "start_time": "2022-01-06T21:18:12.700Z"
   },
   {
    "duration": 384,
    "start_time": "2022-01-06T21:18:36.850Z"
   },
   {
    "duration": 373,
    "start_time": "2022-01-06T21:18:47.983Z"
   },
   {
    "duration": 6,
    "start_time": "2022-01-06T21:18:56.451Z"
   },
   {
    "duration": 7,
    "start_time": "2022-01-06T21:19:06.298Z"
   },
   {
    "duration": 11,
    "start_time": "2022-01-06T21:21:31.643Z"
   },
   {
    "duration": 394,
    "start_time": "2022-01-06T21:22:36.337Z"
   },
   {
    "duration": 9,
    "start_time": "2022-01-06T21:23:34.290Z"
   },
   {
    "duration": 10,
    "start_time": "2022-01-06T21:24:20.679Z"
   },
   {
    "duration": 399,
    "start_time": "2022-01-06T21:25:14.996Z"
   },
   {
    "duration": 4,
    "start_time": "2022-01-06T21:26:16.823Z"
   },
   {
    "duration": 472,
    "start_time": "2022-01-06T21:27:02.671Z"
   },
   {
    "duration": 374,
    "start_time": "2022-01-06T21:27:22.249Z"
   },
   {
    "duration": 4,
    "start_time": "2022-01-06T21:28:04.847Z"
   },
   {
    "duration": 77,
    "start_time": "2022-01-06T21:28:04.855Z"
   },
   {
    "duration": 19,
    "start_time": "2022-01-06T21:28:04.935Z"
   },
   {
    "duration": 21,
    "start_time": "2022-01-06T21:28:04.956Z"
   },
   {
    "duration": 8,
    "start_time": "2022-01-06T21:28:04.980Z"
   },
   {
    "duration": 5,
    "start_time": "2022-01-06T21:28:04.991Z"
   },
   {
    "duration": 28,
    "start_time": "2022-01-06T21:28:04.998Z"
   },
   {
    "duration": 12,
    "start_time": "2022-01-06T21:28:05.065Z"
   },
   {
    "duration": 16,
    "start_time": "2022-01-06T21:28:05.080Z"
   },
   {
    "duration": 14,
    "start_time": "2022-01-06T21:28:07.909Z"
   },
   {
    "duration": 433,
    "start_time": "2022-01-06T21:28:08.820Z"
   },
   {
    "duration": 731,
    "start_time": "2022-01-06T21:28:27.411Z"
   },
   {
    "duration": 18,
    "start_time": "2022-01-06T21:29:21.926Z"
   },
   {
    "duration": 11,
    "start_time": "2022-01-06T21:30:32.452Z"
   },
   {
    "duration": 20,
    "start_time": "2022-01-06T21:30:48.156Z"
   },
   {
    "duration": 16,
    "start_time": "2022-01-06T21:31:04.257Z"
   },
   {
    "duration": 4,
    "start_time": "2022-01-06T21:39:48.723Z"
   },
   {
    "duration": 69,
    "start_time": "2022-01-06T21:39:48.731Z"
   },
   {
    "duration": 20,
    "start_time": "2022-01-06T21:39:48.803Z"
   },
   {
    "duration": 37,
    "start_time": "2022-01-06T21:39:48.827Z"
   },
   {
    "duration": 7,
    "start_time": "2022-01-06T21:39:48.867Z"
   },
   {
    "duration": 6,
    "start_time": "2022-01-06T21:39:48.878Z"
   },
   {
    "duration": 24,
    "start_time": "2022-01-06T21:39:48.887Z"
   },
   {
    "duration": 21,
    "start_time": "2022-01-06T21:39:50.850Z"
   },
   {
    "duration": 8,
    "start_time": "2022-01-06T21:39:52.245Z"
   },
   {
    "duration": 13,
    "start_time": "2022-01-06T21:39:55.227Z"
   },
   {
    "duration": 431,
    "start_time": "2022-01-06T21:40:45.935Z"
   },
   {
    "duration": 14,
    "start_time": "2022-01-06T21:41:33.870Z"
   },
   {
    "duration": 13,
    "start_time": "2022-01-06T21:41:38.931Z"
   },
   {
    "duration": 129,
    "start_time": "2022-01-06T21:41:54.839Z"
   },
   {
    "duration": 1596,
    "start_time": "2022-01-06T21:42:02.836Z"
   },
   {
    "duration": 15,
    "start_time": "2022-01-06T21:42:16.520Z"
   },
   {
    "duration": 3,
    "start_time": "2022-01-06T21:42:52.531Z"
   },
   {
    "duration": 76,
    "start_time": "2022-01-06T21:42:52.537Z"
   },
   {
    "duration": 23,
    "start_time": "2022-01-06T21:42:52.617Z"
   },
   {
    "duration": 22,
    "start_time": "2022-01-06T21:42:52.659Z"
   },
   {
    "duration": 7,
    "start_time": "2022-01-06T21:42:52.684Z"
   },
   {
    "duration": 6,
    "start_time": "2022-01-06T21:42:52.693Z"
   },
   {
    "duration": 21,
    "start_time": "2022-01-06T21:42:52.701Z"
   },
   {
    "duration": 26,
    "start_time": "2022-01-06T21:42:54.558Z"
   },
   {
    "duration": 10,
    "start_time": "2022-01-06T21:43:57.222Z"
   },
   {
    "duration": 396,
    "start_time": "2022-01-06T21:44:07.707Z"
   },
   {
    "duration": 8,
    "start_time": "2022-01-06T21:44:27.520Z"
   },
   {
    "duration": 7,
    "start_time": "2022-01-06T21:45:19.035Z"
   },
   {
    "duration": 9,
    "start_time": "2022-01-06T21:46:26.658Z"
   },
   {
    "duration": 617,
    "start_time": "2022-01-06T21:47:31.383Z"
   },
   {
    "duration": 20,
    "start_time": "2022-01-06T21:48:09.872Z"
   },
   {
    "duration": 8,
    "start_time": "2022-01-06T21:48:29.569Z"
   },
   {
    "duration": 6,
    "start_time": "2022-01-06T21:48:44.190Z"
   },
   {
    "duration": 390,
    "start_time": "2022-01-06T21:49:18.550Z"
   },
   {
    "duration": 8,
    "start_time": "2022-01-06T21:49:54.775Z"
   },
   {
    "duration": 8,
    "start_time": "2022-01-06T21:50:12.576Z"
   },
   {
    "duration": 8,
    "start_time": "2022-01-06T21:50:13.237Z"
   },
   {
    "duration": 8,
    "start_time": "2022-01-06T21:52:25.810Z"
   },
   {
    "duration": 8,
    "start_time": "2022-01-06T21:52:26.399Z"
   },
   {
    "duration": 9,
    "start_time": "2022-01-06T21:52:28.446Z"
   },
   {
    "duration": 8,
    "start_time": "2022-01-06T21:53:09.664Z"
   },
   {
    "duration": 8,
    "start_time": "2022-01-06T21:53:10.182Z"
   },
   {
    "duration": 9,
    "start_time": "2022-01-06T21:53:11.428Z"
   },
   {
    "duration": 29,
    "start_time": "2022-01-06T22:04:45.971Z"
   },
   {
    "duration": 20,
    "start_time": "2022-01-06T22:06:37.602Z"
   },
   {
    "duration": 3,
    "start_time": "2022-01-06T22:08:29.922Z"
   },
   {
    "duration": 67,
    "start_time": "2022-01-06T22:08:30.381Z"
   },
   {
    "duration": 24,
    "start_time": "2022-01-06T22:08:30.861Z"
   },
   {
    "duration": 18,
    "start_time": "2022-01-06T22:08:48.451Z"
   },
   {
    "duration": 11985,
    "start_time": "2022-01-06T22:24:19.925Z"
   },
   {
    "duration": 3,
    "start_time": "2022-01-06T22:24:39.294Z"
   },
   {
    "duration": 63,
    "start_time": "2022-01-06T22:24:39.489Z"
   },
   {
    "duration": 19,
    "start_time": "2022-01-06T22:24:39.694Z"
   },
   {
    "duration": 15,
    "start_time": "2022-01-06T22:24:39.873Z"
   },
   {
    "duration": 10,
    "start_time": "2022-01-06T22:24:41.482Z"
   },
   {
    "duration": 6,
    "start_time": "2022-01-06T22:24:41.866Z"
   },
   {
    "duration": 19,
    "start_time": "2022-01-06T22:24:43.020Z"
   },
   {
    "duration": 8,
    "start_time": "2022-01-06T22:24:43.592Z"
   },
   {
    "duration": 7,
    "start_time": "2022-01-06T22:24:44.242Z"
   },
   {
    "duration": 9,
    "start_time": "2022-01-06T22:24:45.395Z"
   },
   {
    "duration": 12,
    "start_time": "2022-01-06T22:24:46.815Z"
   },
   {
    "duration": 11,
    "start_time": "2022-01-06T22:25:07.752Z"
   },
   {
    "duration": 10,
    "start_time": "2022-01-06T22:25:54.662Z"
   },
   {
    "duration": 9,
    "start_time": "2022-01-06T22:26:25.763Z"
   },
   {
    "duration": 22,
    "start_time": "2022-01-06T22:27:21.949Z"
   },
   {
    "duration": 12,
    "start_time": "2022-01-06T22:27:49.706Z"
   },
   {
    "duration": 15,
    "start_time": "2022-01-06T22:29:36.308Z"
   },
   {
    "duration": 11,
    "start_time": "2022-01-06T22:30:49.804Z"
   },
   {
    "duration": 9,
    "start_time": "2022-01-06T22:32:14.340Z"
   },
   {
    "duration": 14,
    "start_time": "2022-01-06T22:32:49.657Z"
   },
   {
    "duration": 11,
    "start_time": "2022-01-06T22:33:52.941Z"
   },
   {
    "duration": 483,
    "start_time": "2022-01-07T09:43:19.550Z"
   },
   {
    "duration": 826,
    "start_time": "2022-01-07T09:43:28.895Z"
   },
   {
    "duration": 68,
    "start_time": "2022-01-07T09:43:29.723Z"
   },
   {
    "duration": 32,
    "start_time": "2022-01-07T09:43:29.794Z"
   },
   {
    "duration": 30,
    "start_time": "2022-01-07T09:43:29.829Z"
   },
   {
    "duration": 8,
    "start_time": "2022-01-07T09:43:29.862Z"
   },
   {
    "duration": 9,
    "start_time": "2022-01-07T09:43:29.872Z"
   },
   {
    "duration": 20,
    "start_time": "2022-01-07T09:43:29.884Z"
   },
   {
    "duration": 7,
    "start_time": "2022-01-07T09:43:29.908Z"
   },
   {
    "duration": 435,
    "start_time": "2022-01-07T09:43:29.961Z"
   },
   {
    "duration": -427,
    "start_time": "2022-01-07T09:43:30.825Z"
   },
   {
    "duration": -429,
    "start_time": "2022-01-07T09:43:30.829Z"
   },
   {
    "duration": -430,
    "start_time": "2022-01-07T09:43:30.831Z"
   },
   {
    "duration": -432,
    "start_time": "2022-01-07T09:43:30.835Z"
   },
   {
    "duration": -433,
    "start_time": "2022-01-07T09:43:30.838Z"
   },
   {
    "duration": 3,
    "start_time": "2022-01-07T09:43:44.039Z"
   },
   {
    "duration": 85,
    "start_time": "2022-01-07T09:43:44.448Z"
   },
   {
    "duration": 26,
    "start_time": "2022-01-07T09:43:45.145Z"
   },
   {
    "duration": 21,
    "start_time": "2022-01-07T09:43:45.867Z"
   },
   {
    "duration": 9,
    "start_time": "2022-01-07T09:43:50.283Z"
   },
   {
    "duration": 6,
    "start_time": "2022-01-07T09:43:50.961Z"
   },
   {
    "duration": 27,
    "start_time": "2022-01-07T09:43:52.302Z"
   },
   {
    "duration": 8,
    "start_time": "2022-01-07T09:43:53.054Z"
   },
   {
    "duration": 370,
    "start_time": "2022-01-07T09:43:55.248Z"
   },
   {
    "duration": 8,
    "start_time": "2022-01-07T09:44:19.841Z"
   },
   {
    "duration": 9,
    "start_time": "2022-01-07T09:44:28.180Z"
   },
   {
    "duration": 10,
    "start_time": "2022-01-07T09:44:33.029Z"
   },
   {
    "duration": 10,
    "start_time": "2022-01-07T09:44:33.885Z"
   },
   {
    "duration": 11,
    "start_time": "2022-01-07T09:44:36.236Z"
   },
   {
    "duration": 13,
    "start_time": "2022-01-07T09:44:37.044Z"
   },
   {
    "duration": 9,
    "start_time": "2022-01-07T09:44:38.760Z"
   },
   {
    "duration": 12,
    "start_time": "2022-01-07T09:45:10.301Z"
   },
   {
    "duration": 13,
    "start_time": "2022-01-07T09:45:33.060Z"
   },
   {
    "duration": 12,
    "start_time": "2022-01-07T09:45:37.266Z"
   },
   {
    "duration": 11,
    "start_time": "2022-01-07T09:45:41.887Z"
   },
   {
    "duration": 9,
    "start_time": "2022-01-07T09:45:44.970Z"
   },
   {
    "duration": 14,
    "start_time": "2022-01-07T09:51:15.486Z"
   },
   {
    "duration": 11,
    "start_time": "2022-01-07T09:51:15.982Z"
   },
   {
    "duration": 10,
    "start_time": "2022-01-07T09:51:16.606Z"
   },
   {
    "duration": 10,
    "start_time": "2022-01-07T09:51:17.288Z"
   },
   {
    "duration": 10,
    "start_time": "2022-01-07T09:51:17.988Z"
   },
   {
    "duration": 13,
    "start_time": "2022-01-07T10:00:55.721Z"
   },
   {
    "duration": 16,
    "start_time": "2022-01-07T10:00:56.402Z"
   },
   {
    "duration": 15,
    "start_time": "2022-01-07T10:00:56.920Z"
   },
   {
    "duration": 14,
    "start_time": "2022-01-07T10:00:57.454Z"
   },
   {
    "duration": 13,
    "start_time": "2022-01-07T10:00:58.162Z"
   },
   {
    "duration": 17,
    "start_time": "2022-01-07T10:01:11.360Z"
   },
   {
    "duration": 37,
    "start_time": "2022-01-07T10:01:46.175Z"
   },
   {
    "duration": 39,
    "start_time": "2022-01-07T10:02:33.152Z"
   },
   {
    "duration": 33,
    "start_time": "2022-01-07T10:03:18.379Z"
   },
   {
    "duration": 13,
    "start_time": "2022-01-07T10:05:36.157Z"
   },
   {
    "duration": 24,
    "start_time": "2022-01-07T10:06:53.147Z"
   },
   {
    "duration": 405,
    "start_time": "2022-01-07T10:07:41.923Z"
   },
   {
    "duration": 27,
    "start_time": "2022-01-07T10:09:38.049Z"
   },
   {
    "duration": 27,
    "start_time": "2022-01-07T10:09:52.832Z"
   },
   {
    "duration": 26,
    "start_time": "2022-01-07T10:10:15.981Z"
   },
   {
    "duration": 4,
    "start_time": "2022-01-07T10:10:53.807Z"
   },
   {
    "duration": 92,
    "start_time": "2022-01-07T10:10:53.814Z"
   },
   {
    "duration": 29,
    "start_time": "2022-01-07T10:10:53.909Z"
   },
   {
    "duration": 33,
    "start_time": "2022-01-07T10:10:53.941Z"
   },
   {
    "duration": 7,
    "start_time": "2022-01-07T10:10:53.977Z"
   },
   {
    "duration": 12,
    "start_time": "2022-01-07T10:10:53.987Z"
   },
   {
    "duration": 22,
    "start_time": "2022-01-07T10:10:54.001Z"
   },
   {
    "duration": 9,
    "start_time": "2022-01-07T10:10:54.059Z"
   },
   {
    "duration": 8,
    "start_time": "2022-01-07T10:10:54.072Z"
   },
   {
    "duration": 10,
    "start_time": "2022-01-07T10:10:54.082Z"
   },
   {
    "duration": 34,
    "start_time": "2022-01-07T10:10:56.925Z"
   },
   {
    "duration": 9,
    "start_time": "2022-01-07T10:11:43.006Z"
   },
   {
    "duration": 20,
    "start_time": "2022-01-07T10:11:48.753Z"
   },
   {
    "duration": 5,
    "start_time": "2022-01-07T10:12:02.401Z"
   },
   {
    "duration": 3,
    "start_time": "2022-01-07T10:12:25.318Z"
   },
   {
    "duration": 68,
    "start_time": "2022-01-07T10:12:25.324Z"
   },
   {
    "duration": 22,
    "start_time": "2022-01-07T10:12:25.395Z"
   },
   {
    "duration": 17,
    "start_time": "2022-01-07T10:12:25.420Z"
   },
   {
    "duration": 25,
    "start_time": "2022-01-07T10:12:25.439Z"
   },
   {
    "duration": 6,
    "start_time": "2022-01-07T10:12:25.466Z"
   },
   {
    "duration": 23,
    "start_time": "2022-01-07T10:12:25.475Z"
   },
   {
    "duration": 7,
    "start_time": "2022-01-07T10:12:25.501Z"
   },
   {
    "duration": 51,
    "start_time": "2022-01-07T10:12:25.510Z"
   },
   {
    "duration": 10,
    "start_time": "2022-01-07T10:12:25.564Z"
   },
   {
    "duration": 11,
    "start_time": "2022-01-07T10:12:25.577Z"
   },
   {
    "duration": 11,
    "start_time": "2022-01-07T10:12:27.548Z"
   },
   {
    "duration": 6,
    "start_time": "2022-01-07T10:12:28.356Z"
   },
   {
    "duration": 21,
    "start_time": "2022-01-07T10:15:51.743Z"
   },
   {
    "duration": 420,
    "start_time": "2022-01-07T10:24:45.258Z"
   },
   {
    "duration": 24,
    "start_time": "2022-01-07T10:24:53.326Z"
   },
   {
    "duration": 26,
    "start_time": "2022-01-07T10:25:14.098Z"
   },
   {
    "duration": 26,
    "start_time": "2022-01-07T10:25:28.232Z"
   },
   {
    "duration": 29,
    "start_time": "2022-01-07T10:25:42.537Z"
   },
   {
    "duration": 15,
    "start_time": "2022-01-07T10:26:50.243Z"
   },
   {
    "duration": 3,
    "start_time": "2022-01-07T10:28:26.411Z"
   },
   {
    "duration": 66,
    "start_time": "2022-01-07T10:28:26.416Z"
   },
   {
    "duration": 18,
    "start_time": "2022-01-07T10:28:26.485Z"
   },
   {
    "duration": 16,
    "start_time": "2022-01-07T10:28:26.506Z"
   },
   {
    "duration": 7,
    "start_time": "2022-01-07T10:28:26.524Z"
   },
   {
    "duration": 30,
    "start_time": "2022-01-07T10:28:26.533Z"
   },
   {
    "duration": 22,
    "start_time": "2022-01-07T10:28:26.565Z"
   },
   {
    "duration": 7,
    "start_time": "2022-01-07T10:28:26.591Z"
   },
   {
    "duration": 8,
    "start_time": "2022-01-07T10:28:26.601Z"
   },
   {
    "duration": 50,
    "start_time": "2022-01-07T10:28:26.611Z"
   },
   {
    "duration": 29,
    "start_time": "2022-01-07T10:28:26.664Z"
   },
   {
    "duration": 32,
    "start_time": "2022-01-07T10:28:29.144Z"
   },
   {
    "duration": 14,
    "start_time": "2022-01-07T10:28:30.155Z"
   },
   {
    "duration": 13,
    "start_time": "2022-01-07T10:28:32.287Z"
   },
   {
    "duration": 13,
    "start_time": "2022-01-07T10:28:34.322Z"
   },
   {
    "duration": 12,
    "start_time": "2022-01-07T10:28:38.509Z"
   },
   {
    "duration": 23,
    "start_time": "2022-01-07T10:28:41.782Z"
   },
   {
    "duration": 19,
    "start_time": "2022-01-07T10:29:04.538Z"
   },
   {
    "duration": 23,
    "start_time": "2022-01-07T10:29:10.766Z"
   },
   {
    "duration": 15,
    "start_time": "2022-01-07T10:30:18.346Z"
   },
   {
    "duration": 15,
    "start_time": "2022-01-07T10:30:19.102Z"
   },
   {
    "duration": 13,
    "start_time": "2022-01-07T10:30:19.558Z"
   },
   {
    "duration": 13,
    "start_time": "2022-01-07T10:30:19.950Z"
   },
   {
    "duration": 12,
    "start_time": "2022-01-07T10:30:20.389Z"
   },
   {
    "duration": 24,
    "start_time": "2022-01-07T10:30:21.142Z"
   },
   {
    "duration": 14,
    "start_time": "2022-01-07T10:31:08.605Z"
   },
   {
    "duration": 20,
    "start_time": "2022-01-07T10:31:29.213Z"
   },
   {
    "duration": 14,
    "start_time": "2022-01-07T10:31:31.547Z"
   },
   {
    "duration": 14,
    "start_time": "2022-01-07T10:39:20.675Z"
   },
   {
    "duration": 16,
    "start_time": "2022-01-07T10:39:30.323Z"
   },
   {
    "duration": 984,
    "start_time": "2022-01-07T10:40:42.174Z"
   },
   {
    "duration": 13,
    "start_time": "2022-01-07T10:40:53.714Z"
   },
   {
    "duration": 15,
    "start_time": "2022-01-07T10:43:13.220Z"
   },
   {
    "duration": 13,
    "start_time": "2022-01-07T10:43:41.574Z"
   },
   {
    "duration": 13,
    "start_time": "2022-01-07T11:01:55.287Z"
   },
   {
    "duration": 12,
    "start_time": "2022-01-07T11:02:34.730Z"
   },
   {
    "duration": 13,
    "start_time": "2022-01-07T11:02:35.145Z"
   },
   {
    "duration": 14,
    "start_time": "2022-01-07T11:02:35.567Z"
   },
   {
    "duration": 12,
    "start_time": "2022-01-07T11:02:35.984Z"
   },
   {
    "duration": 11,
    "start_time": "2022-01-07T11:02:36.469Z"
   },
   {
    "duration": 20,
    "start_time": "2022-01-07T11:02:37.272Z"
   },
   {
    "duration": 8,
    "start_time": "2022-01-07T11:03:29.066Z"
   },
   {
    "duration": 7,
    "start_time": "2022-01-07T11:03:30.799Z"
   },
   {
    "duration": 4,
    "start_time": "2022-01-07T11:03:37.961Z"
   },
   {
    "duration": 63,
    "start_time": "2022-01-07T11:03:38.150Z"
   },
   {
    "duration": 21,
    "start_time": "2022-01-07T11:03:38.362Z"
   },
   {
    "duration": 16,
    "start_time": "2022-01-07T11:03:38.581Z"
   },
   {
    "duration": 8,
    "start_time": "2022-01-07T11:03:41.243Z"
   },
   {
    "duration": 7,
    "start_time": "2022-01-07T11:03:41.736Z"
   },
   {
    "duration": 22,
    "start_time": "2022-01-07T11:03:42.543Z"
   },
   {
    "duration": 9,
    "start_time": "2022-01-07T11:03:43.124Z"
   },
   {
    "duration": 8,
    "start_time": "2022-01-07T11:03:44.184Z"
   },
   {
    "duration": 8,
    "start_time": "2022-01-07T11:03:45.204Z"
   },
   {
    "duration": 141,
    "start_time": "2022-01-07T11:03:46.160Z"
   },
   {
    "duration": 12,
    "start_time": "2022-01-07T11:03:47.212Z"
   },
   {
    "duration": 13,
    "start_time": "2022-01-07T11:03:48.273Z"
   },
   {
    "duration": 13,
    "start_time": "2022-01-07T11:03:48.929Z"
   },
   {
    "duration": 12,
    "start_time": "2022-01-07T11:03:49.771Z"
   },
   {
    "duration": 11,
    "start_time": "2022-01-07T11:03:50.664Z"
   },
   {
    "duration": 20,
    "start_time": "2022-01-07T11:03:52.179Z"
   },
   {
    "duration": 15,
    "start_time": "2022-01-07T11:03:56.124Z"
   },
   {
    "duration": 35,
    "start_time": "2022-01-07T11:05:05.259Z"
   },
   {
    "duration": 19,
    "start_time": "2022-01-07T11:07:15.720Z"
   },
   {
    "duration": 3,
    "start_time": "2022-01-07T11:07:44.308Z"
   },
   {
    "duration": 62,
    "start_time": "2022-01-07T11:07:44.663Z"
   },
   {
    "duration": 21,
    "start_time": "2022-01-07T11:07:45.487Z"
   },
   {
    "duration": 4,
    "start_time": "2022-01-07T11:08:00.481Z"
   },
   {
    "duration": 3,
    "start_time": "2022-01-07T11:08:05.265Z"
   },
   {
    "duration": 77,
    "start_time": "2022-01-07T11:08:05.271Z"
   },
   {
    "duration": 39,
    "start_time": "2022-01-07T11:08:05.352Z"
   },
   {
    "duration": 17,
    "start_time": "2022-01-07T11:08:05.395Z"
   },
   {
    "duration": 9,
    "start_time": "2022-01-07T11:08:05.414Z"
   },
   {
    "duration": 39,
    "start_time": "2022-01-07T11:08:05.425Z"
   },
   {
    "duration": 21,
    "start_time": "2022-01-07T11:08:05.468Z"
   },
   {
    "duration": 9,
    "start_time": "2022-01-07T11:08:05.491Z"
   },
   {
    "duration": 9,
    "start_time": "2022-01-07T11:08:05.502Z"
   },
   {
    "duration": 53,
    "start_time": "2022-01-07T11:08:05.514Z"
   },
   {
    "duration": 5,
    "start_time": "2022-01-07T11:08:05.570Z"
   },
   {
    "duration": 14,
    "start_time": "2022-01-07T11:08:05.578Z"
   },
   {
    "duration": 13,
    "start_time": "2022-01-07T11:08:05.595Z"
   },
   {
    "duration": 53,
    "start_time": "2022-01-07T11:08:05.611Z"
   },
   {
    "duration": 13,
    "start_time": "2022-01-07T11:08:05.667Z"
   },
   {
    "duration": 11,
    "start_time": "2022-01-07T11:08:05.682Z"
   },
   {
    "duration": 14,
    "start_time": "2022-01-07T11:08:21.452Z"
   },
   {
    "duration": 38,
    "start_time": "2022-01-07T11:08:22.988Z"
   },
   {
    "duration": 19,
    "start_time": "2022-01-07T11:08:24.172Z"
   },
   {
    "duration": 22,
    "start_time": "2022-01-07T11:08:33.209Z"
   },
   {
    "duration": 16,
    "start_time": "2022-01-07T11:08:52.948Z"
   },
   {
    "duration": 5,
    "start_time": "2022-01-07T11:36:25.282Z"
   },
   {
    "duration": 4,
    "start_time": "2022-01-07T11:36:41.718Z"
   },
   {
    "duration": 72,
    "start_time": "2022-01-07T11:36:41.724Z"
   },
   {
    "duration": 21,
    "start_time": "2022-01-07T11:36:41.799Z"
   },
   {
    "duration": 37,
    "start_time": "2022-01-07T11:36:41.823Z"
   },
   {
    "duration": 11,
    "start_time": "2022-01-07T11:36:41.863Z"
   },
   {
    "duration": 19,
    "start_time": "2022-01-07T11:36:41.876Z"
   },
   {
    "duration": 20,
    "start_time": "2022-01-07T11:36:41.897Z"
   },
   {
    "duration": 8,
    "start_time": "2022-01-07T11:36:41.921Z"
   },
   {
    "duration": 9,
    "start_time": "2022-01-07T11:36:41.961Z"
   },
   {
    "duration": 12,
    "start_time": "2022-01-07T11:36:41.973Z"
   },
   {
    "duration": 5,
    "start_time": "2022-01-07T11:36:44.375Z"
   },
   {
    "duration": 4,
    "start_time": "2022-01-07T11:38:48.710Z"
   },
   {
    "duration": 65,
    "start_time": "2022-01-07T11:38:48.716Z"
   },
   {
    "duration": 22,
    "start_time": "2022-01-07T11:38:48.784Z"
   },
   {
    "duration": 18,
    "start_time": "2022-01-07T11:38:48.809Z"
   },
   {
    "duration": 30,
    "start_time": "2022-01-07T11:38:48.829Z"
   },
   {
    "duration": 6,
    "start_time": "2022-01-07T11:38:48.862Z"
   },
   {
    "duration": 22,
    "start_time": "2022-01-07T11:38:48.871Z"
   },
   {
    "duration": 7,
    "start_time": "2022-01-07T11:38:48.896Z"
   },
   {
    "duration": 53,
    "start_time": "2022-01-07T11:38:48.905Z"
   },
   {
    "duration": 9,
    "start_time": "2022-01-07T11:38:48.961Z"
   },
   {
    "duration": 40,
    "start_time": "2022-01-07T11:38:51.412Z"
   },
   {
    "duration": 28,
    "start_time": "2022-01-07T11:39:47.981Z"
   },
   {
    "duration": 5,
    "start_time": "2022-01-07T11:39:54.753Z"
   },
   {
    "duration": 68,
    "start_time": "2022-01-07T11:39:54.761Z"
   },
   {
    "duration": 36,
    "start_time": "2022-01-07T11:39:54.832Z"
   },
   {
    "duration": 21,
    "start_time": "2022-01-07T11:39:54.872Z"
   },
   {
    "duration": 8,
    "start_time": "2022-01-07T11:39:54.895Z"
   },
   {
    "duration": 6,
    "start_time": "2022-01-07T11:39:54.906Z"
   },
   {
    "duration": 69,
    "start_time": "2022-01-07T11:39:54.915Z"
   },
   {
    "duration": 11,
    "start_time": "2022-01-07T11:39:54.988Z"
   },
   {
    "duration": 17,
    "start_time": "2022-01-07T11:39:55.002Z"
   },
   {
    "duration": 46,
    "start_time": "2022-01-07T11:39:55.021Z"
   },
   {
    "duration": 41,
    "start_time": "2022-01-07T11:39:56.908Z"
   },
   {
    "duration": 26,
    "start_time": "2022-01-07T11:40:33.641Z"
   },
   {
    "duration": 4,
    "start_time": "2022-01-07T11:40:40.337Z"
   },
   {
    "duration": 76,
    "start_time": "2022-01-07T11:40:40.344Z"
   },
   {
    "duration": 27,
    "start_time": "2022-01-07T11:40:40.423Z"
   },
   {
    "duration": 15,
    "start_time": "2022-01-07T11:40:40.459Z"
   },
   {
    "duration": 7,
    "start_time": "2022-01-07T11:40:40.476Z"
   },
   {
    "duration": 9,
    "start_time": "2022-01-07T11:40:40.485Z"
   },
   {
    "duration": 24,
    "start_time": "2022-01-07T11:40:40.497Z"
   },
   {
    "duration": 9,
    "start_time": "2022-01-07T11:40:40.560Z"
   },
   {
    "duration": 9,
    "start_time": "2022-01-07T11:40:40.571Z"
   },
   {
    "duration": 17,
    "start_time": "2022-01-07T11:40:40.583Z"
   },
   {
    "duration": 27,
    "start_time": "2022-01-07T11:40:42.372Z"
   },
   {
    "duration": 27,
    "start_time": "2022-01-07T11:40:47.126Z"
   },
   {
    "duration": 40,
    "start_time": "2022-01-07T11:40:58.532Z"
   },
   {
    "duration": 3,
    "start_time": "2022-01-07T11:41:05.110Z"
   },
   {
    "duration": 64,
    "start_time": "2022-01-07T11:41:05.116Z"
   },
   {
    "duration": 21,
    "start_time": "2022-01-07T11:41:05.183Z"
   },
   {
    "duration": 14,
    "start_time": "2022-01-07T11:41:05.207Z"
   },
   {
    "duration": 35,
    "start_time": "2022-01-07T11:41:05.224Z"
   },
   {
    "duration": 5,
    "start_time": "2022-01-07T11:41:05.261Z"
   },
   {
    "duration": 20,
    "start_time": "2022-01-07T11:41:05.269Z"
   },
   {
    "duration": 7,
    "start_time": "2022-01-07T11:41:05.292Z"
   },
   {
    "duration": 8,
    "start_time": "2022-01-07T11:41:05.302Z"
   },
   {
    "duration": 51,
    "start_time": "2022-01-07T11:41:05.313Z"
   },
   {
    "duration": 40,
    "start_time": "2022-01-07T11:41:07.102Z"
   },
   {
    "duration": 26,
    "start_time": "2022-01-07T11:41:14.529Z"
   },
   {
    "duration": 4,
    "start_time": "2022-01-07T11:41:19.395Z"
   },
   {
    "duration": 72,
    "start_time": "2022-01-07T11:41:19.401Z"
   },
   {
    "duration": 20,
    "start_time": "2022-01-07T11:41:19.476Z"
   },
   {
    "duration": 26,
    "start_time": "2022-01-07T11:41:19.499Z"
   },
   {
    "duration": 31,
    "start_time": "2022-01-07T11:41:19.528Z"
   },
   {
    "duration": 6,
    "start_time": "2022-01-07T11:41:19.562Z"
   },
   {
    "duration": 27,
    "start_time": "2022-01-07T11:41:19.573Z"
   },
   {
    "duration": 8,
    "start_time": "2022-01-07T11:41:19.602Z"
   },
   {
    "duration": 8,
    "start_time": "2022-01-07T11:41:19.614Z"
   },
   {
    "duration": 8,
    "start_time": "2022-01-07T11:41:19.660Z"
   },
   {
    "duration": 41,
    "start_time": "2022-01-07T11:41:22.035Z"
   },
   {
    "duration": 776,
    "start_time": "2022-01-07T11:43:50.190Z"
   },
   {
    "duration": 724,
    "start_time": "2022-01-07T11:44:05.722Z"
   },
   {
    "duration": 4,
    "start_time": "2022-01-07T11:48:36.098Z"
   },
   {
    "duration": 75,
    "start_time": "2022-01-07T11:48:36.105Z"
   },
   {
    "duration": 21,
    "start_time": "2022-01-07T11:48:36.184Z"
   },
   {
    "duration": 18,
    "start_time": "2022-01-07T11:48:36.208Z"
   },
   {
    "duration": 32,
    "start_time": "2022-01-07T11:48:36.228Z"
   },
   {
    "duration": 7,
    "start_time": "2022-01-07T11:48:36.263Z"
   },
   {
    "duration": 26,
    "start_time": "2022-01-07T11:48:36.272Z"
   },
   {
    "duration": 7,
    "start_time": "2022-01-07T11:48:36.301Z"
   },
   {
    "duration": 7,
    "start_time": "2022-01-07T11:48:36.310Z"
   },
   {
    "duration": 47,
    "start_time": "2022-01-07T11:48:36.319Z"
   },
   {
    "duration": 127,
    "start_time": "2022-01-07T11:48:38.368Z"
   },
   {
    "duration": 548,
    "start_time": "2022-01-07T11:48:46.871Z"
   },
   {
    "duration": 29,
    "start_time": "2022-01-07T11:49:07.761Z"
   },
   {
    "duration": 4,
    "start_time": "2022-01-07T11:50:11.706Z"
   },
   {
    "duration": 67,
    "start_time": "2022-01-07T11:50:11.712Z"
   },
   {
    "duration": 21,
    "start_time": "2022-01-07T11:50:11.782Z"
   },
   {
    "duration": 14,
    "start_time": "2022-01-07T11:50:11.806Z"
   },
   {
    "duration": 8,
    "start_time": "2022-01-07T11:50:11.822Z"
   },
   {
    "duration": 5,
    "start_time": "2022-01-07T11:50:11.859Z"
   },
   {
    "duration": 21,
    "start_time": "2022-01-07T11:50:11.866Z"
   },
   {
    "duration": 8,
    "start_time": "2022-01-07T11:50:11.890Z"
   },
   {
    "duration": 8,
    "start_time": "2022-01-07T11:50:11.900Z"
   },
   {
    "duration": 51,
    "start_time": "2022-01-07T11:50:11.910Z"
   },
   {
    "duration": 52,
    "start_time": "2022-01-07T11:50:15.158Z"
   },
   {
    "duration": 51,
    "start_time": "2022-01-07T11:55:26.633Z"
   },
   {
    "duration": 51,
    "start_time": "2022-01-07T11:55:35.934Z"
   },
   {
    "duration": 4,
    "start_time": "2022-01-07T12:33:19.916Z"
   },
   {
    "duration": 63,
    "start_time": "2022-01-07T12:33:19.922Z"
   },
   {
    "duration": 20,
    "start_time": "2022-01-07T12:33:19.988Z"
   },
   {
    "duration": 17,
    "start_time": "2022-01-07T12:33:20.011Z"
   },
   {
    "duration": 32,
    "start_time": "2022-01-07T12:33:20.030Z"
   },
   {
    "duration": 7,
    "start_time": "2022-01-07T12:33:20.064Z"
   },
   {
    "duration": 24,
    "start_time": "2022-01-07T12:33:20.074Z"
   },
   {
    "duration": 8,
    "start_time": "2022-01-07T12:33:20.103Z"
   },
   {
    "duration": 49,
    "start_time": "2022-01-07T12:33:20.114Z"
   },
   {
    "duration": 14,
    "start_time": "2022-01-07T12:33:20.166Z"
   },
   {
    "duration": 49,
    "start_time": "2022-01-07T12:33:21.794Z"
   },
   {
    "duration": 33,
    "start_time": "2022-01-07T12:33:34.668Z"
   },
   {
    "duration": 15,
    "start_time": "2022-01-07T12:33:42.960Z"
   },
   {
    "duration": 3,
    "start_time": "2022-01-07T12:34:12.517Z"
   },
   {
    "duration": 64,
    "start_time": "2022-01-07T12:34:12.523Z"
   },
   {
    "duration": 20,
    "start_time": "2022-01-07T12:34:12.590Z"
   },
   {
    "duration": 15,
    "start_time": "2022-01-07T12:34:12.613Z"
   },
   {
    "duration": 29,
    "start_time": "2022-01-07T12:34:12.630Z"
   },
   {
    "duration": 6,
    "start_time": "2022-01-07T12:34:12.662Z"
   },
   {
    "duration": 24,
    "start_time": "2022-01-07T12:34:12.672Z"
   },
   {
    "duration": 6,
    "start_time": "2022-01-07T12:34:12.699Z"
   },
   {
    "duration": 9,
    "start_time": "2022-01-07T12:34:12.707Z"
   },
   {
    "duration": 9,
    "start_time": "2022-01-07T12:34:12.760Z"
   },
   {
    "duration": 50,
    "start_time": "2022-01-07T12:34:12.772Z"
   },
   {
    "duration": 57,
    "start_time": "2022-01-07T12:34:12.824Z"
   },
   {
    "duration": 36,
    "start_time": "2022-01-07T12:34:14.136Z"
   },
   {
    "duration": 15,
    "start_time": "2022-01-07T12:34:15.148Z"
   },
   {
    "duration": 4,
    "start_time": "2022-01-07T13:25:27.824Z"
   },
   {
    "duration": 77,
    "start_time": "2022-01-07T13:25:27.830Z"
   },
   {
    "duration": 21,
    "start_time": "2022-01-07T13:25:27.911Z"
   },
   {
    "duration": 26,
    "start_time": "2022-01-07T13:25:27.935Z"
   },
   {
    "duration": 6,
    "start_time": "2022-01-07T13:25:27.964Z"
   },
   {
    "duration": 5,
    "start_time": "2022-01-07T13:25:27.973Z"
   },
   {
    "duration": 143,
    "start_time": "2022-01-07T13:25:27.980Z"
   },
   {
    "duration": -376,
    "start_time": "2022-01-07T13:25:28.501Z"
   },
   {
    "duration": -378,
    "start_time": "2022-01-07T13:25:28.504Z"
   },
   {
    "duration": -390,
    "start_time": "2022-01-07T13:25:28.518Z"
   },
   {
    "duration": 53,
    "start_time": "2022-01-07T13:25:30.859Z"
   },
   {
    "duration": 34,
    "start_time": "2022-01-07T13:25:33.906Z"
   },
   {
    "duration": 16,
    "start_time": "2022-01-07T13:27:18.318Z"
   },
   {
    "duration": 4,
    "start_time": "2022-01-07T13:48:16.737Z"
   },
   {
    "duration": 66,
    "start_time": "2022-01-07T13:48:17.128Z"
   },
   {
    "duration": 22,
    "start_time": "2022-01-07T13:48:17.480Z"
   },
   {
    "duration": 15,
    "start_time": "2022-01-07T13:48:18.776Z"
   },
   {
    "duration": 7,
    "start_time": "2022-01-07T13:48:30.198Z"
   },
   {
    "duration": 6,
    "start_time": "2022-01-07T13:48:30.692Z"
   },
   {
    "duration": 176,
    "start_time": "2022-01-07T13:48:36.115Z"
   },
   {
    "duration": 21,
    "start_time": "2022-01-07T13:48:42.702Z"
   },
   {
    "duration": 8,
    "start_time": "2022-01-07T13:49:35.200Z"
   },
   {
    "duration": 9,
    "start_time": "2022-01-07T13:49:36.148Z"
   },
   {
    "duration": 9,
    "start_time": "2022-01-07T13:49:38.150Z"
   },
   {
    "duration": 7,
    "start_time": "2022-01-07T13:55:02.184Z"
   },
   {
    "duration": 434,
    "start_time": "2022-01-07T13:55:06.784Z"
   },
   {
    "duration": 15,
    "start_time": "2022-01-07T13:55:07.332Z"
   },
   {
    "duration": 4,
    "start_time": "2022-01-07T13:55:21.120Z"
   },
   {
    "duration": 68,
    "start_time": "2022-01-07T13:55:21.127Z"
   },
   {
    "duration": 21,
    "start_time": "2022-01-07T13:55:21.198Z"
   },
   {
    "duration": 15,
    "start_time": "2022-01-07T13:55:21.221Z"
   },
   {
    "duration": 10,
    "start_time": "2022-01-07T13:55:21.258Z"
   },
   {
    "duration": 12,
    "start_time": "2022-01-07T13:55:21.270Z"
   },
   {
    "duration": 23,
    "start_time": "2022-01-07T13:55:21.285Z"
   },
   {
    "duration": 6,
    "start_time": "2022-01-07T13:55:21.310Z"
   },
   {
    "duration": 43,
    "start_time": "2022-01-07T13:55:21.319Z"
   },
   {
    "duration": 14,
    "start_time": "2022-01-07T13:55:21.365Z"
   },
   {
    "duration": 51,
    "start_time": "2022-01-07T13:55:21.381Z"
   },
   {
    "duration": 72,
    "start_time": "2022-01-07T13:55:24.472Z"
   },
   {
    "duration": 8,
    "start_time": "2022-01-07T13:55:30.465Z"
   },
   {
    "duration": 15,
    "start_time": "2022-01-07T13:55:31.498Z"
   },
   {
    "duration": 4,
    "start_time": "2022-01-07T13:55:42.576Z"
   },
   {
    "duration": 687,
    "start_time": "2022-01-07T13:55:42.583Z"
   },
   {
    "duration": 20,
    "start_time": "2022-01-07T13:55:43.273Z"
   },
   {
    "duration": 15,
    "start_time": "2022-01-07T13:55:43.296Z"
   },
   {
    "duration": 8,
    "start_time": "2022-01-07T13:55:43.314Z"
   },
   {
    "duration": 37,
    "start_time": "2022-01-07T13:55:43.324Z"
   },
   {
    "duration": 21,
    "start_time": "2022-01-07T13:55:43.364Z"
   },
   {
    "duration": 17,
    "start_time": "2022-01-07T13:55:43.388Z"
   },
   {
    "duration": 11,
    "start_time": "2022-01-07T13:55:43.407Z"
   },
   {
    "duration": 38,
    "start_time": "2022-01-07T13:55:43.421Z"
   },
   {
    "duration": 50,
    "start_time": "2022-01-07T13:55:43.461Z"
   },
   {
    "duration": 52,
    "start_time": "2022-01-07T13:55:43.514Z"
   },
   {
    "duration": 7,
    "start_time": "2022-01-07T13:55:43.569Z"
   },
   {
    "duration": 451,
    "start_time": "2022-01-07T13:55:45.576Z"
   },
   {
    "duration": 18,
    "start_time": "2022-01-07T13:55:48.720Z"
   },
   {
    "duration": 467,
    "start_time": "2022-01-07T13:55:53.254Z"
   },
   {
    "duration": 3,
    "start_time": "2022-01-07T13:56:13.179Z"
   },
   {
    "duration": 62,
    "start_time": "2022-01-07T13:56:13.186Z"
   },
   {
    "duration": 21,
    "start_time": "2022-01-07T13:56:13.251Z"
   },
   {
    "duration": 14,
    "start_time": "2022-01-07T13:56:13.275Z"
   },
   {
    "duration": 8,
    "start_time": "2022-01-07T13:56:13.291Z"
   },
   {
    "duration": 6,
    "start_time": "2022-01-07T13:56:13.301Z"
   },
   {
    "duration": 60,
    "start_time": "2022-01-07T13:56:13.309Z"
   },
   {
    "duration": 9,
    "start_time": "2022-01-07T13:56:13.373Z"
   },
   {
    "duration": 7,
    "start_time": "2022-01-07T13:56:13.384Z"
   },
   {
    "duration": 9,
    "start_time": "2022-01-07T13:56:13.393Z"
   },
   {
    "duration": 95,
    "start_time": "2022-01-07T13:56:13.404Z"
   },
   {
    "duration": 41,
    "start_time": "2022-01-07T13:56:16.254Z"
   },
   {
    "duration": 7,
    "start_time": "2022-01-07T13:56:18.377Z"
   },
   {
    "duration": 14,
    "start_time": "2022-01-07T13:56:19.719Z"
   },
   {
    "duration": 4,
    "start_time": "2022-01-07T14:04:47.912Z"
   },
   {
    "duration": 74,
    "start_time": "2022-01-07T14:04:47.918Z"
   },
   {
    "duration": 23,
    "start_time": "2022-01-07T14:04:47.996Z"
   },
   {
    "duration": 17,
    "start_time": "2022-01-07T14:04:48.021Z"
   },
   {
    "duration": 24,
    "start_time": "2022-01-07T14:04:48.040Z"
   },
   {
    "duration": 15,
    "start_time": "2022-01-07T14:04:48.067Z"
   },
   {
    "duration": 22,
    "start_time": "2022-01-07T14:04:48.084Z"
   },
   {
    "duration": 8,
    "start_time": "2022-01-07T14:04:48.108Z"
   },
   {
    "duration": 40,
    "start_time": "2022-01-07T14:04:48.119Z"
   },
   {
    "duration": 10,
    "start_time": "2022-01-07T14:04:48.162Z"
   },
   {
    "duration": 50,
    "start_time": "2022-01-07T14:04:48.174Z"
   },
   {
    "duration": 65,
    "start_time": "2022-01-07T14:04:48.227Z"
   },
   {
    "duration": 7,
    "start_time": "2022-01-07T14:04:48.294Z"
   },
   {
    "duration": 521,
    "start_time": "2022-01-07T14:04:49.640Z"
   },
   {
    "duration": 15,
    "start_time": "2022-01-07T14:04:52.540Z"
   },
   {
    "duration": 4,
    "start_time": "2022-01-07T14:04:59.100Z"
   },
   {
    "duration": 76,
    "start_time": "2022-01-07T14:04:59.108Z"
   },
   {
    "duration": 23,
    "start_time": "2022-01-07T14:04:59.187Z"
   },
   {
    "duration": 15,
    "start_time": "2022-01-07T14:04:59.214Z"
   },
   {
    "duration": 34,
    "start_time": "2022-01-07T14:04:59.232Z"
   },
   {
    "duration": 7,
    "start_time": "2022-01-07T14:04:59.269Z"
   },
   {
    "duration": 26,
    "start_time": "2022-01-07T14:04:59.278Z"
   },
   {
    "duration": 7,
    "start_time": "2022-01-07T14:04:59.307Z"
   },
   {
    "duration": 47,
    "start_time": "2022-01-07T14:04:59.317Z"
   },
   {
    "duration": 11,
    "start_time": "2022-01-07T14:04:59.367Z"
   },
   {
    "duration": 50,
    "start_time": "2022-01-07T14:04:59.381Z"
   },
   {
    "duration": 62,
    "start_time": "2022-01-07T14:04:59.433Z"
   },
   {
    "duration": 7,
    "start_time": "2022-01-07T14:05:01.787Z"
   },
   {
    "duration": 15,
    "start_time": "2022-01-07T14:05:02.870Z"
   },
   {
    "duration": 4,
    "start_time": "2022-01-07T14:06:26.779Z"
   },
   {
    "duration": 66,
    "start_time": "2022-01-07T14:06:26.786Z"
   },
   {
    "duration": 23,
    "start_time": "2022-01-07T14:06:26.855Z"
   },
   {
    "duration": 16,
    "start_time": "2022-01-07T14:06:26.880Z"
   },
   {
    "duration": 6,
    "start_time": "2022-01-07T14:06:26.898Z"
   },
   {
    "duration": 5,
    "start_time": "2022-01-07T14:06:26.906Z"
   },
   {
    "duration": 62,
    "start_time": "2022-01-07T14:06:26.913Z"
   },
   {
    "duration": 7,
    "start_time": "2022-01-07T14:06:26.979Z"
   },
   {
    "duration": 8,
    "start_time": "2022-01-07T14:06:26.989Z"
   },
   {
    "duration": 9,
    "start_time": "2022-01-07T14:06:26.999Z"
   },
   {
    "duration": 104,
    "start_time": "2022-01-07T14:06:27.011Z"
   },
   {
    "duration": 46,
    "start_time": "2022-01-07T14:06:27.118Z"
   },
   {
    "duration": 7,
    "start_time": "2022-01-07T14:06:27.166Z"
   },
   {
    "duration": 725,
    "start_time": "2022-01-07T14:06:34.116Z"
   },
   {
    "duration": 5,
    "start_time": "2022-01-07T14:06:41.155Z"
   },
   {
    "duration": 78,
    "start_time": "2022-01-07T14:06:41.162Z"
   },
   {
    "duration": 23,
    "start_time": "2022-01-07T14:06:41.243Z"
   },
   {
    "duration": 28,
    "start_time": "2022-01-07T14:06:41.269Z"
   },
   {
    "duration": 9,
    "start_time": "2022-01-07T14:06:41.299Z"
   },
   {
    "duration": 5,
    "start_time": "2022-01-07T14:06:41.311Z"
   },
   {
    "duration": 57,
    "start_time": "2022-01-07T14:06:41.318Z"
   },
   {
    "duration": 11,
    "start_time": "2022-01-07T14:06:41.379Z"
   },
   {
    "duration": 12,
    "start_time": "2022-01-07T14:06:41.392Z"
   },
   {
    "duration": 8,
    "start_time": "2022-01-07T14:06:41.407Z"
   },
   {
    "duration": 88,
    "start_time": "2022-01-07T14:06:41.417Z"
   },
   {
    "duration": 43,
    "start_time": "2022-01-07T14:06:44.445Z"
   },
   {
    "duration": 8,
    "start_time": "2022-01-07T14:06:46.807Z"
   },
   {
    "duration": 14,
    "start_time": "2022-01-07T14:06:47.827Z"
   },
   {
    "duration": 3,
    "start_time": "2022-01-07T14:14:54.374Z"
   },
   {
    "duration": 66,
    "start_time": "2022-01-07T14:14:54.380Z"
   },
   {
    "duration": 22,
    "start_time": "2022-01-07T14:14:54.450Z"
   },
   {
    "duration": 18,
    "start_time": "2022-01-07T14:14:54.475Z"
   },
   {
    "duration": 9,
    "start_time": "2022-01-07T14:14:54.496Z"
   },
   {
    "duration": 8,
    "start_time": "2022-01-07T14:14:54.508Z"
   },
   {
    "duration": 59,
    "start_time": "2022-01-07T14:14:54.518Z"
   },
   {
    "duration": 7,
    "start_time": "2022-01-07T14:14:54.580Z"
   },
   {
    "duration": 8,
    "start_time": "2022-01-07T14:14:54.590Z"
   },
   {
    "duration": 8,
    "start_time": "2022-01-07T14:14:54.601Z"
   },
   {
    "duration": 93,
    "start_time": "2022-01-07T14:14:54.611Z"
   },
   {
    "duration": 54,
    "start_time": "2022-01-07T14:14:54.707Z"
   },
   {
    "duration": 7,
    "start_time": "2022-01-07T14:14:54.763Z"
   },
   {
    "duration": 16,
    "start_time": "2022-01-07T14:14:54.772Z"
   },
   {
    "duration": 4,
    "start_time": "2022-01-07T14:15:07.810Z"
   },
   {
    "duration": 64,
    "start_time": "2022-01-07T14:15:07.817Z"
   },
   {
    "duration": 22,
    "start_time": "2022-01-07T14:15:07.884Z"
   },
   {
    "duration": 15,
    "start_time": "2022-01-07T14:15:07.908Z"
   },
   {
    "duration": 35,
    "start_time": "2022-01-07T14:15:07.926Z"
   },
   {
    "duration": 5,
    "start_time": "2022-01-07T14:15:07.963Z"
   },
   {
    "duration": 23,
    "start_time": "2022-01-07T14:15:07.970Z"
   },
   {
    "duration": 9,
    "start_time": "2022-01-07T14:15:07.997Z"
   },
   {
    "duration": 51,
    "start_time": "2022-01-07T14:15:08.008Z"
   },
   {
    "duration": 9,
    "start_time": "2022-01-07T14:15:08.062Z"
   },
   {
    "duration": 50,
    "start_time": "2022-01-07T14:15:08.073Z"
   },
   {
    "duration": 57,
    "start_time": "2022-01-07T14:15:08.125Z"
   },
   {
    "duration": 7,
    "start_time": "2022-01-07T14:15:08.184Z"
   },
   {
    "duration": 19,
    "start_time": "2022-01-07T14:15:08.193Z"
   },
   {
    "duration": 3,
    "start_time": "2022-01-07T14:15:52.733Z"
   },
   {
    "duration": 66,
    "start_time": "2022-01-07T14:15:52.739Z"
   },
   {
    "duration": 21,
    "start_time": "2022-01-07T14:15:52.808Z"
   },
   {
    "duration": 32,
    "start_time": "2022-01-07T14:15:52.832Z"
   },
   {
    "duration": 7,
    "start_time": "2022-01-07T14:15:52.866Z"
   },
   {
    "duration": 5,
    "start_time": "2022-01-07T14:15:52.876Z"
   },
   {
    "duration": 21,
    "start_time": "2022-01-07T14:15:52.883Z"
   },
   {
    "duration": 8,
    "start_time": "2022-01-07T14:15:52.907Z"
   },
   {
    "duration": 48,
    "start_time": "2022-01-07T14:15:52.917Z"
   },
   {
    "duration": 14,
    "start_time": "2022-01-07T14:15:52.968Z"
   },
   {
    "duration": 49,
    "start_time": "2022-01-07T14:15:52.984Z"
   },
   {
    "duration": 32,
    "start_time": "2022-01-07T14:15:53.059Z"
   },
   {
    "duration": 6,
    "start_time": "2022-01-07T14:15:53.093Z"
   },
   {
    "duration": 16,
    "start_time": "2022-01-07T14:15:53.101Z"
   },
   {
    "duration": 24,
    "start_time": "2022-01-07T14:22:30.650Z"
   },
   {
    "duration": 3,
    "start_time": "2022-01-07T14:22:44.977Z"
   },
   {
    "duration": 76,
    "start_time": "2022-01-07T14:22:45.477Z"
   },
   {
    "duration": 28,
    "start_time": "2022-01-07T14:22:46.020Z"
   },
   {
    "duration": 15,
    "start_time": "2022-01-07T14:22:51.070Z"
   },
   {
    "duration": 7,
    "start_time": "2022-01-07T14:23:57.851Z"
   },
   {
    "duration": 6,
    "start_time": "2022-01-07T14:28:12.658Z"
   },
   {
    "duration": 7,
    "start_time": "2022-01-07T14:28:14.275Z"
   },
   {
    "duration": 7,
    "start_time": "2022-01-07T14:28:14.909Z"
   },
   {
    "duration": 10,
    "start_time": "2022-01-07T14:28:15.505Z"
   },
   {
    "duration": 7,
    "start_time": "2022-01-07T14:29:20.499Z"
   },
   {
    "duration": 4,
    "start_time": "2022-01-07T14:31:24.657Z"
   },
   {
    "duration": 12,
    "start_time": "2022-01-07T14:32:21.755Z"
   },
   {
    "duration": 12,
    "start_time": "2022-01-07T14:32:25.779Z"
   },
   {
    "duration": 15,
    "start_time": "2022-01-07T14:32:52.554Z"
   },
   {
    "duration": 14,
    "start_time": "2022-01-07T14:33:04.434Z"
   },
   {
    "duration": 327,
    "start_time": "2022-01-09T12:54:06.018Z"
   },
   {
    "duration": 726,
    "start_time": "2022-01-09T12:54:20.150Z"
   },
   {
    "duration": 361,
    "start_time": "2022-01-09T12:54:20.878Z"
   },
   {
    "duration": 19,
    "start_time": "2022-01-09T12:54:21.241Z"
   },
   {
    "duration": 14,
    "start_time": "2022-01-09T12:54:21.262Z"
   },
   {
    "duration": 7,
    "start_time": "2022-01-09T12:54:21.278Z"
   },
   {
    "duration": 3,
    "start_time": "2022-01-09T12:54:21.287Z"
   },
   {
    "duration": 13,
    "start_time": "2022-01-09T12:54:21.292Z"
   },
   {
    "duration": 13,
    "start_time": "2022-01-09T12:54:21.307Z"
   },
   {
    "duration": 6,
    "start_time": "2022-01-09T12:54:21.322Z"
   },
   {
    "duration": 5,
    "start_time": "2022-01-09T12:54:21.361Z"
   },
   {
    "duration": 8,
    "start_time": "2022-01-09T12:54:21.367Z"
   },
   {
    "duration": 39,
    "start_time": "2022-01-09T12:54:21.376Z"
   },
   {
    "duration": 46,
    "start_time": "2022-01-09T12:54:21.416Z"
   },
   {
    "duration": 5,
    "start_time": "2022-01-09T12:54:21.464Z"
   },
   {
    "duration": 13,
    "start_time": "2022-01-09T12:54:21.471Z"
   },
   {
    "duration": 2,
    "start_time": "2022-01-09T12:54:30.038Z"
   },
   {
    "duration": 53,
    "start_time": "2022-01-09T12:54:30.498Z"
   },
   {
    "duration": 12,
    "start_time": "2022-01-09T12:54:31.850Z"
   },
   {
    "duration": 11,
    "start_time": "2022-01-09T12:54:34.629Z"
   },
   {
    "duration": 5,
    "start_time": "2022-01-09T12:54:40.185Z"
   },
   {
    "duration": 5,
    "start_time": "2022-01-09T12:54:41.058Z"
   },
   {
    "duration": 11,
    "start_time": "2022-01-09T12:54:43.606Z"
   },
   {
    "duration": 13,
    "start_time": "2022-01-09T12:54:49.550Z"
   },
   {
    "duration": 6,
    "start_time": "2022-01-09T12:54:50.817Z"
   },
   {
    "duration": 5,
    "start_time": "2022-01-09T12:54:51.519Z"
   },
   {
    "duration": 6,
    "start_time": "2022-01-09T12:54:54.639Z"
   },
   {
    "duration": 34,
    "start_time": "2022-01-09T12:54:56.878Z"
   },
   {
    "duration": 26,
    "start_time": "2022-01-09T12:55:04.829Z"
   },
   {
    "duration": 7,
    "start_time": "2022-01-09T12:55:08.358Z"
   },
   {
    "duration": 12,
    "start_time": "2022-01-09T12:55:09.317Z"
   },
   {
    "duration": 4,
    "start_time": "2022-01-09T12:55:13.618Z"
   },
   {
    "duration": 10,
    "start_time": "2022-01-09T12:55:45.670Z"
   },
   {
    "duration": 12,
    "start_time": "2022-01-09T12:59:55.858Z"
   },
   {
    "duration": 15,
    "start_time": "2022-01-09T13:14:17.994Z"
   },
   {
    "duration": 17,
    "start_time": "2022-01-09T13:15:01.123Z"
   },
   {
    "duration": 15,
    "start_time": "2022-01-09T13:15:12.494Z"
   },
   {
    "duration": 10,
    "start_time": "2022-01-09T14:00:43.839Z"
   },
   {
    "duration": 3,
    "start_time": "2022-01-09T14:01:56.386Z"
   },
   {
    "duration": 48,
    "start_time": "2022-01-09T14:01:56.405Z"
   },
   {
    "duration": 12,
    "start_time": "2022-01-09T14:01:56.455Z"
   },
   {
    "duration": 11,
    "start_time": "2022-01-09T14:01:56.470Z"
   },
   {
    "duration": 4,
    "start_time": "2022-01-09T14:01:56.483Z"
   },
   {
    "duration": 4,
    "start_time": "2022-01-09T14:01:56.489Z"
   },
   {
    "duration": 13,
    "start_time": "2022-01-09T14:01:56.495Z"
   },
   {
    "duration": 5,
    "start_time": "2022-01-09T14:01:56.509Z"
   },
   {
    "duration": 5,
    "start_time": "2022-01-09T14:01:56.515Z"
   },
   {
    "duration": 39,
    "start_time": "2022-01-09T14:01:56.523Z"
   },
   {
    "duration": 33,
    "start_time": "2022-01-09T14:01:56.564Z"
   },
   {
    "duration": 21,
    "start_time": "2022-01-09T14:01:56.599Z"
   },
   {
    "duration": 4,
    "start_time": "2022-01-09T14:01:56.622Z"
   },
   {
    "duration": 42,
    "start_time": "2022-01-09T14:01:56.628Z"
   },
   {
    "duration": 4,
    "start_time": "2022-01-09T14:01:56.672Z"
   },
   {
    "duration": 14,
    "start_time": "2022-01-09T14:01:56.678Z"
   },
   {
    "duration": 15,
    "start_time": "2022-01-09T14:01:56.693Z"
   },
   {
    "duration": 13,
    "start_time": "2022-01-09T14:01:56.710Z"
   },
   {
    "duration": 11,
    "start_time": "2022-01-09T14:02:00.299Z"
   },
   {
    "duration": 14,
    "start_time": "2022-01-09T14:02:03.870Z"
   },
   {
    "duration": 18,
    "start_time": "2022-01-09T14:02:07.760Z"
   },
   {
    "duration": 16,
    "start_time": "2022-01-09T14:02:08.472Z"
   },
   {
    "duration": 22,
    "start_time": "2022-01-09T14:08:04.731Z"
   },
   {
    "duration": 25,
    "start_time": "2022-01-09T14:11:51.040Z"
   },
   {
    "duration": 20,
    "start_time": "2022-01-09T14:11:55.431Z"
   },
   {
    "duration": 22,
    "start_time": "2022-01-09T14:11:57.441Z"
   },
   {
    "duration": 16,
    "start_time": "2022-01-09T14:11:57.840Z"
   },
   {
    "duration": 3,
    "start_time": "2022-01-09T14:12:03.751Z"
   },
   {
    "duration": 49,
    "start_time": "2022-01-09T14:12:03.761Z"
   },
   {
    "duration": 12,
    "start_time": "2022-01-09T14:12:03.811Z"
   },
   {
    "duration": 12,
    "start_time": "2022-01-09T14:12:03.825Z"
   },
   {
    "duration": 5,
    "start_time": "2022-01-09T14:12:03.839Z"
   },
   {
    "duration": 4,
    "start_time": "2022-01-09T14:12:03.861Z"
   },
   {
    "duration": 14,
    "start_time": "2022-01-09T14:12:03.867Z"
   },
   {
    "duration": 6,
    "start_time": "2022-01-09T14:12:03.883Z"
   },
   {
    "duration": 5,
    "start_time": "2022-01-09T14:12:03.891Z"
   },
   {
    "duration": 7,
    "start_time": "2022-01-09T14:12:03.899Z"
   },
   {
    "duration": 75,
    "start_time": "2022-01-09T14:12:03.908Z"
   },
   {
    "duration": 21,
    "start_time": "2022-01-09T14:12:03.984Z"
   },
   {
    "duration": 5,
    "start_time": "2022-01-09T14:12:04.006Z"
   },
   {
    "duration": 15,
    "start_time": "2022-01-09T14:12:04.012Z"
   },
   {
    "duration": 5,
    "start_time": "2022-01-09T14:12:04.028Z"
   },
   {
    "duration": 31,
    "start_time": "2022-01-09T14:12:04.035Z"
   },
   {
    "duration": 13,
    "start_time": "2022-01-09T14:12:04.068Z"
   },
   {
    "duration": 25,
    "start_time": "2022-01-09T14:12:06.411Z"
   },
   {
    "duration": 15,
    "start_time": "2022-01-09T14:12:11.239Z"
   },
   {
    "duration": 16,
    "start_time": "2022-01-09T14:12:12.400Z"
   },
   {
    "duration": 15,
    "start_time": "2022-01-09T14:12:12.793Z"
   },
   {
    "duration": 21,
    "start_time": "2022-01-09T14:29:45.414Z"
   },
   {
    "duration": 9,
    "start_time": "2022-01-09T14:30:21.093Z"
   },
   {
    "duration": 9,
    "start_time": "2022-01-09T14:30:46.945Z"
   },
   {
    "duration": 18,
    "start_time": "2022-01-09T14:31:00.183Z"
   },
   {
    "duration": 18,
    "start_time": "2022-01-09T14:31:03.719Z"
   },
   {
    "duration": 17,
    "start_time": "2022-01-09T14:31:04.319Z"
   },
   {
    "duration": 3,
    "start_time": "2022-01-09T14:31:16.223Z"
   },
   {
    "duration": 50,
    "start_time": "2022-01-09T14:31:16.260Z"
   },
   {
    "duration": 13,
    "start_time": "2022-01-09T14:31:16.312Z"
   },
   {
    "duration": 34,
    "start_time": "2022-01-09T14:31:16.327Z"
   },
   {
    "duration": 35,
    "start_time": "2022-01-09T14:31:16.363Z"
   },
   {
    "duration": 18,
    "start_time": "2022-01-09T14:31:16.399Z"
   },
   {
    "duration": 32,
    "start_time": "2022-01-09T14:31:16.418Z"
   },
   {
    "duration": 12,
    "start_time": "2022-01-09T14:31:16.452Z"
   },
   {
    "duration": 34,
    "start_time": "2022-01-09T14:31:16.465Z"
   },
   {
    "duration": 14,
    "start_time": "2022-01-09T14:31:16.502Z"
   },
   {
    "duration": 48,
    "start_time": "2022-01-09T14:31:16.518Z"
   },
   {
    "duration": 21,
    "start_time": "2022-01-09T14:31:16.568Z"
   },
   {
    "duration": 4,
    "start_time": "2022-01-09T14:31:16.591Z"
   },
   {
    "duration": 31,
    "start_time": "2022-01-09T14:31:16.597Z"
   },
   {
    "duration": 28,
    "start_time": "2022-01-09T14:31:16.630Z"
   },
   {
    "duration": 21,
    "start_time": "2022-01-09T14:31:16.659Z"
   },
   {
    "duration": 20,
    "start_time": "2022-01-09T14:31:16.682Z"
   },
   {
    "duration": 18,
    "start_time": "2022-01-09T14:31:16.704Z"
   },
   {
    "duration": 30,
    "start_time": "2022-01-09T14:31:16.723Z"
   },
   {
    "duration": 36,
    "start_time": "2022-01-09T14:31:16.755Z"
   },
   {
    "duration": 9,
    "start_time": "2022-01-09T14:31:18.225Z"
   },
   {
    "duration": 8,
    "start_time": "2022-01-09T14:31:18.834Z"
   },
   {
    "duration": 18,
    "start_time": "2022-01-09T14:31:19.418Z"
   },
   {
    "duration": 2,
    "start_time": "2022-01-09T14:47:07.805Z"
   },
   {
    "duration": 51,
    "start_time": "2022-01-09T14:47:07.810Z"
   },
   {
    "duration": 13,
    "start_time": "2022-01-09T14:47:07.864Z"
   },
   {
    "duration": 15,
    "start_time": "2022-01-09T14:47:07.880Z"
   },
   {
    "duration": 6,
    "start_time": "2022-01-09T14:47:07.897Z"
   },
   {
    "duration": 3,
    "start_time": "2022-01-09T14:47:07.905Z"
   },
   {
    "duration": 16,
    "start_time": "2022-01-09T14:47:07.910Z"
   },
   {
    "duration": 34,
    "start_time": "2022-01-09T14:47:07.927Z"
   },
   {
    "duration": 6,
    "start_time": "2022-01-09T14:47:07.964Z"
   },
   {
    "duration": 8,
    "start_time": "2022-01-09T14:47:07.971Z"
   },
   {
    "duration": 37,
    "start_time": "2022-01-09T14:47:07.981Z"
   },
   {
    "duration": 41,
    "start_time": "2022-01-09T14:47:08.020Z"
   },
   {
    "duration": 5,
    "start_time": "2022-01-09T14:47:08.063Z"
   },
   {
    "duration": 14,
    "start_time": "2022-01-09T14:47:08.070Z"
   },
   {
    "duration": 3,
    "start_time": "2022-01-09T14:47:08.086Z"
   },
   {
    "duration": 13,
    "start_time": "2022-01-09T14:47:08.091Z"
   },
   {
    "duration": 11,
    "start_time": "2022-01-09T14:47:08.105Z"
   },
   {
    "duration": 42,
    "start_time": "2022-01-09T14:47:08.118Z"
   },
   {
    "duration": 20,
    "start_time": "2022-01-09T14:47:08.162Z"
   },
   {
    "duration": 8,
    "start_time": "2022-01-09T14:47:08.183Z"
   },
   {
    "duration": 9,
    "start_time": "2022-01-09T14:47:08.192Z"
   },
   {
    "duration": 19,
    "start_time": "2022-01-09T14:47:08.202Z"
   },
   {
    "duration": 42,
    "start_time": "2022-01-09T14:47:08.222Z"
   },
   {
    "duration": 19,
    "start_time": "2022-01-09T14:47:09.964Z"
   },
   {
    "duration": 16,
    "start_time": "2022-01-09T14:47:10.624Z"
   },
   {
    "duration": 3,
    "start_time": "2022-01-09T14:47:45.516Z"
   },
   {
    "duration": 62,
    "start_time": "2022-01-09T14:47:45.533Z"
   },
   {
    "duration": 13,
    "start_time": "2022-01-09T14:47:45.598Z"
   },
   {
    "duration": 19,
    "start_time": "2022-01-09T14:47:45.614Z"
   },
   {
    "duration": 7,
    "start_time": "2022-01-09T14:47:45.635Z"
   },
   {
    "duration": 17,
    "start_time": "2022-01-09T14:47:45.643Z"
   },
   {
    "duration": 12,
    "start_time": "2022-01-09T14:47:45.662Z"
   },
   {
    "duration": 8,
    "start_time": "2022-01-09T14:47:45.676Z"
   },
   {
    "duration": 7,
    "start_time": "2022-01-09T14:47:45.686Z"
   },
   {
    "duration": 7,
    "start_time": "2022-01-09T14:47:45.695Z"
   },
   {
    "duration": 61,
    "start_time": "2022-01-09T14:47:45.704Z"
   },
   {
    "duration": 20,
    "start_time": "2022-01-09T14:47:45.767Z"
   },
   {
    "duration": 13,
    "start_time": "2022-01-09T14:47:49.276Z"
   },
   {
    "duration": 5,
    "start_time": "2022-01-09T14:47:51.884Z"
   },
   {
    "duration": 12,
    "start_time": "2022-01-09T14:47:52.364Z"
   },
   {
    "duration": 12,
    "start_time": "2022-01-09T14:47:53.084Z"
   },
   {
    "duration": 18,
    "start_time": "2022-01-09T14:47:58.265Z"
   },
   {
    "duration": 23,
    "start_time": "2022-01-09T14:48:00.445Z"
   },
   {
    "duration": 9,
    "start_time": "2022-01-09T14:48:01.585Z"
   },
   {
    "duration": 10,
    "start_time": "2022-01-09T14:48:02.244Z"
   },
   {
    "duration": 22,
    "start_time": "2022-01-09T14:48:02.924Z"
   },
   {
    "duration": 20,
    "start_time": "2022-01-09T14:48:04.385Z"
   },
   {
    "duration": 18,
    "start_time": "2022-01-09T14:48:04.856Z"
   },
   {
    "duration": 6,
    "start_time": "2022-01-09T14:48:21.985Z"
   },
   {
    "duration": 2,
    "start_time": "2022-01-09T14:48:26.095Z"
   },
   {
    "duration": 49,
    "start_time": "2022-01-09T14:48:26.099Z"
   },
   {
    "duration": 12,
    "start_time": "2022-01-09T14:48:26.150Z"
   },
   {
    "duration": 10,
    "start_time": "2022-01-09T14:48:26.164Z"
   },
   {
    "duration": 6,
    "start_time": "2022-01-09T14:48:26.175Z"
   },
   {
    "duration": 4,
    "start_time": "2022-01-09T14:48:26.182Z"
   },
   {
    "duration": 13,
    "start_time": "2022-01-09T14:48:26.187Z"
   },
   {
    "duration": 4,
    "start_time": "2022-01-09T14:48:26.202Z"
   },
   {
    "duration": 5,
    "start_time": "2022-01-09T14:48:26.208Z"
   },
   {
    "duration": 7,
    "start_time": "2022-01-09T14:48:26.214Z"
   },
   {
    "duration": 68,
    "start_time": "2022-01-09T14:48:26.223Z"
   },
   {
    "duration": 21,
    "start_time": "2022-01-09T14:48:26.293Z"
   },
   {
    "duration": 6,
    "start_time": "2022-01-09T14:48:29.004Z"
   },
   {
    "duration": 14,
    "start_time": "2022-01-09T14:48:29.725Z"
   },
   {
    "duration": 3,
    "start_time": "2022-01-09T14:48:33.737Z"
   },
   {
    "duration": 11,
    "start_time": "2022-01-09T14:48:33.965Z"
   },
   {
    "duration": 12,
    "start_time": "2022-01-09T14:48:34.223Z"
   },
   {
    "duration": 18,
    "start_time": "2022-01-09T14:48:35.604Z"
   },
   {
    "duration": 21,
    "start_time": "2022-01-09T14:48:36.445Z"
   },
   {
    "duration": 9,
    "start_time": "2022-01-09T14:48:36.785Z"
   },
   {
    "duration": 9,
    "start_time": "2022-01-09T14:48:37.136Z"
   },
   {
    "duration": 20,
    "start_time": "2022-01-09T14:48:37.476Z"
   },
   {
    "duration": 19,
    "start_time": "2022-01-09T14:48:37.877Z"
   },
   {
    "duration": 16,
    "start_time": "2022-01-09T14:48:38.497Z"
   },
   {
    "duration": 9,
    "start_time": "2022-01-09T15:44:35.331Z"
   },
   {
    "duration": 264,
    "start_time": "2022-01-09T15:46:18.567Z"
   },
   {
    "duration": 262,
    "start_time": "2022-01-09T15:46:58.379Z"
   },
   {
    "duration": 250,
    "start_time": "2022-01-09T15:47:01.107Z"
   },
   {
    "duration": 254,
    "start_time": "2022-01-09T15:47:12.887Z"
   },
   {
    "duration": 304,
    "start_time": "2022-01-09T15:47:36.498Z"
   },
   {
    "duration": 748,
    "start_time": "2022-01-09T15:48:44.019Z"
   },
   {
    "duration": 5,
    "start_time": "2022-01-09T15:50:03.699Z"
   },
   {
    "duration": 289,
    "start_time": "2022-01-09T15:51:50.379Z"
   },
   {
    "duration": 15,
    "start_time": "2022-01-09T15:52:45.519Z"
   },
   {
    "duration": 15,
    "start_time": "2022-01-09T15:53:48.547Z"
   },
   {
    "duration": 3,
    "start_time": "2022-01-09T15:55:54.087Z"
   },
   {
    "duration": 65,
    "start_time": "2022-01-09T15:55:54.091Z"
   },
   {
    "duration": 13,
    "start_time": "2022-01-09T15:55:54.159Z"
   },
   {
    "duration": 14,
    "start_time": "2022-01-09T15:55:54.176Z"
   },
   {
    "duration": 9,
    "start_time": "2022-01-09T15:55:54.192Z"
   },
   {
    "duration": 4,
    "start_time": "2022-01-09T15:55:54.203Z"
   },
   {
    "duration": 23,
    "start_time": "2022-01-09T15:55:54.209Z"
   },
   {
    "duration": 31,
    "start_time": "2022-01-09T15:55:54.234Z"
   },
   {
    "duration": 9,
    "start_time": "2022-01-09T15:55:54.267Z"
   },
   {
    "duration": 8,
    "start_time": "2022-01-09T15:55:54.278Z"
   },
   {
    "duration": 38,
    "start_time": "2022-01-09T15:55:54.288Z"
   },
   {
    "duration": 53,
    "start_time": "2022-01-09T15:55:54.328Z"
   },
   {
    "duration": 5,
    "start_time": "2022-01-09T15:55:54.383Z"
   },
   {
    "duration": 13,
    "start_time": "2022-01-09T15:55:54.389Z"
   },
   {
    "duration": 5,
    "start_time": "2022-01-09T15:55:54.404Z"
   },
   {
    "duration": 14,
    "start_time": "2022-01-09T15:55:54.411Z"
   },
   {
    "duration": 42,
    "start_time": "2022-01-09T15:55:54.426Z"
   },
   {
    "duration": 18,
    "start_time": "2022-01-09T15:55:54.470Z"
   },
   {
    "duration": 23,
    "start_time": "2022-01-09T15:55:54.490Z"
   },
   {
    "duration": 11,
    "start_time": "2022-01-09T15:55:54.515Z"
   },
   {
    "duration": 33,
    "start_time": "2022-01-09T15:55:54.529Z"
   },
   {
    "duration": 23,
    "start_time": "2022-01-09T15:55:54.564Z"
   },
   {
    "duration": 20,
    "start_time": "2022-01-09T15:55:54.591Z"
   },
   {
    "duration": 28,
    "start_time": "2022-01-09T15:55:54.613Z"
   },
   {
    "duration": 24,
    "start_time": "2022-01-09T15:55:57.127Z"
   },
   {
    "duration": 878,
    "start_time": "2022-01-09T15:56:00.998Z"
   },
   {
    "duration": 4,
    "start_time": "2022-01-09T18:45:33.160Z"
   },
   {
    "duration": 79,
    "start_time": "2022-01-09T18:48:30.942Z"
   },
   {
    "duration": 82,
    "start_time": "2022-01-09T18:48:44.674Z"
   },
   {
    "duration": 80,
    "start_time": "2022-01-09T18:48:57.766Z"
   },
   {
    "duration": 76,
    "start_time": "2022-01-09T18:49:14.836Z"
   },
   {
    "duration": 277,
    "start_time": "2022-01-09T18:50:09.092Z"
   },
   {
    "duration": 239,
    "start_time": "2022-01-09T18:50:38.461Z"
   },
   {
    "duration": 18,
    "start_time": "2022-01-09T18:50:50.140Z"
   },
   {
    "duration": 84,
    "start_time": "2022-01-09T19:37:07.336Z"
   },
   {
    "duration": 233,
    "start_time": "2022-01-09T19:41:44.113Z"
   },
   {
    "duration": 3,
    "start_time": "2022-01-09T19:41:55.572Z"
   },
   {
    "duration": 59,
    "start_time": "2022-01-09T19:41:55.578Z"
   },
   {
    "duration": 16,
    "start_time": "2022-01-09T19:41:55.640Z"
   },
   {
    "duration": 11,
    "start_time": "2022-01-09T19:41:55.661Z"
   },
   {
    "duration": 8,
    "start_time": "2022-01-09T19:41:55.674Z"
   },
   {
    "duration": 3,
    "start_time": "2022-01-09T19:41:55.684Z"
   },
   {
    "duration": 15,
    "start_time": "2022-01-09T19:41:55.688Z"
   },
   {
    "duration": 6,
    "start_time": "2022-01-09T19:41:55.705Z"
   },
   {
    "duration": 6,
    "start_time": "2022-01-09T19:41:55.713Z"
   },
   {
    "duration": 42,
    "start_time": "2022-01-09T19:41:55.720Z"
   },
   {
    "duration": 36,
    "start_time": "2022-01-09T19:41:55.763Z"
   },
   {
    "duration": 21,
    "start_time": "2022-01-09T19:41:55.801Z"
   },
   {
    "duration": 5,
    "start_time": "2022-01-09T19:41:55.823Z"
   },
   {
    "duration": 36,
    "start_time": "2022-01-09T19:41:55.829Z"
   },
   {
    "duration": 21,
    "start_time": "2022-01-09T19:41:55.867Z"
   },
   {
    "duration": 30,
    "start_time": "2022-01-09T19:41:55.889Z"
   },
   {
    "duration": 30,
    "start_time": "2022-01-09T19:41:55.921Z"
   },
   {
    "duration": 43,
    "start_time": "2022-01-09T19:41:55.952Z"
   },
   {
    "duration": 26,
    "start_time": "2022-01-09T19:41:55.997Z"
   },
   {
    "duration": 18,
    "start_time": "2022-01-09T19:41:56.024Z"
   },
   {
    "duration": 28,
    "start_time": "2022-01-09T19:41:56.044Z"
   },
   {
    "duration": 58,
    "start_time": "2022-01-09T19:41:56.074Z"
   },
   {
    "duration": 23,
    "start_time": "2022-01-09T19:41:56.134Z"
   },
   {
    "duration": 44,
    "start_time": "2022-01-09T19:41:56.159Z"
   },
   {
    "duration": 30,
    "start_time": "2022-01-09T19:41:56.204Z"
   },
   {
    "duration": 766,
    "start_time": "2022-01-09T19:41:56.236Z"
   },
   {
    "duration": 4,
    "start_time": "2022-01-09T19:41:59.993Z"
   },
   {
    "duration": 297,
    "start_time": "2022-01-09T19:42:02.274Z"
   },
   {
    "duration": 263,
    "start_time": "2022-01-09T19:42:59.205Z"
   },
   {
    "duration": 275,
    "start_time": "2022-01-09T19:43:36.794Z"
   },
   {
    "duration": 8895,
    "start_time": "2022-01-09T19:43:53.566Z"
   },
   {
    "duration": 3532,
    "start_time": "2022-01-09T19:44:52.675Z"
   },
   {
    "duration": 3291,
    "start_time": "2022-01-09T19:45:02.125Z"
   },
   {
    "duration": 3,
    "start_time": "2022-01-09T19:50:00.075Z"
   },
   {
    "duration": 75,
    "start_time": "2022-01-09T19:50:00.088Z"
   },
   {
    "duration": 22,
    "start_time": "2022-01-09T19:50:00.166Z"
   },
   {
    "duration": 20,
    "start_time": "2022-01-09T19:50:00.191Z"
   },
   {
    "duration": 8,
    "start_time": "2022-01-09T19:50:00.214Z"
   },
   {
    "duration": 7,
    "start_time": "2022-01-09T19:50:00.224Z"
   },
   {
    "duration": 44,
    "start_time": "2022-01-09T19:50:00.233Z"
   },
   {
    "duration": 13,
    "start_time": "2022-01-09T19:50:00.279Z"
   },
   {
    "duration": 11,
    "start_time": "2022-01-09T19:50:00.294Z"
   },
   {
    "duration": 7,
    "start_time": "2022-01-09T19:50:00.309Z"
   },
   {
    "duration": 67,
    "start_time": "2022-01-09T19:50:00.318Z"
   },
   {
    "duration": 24,
    "start_time": "2022-01-09T19:50:00.387Z"
   },
   {
    "duration": 6,
    "start_time": "2022-01-09T19:50:00.413Z"
   },
   {
    "duration": 49,
    "start_time": "2022-01-09T19:50:00.420Z"
   },
   {
    "duration": 6,
    "start_time": "2022-01-09T19:50:00.471Z"
   },
   {
    "duration": 24,
    "start_time": "2022-01-09T19:50:00.479Z"
   },
   {
    "duration": 15,
    "start_time": "2022-01-09T19:50:00.505Z"
   },
   {
    "duration": 40,
    "start_time": "2022-01-09T19:50:00.522Z"
   },
   {
    "duration": 27,
    "start_time": "2022-01-09T19:50:00.564Z"
   },
   {
    "duration": 14,
    "start_time": "2022-01-09T19:50:00.593Z"
   },
   {
    "duration": 16,
    "start_time": "2022-01-09T19:50:00.610Z"
   },
   {
    "duration": 43,
    "start_time": "2022-01-09T19:50:00.629Z"
   },
   {
    "duration": 19,
    "start_time": "2022-01-09T19:50:00.674Z"
   },
   {
    "duration": 18,
    "start_time": "2022-01-09T19:50:00.695Z"
   },
   {
    "duration": 68,
    "start_time": "2022-01-09T19:50:00.715Z"
   },
   {
    "duration": 740,
    "start_time": "2022-01-09T19:50:00.785Z"
   },
   {
    "duration": 155,
    "start_time": "2022-01-09T19:50:02.813Z"
   },
   {
    "duration": 143,
    "start_time": "2022-01-09T19:50:41.533Z"
   },
   {
    "duration": 5,
    "start_time": "2022-01-09T19:50:52.866Z"
   },
   {
    "duration": 3,
    "start_time": "2022-01-09T19:50:57.313Z"
   },
   {
    "duration": 59,
    "start_time": "2022-01-09T19:50:57.317Z"
   },
   {
    "duration": 13,
    "start_time": "2022-01-09T19:50:57.378Z"
   },
   {
    "duration": 12,
    "start_time": "2022-01-09T19:50:57.393Z"
   },
   {
    "duration": 6,
    "start_time": "2022-01-09T19:50:57.407Z"
   },
   {
    "duration": 4,
    "start_time": "2022-01-09T19:50:57.415Z"
   },
   {
    "duration": 49,
    "start_time": "2022-01-09T19:50:57.420Z"
   },
   {
    "duration": 6,
    "start_time": "2022-01-09T19:50:57.472Z"
   },
   {
    "duration": 5,
    "start_time": "2022-01-09T19:50:57.481Z"
   },
   {
    "duration": 24,
    "start_time": "2022-01-09T19:50:57.487Z"
   },
   {
    "duration": 54,
    "start_time": "2022-01-09T19:50:57.513Z"
   },
   {
    "duration": 34,
    "start_time": "2022-01-09T19:50:57.570Z"
   },
   {
    "duration": 7,
    "start_time": "2022-01-09T19:50:57.607Z"
   },
   {
    "duration": 28,
    "start_time": "2022-01-09T19:50:57.616Z"
   },
   {
    "duration": 19,
    "start_time": "2022-01-09T19:50:57.646Z"
   },
   {
    "duration": 37,
    "start_time": "2022-01-09T19:50:57.668Z"
   },
   {
    "duration": 17,
    "start_time": "2022-01-09T19:50:57.708Z"
   },
   {
    "duration": 43,
    "start_time": "2022-01-09T19:50:57.727Z"
   },
   {
    "duration": 22,
    "start_time": "2022-01-09T19:50:57.772Z"
   },
   {
    "duration": 15,
    "start_time": "2022-01-09T19:50:57.796Z"
   },
   {
    "duration": 20,
    "start_time": "2022-01-09T19:50:57.814Z"
   },
   {
    "duration": 42,
    "start_time": "2022-01-09T19:50:57.836Z"
   },
   {
    "duration": 26,
    "start_time": "2022-01-09T19:50:57.882Z"
   },
   {
    "duration": 23,
    "start_time": "2022-01-09T19:50:57.911Z"
   },
   {
    "duration": 44,
    "start_time": "2022-01-09T19:50:57.961Z"
   },
   {
    "duration": 719,
    "start_time": "2022-01-09T19:50:58.007Z"
   },
   {
    "duration": 9,
    "start_time": "2022-01-09T19:51:00.014Z"
   },
   {
    "duration": 78,
    "start_time": "2022-01-09T19:53:47.587Z"
   },
   {
    "duration": 3,
    "start_time": "2022-01-09T19:55:00.215Z"
   },
   {
    "duration": 81,
    "start_time": "2022-01-09T19:55:00.220Z"
   },
   {
    "duration": 21,
    "start_time": "2022-01-09T19:55:00.304Z"
   },
   {
    "duration": 33,
    "start_time": "2022-01-09T19:55:00.328Z"
   },
   {
    "duration": 10,
    "start_time": "2022-01-09T19:55:00.364Z"
   },
   {
    "duration": 12,
    "start_time": "2022-01-09T19:55:00.376Z"
   },
   {
    "duration": 27,
    "start_time": "2022-01-09T19:55:00.392Z"
   },
   {
    "duration": 7,
    "start_time": "2022-01-09T19:55:00.422Z"
   },
   {
    "duration": 33,
    "start_time": "2022-01-09T19:55:00.431Z"
   },
   {
    "duration": 13,
    "start_time": "2022-01-09T19:55:00.466Z"
   },
   {
    "duration": 45,
    "start_time": "2022-01-09T19:55:00.481Z"
   },
   {
    "duration": 33,
    "start_time": "2022-01-09T19:55:00.528Z"
   },
   {
    "duration": 6,
    "start_time": "2022-01-09T19:55:00.562Z"
   },
   {
    "duration": 15,
    "start_time": "2022-01-09T19:55:00.569Z"
   },
   {
    "duration": 19,
    "start_time": "2022-01-09T19:55:00.586Z"
   },
   {
    "duration": 21,
    "start_time": "2022-01-09T19:55:00.608Z"
   },
   {
    "duration": 11,
    "start_time": "2022-01-09T19:55:00.631Z"
   },
   {
    "duration": 32,
    "start_time": "2022-01-09T19:55:00.644Z"
   },
   {
    "duration": 25,
    "start_time": "2022-01-09T19:55:00.678Z"
   },
   {
    "duration": 18,
    "start_time": "2022-01-09T19:55:00.705Z"
   },
   {
    "duration": 21,
    "start_time": "2022-01-09T19:55:00.725Z"
   },
   {
    "duration": 32,
    "start_time": "2022-01-09T19:55:00.763Z"
   },
   {
    "duration": 20,
    "start_time": "2022-01-09T19:55:00.798Z"
   },
   {
    "duration": 44,
    "start_time": "2022-01-09T19:55:00.820Z"
   },
   {
    "duration": 41,
    "start_time": "2022-01-09T19:55:00.866Z"
   },
   {
    "duration": 794,
    "start_time": "2022-01-09T19:55:00.909Z"
   },
   {
    "duration": 5,
    "start_time": "2022-01-09T19:55:01.706Z"
   },
   {
    "duration": 38678,
    "start_time": "2022-01-09T19:55:01.713Z"
   },
   {
    "duration": 3,
    "start_time": "2022-01-09T19:55:45.477Z"
   },
   {
    "duration": 66,
    "start_time": "2022-01-09T19:55:45.483Z"
   },
   {
    "duration": 14,
    "start_time": "2022-01-09T19:55:45.552Z"
   },
   {
    "duration": 14,
    "start_time": "2022-01-09T19:55:45.568Z"
   },
   {
    "duration": 8,
    "start_time": "2022-01-09T19:55:45.584Z"
   },
   {
    "duration": 7,
    "start_time": "2022-01-09T19:55:45.593Z"
   },
   {
    "duration": 16,
    "start_time": "2022-01-09T19:55:45.601Z"
   },
   {
    "duration": 6,
    "start_time": "2022-01-09T19:55:45.619Z"
   },
   {
    "duration": 36,
    "start_time": "2022-01-09T19:55:45.628Z"
   },
   {
    "duration": 6,
    "start_time": "2022-01-09T19:55:45.667Z"
   },
   {
    "duration": 38,
    "start_time": "2022-01-09T19:55:45.675Z"
   },
   {
    "duration": 51,
    "start_time": "2022-01-09T19:55:45.715Z"
   },
   {
    "duration": 5,
    "start_time": "2022-01-09T19:55:45.768Z"
   },
   {
    "duration": 16,
    "start_time": "2022-01-09T19:55:45.775Z"
   },
   {
    "duration": 4,
    "start_time": "2022-01-09T19:55:45.793Z"
   },
   {
    "duration": 11,
    "start_time": "2022-01-09T19:55:45.798Z"
   },
   {
    "duration": 13,
    "start_time": "2022-01-09T19:55:45.811Z"
   },
   {
    "duration": 58,
    "start_time": "2022-01-09T19:55:45.825Z"
   },
   {
    "duration": 24,
    "start_time": "2022-01-09T19:55:45.885Z"
   },
   {
    "duration": 10,
    "start_time": "2022-01-09T19:55:45.911Z"
   },
   {
    "duration": 9,
    "start_time": "2022-01-09T19:55:45.923Z"
   },
   {
    "duration": 52,
    "start_time": "2022-01-09T19:55:45.933Z"
   },
   {
    "duration": 21,
    "start_time": "2022-01-09T19:55:45.987Z"
   },
   {
    "duration": 16,
    "start_time": "2022-01-09T19:55:46.010Z"
   },
   {
    "duration": 3,
    "start_time": "2022-01-09T19:55:46.028Z"
   },
   {
    "duration": 917,
    "start_time": "2022-01-09T19:55:46.032Z"
   },
   {
    "duration": 4,
    "start_time": "2022-01-09T19:55:48.039Z"
   },
   {
    "duration": 15,
    "start_time": "2022-01-09T19:57:29.062Z"
   },
   {
    "duration": 3,
    "start_time": "2022-01-09T19:58:26.912Z"
   },
   {
    "duration": 79,
    "start_time": "2022-01-09T19:58:26.917Z"
   },
   {
    "duration": 19,
    "start_time": "2022-01-09T19:58:26.999Z"
   },
   {
    "duration": 16,
    "start_time": "2022-01-09T19:58:27.021Z"
   },
   {
    "duration": 26,
    "start_time": "2022-01-09T19:58:27.039Z"
   },
   {
    "duration": 5,
    "start_time": "2022-01-09T19:58:27.068Z"
   },
   {
    "duration": 15,
    "start_time": "2022-01-09T19:58:27.074Z"
   },
   {
    "duration": 6,
    "start_time": "2022-01-09T19:58:27.091Z"
   },
   {
    "duration": 6,
    "start_time": "2022-01-09T19:58:27.101Z"
   },
   {
    "duration": 8,
    "start_time": "2022-01-09T19:58:27.110Z"
   },
   {
    "duration": 36,
    "start_time": "2022-01-09T19:58:27.160Z"
   },
   {
    "duration": 22,
    "start_time": "2022-01-09T19:58:27.198Z"
   },
   {
    "duration": 5,
    "start_time": "2022-01-09T19:58:27.221Z"
   },
   {
    "duration": 32,
    "start_time": "2022-01-09T19:58:27.228Z"
   },
   {
    "duration": 4,
    "start_time": "2022-01-09T19:58:27.263Z"
   },
   {
    "duration": 12,
    "start_time": "2022-01-09T19:58:27.269Z"
   },
   {
    "duration": 14,
    "start_time": "2022-01-09T19:58:27.283Z"
   },
   {
    "duration": 19,
    "start_time": "2022-01-09T19:58:27.299Z"
   },
   {
    "duration": 53,
    "start_time": "2022-01-09T19:58:27.320Z"
   },
   {
    "duration": 8,
    "start_time": "2022-01-09T19:58:27.375Z"
   },
   {
    "duration": 11,
    "start_time": "2022-01-09T19:58:27.385Z"
   },
   {
    "duration": 21,
    "start_time": "2022-01-09T19:58:27.398Z"
   },
   {
    "duration": 43,
    "start_time": "2022-01-09T19:58:27.421Z"
   },
   {
    "duration": 16,
    "start_time": "2022-01-09T19:58:27.466Z"
   },
   {
    "duration": 29,
    "start_time": "2022-01-09T19:58:27.484Z"
   },
   {
    "duration": 718,
    "start_time": "2022-01-09T19:58:27.515Z"
   },
   {
    "duration": 4,
    "start_time": "2022-01-09T19:59:24.142Z"
   },
   {
    "duration": 2535,
    "start_time": "2022-01-09T19:59:27.976Z"
   },
   {
    "duration": 2766,
    "start_time": "2022-01-09T19:59:47.441Z"
   },
   {
    "duration": 2697,
    "start_time": "2022-01-09T20:00:09.001Z"
   },
   {
    "duration": 3,
    "start_time": "2022-01-09T20:01:46.356Z"
   },
   {
    "duration": 55,
    "start_time": "2022-01-09T20:01:46.365Z"
   },
   {
    "duration": 13,
    "start_time": "2022-01-09T20:01:46.422Z"
   },
   {
    "duration": 30,
    "start_time": "2022-01-09T20:01:46.437Z"
   },
   {
    "duration": 8,
    "start_time": "2022-01-09T20:01:46.469Z"
   },
   {
    "duration": 4,
    "start_time": "2022-01-09T20:01:46.478Z"
   },
   {
    "duration": 13,
    "start_time": "2022-01-09T20:01:46.484Z"
   },
   {
    "duration": 5,
    "start_time": "2022-01-09T20:01:46.499Z"
   },
   {
    "duration": 7,
    "start_time": "2022-01-09T20:01:46.506Z"
   },
   {
    "duration": 48,
    "start_time": "2022-01-09T20:01:46.515Z"
   },
   {
    "duration": 38,
    "start_time": "2022-01-09T20:01:46.565Z"
   },
   {
    "duration": 26,
    "start_time": "2022-01-09T20:01:46.604Z"
   },
   {
    "duration": 31,
    "start_time": "2022-01-09T20:01:46.632Z"
   },
   {
    "duration": 14,
    "start_time": "2022-01-09T20:01:46.665Z"
   },
   {
    "duration": 5,
    "start_time": "2022-01-09T20:01:46.682Z"
   },
   {
    "duration": 17,
    "start_time": "2022-01-09T20:01:46.689Z"
   },
   {
    "duration": 11,
    "start_time": "2022-01-09T20:01:46.708Z"
   },
   {
    "duration": 58,
    "start_time": "2022-01-09T20:01:46.720Z"
   },
   {
    "duration": 24,
    "start_time": "2022-01-09T20:01:46.781Z"
   },
   {
    "duration": 10,
    "start_time": "2022-01-09T20:01:46.807Z"
   },
   {
    "duration": 10,
    "start_time": "2022-01-09T20:01:46.819Z"
   },
   {
    "duration": 28,
    "start_time": "2022-01-09T20:01:46.860Z"
   },
   {
    "duration": 19,
    "start_time": "2022-01-09T20:01:46.889Z"
   },
   {
    "duration": 15,
    "start_time": "2022-01-09T20:01:46.910Z"
   },
   {
    "duration": 43,
    "start_time": "2022-01-09T20:01:46.927Z"
   },
   {
    "duration": 700,
    "start_time": "2022-01-09T20:01:46.972Z"
   },
   {
    "duration": 4,
    "start_time": "2022-01-09T20:01:52.364Z"
   },
   {
    "duration": 51853,
    "start_time": "2022-01-09T20:01:55.701Z"
   },
   {
    "duration": 3,
    "start_time": "2022-01-09T20:03:23.273Z"
   },
   {
    "duration": 53,
    "start_time": "2022-01-09T20:03:23.281Z"
   },
   {
    "duration": 14,
    "start_time": "2022-01-09T20:03:23.336Z"
   },
   {
    "duration": 17,
    "start_time": "2022-01-09T20:03:23.352Z"
   },
   {
    "duration": 6,
    "start_time": "2022-01-09T20:03:23.372Z"
   },
   {
    "duration": 4,
    "start_time": "2022-01-09T20:03:23.380Z"
   },
   {
    "duration": 22,
    "start_time": "2022-01-09T20:03:23.386Z"
   },
   {
    "duration": 7,
    "start_time": "2022-01-09T20:03:23.411Z"
   },
   {
    "duration": 6,
    "start_time": "2022-01-09T20:03:23.420Z"
   },
   {
    "duration": 35,
    "start_time": "2022-01-09T20:03:23.430Z"
   },
   {
    "duration": 38,
    "start_time": "2022-01-09T20:03:23.468Z"
   },
   {
    "duration": 22,
    "start_time": "2022-01-09T20:03:23.508Z"
   },
   {
    "duration": 32,
    "start_time": "2022-01-09T20:03:23.531Z"
   },
   {
    "duration": 13,
    "start_time": "2022-01-09T20:03:23.565Z"
   },
   {
    "duration": 4,
    "start_time": "2022-01-09T20:03:23.579Z"
   },
   {
    "duration": 16,
    "start_time": "2022-01-09T20:03:23.584Z"
   },
   {
    "duration": 11,
    "start_time": "2022-01-09T20:03:23.602Z"
   },
   {
    "duration": 19,
    "start_time": "2022-01-09T20:03:23.614Z"
   },
   {
    "duration": 22,
    "start_time": "2022-01-09T20:03:23.661Z"
   },
   {
    "duration": 11,
    "start_time": "2022-01-09T20:03:23.684Z"
   },
   {
    "duration": 11,
    "start_time": "2022-01-09T20:03:23.697Z"
   },
   {
    "duration": 33,
    "start_time": "2022-01-09T20:03:23.709Z"
   },
   {
    "duration": 34,
    "start_time": "2022-01-09T20:03:23.744Z"
   },
   {
    "duration": 16,
    "start_time": "2022-01-09T20:03:23.780Z"
   },
   {
    "duration": 3,
    "start_time": "2022-01-09T20:03:23.798Z"
   },
   {
    "duration": 717,
    "start_time": "2022-01-09T20:03:23.803Z"
   },
   {
    "duration": 5,
    "start_time": "2022-01-09T20:03:27.481Z"
   },
   {
    "duration": 49219,
    "start_time": "2022-01-09T20:03:29.021Z"
   },
   {
    "duration": 15,
    "start_time": "2022-01-09T20:06:07.844Z"
   },
   {
    "duration": 4,
    "start_time": "2022-01-09T20:06:26.073Z"
   },
   {
    "duration": 65,
    "start_time": "2022-01-09T20:06:26.082Z"
   },
   {
    "duration": 13,
    "start_time": "2022-01-09T20:06:26.149Z"
   },
   {
    "duration": 12,
    "start_time": "2022-01-09T20:06:26.164Z"
   },
   {
    "duration": 7,
    "start_time": "2022-01-09T20:06:26.177Z"
   },
   {
    "duration": 3,
    "start_time": "2022-01-09T20:06:26.186Z"
   },
   {
    "duration": 14,
    "start_time": "2022-01-09T20:06:26.191Z"
   },
   {
    "duration": 5,
    "start_time": "2022-01-09T20:06:26.207Z"
   },
   {
    "duration": 11,
    "start_time": "2022-01-09T20:06:26.213Z"
   },
   {
    "duration": 43,
    "start_time": "2022-01-09T20:06:26.227Z"
   },
   {
    "duration": 53,
    "start_time": "2022-01-09T20:06:26.273Z"
   },
   {
    "duration": 43,
    "start_time": "2022-01-09T20:06:26.328Z"
   },
   {
    "duration": 6,
    "start_time": "2022-01-09T20:06:26.374Z"
   },
   {
    "duration": 18,
    "start_time": "2022-01-09T20:06:26.382Z"
   },
   {
    "duration": 6,
    "start_time": "2022-01-09T20:06:26.402Z"
   },
   {
    "duration": 20,
    "start_time": "2022-01-09T20:06:26.410Z"
   },
   {
    "duration": 38,
    "start_time": "2022-01-09T20:06:26.432Z"
   },
   {
    "duration": 18,
    "start_time": "2022-01-09T20:06:26.472Z"
   },
   {
    "duration": 24,
    "start_time": "2022-01-09T20:06:26.492Z"
   },
   {
    "duration": 10,
    "start_time": "2022-01-09T20:06:26.517Z"
   },
   {
    "duration": 35,
    "start_time": "2022-01-09T20:06:26.529Z"
   },
   {
    "duration": 20,
    "start_time": "2022-01-09T20:06:26.566Z"
   },
   {
    "duration": 19,
    "start_time": "2022-01-09T20:06:26.588Z"
   },
   {
    "duration": 15,
    "start_time": "2022-01-09T20:06:26.609Z"
   },
   {
    "duration": 2,
    "start_time": "2022-01-09T20:06:26.626Z"
   },
   {
    "duration": 716,
    "start_time": "2022-01-09T20:06:26.661Z"
   },
   {
    "duration": 31,
    "start_time": "2022-01-09T20:06:29.290Z"
   },
   {
    "duration": 31,
    "start_time": "2022-01-09T20:07:10.781Z"
   },
   {
    "duration": 3,
    "start_time": "2022-01-09T20:10:33.153Z"
   },
   {
    "duration": 80,
    "start_time": "2022-01-09T20:10:33.161Z"
   },
   {
    "duration": 13,
    "start_time": "2022-01-09T20:10:33.243Z"
   },
   {
    "duration": 33,
    "start_time": "2022-01-09T20:10:33.258Z"
   },
   {
    "duration": 29,
    "start_time": "2022-01-09T20:10:33.293Z"
   },
   {
    "duration": 37,
    "start_time": "2022-01-09T20:10:33.324Z"
   },
   {
    "duration": 57,
    "start_time": "2022-01-09T20:10:33.363Z"
   },
   {
    "duration": 40,
    "start_time": "2022-01-09T20:10:33.421Z"
   },
   {
    "duration": 41,
    "start_time": "2022-01-09T20:10:33.462Z"
   },
   {
    "duration": 37,
    "start_time": "2022-01-09T20:10:33.506Z"
   },
   {
    "duration": 68,
    "start_time": "2022-01-09T20:10:33.545Z"
   },
   {
    "duration": 29,
    "start_time": "2022-01-09T20:10:33.615Z"
   },
   {
    "duration": 23,
    "start_time": "2022-01-09T20:10:33.646Z"
   },
   {
    "duration": 50,
    "start_time": "2022-01-09T20:10:33.670Z"
   },
   {
    "duration": 34,
    "start_time": "2022-01-09T20:10:33.722Z"
   },
   {
    "duration": 41,
    "start_time": "2022-01-09T20:10:33.758Z"
   },
   {
    "duration": 52,
    "start_time": "2022-01-09T20:10:33.801Z"
   },
   {
    "duration": 41,
    "start_time": "2022-01-09T20:10:33.854Z"
   },
   {
    "duration": 53,
    "start_time": "2022-01-09T20:10:33.897Z"
   },
   {
    "duration": 27,
    "start_time": "2022-01-09T20:10:33.952Z"
   },
   {
    "duration": 34,
    "start_time": "2022-01-09T20:10:33.981Z"
   },
   {
    "duration": 45,
    "start_time": "2022-01-09T20:10:34.017Z"
   },
   {
    "duration": 34,
    "start_time": "2022-01-09T20:10:34.064Z"
   },
   {
    "duration": 34,
    "start_time": "2022-01-09T20:10:34.101Z"
   },
   {
    "duration": 50,
    "start_time": "2022-01-09T20:10:34.137Z"
   },
   {
    "duration": 994,
    "start_time": "2022-01-09T20:10:34.188Z"
   },
   {
    "duration": 6,
    "start_time": "2022-01-09T20:10:42.129Z"
   },
   {
    "duration": 5,
    "start_time": "2022-01-09T20:10:45.841Z"
   },
   {
    "duration": 45,
    "start_time": "2022-01-09T20:10:46.781Z"
   },
   {
    "duration": 270,
    "start_time": "2022-01-09T20:12:03.353Z"
   },
   {
    "duration": 4,
    "start_time": "2022-01-09T20:12:06.873Z"
   },
   {
    "duration": 74,
    "start_time": "2022-01-09T20:12:06.882Z"
   },
   {
    "duration": 22,
    "start_time": "2022-01-09T20:12:06.959Z"
   },
   {
    "duration": 16,
    "start_time": "2022-01-09T20:12:06.984Z"
   },
   {
    "duration": 7,
    "start_time": "2022-01-09T20:12:07.002Z"
   },
   {
    "duration": 6,
    "start_time": "2022-01-09T20:12:07.010Z"
   },
   {
    "duration": 49,
    "start_time": "2022-01-09T20:12:07.017Z"
   },
   {
    "duration": 7,
    "start_time": "2022-01-09T20:12:07.068Z"
   },
   {
    "duration": 6,
    "start_time": "2022-01-09T20:12:07.077Z"
   },
   {
    "duration": 11,
    "start_time": "2022-01-09T20:12:07.087Z"
   },
   {
    "duration": 65,
    "start_time": "2022-01-09T20:12:07.101Z"
   },
   {
    "duration": 21,
    "start_time": "2022-01-09T20:12:07.168Z"
   },
   {
    "duration": 4,
    "start_time": "2022-01-09T20:12:07.191Z"
   },
   {
    "duration": 16,
    "start_time": "2022-01-09T20:12:07.197Z"
   },
   {
    "duration": 4,
    "start_time": "2022-01-09T20:12:07.215Z"
   },
   {
    "duration": 13,
    "start_time": "2022-01-09T20:12:07.220Z"
   },
   {
    "duration": 36,
    "start_time": "2022-01-09T20:12:07.234Z"
   },
   {
    "duration": 19,
    "start_time": "2022-01-09T20:12:07.272Z"
   },
   {
    "duration": 25,
    "start_time": "2022-01-09T20:12:07.293Z"
   },
   {
    "duration": 9,
    "start_time": "2022-01-09T20:12:07.320Z"
   },
   {
    "duration": 40,
    "start_time": "2022-01-09T20:12:07.331Z"
   },
   {
    "duration": 22,
    "start_time": "2022-01-09T20:12:07.373Z"
   },
   {
    "duration": 20,
    "start_time": "2022-01-09T20:12:07.397Z"
   },
   {
    "duration": 47,
    "start_time": "2022-01-09T20:12:07.418Z"
   },
   {
    "duration": 40,
    "start_time": "2022-01-09T20:12:07.467Z"
   },
   {
    "duration": 724,
    "start_time": "2022-01-09T20:12:07.509Z"
   },
   {
    "duration": 6,
    "start_time": "2022-01-09T20:12:08.235Z"
   },
   {
    "duration": 3,
    "start_time": "2022-01-09T20:12:11.113Z"
   },
   {
    "duration": 4,
    "start_time": "2022-01-09T20:12:11.741Z"
   },
   {
    "duration": 288,
    "start_time": "2022-01-09T20:12:12.400Z"
   },
   {
    "duration": 3,
    "start_time": "2022-01-09T20:15:16.773Z"
   },
   {
    "duration": 49,
    "start_time": "2022-01-09T20:15:16.783Z"
   },
   {
    "duration": 15,
    "start_time": "2022-01-09T20:15:16.834Z"
   },
   {
    "duration": 19,
    "start_time": "2022-01-09T20:15:16.851Z"
   },
   {
    "duration": 7,
    "start_time": "2022-01-09T20:15:16.872Z"
   },
   {
    "duration": 3,
    "start_time": "2022-01-09T20:15:16.881Z"
   },
   {
    "duration": 18,
    "start_time": "2022-01-09T20:15:16.886Z"
   },
   {
    "duration": 5,
    "start_time": "2022-01-09T20:15:16.905Z"
   },
   {
    "duration": 5,
    "start_time": "2022-01-09T20:15:16.912Z"
   },
   {
    "duration": 7,
    "start_time": "2022-01-09T20:15:16.960Z"
   },
   {
    "duration": 40,
    "start_time": "2022-01-09T20:15:16.969Z"
   },
   {
    "duration": 22,
    "start_time": "2022-01-09T20:15:17.011Z"
   },
   {
    "duration": 4,
    "start_time": "2022-01-09T20:15:17.035Z"
   },
   {
    "duration": 31,
    "start_time": "2022-01-09T20:15:17.041Z"
   },
   {
    "duration": 7,
    "start_time": "2022-01-09T20:15:17.074Z"
   },
   {
    "duration": 14,
    "start_time": "2022-01-09T20:15:17.082Z"
   },
   {
    "duration": 13,
    "start_time": "2022-01-09T20:15:17.098Z"
   },
   {
    "duration": 20,
    "start_time": "2022-01-09T20:15:17.112Z"
   },
   {
    "duration": 47,
    "start_time": "2022-01-09T20:15:17.134Z"
   },
   {
    "duration": 9,
    "start_time": "2022-01-09T20:15:17.183Z"
   },
   {
    "duration": 10,
    "start_time": "2022-01-09T20:15:17.194Z"
   },
   {
    "duration": 22,
    "start_time": "2022-01-09T20:15:17.205Z"
   },
   {
    "duration": 44,
    "start_time": "2022-01-09T20:15:17.229Z"
   },
   {
    "duration": 15,
    "start_time": "2022-01-09T20:15:17.274Z"
   },
   {
    "duration": 31,
    "start_time": "2022-01-09T20:15:17.291Z"
   },
   {
    "duration": 727,
    "start_time": "2022-01-09T20:15:17.324Z"
   },
   {
    "duration": 6,
    "start_time": "2022-01-09T20:15:30.733Z"
   },
   {
    "duration": 3,
    "start_time": "2022-01-09T20:15:31.962Z"
   },
   {
    "duration": 271,
    "start_time": "2022-01-09T20:15:33.054Z"
   },
   {
    "duration": 3,
    "start_time": "2022-01-09T20:16:23.226Z"
   },
   {
    "duration": 56,
    "start_time": "2022-01-09T20:16:23.231Z"
   },
   {
    "duration": 17,
    "start_time": "2022-01-09T20:16:23.290Z"
   },
   {
    "duration": 15,
    "start_time": "2022-01-09T20:16:23.309Z"
   },
   {
    "duration": 37,
    "start_time": "2022-01-09T20:16:23.326Z"
   },
   {
    "duration": 4,
    "start_time": "2022-01-09T20:16:23.365Z"
   },
   {
    "duration": 16,
    "start_time": "2022-01-09T20:16:23.371Z"
   },
   {
    "duration": 6,
    "start_time": "2022-01-09T20:16:23.389Z"
   },
   {
    "duration": 8,
    "start_time": "2022-01-09T20:16:23.398Z"
   },
   {
    "duration": 10,
    "start_time": "2022-01-09T20:16:23.408Z"
   },
   {
    "duration": 65,
    "start_time": "2022-01-09T20:16:23.419Z"
   },
   {
    "duration": 21,
    "start_time": "2022-01-09T20:16:23.485Z"
   },
   {
    "duration": 5,
    "start_time": "2022-01-09T20:16:23.508Z"
   },
   {
    "duration": 14,
    "start_time": "2022-01-09T20:16:23.515Z"
   },
   {
    "duration": 6,
    "start_time": "2022-01-09T20:16:23.530Z"
   },
   {
    "duration": 30,
    "start_time": "2022-01-09T20:16:23.538Z"
   },
   {
    "duration": 12,
    "start_time": "2022-01-09T20:16:23.569Z"
   },
   {
    "duration": 18,
    "start_time": "2022-01-09T20:16:23.582Z"
   },
   {
    "duration": 23,
    "start_time": "2022-01-09T20:16:23.602Z"
   },
   {
    "duration": 34,
    "start_time": "2022-01-09T20:16:23.627Z"
   },
   {
    "duration": 12,
    "start_time": "2022-01-09T20:16:23.662Z"
   },
   {
    "duration": 22,
    "start_time": "2022-01-09T20:16:23.676Z"
   },
   {
    "duration": 18,
    "start_time": "2022-01-09T20:16:23.699Z"
   },
   {
    "duration": 16,
    "start_time": "2022-01-09T20:16:23.719Z"
   },
   {
    "duration": 49,
    "start_time": "2022-01-09T20:16:23.737Z"
   },
   {
    "duration": 721,
    "start_time": "2022-01-09T20:16:23.788Z"
   },
   {
    "duration": 28,
    "start_time": "2022-01-09T20:16:26.212Z"
   },
   {
    "duration": 5,
    "start_time": "2022-01-09T20:16:28.541Z"
   },
   {
    "duration": 296,
    "start_time": "2022-01-09T20:16:29.240Z"
   },
   {
    "duration": 3,
    "start_time": "2022-01-09T20:18:54.893Z"
   },
   {
    "duration": 57,
    "start_time": "2022-01-09T20:18:54.901Z"
   },
   {
    "duration": 13,
    "start_time": "2022-01-09T20:18:54.960Z"
   },
   {
    "duration": 23,
    "start_time": "2022-01-09T20:18:54.976Z"
   },
   {
    "duration": 12,
    "start_time": "2022-01-09T20:18:55.002Z"
   },
   {
    "duration": 10,
    "start_time": "2022-01-09T20:18:55.016Z"
   },
   {
    "duration": 34,
    "start_time": "2022-01-09T20:18:55.028Z"
   },
   {
    "duration": 10,
    "start_time": "2022-01-09T20:18:55.063Z"
   },
   {
    "duration": 9,
    "start_time": "2022-01-09T20:18:55.076Z"
   },
   {
    "duration": 20,
    "start_time": "2022-01-09T20:18:55.087Z"
   },
   {
    "duration": 40,
    "start_time": "2022-01-09T20:18:55.108Z"
   },
   {
    "duration": 30,
    "start_time": "2022-01-09T20:18:55.150Z"
   },
   {
    "duration": 12,
    "start_time": "2022-01-09T20:18:55.181Z"
   },
   {
    "duration": 17,
    "start_time": "2022-01-09T20:18:55.195Z"
   },
   {
    "duration": 18,
    "start_time": "2022-01-09T20:18:55.214Z"
   },
   {
    "duration": 12,
    "start_time": "2022-01-09T20:18:55.234Z"
   },
   {
    "duration": 22,
    "start_time": "2022-01-09T20:18:55.248Z"
   },
   {
    "duration": 27,
    "start_time": "2022-01-09T20:18:55.272Z"
   },
   {
    "duration": 21,
    "start_time": "2022-01-09T20:18:55.301Z"
   },
   {
    "duration": 19,
    "start_time": "2022-01-09T20:18:55.324Z"
   },
   {
    "duration": 26,
    "start_time": "2022-01-09T20:18:55.344Z"
   },
   {
    "duration": 31,
    "start_time": "2022-01-09T20:18:55.372Z"
   },
   {
    "duration": 18,
    "start_time": "2022-01-09T20:18:55.405Z"
   },
   {
    "duration": 19,
    "start_time": "2022-01-09T20:18:55.426Z"
   },
   {
    "duration": 41,
    "start_time": "2022-01-09T20:18:55.447Z"
   },
   {
    "duration": 731,
    "start_time": "2022-01-09T20:18:55.490Z"
   },
   {
    "duration": 35,
    "start_time": "2022-01-09T20:18:57.961Z"
   },
   {
    "duration": 4,
    "start_time": "2022-01-09T20:18:59.689Z"
   },
   {
    "duration": 270,
    "start_time": "2022-01-09T20:19:00.981Z"
   },
   {
    "duration": 4,
    "start_time": "2022-01-09T20:19:28.441Z"
   },
   {
    "duration": 847,
    "start_time": "2022-01-09T20:19:29.301Z"
   },
   {
    "duration": 3,
    "start_time": "2022-01-09T20:20:10.401Z"
   },
   {
    "duration": 74,
    "start_time": "2022-01-09T20:20:10.406Z"
   },
   {
    "duration": 21,
    "start_time": "2022-01-09T20:20:10.484Z"
   },
   {
    "duration": 12,
    "start_time": "2022-01-09T20:20:10.508Z"
   },
   {
    "duration": 8,
    "start_time": "2022-01-09T20:20:10.522Z"
   },
   {
    "duration": 31,
    "start_time": "2022-01-09T20:20:10.532Z"
   },
   {
    "duration": 16,
    "start_time": "2022-01-09T20:20:10.565Z"
   },
   {
    "duration": 6,
    "start_time": "2022-01-09T20:20:10.583Z"
   },
   {
    "duration": 5,
    "start_time": "2022-01-09T20:20:10.593Z"
   },
   {
    "duration": 12,
    "start_time": "2022-01-09T20:20:10.601Z"
   },
   {
    "duration": 74,
    "start_time": "2022-01-09T20:20:10.615Z"
   },
   {
    "duration": 22,
    "start_time": "2022-01-09T20:20:10.691Z"
   },
   {
    "duration": 5,
    "start_time": "2022-01-09T20:20:10.714Z"
   },
   {
    "duration": 16,
    "start_time": "2022-01-09T20:20:10.721Z"
   },
   {
    "duration": 24,
    "start_time": "2022-01-09T20:20:10.739Z"
   },
   {
    "duration": 15,
    "start_time": "2022-01-09T20:20:10.765Z"
   },
   {
    "duration": 13,
    "start_time": "2022-01-09T20:20:10.782Z"
   },
   {
    "duration": 18,
    "start_time": "2022-01-09T20:20:10.797Z"
   },
   {
    "duration": 52,
    "start_time": "2022-01-09T20:20:10.817Z"
   },
   {
    "duration": 10,
    "start_time": "2022-01-09T20:20:10.871Z"
   },
   {
    "duration": 11,
    "start_time": "2022-01-09T20:20:10.883Z"
   },
   {
    "duration": 26,
    "start_time": "2022-01-09T20:20:10.896Z"
   },
   {
    "duration": 43,
    "start_time": "2022-01-09T20:20:10.924Z"
   },
   {
    "duration": 16,
    "start_time": "2022-01-09T20:20:10.969Z"
   },
   {
    "duration": 3,
    "start_time": "2022-01-09T20:20:10.987Z"
   },
   {
    "duration": 761,
    "start_time": "2022-01-09T20:20:10.991Z"
   },
   {
    "duration": 26,
    "start_time": "2022-01-09T20:20:13.993Z"
   },
   {
    "duration": 3,
    "start_time": "2022-01-09T20:20:34.593Z"
   },
   {
    "duration": 888,
    "start_time": "2022-01-09T20:20:37.655Z"
   },
   {
    "duration": 3,
    "start_time": "2022-01-09T20:21:24.472Z"
   },
   {
    "duration": 51,
    "start_time": "2022-01-09T20:21:24.480Z"
   },
   {
    "duration": 13,
    "start_time": "2022-01-09T20:21:24.533Z"
   },
   {
    "duration": 12,
    "start_time": "2022-01-09T20:21:24.549Z"
   },
   {
    "duration": 7,
    "start_time": "2022-01-09T20:21:24.564Z"
   },
   {
    "duration": 5,
    "start_time": "2022-01-09T20:21:24.573Z"
   },
   {
    "duration": 19,
    "start_time": "2022-01-09T20:21:24.580Z"
   },
   {
    "duration": 7,
    "start_time": "2022-01-09T20:21:24.601Z"
   },
   {
    "duration": 5,
    "start_time": "2022-01-09T20:21:24.610Z"
   },
   {
    "duration": 47,
    "start_time": "2022-01-09T20:21:24.618Z"
   },
   {
    "duration": 35,
    "start_time": "2022-01-09T20:21:24.667Z"
   },
   {
    "duration": 21,
    "start_time": "2022-01-09T20:21:24.703Z"
   },
   {
    "duration": 4,
    "start_time": "2022-01-09T20:21:24.726Z"
   },
   {
    "duration": 12,
    "start_time": "2022-01-09T20:21:24.760Z"
   },
   {
    "duration": 4,
    "start_time": "2022-01-09T20:21:24.774Z"
   },
   {
    "duration": 14,
    "start_time": "2022-01-09T20:21:24.779Z"
   },
   {
    "duration": 25,
    "start_time": "2022-01-09T20:21:24.795Z"
   },
   {
    "duration": 62,
    "start_time": "2022-01-09T20:21:24.822Z"
   },
   {
    "duration": 22,
    "start_time": "2022-01-09T20:21:24.886Z"
   },
   {
    "duration": 10,
    "start_time": "2022-01-09T20:21:24.910Z"
   },
   {
    "duration": 10,
    "start_time": "2022-01-09T20:21:24.922Z"
   },
   {
    "duration": 46,
    "start_time": "2022-01-09T20:21:24.933Z"
   },
   {
    "duration": 18,
    "start_time": "2022-01-09T20:21:24.981Z"
   },
   {
    "duration": 17,
    "start_time": "2022-01-09T20:21:25.002Z"
   },
   {
    "duration": 3,
    "start_time": "2022-01-09T20:21:25.021Z"
   },
   {
    "duration": 712,
    "start_time": "2022-01-09T20:21:25.061Z"
   },
   {
    "duration": 25,
    "start_time": "2022-01-09T20:21:25.775Z"
   },
   {
    "duration": 3,
    "start_time": "2022-01-09T20:21:25.802Z"
   },
   {
    "duration": 4,
    "start_time": "2022-01-09T20:21:27.322Z"
   },
   {
    "duration": 833,
    "start_time": "2022-01-09T20:21:28.612Z"
   },
   {
    "duration": 3,
    "start_time": "2022-01-09T20:33:30.398Z"
   },
   {
    "duration": 51,
    "start_time": "2022-01-09T20:33:30.416Z"
   },
   {
    "duration": 13,
    "start_time": "2022-01-09T20:33:30.469Z"
   },
   {
    "duration": 16,
    "start_time": "2022-01-09T20:33:30.484Z"
   },
   {
    "duration": 6,
    "start_time": "2022-01-09T20:33:30.502Z"
   },
   {
    "duration": 4,
    "start_time": "2022-01-09T20:33:30.510Z"
   },
   {
    "duration": 26,
    "start_time": "2022-01-09T20:33:30.516Z"
   },
   {
    "duration": 7,
    "start_time": "2022-01-09T20:33:30.561Z"
   },
   {
    "duration": 9,
    "start_time": "2022-01-09T20:33:30.570Z"
   },
   {
    "duration": 14,
    "start_time": "2022-01-09T20:33:30.581Z"
   },
   {
    "duration": 45,
    "start_time": "2022-01-09T20:33:30.598Z"
   },
   {
    "duration": 35,
    "start_time": "2022-01-09T20:33:30.645Z"
   },
   {
    "duration": 5,
    "start_time": "2022-01-09T20:33:30.682Z"
   },
   {
    "duration": 25,
    "start_time": "2022-01-09T20:33:30.689Z"
   },
   {
    "duration": 20,
    "start_time": "2022-01-09T20:33:30.716Z"
   },
   {
    "duration": 26,
    "start_time": "2022-01-09T20:33:30.738Z"
   },
   {
    "duration": 17,
    "start_time": "2022-01-09T20:33:30.766Z"
   },
   {
    "duration": 22,
    "start_time": "2022-01-09T20:33:30.785Z"
   },
   {
    "duration": 29,
    "start_time": "2022-01-09T20:33:30.809Z"
   },
   {
    "duration": 9,
    "start_time": "2022-01-09T20:33:30.840Z"
   },
   {
    "duration": 20,
    "start_time": "2022-01-09T20:33:30.850Z"
   },
   {
    "duration": 35,
    "start_time": "2022-01-09T20:33:30.872Z"
   },
   {
    "duration": 26,
    "start_time": "2022-01-09T20:33:30.909Z"
   },
   {
    "duration": 37,
    "start_time": "2022-01-09T20:33:30.937Z"
   },
   {
    "duration": 15,
    "start_time": "2022-01-09T20:33:30.976Z"
   },
   {
    "duration": 743,
    "start_time": "2022-01-09T20:33:30.993Z"
   },
   {
    "duration": 36,
    "start_time": "2022-01-09T20:33:31.738Z"
   },
   {
    "duration": 21,
    "start_time": "2022-01-09T20:33:33.669Z"
   },
   {
    "duration": 4,
    "start_time": "2022-01-09T20:33:37.226Z"
   },
   {
    "duration": 278,
    "start_time": "2022-01-09T20:34:01.381Z"
   },
   {
    "duration": 59701,
    "start_time": "2022-01-09T20:34:45.388Z"
   },
   {
    "duration": 3,
    "start_time": "2022-01-09T20:40:18.080Z"
   },
   {
    "duration": 87,
    "start_time": "2022-01-09T20:40:18.086Z"
   },
   {
    "duration": 14,
    "start_time": "2022-01-09T20:40:18.176Z"
   },
   {
    "duration": 41,
    "start_time": "2022-01-09T20:40:18.193Z"
   },
   {
    "duration": 32,
    "start_time": "2022-01-09T20:40:18.236Z"
   },
   {
    "duration": 28,
    "start_time": "2022-01-09T20:40:18.270Z"
   },
   {
    "duration": 35,
    "start_time": "2022-01-09T20:40:18.300Z"
   },
   {
    "duration": 39,
    "start_time": "2022-01-09T20:40:18.338Z"
   },
   {
    "duration": 43,
    "start_time": "2022-01-09T20:40:18.380Z"
   },
   {
    "duration": 33,
    "start_time": "2022-01-09T20:40:18.425Z"
   },
   {
    "duration": 58,
    "start_time": "2022-01-09T20:40:18.460Z"
   },
   {
    "duration": 24,
    "start_time": "2022-01-09T20:40:18.520Z"
   },
   {
    "duration": 8,
    "start_time": "2022-01-09T20:40:18.546Z"
   },
   {
    "duration": 31,
    "start_time": "2022-01-09T20:40:18.555Z"
   },
   {
    "duration": 25,
    "start_time": "2022-01-09T20:40:18.589Z"
   },
   {
    "duration": 45,
    "start_time": "2022-01-09T20:40:18.617Z"
   },
   {
    "duration": 17,
    "start_time": "2022-01-09T20:40:18.665Z"
   },
   {
    "duration": 48,
    "start_time": "2022-01-09T20:40:18.685Z"
   },
   {
    "duration": 38,
    "start_time": "2022-01-09T20:40:18.735Z"
   },
   {
    "duration": 24,
    "start_time": "2022-01-09T20:40:18.776Z"
   },
   {
    "duration": 40,
    "start_time": "2022-01-09T20:40:18.801Z"
   },
   {
    "duration": 37,
    "start_time": "2022-01-09T20:40:18.843Z"
   },
   {
    "duration": 33,
    "start_time": "2022-01-09T20:40:18.883Z"
   },
   {
    "duration": 33,
    "start_time": "2022-01-09T20:40:18.918Z"
   },
   {
    "duration": 31,
    "start_time": "2022-01-09T20:40:18.952Z"
   },
   {
    "duration": 778,
    "start_time": "2022-01-09T20:40:18.985Z"
   },
   {
    "duration": 26,
    "start_time": "2022-01-09T20:40:19.765Z"
   },
   {
    "duration": 26,
    "start_time": "2022-01-09T20:40:21.841Z"
   },
   {
    "duration": 4,
    "start_time": "2022-01-09T20:40:22.920Z"
   },
   {
    "duration": 1968,
    "start_time": "2022-01-09T20:40:24.840Z"
   },
   {
    "duration": 3,
    "start_time": "2022-01-09T20:41:09.351Z"
   },
   {
    "duration": 54,
    "start_time": "2022-01-09T20:41:09.356Z"
   },
   {
    "duration": 13,
    "start_time": "2022-01-09T20:41:09.412Z"
   },
   {
    "duration": 11,
    "start_time": "2022-01-09T20:41:09.427Z"
   },
   {
    "duration": 20,
    "start_time": "2022-01-09T20:41:09.440Z"
   },
   {
    "duration": 4,
    "start_time": "2022-01-09T20:41:09.462Z"
   },
   {
    "duration": 14,
    "start_time": "2022-01-09T20:41:09.468Z"
   },
   {
    "duration": 6,
    "start_time": "2022-01-09T20:41:09.483Z"
   },
   {
    "duration": 5,
    "start_time": "2022-01-09T20:41:09.491Z"
   },
   {
    "duration": 7,
    "start_time": "2022-01-09T20:41:09.498Z"
   },
   {
    "duration": 80,
    "start_time": "2022-01-09T20:41:09.506Z"
   },
   {
    "duration": 23,
    "start_time": "2022-01-09T20:41:09.587Z"
   },
   {
    "duration": 5,
    "start_time": "2022-01-09T20:41:09.611Z"
   },
   {
    "duration": 13,
    "start_time": "2022-01-09T20:41:09.617Z"
   },
   {
    "duration": 29,
    "start_time": "2022-01-09T20:41:09.632Z"
   },
   {
    "duration": 11,
    "start_time": "2022-01-09T20:41:09.662Z"
   },
   {
    "duration": 13,
    "start_time": "2022-01-09T20:41:09.675Z"
   },
   {
    "duration": 31,
    "start_time": "2022-01-09T20:41:09.690Z"
   },
   {
    "duration": 55,
    "start_time": "2022-01-09T20:41:09.723Z"
   },
   {
    "duration": 9,
    "start_time": "2022-01-09T20:41:09.779Z"
   },
   {
    "duration": 16,
    "start_time": "2022-01-09T20:41:09.790Z"
   },
   {
    "duration": 115,
    "start_time": "2022-01-09T20:41:09.807Z"
   },
   {
    "duration": 21,
    "start_time": "2022-01-09T20:41:09.923Z"
   },
   {
    "duration": 31,
    "start_time": "2022-01-09T20:41:09.946Z"
   },
   {
    "duration": 31,
    "start_time": "2022-01-09T20:41:09.979Z"
   },
   {
    "duration": 1028,
    "start_time": "2022-01-09T20:41:10.012Z"
   },
   {
    "duration": 49,
    "start_time": "2022-01-09T20:41:11.046Z"
   },
   {
    "duration": 33,
    "start_time": "2022-01-09T20:41:12.399Z"
   },
   {
    "duration": 3,
    "start_time": "2022-01-09T20:41:20.078Z"
   },
   {
    "duration": 3399,
    "start_time": "2022-01-09T20:41:21.830Z"
   },
   {
    "duration": 3,
    "start_time": "2022-01-09T20:42:05.531Z"
   },
   {
    "duration": 54,
    "start_time": "2022-01-09T20:42:05.540Z"
   },
   {
    "duration": 13,
    "start_time": "2022-01-09T20:42:05.597Z"
   },
   {
    "duration": 18,
    "start_time": "2022-01-09T20:42:05.612Z"
   },
   {
    "duration": 6,
    "start_time": "2022-01-09T20:42:05.633Z"
   },
   {
    "duration": 23,
    "start_time": "2022-01-09T20:42:05.641Z"
   },
   {
    "duration": 20,
    "start_time": "2022-01-09T20:42:05.666Z"
   },
   {
    "duration": 8,
    "start_time": "2022-01-09T20:42:05.921Z"
   },
   {
    "duration": 6,
    "start_time": "2022-01-09T20:42:05.931Z"
   },
   {
    "duration": 9,
    "start_time": "2022-01-09T20:42:05.939Z"
   },
   {
    "duration": 67,
    "start_time": "2022-01-09T20:42:05.950Z"
   },
   {
    "duration": 33,
    "start_time": "2022-01-09T20:42:06.019Z"
   },
   {
    "duration": 10,
    "start_time": "2022-01-09T20:42:06.053Z"
   },
   {
    "duration": 37,
    "start_time": "2022-01-09T20:42:06.065Z"
   },
   {
    "duration": 8,
    "start_time": "2022-01-09T20:42:06.104Z"
   },
   {
    "duration": 24,
    "start_time": "2022-01-09T20:42:06.114Z"
   },
   {
    "duration": 21,
    "start_time": "2022-01-09T20:42:06.140Z"
   },
   {
    "duration": 18,
    "start_time": "2022-01-09T20:42:06.163Z"
   },
   {
    "duration": 21,
    "start_time": "2022-01-09T20:42:06.183Z"
   },
   {
    "duration": 22,
    "start_time": "2022-01-09T20:42:06.205Z"
   },
   {
    "duration": 26,
    "start_time": "2022-01-09T20:42:06.228Z"
   },
   {
    "duration": 32,
    "start_time": "2022-01-09T20:42:06.256Z"
   },
   {
    "duration": 19,
    "start_time": "2022-01-09T20:42:06.290Z"
   },
   {
    "duration": 17,
    "start_time": "2022-01-09T20:42:06.311Z"
   },
   {
    "duration": 46,
    "start_time": "2022-01-09T20:42:06.329Z"
   },
   {
    "duration": 912,
    "start_time": "2022-01-09T20:42:06.377Z"
   },
   {
    "duration": 5,
    "start_time": "2022-01-09T20:42:11.631Z"
   },
   {
    "duration": 3317,
    "start_time": "2022-01-09T20:42:12.508Z"
   },
   {
    "duration": 3387,
    "start_time": "2022-01-09T20:45:49.040Z"
   },
   {
    "duration": 10,
    "start_time": "2022-01-09T20:47:34.353Z"
   },
   {
    "duration": 5,
    "start_time": "2022-01-09T20:47:49.461Z"
   },
   {
    "duration": 30,
    "start_time": "2022-01-09T20:48:30.221Z"
   },
   {
    "duration": 11,
    "start_time": "2022-01-09T20:48:41.754Z"
   },
   {
    "duration": 3,
    "start_time": "2022-01-09T20:49:55.451Z"
   },
   {
    "duration": 72,
    "start_time": "2022-01-09T20:49:55.456Z"
   },
   {
    "duration": 20,
    "start_time": "2022-01-09T20:49:55.530Z"
   },
   {
    "duration": 20,
    "start_time": "2022-01-09T20:49:55.553Z"
   },
   {
    "duration": 8,
    "start_time": "2022-01-09T20:49:55.576Z"
   },
   {
    "duration": 4,
    "start_time": "2022-01-09T20:49:55.586Z"
   },
   {
    "duration": 16,
    "start_time": "2022-01-09T20:49:55.592Z"
   },
   {
    "duration": 6,
    "start_time": "2022-01-09T20:49:55.610Z"
   },
   {
    "duration": 44,
    "start_time": "2022-01-09T20:49:55.619Z"
   },
   {
    "duration": 6,
    "start_time": "2022-01-09T20:49:55.666Z"
   },
   {
    "duration": 37,
    "start_time": "2022-01-09T20:49:55.674Z"
   },
   {
    "duration": 55,
    "start_time": "2022-01-09T20:49:55.712Z"
   },
   {
    "duration": 5,
    "start_time": "2022-01-09T20:49:55.769Z"
   },
   {
    "duration": 12,
    "start_time": "2022-01-09T20:49:55.776Z"
   },
   {
    "duration": 4,
    "start_time": "2022-01-09T20:49:55.789Z"
   },
   {
    "duration": 14,
    "start_time": "2022-01-09T20:49:55.794Z"
   },
   {
    "duration": 14,
    "start_time": "2022-01-09T20:49:55.809Z"
   },
   {
    "duration": 49,
    "start_time": "2022-01-09T20:49:55.825Z"
   },
   {
    "duration": 43,
    "start_time": "2022-01-09T20:49:55.876Z"
   },
   {
    "duration": 19,
    "start_time": "2022-01-09T20:49:55.921Z"
   },
   {
    "duration": 19,
    "start_time": "2022-01-09T20:49:55.942Z"
   },
   {
    "duration": 32,
    "start_time": "2022-01-09T20:49:55.963Z"
   },
   {
    "duration": 27,
    "start_time": "2022-01-09T20:49:55.998Z"
   },
   {
    "duration": 39,
    "start_time": "2022-01-09T20:49:56.028Z"
   },
   {
    "duration": 30,
    "start_time": "2022-01-09T20:49:56.069Z"
   },
   {
    "duration": 733,
    "start_time": "2022-01-09T20:49:56.102Z"
   },
   {
    "duration": 6,
    "start_time": "2022-01-09T20:49:56.840Z"
   },
   {
    "duration": 3390,
    "start_time": "2022-01-09T20:50:00.105Z"
   },
   {
    "duration": 14,
    "start_time": "2022-01-09T20:50:06.610Z"
   },
   {
    "duration": 744,
    "start_time": "2022-01-10T19:15:46.492Z"
   },
   {
    "duration": 67,
    "start_time": "2022-01-10T19:15:47.238Z"
   },
   {
    "duration": 34,
    "start_time": "2022-01-10T19:15:47.308Z"
   },
   {
    "duration": 34,
    "start_time": "2022-01-10T19:15:47.345Z"
   },
   {
    "duration": 9,
    "start_time": "2022-01-10T19:15:47.382Z"
   },
   {
    "duration": 7,
    "start_time": "2022-01-10T19:15:47.393Z"
   },
   {
    "duration": 21,
    "start_time": "2022-01-10T19:15:47.403Z"
   },
   {
    "duration": 45,
    "start_time": "2022-01-10T19:15:47.426Z"
   },
   {
    "duration": 8,
    "start_time": "2022-01-10T19:15:47.475Z"
   },
   {
    "duration": 11,
    "start_time": "2022-01-10T19:15:47.486Z"
   },
   {
    "duration": 90,
    "start_time": "2022-01-10T19:15:47.499Z"
   },
   {
    "duration": 35,
    "start_time": "2022-01-10T19:15:47.591Z"
   },
   {
    "duration": 33,
    "start_time": "2022-01-10T19:15:49.469Z"
   },
   {
    "duration": 4,
    "start_time": "2022-01-10T19:15:56.960Z"
   },
   {
    "duration": 83,
    "start_time": "2022-01-10T19:15:56.967Z"
   },
   {
    "duration": 21,
    "start_time": "2022-01-10T19:15:57.054Z"
   },
   {
    "duration": 20,
    "start_time": "2022-01-10T19:15:57.078Z"
   },
   {
    "duration": 7,
    "start_time": "2022-01-10T19:15:57.101Z"
   },
   {
    "duration": 15,
    "start_time": "2022-01-10T19:15:57.110Z"
   },
   {
    "duration": 48,
    "start_time": "2022-01-10T19:15:57.127Z"
   },
   {
    "duration": 8,
    "start_time": "2022-01-10T19:15:57.178Z"
   },
   {
    "duration": 9,
    "start_time": "2022-01-10T19:15:57.189Z"
   },
   {
    "duration": 8,
    "start_time": "2022-01-10T19:15:57.201Z"
   },
   {
    "duration": 9,
    "start_time": "2022-01-10T19:16:03.637Z"
   },
   {
    "duration": 51,
    "start_time": "2022-01-10T19:16:05.117Z"
   },
   {
    "duration": 34,
    "start_time": "2022-01-10T19:16:08.477Z"
   },
   {
    "duration": 5,
    "start_time": "2022-01-10T19:16:49.429Z"
   },
   {
    "duration": 18,
    "start_time": "2022-01-10T19:17:03.697Z"
   },
   {
    "duration": 4,
    "start_time": "2022-01-10T19:22:49.276Z"
   },
   {
    "duration": 66,
    "start_time": "2022-01-10T19:22:49.283Z"
   },
   {
    "duration": 24,
    "start_time": "2022-01-10T19:22:49.353Z"
   },
   {
    "duration": 18,
    "start_time": "2022-01-10T19:22:49.381Z"
   },
   {
    "duration": 10,
    "start_time": "2022-01-10T19:22:49.401Z"
   },
   {
    "duration": 6,
    "start_time": "2022-01-10T19:22:49.414Z"
   },
   {
    "duration": 58,
    "start_time": "2022-01-10T19:22:49.422Z"
   },
   {
    "duration": 8,
    "start_time": "2022-01-10T19:22:49.482Z"
   },
   {
    "duration": 8,
    "start_time": "2022-01-10T19:22:49.493Z"
   },
   {
    "duration": 9,
    "start_time": "2022-01-10T19:22:49.503Z"
   },
   {
    "duration": 96,
    "start_time": "2022-01-10T19:22:49.515Z"
   },
   {
    "duration": 33,
    "start_time": "2022-01-10T19:22:49.614Z"
   },
   {
    "duration": 38,
    "start_time": "2022-01-10T19:22:59.776Z"
   },
   {
    "duration": 7,
    "start_time": "2022-01-10T19:23:06.296Z"
   },
   {
    "duration": 15,
    "start_time": "2022-01-10T19:23:07.756Z"
   },
   {
    "duration": 8,
    "start_time": "2022-01-10T19:23:12.696Z"
   },
   {
    "duration": 32,
    "start_time": "2022-01-10T19:23:13.331Z"
   },
   {
    "duration": 23,
    "start_time": "2022-01-10T19:23:15.076Z"
   },
   {
    "duration": 42,
    "start_time": "2022-01-10T19:23:18.416Z"
   },
   {
    "duration": 30,
    "start_time": "2022-01-10T19:23:23.275Z"
   },
   {
    "duration": 13,
    "start_time": "2022-01-10T19:23:23.915Z"
   },
   {
    "duration": 12,
    "start_time": "2022-01-10T19:23:27.156Z"
   },
   {
    "duration": 27,
    "start_time": "2022-01-10T19:23:28.375Z"
   },
   {
    "duration": 26,
    "start_time": "2022-01-10T19:23:29.075Z"
   },
   {
    "duration": 22,
    "start_time": "2022-01-10T19:23:30.015Z"
   },
   {
    "duration": 9,
    "start_time": "2022-01-10T19:23:33.708Z"
   },
   {
    "duration": 954,
    "start_time": "2022-01-10T19:23:37.336Z"
   },
   {
    "duration": 8,
    "start_time": "2022-01-10T19:23:46.116Z"
   },
   {
    "duration": 4833,
    "start_time": "2022-01-10T19:23:48.047Z"
   },
   {
    "duration": 18,
    "start_time": "2022-01-10T19:24:01.595Z"
   },
   {
    "duration": 9,
    "start_time": "2022-01-10T19:26:15.546Z"
   },
   {
    "duration": 4,
    "start_time": "2022-01-10T19:27:30.595Z"
   },
   {
    "duration": 73,
    "start_time": "2022-01-10T19:27:30.601Z"
   },
   {
    "duration": 20,
    "start_time": "2022-01-10T19:27:30.677Z"
   },
   {
    "duration": 20,
    "start_time": "2022-01-10T19:27:30.700Z"
   },
   {
    "duration": 8,
    "start_time": "2022-01-10T19:27:30.722Z"
   },
   {
    "duration": 35,
    "start_time": "2022-01-10T19:27:30.733Z"
   },
   {
    "duration": 47,
    "start_time": "2022-01-10T19:27:30.771Z"
   },
   {
    "duration": 12,
    "start_time": "2022-01-10T19:27:30.821Z"
   },
   {
    "duration": 22,
    "start_time": "2022-01-10T19:27:30.836Z"
   },
   {
    "duration": 18,
    "start_time": "2022-01-10T19:27:30.861Z"
   },
   {
    "duration": 58,
    "start_time": "2022-01-10T19:27:30.882Z"
   },
   {
    "duration": 46,
    "start_time": "2022-01-10T19:27:30.943Z"
   },
   {
    "duration": 7,
    "start_time": "2022-01-10T19:27:30.992Z"
   },
   {
    "duration": 19,
    "start_time": "2022-01-10T19:27:31.002Z"
   },
   {
    "duration": 5,
    "start_time": "2022-01-10T19:27:31.024Z"
   },
   {
    "duration": 50,
    "start_time": "2022-01-10T19:27:31.031Z"
   },
   {
    "duration": 16,
    "start_time": "2022-01-10T19:27:31.083Z"
   },
   {
    "duration": 44,
    "start_time": "2022-01-10T19:27:39.575Z"
   },
   {
    "duration": 39,
    "start_time": "2022-01-10T19:30:00.967Z"
   },
   {
    "duration": 7,
    "start_time": "2022-01-10T19:32:56.408Z"
   },
   {
    "duration": 43,
    "start_time": "2022-01-10T19:33:35.355Z"
   },
   {
    "duration": 6,
    "start_time": "2022-01-10T19:33:40.987Z"
   },
   {
    "duration": 42,
    "start_time": "2022-01-10T19:33:41.876Z"
   },
   {
    "duration": 46,
    "start_time": "2022-01-10T19:37:48.160Z"
   },
   {
    "duration": 42,
    "start_time": "2022-01-10T19:38:26.000Z"
   },
   {
    "duration": 54,
    "start_time": "2022-01-10T19:57:47.026Z"
   },
   {
    "duration": 4,
    "start_time": "2022-01-10T19:57:51.667Z"
   },
   {
    "duration": 79,
    "start_time": "2022-01-10T19:57:51.674Z"
   },
   {
    "duration": 39,
    "start_time": "2022-01-10T19:57:51.756Z"
   },
   {
    "duration": 19,
    "start_time": "2022-01-10T19:57:51.797Z"
   },
   {
    "duration": 9,
    "start_time": "2022-01-10T19:57:51.819Z"
   },
   {
    "duration": 38,
    "start_time": "2022-01-10T19:57:51.831Z"
   },
   {
    "duration": 24,
    "start_time": "2022-01-10T19:57:51.871Z"
   },
   {
    "duration": 8,
    "start_time": "2022-01-10T19:57:51.898Z"
   },
   {
    "duration": 9,
    "start_time": "2022-01-10T19:57:51.908Z"
   },
   {
    "duration": 49,
    "start_time": "2022-01-10T19:57:51.920Z"
   },
   {
    "duration": 52,
    "start_time": "2022-01-10T19:57:51.972Z"
   },
   {
    "duration": 59,
    "start_time": "2022-01-10T19:57:52.026Z"
   },
   {
    "duration": 7,
    "start_time": "2022-01-10T19:57:52.088Z"
   },
   {
    "duration": 404,
    "start_time": "2022-01-10T19:57:55.558Z"
   },
   {
    "duration": 4,
    "start_time": "2022-01-10T19:58:00.467Z"
   },
   {
    "duration": 75,
    "start_time": "2022-01-10T19:58:00.474Z"
   },
   {
    "duration": 24,
    "start_time": "2022-01-10T19:58:00.552Z"
   },
   {
    "duration": 27,
    "start_time": "2022-01-10T19:58:00.579Z"
   },
   {
    "duration": 8,
    "start_time": "2022-01-10T19:58:00.609Z"
   },
   {
    "duration": 8,
    "start_time": "2022-01-10T19:58:00.620Z"
   },
   {
    "duration": 48,
    "start_time": "2022-01-10T19:58:00.631Z"
   },
   {
    "duration": 8,
    "start_time": "2022-01-10T19:58:00.685Z"
   },
   {
    "duration": 23,
    "start_time": "2022-01-10T19:58:00.696Z"
   },
   {
    "duration": 17,
    "start_time": "2022-01-10T19:58:00.721Z"
   },
   {
    "duration": 71,
    "start_time": "2022-01-10T19:58:00.740Z"
   },
   {
    "duration": 35,
    "start_time": "2022-01-10T19:58:00.813Z"
   },
   {
    "duration": 33,
    "start_time": "2022-01-10T19:58:09.647Z"
   },
   {
    "duration": 7,
    "start_time": "2022-01-10T19:58:14.947Z"
   },
   {
    "duration": 14,
    "start_time": "2022-01-10T19:58:20.027Z"
   },
   {
    "duration": 42,
    "start_time": "2022-01-10T19:58:21.946Z"
   },
   {
    "duration": 32,
    "start_time": "2022-01-10T19:59:44.326Z"
   },
   {
    "duration": 5,
    "start_time": "2022-01-10T20:08:43.945Z"
   },
   {
    "duration": 16,
    "start_time": "2022-01-10T20:08:52.786Z"
   },
   {
    "duration": 292,
    "start_time": "2022-01-10T20:09:06.326Z"
   },
   {
    "duration": 361,
    "start_time": "2022-01-10T20:09:13.005Z"
   },
   {
    "duration": 278,
    "start_time": "2022-01-10T20:09:25.366Z"
   },
   {
    "duration": 6,
    "start_time": "2022-01-10T20:10:34.377Z"
   },
   {
    "duration": 690,
    "start_time": "2022-01-10T20:13:22.123Z"
   },
   {
    "duration": 12,
    "start_time": "2022-01-10T20:13:38.464Z"
   },
   {
    "duration": 8,
    "start_time": "2022-01-10T20:14:34.788Z"
   },
   {
    "duration": 3,
    "start_time": "2022-01-10T20:14:44.454Z"
   },
   {
    "duration": 69,
    "start_time": "2022-01-10T20:14:44.460Z"
   },
   {
    "duration": 21,
    "start_time": "2022-01-10T20:14:44.532Z"
   },
   {
    "duration": 15,
    "start_time": "2022-01-10T20:14:44.569Z"
   },
   {
    "duration": 8,
    "start_time": "2022-01-10T20:14:44.587Z"
   },
   {
    "duration": 18,
    "start_time": "2022-01-10T20:14:44.598Z"
   },
   {
    "duration": 54,
    "start_time": "2022-01-10T20:14:44.618Z"
   },
   {
    "duration": 9,
    "start_time": "2022-01-10T20:14:44.674Z"
   },
   {
    "duration": 12,
    "start_time": "2022-01-10T20:14:44.686Z"
   },
   {
    "duration": 12,
    "start_time": "2022-01-10T20:14:44.701Z"
   },
   {
    "duration": 99,
    "start_time": "2022-01-10T20:14:44.716Z"
   },
   {
    "duration": 55,
    "start_time": "2022-01-10T20:14:44.818Z"
   },
   {
    "duration": 7,
    "start_time": "2022-01-10T20:14:44.876Z"
   },
   {
    "duration": 20,
    "start_time": "2022-01-10T20:14:44.886Z"
   },
   {
    "duration": 83,
    "start_time": "2022-01-10T20:14:44.908Z"
   },
   {
    "duration": 48,
    "start_time": "2022-01-10T20:14:58.016Z"
   },
   {
    "duration": 33,
    "start_time": "2022-01-10T20:15:03.036Z"
   },
   {
    "duration": 9,
    "start_time": "2022-01-10T20:15:03.977Z"
   },
   {
    "duration": 9,
    "start_time": "2022-01-10T20:16:59.257Z"
   },
   {
    "duration": 48,
    "start_time": "2022-01-10T20:17:11.617Z"
   },
   {
    "duration": 18,
    "start_time": "2022-01-10T20:20:15.274Z"
   },
   {
    "duration": 4,
    "start_time": "2022-01-10T20:29:21.638Z"
   },
   {
    "duration": 69,
    "start_time": "2022-01-10T20:29:21.644Z"
   },
   {
    "duration": 49,
    "start_time": "2022-01-10T20:29:21.718Z"
   },
   {
    "duration": 19,
    "start_time": "2022-01-10T20:29:21.770Z"
   },
   {
    "duration": 10,
    "start_time": "2022-01-10T20:29:21.793Z"
   },
   {
    "duration": 12,
    "start_time": "2022-01-10T20:29:21.806Z"
   },
   {
    "duration": 53,
    "start_time": "2022-01-10T20:29:21.821Z"
   },
   {
    "duration": 11,
    "start_time": "2022-01-10T20:29:21.880Z"
   },
   {
    "duration": 11,
    "start_time": "2022-01-10T20:29:21.894Z"
   },
   {
    "duration": 9,
    "start_time": "2022-01-10T20:29:21.908Z"
   },
   {
    "duration": 127,
    "start_time": "2022-01-10T20:29:21.920Z"
   },
   {
    "duration": 64,
    "start_time": "2022-01-10T20:29:22.050Z"
   },
   {
    "duration": 7,
    "start_time": "2022-01-10T20:29:22.116Z"
   },
   {
    "duration": 41,
    "start_time": "2022-01-10T20:29:22.126Z"
   },
   {
    "duration": 42,
    "start_time": "2022-01-10T20:29:22.170Z"
   },
   {
    "duration": 43,
    "start_time": "2022-01-10T20:29:34.549Z"
   },
   {
    "duration": 36,
    "start_time": "2022-01-10T20:29:36.757Z"
   },
   {
    "duration": 9,
    "start_time": "2022-01-10T20:30:05.386Z"
   },
   {
    "duration": 12,
    "start_time": "2022-01-10T20:30:07.837Z"
   },
   {
    "duration": 9,
    "start_time": "2022-01-10T20:30:08.918Z"
   },
   {
    "duration": 23,
    "start_time": "2022-01-10T20:30:10.829Z"
   },
   {
    "duration": 4,
    "start_time": "2022-01-10T20:31:22.657Z"
   },
   {
    "duration": 60,
    "start_time": "2022-01-10T20:31:22.668Z"
   },
   {
    "duration": 35,
    "start_time": "2022-01-10T20:31:22.731Z"
   },
   {
    "duration": 14,
    "start_time": "2022-01-10T20:31:22.769Z"
   },
   {
    "duration": 7,
    "start_time": "2022-01-10T20:31:22.786Z"
   },
   {
    "duration": 5,
    "start_time": "2022-01-10T20:31:22.795Z"
   },
   {
    "duration": 25,
    "start_time": "2022-01-10T20:31:22.802Z"
   },
   {
    "duration": 43,
    "start_time": "2022-01-10T20:31:22.829Z"
   },
   {
    "duration": 9,
    "start_time": "2022-01-10T20:31:22.874Z"
   },
   {
    "duration": 9,
    "start_time": "2022-01-10T20:31:22.886Z"
   },
   {
    "duration": 89,
    "start_time": "2022-01-10T20:31:22.898Z"
   },
   {
    "duration": 33,
    "start_time": "2022-01-10T20:31:22.990Z"
   },
   {
    "duration": 7,
    "start_time": "2022-01-10T20:31:23.025Z"
   },
   {
    "duration": 43,
    "start_time": "2022-01-10T20:31:23.034Z"
   },
   {
    "duration": 43,
    "start_time": "2022-01-10T20:31:23.080Z"
   },
   {
    "duration": 52,
    "start_time": "2022-01-10T20:31:23.125Z"
   },
   {
    "duration": 9,
    "start_time": "2022-01-10T20:31:23.180Z"
   },
   {
    "duration": 10,
    "start_time": "2022-01-10T20:31:23.191Z"
   },
   {
    "duration": 22,
    "start_time": "2022-01-10T20:31:23.204Z"
   },
   {
    "duration": 5,
    "start_time": "2022-01-10T20:31:43.057Z"
   },
   {
    "duration": 18,
    "start_time": "2022-01-10T20:31:44.789Z"
   },
   {
    "duration": 18,
    "start_time": "2022-01-10T20:31:47.765Z"
   },
   {
    "duration": 29,
    "start_time": "2022-01-10T20:33:13.958Z"
   },
   {
    "duration": 25,
    "start_time": "2022-01-10T20:33:16.458Z"
   },
   {
    "duration": 23,
    "start_time": "2022-01-10T20:33:17.690Z"
   },
   {
    "duration": 21,
    "start_time": "2022-01-10T20:35:45.120Z"
   },
   {
    "duration": 1293,
    "start_time": "2022-01-10T20:35:47.219Z"
   },
   {
    "duration": 6,
    "start_time": "2022-01-10T20:35:58.000Z"
   },
   {
    "duration": 3877,
    "start_time": "2022-01-10T20:35:59.760Z"
   },
   {
    "duration": 34,
    "start_time": "2022-01-10T20:36:19.201Z"
   },
   {
    "duration": 6,
    "start_time": "2022-01-10T20:36:42.060Z"
   },
   {
    "duration": 12,
    "start_time": "2022-01-10T20:36:56.460Z"
   },
   {
    "duration": 8,
    "start_time": "2022-01-10T20:40:55.034Z"
   },
   {
    "duration": 8,
    "start_time": "2022-01-10T20:41:10.754Z"
   },
   {
    "duration": 14,
    "start_time": "2022-01-10T20:50:21.766Z"
   },
   {
    "duration": 9,
    "start_time": "2022-01-10T20:51:04.748Z"
   },
   {
    "duration": 11,
    "start_time": "2022-01-10T20:51:12.604Z"
   },
   {
    "duration": 12,
    "start_time": "2022-01-10T20:51:27.794Z"
   },
   {
    "duration": 9,
    "start_time": "2022-01-10T20:54:33.153Z"
   },
   {
    "duration": 4584,
    "start_time": "2022-01-10T20:55:44.354Z"
   },
   {
    "duration": 8,
    "start_time": "2022-01-10T20:56:00.385Z"
   },
   {
    "duration": 9,
    "start_time": "2022-01-10T20:56:16.233Z"
   },
   {
    "duration": 10,
    "start_time": "2022-01-10T20:56:22.002Z"
   },
   {
    "duration": 9,
    "start_time": "2022-01-10T20:56:48.457Z"
   },
   {
    "duration": 8,
    "start_time": "2022-01-10T20:56:56.377Z"
   },
   {
    "duration": 13,
    "start_time": "2022-01-10T21:01:38.551Z"
   },
   {
    "duration": 11,
    "start_time": "2022-01-10T21:01:46.611Z"
   },
   {
    "duration": 12,
    "start_time": "2022-01-10T21:01:58.612Z"
   },
   {
    "duration": 13,
    "start_time": "2022-01-10T21:02:06.736Z"
   },
   {
    "duration": 12,
    "start_time": "2022-01-10T21:02:16.450Z"
   },
   {
    "duration": 16,
    "start_time": "2022-01-10T21:02:21.822Z"
   },
   {
    "duration": 10,
    "start_time": "2022-01-10T21:02:43.048Z"
   },
   {
    "duration": 12,
    "start_time": "2022-01-10T21:02:52.611Z"
   },
   {
    "duration": 9369,
    "start_time": "2022-01-10T21:03:20.726Z"
   },
   {
    "duration": 11,
    "start_time": "2022-01-10T21:03:34.415Z"
   },
   {
    "duration": 15,
    "start_time": "2022-01-10T21:03:39.461Z"
   },
   {
    "duration": 12,
    "start_time": "2022-01-10T21:03:57.285Z"
   },
   {
    "duration": 12,
    "start_time": "2022-01-10T21:04:01.896Z"
   },
   {
    "duration": 12,
    "start_time": "2022-01-10T21:05:37.140Z"
   },
   {
    "duration": 15,
    "start_time": "2022-01-10T21:05:42.468Z"
   },
   {
    "duration": 4590,
    "start_time": "2022-01-10T21:06:09.525Z"
   },
   {
    "duration": 10,
    "start_time": "2022-01-10T21:06:19.038Z"
   },
   {
    "duration": 11,
    "start_time": "2022-01-10T21:06:22.540Z"
   },
   {
    "duration": 104,
    "start_time": "2022-01-10T21:11:28.090Z"
   },
   {
    "duration": 28,
    "start_time": "2022-01-10T21:12:00.770Z"
   },
   {
    "duration": 8,
    "start_time": "2022-01-10T21:12:31.931Z"
   },
   {
    "duration": 4,
    "start_time": "2022-01-11T18:49:20.937Z"
   },
   {
    "duration": 78,
    "start_time": "2022-01-11T18:49:20.944Z"
   },
   {
    "duration": 19,
    "start_time": "2022-01-11T18:49:21.025Z"
   },
   {
    "duration": 30,
    "start_time": "2022-01-11T18:49:21.048Z"
   },
   {
    "duration": 10,
    "start_time": "2022-01-11T18:49:21.080Z"
   },
   {
    "duration": 7,
    "start_time": "2022-01-11T18:49:21.092Z"
   },
   {
    "duration": 78,
    "start_time": "2022-01-11T18:49:21.102Z"
   },
   {
    "duration": 10,
    "start_time": "2022-01-11T18:49:21.184Z"
   },
   {
    "duration": 10,
    "start_time": "2022-01-11T18:49:21.201Z"
   },
   {
    "duration": 48,
    "start_time": "2022-01-11T18:49:21.215Z"
   },
   {
    "duration": 62,
    "start_time": "2022-01-11T18:49:21.267Z"
   },
   {
    "duration": 64,
    "start_time": "2022-01-11T18:49:21.332Z"
   },
   {
    "duration": 9,
    "start_time": "2022-01-11T18:49:21.398Z"
   },
   {
    "duration": 16,
    "start_time": "2022-01-11T18:49:21.409Z"
   },
   {
    "duration": 46,
    "start_time": "2022-01-11T18:49:21.464Z"
   },
   {
    "duration": 57,
    "start_time": "2022-01-11T18:49:21.513Z"
   },
   {
    "duration": 8,
    "start_time": "2022-01-11T18:49:21.572Z"
   },
   {
    "duration": 9,
    "start_time": "2022-01-11T18:49:21.582Z"
   },
   {
    "duration": 31,
    "start_time": "2022-01-11T18:49:21.593Z"
   },
   {
    "duration": 39,
    "start_time": "2022-01-11T18:49:21.626Z"
   },
   {
    "duration": 20,
    "start_time": "2022-01-11T18:49:21.668Z"
   },
   {
    "duration": 17,
    "start_time": "2022-01-11T18:49:21.691Z"
   },
   {
    "duration": 71,
    "start_time": "2022-01-11T18:49:21.710Z"
   },
   {
    "duration": 25,
    "start_time": "2022-01-11T18:49:21.784Z"
   },
   {
    "duration": 55,
    "start_time": "2022-01-11T18:49:21.812Z"
   },
   {
    "duration": 25,
    "start_time": "2022-01-11T18:49:21.870Z"
   },
   {
    "duration": 963,
    "start_time": "2022-01-11T18:49:21.900Z"
   },
   {
    "duration": 7,
    "start_time": "2022-01-11T18:49:56.219Z"
   },
   {
    "duration": 4,
    "start_time": "2022-01-11T19:13:32.106Z"
   },
   {
    "duration": 19,
    "start_time": "2022-01-11T19:16:30.566Z"
   },
   {
    "duration": 3,
    "start_time": "2022-01-11T19:16:40.535Z"
   },
   {
    "duration": 94,
    "start_time": "2022-01-11T19:16:40.542Z"
   },
   {
    "duration": 33,
    "start_time": "2022-01-11T19:16:40.640Z"
   },
   {
    "duration": 15,
    "start_time": "2022-01-11T19:16:40.676Z"
   },
   {
    "duration": 7,
    "start_time": "2022-01-11T19:16:40.694Z"
   },
   {
    "duration": 5,
    "start_time": "2022-01-11T19:16:40.703Z"
   },
   {
    "duration": 62,
    "start_time": "2022-01-11T19:16:40.710Z"
   },
   {
    "duration": 10,
    "start_time": "2022-01-11T19:16:40.774Z"
   },
   {
    "duration": 7,
    "start_time": "2022-01-11T19:16:40.790Z"
   },
   {
    "duration": 10,
    "start_time": "2022-01-11T19:16:40.802Z"
   },
   {
    "duration": 105,
    "start_time": "2022-01-11T19:16:40.815Z"
   },
   {
    "duration": 62,
    "start_time": "2022-01-11T19:16:40.924Z"
   },
   {
    "duration": 8,
    "start_time": "2022-01-11T19:16:40.989Z"
   },
   {
    "duration": 17,
    "start_time": "2022-01-11T19:16:41.000Z"
   },
   {
    "duration": 72,
    "start_time": "2022-01-11T19:16:41.019Z"
   },
   {
    "duration": 31,
    "start_time": "2022-01-11T19:16:41.093Z"
   },
   {
    "duration": 9,
    "start_time": "2022-01-11T19:16:41.126Z"
   },
   {
    "duration": 31,
    "start_time": "2022-01-11T19:16:41.137Z"
   },
   {
    "duration": 27,
    "start_time": "2022-01-11T19:16:41.170Z"
   },
   {
    "duration": 5,
    "start_time": "2022-01-11T19:16:41.199Z"
   },
   {
    "duration": 16,
    "start_time": "2022-01-11T19:16:41.206Z"
   },
   {
    "duration": 52,
    "start_time": "2022-01-11T19:16:41.225Z"
   },
   {
    "duration": 26,
    "start_time": "2022-01-11T19:16:41.280Z"
   },
   {
    "duration": 54,
    "start_time": "2022-01-11T19:16:41.310Z"
   },
   {
    "duration": 22,
    "start_time": "2022-01-11T19:16:41.367Z"
   },
   {
    "duration": 25,
    "start_time": "2022-01-11T19:16:41.391Z"
   },
   {
    "duration": 978,
    "start_time": "2022-01-11T19:16:41.419Z"
   },
   {
    "duration": 7,
    "start_time": "2022-01-11T19:16:42.400Z"
   },
   {
    "duration": 5,
    "start_time": "2022-01-11T19:16:50.286Z"
   },
   {
    "duration": 3,
    "start_time": "2022-01-11T19:16:51.354Z"
   },
   {
    "duration": 19,
    "start_time": "2022-01-11T19:16:52.226Z"
   },
   {
    "duration": 10,
    "start_time": "2022-01-11T19:18:11.526Z"
   },
   {
    "duration": 4,
    "start_time": "2022-01-11T19:18:53.555Z"
   },
   {
    "duration": 81,
    "start_time": "2022-01-11T19:18:53.562Z"
   },
   {
    "duration": 33,
    "start_time": "2022-01-11T19:18:53.647Z"
   },
   {
    "duration": 15,
    "start_time": "2022-01-11T19:18:53.683Z"
   },
   {
    "duration": 8,
    "start_time": "2022-01-11T19:18:53.701Z"
   },
   {
    "duration": 6,
    "start_time": "2022-01-11T19:18:53.711Z"
   },
   {
    "duration": 60,
    "start_time": "2022-01-11T19:18:53.719Z"
   },
   {
    "duration": 8,
    "start_time": "2022-01-11T19:18:53.782Z"
   },
   {
    "duration": 8,
    "start_time": "2022-01-11T19:18:53.795Z"
   },
   {
    "duration": 8,
    "start_time": "2022-01-11T19:18:53.806Z"
   },
   {
    "duration": 100,
    "start_time": "2022-01-11T19:18:53.816Z"
   },
   {
    "duration": 59,
    "start_time": "2022-01-11T19:18:53.919Z"
   },
   {
    "duration": 7,
    "start_time": "2022-01-11T19:18:53.981Z"
   },
   {
    "duration": 16,
    "start_time": "2022-01-11T19:18:53.990Z"
   },
   {
    "duration": 72,
    "start_time": "2022-01-11T19:18:54.008Z"
   },
   {
    "duration": 31,
    "start_time": "2022-01-11T19:18:54.082Z"
   },
   {
    "duration": 8,
    "start_time": "2022-01-11T19:18:54.115Z"
   },
   {
    "duration": 38,
    "start_time": "2022-01-11T19:18:54.126Z"
   },
   {
    "duration": 31,
    "start_time": "2022-01-11T19:18:54.167Z"
   },
   {
    "duration": 6,
    "start_time": "2022-01-11T19:18:54.201Z"
   },
   {
    "duration": 19,
    "start_time": "2022-01-11T19:18:54.210Z"
   },
   {
    "duration": 17,
    "start_time": "2022-01-11T19:18:54.263Z"
   },
   {
    "duration": 27,
    "start_time": "2022-01-11T19:18:54.282Z"
   },
   {
    "duration": 51,
    "start_time": "2022-01-11T19:18:54.312Z"
   },
   {
    "duration": 23,
    "start_time": "2022-01-11T19:18:54.366Z"
   },
   {
    "duration": 26,
    "start_time": "2022-01-11T19:18:54.392Z"
   },
   {
    "duration": 983,
    "start_time": "2022-01-11T19:18:54.422Z"
   },
   {
    "duration": 7,
    "start_time": "2022-01-11T19:18:56.786Z"
   },
   {
    "duration": 4,
    "start_time": "2022-01-11T19:18:57.666Z"
   },
   {
    "duration": 12,
    "start_time": "2022-01-11T19:18:58.485Z"
   },
   {
    "duration": 4,
    "start_time": "2022-01-11T19:22:23.046Z"
   },
   {
    "duration": 10,
    "start_time": "2022-01-11T19:22:25.577Z"
   },
   {
    "duration": 10,
    "start_time": "2022-01-11T19:22:35.986Z"
   },
   {
    "duration": 4,
    "start_time": "2022-01-11T19:46:19.506Z"
   },
   {
    "duration": 79,
    "start_time": "2022-01-11T19:46:19.517Z"
   },
   {
    "duration": 20,
    "start_time": "2022-01-11T19:46:19.599Z"
   },
   {
    "duration": 15,
    "start_time": "2022-01-11T19:46:19.622Z"
   },
   {
    "duration": 26,
    "start_time": "2022-01-11T19:46:19.640Z"
   },
   {
    "duration": 5,
    "start_time": "2022-01-11T19:46:19.668Z"
   },
   {
    "duration": 22,
    "start_time": "2022-01-11T19:46:19.675Z"
   },
   {
    "duration": 8,
    "start_time": "2022-01-11T19:46:19.699Z"
   },
   {
    "duration": 53,
    "start_time": "2022-01-11T19:46:19.710Z"
   },
   {
    "duration": 9,
    "start_time": "2022-01-11T19:46:19.769Z"
   },
   {
    "duration": 81,
    "start_time": "2022-01-11T19:46:19.781Z"
   },
   {
    "duration": 37,
    "start_time": "2022-01-11T19:46:19.865Z"
   },
   {
    "duration": 7,
    "start_time": "2022-01-11T19:46:19.904Z"
   },
   {
    "duration": 16,
    "start_time": "2022-01-11T19:46:19.914Z"
   },
   {
    "duration": 75,
    "start_time": "2022-01-11T19:46:19.933Z"
   },
   {
    "duration": 55,
    "start_time": "2022-01-11T19:46:20.010Z"
   },
   {
    "duration": 11,
    "start_time": "2022-01-11T19:46:20.068Z"
   },
   {
    "duration": 10,
    "start_time": "2022-01-11T19:46:20.082Z"
   },
   {
    "duration": 29,
    "start_time": "2022-01-11T19:46:20.095Z"
   },
   {
    "duration": 5,
    "start_time": "2022-01-11T19:46:20.162Z"
   },
   {
    "duration": 17,
    "start_time": "2022-01-11T19:46:20.170Z"
   },
   {
    "duration": 15,
    "start_time": "2022-01-11T19:46:20.190Z"
   },
   {
    "duration": 62,
    "start_time": "2022-01-11T19:46:20.208Z"
   },
   {
    "duration": 25,
    "start_time": "2022-01-11T19:46:20.273Z"
   },
   {
    "duration": 21,
    "start_time": "2022-01-11T19:46:20.301Z"
   },
   {
    "duration": 54,
    "start_time": "2022-01-11T19:46:20.324Z"
   },
   {
    "duration": 1024,
    "start_time": "2022-01-11T19:46:20.380Z"
   },
   {
    "duration": 7,
    "start_time": "2022-01-11T19:46:21.409Z"
   },
   {
    "duration": 7,
    "start_time": "2022-01-11T19:46:21.418Z"
   },
   {
    "duration": 38,
    "start_time": "2022-01-11T19:46:21.427Z"
   },
   {
    "duration": 5,
    "start_time": "2022-01-11T19:46:24.207Z"
   },
   {
    "duration": 3897,
    "start_time": "2022-01-11T19:46:25.587Z"
   },
   {
    "duration": 10,
    "start_time": "2022-01-11T19:46:58.647Z"
   },
   {
    "duration": 11,
    "start_time": "2022-01-11T19:47:38.507Z"
   },
   {
    "duration": 4,
    "start_time": "2022-01-11T19:54:48.398Z"
   },
   {
    "duration": 68,
    "start_time": "2022-01-11T19:54:49.467Z"
   },
   {
    "duration": 21,
    "start_time": "2022-01-11T19:54:53.008Z"
   },
   {
    "duration": 106,
    "start_time": "2022-01-11T19:55:11.106Z"
   },
   {
    "duration": 5,
    "start_time": "2022-01-11T19:55:50.104Z"
   },
   {
    "duration": 92,
    "start_time": "2022-01-11T19:55:51.392Z"
   },
   {
    "duration": 95,
    "start_time": "2022-01-11T19:56:26.372Z"
   },
   {
    "duration": 63,
    "start_time": "2022-01-11T19:56:37.024Z"
   },
   {
    "duration": 368,
    "start_time": "2022-01-11T19:57:44.424Z"
   },
   {
    "duration": 4,
    "start_time": "2022-01-11T19:57:50.792Z"
   },
   {
    "duration": 181,
    "start_time": "2022-01-11T19:57:51.220Z"
   },
   {
    "duration": 4,
    "start_time": "2022-01-11T19:58:10.045Z"
   },
   {
    "duration": 384,
    "start_time": "2022-01-11T19:58:10.592Z"
   },
   {
    "duration": 141,
    "start_time": "2022-01-11T19:58:16.432Z"
   },
   {
    "duration": 71,
    "start_time": "2022-01-11T19:58:26.056Z"
   },
   {
    "duration": 253,
    "start_time": "2022-01-11T19:58:30.273Z"
   },
   {
    "duration": 67,
    "start_time": "2022-01-11T19:58:35.124Z"
   },
   {
    "duration": 21,
    "start_time": "2022-01-11T19:58:36.784Z"
   },
   {
    "duration": 5,
    "start_time": "2022-01-11T19:59:20.953Z"
   },
   {
    "duration": 74,
    "start_time": "2022-01-11T19:59:43.716Z"
   },
   {
    "duration": 5,
    "start_time": "2022-01-11T19:59:49.344Z"
   },
   {
    "duration": 64,
    "start_time": "2022-01-11T19:59:56.823Z"
   },
   {
    "duration": 3,
    "start_time": "2022-01-11T20:00:09.455Z"
   },
   {
    "duration": 63,
    "start_time": "2022-01-11T20:00:09.935Z"
   },
   {
    "duration": 21,
    "start_time": "2022-01-11T20:00:10.511Z"
   },
   {
    "duration": 3,
    "start_time": "2022-01-11T20:00:16.536Z"
   },
   {
    "duration": 6,
    "start_time": "2022-01-11T20:00:17.371Z"
   },
   {
    "duration": 26,
    "start_time": "2022-01-11T20:00:24.944Z"
   },
   {
    "duration": 13,
    "start_time": "2022-01-11T20:00:34.237Z"
   },
   {
    "duration": 27,
    "start_time": "2022-01-11T20:00:35.603Z"
   },
   {
    "duration": 4,
    "start_time": "2022-01-11T20:00:40.164Z"
   },
   {
    "duration": 5,
    "start_time": "2022-01-11T20:00:40.731Z"
   },
   {
    "duration": 20,
    "start_time": "2022-01-11T20:00:41.625Z"
   },
   {
    "duration": 3,
    "start_time": "2022-01-11T20:01:00.709Z"
   },
   {
    "duration": 7,
    "start_time": "2022-01-11T20:01:01.638Z"
   },
   {
    "duration": 63,
    "start_time": "2022-01-11T20:01:08.537Z"
   },
   {
    "duration": 21,
    "start_time": "2022-01-11T20:01:09.918Z"
   },
   {
    "duration": 5,
    "start_time": "2022-01-11T20:01:27.200Z"
   },
   {
    "duration": 65,
    "start_time": "2022-01-11T20:01:27.210Z"
   },
   {
    "duration": 19,
    "start_time": "2022-01-11T20:01:27.279Z"
   },
   {
    "duration": 16,
    "start_time": "2022-01-11T20:01:27.301Z"
   },
   {
    "duration": 8,
    "start_time": "2022-01-11T20:01:27.319Z"
   },
   {
    "duration": 35,
    "start_time": "2022-01-11T20:01:27.330Z"
   },
   {
    "duration": 21,
    "start_time": "2022-01-11T20:01:27.367Z"
   },
   {
    "duration": 8,
    "start_time": "2022-01-11T20:01:27.390Z"
   },
   {
    "duration": 7,
    "start_time": "2022-01-11T20:01:27.402Z"
   },
   {
    "duration": 51,
    "start_time": "2022-01-11T20:01:27.412Z"
   },
   {
    "duration": 60,
    "start_time": "2022-01-11T20:01:27.465Z"
   },
   {
    "duration": 65,
    "start_time": "2022-01-11T20:01:27.527Z"
   },
   {
    "duration": 8,
    "start_time": "2022-01-11T20:01:27.595Z"
   },
   {
    "duration": 17,
    "start_time": "2022-01-11T20:01:27.606Z"
   },
   {
    "duration": 76,
    "start_time": "2022-01-11T20:01:27.626Z"
   },
   {
    "duration": 68,
    "start_time": "2022-01-11T20:01:27.705Z"
   },
   {
    "duration": 11,
    "start_time": "2022-01-11T20:01:27.777Z"
   },
   {
    "duration": 10,
    "start_time": "2022-01-11T20:01:27.791Z"
   },
   {
    "duration": 48,
    "start_time": "2022-01-11T20:01:27.804Z"
   },
   {
    "duration": 4,
    "start_time": "2022-01-11T20:01:27.864Z"
   },
   {
    "duration": 18,
    "start_time": "2022-01-11T20:01:27.871Z"
   },
   {
    "duration": 18,
    "start_time": "2022-01-11T20:01:27.892Z"
   },
   {
    "duration": 75,
    "start_time": "2022-01-11T20:01:27.913Z"
   },
   {
    "duration": 25,
    "start_time": "2022-01-11T20:01:27.991Z"
   },
   {
    "duration": 45,
    "start_time": "2022-01-11T20:01:28.018Z"
   },
   {
    "duration": 29,
    "start_time": "2022-01-11T20:01:28.065Z"
   },
   {
    "duration": 1006,
    "start_time": "2022-01-11T20:01:28.098Z"
   },
   {
    "duration": 831,
    "start_time": "2022-01-11T20:18:15.309Z"
   },
   {
    "duration": 3,
    "start_time": "2022-01-11T20:19:24.098Z"
   },
   {
    "duration": 69,
    "start_time": "2022-01-11T20:19:24.105Z"
   },
   {
    "duration": 19,
    "start_time": "2022-01-11T20:19:24.177Z"
   },
   {
    "duration": 20,
    "start_time": "2022-01-11T20:19:24.201Z"
   },
   {
    "duration": 44,
    "start_time": "2022-01-11T20:19:24.224Z"
   },
   {
    "duration": 7,
    "start_time": "2022-01-11T20:19:24.271Z"
   },
   {
    "duration": 24,
    "start_time": "2022-01-11T20:19:24.280Z"
   },
   {
    "duration": 53,
    "start_time": "2022-01-11T20:19:24.310Z"
   },
   {
    "duration": 9,
    "start_time": "2022-01-11T20:19:24.368Z"
   },
   {
    "duration": 11,
    "start_time": "2022-01-11T20:19:24.381Z"
   },
   {
    "duration": 99,
    "start_time": "2022-01-11T20:19:24.396Z"
   },
   {
    "duration": 33,
    "start_time": "2022-01-11T20:19:24.498Z"
   },
   {
    "duration": 29,
    "start_time": "2022-01-11T20:19:24.534Z"
   },
   {
    "duration": 15,
    "start_time": "2022-01-11T20:19:24.566Z"
   },
   {
    "duration": 46,
    "start_time": "2022-01-11T20:19:24.583Z"
   },
   {
    "duration": 58,
    "start_time": "2022-01-11T20:19:24.631Z"
   },
   {
    "duration": 8,
    "start_time": "2022-01-11T20:19:24.692Z"
   },
   {
    "duration": 8,
    "start_time": "2022-01-11T20:19:24.703Z"
   },
   {
    "duration": 59,
    "start_time": "2022-01-11T20:19:24.714Z"
   },
   {
    "duration": 6,
    "start_time": "2022-01-11T20:19:24.777Z"
   },
   {
    "duration": 17,
    "start_time": "2022-01-11T20:19:24.786Z"
   },
   {
    "duration": 16,
    "start_time": "2022-01-11T20:19:24.806Z"
   },
   {
    "duration": 25,
    "start_time": "2022-01-11T20:19:24.866Z"
   },
   {
    "duration": 25,
    "start_time": "2022-01-11T20:19:24.894Z"
   },
   {
    "duration": 65,
    "start_time": "2022-01-11T20:19:24.922Z"
   },
   {
    "duration": 30,
    "start_time": "2022-01-11T20:19:24.990Z"
   },
   {
    "duration": 1046,
    "start_time": "2022-01-11T20:19:25.023Z"
   },
   {
    "duration": 347,
    "start_time": "2022-01-11T20:19:35.730Z"
   },
   {
    "duration": 3,
    "start_time": "2022-01-11T20:24:57.814Z"
   },
   {
    "duration": 64,
    "start_time": "2022-01-11T20:24:57.824Z"
   },
   {
    "duration": 19,
    "start_time": "2022-01-11T20:24:57.891Z"
   },
   {
    "duration": 15,
    "start_time": "2022-01-11T20:24:57.913Z"
   },
   {
    "duration": 37,
    "start_time": "2022-01-11T20:24:57.931Z"
   },
   {
    "duration": 5,
    "start_time": "2022-01-11T20:24:57.971Z"
   },
   {
    "duration": 24,
    "start_time": "2022-01-11T20:24:57.978Z"
   },
   {
    "duration": 8,
    "start_time": "2022-01-11T20:24:58.004Z"
   },
   {
    "duration": 47,
    "start_time": "2022-01-11T20:24:58.016Z"
   },
   {
    "duration": 10,
    "start_time": "2022-01-11T20:24:58.067Z"
   },
   {
    "duration": 59,
    "start_time": "2022-01-11T20:24:58.079Z"
   },
   {
    "duration": 33,
    "start_time": "2022-01-11T20:24:58.162Z"
   },
   {
    "duration": 6,
    "start_time": "2022-01-11T20:24:58.198Z"
   },
   {
    "duration": 15,
    "start_time": "2022-01-11T20:24:58.207Z"
   },
   {
    "duration": 82,
    "start_time": "2022-01-11T20:24:58.224Z"
   },
   {
    "duration": 34,
    "start_time": "2022-01-11T20:24:58.309Z"
   },
   {
    "duration": 8,
    "start_time": "2022-01-11T20:24:58.362Z"
   },
   {
    "duration": 8,
    "start_time": "2022-01-11T20:24:58.373Z"
   },
   {
    "duration": 28,
    "start_time": "2022-01-11T20:24:58.383Z"
   },
   {
    "duration": 5,
    "start_time": "2022-01-11T20:24:58.413Z"
   },
   {
    "duration": 58,
    "start_time": "2022-01-11T20:24:58.420Z"
   },
   {
    "duration": 15,
    "start_time": "2022-01-11T20:24:58.482Z"
   },
   {
    "duration": 74,
    "start_time": "2022-01-11T20:24:58.500Z"
   },
   {
    "duration": 35,
    "start_time": "2022-01-11T20:24:58.580Z"
   },
   {
    "duration": 52,
    "start_time": "2022-01-11T20:24:58.619Z"
   },
   {
    "duration": 29,
    "start_time": "2022-01-11T20:24:58.675Z"
   },
   {
    "duration": 1023,
    "start_time": "2022-01-11T20:24:58.707Z"
   },
   {
    "duration": 4,
    "start_time": "2022-01-11T20:25:04.054Z"
   },
   {
    "duration": 12,
    "start_time": "2022-01-11T20:25:05.462Z"
   },
   {
    "duration": 26,
    "start_time": "2022-01-11T20:25:15.529Z"
   },
   {
    "duration": 546,
    "start_time": "2022-01-11T20:26:07.733Z"
   },
   {
    "duration": 22,
    "start_time": "2022-01-11T20:27:54.739Z"
   },
   {
    "duration": 30,
    "start_time": "2022-01-11T20:28:05.465Z"
   },
   {
    "duration": 6,
    "start_time": "2022-01-11T20:34:57.206Z"
   },
   {
    "duration": 28,
    "start_time": "2022-01-11T20:37:37.553Z"
   },
   {
    "duration": 42,
    "start_time": "2022-01-11T20:38:03.535Z"
   },
   {
    "duration": 114,
    "start_time": "2022-01-11T20:46:50.992Z"
   },
   {
    "duration": 116,
    "start_time": "2022-01-11T20:46:57.404Z"
   },
   {
    "duration": 184,
    "start_time": "2022-01-11T20:47:06.637Z"
   },
   {
    "duration": 7,
    "start_time": "2022-01-11T20:47:16.780Z"
   },
   {
    "duration": 6,
    "start_time": "2022-01-11T20:47:30.621Z"
   },
   {
    "duration": 145,
    "start_time": "2022-01-11T20:50:28.705Z"
   },
   {
    "duration": 97,
    "start_time": "2022-01-11T20:50:34.005Z"
   },
   {
    "duration": 105,
    "start_time": "2022-01-11T20:51:11.673Z"
   },
   {
    "duration": 102,
    "start_time": "2022-01-11T20:51:16.073Z"
   },
   {
    "duration": 104,
    "start_time": "2022-01-11T20:51:32.032Z"
   },
   {
    "duration": 107,
    "start_time": "2022-01-11T20:53:09.738Z"
   },
   {
    "duration": 137,
    "start_time": "2022-01-11T20:53:57.333Z"
   },
   {
    "duration": 97,
    "start_time": "2022-01-11T20:54:06.906Z"
   },
   {
    "duration": 100,
    "start_time": "2022-01-11T20:54:10.632Z"
   },
   {
    "duration": 148,
    "start_time": "2022-01-11T20:54:22.233Z"
   },
   {
    "duration": 100,
    "start_time": "2022-01-11T20:54:33.644Z"
   },
   {
    "duration": 6,
    "start_time": "2022-01-11T20:54:58.552Z"
   },
   {
    "duration": 5,
    "start_time": "2022-01-11T20:55:12.341Z"
   },
   {
    "duration": 5,
    "start_time": "2022-01-11T20:55:23.572Z"
   },
   {
    "duration": 7,
    "start_time": "2022-01-11T20:57:39.242Z"
   },
   {
    "duration": 6,
    "start_time": "2022-01-11T20:58:18.593Z"
   },
   {
    "duration": 9,
    "start_time": "2022-01-11T20:58:27.173Z"
   },
   {
    "duration": 4,
    "start_time": "2022-01-11T20:59:09.164Z"
   },
   {
    "duration": 67,
    "start_time": "2022-01-11T20:59:09.175Z"
   },
   {
    "duration": 20,
    "start_time": "2022-01-11T20:59:09.264Z"
   },
   {
    "duration": 19,
    "start_time": "2022-01-11T20:59:09.289Z"
   },
   {
    "duration": 12,
    "start_time": "2022-01-11T20:59:09.311Z"
   },
   {
    "duration": 7,
    "start_time": "2022-01-11T20:59:09.363Z"
   },
   {
    "duration": 30,
    "start_time": "2022-01-11T20:59:09.372Z"
   },
   {
    "duration": 10,
    "start_time": "2022-01-11T20:59:09.405Z"
   },
   {
    "duration": 47,
    "start_time": "2022-01-11T20:59:09.418Z"
   },
   {
    "duration": 8,
    "start_time": "2022-01-11T20:59:09.469Z"
   },
   {
    "duration": 83,
    "start_time": "2022-01-11T20:59:09.481Z"
   },
   {
    "duration": 34,
    "start_time": "2022-01-11T20:59:09.567Z"
   },
   {
    "duration": 6,
    "start_time": "2022-01-11T20:59:09.603Z"
   },
   {
    "duration": 52,
    "start_time": "2022-01-11T20:59:09.612Z"
   },
   {
    "duration": 46,
    "start_time": "2022-01-11T20:59:09.667Z"
   },
   {
    "duration": 51,
    "start_time": "2022-01-11T20:59:09.716Z"
   },
   {
    "duration": 9,
    "start_time": "2022-01-11T20:59:09.770Z"
   },
   {
    "duration": 10,
    "start_time": "2022-01-11T20:59:09.782Z"
   },
   {
    "duration": 27,
    "start_time": "2022-01-11T20:59:09.795Z"
   },
   {
    "duration": 41,
    "start_time": "2022-01-11T20:59:09.825Z"
   },
   {
    "duration": 19,
    "start_time": "2022-01-11T20:59:09.868Z"
   },
   {
    "duration": 18,
    "start_time": "2022-01-11T20:59:09.890Z"
   },
   {
    "duration": 66,
    "start_time": "2022-01-11T20:59:09.910Z"
   },
   {
    "duration": 24,
    "start_time": "2022-01-11T20:59:09.978Z"
   },
   {
    "duration": 23,
    "start_time": "2022-01-11T20:59:10.005Z"
   },
   {
    "duration": 56,
    "start_time": "2022-01-11T20:59:10.031Z"
   },
   {
    "duration": 973,
    "start_time": "2022-01-11T20:59:10.090Z"
   },
   {
    "duration": 4,
    "start_time": "2022-01-11T20:59:16.924Z"
   },
   {
    "duration": 28,
    "start_time": "2022-01-11T20:59:19.053Z"
   },
   {
    "duration": 7,
    "start_time": "2022-01-11T21:05:20.952Z"
   },
   {
    "duration": 7,
    "start_time": "2022-01-11T21:11:11.674Z"
   },
   {
    "duration": 4,
    "start_time": "2022-01-11T21:12:32.253Z"
   },
   {
    "duration": 5,
    "start_time": "2022-01-11T21:12:43.745Z"
   },
   {
    "duration": 122,
    "start_time": "2022-01-11T21:15:36.546Z"
   },
   {
    "duration": 99,
    "start_time": "2022-01-11T21:15:51.725Z"
   },
   {
    "duration": 99,
    "start_time": "2022-01-11T21:16:19.311Z"
   },
   {
    "duration": 6,
    "start_time": "2022-01-11T21:17:15.042Z"
   },
   {
    "duration": 101,
    "start_time": "2022-01-11T21:17:58.661Z"
   },
   {
    "duration": 97,
    "start_time": "2022-01-11T21:18:08.789Z"
   },
   {
    "duration": 99,
    "start_time": "2022-01-11T21:18:29.387Z"
   },
   {
    "duration": 95,
    "start_time": "2022-01-11T21:18:37.470Z"
   },
   {
    "duration": 5,
    "start_time": "2022-01-11T21:19:02.397Z"
   },
   {
    "duration": 5,
    "start_time": "2022-01-11T21:19:09.301Z"
   },
   {
    "duration": 553,
    "start_time": "2022-01-12T17:34:54.629Z"
   },
   {
    "duration": 51,
    "start_time": "2022-01-12T17:34:55.184Z"
   },
   {
    "duration": 18,
    "start_time": "2022-01-12T17:34:55.237Z"
   },
   {
    "duration": 14,
    "start_time": "2022-01-12T17:34:55.257Z"
   },
   {
    "duration": 13,
    "start_time": "2022-01-12T17:34:55.273Z"
   },
   {
    "duration": 4,
    "start_time": "2022-01-12T17:34:55.298Z"
   },
   {
    "duration": 15,
    "start_time": "2022-01-12T17:34:55.303Z"
   },
   {
    "duration": 5,
    "start_time": "2022-01-12T17:34:55.320Z"
   },
   {
    "duration": 7,
    "start_time": "2022-01-12T17:34:55.327Z"
   },
   {
    "duration": 7,
    "start_time": "2022-01-12T17:34:55.336Z"
   },
   {
    "duration": 60,
    "start_time": "2022-01-12T17:34:55.344Z"
   },
   {
    "duration": 21,
    "start_time": "2022-01-12T17:34:55.406Z"
   },
   {
    "duration": 5,
    "start_time": "2022-01-12T17:34:55.428Z"
   },
   {
    "duration": 13,
    "start_time": "2022-01-12T17:34:55.434Z"
   },
   {
    "duration": 53,
    "start_time": "2022-01-12T17:34:55.449Z"
   },
   {
    "duration": 2,
    "start_time": "2022-01-12T17:35:05.641Z"
   },
   {
    "duration": 50,
    "start_time": "2022-01-12T17:35:05.647Z"
   },
   {
    "duration": 14,
    "start_time": "2022-01-12T17:35:05.699Z"
   },
   {
    "duration": 11,
    "start_time": "2022-01-12T17:35:05.716Z"
   },
   {
    "duration": 6,
    "start_time": "2022-01-12T17:35:05.730Z"
   },
   {
    "duration": 5,
    "start_time": "2022-01-12T17:35:05.737Z"
   },
   {
    "duration": 17,
    "start_time": "2022-01-12T17:35:05.744Z"
   },
   {
    "duration": 39,
    "start_time": "2022-01-12T17:35:05.763Z"
   },
   {
    "duration": 7,
    "start_time": "2022-01-12T17:35:05.805Z"
   },
   {
    "duration": 7,
    "start_time": "2022-01-12T17:35:05.814Z"
   },
   {
    "duration": 36,
    "start_time": "2022-01-12T17:35:05.822Z"
   },
   {
    "duration": 47,
    "start_time": "2022-01-12T17:35:05.860Z"
   },
   {
    "duration": 5,
    "start_time": "2022-01-12T17:35:05.908Z"
   },
   {
    "duration": 13,
    "start_time": "2022-01-12T17:35:05.915Z"
   },
   {
    "duration": 29,
    "start_time": "2022-01-12T17:35:17.560Z"
   },
   {
    "duration": 21,
    "start_time": "2022-01-12T17:35:48.580Z"
   },
   {
    "duration": 8,
    "start_time": "2022-01-12T17:35:50.009Z"
   },
   {
    "duration": 6,
    "start_time": "2022-01-12T17:36:44.361Z"
   },
   {
    "duration": 7,
    "start_time": "2022-01-12T17:36:45.593Z"
   },
   {
    "duration": 15,
    "start_time": "2022-01-12T17:36:49.762Z"
   },
   {
    "duration": 4,
    "start_time": "2022-01-12T17:38:45.922Z"
   },
   {
    "duration": 11,
    "start_time": "2022-01-12T17:38:46.841Z"
   },
   {
    "duration": 11,
    "start_time": "2022-01-12T17:38:49.487Z"
   },
   {
    "duration": 18,
    "start_time": "2022-01-12T17:39:07.886Z"
   },
   {
    "duration": 18,
    "start_time": "2022-01-12T17:39:08.437Z"
   },
   {
    "duration": 15,
    "start_time": "2022-01-12T17:39:09.028Z"
   },
   {
    "duration": 5,
    "start_time": "2022-01-12T17:39:15.762Z"
   },
   {
    "duration": 679,
    "start_time": "2022-01-12T17:39:17.132Z"
   },
   {
    "duration": 3,
    "start_time": "2022-01-12T17:39:40.956Z"
   },
   {
    "duration": 18,
    "start_time": "2022-01-12T17:40:16.791Z"
   },
   {
    "duration": 25,
    "start_time": "2022-01-12T17:43:31.059Z"
   },
   {
    "duration": 5,
    "start_time": "2022-01-12T17:43:35.258Z"
   },
   {
    "duration": 4,
    "start_time": "2022-01-12T17:43:38.758Z"
   },
   {
    "duration": 3,
    "start_time": "2022-01-12T18:20:48.499Z"
   },
   {
    "duration": 50,
    "start_time": "2022-01-12T18:20:48.507Z"
   },
   {
    "duration": 13,
    "start_time": "2022-01-12T18:20:48.558Z"
   },
   {
    "duration": 25,
    "start_time": "2022-01-12T18:20:48.573Z"
   },
   {
    "duration": 6,
    "start_time": "2022-01-12T18:20:48.600Z"
   },
   {
    "duration": 5,
    "start_time": "2022-01-12T18:20:48.607Z"
   },
   {
    "duration": 12,
    "start_time": "2022-01-12T18:20:48.614Z"
   },
   {
    "duration": 5,
    "start_time": "2022-01-12T18:20:48.628Z"
   },
   {
    "duration": 5,
    "start_time": "2022-01-12T18:20:48.634Z"
   },
   {
    "duration": 5,
    "start_time": "2022-01-12T18:20:48.642Z"
   },
   {
    "duration": 73,
    "start_time": "2022-01-12T18:20:48.649Z"
   },
   {
    "duration": 22,
    "start_time": "2022-01-12T18:20:48.724Z"
   },
   {
    "duration": 5,
    "start_time": "2022-01-12T18:20:48.747Z"
   },
   {
    "duration": 13,
    "start_time": "2022-01-12T18:20:48.754Z"
   },
   {
    "duration": 52,
    "start_time": "2022-01-12T18:20:48.768Z"
   },
   {
    "duration": 23,
    "start_time": "2022-01-12T18:20:48.822Z"
   },
   {
    "duration": 7,
    "start_time": "2022-01-12T18:20:48.846Z"
   },
   {
    "duration": 7,
    "start_time": "2022-01-12T18:20:48.855Z"
   },
   {
    "duration": 45,
    "start_time": "2022-01-12T18:20:48.864Z"
   },
   {
    "duration": 4,
    "start_time": "2022-01-12T18:20:48.911Z"
   },
   {
    "duration": 12,
    "start_time": "2022-01-12T18:20:48.917Z"
   },
   {
    "duration": 13,
    "start_time": "2022-01-12T18:20:48.931Z"
   },
   {
    "duration": 17,
    "start_time": "2022-01-12T18:20:48.946Z"
   },
   {
    "duration": 49,
    "start_time": "2022-01-12T18:20:48.965Z"
   },
   {
    "duration": 15,
    "start_time": "2022-01-12T18:20:49.015Z"
   },
   {
    "duration": 17,
    "start_time": "2022-01-12T18:20:49.032Z"
   },
   {
    "duration": 692,
    "start_time": "2022-01-12T18:20:49.050Z"
   },
   {
    "duration": 3,
    "start_time": "2022-01-12T18:20:49.746Z"
   },
   {
    "duration": 18,
    "start_time": "2022-01-12T18:21:11.619Z"
   },
   {
    "duration": 17,
    "start_time": "2022-01-12T18:21:14.880Z"
   },
   {
    "duration": 3,
    "start_time": "2022-01-12T18:26:36.779Z"
   },
   {
    "duration": 17,
    "start_time": "2022-01-12T18:27:40.712Z"
   },
   {
    "duration": 20,
    "start_time": "2022-01-12T18:28:20.040Z"
   },
   {
    "duration": 20,
    "start_time": "2022-01-12T18:28:35.191Z"
   },
   {
    "duration": 3,
    "start_time": "2022-01-12T18:29:37.160Z"
   },
   {
    "duration": 18,
    "start_time": "2022-01-12T18:29:38.499Z"
   },
   {
    "duration": 22,
    "start_time": "2022-01-12T18:31:34.919Z"
   },
   {
    "duration": 2,
    "start_time": "2022-01-12T18:32:26.627Z"
   },
   {
    "duration": 53,
    "start_time": "2022-01-12T18:32:26.631Z"
   },
   {
    "duration": 13,
    "start_time": "2022-01-12T18:32:26.687Z"
   },
   {
    "duration": 14,
    "start_time": "2022-01-12T18:32:26.702Z"
   },
   {
    "duration": 6,
    "start_time": "2022-01-12T18:32:26.718Z"
   },
   {
    "duration": 7,
    "start_time": "2022-01-12T18:32:26.726Z"
   },
   {
    "duration": 17,
    "start_time": "2022-01-12T18:32:26.734Z"
   },
   {
    "duration": 5,
    "start_time": "2022-01-12T18:32:26.754Z"
   },
   {
    "duration": 42,
    "start_time": "2022-01-12T18:32:26.761Z"
   },
   {
    "duration": 6,
    "start_time": "2022-01-12T18:32:26.805Z"
   },
   {
    "duration": 41,
    "start_time": "2022-01-12T18:32:26.813Z"
   },
   {
    "duration": 22,
    "start_time": "2022-01-12T18:32:26.856Z"
   },
   {
    "duration": 20,
    "start_time": "2022-01-12T18:32:26.880Z"
   },
   {
    "duration": 13,
    "start_time": "2022-01-12T18:32:26.902Z"
   },
   {
    "duration": 31,
    "start_time": "2022-01-12T18:32:26.917Z"
   },
   {
    "duration": 52,
    "start_time": "2022-01-12T18:32:26.950Z"
   },
   {
    "duration": 8,
    "start_time": "2022-01-12T18:32:27.004Z"
   },
   {
    "duration": 11,
    "start_time": "2022-01-12T18:32:27.013Z"
   },
   {
    "duration": 19,
    "start_time": "2022-01-12T18:32:27.025Z"
   },
   {
    "duration": 5,
    "start_time": "2022-01-12T18:32:27.046Z"
   },
   {
    "duration": 11,
    "start_time": "2022-01-12T18:32:27.053Z"
   },
   {
    "duration": 34,
    "start_time": "2022-01-12T18:32:27.066Z"
   },
   {
    "duration": 19,
    "start_time": "2022-01-12T18:32:27.103Z"
   },
   {
    "duration": 18,
    "start_time": "2022-01-12T18:32:27.125Z"
   },
   {
    "duration": 15,
    "start_time": "2022-01-12T18:32:27.145Z"
   },
   {
    "duration": 47,
    "start_time": "2022-01-12T18:32:27.162Z"
   },
   {
    "duration": 743,
    "start_time": "2022-01-12T18:32:27.211Z"
   },
   {
    "duration": 3,
    "start_time": "2022-01-12T18:32:27.956Z"
   },
   {
    "duration": 20,
    "start_time": "2022-01-12T18:32:27.961Z"
   },
   {
    "duration": 17,
    "start_time": "2022-01-12T18:32:45.559Z"
   },
   {
    "duration": 3,
    "start_time": "2022-01-12T18:32:50.152Z"
   },
   {
    "duration": 324,
    "start_time": "2022-01-12T18:32:51.319Z"
   },
   {
    "duration": 23,
    "start_time": "2022-01-12T18:33:25.939Z"
   },
   {
    "duration": 19,
    "start_time": "2022-01-12T18:33:42.879Z"
   },
   {
    "duration": 1769,
    "start_time": "2022-01-12T18:35:40.412Z"
   },
   {
    "duration": 21,
    "start_time": "2022-01-12T18:35:51.799Z"
   },
   {
    "duration": 18,
    "start_time": "2022-01-12T18:39:22.423Z"
   },
   {
    "duration": 3,
    "start_time": "2022-01-12T18:42:38.880Z"
   },
   {
    "duration": 5,
    "start_time": "2022-01-12T18:44:33.832Z"
   },
   {
    "duration": 4,
    "start_time": "2022-01-12T18:44:54.080Z"
   },
   {
    "duration": 5,
    "start_time": "2022-01-12T18:45:26.880Z"
   },
   {
    "duration": 3,
    "start_time": "2022-01-12T18:58:03.834Z"
   },
   {
    "duration": 20,
    "start_time": "2022-01-12T19:00:00.193Z"
   },
   {
    "duration": 15,
    "start_time": "2022-01-12T19:02:10.933Z"
   },
   {
    "duration": 4,
    "start_time": "2022-01-12T19:02:34.580Z"
   },
   {
    "duration": 14,
    "start_time": "2022-01-12T19:02:35.932Z"
   },
   {
    "duration": 3,
    "start_time": "2022-01-12T19:03:04.642Z"
   },
   {
    "duration": 15,
    "start_time": "2022-01-12T19:03:07.992Z"
   },
   {
    "duration": 3,
    "start_time": "2022-01-12T19:04:50.432Z"
   },
   {
    "duration": 14,
    "start_time": "2022-01-12T19:04:51.652Z"
   },
   {
    "duration": 3,
    "start_time": "2022-01-12T19:05:04.461Z"
   },
   {
    "duration": 14,
    "start_time": "2022-01-12T19:05:06.192Z"
   },
   {
    "duration": 3,
    "start_time": "2022-01-12T19:05:24.953Z"
   },
   {
    "duration": 14,
    "start_time": "2022-01-12T19:05:25.991Z"
   },
   {
    "duration": 3,
    "start_time": "2022-01-12T19:11:47.482Z"
   },
   {
    "duration": 2849,
    "start_time": "2022-01-12T19:13:33.873Z"
   },
   {
    "duration": 93,
    "start_time": "2022-01-12T19:14:28.700Z"
   },
   {
    "duration": 4,
    "start_time": "2022-01-12T19:26:04.452Z"
   },
   {
    "duration": 22,
    "start_time": "2022-01-12T19:27:30.032Z"
   },
   {
    "duration": 5,
    "start_time": "2022-01-12T19:31:28.140Z"
   },
   {
    "duration": 3,
    "start_time": "2022-01-12T19:32:26.553Z"
   },
   {
    "duration": 5,
    "start_time": "2022-01-12T19:40:24.840Z"
   },
   {
    "duration": 18,
    "start_time": "2022-01-12T19:41:38.020Z"
   },
   {
    "duration": 4,
    "start_time": "2022-01-12T19:45:08.760Z"
   },
   {
    "duration": 5,
    "start_time": "2022-01-12T19:45:17.848Z"
   },
   {
    "duration": 5,
    "start_time": "2022-01-12T19:45:38.100Z"
   },
   {
    "duration": 4,
    "start_time": "2022-01-12T19:45:50.661Z"
   },
   {
    "duration": 6,
    "start_time": "2022-01-12T19:46:13.092Z"
   },
   {
    "duration": 6476,
    "start_time": "2022-01-12T19:51:35.523Z"
   },
   {
    "duration": 2,
    "start_time": "2022-01-12T19:51:59.975Z"
   },
   {
    "duration": 54,
    "start_time": "2022-01-12T19:51:59.982Z"
   },
   {
    "duration": 14,
    "start_time": "2022-01-12T19:52:00.038Z"
   },
   {
    "duration": 16,
    "start_time": "2022-01-12T19:52:00.054Z"
   },
   {
    "duration": 28,
    "start_time": "2022-01-12T19:52:00.072Z"
   },
   {
    "duration": 4,
    "start_time": "2022-01-12T19:52:00.102Z"
   },
   {
    "duration": 27,
    "start_time": "2022-01-12T19:52:00.108Z"
   },
   {
    "duration": 5,
    "start_time": "2022-01-12T19:52:00.137Z"
   },
   {
    "duration": 7,
    "start_time": "2022-01-12T19:52:00.144Z"
   },
   {
    "duration": 8,
    "start_time": "2022-01-12T19:52:00.154Z"
   },
   {
    "duration": 63,
    "start_time": "2022-01-12T19:52:00.164Z"
   },
   {
    "duration": 24,
    "start_time": "2022-01-12T19:52:00.229Z"
   },
   {
    "duration": 5,
    "start_time": "2022-01-12T19:52:00.254Z"
   },
   {
    "duration": 37,
    "start_time": "2022-01-12T19:52:00.261Z"
   },
   {
    "duration": 32,
    "start_time": "2022-01-12T19:52:00.300Z"
   },
   {
    "duration": 23,
    "start_time": "2022-01-12T19:52:00.333Z"
   },
   {
    "duration": 11,
    "start_time": "2022-01-12T19:52:00.358Z"
   },
   {
    "duration": 29,
    "start_time": "2022-01-12T19:52:00.371Z"
   },
   {
    "duration": 17,
    "start_time": "2022-01-12T19:52:00.402Z"
   },
   {
    "duration": 4,
    "start_time": "2022-01-12T19:52:00.421Z"
   },
   {
    "duration": 14,
    "start_time": "2022-01-12T19:52:00.426Z"
   },
   {
    "duration": 14,
    "start_time": "2022-01-12T19:52:00.442Z"
   },
   {
    "duration": 49,
    "start_time": "2022-01-12T19:52:00.458Z"
   },
   {
    "duration": 19,
    "start_time": "2022-01-12T19:52:00.509Z"
   },
   {
    "duration": 16,
    "start_time": "2022-01-12T19:52:00.530Z"
   },
   {
    "duration": 19,
    "start_time": "2022-01-12T19:52:00.547Z"
   },
   {
    "duration": 755,
    "start_time": "2022-01-12T19:52:00.568Z"
   },
   {
    "duration": 3,
    "start_time": "2022-01-12T19:52:01.328Z"
   },
   {
    "duration": 30,
    "start_time": "2022-01-12T19:52:01.334Z"
   },
   {
    "duration": 35,
    "start_time": "2022-01-12T19:52:01.366Z"
   },
   {
    "duration": 4,
    "start_time": "2022-01-12T19:52:01.403Z"
   },
   {
    "duration": 36,
    "start_time": "2022-01-12T19:52:01.409Z"
   },
   {
    "duration": 5,
    "start_time": "2022-01-12T19:52:01.447Z"
   },
   {
    "duration": 13,
    "start_time": "2022-01-12T19:52:01.454Z"
   },
   {
    "duration": 7,
    "start_time": "2022-01-12T19:52:01.469Z"
   },
   {
    "duration": 30,
    "start_time": "2022-01-12T19:52:01.478Z"
   },
   {
    "duration": 4,
    "start_time": "2022-01-12T19:52:01.509Z"
   },
   {
    "duration": 3029,
    "start_time": "2022-01-12T19:52:01.515Z"
   },
   {
    "duration": 18,
    "start_time": "2022-01-12T19:52:04.546Z"
   },
   {
    "duration": 4,
    "start_time": "2022-01-12T19:52:04.566Z"
   },
   {
    "duration": 27,
    "start_time": "2022-01-12T19:52:04.572Z"
   },
   {
    "duration": 20,
    "start_time": "2022-01-12T19:52:04.600Z"
   },
   {
    "duration": 5,
    "start_time": "2022-01-12T19:52:04.622Z"
   },
   {
    "duration": 19,
    "start_time": "2022-01-12T19:52:17.482Z"
   },
   {
    "duration": 7359,
    "start_time": "2022-01-12T19:52:18.924Z"
   },
   {
    "duration": 278,
    "start_time": "2022-01-12T19:52:58.630Z"
   },
   {
    "duration": 7,
    "start_time": "2022-01-12T19:53:28.971Z"
   },
   {
    "duration": 6,
    "start_time": "2022-01-12T19:54:10.923Z"
   },
   {
    "duration": 274,
    "start_time": "2022-01-12T19:55:42.678Z"
   },
   {
    "duration": 4,
    "start_time": "2022-01-12T19:55:58.571Z"
   },
   {
    "duration": 848,
    "start_time": "2022-01-12T20:19:36.321Z"
   },
   {
    "duration": 170,
    "start_time": "2022-01-12T20:20:07.600Z"
   },
   {
    "duration": 102,
    "start_time": "2022-01-12T20:23:18.361Z"
   },
   {
    "duration": 4,
    "start_time": "2022-01-12T20:31:09.480Z"
   },
   {
    "duration": 4,
    "start_time": "2022-01-12T20:34:21.060Z"
   },
   {
    "duration": 3,
    "start_time": "2022-01-12T20:35:03.300Z"
   },
   {
    "duration": 273,
    "start_time": "2022-01-12T20:42:47.459Z"
   },
   {
    "duration": 158,
    "start_time": "2022-01-12T20:42:52.580Z"
   },
   {
    "duration": 4,
    "start_time": "2022-01-12T20:49:08.550Z"
   },
   {
    "duration": 19,
    "start_time": "2022-01-12T20:49:58.160Z"
   },
   {
    "duration": 8,
    "start_time": "2022-01-12T20:54:37.027Z"
   },
   {
    "duration": 7,
    "start_time": "2022-01-12T20:55:44.691Z"
   },
   {
    "duration": 152,
    "start_time": "2022-01-12T20:58:10.059Z"
   },
   {
    "duration": 2,
    "start_time": "2022-01-12T21:12:07.601Z"
   },
   {
    "duration": 54,
    "start_time": "2022-01-12T21:12:07.608Z"
   },
   {
    "duration": 15,
    "start_time": "2022-01-12T21:12:07.664Z"
   },
   {
    "duration": 27,
    "start_time": "2022-01-12T21:12:07.681Z"
   },
   {
    "duration": 5,
    "start_time": "2022-01-12T21:12:07.711Z"
   },
   {
    "duration": 5,
    "start_time": "2022-01-12T21:12:07.718Z"
   },
   {
    "duration": 16,
    "start_time": "2022-01-12T21:12:07.725Z"
   },
   {
    "duration": 6,
    "start_time": "2022-01-12T21:12:07.743Z"
   },
   {
    "duration": 47,
    "start_time": "2022-01-12T21:12:07.752Z"
   },
   {
    "duration": 9,
    "start_time": "2022-01-12T21:12:07.802Z"
   },
   {
    "duration": 37,
    "start_time": "2022-01-12T21:12:07.813Z"
   },
   {
    "duration": 47,
    "start_time": "2022-01-12T21:12:07.852Z"
   },
   {
    "duration": 4,
    "start_time": "2022-01-12T21:12:07.901Z"
   },
   {
    "duration": 12,
    "start_time": "2022-01-12T21:12:07.907Z"
   },
   {
    "duration": 27,
    "start_time": "2022-01-12T21:12:07.921Z"
   },
   {
    "duration": 21,
    "start_time": "2022-01-12T21:12:07.949Z"
   },
   {
    "duration": 30,
    "start_time": "2022-01-12T21:12:07.972Z"
   },
   {
    "duration": 7,
    "start_time": "2022-01-12T21:12:08.004Z"
   },
   {
    "duration": 17,
    "start_time": "2022-01-12T21:12:08.012Z"
   },
   {
    "duration": 3,
    "start_time": "2022-01-12T21:12:08.030Z"
   },
   {
    "duration": 11,
    "start_time": "2022-01-12T21:12:08.035Z"
   },
   {
    "duration": 13,
    "start_time": "2022-01-12T21:12:08.048Z"
   },
   {
    "duration": 47,
    "start_time": "2022-01-12T21:12:08.062Z"
   },
   {
    "duration": 16,
    "start_time": "2022-01-12T21:12:08.112Z"
   },
   {
    "duration": 14,
    "start_time": "2022-01-12T21:12:08.130Z"
   },
   {
    "duration": 16,
    "start_time": "2022-01-12T21:12:08.146Z"
   },
   {
    "duration": 700,
    "start_time": "2022-01-12T21:12:08.164Z"
   },
   {
    "duration": 3,
    "start_time": "2022-01-12T21:12:08.867Z"
   },
   {
    "duration": 39,
    "start_time": "2022-01-12T21:12:08.871Z"
   },
   {
    "duration": 12,
    "start_time": "2022-01-12T21:12:08.911Z"
   },
   {
    "duration": 3,
    "start_time": "2022-01-12T21:12:08.924Z"
   },
   {
    "duration": 27,
    "start_time": "2022-01-12T21:12:08.929Z"
   },
   {
    "duration": 4,
    "start_time": "2022-01-12T21:12:08.958Z"
   },
   {
    "duration": 6,
    "start_time": "2022-01-12T21:12:08.963Z"
   },
   {
    "duration": 4,
    "start_time": "2022-01-12T21:12:08.998Z"
   },
   {
    "duration": 15,
    "start_time": "2022-01-12T21:12:09.003Z"
   },
   {
    "duration": 4,
    "start_time": "2022-01-12T21:12:09.020Z"
   },
   {
    "duration": 2701,
    "start_time": "2022-01-12T21:12:09.025Z"
   },
   {
    "duration": 19,
    "start_time": "2022-01-12T21:12:11.728Z"
   },
   {
    "duration": 6,
    "start_time": "2022-01-12T21:12:11.749Z"
   },
   {
    "duration": 11,
    "start_time": "2022-01-12T21:12:11.757Z"
   },
   {
    "duration": 42,
    "start_time": "2022-01-12T21:12:11.770Z"
   },
   {
    "duration": 5,
    "start_time": "2022-01-12T21:12:11.814Z"
   },
   {
    "duration": 20,
    "start_time": "2022-01-12T21:12:11.821Z"
   },
   {
    "duration": 7,
    "start_time": "2022-01-12T21:12:11.843Z"
   },
   {
    "duration": 9,
    "start_time": "2022-01-12T21:12:11.852Z"
   },
   {
    "duration": 193,
    "start_time": "2022-01-12T21:12:11.863Z"
   },
   {
    "duration": 19,
    "start_time": "2022-01-12T21:12:12.058Z"
   },
   {
    "duration": 20,
    "start_time": "2022-01-12T21:12:12.079Z"
   },
   {
    "duration": 159,
    "start_time": "2022-01-12T21:12:12.100Z"
   },
   {
    "duration": 3,
    "start_time": "2022-01-12T21:12:34.340Z"
   },
   {
    "duration": 51,
    "start_time": "2022-01-12T21:12:34.348Z"
   },
   {
    "duration": 13,
    "start_time": "2022-01-12T21:12:34.400Z"
   },
   {
    "duration": 12,
    "start_time": "2022-01-12T21:12:34.414Z"
   },
   {
    "duration": 8,
    "start_time": "2022-01-12T21:12:34.427Z"
   },
   {
    "duration": 4,
    "start_time": "2022-01-12T21:12:34.436Z"
   },
   {
    "duration": 14,
    "start_time": "2022-01-12T21:12:34.442Z"
   },
   {
    "duration": 5,
    "start_time": "2022-01-12T21:12:34.458Z"
   },
   {
    "duration": 38,
    "start_time": "2022-01-12T21:12:34.464Z"
   },
   {
    "duration": 9,
    "start_time": "2022-01-12T21:12:34.504Z"
   },
   {
    "duration": 37,
    "start_time": "2022-01-12T21:12:34.515Z"
   },
   {
    "duration": 45,
    "start_time": "2022-01-12T21:12:34.554Z"
   },
   {
    "duration": 5,
    "start_time": "2022-01-12T21:12:34.600Z"
   },
   {
    "duration": 16,
    "start_time": "2022-01-12T21:12:34.607Z"
   },
   {
    "duration": 27,
    "start_time": "2022-01-12T21:12:34.625Z"
   },
   {
    "duration": 21,
    "start_time": "2022-01-12T21:12:34.654Z"
   },
   {
    "duration": 6,
    "start_time": "2022-01-12T21:12:34.698Z"
   },
   {
    "duration": 9,
    "start_time": "2022-01-12T21:12:34.705Z"
   },
   {
    "duration": 16,
    "start_time": "2022-01-12T21:12:34.715Z"
   },
   {
    "duration": 4,
    "start_time": "2022-01-12T21:12:34.733Z"
   },
   {
    "duration": 14,
    "start_time": "2022-01-12T21:12:34.738Z"
   },
   {
    "duration": 15,
    "start_time": "2022-01-12T21:12:34.754Z"
   },
   {
    "duration": 19,
    "start_time": "2022-01-12T21:12:34.799Z"
   },
   {
    "duration": 17,
    "start_time": "2022-01-12T21:12:34.820Z"
   },
   {
    "duration": 15,
    "start_time": "2022-01-12T21:12:34.838Z"
   },
   {
    "duration": 44,
    "start_time": "2022-01-12T21:12:34.854Z"
   },
   {
    "duration": 703,
    "start_time": "2022-01-12T21:12:34.900Z"
   },
   {
    "duration": 3,
    "start_time": "2022-01-12T21:12:35.608Z"
   },
   {
    "duration": 33,
    "start_time": "2022-01-12T21:12:35.612Z"
   },
   {
    "duration": 11,
    "start_time": "2022-01-12T21:12:35.646Z"
   },
   {
    "duration": 10,
    "start_time": "2022-01-12T21:12:35.659Z"
   },
   {
    "duration": 38,
    "start_time": "2022-01-12T21:12:35.670Z"
   },
   {
    "duration": 3,
    "start_time": "2022-01-12T21:12:35.710Z"
   },
   {
    "duration": 6,
    "start_time": "2022-01-12T21:12:35.715Z"
   },
   {
    "duration": 6,
    "start_time": "2022-01-12T21:12:35.722Z"
   },
   {
    "duration": 15,
    "start_time": "2022-01-12T21:12:35.729Z"
   },
   {
    "duration": 4,
    "start_time": "2022-01-12T21:12:35.746Z"
   },
   {
    "duration": 2695,
    "start_time": "2022-01-12T21:12:35.751Z"
   },
   {
    "duration": 17,
    "start_time": "2022-01-12T21:12:38.448Z"
   },
   {
    "duration": 5,
    "start_time": "2022-01-12T21:12:38.466Z"
   },
   {
    "duration": 26,
    "start_time": "2022-01-12T21:12:38.472Z"
   },
   {
    "duration": 18,
    "start_time": "2022-01-12T21:12:38.500Z"
   },
   {
    "duration": 5,
    "start_time": "2022-01-12T21:12:38.519Z"
   },
   {
    "duration": 19,
    "start_time": "2022-01-12T21:12:38.526Z"
   },
   {
    "duration": 8,
    "start_time": "2022-01-12T21:12:38.547Z"
   },
   {
    "duration": 41,
    "start_time": "2022-01-12T21:12:38.557Z"
   },
   {
    "duration": 163,
    "start_time": "2022-01-12T21:12:38.600Z"
   },
   {
    "duration": 20,
    "start_time": "2022-01-12T21:12:38.764Z"
   },
   {
    "duration": 16,
    "start_time": "2022-01-12T21:12:38.785Z"
   },
   {
    "duration": 228,
    "start_time": "2022-01-12T21:12:38.802Z"
   },
   {
    "duration": 540,
    "start_time": "2022-01-14T17:12:46.445Z"
   },
   {
    "duration": 44,
    "start_time": "2022-01-14T17:12:46.987Z"
   },
   {
    "duration": 17,
    "start_time": "2022-01-14T17:12:47.032Z"
   },
   {
    "duration": 10,
    "start_time": "2022-01-14T17:12:47.051Z"
   },
   {
    "duration": 5,
    "start_time": "2022-01-14T17:12:47.063Z"
   },
   {
    "duration": 4,
    "start_time": "2022-01-14T17:12:47.069Z"
   },
   {
    "duration": 13,
    "start_time": "2022-01-14T17:12:47.074Z"
   },
   {
    "duration": 26,
    "start_time": "2022-01-14T17:12:47.089Z"
   },
   {
    "duration": 4,
    "start_time": "2022-01-14T17:12:47.118Z"
   },
   {
    "duration": 6,
    "start_time": "2022-01-14T17:12:47.124Z"
   },
   {
    "duration": 32,
    "start_time": "2022-01-14T17:12:47.131Z"
   },
   {
    "duration": 49,
    "start_time": "2022-01-14T17:12:47.164Z"
   },
   {
    "duration": 5,
    "start_time": "2022-01-14T17:12:47.214Z"
   },
   {
    "duration": 11,
    "start_time": "2022-01-14T17:12:47.221Z"
   },
   {
    "duration": 24,
    "start_time": "2022-01-14T17:12:47.233Z"
   },
   {
    "duration": 18,
    "start_time": "2022-01-14T17:12:47.259Z"
   },
   {
    "duration": 34,
    "start_time": "2022-01-14T17:12:47.278Z"
   },
   {
    "duration": 6,
    "start_time": "2022-01-14T17:12:47.313Z"
   },
   {
    "duration": 15,
    "start_time": "2022-01-14T17:12:47.320Z"
   },
   {
    "duration": 3,
    "start_time": "2022-01-14T17:12:47.336Z"
   },
   {
    "duration": 13,
    "start_time": "2022-01-14T17:12:47.340Z"
   },
   {
    "duration": 9,
    "start_time": "2022-01-14T17:12:47.354Z"
   },
   {
    "duration": 15,
    "start_time": "2022-01-14T17:12:47.364Z"
   },
   {
    "duration": 43,
    "start_time": "2022-01-14T17:12:47.381Z"
   },
   {
    "duration": 13,
    "start_time": "2022-01-14T17:12:47.426Z"
   },
   {
    "duration": 4,
    "start_time": "2022-01-14T17:12:47.440Z"
   },
   {
    "duration": 616,
    "start_time": "2022-01-14T17:12:47.447Z"
   },
   {
    "duration": 2,
    "start_time": "2022-01-14T17:12:48.065Z"
   },
   {
    "duration": 20,
    "start_time": "2022-01-14T17:12:48.069Z"
   },
   {
    "duration": 26,
    "start_time": "2022-01-14T17:12:48.090Z"
   },
   {
    "duration": 3,
    "start_time": "2022-01-14T17:12:48.117Z"
   },
   {
    "duration": 21,
    "start_time": "2022-01-14T17:12:48.122Z"
   },
   {
    "duration": 3,
    "start_time": "2022-01-14T17:12:48.144Z"
   },
   {
    "duration": 5,
    "start_time": "2022-01-14T17:12:48.148Z"
   },
   {
    "duration": 4,
    "start_time": "2022-01-14T17:12:48.154Z"
   },
   {
    "duration": 13,
    "start_time": "2022-01-14T17:12:48.159Z"
   },
   {
    "duration": 3,
    "start_time": "2022-01-14T17:12:48.174Z"
   },
   {
    "duration": 3513,
    "start_time": "2022-01-14T17:12:48.178Z"
   },
   {
    "duration": 27,
    "start_time": "2022-01-14T17:12:51.693Z"
   },
   {
    "duration": 5,
    "start_time": "2022-01-14T17:12:51.721Z"
   },
   {
    "duration": 6,
    "start_time": "2022-01-14T17:12:51.728Z"
   },
   {
    "duration": 16,
    "start_time": "2022-01-14T17:12:51.736Z"
   },
   {
    "duration": 4,
    "start_time": "2022-01-14T17:12:51.754Z"
   },
   {
    "duration": 19,
    "start_time": "2022-01-14T17:12:51.759Z"
   },
   {
    "duration": 5,
    "start_time": "2022-01-14T17:12:51.779Z"
   },
   {
    "duration": 27,
    "start_time": "2022-01-14T17:12:51.786Z"
   },
   {
    "duration": 619,
    "start_time": "2022-01-14T17:12:51.814Z"
   },
   {
    "duration": 18,
    "start_time": "2022-01-14T17:12:52.435Z"
   },
   {
    "duration": 6,
    "start_time": "2022-01-14T17:12:52.454Z"
   },
   {
    "duration": 143,
    "start_time": "2022-01-14T17:12:52.461Z"
   },
   {
    "duration": 18,
    "start_time": "2022-01-14T18:40:17.020Z"
   },
   {
    "duration": 285,
    "start_time": "2022-01-15T10:21:51.198Z"
   },
   {
    "duration": 273,
    "start_time": "2022-01-15T10:21:59.590Z"
   },
   {
    "duration": 612,
    "start_time": "2022-01-15T10:22:08.448Z"
   },
   {
    "duration": 51,
    "start_time": "2022-01-15T10:22:11.496Z"
   },
   {
    "duration": 19,
    "start_time": "2022-01-15T10:22:17.288Z"
   },
   {
    "duration": 39,
    "start_time": "2022-01-15T10:22:24.568Z"
   },
   {
    "duration": 2,
    "start_time": "2022-01-15T10:32:47.301Z"
   },
   {
    "duration": 46,
    "start_time": "2022-01-15T10:32:48.721Z"
   },
   {
    "duration": 12,
    "start_time": "2022-01-15T10:32:49.169Z"
   },
   {
    "duration": 40,
    "start_time": "2022-01-15T10:32:50.009Z"
   },
   {
    "duration": 7,
    "start_time": "2022-01-15T10:32:58.689Z"
   },
   {
    "duration": 4,
    "start_time": "2022-01-15T10:33:00.217Z"
   },
   {
    "duration": 14,
    "start_time": "2022-01-15T10:33:03.109Z"
   },
   {
    "duration": 6,
    "start_time": "2022-01-15T10:33:05.329Z"
   },
   {
    "duration": 6,
    "start_time": "2022-01-15T10:33:05.889Z"
   },
   {
    "duration": 6,
    "start_time": "2022-01-15T10:33:10.341Z"
   },
   {
    "duration": 36,
    "start_time": "2022-01-15T10:33:14.409Z"
   },
   {
    "duration": 37,
    "start_time": "2022-01-15T10:33:22.717Z"
   },
   {
    "duration": 22,
    "start_time": "2022-01-15T10:33:44.290Z"
   },
   {
    "duration": 6,
    "start_time": "2022-01-15T10:35:59.802Z"
   },
   {
    "duration": 11,
    "start_time": "2022-01-15T10:36:01.194Z"
   },
   {
    "duration": 28,
    "start_time": "2022-01-15T10:36:10.374Z"
   },
   {
    "duration": 21,
    "start_time": "2022-01-15T10:36:14.534Z"
   },
   {
    "duration": 6,
    "start_time": "2022-01-15T10:36:15.035Z"
   },
   {
    "duration": 6,
    "start_time": "2022-01-15T10:36:16.194Z"
   },
   {
    "duration": 17,
    "start_time": "2022-01-15T10:37:54.494Z"
   },
   {
    "duration": 4,
    "start_time": "2022-01-15T10:38:04.767Z"
   },
   {
    "duration": 12,
    "start_time": "2022-01-15T10:38:09.350Z"
   },
   {
    "duration": 15,
    "start_time": "2022-01-15T10:38:11.638Z"
   },
   {
    "duration": 23,
    "start_time": "2022-01-15T10:38:56.488Z"
   },
   {
    "duration": 19,
    "start_time": "2022-01-15T10:38:57.290Z"
   },
   {
    "duration": 17,
    "start_time": "2022-01-15T10:38:58.310Z"
   },
   {
    "duration": 8,
    "start_time": "2022-01-15T10:39:07.550Z"
   },
   {
    "duration": 667,
    "start_time": "2022-01-15T10:39:14.851Z"
   },
   {
    "duration": 3,
    "start_time": "2022-01-15T10:39:29.191Z"
   },
   {
    "duration": 21,
    "start_time": "2022-01-15T10:39:33.171Z"
   },
   {
    "duration": 13,
    "start_time": "2022-01-15T10:39:37.030Z"
   },
   {
    "duration": 3,
    "start_time": "2022-01-15T10:39:38.231Z"
   },
   {
    "duration": 23,
    "start_time": "2022-01-15T10:39:40.411Z"
   },
   {
    "duration": 612,
    "start_time": "2022-01-15T11:05:11.665Z"
   },
   {
    "duration": 37,
    "start_time": "2022-01-15T11:08:18.638Z"
   },
   {
    "duration": 21,
    "start_time": "2022-01-15T11:43:53.829Z"
   },
   {
    "duration": 3,
    "start_time": "2022-01-15T11:44:02.429Z"
   },
   {
    "duration": 53,
    "start_time": "2022-01-15T11:44:02.436Z"
   },
   {
    "duration": 13,
    "start_time": "2022-01-15T11:44:02.492Z"
   },
   {
    "duration": 62,
    "start_time": "2022-01-15T11:44:02.506Z"
   },
   {
    "duration": 7,
    "start_time": "2022-01-15T11:44:02.570Z"
   },
   {
    "duration": 6,
    "start_time": "2022-01-15T11:44:02.579Z"
   },
   {
    "duration": 28,
    "start_time": "2022-01-15T11:44:02.586Z"
   },
   {
    "duration": 6,
    "start_time": "2022-01-15T11:44:02.616Z"
   },
   {
    "duration": 15,
    "start_time": "2022-01-15T11:44:02.625Z"
   },
   {
    "duration": 24,
    "start_time": "2022-01-15T11:44:02.642Z"
   },
   {
    "duration": 36,
    "start_time": "2022-01-15T11:44:02.668Z"
   },
   {
    "duration": 21,
    "start_time": "2022-01-15T11:44:02.705Z"
   },
   {
    "duration": 33,
    "start_time": "2022-01-15T11:44:02.728Z"
   },
   {
    "duration": 13,
    "start_time": "2022-01-15T11:44:02.763Z"
   },
   {
    "duration": 30,
    "start_time": "2022-01-15T11:44:02.778Z"
   },
   {
    "duration": 30,
    "start_time": "2022-01-15T11:44:02.809Z"
   },
   {
    "duration": 7,
    "start_time": "2022-01-15T11:44:02.861Z"
   },
   {
    "duration": 11,
    "start_time": "2022-01-15T11:44:02.870Z"
   },
   {
    "duration": 17,
    "start_time": "2022-01-15T11:44:02.883Z"
   },
   {
    "duration": 4,
    "start_time": "2022-01-15T11:44:02.901Z"
   },
   {
    "duration": 16,
    "start_time": "2022-01-15T11:44:02.907Z"
   },
   {
    "duration": 42,
    "start_time": "2022-01-15T11:44:02.925Z"
   },
   {
    "duration": 22,
    "start_time": "2022-01-15T11:44:02.969Z"
   },
   {
    "duration": 20,
    "start_time": "2022-01-15T11:44:02.995Z"
   },
   {
    "duration": 19,
    "start_time": "2022-01-15T11:44:03.017Z"
   },
   {
    "duration": 669,
    "start_time": "2022-01-15T11:44:03.061Z"
   },
   {
    "duration": 3,
    "start_time": "2022-01-15T11:44:03.732Z"
   },
   {
    "duration": 34,
    "start_time": "2022-01-15T11:44:03.737Z"
   },
   {
    "duration": 12,
    "start_time": "2022-01-15T11:44:03.772Z"
   },
   {
    "duration": 5,
    "start_time": "2022-01-15T11:44:03.785Z"
   },
   {
    "duration": 6,
    "start_time": "2022-01-15T11:44:03.791Z"
   },
   {
    "duration": 8,
    "start_time": "2022-01-15T11:44:03.799Z"
   },
   {
    "duration": 23,
    "start_time": "2022-01-15T11:44:03.809Z"
   },
   {
    "duration": 28,
    "start_time": "2022-01-15T11:44:03.834Z"
   },
   {
    "duration": 2972,
    "start_time": "2022-01-15T11:44:03.864Z"
   },
   {
    "duration": 31,
    "start_time": "2022-01-15T11:44:06.838Z"
   },
   {
    "duration": 5,
    "start_time": "2022-01-15T11:44:06.871Z"
   },
   {
    "duration": 24,
    "start_time": "2022-01-15T11:44:09.581Z"
   },
   {
    "duration": 18,
    "start_time": "2022-01-15T11:44:32.129Z"
   },
   {
    "duration": 50,
    "start_time": "2022-01-15T11:44:32.149Z"
   },
   {
    "duration": 13,
    "start_time": "2022-01-15T11:44:32.201Z"
   },
   {
    "duration": 56,
    "start_time": "2022-01-15T11:44:32.215Z"
   },
   {
    "duration": 5,
    "start_time": "2022-01-15T11:44:32.273Z"
   },
   {
    "duration": 17,
    "start_time": "2022-01-15T11:44:32.280Z"
   },
   {
    "duration": 30,
    "start_time": "2022-01-15T11:44:32.298Z"
   },
   {
    "duration": 5,
    "start_time": "2022-01-15T11:44:32.330Z"
   },
   {
    "duration": 16,
    "start_time": "2022-01-15T11:44:32.337Z"
   },
   {
    "duration": 35,
    "start_time": "2022-01-15T11:44:32.355Z"
   },
   {
    "duration": 6,
    "start_time": "2022-01-15T11:44:33.669Z"
   },
   {
    "duration": 35,
    "start_time": "2022-01-15T11:44:34.509Z"
   },
   {
    "duration": 22,
    "start_time": "2022-01-15T11:44:35.762Z"
   },
   {
    "duration": 6,
    "start_time": "2022-01-15T11:44:36.750Z"
   },
   {
    "duration": 11,
    "start_time": "2022-01-15T11:44:37.150Z"
   },
   {
    "duration": 29,
    "start_time": "2022-01-15T11:44:37.802Z"
   },
   {
    "duration": 22,
    "start_time": "2022-01-15T11:44:38.569Z"
   },
   {
    "duration": 6,
    "start_time": "2022-01-15T11:44:39.009Z"
   },
   {
    "duration": 7,
    "start_time": "2022-01-15T11:44:39.329Z"
   },
   {
    "duration": 17,
    "start_time": "2022-01-15T11:44:40.381Z"
   },
   {
    "duration": 4,
    "start_time": "2022-01-15T11:44:42.389Z"
   },
   {
    "duration": 12,
    "start_time": "2022-01-15T11:44:42.830Z"
   },
   {
    "duration": 12,
    "start_time": "2022-01-15T11:44:43.529Z"
   },
   {
    "duration": 19,
    "start_time": "2022-01-15T11:44:45.689Z"
   },
   {
    "duration": 17,
    "start_time": "2022-01-15T11:44:46.137Z"
   },
   {
    "duration": 16,
    "start_time": "2022-01-15T11:44:46.541Z"
   },
   {
    "duration": 637,
    "start_time": "2022-01-15T11:44:48.589Z"
   },
   {
    "duration": 4,
    "start_time": "2022-01-15T11:44:51.949Z"
   },
   {
    "duration": 22,
    "start_time": "2022-01-15T11:44:53.000Z"
   },
   {
    "duration": 13,
    "start_time": "2022-01-15T11:44:54.329Z"
   },
   {
    "duration": 5,
    "start_time": "2022-01-15T11:44:56.668Z"
   },
   {
    "duration": 4,
    "start_time": "2022-01-15T11:44:56.881Z"
   },
   {
    "duration": 3,
    "start_time": "2022-01-15T11:44:57.709Z"
   },
   {
    "duration": 13,
    "start_time": "2022-01-15T11:44:58.489Z"
   },
   {
    "duration": 3,
    "start_time": "2022-01-15T11:44:59.890Z"
   },
   {
    "duration": 3070,
    "start_time": "2022-01-15T11:45:00.737Z"
   },
   {
    "duration": 19,
    "start_time": "2022-01-15T11:45:13.629Z"
   },
   {
    "duration": 5,
    "start_time": "2022-01-15T11:45:14.489Z"
   },
   {
    "duration": 19,
    "start_time": "2022-01-15T11:45:21.089Z"
   },
   {
    "duration": 8,
    "start_time": "2022-01-15T11:47:31.739Z"
   },
   {
    "duration": 6,
    "start_time": "2022-01-15T11:50:21.715Z"
   },
   {
    "duration": 20,
    "start_time": "2022-01-15T11:51:56.467Z"
   },
   {
    "duration": 20,
    "start_time": "2022-01-15T11:52:44.688Z"
   },
   {
    "duration": 19,
    "start_time": "2022-01-15T11:52:46.747Z"
   },
   {
    "duration": 22,
    "start_time": "2022-01-15T11:52:51.587Z"
   },
   {
    "duration": 9956,
    "start_time": "2022-01-15T11:54:06.882Z"
   },
   {
    "duration": 1111,
    "start_time": "2022-01-15T11:54:57.751Z"
   },
   {
    "duration": 8612,
    "start_time": "2022-01-15T11:55:12.907Z"
   },
   {
    "duration": 5211,
    "start_time": "2022-01-15T11:55:35.847Z"
   },
   {
    "duration": 4868,
    "start_time": "2022-01-15T11:55:46.579Z"
   },
   {
    "duration": 5,
    "start_time": "2022-01-15T11:55:59.287Z"
   },
   {
    "duration": 4,
    "start_time": "2022-01-15T11:56:04.767Z"
   },
   {
    "duration": 5,
    "start_time": "2022-01-15T11:57:54.027Z"
   },
   {
    "duration": 8,
    "start_time": "2022-01-15T11:59:46.116Z"
   },
   {
    "duration": 11,
    "start_time": "2022-01-15T11:59:59.996Z"
   },
   {
    "duration": 9,
    "start_time": "2022-01-15T12:02:04.783Z"
   },
   {
    "duration": 8,
    "start_time": "2022-01-15T12:02:13.026Z"
   },
   {
    "duration": 8,
    "start_time": "2022-01-15T12:02:32.878Z"
   },
   {
    "duration": 8,
    "start_time": "2022-01-15T12:02:57.515Z"
   },
   {
    "duration": 7,
    "start_time": "2022-01-15T12:03:23.634Z"
   },
   {
    "duration": 7,
    "start_time": "2022-01-15T12:03:54.698Z"
   },
   {
    "duration": 8,
    "start_time": "2022-01-15T12:03:58.995Z"
   },
   {
    "duration": 8,
    "start_time": "2022-01-15T12:04:17.414Z"
   },
   {
    "duration": 8,
    "start_time": "2022-01-15T12:04:44.014Z"
   },
   {
    "duration": 8,
    "start_time": "2022-01-15T12:04:50.834Z"
   },
   {
    "duration": 8,
    "start_time": "2022-01-15T12:05:46.634Z"
   },
   {
    "duration": 269,
    "start_time": "2022-01-15T12:10:45.470Z"
   },
   {
    "duration": 10,
    "start_time": "2022-01-15T12:10:55.094Z"
   },
   {
    "duration": 18,
    "start_time": "2022-01-15T12:10:59.107Z"
   },
   {
    "duration": 8,
    "start_time": "2022-01-15T12:11:00.414Z"
   },
   {
    "duration": 140,
    "start_time": "2022-01-15T12:11:19.666Z"
   },
   {
    "duration": 19,
    "start_time": "2022-01-15T12:13:59.446Z"
   },
   {
    "duration": 7,
    "start_time": "2022-01-15T12:14:00.894Z"
   },
   {
    "duration": 6,
    "start_time": "2022-01-15T12:14:12.074Z"
   },
   {
    "duration": 6,
    "start_time": "2022-01-15T12:14:21.235Z"
   },
   {
    "duration": 131,
    "start_time": "2022-01-15T12:14:23.066Z"
   },
   {
    "duration": 201,
    "start_time": "2022-01-15T12:20:03.326Z"
   },
   {
    "duration": 142,
    "start_time": "2022-01-15T12:21:17.826Z"
   },
   {
    "duration": 19,
    "start_time": "2022-01-15T12:28:40.097Z"
   },
   {
    "duration": 61,
    "start_time": "2022-01-15T12:28:40.118Z"
   },
   {
    "duration": 33,
    "start_time": "2022-01-15T12:28:40.181Z"
   },
   {
    "duration": 80,
    "start_time": "2022-01-15T12:28:40.215Z"
   },
   {
    "duration": 6,
    "start_time": "2022-01-15T12:28:40.297Z"
   },
   {
    "duration": 15,
    "start_time": "2022-01-15T12:28:40.305Z"
   },
   {
    "duration": 57,
    "start_time": "2022-01-15T12:28:40.322Z"
   },
   {
    "duration": 7,
    "start_time": "2022-01-15T12:28:40.382Z"
   },
   {
    "duration": 17,
    "start_time": "2022-01-15T12:28:40.391Z"
   },
   {
    "duration": 15,
    "start_time": "2022-01-15T12:28:40.409Z"
   },
   {
    "duration": 70,
    "start_time": "2022-01-15T12:28:40.427Z"
   },
   {
    "duration": 30,
    "start_time": "2022-01-15T12:28:40.500Z"
   },
   {
    "duration": 5,
    "start_time": "2022-01-15T12:28:40.533Z"
   },
   {
    "duration": 26,
    "start_time": "2022-01-15T12:28:40.539Z"
   },
   {
    "duration": 31,
    "start_time": "2022-01-15T12:28:40.567Z"
   },
   {
    "duration": 20,
    "start_time": "2022-01-15T12:28:40.600Z"
   },
   {
    "duration": 7,
    "start_time": "2022-01-15T12:28:40.622Z"
   },
   {
    "duration": 30,
    "start_time": "2022-01-15T12:28:40.631Z"
   },
   {
    "duration": 21,
    "start_time": "2022-01-15T12:28:40.662Z"
   },
   {
    "duration": 5,
    "start_time": "2022-01-15T12:28:40.685Z"
   },
   {
    "duration": 13,
    "start_time": "2022-01-15T12:28:40.691Z"
   },
   {
    "duration": 13,
    "start_time": "2022-01-15T12:28:40.706Z"
   },
   {
    "duration": 47,
    "start_time": "2022-01-15T12:28:40.722Z"
   },
   {
    "duration": 20,
    "start_time": "2022-01-15T12:28:40.771Z"
   },
   {
    "duration": 16,
    "start_time": "2022-01-15T12:28:40.793Z"
   },
   {
    "duration": 749,
    "start_time": "2022-01-15T12:28:40.811Z"
   },
   {
    "duration": 3,
    "start_time": "2022-01-15T12:28:41.562Z"
   },
   {
    "duration": 46,
    "start_time": "2022-01-15T12:28:41.567Z"
   },
   {
    "duration": 12,
    "start_time": "2022-01-15T12:28:41.615Z"
   },
   {
    "duration": 31,
    "start_time": "2022-01-15T12:28:41.629Z"
   },
   {
    "duration": 22,
    "start_time": "2022-01-15T12:28:41.662Z"
   },
   {
    "duration": 11,
    "start_time": "2022-01-15T12:28:41.685Z"
   },
   {
    "duration": 34,
    "start_time": "2022-01-15T12:28:41.697Z"
   },
   {
    "duration": 4,
    "start_time": "2022-01-15T12:28:41.734Z"
   },
   {
    "duration": 2950,
    "start_time": "2022-01-15T12:28:41.740Z"
   },
   {
    "duration": 19,
    "start_time": "2022-01-15T12:28:44.691Z"
   },
   {
    "duration": 5,
    "start_time": "2022-01-15T12:28:44.711Z"
   },
   {
    "duration": 30,
    "start_time": "2022-01-15T12:28:44.718Z"
   },
   {
    "duration": 18,
    "start_time": "2022-01-15T12:28:44.761Z"
   },
   {
    "duration": 5,
    "start_time": "2022-01-15T12:28:44.781Z"
   },
   {
    "duration": 8,
    "start_time": "2022-01-15T12:28:44.788Z"
   },
   {
    "duration": 169,
    "start_time": "2022-01-15T12:28:44.798Z"
   },
   {
    "duration": 17,
    "start_time": "2022-01-15T12:28:44.968Z"
   },
   {
    "duration": 6,
    "start_time": "2022-01-15T12:28:44.987Z"
   },
   {
    "duration": 165,
    "start_time": "2022-01-15T12:28:44.995Z"
   },
   {
    "duration": 21,
    "start_time": "2022-01-15T12:28:45.162Z"
   },
   {
    "duration": 7,
    "start_time": "2022-01-15T12:28:45.185Z"
   },
   {
    "duration": 234,
    "start_time": "2022-01-15T12:28:45.194Z"
   }
  ],
  "kernelspec": {
   "display_name": "Python 3 (ipykernel)",
   "language": "python",
   "name": "python3"
  },
  "language_info": {
   "codemirror_mode": {
    "name": "ipython",
    "version": 3
   },
   "file_extension": ".py",
   "mimetype": "text/x-python",
   "name": "python",
   "nbconvert_exporter": "python",
   "pygments_lexer": "ipython3",
   "version": "3.9.5"
  },
  "toc": {
   "base_numbering": 1,
   "nav_menu": {},
   "number_sections": false,
   "sideBar": true,
   "skip_h1_title": false,
   "title_cell": "Table of Contents",
   "title_sidebar": "Contents",
   "toc_cell": false,
   "toc_position": {
    "height": "calc(100% - 180px)",
    "left": "10px",
    "top": "150px",
    "width": "302.391px"
   },
   "toc_section_display": true,
   "toc_window_display": true
  }
 },
 "nbformat": 4,
 "nbformat_minor": 2
}
